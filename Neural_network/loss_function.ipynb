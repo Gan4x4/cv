{
  "nbformat": 4,
  "nbformat_minor": 0,
  "metadata": {
    "colab": {
      "provenance": [],
      "toc_visible": true
    },
    "kernelspec": {
      "name": "python3",
      "display_name": "Python 3"
    },
    "language_info": {
      "name": "python"
    }
  },
  "cells": [
    {
      "cell_type": "markdown",
      "metadata": {
        "id": "B4zCbsiCU8sJ"
      },
      "source": [
        "#  Функции потерь (loss functions)"
      ]
    },
    {
      "cell_type": "markdown",
      "metadata": {
        "id": "eSu-dLytU8sJ"
      },
      "source": [
        "Функция потерь измеряет точность нейронной сети, оценивая расхождение между предсказанными результатами и истинными значениями. Она принимает два аргумента:\n",
        "\n",
        "- Вектор истинных значений.\n",
        "- Вектор предсказанных значений.\n",
        "\n",
        "Для успешного обучения с использованием градиентного спуска функция потерь должна быть дифференцируемой и ограниченной снизу.\n",
        "Рассмотрим наиболее часто применяемые функции потерь и то, как устроены их реализации в PyTorch и как ими пользоваться.\n",
        "\n",
        "[[doc] 🛠️ Функции потерь в PyTorch](https://pytorch.org/docs/stable/nn.html#loss-functions)"
      ]
    },
    {
      "cell_type": "markdown",
      "metadata": {
        "id": "iG9xfrIvU8sJ"
      },
      "source": [
        "##  Mean Squared Error"
      ]
    },
    {
      "cell_type": "markdown",
      "metadata": {
        "id": "a9zLAqrTU8sJ"
      },
      "source": [
        "Средняя квадратическая ошибка (MSE) — популярная функция потерь для задач регрессии, где модель предсказывает вещественные числа."
      ]
    },
    {
      "cell_type": "markdown",
      "metadata": {
        "id": "x4Ix49klU8sJ"
      },
      "source": [
        "Для $i$-го объекта выборки, если выходной вектор состоит из $C$ компонент, средняя квадратическая ошибка между выходом модели $\\hat{y}$ и целевым вектором $y$ будет равна\n",
        "\n",
        "$$\\large \\text{MSE}_i\\left(\\hat{y},y\\right)=\\frac{1}{C} \\sum_{k=1}^{C}{\\left(\\hat{y}_{ik}-y_{ik}\\right)^2}$$\n",
        "\n"
      ]
    },
    {
      "cell_type": "markdown",
      "metadata": {
        "id": "VJ0AWaQOU8sJ"
      },
      "source": [
        "**Примечание, относящееся ко всем функциям потерь в PyTorch, которые будут рассмотрены ниже.**\n",
        "\n",
        "При вычислении по всему набору данных (или по мини-батчу) из $N$ объектов ошибка на отдельных объектах может усредняться или суммироваться. За это отвечает параметр `reduction`, который принимает значения `'mean'` или `'sum'`, а также может принимать значение `'none'`, при котором агрегация производиться не будет, и тогда функция будет возвращать тензор значений размером $N$.\n",
        "\n",
        "**По умолчанию в большинстве функций потерь в PyTorch `reduction='mean'`.**\n"
      ]
    },
    {
      "cell_type": "markdown",
      "metadata": {
        "id": "uBrfh7tzU8sJ"
      },
      "source": [
        "[[doc] 🛠️ MSE Loss в PyTorch](https://pytorch.org/docs/stable/generated/torch.nn.MSELoss.html#torch.nn.MSELoss):\n",
        "```python\n",
        "torch.nn.MSELoss()\n",
        "```"
      ]
    },
    {
      "cell_type": "code",
      "execution_count": null,
      "metadata": {
        "id": "Uxi-eIU5U8sJ",
        "colab": {
          "base_uri": "https://localhost:8080/"
        },
        "outputId": "93cf100a-1306-4cc5-d5ee-74bb9deebb2c"
      },
      "outputs": [
        {
          "output_type": "stream",
          "name": "stdout",
          "text": [
            "model_output: tensor([ 0.5000, -0.2500,  0.7500])\n",
            "target: tensor([1.0000, 0.2500, 0.2500])\n",
            "loss_mse: 0.25\n"
          ]
        }
      ],
      "source": [
        "import torch\n",
        "from torch import nn\n",
        "\n",
        "criterion = nn.MSELoss()\n",
        "\n",
        "# batch of 1 element and 3 components in output vector\n",
        "model_output = torch.Tensor([0.5, -0.25, 0.75])\n",
        "print(f\"model_output: {model_output}\")\n",
        "\n",
        "target = torch.Tensor([1, 0.25, 0.25])\n",
        "print(f\"target: {target}\")\n",
        "\n",
        "loss_mse = criterion(model_output, target)\n",
        "print(f\"loss_mse: {loss_mse}\")"
      ]
    },
    {
      "cell_type": "markdown",
      "metadata": {
        "id": "gOBFhZkcU8sK"
      },
      "source": [
        "- **Преимущество:** MSE штрафует за большие ошибки в предсказаниях, так как ошибки возводятся в квадрат.\n",
        "\n",
        "- **Недостаток:** MSE сильно акцентируется на выбросах, что может быть нежелательно для задач, где важнее высокая точность на большинстве примеров, а не устранение одиночных выбросов."
      ]
    },
    {
      "cell_type": "markdown",
      "metadata": {
        "id": "cFatFKNNU8sK"
      },
      "source": [
        "##  Mean Absolute Error"
      ]
    },
    {
      "cell_type": "markdown",
      "metadata": {
        "id": "HnQKiSnUU8sK"
      },
      "source": [
        "Средняя абсолютная ошибка (MAE) также применяется для задач регрессии. В отличие от MSE, которая акцентируется на крупных выбросах (ошибка $L_2$), MAE, будучи $L_1$ ошибкой, имеет другие свойства и может быть более устойчивой к выбросам."
      ]
    },
    {
      "cell_type": "markdown",
      "metadata": {
        "id": "nQJqOw-3U8sK"
      },
      "source": [
        "Для $i$-го объекта выборки, если выходной вектор состоит из $C$ компонент, средняя абсолютная ошибка между выходом модели $\\hat{y}$ и целевым вектором $y$ будет равна:\n",
        "\n",
        "$$\\large \\text{MAE}_i\\left(\\hat{y},y\\right)=\\frac{1}{C} \\sum_{k=1}^{C}{| \\hat{y}_{ik}-y_{ik}|}$$\n"
      ]
    },
    {
      "cell_type": "markdown",
      "metadata": {
        "id": "lm5hzF-VU8sK"
      },
      "source": [
        "[[doc] 🛠️ MAE Loss в PyTorch](https://pytorch.org/docs/stable/generated/torch.nn.L1Loss.html#torch.nn.L1Loss):\n",
        "```python\n",
        "torch.nn.L1Loss()\n",
        "```"
      ]
    },
    {
      "cell_type": "code",
      "execution_count": null,
      "metadata": {
        "id": "8ETmyOUBU8sK",
        "colab": {
          "base_uri": "https://localhost:8080/"
        },
        "outputId": "6acbc405-01ab-4362-8459-af6bd9e18802"
      },
      "outputs": [
        {
          "output_type": "stream",
          "name": "stdout",
          "text": [
            "model_output: tensor([ 0.5000, -0.2500,  0.7500])\n",
            "target: tensor([1.0000, 0.2500, 0.2500])\n",
            "loss_mae: 0.5\n"
          ]
        }
      ],
      "source": [
        "criterion = nn.L1Loss()\n",
        "\n",
        "# batch of 1 element and 3 components in output vector\n",
        "model_output = torch.Tensor([0.5, -0.25, 0.75])\n",
        "print(f\"model_output: {model_output}\")\n",
        "\n",
        "target = torch.Tensor([1, 0.25, 0.25])\n",
        "print(f\"target: {target}\")\n",
        "\n",
        "loss_mae = criterion(model_output, target)\n",
        "print(f\"loss_mae: {loss_mae}\")"
      ]
    },
    {
      "cell_type": "markdown",
      "metadata": {
        "id": "V64gFT0PU8sK"
      },
      "source": [
        "- **Преимущество:** MAE учитывает все ошибки равнозначно и менее чувствительна к выбросам по сравнению с MSE.\n",
        "\n",
        "- **Недостаток:** Использование MAE может привести к большим ошибкам на отдельных примерах, поскольку модель фокусируется на общей точности, а не на устранении выбросов."
      ]
    },
    {
      "cell_type": "markdown",
      "metadata": {
        "id": "gI4b1UWnU8sK"
      },
      "source": [
        "## Huber Loss"
      ]
    },
    {
      "cell_type": "markdown",
      "metadata": {
        "id": "Kkw-OjRzU8sK"
      },
      "source": [
        "Huber Loss комбинирует среднюю квадратическую ошибку (MSE) и среднюю абсолютную ошибку (MAE). Она применима к задачам регрессии и используется для улучшения устойчивости модели к выбросам. Huber Loss ведёт себя как MSE для небольших ошибок и как MAE для больших ошибок, что позволяет сбалансировать точность и устойчивость. Выбор порога, при котором происходит переключение между MSE и MAE, задаётся гиперпараметром $\\delta$."
      ]
    },
    {
      "cell_type": "markdown",
      "metadata": {
        "id": "Y1y82dl9U8sK"
      },
      "source": [
        "<center><img src=\"https://ml.gan4x4.ru/msu/dev-2.2/L05/out/mse_mae_huber_losses.png\" width=\"750\"></img></center>"
      ]
    },
    {
      "cell_type": "markdown",
      "metadata": {
        "id": "pJ9FN7jHU8sK"
      },
      "source": [
        "Для $i$-го объекта выборки, если выходной вектор состоит из $C$ компонент, Huber Loss между выходом модели $\\hat{y}$ и целевым вектором $y$ будет равна:\n",
        "\n",
        "$$\\large \\text{Huber Loss}_i(\\hat{y},y)=\\frac{1}{C} \\sum_{k=1}^{C}{l_{ik}}$$\n",
        "\n",
        "где\n",
        "\n",
        "$$\\large\n",
        "l_{ik} =\n",
        "\\begin{cases}\n",
        "\\frac{1}{2} \\left(\\hat{y}_{ik}-y_{ik}\\right)^2, & \\text{if}\\ \\  |\\hat{y}_{ik}-y_{ik}| < \\delta \\\\\n",
        "\\delta \\left(|\\hat{y}_{ik}-y_{ik}| - \\frac{1}{2} \\delta\\right), & \\text{else}\n",
        "\\end{cases}\n",
        "$$\n",
        "\n"
      ]
    },
    {
      "cell_type": "markdown",
      "metadata": {
        "id": "_Qd_UW91U8sK"
      },
      "source": [
        "[[doc] 🛠️ Huber Loss в PyTorch](https://pytorch.org/docs/stable/generated/torch.nn.HuberLoss.html):\n",
        "```python\n",
        "torch.nn.HuberLoss()\n",
        "```"
      ]
    },
    {
      "cell_type": "code",
      "execution_count": null,
      "metadata": {
        "id": "ibgA3KHXU8sK",
        "colab": {
          "base_uri": "https://localhost:8080/"
        },
        "outputId": "734fd27e-125c-447f-d67f-89c9f331cec2"
      },
      "outputs": [
        {
          "output_type": "stream",
          "name": "stdout",
          "text": [
            "model_output: tensor([ 0.5000, -0.2500,  0.7500])\n",
            "target: tensor([1.0000, 0.2500, 0.2500])\n",
            "huber_loss: 0.125\n"
          ]
        }
      ],
      "source": [
        "criterion = nn.HuberLoss()\n",
        "\n",
        "# batch of 1 element and 3 components in output vector\n",
        "model_output = torch.Tensor([0.5, -0.25, 0.75])\n",
        "print(f\"model_output: {model_output}\")\n",
        "\n",
        "target = torch.Tensor([1, 0.25, 0.25])\n",
        "print(f\"target: {target}\")\n",
        "\n",
        "huber_loss = criterion(model_output, target)\n",
        "print(f\"huber_loss: {huber_loss}\")"
      ]
    },
    {
      "cell_type": "markdown",
      "metadata": {
        "id": "nSttitcLU8sK"
      },
      "source": [
        "Huber Loss комбинирует преимущества MSE и MAE и позволяет сбалансировать точность и устойчивость модели к выбросам, но требует выбора значения гиперпараметра $\\delta$."
      ]
    },
    {
      "cell_type": "markdown",
      "metadata": {
        "id": "2ecyh7gXU8sL"
      },
      "source": [
        "##  Cross-Entropy"
      ]
    },
    {
      "cell_type": "markdown",
      "metadata": {
        "id": "gGtap7gbU8sL"
      },
      "source": [
        "Кросс-энтропия — это функция потерь, используемая для измерения несовпадения между двумя вероятностными распределениями, и она широко применяется в задачах классификации. Кросс-энтропия как функция потерь оценивает различие между истинными метками классов и предсказаниями модели."
      ]
    },
    {
      "cell_type": "markdown",
      "metadata": {
        "id": "Wq_QIlaBU8sL"
      },
      "source": [
        "Для $i$-го объекта выборки, если выходной вектор состоит из $C$ компонент (**логитов** для $C$ классов), кросс-энтропия между выходом модели $\\hat{y}$ и целевым вектором $y$ будет равна\n",
        "\n",
        "$$\\large \\text{CE}_i(\\hat{y},y)= - \\sum_{k=1}^{C}{y_{ik}\\cdot\\log\\left(\\frac{\\exp(\\hat{y}_{ik})}{\\sum_{j=1}^{C}\\exp(\\hat{y}_{ij})}\\right)}$$\n"
      ]
    },
    {
      "cell_type": "markdown",
      "metadata": {
        "id": "ZdJLkKcdU8sL"
      },
      "source": [
        "[[doc] 🛠️ Cross-Entropy Loss в PyTorch](https://pytorch.org/docs/stable/generated/torch.nn.CrossEntropyLoss.html#torch.nn.CrossEntropyLoss):\n",
        "```python\n",
        "torch.nn.CrossEntropyLoss()\n",
        "```\n",
        "\n",
        "Обратите внимание, что Cross-Entropy Loss в PyTorch уже включает в себя Softmax и принимает в качестве выхода модели логиты. Поэтому при использовании данной фукции потерь ставить на последнем слое нейронной сети Softmax **не нужно**."
      ]
    },
    {
      "cell_type": "code",
      "execution_count": null,
      "metadata": {
        "id": "GlYeYXGaU8sL",
        "colab": {
          "base_uri": "https://localhost:8080/"
        },
        "outputId": "3a1fb6c3-8045-4a80-e840-70423ddf2410"
      },
      "outputs": [
        {
          "output_type": "stream",
          "name": "stdout",
          "text": [
            "model_output:\n",
            " tensor([[2.4000, 1.9000, 7.3000],\n",
            "        [9.5000, 2.7000, 4.0000],\n",
            "        [5.7000, 4.1000, 0.2000]])\n",
            "target: tensor([2, 0, 1])\n",
            "loss_ce: 0.6014580726623535\n"
          ]
        }
      ],
      "source": [
        "criterion = nn.CrossEntropyLoss()\n",
        "\n",
        "\n",
        "# fmt: off\n",
        "model_output = torch.tensor([[2.4, 1.9, 7.3],\n",
        "                             [9.5, 2.7, 4.0],\n",
        "                             [5.7, 4.1, 0.2]])  # logits\n",
        "# fmt: on\n",
        "\n",
        "print(f\"model_output:\\n {model_output}\")\n",
        "\n",
        "target = torch.tensor([2, 0, 1], dtype=torch.long)  # class labels\n",
        "print(f\"target: {target}\")\n",
        "\n",
        "loss_ce = criterion(model_output, target)\n",
        "print(f\"loss_ce: {loss_ce}\")"
      ]
    },
    {
      "cell_type": "markdown",
      "metadata": {
        "id": "aH_IL-ZEU8sL"
      },
      "source": [
        "$$\\text{CE}_1 = - \\log\\left(\\frac{\\exp{(7.3)}}{\\exp{(2.4)}+\\exp{(1.9)}+\\exp{(7.3)}}\\right)$$\n",
        "\n",
        "$$\\text{CE}_2 = - \\log\\left(\\frac{\\exp{(9.5)}}{\\exp{(9.5)}+\\exp{(2.7)}+\\exp{(4.0)}}\\right)$$\n",
        "\n",
        "$$\\text{CE}_3 = - \\log\\left(\\frac{\\exp{(4.1)}}{\\exp{(5.7)}+\\exp{(4.1)}+\\exp{(0.2)}}\\right)$$\n",
        "\n",
        "$$\\text{CE} = \\frac{1}{3}(\\text{CE}_1 + \\text{CE}_2 + \\text{CE}_3)$$"
      ]
    },
    {
      "cell_type": "code",
      "execution_count": null,
      "metadata": {
        "id": "aBwnLdfPU8sL",
        "colab": {
          "base_uri": "https://localhost:8080/"
        },
        "outputId": "7a3e301a-7356-4bd3-9715-48e0cd0785f4"
      },
      "outputs": [
        {
          "output_type": "stream",
          "name": "stdout",
          "text": [
            "hand-calculated loss_ce: 0.601458161156722\n"
          ]
        }
      ],
      "source": [
        "import numpy as np\n",
        "\n",
        "ce_1 = -np.log(np.exp(7.3) / (np.exp(2.4) + np.exp(1.9) + np.exp(7.3)))\n",
        "ce_2 = -np.log(np.exp(9.5) / (np.exp(9.5) + np.exp(2.7) + np.exp(4.0)))\n",
        "ce_3 = -np.log(np.exp(4.1) / (np.exp(5.7) + np.exp(4.1) + np.exp(0.2)))\n",
        "\n",
        "ce = (1 / 3) * (ce_1 + ce_2 + ce_3)\n",
        "print(f\"hand-calculated loss_ce: {ce}\")"
      ]
    },
    {
      "cell_type": "markdown",
      "metadata": {
        "id": "zFVSMAH8U8sL"
      },
      "source": [
        "- **Преимущество:** Кросс-энтропия может учитывать веса классов, что делает её полезной для работы с несбалансированными датасетами.\n",
        "\n",
        "- **Недостаток:** Кросс-энтропия может быть чувствительна к шуму в данных, что может привести к переобучению, особенно если модель делает сильные, но ошибочные предсказания."
      ]
    },
    {
      "cell_type": "markdown",
      "metadata": {
        "id": "tUbKMLPMU8sL"
      },
      "source": [
        "### Веса классов\n",
        "\n",
        "При работе с несбалансированными данными модель может сосредоточиться на доминирующем классе, игнорируя признаки объектов. Например, в датасете с 95% объектов класса 1 и 5% — класса 0, модель может просто присваивать всем объектам класс 1, достигая 95% точности.\n",
        "\n",
        "Чтобы учесть дисбаланс, можно модифицировать функцию потерь, увеличивая штраф за ошибки в минорных классах. В PyTorch параметр `weight` в `CrossEntropyLoss` [🛠️[doc]](https://pytorch.org/docs/stable/generated/torch.nn.CrossEntropyLoss.html) позволяет задать веса для каждого класса, корректируя функцию потерь с учетом дисбаланса."
      ]
    },
    {
      "cell_type": "markdown",
      "metadata": {
        "id": "VaGwJr8LU8sL"
      },
      "source": [
        "Посмотрим, как это работает. Допустим, мы получили от нейросети неверные предсказания: второй объект должен относиться к классу $1$, а не $0$:"
      ]
    },
    {
      "cell_type": "code",
      "execution_count": null,
      "metadata": {
        "id": "Af-RFnKRU8sL"
      },
      "outputs": [],
      "source": [
        "# fmt: off\n",
        "# Scores for batch of two samples\n",
        "model_output = torch.tensor([[30.0, 2.0],\n",
        "                             [30.0, 2.0]])\n",
        "\n",
        "target = torch.tensor([0, 1])  # Second sample belongs to class 1\n",
        "# but logit for class 0 is greater: 30 > 2. So it was misclassified\n",
        "# fmt: on"
      ]
    },
    {
      "cell_type": "markdown",
      "metadata": {
        "id": "iQ131LfJU8sL"
      },
      "source": [
        "Подсчитаем Cross-Entropy Loss без весов:"
      ]
    },
    {
      "cell_type": "markdown",
      "metadata": {
        "id": "VCqIBVQdU8sL"
      },
      "source": [
        "$$\\large \\text{CE} = \\frac{1}{2} \\biggr[- \\log\\frac{e^{30}}{e^{30}+e^{2}} - \\log\\frac{e^{2}}{e^{30}+e^{2}}\\biggr]\\approx 14.0 $$"
      ]
    },
    {
      "cell_type": "code",
      "execution_count": null,
      "metadata": {
        "id": "-zTDUyyaU8sL",
        "colab": {
          "base_uri": "https://localhost:8080/"
        },
        "outputId": "3ba9819b-ad05-4fe9-e16c-cc81f72beff6"
      },
      "outputs": [
        {
          "output_type": "stream",
          "name": "stdout",
          "text": [
            "Loss = 14.00\n"
          ]
        }
      ],
      "source": [
        "criterion = torch.nn.CrossEntropyLoss()\n",
        "loss = criterion(model_output, target)\n",
        "print(f\"Loss = {loss.item():.2f}\")"
      ]
    },
    {
      "cell_type": "markdown",
      "metadata": {
        "id": "NEhS0uO_U8sM"
      },
      "source": [
        "Если у нас есть два класса с соотношением $4:1$, можно задать веса `weight = [0.2, 0.8]`. И, так как сеть ошиблась на классе с большим весом, ошибка вырастет:"
      ]
    },
    {
      "cell_type": "markdown",
      "metadata": {
        "id": "9V_TdeaLU8sM"
      },
      "source": [
        "$$\\large \\text{CE}_{\\text{weighted}} =  \\biggr[\\mathbf{-0.2} \\log\\frac{e^{30}}{e^{30}+e^{2}} -\\mathbf{0.8} \\log\\frac{e^{2}}{e^{30}+e^{2}}\\biggr]\\approx 22.4 $$"
      ]
    },
    {
      "cell_type": "code",
      "execution_count": null,
      "metadata": {
        "id": "tIoh13eNU8sM",
        "colab": {
          "base_uri": "https://localhost:8080/"
        },
        "outputId": "2150f370-6679-4621-c319-993be4f6dbe2"
      },
      "outputs": [
        {
          "output_type": "stream",
          "name": "stdout",
          "text": [
            "Loss = 22.40\n"
          ]
        }
      ],
      "source": [
        "weights = torch.tensor([0.2, 0.8])\n",
        "criterion = torch.nn.CrossEntropyLoss(weight=weights)\n",
        "loss = criterion(model_output, target)\n",
        "print(f\"Loss = {loss.item():.2f}\")"
      ]
    },
    {
      "cell_type": "markdown",
      "metadata": {
        "id": "fBIpdQ0GU8sM"
      },
      "source": [
        "Сумма весов не обязана быть равной единице, важно только соотношение между весами. Часто соотношение весов делают обратно пропорциональным количеству объектов в классах."
      ]
    },
    {
      "cell_type": "code",
      "execution_count": null,
      "metadata": {
        "id": "9q-mjQTSU8sM",
        "colab": {
          "base_uri": "https://localhost:8080/"
        },
        "outputId": "a3368903-1124-45d5-eddb-523cf0468a7a"
      },
      "outputs": [
        {
          "output_type": "stream",
          "name": "stdout",
          "text": [
            "Loss = 22.40\n"
          ]
        }
      ],
      "source": [
        "criterion = torch.nn.CrossEntropyLoss(weight=torch.tensor([1.0, 4.0]))\n",
        "loss = criterion(model_output, target)\n",
        "print(f\"Loss = {loss.item():.2f}\")"
      ]
    },
    {
      "cell_type": "markdown",
      "metadata": {
        "id": "En2WmY0yU8sM"
      },
      "source": [
        "- Иногда качество модели можно улучшить, взяв квадратные корни от полученных таким образом весов (немного снижает штрафы за ошибки на редких классах).\n",
        "\n",
        "- Несмотря на интуитивно понятную логику работы способа, он не всегда дает значительный эффект. Тем не менее, на практике стоит пробовать экспериментировать с этим способом наряду с прочими техниками борьбы с дисбалансом."
      ]
    },
    {
      "cell_type": "markdown",
      "metadata": {
        "id": "peRS9IqjU8sM"
      },
      "source": [
        "##  Focal Loss"
      ]
    },
    {
      "cell_type": "markdown",
      "metadata": {
        "id": "YTY9SHrTU8sM"
      },
      "source": [
        "Focal Loss — это функция потерь, используемая в нейронных сетях для решения проблемы классификации *сложных* объектов (hard examples).\n",
        "\n",
        "[[colab] 🥨 Подробное рассмотрение Focal Loss с примерами](https://colab.research.google.com/drive/1rM7zRySu8WulXbFiXzxBGVzILxvQ6K4A)\n"
      ]
    },
    {
      "cell_type": "markdown",
      "metadata": {
        "id": "qFSH5ipcU8sM"
      },
      "source": [
        "<center><img src=\"https://ml.gan4x4.ru/msu/dev-2.2/L05/out/hard_examples_fruits.png\" width=\"800\"></img></center>"
      ]
    },
    {
      "cell_type": "markdown",
      "metadata": {
        "id": "yJaLXnsKU8sM"
      },
      "source": [
        "Focal Loss немного модифицирует кросс-энтропию для придания большей значимости ошибкам на сложных объектах.\n",
        "\n",
        "Она была предложена в статье [Focal Loss for Dense Object Detection (Lin et al., 2017) 🎓[arxiv]](https://arxiv.org/abs/1708.02002) изначально для задачи детектирования объектов на изображениях. Определяется так:\n",
        "\n",
        "$$\\large\\text{FL}\\left(p_t\\right) = -\\left(1 - p_t\\right)^\\gamma\\log\\left(p_t\\right),$$\n",
        "\n",
        "где $p_t$ — предсказанная вероятность истинного класса, а $\\gamma\\geq0$ — настраиваемый гиперпараметр.\n",
        "\n",
        "Focal Loss уменьшает потери на уверенно классифицируемых примерах (где $p_t>0.5$) и больше фокусируется на сложных примерах, которые классифицированы неправильно. Параметр $\\gamma$ управляет относительной важностью неправильно классифицируемых примеров. Более высокое значение $\\gamma$ увеличивает важность неправильно классифицированных примеров. В экспериментах авторы показали, что параметр $\\gamma=2$ показывал себя наилучшим образом в их задаче."
      ]
    },
    {
      "cell_type": "markdown",
      "metadata": {
        "id": "Lc523v14U8sM"
      },
      "source": [
        "При $\\gamma=0$ Focal Loss становится равной Cross-Entropy Loss, которая может быть выражена как обратный логарифм вероятности истинного класса:\n",
        "\n",
        "$$\\large\\text{CE}\\left(p_t\\right)=-\\log\\left(p_t\\right)$$"
      ]
    },
    {
      "cell_type": "markdown",
      "metadata": {
        "id": "KYpA4SvrU8sM"
      },
      "source": [
        "Focal Loss может применяться также и в задачах с дисбалансом классов. В этом смысле объекты преобладающего класса могут считаться простыми, а объекты минорного класса — сложными.\n",
        "\n",
        "Однако для работы с дисбалансом в Focal Loss могут быть добавлены веса для классов. Тогда формула будет выглядеть так:\n",
        "\n",
        "$$\\large\\text{FL}\\left(p_t\\right) = -\\alpha_t\\left(1 - p_t\\right)^\\gamma\\log\\left(p_t\\right),$$\n",
        "\n",
        "где $\\alpha_t$ — вес для истинного класса, имеющий такой же смысл, как параметр `weight` в Cross-Entropy Loss."
      ]
    },
    {
      "cell_type": "markdown",
      "metadata": {
        "id": "a_mL2n-1U8sM"
      },
      "source": [
        "Focal Loss не реализована в PyTorch нативно, но существуют сторонние совместимые реализации. Посмотрим, как воспользоваться [одной из них 🐾[git]](https://github.com/AdeelH/pytorch-multi-class-focal-loss)."
      ]
    },
    {
      "cell_type": "code",
      "execution_count": null,
      "metadata": {
        "id": "p1PXHwEvU8sN"
      },
      "outputs": [],
      "source": [
        "#!wget -qN https://raw.githubusercontent.com/AdeelH/pytorch-multi-class-focal-loss/master/focal_loss.py\n",
        "\n",
        "!wget -qN https://ml.gan4x4.ru/msu/dev-2.1/L05/focal_loss.py"
      ]
    },
    {
      "cell_type": "code",
      "execution_count": null,
      "metadata": {
        "id": "JWj95UIqU8sN",
        "colab": {
          "base_uri": "https://localhost:8080/"
        },
        "outputId": "dbccd27b-ac50-443c-bccb-e56a95b3f2be"
      },
      "outputs": [
        {
          "output_type": "stream",
          "name": "stdout",
          "text": [
            "model_output:\n",
            " tensor([[2.4000, 1.9000, 7.3000],\n",
            "        [9.5000, 2.7000, 4.0000],\n",
            "        [5.7000, 4.1000, 0.2000]])\n",
            "target: tensor([2, 0, 1])\n",
            "loss_fl: 0.4129861891269684\n"
          ]
        }
      ],
      "source": [
        "from focal_loss import FocalLoss\n",
        "\n",
        "\n",
        "criterion = FocalLoss(alpha=None, gamma=2.0)\n",
        "\n",
        "# fmt: off\n",
        "model_output = torch.tensor([[2.4, 1.9, 7.3],\n",
        "                             [9.5, 2.7, 4.0],\n",
        "                             [5.7, 4.1, 0.2]])  # model output is logits, as in CrossEntropyLoss\n",
        "# fmt: on\n",
        "print(f\"model_output:\\n {model_output}\")\n",
        "\n",
        "target = torch.tensor([2, 0, 1], dtype=torch.long)  # class labels\n",
        "print(f\"target: {target}\")\n",
        "\n",
        "loss_fl = criterion(model_output, target)\n",
        "print(f\"loss_fl: {loss_fl}\")"
      ]
    },
    {
      "cell_type": "markdown",
      "metadata": {
        "id": "OnhSdIABU8sN"
      },
      "source": [
        "Стоит отметить, что **Focal Loss следует применять с осторожностью**: если мы имеем **ошибки в разметке**, то при большом $\\gamma$ можно начать очень сильно наказывать модель за ошибки на неверно размеченных примерах, что может привести к переобучению под ошибки в разметке."
      ]
    },
    {
      "cell_type": "markdown",
      "metadata": {
        "id": "VDz_8BEKU8sN"
      },
      "source": [
        "## Negative Log Likelihood\n"
      ]
    },
    {
      "cell_type": "markdown",
      "metadata": {
        "id": "9OTxKB7OU8sN"
      },
      "source": [
        "NLL Loss, используемая для классификации, отличается от Cross-Entropy Loss тем, что ожидает логарифмы вероятностей классов на выходе модели, а не логиты."
      ]
    },
    {
      "cell_type": "markdown",
      "metadata": {
        "id": "0K8YFMmvU8sN"
      },
      "source": [
        "Для $i$-го объекта выборки, если выходной вектор состоит из $C$ компонент (**логарифмов вероятностей** для $C$ классов), NLL Loss между выходом модели $\\hat{y}$ и целевым вектором $y$ будет равна:\n",
        "\n",
        "$$\\large \\text{NLL}_i\\left(\\hat{y},y\\right)= - \\sum_{k=1}^{C}{y_{ik}\\cdot\\hat{y}_{ik}}$$\n"
      ]
    },
    {
      "cell_type": "markdown",
      "metadata": {
        "id": "EolY9OTmU8sN"
      },
      "source": [
        "Для применения NLL Loss в классификации логиты модели нужно сначала преобразовать через Softmax и взять их натуральный логарифм. В PyTorch это выполняется с помощью модуля `LogSoftmax` [🛠️[doc]](https://pytorch.org/docs/stable/generated/torch.nn.LogSoftmax.html). Связь между NLL Loss и Cross-Entropy Loss можно выразить так:"
      ]
    },
    {
      "cell_type": "markdown",
      "metadata": {
        "id": "jpZiBA1VU8sN"
      },
      "source": [
        "<center><img src=\"https://ml.gan4x4.ru/msu/dev-2.2/L05/out/ce_loss_vs_nll_loss.png\" width=\"900\"></center>"
      ]
    },
    {
      "cell_type": "markdown",
      "metadata": {
        "id": "wyh8bIpkU8sN"
      },
      "source": [
        "Исторически NLL Loss использовалась с LogSoftmax, тогда как Cross-Entropy Loss объединяет LogSoftmax и NLL Loss, упрощая модель. Cross-Entropy Loss стала популярнее за счёт упрощения.\n",
        "\n",
        "После обучения модели:\n",
        "\n",
        "- **LogSoftmax + NLL Loss:** На выходе логарифмы вероятностей. Для получения вероятностей нужно взять экспоненту.\n",
        "  \n",
        "- **Cross-Entropy Loss:** На выходе логиты. Для получения вероятностей примените Softmax.\n",
        "\n",
        "[[blog] ✏️ Объяснение Negative Log Likelihood Loss](https://ljvmiranda921.github.io/notebook/2017/08/13/softmax-and-the-negative-log-likelihood/)\n",
        "\n",
        "[[blog] ✏️ О соотношении Cross-Entropy Loss и Negative Log Likelihood Loss](https://jamesmccaffrey.wordpress.com/2020/06/11/pytorch-crossentropyloss-vs-nllloss-cross-entropy-loss-vs-negative-log-likelihood-loss/)"
      ]
    },
    {
      "cell_type": "markdown",
      "metadata": {
        "id": "wDUyAJHSU8sN"
      },
      "source": [
        "##  Binary Cross-Entropy"
      ]
    },
    {
      "cell_type": "markdown",
      "metadata": {
        "id": "29mRFVD5U8sN"
      },
      "source": [
        "В частном случае, когда количество классов равно двум (**задача бинарной классификации**), их можно закодировать одним числом: $0$ — для первого класса, и $1$ — для второго. Тогда сумму $\\displaystyle \\sum_{k=1}^{C}$ в формуле Cross-Entropy Loss можно расписать в явном виде."
      ]
    },
    {
      "cell_type": "markdown",
      "metadata": {
        "id": "nGtpckckU8sN"
      },
      "source": [
        "Для $i$-го объекта выборки, когда выход модели является скаляром (**вероятностью** отнесения объекта к классу $1$), бинарная кросс-энтропия между выходом модели $\\hat{y}$  и целевым значением $y$ будет равна\n",
        "\n",
        "$$\\large \\text{BCE}_i\\left(\\hat{y},y\\right)= - \\left[{y_i\\cdot\\log\\left(\\hat{y_i}\\right)+\\left(1-y_i\\right)\\cdot\\log\\left(1-\\hat{y_i}\\right)}\\right]$$"
      ]
    },
    {
      "cell_type": "markdown",
      "metadata": {
        "id": "pt8hb2_1U8sN"
      },
      "source": [
        "[[doc] 🛠️ Binary Cross-Entropy Loss в PyTorch](https://pytorch.org/docs/stable/generated/torch.nn.BCELoss.html#torch.nn.BCELoss):\n",
        "\n",
        "```python\n",
        "torch.nn.BCELoss()\n",
        "```\n",
        "\n"
      ]
    },
    {
      "cell_type": "markdown",
      "metadata": {
        "id": "9smKKHC4U8sN"
      },
      "source": [
        "Важной особенностью BCE Loss является то, что здесь используется не one-hot кодирование целевых значений для двух классов, а **одно число: 0 — первый класс, 1 — второй класс.** При этом значения целевой переменной должны быть представлены как вещественные (float) числа."
      ]
    },
    {
      "cell_type": "code",
      "execution_count": null,
      "metadata": {
        "id": "DG8QJ_MkU8sO",
        "colab": {
          "base_uri": "https://localhost:8080/"
        },
        "outputId": "a211177a-64b0-4000-e2f8-35be5ca73677"
      },
      "outputs": [
        {
          "output_type": "stream",
          "name": "stdout",
          "text": [
            "model_output: tensor([0.5254])\n",
            "target: tensor([1.])\n",
            "loss_bce: 0.6436772346496582\n"
          ]
        }
      ],
      "source": [
        "criterion = nn.BCELoss()\n",
        "\n",
        "model_output = torch.rand(1)\n",
        "print(f\"model_output: {model_output}\")\n",
        "\n",
        "target = torch.empty(1).random_(2)\n",
        "print(f\"target: {target}\")\n",
        "\n",
        "loss_bce = criterion(model_output, target)\n",
        "print(f\"loss_bce: {loss_bce}\")"
      ]
    },
    {
      "cell_type": "markdown",
      "metadata": {
        "id": "Wx6inWLyU8sO"
      },
      "source": [
        "Если классы \"абсолютно полностью\" не совпали, то возникает ситуация взятия логарифма от $0$, а он не определён и стремится к бесконечности, поэтому берётся \"обрезанная бесконечность\", равная $100$."
      ]
    },
    {
      "cell_type": "code",
      "execution_count": null,
      "metadata": {
        "id": "-e-WWylEU8sO",
        "colab": {
          "base_uri": "https://localhost:8080/"
        },
        "outputId": "f0b9e543-b8ad-4ad4-a7fd-592eeaa4f915"
      },
      "outputs": [
        {
          "output_type": "stream",
          "name": "stdout",
          "text": [
            "model_output: tensor([1., 1., 1., 1., 1.])\n",
            "target: tensor([0., 0., 0., 0., 0.])\n",
            "loss_bce: 100.0\n"
          ]
        }
      ],
      "source": [
        "criterion = nn.BCELoss()\n",
        "\n",
        "model_output = torch.ones(5)\n",
        "print(f\"model_output: {model_output}\")\n",
        "\n",
        "target = torch.zeros(5)\n",
        "print(f\"target: {target}\")\n",
        "\n",
        "loss_bce = criterion(model_output, target)\n",
        "print(f\"loss_bce: {loss_bce}\")"
      ]
    },
    {
      "cell_type": "markdown",
      "metadata": {
        "id": "rml7C4TAU8sO"
      },
      "source": [
        "## Binary Cross-Entropy With Logits"
      ]
    },
    {
      "cell_type": "markdown",
      "metadata": {
        "id": "dMNZzzdXU8sO"
      },
      "source": [
        "Для бинарной классификации выход модели должен быть вероятностью принадлежности к классу 1, которую можно получить с помощью логистической функции (sigmoid) и передать в BCE Loss.\n",
        "\n",
        "BCE With Logits Loss объединяет две операции:\n",
        "\n",
        "- Применение функции sigmoid.\n",
        "- Расчёт BCE Loss.\n",
        "\n",
        "BCE With Logits Loss ожидает логиты на входе, и её использование упрощает модель."
      ]
    },
    {
      "cell_type": "markdown",
      "metadata": {
        "id": "DuY09uQ0U8sO"
      },
      "source": [
        "<center><img src=\"https://ml.gan4x4.ru/msu/dev-2.2/L05/out/bce_loss_vs_bce_with_logits_loss.png\" width=\"900\"></center>"
      ]
    },
    {
      "cell_type": "markdown",
      "metadata": {
        "id": "B6GgiPlPU8sO"
      },
      "source": [
        "Функции потерь BCE Loss и BCE With Logits Loss можно применять не только в случае бинарной классификации, но и **в случае Multi-label классификации**.\n",
        "\n",
        "В таком случае в векторе целевых значений вероятностей для каждого объекта может быть больше, чем одна единица. А логиты на последнем слое сети независимо пропускаются через сигмоиду (а не через Softmax, как в случае с многоклассовой классификацией)."
      ]
    },
    {
      "cell_type": "markdown",
      "metadata": {
        "id": "hraDHPMSU8sO"
      },
      "source": [
        "\n",
        "\n",
        "В PyTorch доступны другие функции потерь, и можно создавать собственные.\n",
        "\n",
        "[[blog] ✏️ Обзор функций потерь в PyTorch с примером написания своей собственной функции (custom loss function)](https://neptune.ai/blog/pytorch-loss-functions)"
      ]
    }
  ]
}