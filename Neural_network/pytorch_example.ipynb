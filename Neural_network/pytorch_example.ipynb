{
  "nbformat": 4,
  "nbformat_minor": 0,
  "metadata": {
    "colab": {
      "provenance": [],
      "toc_visible": true
    },
    "kernelspec": {
      "name": "python3",
      "display_name": "Python 3"
    },
    "language_info": {
      "name": "python"
    }
  },
  "cells": [
    {
      "cell_type": "markdown",
      "metadata": {
        "id": "WUbT6QuPU8sS"
      },
      "source": [
        "# Углубление в PyTorch. Пример нейронной сети на MNIST"
      ]
    },
    {
      "cell_type": "markdown",
      "metadata": {
        "id": "5mRQMPEqU8sS"
      },
      "source": [
        "Источник:\n",
        "\n",
        "[[doc] 🛠️ Learn the basics tutorial](https://pytorch.org/tutorials/beginner/basics/intro.html)"
      ]
    },
    {
      "cell_type": "markdown",
      "metadata": {
        "id": "X-W7koxwU8sS"
      },
      "source": [
        "## Dataset и DataLoader"
      ]
    },
    {
      "cell_type": "markdown",
      "metadata": {
        "id": "q6FRrRkMU8sS"
      },
      "source": [
        "<center><img src=\"https://ml.gan4x4.ru/msu/dev-2.2/L05/out/dataset_dataloader.png\" width=\"1000\"></center>"
      ]
    },
    {
      "cell_type": "markdown",
      "metadata": {
        "id": "uawSEyXlU8sS"
      },
      "source": [
        "Предварительная обработка данных часто сильно зависит от домена, предметной области, самих данных. В идеале мы бы хотели, чтобы код, относящийся к набору данных, был отделен от кода для обучения модели для его лучшей читаемости, понимаемости и модульности.\n",
        "\n",
        "PyTorch предоставляет два базовых класса для работы с данными: `torch.utils.data.DataLoader` и `torch.utils.data.Dataset`, которые позволяют работать как со встроенными наборами данных, так и с вашими собственными данными.\n",
        "\n",
        "`Dataset` хранит в себе объекты (samples, сэмплы) — например, изображения и соответствующие им метки (labels, targets).\n",
        "\n",
        "`DataLoader` представляет из себя итерируемый объект — обертку над `Dataset`-ом, и позволяет получить простой доступ к объектам и меткам из набора данных в виде мини-батчей."
      ]
    },
    {
      "cell_type": "markdown",
      "metadata": {
        "id": "j5Vt75nEU8sS"
      },
      "source": [
        "Библиотеки из семейства PyTorch предоставляют ряд предзагруженных наборов данных (например, таких как MNIST), которые релизованы как дочерние классы от `torch.utils.data.Dataset` и несут в себе функции, специфичные для конкретных данных. Эти наборы данных могут быть использованы как бенчмарк для отладки и оценки вашей модели или в учебных целях. Вы можете найти их здесь:\n",
        "* [[doc] 🛠️ Image Datasets](https://pytorch.org/vision/stable/datasets.html),\n",
        "* [[doc] 🛠️ Text Datasets](https://pytorch.org/text/stable/datasets.html),\n",
        "* [[doc] 🛠️ Audio Datasets](https://pytorch.org/audio/stable/datasets.html)."
      ]
    },
    {
      "cell_type": "markdown",
      "metadata": {
        "id": "cujg52uWU8sS"
      },
      "source": [
        "### Загрузка набора данных"
      ]
    },
    {
      "cell_type": "markdown",
      "metadata": {
        "id": "BAaAIergU8sS"
      },
      "source": [
        "Рассмотрим пример того, как загрузить набор данных MNIST, который содержится в `torchvision.datasets` [🛠️[doc]](https://pytorch.org/vision/stable/generated/torchvision.datasets.MNIST.html#torchvision.datasets.MNIST)."
      ]
    },
    {
      "cell_type": "markdown",
      "metadata": {
        "id": "oGp8-jvVU8sS"
      },
      "source": [
        "Загрузим MNIST, указав следующие параметры:\n",
        "* `root` — путь до директории с данными,\n",
        "* `train` определяет, использовать обучающую или тестовую часть набора данных,\n",
        "* `download=True` позволяет скачать данные из интернета, если их нет в пути `root`,\n",
        "*  `transform` определяет преобразования, которые нужно сделать с данными. Здесь мы сразу указываем `transform=ToTensor()`, чтобы перевести входные данные (изображения) в формат `torch.Tensor`. Подробнее о трансформациях поговорим далее."
      ]
    },
    {
      "cell_type": "code",
      "execution_count": null,
      "metadata": {
        "id": "xZNLxfqmU8sS",
        "colab": {
          "base_uri": "https://localhost:8080/"
        },
        "outputId": "b7f6bd0d-8faf-483d-cf6b-b784e4708854"
      },
      "outputs": [
        {
          "output_type": "stream",
          "name": "stdout",
          "text": [
            "Train data info:\n",
            " Dataset MNIST\n",
            "    Number of datapoints: 60000\n",
            "    Root location: ./MNIST\n",
            "    Split: Train\n",
            "    StandardTransform\n",
            "Transform: ToTensor()\n",
            "\n",
            "Test data info:\n",
            " Dataset MNIST\n",
            "    Number of datapoints: 10000\n",
            "    Root location: ./MNIST\n",
            "    Split: Test\n",
            "    StandardTransform\n",
            "Transform: ToTensor()\n"
          ]
        }
      ],
      "source": [
        "from torchvision import datasets\n",
        "from torchvision.transforms import ToTensor\n",
        "from IPython.display import clear_output\n",
        "\n",
        "train_data = datasets.MNIST(\n",
        "    root=\"./MNIST\", train=True, download=True, transform=ToTensor()\n",
        ")\n",
        "\n",
        "test_data = datasets.MNIST(\n",
        "    root=\"./MNIST\", train=False, download=True, transform=ToTensor()\n",
        ")\n",
        "\n",
        "clear_output()\n",
        "\n",
        "print(\"Train data info:\\n\", train_data)\n",
        "print(\"\\nTest data info:\\n\", test_data)"
      ]
    },
    {
      "cell_type": "markdown",
      "metadata": {
        "id": "Nz5h6isOU8sS"
      },
      "source": [
        "Чтобы дальнейший код воспроизводился, зафиксируем случайные состояния:"
      ]
    },
    {
      "cell_type": "code",
      "execution_count": null,
      "metadata": {
        "id": "tL-3XXBNU8sS"
      },
      "outputs": [],
      "source": [
        "import torch\n",
        "import random\n",
        "import numpy as np\n",
        "\n",
        "\n",
        "def set_random_seed(seed):\n",
        "    torch.manual_seed(seed)\n",
        "    torch.cuda.manual_seed(seed)\n",
        "    torch.backends.cudnn.deterministic = True\n",
        "    torch.backends.cudnn.benchmark = False\n",
        "    np.random.seed(seed)\n",
        "    random.seed(seed)\n",
        "\n",
        "\n",
        "set_random_seed(42)"
      ]
    },
    {
      "cell_type": "markdown",
      "metadata": {
        "id": "WYU7eL2DU8sT"
      },
      "source": [
        "### Разделение выборки на обучающую и валидационную"
      ]
    },
    {
      "cell_type": "markdown",
      "metadata": {
        "id": "uwnmDXSsU8sT"
      },
      "source": [
        "Выделим из обучающей выборки часть данных для **валидации** при помощи функции `random_split` [🛠️[doc]](https://pytorch.org/docs/stable/data.html#torch.utils.data.random_split) из модуля `torch.utils.data`.\n",
        "\n",
        "Сумма значений в параметре `lengths` функции `random_split` должна в точности равняться количеству элементов в датасете, который она разделяет."
      ]
    },
    {
      "cell_type": "code",
      "execution_count": null,
      "metadata": {
        "id": "J0I_6qvoU8sT"
      },
      "outputs": [],
      "source": [
        "from torch.utils.data import random_split\n",
        "\n",
        "train_data, val_data = random_split(train_data, lengths=[50000, 10000])"
      ]
    },
    {
      "cell_type": "markdown",
      "metadata": {
        "id": "PeYEfKRwU8sT"
      },
      "source": [
        "Функция `random_split` возвращает объекты класса `Subset`. Эти объекты имеют два основных атрибута:\n",
        "\n",
        "* `dataset` — объект, из которого данный Subset был выделен, он будет один и тот же для всех продуктов функции `random_split`,\n",
        "* `indices` — список индексов, которые попали в данный Subset.\n",
        "\n"
      ]
    },
    {
      "cell_type": "code",
      "execution_count": null,
      "metadata": {
        "id": "YVysLRbYU8sT",
        "colab": {
          "base_uri": "https://localhost:8080/"
        },
        "outputId": "b37c9fda-5c0f-40a9-de00-884b1804a045"
      },
      "outputs": [
        {
          "output_type": "stream",
          "name": "stdout",
          "text": [
            "Type of train_data: <class 'torch.utils.data.dataset.Subset'>\n",
            "Type of val_data:   <class 'torch.utils.data.dataset.Subset'>\n",
            "\n",
            "Type of train_data.dataset: <class 'torchvision.datasets.mnist.MNIST'>\n",
            "Type of val_data.dataset:   <class 'torchvision.datasets.mnist.MNIST'>\n",
            "\n",
            "train_data.dataset and val_data.dataset are same: True\n",
            "\n",
            "First 10 indices of train_data: [37542, 43087, 2992, 25810, 39634, 6425, 55768, 11034, 44310, 44384]\n",
            "First 10 indices of val_data:   [59753, 9414, 10988, 15501, 49861, 36839, 28752, 18201, 14976, 32202]\n"
          ]
        }
      ],
      "source": [
        "print(f\"Type of train_data: {type(train_data)}\")\n",
        "print(f\"Type of val_data:   {type(val_data)}\\n\")\n",
        "\n",
        "print(f\"Type of train_data.dataset: {type(train_data.dataset)}\")\n",
        "print(f\"Type of val_data.dataset:   {type(val_data.dataset)}\\n\")\n",
        "\n",
        "\n",
        "print(\n",
        "    f\"train_data.dataset and val_data.dataset are same: {train_data.dataset is val_data.dataset}\\n\"\n",
        ")\n",
        "\n",
        "print(f\"First 10 indices of train_data: {train_data.indices[:10]}\")\n",
        "print(f\"First 10 indices of val_data:   {val_data.indices[:10]}\")"
      ]
    },
    {
      "cell_type": "markdown",
      "metadata": {
        "id": "sS3AD8yoU8sT"
      },
      "source": [
        "### Итерирование по `Dataset` и визуализация данных"
      ]
    },
    {
      "cell_type": "markdown",
      "metadata": {
        "id": "BhyoovKqU8sT"
      },
      "source": [
        "Можно обращаться к элементам `Dataset`-а вручную, как в списках или массивах: `dataset[i]`. При таком обращении мы получим кортеж `(sample, label)`. Воспользуемся библиотекой matplotlib, чтобы отобразить первые 10 изображений из тестового множества."
      ]
    },
    {
      "cell_type": "code",
      "execution_count": null,
      "metadata": {
        "id": "f_D2KCOAU8sT",
        "colab": {
          "base_uri": "https://localhost:8080/",
          "height": 190
        },
        "outputId": "105596c9-3f55-47dd-a546-919b63d1ead4"
      },
      "outputs": [
        {
          "output_type": "display_data",
          "data": {
            "text/plain": [
              "<Figure size 2000x2000 with 10 Axes>"
            ],
            "image/png": "[encoded data removed]"
          },
          "metadata": {}
        }
      ],
      "source": [
        "import matplotlib.pyplot as plt\n",
        "\n",
        "num_imgs_to_visualize = 10\n",
        "\n",
        "figure = plt.figure(figsize=(20, 20))\n",
        "\n",
        "for i in range(num_imgs_to_visualize):\n",
        "    # here we indexing the Dataset-object \"as is\" and gettig a tuple (img, label)\n",
        "    img, label = test_data[i]\n",
        "\n",
        "    figure.add_subplot(1, num_imgs_to_visualize, i + 1)\n",
        "    plt.imshow(img.squeeze(), cmap=\"gray\")\n",
        "    plt.title(f\"true: {label}\", fontsize=20)\n",
        "    plt.axis(\"off\")\n",
        "plt.show()"
      ]
    },
    {
      "cell_type": "markdown",
      "metadata": {
        "id": "tXMgwOVFU8sT"
      },
      "source": [
        "### Подготовка данных для обучения с помощью DataLoader"
      ]
    },
    {
      "cell_type": "markdown",
      "metadata": {
        "id": "vZCwgYnEU8sT"
      },
      "source": [
        "`Dataset` возвращает по одной паре \"объект — метка\" за раз. При обучении моделей мы обычно хотим получать обекты в виде мини-батчей, перемешивая данные на каждой эпохе для уменьшения переобучения.\n",
        "\n",
        "`DataLoader` — это объект, который позволяет нам получать такие мини-батчи. При инициализации он принимает в себя объект `Dataset` (или `Subset`), а также параметры `batch_size` (размер мини-батча) и `shuffle` (перемешивать ли данные в батчах каждую эпоху).\n",
        "\n",
        "Другие параметры, а также значения по умолчанию можно посмотреть в документации PyTorch для класса `DataLoader` [🛠️[doc]](https://pytorch.org/docs/stable/data.html#torch.utils.data.DataLoader).\n"
      ]
    },
    {
      "cell_type": "code",
      "execution_count": null,
      "metadata": {
        "id": "INAbN61-U8sT"
      },
      "outputs": [],
      "source": [
        "from torch.utils.data import DataLoader\n",
        "\n",
        "train_dataloader = DataLoader(train_data, batch_size=8, shuffle=True)\n",
        "val_dataloader = DataLoader(val_data, batch_size=8, shuffle=False)\n",
        "test_dataloader = DataLoader(test_data, batch_size=8, shuffle=False)"
      ]
    },
    {
      "cell_type": "markdown",
      "metadata": {
        "id": "YhPPrumyU8sT"
      },
      "source": [
        "Так как мы разделили данные на обучающие, валидационные и тестовые (`train_data`, `val_data` и `test_data`), то мы создаем также три независимых `DataLoader`-а. Один из них позволит нам получать батчи из обучающей выборки, второй — из валидационной, третий — из тестовой.\n",
        "\n",
        "Обратите внимание на параметр `shuffle`! По умолчанию он имеет значение `False`. **Для обучения нейронной сети критически важно, чтобы во время обучения батчи обучающих данных перемешивались**. Именно таким образом мы вносим **стохастичность** в процесс градиентного спуска. Поэтому для `DataLoader`-a, который будет выдавать батчи для обучения, необходимо использовать `shuffle=True`.\n",
        "\n",
        "В противоположность этому — `DataLoader`-ы для валидационных и тестовых данных. Эти данные данные служат для оценки качества работы модели, на них не происходит обучение и градиентный спуск. Поэтому установка здесь `shuffle=True` не имеет большого смысла."
      ]
    },
    {
      "cell_type": "markdown",
      "metadata": {
        "id": "2CUJ8ovkU8sT"
      },
      "source": [
        "#### Итерирование по `DataLoader`"
      ]
    },
    {
      "cell_type": "markdown",
      "metadata": {
        "id": "o25vDufzU8sT"
      },
      "source": [
        "Мы загрузили набор данных в `DataLoader`, и теперь можем проходиться по нему по мере необходимости. Каждая итерация в коде ниже будет возвращать мини-батч в виде кортежа тензоров `(samples, labels)`, содержащих `batch_size=8` объектов и меток соответственно.\n",
        "Так как мы установили для `train_dataloader` параметр `shuffle=True`, когда мы пройдемся по всем батчам, данные перемешаются."
      ]
    },
    {
      "cell_type": "code",
      "execution_count": null,
      "metadata": {
        "id": "97U9Cr5aU8sU",
        "colab": {
          "base_uri": "https://localhost:8080/",
          "height": 359
        },
        "outputId": "052c2558-0195-4ca2-e013-acfa74a2656d"
      },
      "outputs": [
        {
          "output_type": "stream",
          "name": "stdout",
          "text": [
            "Images batch shape: torch.Size([8, 1, 28, 28]) : [batch_size, num_channels, H, W]\n",
            "Labels batch shape: torch.Size([8])\n",
            "\n",
            "The first sample in the batch:\n"
          ]
        },
        {
          "output_type": "display_data",
          "data": {
            "text/plain": [
              "<Figure size 300x300 with 1 Axes>"
            ],
            "image/png": "[encoded data removed]"
          },
          "metadata": {}
        }
      ],
      "source": [
        "# get one next batch\n",
        "imgs, labels = next(iter(train_dataloader))\n",
        "\n",
        "print(f\"Images batch shape: {imgs.size()} : [batch_size, num_channels, H, W]\")\n",
        "print(f\"Labels batch shape: {labels.size()}\")\n",
        "\n",
        "print(\"\\nThe first sample in the batch:\")\n",
        "img = imgs[0].squeeze()\n",
        "label = labels[0].item()\n",
        "\n",
        "plt.figure(figsize=(3, 3))\n",
        "plt.imshow(img, cmap=\"gray\")\n",
        "plt.title(label)\n",
        "plt.axis(\"off\")\n",
        "plt.show()"
      ]
    },
    {
      "cell_type": "markdown",
      "metadata": {
        "id": "IaxrLWcaU8sU"
      },
      "source": [
        "#### Взвешенное формирование батчей для работы с дисбалансом"
      ]
    },
    {
      "cell_type": "markdown",
      "metadata": {
        "id": "cXLaUI8XU8sU"
      },
      "source": [
        "Еще одним атрибутом `DataLoader` является `sampler` [🛠️[doc]](https://pytorch.org/docs/stable/data.html#torch.utils.data.Sampler) — он отвечает за то, как объекты набираются в батчи. **По умолчанию** все объекты могут попадать в батчи **равновероятно**.\n",
        "\n",
        "При работе с несбалансированными классами можно формировать батчи так, чтобы в каждом батче примерно был баланс классов.\n",
        "\n",
        "Это может улучшать сходимость даже в случае небольшого дисбаланса или его отсутствия, т. к. мы будем избегать шаги обучения нейросети, в которых она просто не увидела какого-то класса в силу случайных причин.\n"
      ]
    },
    {
      "cell_type": "markdown",
      "metadata": {
        "id": "9NVlfIR0U8sU"
      },
      "source": [
        "<center><img src=\"https://ml.gan4x4.ru/msu/dev-2.2/L05/out/batch_balancing.png\" width=\"1000\"></center>"
      ]
    },
    {
      "cell_type": "markdown",
      "metadata": {
        "id": "fu9OByH9U8sU"
      },
      "source": [
        "При таком подходе требуется, чтобы объекты попадали в батчи **не равновероятно, а с определенными весами**. В PyTorch эту функциональность можно получить, используя класс `WeightedRandomSampler` [🛠️[doc]](https://pytorch.org/docs/stable/data.html#torch.utils.data.WeightedRandomSampler). Для его инициализации требуется рассчитать вес каждого класса.\n",
        "\n",
        "Сумма весов не обязана быть равна единице, важно только соотношение между весами. Часто соотношение весов делают обратно пропорциональным количеству объектов в классах.\n",
        "\n"
      ]
    },
    {
      "cell_type": "markdown",
      "metadata": {
        "id": "RhTf1-GXU8sU"
      },
      "source": [
        "```python\n",
        "_, classes_counts = torch.unique(y, return_counts=True)  # y — tensor of labels in train set\n",
        "weights_for_classes = classes_counts.max() / classes_counts\n",
        "```"
      ]
    },
    {
      "cell_type": "markdown",
      "metadata": {
        "id": "iMW9XeOaU8sU"
      },
      "source": [
        "В конструктор `WeightedRandomSampler` требуется подать два аргумента:\n",
        "\n",
        "- список весов для **каждого** элемента в датасете;\n",
        "- количество элементов (можно использовать не весь датасет).\n",
        "\n",
        "Затем созданный `sampler` передается в конструктор `DataLoader`."
      ]
    },
    {
      "cell_type": "markdown",
      "metadata": {
        "id": "56y5uotDU8sU"
      },
      "source": [
        "```python\n",
        "from torch.utils.data import WeightedRandomSampler\n",
        "\n",
        "weight_for_every_sample = []  # Every sample must have a weight\n",
        "for label in y:\n",
        "    weight_for_every_sample.append(weights_for_classes[label].item())\n",
        "\n",
        "sampler = WeightedRandomSampler(torch.tensor(weight_for_every_sample), len(dataset))\n",
        "dataloader = DataLoader(dataset, batch_size=batch_size, sampler=sampler)\n",
        "```"
      ]
    },
    {
      "cell_type": "markdown",
      "metadata": {
        "id": "WQpjYCYOU8sU"
      },
      "source": [
        "Когда у `DataLoader` указывается `sampler`, последний принимает на себя функцию перемешивания, поэтому параметр `shuffle` **должен** быть не указан.\n",
        "\n",
        "Также отметим, что подобную процедуру взвешенного формирования батчей следует производить только с обучающими данными, но не с валидационными и тестовыми. Мы хотим, чтобы модель при обучении поровну видела объекты всех классов, но оценивать качество нужно на данных с реальным распределением."
      ]
    },
    {
      "cell_type": "markdown",
      "metadata": {
        "id": "zSlc2kJWU8sU"
      },
      "source": [
        "Стоит отметить, что нужно быть осторожным со взвешиванием объектов в батчах и **контролировать состав батчей**. Дело в том, что при существенном дисбалансе веса при объектах минорного класса могут оказываться на несколько порядков больше, чем при объектах мажорного класса. Данные веса преобразуются в вероятности для сэмплирования, и может случиться так, что вероятности при объектах мажорного класса станут численно неотличимы от нуля. Тем самым можно получить обратный эффект: батчи будут состоять исключительно из объектов минорного класса. В таком случае нужно намеренно ограничивать веса."
      ]
    },
    {
      "cell_type": "markdown",
      "metadata": {
        "id": "K0jagLxUU8sU"
      },
      "source": [
        "## Трансформации (Transforms)"
      ]
    },
    {
      "cell_type": "markdown",
      "metadata": {
        "id": "4Xj1azNOU8sU"
      },
      "source": [
        "Данные не всегда поступают в том формате, который требуется для работы моделей машинного обучения. Для того, чтобы производить некоторые преобразования с данными, чтобы они становились пригодны для обучения, в PyTorch реализован механизм трансформаций (transforms).\n",
        "\n",
        "Все наборы данных в Torchvision имеют два параметра: `transform` — для применения трансформаций к входным данным, и `target_transform` — соответственно для преобразования меток.\n",
        "Эти параметры принимают в себя вызываемые (callable) объекты, содержащие логику преобразований. Модуль `torchvision.transforms` [🛠️[doc]](https://pytorch.org/vision/stable/transforms.html) предоставляет ряд часто используемых трансформаций \"из коробки\".\n",
        "\n",
        "Важно понимать, что трансформации, указанные в `transform` и `target_transform`, **применяются к данным налету**, то есть в момент обращения к этим данным через `Dataset` или `DataLoader`."
      ]
    },
    {
      "cell_type": "markdown",
      "metadata": {
        "id": "RIs4Z7xRU8sU"
      },
      "source": [
        "### ToTensor"
      ]
    },
    {
      "cell_type": "markdown",
      "metadata": {
        "id": "p_G2IND3U8sU"
      },
      "source": [
        "Изображения в MNIST (и в большинстве других встроенных датасетов) изначально хранятся в формате PIL Image (Python Image Library), а метки представлены как целые числа. Если с метками, представленными таким образом, ничего делать не нужно, то входные данные для обучения необходимо перевести в тензоры. Чтобы произвести эту трансформацию, выше при загрузке данных MNIST мы использовали `torchvision.transforms.ToTensor` [🛠️[doc]](https://pytorch.org/vision/stable/generated/torchvision.transforms.ToTensor.html#torchvision.transforms.ToTensor).\n",
        "\n",
        "`ToTensor` преобразует PIL Image или NumPy `ndarray` в `FloatTensor` **и масштабирует значения интенсивности пикселей к диапазону $[0., 1.]$**."
      ]
    },
    {
      "cell_type": "markdown",
      "metadata": {
        "id": "hrqnN9TiU8sU"
      },
      "source": [
        "### Normalize"
      ]
    },
    {
      "cell_type": "markdown",
      "metadata": {
        "id": "59l3v7RVU8sU"
      },
      "source": [
        "Предположим, что помимо перевода данных в подходящий формат мы бы хотели произвести какие-то преобразования с самими величинами. Скажем, произвести нормализацию: вычесть математическое ожидание и разделить на стандартное отклонение по выборке. Для проведения такой операции в `torchvision.transforms` предусмотрена трансформация `Normalize` [🛠️[doc]](https://pytorch.org/vision/main/generated/torchvision.transforms.Normalize.html)."
      ]
    },
    {
      "cell_type": "markdown",
      "metadata": {
        "id": "4vW2WST7U8sU"
      },
      "source": [
        "Два обязательных параметра в этой трансформации — это `mean` и `std`:\n",
        "* `mean` — последовательность математических ожиданий по каждому каналу выборки изображений,\n",
        "* `std` — последовательность стандартных отклонений по каждому каналу выборки изображений.\n",
        "\n",
        "`Normalize` не применяется к PIL Image, поэтому ее необходимо применять после `ToTensor`.\n",
        "\n",
        "Давайте вычислим среднее и стандартное отклонение по обучающим данным. Для этого обратимся к `train_data.dataset.data` по индексам, которые попали в Subset `train_data`:"
      ]
    },
    {
      "cell_type": "code",
      "execution_count": null,
      "metadata": {
        "id": "V-JxD9XJU8sV",
        "colab": {
          "base_uri": "https://localhost:8080/"
        },
        "outputId": "5112fd65-f39f-4882-bba0-e078344b06b7"
      },
      "outputs": [
        {
          "output_type": "stream",
          "name": "stdout",
          "text": [
            "Train part of data:\n",
            "Type:  <class 'torch.Tensor'>\n",
            "Size:  torch.Size([50000, 28, 28])\n",
            "Dtype: torch.uint8\n",
            "Max:   255\n",
            "Min:   0\n"
          ]
        }
      ],
      "source": [
        "import torch\n",
        "\n",
        "raw_train_data = train_data.dataset.data[train_data.indices]\n",
        "\n",
        "print(\"Train part of data:\")\n",
        "print(\"Type: \", type(raw_train_data))\n",
        "print(\"Size: \", raw_train_data.size())\n",
        "print(\"Dtype:\", raw_train_data.dtype)\n",
        "print(\"Max:  \", torch.max(raw_train_data).item())\n",
        "print(\"Min:  \", torch.min(raw_train_data).item())"
      ]
    },
    {
      "cell_type": "markdown",
      "metadata": {
        "id": "Yx9ywVa-U8sV"
      },
      "source": [
        "В `train_data.dataset.data` для MNIST данные хранятся как тензор целых чисел (`uint8`) c минимальным значением $0$ и максимальным значением $255$. Функции `torch.mean()` и `torch.std()` выдадут ошибку, если передать им тензор целых чисел. Поэтому изменим тип на вещественный, применив метод `.double()`."
      ]
    },
    {
      "cell_type": "code",
      "execution_count": null,
      "metadata": {
        "id": "YVitl2t-U8sV",
        "colab": {
          "base_uri": "https://localhost:8080/"
        },
        "outputId": "aad05863-710b-4198-d925-9945fbd06b43"
      },
      "outputs": [
        {
          "output_type": "stream",
          "name": "stdout",
          "text": [
            "mean = 33.33, std = 78.58\n"
          ]
        }
      ],
      "source": [
        "mean = torch.mean(raw_train_data.double()).item()\n",
        "std = torch.std(raw_train_data.double()).item()\n",
        "print(f\"mean = {mean:.2f}, std = {std:.2f}\")"
      ]
    },
    {
      "cell_type": "markdown",
      "metadata": {
        "id": "mkzC0XwsU8sV"
      },
      "source": [
        "Вспомним, что `Normalize` должна применяться после `ToTensor`, которая масштабирует величины в диапазон $[0., 1.]$. Значит, матожидание и стандартное отклонение мы также должны разделить на максимальное значение до масштабирования — на $255$."
      ]
    },
    {
      "cell_type": "code",
      "execution_count": null,
      "metadata": {
        "id": "pKKP1lTvU8sV",
        "colab": {
          "base_uri": "https://localhost:8080/"
        },
        "outputId": "c73369b4-f377-42cb-d13e-ce89a377f7d7"
      },
      "outputs": [
        {
          "output_type": "stream",
          "name": "stdout",
          "text": [
            "Scaled mean = 0.13, std = 0.31\n"
          ]
        }
      ],
      "source": [
        "mean /= 255\n",
        "std /= 255\n",
        "print(f\"Scaled mean = {mean:.2f}, std = {std:.2f}\")"
      ]
    },
    {
      "cell_type": "markdown",
      "metadata": {
        "id": "zXerxBhvU8sV"
      },
      "source": [
        "### Compose"
      ]
    },
    {
      "cell_type": "markdown",
      "metadata": {
        "id": "R_JiXxcLU8sV"
      },
      "source": [
        "Мы вычислили среднее и стандартное отклонение по обучающей выборке MNIST для применения транcформации `Normalize`. Но мы также помним, что она должна применяться только после `ToTensor`. Как же объединить несколько трансформаций в одну, чтобы они применились последовательно?\n",
        "\n",
        "Для этого предусмотрен класс `torchvision.transforms.Compose` [🛠️[doc]](https://pytorch.org/vision/main/generated/torchvision.transforms.Compose.html). Его единственный параметр — список принимаемых трансформаций. `Compose` — это контейнер для трансформаций, при помещении в который они будут применяться одна за одной. В общем случае их может быть сколько угодно. Давайте напишем трансформацию, которая примет в себя две: `ToTensor` и `Normalize`."
      ]
    },
    {
      "cell_type": "code",
      "execution_count": null,
      "metadata": {
        "id": "WVskhHfNU8sV",
        "colab": {
          "base_uri": "https://localhost:8080/"
        },
        "outputId": "8e6af1ff-7e77-466b-c161-9d2e6af7b622"
      },
      "outputs": [
        {
          "output_type": "stream",
          "name": "stdout",
          "text": [
            "Compose(\n",
            "    ToTensor()\n",
            "    Normalize(mean=0.13071035334133654, std=0.30815512051891786)\n",
            ")\n"
          ]
        }
      ],
      "source": [
        "from torchvision import transforms\n",
        "\n",
        "transform_with_normalize = transforms.Compose(\n",
        "    [transforms.ToTensor(), transforms.Normalize(mean, std)]\n",
        ")\n",
        "\n",
        "print(transform_with_normalize)"
      ]
    },
    {
      "cell_type": "markdown",
      "metadata": {
        "id": "yDKyRW8BU8sV"
      },
      "source": [
        "Остается только подменить у обучающего и тестового датасетов ту трансформацию, которую мы указали при загрузке данных, на нашу новую — с нормализацией. Для этого посмотрим на атрибут `.transform` и изменим его.\n",
        "\n",
        "**Внимание! Неочевидная особенность!**\n",
        "\n",
        "Функция `random_split` возвращает объекты класса `Subset`, которые не имеют своих трансформаций, а используют трансформации, определенные в родительском объекте класса `Dataset`."
      ]
    },
    {
      "cell_type": "code",
      "execution_count": null,
      "metadata": {
        "id": "AvXG1vR5U8sV",
        "colab": {
          "base_uri": "https://localhost:8080/"
        },
        "outputId": "27f676c6-d7c1-4e4a-8cc7-09d3af588b2c"
      },
      "outputs": [
        {
          "output_type": "stream",
          "name": "stdout",
          "text": [
            "Old train and val transform: ToTensor()\n",
            "Old test transform: ToTensor()\n",
            "\n",
            "New train and val transform: Compose(\n",
            "    ToTensor()\n",
            "    Normalize(mean=0.13071035334133654, std=0.30815512051891786)\n",
            ")\n",
            "New test transform: Compose(\n",
            "    ToTensor()\n",
            "    Normalize(mean=0.13071035334133654, std=0.30815512051891786)\n",
            ")\n"
          ]
        }
      ],
      "source": [
        "print(\"Old train and val transform:\", train_data.dataset.transform)\n",
        "print(\"Old test transform:\", test_data.transform)\n",
        "\n",
        "train_data.dataset.transform = transform_with_normalize\n",
        "test_data.transform = transform_with_normalize\n",
        "\n",
        "print(\"\\nNew train and val transform:\", train_data.dataset.transform)\n",
        "print(\"New test transform:\", test_data.transform)"
      ]
    },
    {
      "cell_type": "markdown",
      "metadata": {
        "id": "RqgaRQvfU8sV"
      },
      "source": [
        "Следует еще раз заметить, что при нормализации мы **вычисляем** оценки математического ожидания и стандартного отклонения `mean` и `std` **на обучающих данных**, а **применяем** вычисленные оценки **и на обучающих, и на валидационных, и на тестовых данных**."
      ]
    },
    {
      "cell_type": "markdown",
      "metadata": {
        "id": "ZRZW-EHBU8sV"
      },
      "source": [
        "Теперь при обращении к данным через `DataLoader` будет происходить следующее:\n",
        "\n",
        "1. Объект `DataLoader` обращается к объекту `Dataset` за данными, чтобы сформировать батч.\n",
        "2. `Dataset` считывает данные, которые хранятся на диске, в формате PIL Image, применяет к ним трансформации, указанные в его атрибуте `.transform` (в данном случае это последовательность `ToTensor` и `Normalize`) и возвращает `DataLoader`-у преобразованные данные.\n",
        "3. `DataLoader` формирует из полученных данных батч и возвращает его."
      ]
    },
    {
      "cell_type": "markdown",
      "metadata": {
        "id": "Cj8nGFV7U8sV"
      },
      "source": [
        "Обратите внимание, что на диске по-прежнему лежат просто изображения в своем специальном формате, и их довольно много. Но при этом в каждый момент времени мы не храним на диске все изображения как тензоры в сыром виде или в нормализованном. Нужные операции применяются к данным налету, только когда они нужны — при формировании батчей."
      ]
    },
    {
      "cell_type": "markdown",
      "metadata": {
        "id": "3PMzt6ijU8sV"
      },
      "source": [
        "## Создание нейронной сети"
      ]
    },
    {
      "cell_type": "markdown",
      "metadata": {
        "id": "Os2wNUL0U8sV"
      },
      "source": [
        "Нейронные сети состоят из слоев, которые производят преобразования над данными. В PyTorch принято называть слои ***модулями*** (modules), и далее мы тоже будем использовать это название.\n",
        "\n",
        "Пространство имен `torch.nn` [🛠️[doc]](https://pytorch.org/docs/stable/nn.html) предоставляет \"строительные блоки\", которые нужны для создания своей собственной нейронной сети. Каждый *модуль* в PyTorch является дочерним классом от `nn.Module` [🛠️[doc]](https://pytorch.org/docs/stable/generated/torch.nn.Module.html). Таким образом, нейронная сеть сама по себе будет являться *модулем*, состоящим из других *модулей* (слоев). Такая вложенная структура позволяет легко создавать сложные архитектуры и управлять ими.\n",
        "\n",
        "Ниже мы рассмотрим пример создания нейронной сети для классификации изображений из набора данных MNIST."
      ]
    },
    {
      "cell_type": "markdown",
      "metadata": {
        "id": "vKWRDsV4U8sV"
      },
      "source": [
        "### Выбор устройства (device) для обучения"
      ]
    },
    {
      "cell_type": "markdown",
      "metadata": {
        "id": "UmjHGcABU8sW"
      },
      "source": [
        "Мы бы хотели иметь возможность обучать модель на аппаратном ускорителе, таком как GPU, если он доступен. Проверим, доступен ли нам ускоритель `torch.cuda` [🛠️[doc]](https://pytorch.org/docs/stable/notes/cuda.html), иначе продолжим вычисления на CPU."
      ]
    },
    {
      "cell_type": "code",
      "execution_count": null,
      "metadata": {
        "id": "M8fzQ6FvU8sW",
        "colab": {
          "base_uri": "https://localhost:8080/"
        },
        "outputId": "4945f4d0-8238-49c8-f943-45db6ea8aac1"
      },
      "outputs": [
        {
          "output_type": "stream",
          "name": "stdout",
          "text": [
            "Using cpu device\n"
          ]
        }
      ],
      "source": [
        "device = \"cuda\" if torch.cuda.is_available() else \"cpu\"\n",
        "print(f\"Using {device} device\")"
      ]
    },
    {
      "cell_type": "markdown",
      "metadata": {
        "id": "DorWl_tNU8sW"
      },
      "source": [
        "### Описание класса модели"
      ]
    },
    {
      "cell_type": "markdown",
      "metadata": {
        "id": "Ckba0Qo6U8sW"
      },
      "source": [
        "Мы определяем нейронную сеть, наследуясь от класса `nn.Module`, и инициализируем ее слои в методе `__init__`. Каждый класс-наследник `nn.Module` производит операции над входными данными в методе `forward`.\n",
        "\n",
        "Напишем собственную нейронную сеть как класс `NeuralNetwork`. Ниже подробно рассмотрим все составляющие ее части."
      ]
    },
    {
      "cell_type": "code",
      "execution_count": null,
      "metadata": {
        "id": "ErMkDVMgU8sW"
      },
      "outputs": [],
      "source": [
        "from torch import nn\n",
        "\n",
        "\n",
        "class NeuralNetwork(nn.Module):\n",
        "    def __init__(self):\n",
        "        super().__init__()\n",
        "        self.flatten = nn.Flatten()\n",
        "        self.layers_stack = nn.Sequential(\n",
        "            nn.Linear(28 * 28, 512),\n",
        "            nn.ReLU(),\n",
        "            nn.Linear(512, 128),\n",
        "            nn.ReLU(),\n",
        "            nn.Linear(128, 10),\n",
        "        )\n",
        "\n",
        "    def forward(self, x):\n",
        "        x = self.flatten(x)\n",
        "        logits = self.layers_stack(x)\n",
        "        return logits"
      ]
    },
    {
      "cell_type": "markdown",
      "metadata": {
        "id": "AZeatbFAU8sW"
      },
      "source": [
        "Создадим экземпляр класса `NeuralNetwork`, переместим его на `device` с помощью метода `to` и выведем информацию о структуре модели:"
      ]
    },
    {
      "cell_type": "code",
      "execution_count": null,
      "metadata": {
        "id": "J8QGeootU8sW",
        "colab": {
          "base_uri": "https://localhost:8080/"
        },
        "outputId": "2c548f94-5d2d-4034-b611-b5d0e9bd2d71"
      },
      "outputs": [
        {
          "output_type": "stream",
          "name": "stdout",
          "text": [
            "NeuralNetwork(\n",
            "  (flatten): Flatten(start_dim=1, end_dim=-1)\n",
            "  (layers_stack): Sequential(\n",
            "    (0): Linear(in_features=784, out_features=512, bias=True)\n",
            "    (1): ReLU()\n",
            "    (2): Linear(in_features=512, out_features=128, bias=True)\n",
            "    (3): ReLU()\n",
            "    (4): Linear(in_features=128, out_features=10, bias=True)\n",
            "  )\n",
            ")\n"
          ]
        }
      ],
      "source": [
        "model = NeuralNetwork().to(device)\n",
        "print(model)"
      ]
    },
    {
      "cell_type": "markdown",
      "metadata": {
        "id": "7sG0l4ApU8sW"
      },
      "source": [
        "Чтобы использовать модель, мы передаем ей входные данные. Это приводит в действие метод `forward`, а также определенные фоновые операции. Не следует вызывать `model.forward` напрямую!\n",
        "\n",
        "Вызов модели с входными данными возвращает тензор с двумя размерностями: нулевая размерность `dim=0` соответствует  количеству переданных примеров, а первая `dim=1` — десяти выходным \"сырым\" предсказаниям (логитам) для каждого класса.\n",
        "\n",
        "Мы можем получить предсказание модели в виде вероятностей, пропустив логиты через экземпляр модуля `nn.Softmax`, вызвав его вычисление вдоль первой размерности `dim=1`."
      ]
    },
    {
      "cell_type": "code",
      "execution_count": null,
      "metadata": {
        "id": "AmprzVhKU8sW",
        "colab": {
          "base_uri": "https://localhost:8080/"
        },
        "outputId": "fe030af3-ff69-4184-df79-43e5ea775600"
      },
      "outputs": [
        {
          "output_type": "stream",
          "name": "stdout",
          "text": [
            "Input size:       torch.Size([3, 1, 28, 28]) : [batch_size, num_channels, H, W]\n",
            "Output size:      torch.Size([3, 10])        : [batch_size, num_classes]\n",
            "Predicted class:  tensor([3, 3, 3])          : [class for sample 1, class for sample 2, class for sample 3]\n"
          ]
        }
      ],
      "source": [
        "# random input of 3 images\n",
        "sample_batch = torch.rand(\n",
        "    3, 1, 28, 28, device=device\n",
        ")  # [batch_size, num_channels, H, W]\n",
        "\n",
        "# model output\n",
        "logits = model(sample_batch)\n",
        "\n",
        "# predicted probabilities\n",
        "pred_probab = nn.Softmax(dim=1)(logits)\n",
        "\n",
        "# predicted classes\n",
        "y_pred = pred_probab.argmax(dim=1)\n",
        "\n",
        "print(f\"Input size:       {sample_batch.size()} : [batch_size, num_channels, H, W]\")\n",
        "print(f\"Output size:      {logits.size()}        : [batch_size, num_classes]\")\n",
        "print(\n",
        "    f\"Predicted class:  {y_pred}          : [class for sample 1, class for sample 2, class for sample 3]\"\n",
        ")"
      ]
    },
    {
      "cell_type": "markdown",
      "metadata": {
        "id": "IRcJNKpcU8sY"
      },
      "source": [
        "### Слои модели"
      ]
    },
    {
      "cell_type": "markdown",
      "metadata": {
        "id": "Z1jwqcArU8sY"
      },
      "source": [
        "Давайте заглянем \"под капот\" нашей модели `NeuralNetwork`. Для иллюстрации возьмем мини-батч из трех одноканальных изображений $28×28$ и посмотрим, что с ним происходит, когда мы пропускаем его через сеть."
      ]
    },
    {
      "cell_type": "code",
      "execution_count": null,
      "metadata": {
        "id": "mIhBkUITU8sY",
        "colab": {
          "base_uri": "https://localhost:8080/"
        },
        "outputId": "410fd450-0e33-4645-e132-3c77df18da12"
      },
      "outputs": [
        {
          "output_type": "stream",
          "name": "stdout",
          "text": [
            "Input size: torch.Size([3, 1, 28, 28])\n"
          ]
        }
      ],
      "source": [
        "sample_batch = torch.rand(3, 1, 28, 28)\n",
        "print(f\"Input size: {sample_batch.size()}\")"
      ]
    },
    {
      "cell_type": "markdown",
      "metadata": {
        "id": "2P0VjuXRU8sZ"
      },
      "source": [
        "#### Слой `nn.Flatten`"
      ]
    },
    {
      "cell_type": "markdown",
      "metadata": {
        "id": "z5luf2cdU8sZ"
      },
      "source": [
        "Мы используем слой `nn.Flatten` [🛠️[doc]](https://pytorch.org/docs/stable/generated/torch.nn.Flatten.html) для преобразования каждого изображения $1×28×28$ пикселей в непрерывный массив из $784$ значений (размер батча (на позиции `dim=0`) сохраняется)."
      ]
    },
    {
      "cell_type": "code",
      "execution_count": null,
      "metadata": {
        "id": "KLCeBC0kU8sZ",
        "colab": {
          "base_uri": "https://localhost:8080/"
        },
        "outputId": "8fc27318-4bd2-4b85-ba9a-51b9360f82bb"
      },
      "outputs": [
        {
          "output_type": "stream",
          "name": "stdout",
          "text": [
            "Size after Flatten: torch.Size([3, 784])\n"
          ]
        }
      ],
      "source": [
        "flatten = nn.Flatten()\n",
        "flat_image = flatten(sample_batch)\n",
        "print(f\"Size after Flatten: {flat_image.size()}\")"
      ]
    },
    {
      "cell_type": "markdown",
      "metadata": {
        "id": "-yD_CQoWU8sZ"
      },
      "source": [
        "#### Слой `nn.Linear`"
      ]
    },
    {
      "cell_type": "markdown",
      "metadata": {
        "id": "cLOdMDIEU8sZ"
      },
      "source": [
        "Линейный слой `nn.Linear` [🛠️[doc]](https://pytorch.org/docs/stable/generated/torch.nn.Linear.html) — это модуль, который производит линейное преобразование входных данных с помощью хранящихся в нем весов и смещений.\n",
        "\n",
        "Обязательными параметрами при объявлении этого слоя являются `in_features` — количество входных признаков, и `out_features` — количество выходных признаков.\n",
        "\n",
        "Фактически этот модуль добавляет в модель один полносвязный слой нейронов *без активаций*. Слой состоит из `out_features` нейронов, каждый из которых имеет `in_features` входов.\n",
        "\n",
        "В примере ниже мы объявляем слой из $512$ нейронов, каждый из которых получает \"вытянутое\" изображение из $784$ пикселей."
      ]
    },
    {
      "cell_type": "code",
      "execution_count": null,
      "metadata": {
        "id": "4GOQ1qToU8sZ",
        "colab": {
          "base_uri": "https://localhost:8080/"
        },
        "outputId": "dedeed1f-8f23-48c6-bf09-fe60997f7424"
      },
      "outputs": [
        {
          "output_type": "stream",
          "name": "stdout",
          "text": [
            "Size after Linear:  torch.Size([3, 512])\n"
          ]
        }
      ],
      "source": [
        "layer1 = nn.Linear(in_features=784, out_features=512)\n",
        "hidden1 = layer1(flat_image)\n",
        "print(f\"Size after Linear:  {hidden1.size()}\")"
      ]
    },
    {
      "cell_type": "markdown",
      "metadata": {
        "id": "16w9ouHbU8sZ"
      },
      "source": [
        "Линейный слой, в отличие от слоя `nn.Flatten`, имеет обучаемые параметры — веса и смещения. Они хранятся как объекты специального класса `torch.nn.parameter.Parameter` и содержат в себе тензоры собственно с величинами параметров. Получить доступ к ним можно, обратившись к атрибутам слоя `.weight` и `.bias` соответственно."
      ]
    },
    {
      "cell_type": "code",
      "execution_count": null,
      "metadata": {
        "id": "0-MO-jXIU8sZ",
        "colab": {
          "base_uri": "https://localhost:8080/"
        },
        "outputId": "102d80df-fd17-42ce-d02b-ca7b786641eb"
      },
      "outputs": [
        {
          "output_type": "stream",
          "name": "stdout",
          "text": [
            "Size of linear layer weights: torch.Size([512, 784])\n",
            "Type of linear layer weights: <class 'torch.nn.parameter.Parameter'>\n",
            "\n",
            "Size of linear layer biases: torch.Size([512])\n",
            "Type of linear layer biases: <class 'torch.nn.parameter.Parameter'>\n"
          ]
        }
      ],
      "source": [
        "print(f\"Size of linear layer weights: {layer1.weight.size()}\")\n",
        "print(f\"Type of linear layer weights: {type(layer1.weight)}\")\n",
        "\n",
        "print(f\"\\nSize of linear layer biases: {layer1.bias.size()}\")\n",
        "print(f\"Type of linear layer biases: {type(layer1.bias)}\")"
      ]
    },
    {
      "cell_type": "markdown",
      "metadata": {
        "id": "ovtFb9lTU8sZ"
      },
      "source": [
        "#### Слой `nn.ReLU`"
      ]
    },
    {
      "cell_type": "markdown",
      "metadata": {
        "id": "o_UeiSGEU8sZ"
      },
      "source": [
        "Нелинейные активации — это то, что позволяет модели учить сложные взаимосвязи между входом и выходом. Они применяются после линейных преобразований, чтобы ввести *нелинейность*, помогая нейронным сетям изучать самые разные закономерности.\n",
        "\n",
        "В данной модели мы используем `nn.Relu` [🛠️[doc]](https://pytorch.org/docs/stable/generated/torch.nn.ReLU.html) между линейными слоями, но существуют и реализации [других функций активации 🛠️[doc]](https://pytorch.org/docs/stable/nn.html#non-linear-activations-weighted-sum-nonlinearity)."
      ]
    },
    {
      "cell_type": "code",
      "execution_count": null,
      "metadata": {
        "id": "K9vMzOq_U8sZ",
        "colab": {
          "base_uri": "https://localhost:8080/"
        },
        "outputId": "99ecdc9f-0c16-4095-938b-edb03bf61996"
      },
      "outputs": [
        {
          "output_type": "stream",
          "name": "stdout",
          "text": [
            "Before ReLU:  tensor([[-0.5459,  0.2797, -0.3692,  ...,  0.4351, -0.6177,  0.6561],\n",
            "        [-0.7810, -0.1710,  0.0389,  ..., -0.2874, -0.6477,  0.4335],\n",
            "        [-0.3540,  0.0673, -0.2755,  ...,  0.0247, -0.4142,  0.6857]],\n",
            "       grad_fn=<AddmmBackward0>)\n",
            "After ReLU:  tensor([[0.0000, 0.2797, 0.0000,  ..., 0.4351, 0.0000, 0.6561],\n",
            "        [0.0000, 0.0000, 0.0389,  ..., 0.0000, 0.0000, 0.4335],\n",
            "        [0.0000, 0.0673, 0.0000,  ..., 0.0247, 0.0000, 0.6857]],\n",
            "       grad_fn=<ReluBackward0>)\n",
            "\n",
            " Size after ReLU:  torch.Size([3, 512])\n"
          ]
        }
      ],
      "source": [
        "activations1 = nn.ReLU()(hidden1)\n",
        "\n",
        "print(f\"Before ReLU:  {hidden1}\")\n",
        "print(f\"After ReLU:  {activations1}\")\n",
        "print(f\"\\n Size after ReLU:  {activations1.size()}\")"
      ]
    },
    {
      "cell_type": "markdown",
      "metadata": {
        "id": "xW7Sl2otU8sZ"
      },
      "source": [
        "#### Объединение модулей в `nn.Sequential`"
      ]
    },
    {
      "cell_type": "markdown",
      "metadata": {
        "id": "vom7ipSOU8sZ"
      },
      "source": [
        "`nn.Sequential` [🛠️[doc]](https://pytorch.org/docs/stable/generated/torch.nn.Sequential.html) — это упорядоченный контейнер для модулей. Данные проходят через все модули в том же порядке, в котором они определены в `nn.Sequential`. Можно использовать такой контейнер для того, чтобы быстро собрать простую нейронную сеть, как `seq_modules` в примере ниже."
      ]
    },
    {
      "cell_type": "code",
      "execution_count": null,
      "metadata": {
        "id": "E_8Ms1jmU8sZ",
        "colab": {
          "base_uri": "https://localhost:8080/"
        },
        "outputId": "22a8f410-32ee-4f5a-e4a4-e16a49217b34"
      },
      "outputs": [
        {
          "output_type": "stream",
          "name": "stdout",
          "text": [
            "Output size: torch.Size([3, 10])\n"
          ]
        }
      ],
      "source": [
        "seq_modules = nn.Sequential(flatten, layer1, nn.ReLU(), nn.Linear(512, 10))\n",
        "\n",
        "sample_batch = torch.rand(3, 1, 28, 28)\n",
        "logits = seq_modules(sample_batch)\n",
        "\n",
        "print(f\"Output size: {logits.size()}\")"
      ]
    },
    {
      "cell_type": "markdown",
      "metadata": {
        "id": "wNwyPBYYU8sZ"
      },
      "source": [
        "#### Слой `nn.Softmax`"
      ]
    },
    {
      "cell_type": "markdown",
      "metadata": {
        "id": "kHqlwgvcU8sZ"
      },
      "source": [
        "Последний линейный слой нейронной сети возвращает *логиты* — \"сырые\" значения из диапазона $[-∞; +∞]$, которые могут быть пропущены через модуль `nn.Softmax` [🛠️[doc]](https://pytorch.org/docs/stable/generated/torch.nn.Softmax.html). Пропущенные через $\\text{Softmax}$ величины могут восприниматься как вероятности, с которыми модель относит данный объект к тому или иному классу. Параметр `dim` определяет размерность, вдоль которой величины должны суммироваться к $1$."
      ]
    },
    {
      "cell_type": "code",
      "execution_count": null,
      "metadata": {
        "id": "Nf2Kz0GtU8sZ",
        "colab": {
          "base_uri": "https://localhost:8080/"
        },
        "outputId": "f77468cf-be6d-4b57-ae48-310d709cb0d0"
      },
      "outputs": [
        {
          "output_type": "stream",
          "name": "stdout",
          "text": [
            "Size after Softmax: torch.Size([3, 10])\n"
          ]
        }
      ],
      "source": [
        "softmax = nn.Softmax(dim=1)\n",
        "\n",
        "pred_probab = softmax(logits)\n",
        "\n",
        "print(f\"Size after Softmax: {pred_probab.size()}\")"
      ]
    },
    {
      "cell_type": "markdown",
      "metadata": {
        "id": "ralCyT7wU8sa"
      },
      "source": [
        "### Параметры модели"
      ]
    },
    {
      "cell_type": "markdown",
      "metadata": {
        "id": "Om45nOEEU8sa"
      },
      "source": [
        "Множество слоев в нейронных сетях имеют *обучаемые параметры*, т. е. имеют ассоциированные с ними веса и смещения, которые оптимизируются во время обучения.\n",
        "\n",
        "Наследование от `nn.Module` автоматически отслеживает все слои, определенные внутри вашего класса модели, и делает все их параметры доступными с помощью методов `model.parameters()` или `model.named_parameters()`.\n",
        "\n",
        "В примере ниже мы проходимся по всем параметрам модели и для каждого тензора параметров выводим его размер."
      ]
    },
    {
      "cell_type": "code",
      "execution_count": null,
      "metadata": {
        "id": "EogL2hNCU8sa",
        "colab": {
          "base_uri": "https://localhost:8080/"
        },
        "outputId": "af1cc730-7a18-4670-f6dc-3ddd90bc4929"
      },
      "outputs": [
        {
          "output_type": "stream",
          "name": "stdout",
          "text": [
            "Model structure: NeuralNetwork(\n",
            "  (flatten): Flatten(start_dim=1, end_dim=-1)\n",
            "  (layers_stack): Sequential(\n",
            "    (0): Linear(in_features=784, out_features=512, bias=True)\n",
            "    (1): ReLU()\n",
            "    (2): Linear(in_features=512, out_features=128, bias=True)\n",
            "    (3): ReLU()\n",
            "    (4): Linear(in_features=128, out_features=10, bias=True)\n",
            "  )\n",
            ")\n",
            "\n",
            "Layer: layers_stack.0.weight    Requires grad: True  Size: torch.Size([512, 784])\n",
            "Layer: layers_stack.0.bias      Requires grad: True  Size: torch.Size([512])\n",
            "Layer: layers_stack.2.weight    Requires grad: True  Size: torch.Size([128, 512])\n",
            "Layer: layers_stack.2.bias      Requires grad: True  Size: torch.Size([128])\n",
            "Layer: layers_stack.4.weight    Requires grad: True  Size: torch.Size([10, 128])\n",
            "Layer: layers_stack.4.bias      Requires grad: True  Size: torch.Size([10])\n"
          ]
        }
      ],
      "source": [
        "print(f\"Model structure: {model}\\n\")\n",
        "\n",
        "for name, param in model.named_parameters():\n",
        "    print(\n",
        "        f\"Layer: {name:23}  Requires grad: {param.requires_grad}  Size: {param.size()}\"\n",
        "    )"
      ]
    },
    {
      "cell_type": "markdown",
      "metadata": {
        "id": "L0L9u_gPU8sa"
      },
      "source": [
        "## Обучение нейронной сети"
      ]
    },
    {
      "cell_type": "markdown",
      "metadata": {
        "id": "0KElZdmgU8sa"
      },
      "source": [
        "Теперь, когда мы подготовили данные и создали модель, мы можем приступить к обучению.\n",
        "\n",
        "Обучение модели — итеративный процесс оптимизации параметров модели на обучающих данных. На каждой итерции модель получает входные данные, дает предсказание на выходе, вычисляет значение функции потерь (loss), вычисляет производные функции потерь по параметрам и подстраивает параметры, используя градиентный спуск."
      ]
    },
    {
      "cell_type": "markdown",
      "metadata": {
        "id": "3GhCnsUTU8sa"
      },
      "source": [
        "### Гиперпараметры"
      ]
    },
    {
      "cell_type": "markdown",
      "metadata": {
        "id": "RkBF4lrHU8sa"
      },
      "source": [
        "Гиперпараметры — это задаваемые разработчиком параметры, которые позволяют управлять процессом обучения. Различные значения гиперпараметров могут влиять на обучение модели и скорость сходимости ([подробнее про подбор гиперпараметров 🛠️[doc]](https://pytorch.org/tutorials/beginner/hyperparameter_tuning_tutorial.html)).\n",
        "\n",
        "Мы определим следующие гиперпараметры процедуры обучения:\n",
        "* **количество эпох** (`num_epochs`) — количество итераций обучения по всему набору данных;\n",
        "* **размер батча** (`batch_size`) — количество образцов, передаваемых в сеть для обновления параметров;\n",
        "* **скорость обучения** (`learning_rate`) — коэффициент, определяющий, насколько сильно нужно обновлять параметры модели на каждом батче. Малые значения приводят к долгому обучению, в то время как большие значения могут приводить к непредсказуемому поведению во время обучения.\n"
      ]
    },
    {
      "cell_type": "code",
      "execution_count": null,
      "metadata": {
        "id": "D3_v0aY2U8sa"
      },
      "outputs": [],
      "source": [
        "num_epochs = 10\n",
        "batch_size = 64\n",
        "learning_rate = 1e-3"
      ]
    },
    {
      "cell_type": "markdown",
      "metadata": {
        "id": "QjbmXU6NU8sa"
      },
      "source": [
        "Выше для демонстрации мы указывали размер батча в `DataLoader`-ах равным восьми. Для установки нового значения придется переопределить `DataLoader`-ы."
      ]
    },
    {
      "cell_type": "code",
      "execution_count": null,
      "metadata": {
        "id": "hDUs3S5QU8sa"
      },
      "outputs": [],
      "source": [
        "train_dataloader = DataLoader(train_data, batch_size=batch_size, shuffle=True)\n",
        "val_dataloader = DataLoader(val_data, batch_size=batch_size, shuffle=False)\n",
        "test_dataloader = DataLoader(test_data, batch_size=batch_size, shuffle=False)"
      ]
    },
    {
      "cell_type": "markdown",
      "metadata": {
        "id": "2vz03GqyU8sa"
      },
      "source": [
        "### Оптимизация параметров (обучение сети)"
      ]
    },
    {
      "cell_type": "markdown",
      "metadata": {
        "id": "Bgs_G7BAU8sa"
      },
      "source": [
        "Задав гиперпараметры, мы можем приступить к обучению модели. Каждая итерация цикла оптимизации называется **эпохой**.\n",
        "\n",
        "Каждая эпоха состоит из двух частей:\n",
        "* **цикл обучения (Train Loop)** — проход по обучающему набору данных и оптимизация параметров;\n",
        "* **цикл валидации (Validation Loop)** — проход по валидационному набору данных и контроль того, что качество работы сети улучшается.\n",
        "\n",
        "Кратко ознакомимся с некоторыми понятиями, используемыми в цикле оптимизации."
      ]
    },
    {
      "cell_type": "markdown",
      "metadata": {
        "id": "Hv2_MZd0U8sa"
      },
      "source": [
        "#### Функция потерь (Loss function)"
      ]
    },
    {
      "cell_type": "markdown",
      "metadata": {
        "id": "UjgZCcNqU8sa"
      },
      "source": [
        "Так как мы решаем задачу классификации со сбалансированным датасетом, выберем `nn.CrossEntropyLoss` [🛠️[doc]](https://pytorch.org/docs/stable/generated/torch.nn.CrossEntropyLoss.html#torch.nn.CrossEntropyLoss) в качестве функции потерь.\n",
        "\n"
      ]
    },
    {
      "cell_type": "code",
      "execution_count": null,
      "metadata": {
        "id": "Sy4bxUV3U8sa"
      },
      "outputs": [],
      "source": [
        "# Initialize the loss function\n",
        "criterion = nn.CrossEntropyLoss()"
      ]
    },
    {
      "cell_type": "markdown",
      "metadata": {
        "id": "qoO3ljFgU8sa"
      },
      "source": [
        "#### Оптимизатор (Optimizer)"
      ]
    },
    {
      "cell_type": "markdown",
      "metadata": {
        "id": "SqgH06HwU8sa"
      },
      "source": [
        "Оптимизация — это процесс подстройки параметров модели для уменьшения ошибки на каждом шаге обучения. От **алгоритма оптимизации** зависит то, как этот процесс будет выполняться. Здесь мы будем использовать стохастический градиентный спуск (Stochastic Gradient Descent, SGD). Однако в PyTorch реализовано еще [множество других алгоритмов оптимизации 🛠️[doc]](https://pytorch.org/docs/stable/optim.html#algorithms), таких как Adam и RMSProp, и они могут работать лучше или хуже для разных видов моделей и данных.\n",
        "\n",
        "Вся логика оптимизации заключена в объекте `optimizer`. Мы инициализируем оптимизатор, передавая ему параметры модели, которые требуется обучать (`model.parameters()`), а также гиперпараметр скорости обучения (`learning_rate`)."
      ]
    },
    {
      "cell_type": "code",
      "execution_count": null,
      "metadata": {
        "id": "d2wpUQJSU8sb"
      },
      "outputs": [],
      "source": [
        "optimizer = torch.optim.SGD(model.parameters(), lr=learning_rate)"
      ]
    },
    {
      "cell_type": "markdown",
      "metadata": {
        "id": "hCIF9muUU8sb"
      },
      "source": [
        "Внутри цикла обучения оптимизация производится за три шага:\n",
        "1. Вызов `optimizer.zero_grad()`, чтобы сбросить градиенты параметров модели. По умолчанию градиенты суммируются, и во избежание повторного вычисления их необходимо явно обнулять на каждой итерации;\n",
        "2. Обратное распространение ошибки предсказания с помощью вызова `loss.backward()`. PyTorch вычислит градиенты функции потерь относительно каждого обучаемого параметра;\n",
        "3. Когда у нас есть градиенты, мы вызываем `optimizer.step()`, чтобы подстроить обучаемые параметры с учетом градиентов, посчитанных при обратном распространении, согласно алгоритму оптимизации.\n"
      ]
    },
    {
      "cell_type": "markdown",
      "metadata": {
        "id": "q1lGMD7CU8sb"
      },
      "source": [
        "### Реализация обучения"
      ]
    },
    {
      "cell_type": "markdown",
      "metadata": {
        "id": "i-X2xCA4U8sb"
      },
      "source": [
        "Мы определим две функции:\n",
        "* `train_loop`, которая производит цикл обучения,\n",
        "* `val_loop`, которая оценивает качество модели на валидационных данных."
      ]
    },
    {
      "cell_type": "code",
      "execution_count": null,
      "metadata": {
        "id": "jevLBaRrU8sb"
      },
      "outputs": [],
      "source": [
        "def train_loop(dataloader, model, criterion, optimizer):\n",
        "    num_batches = len(dataloader)\n",
        "\n",
        "    train_loss = 0\n",
        "\n",
        "    for imgs, labels in dataloader:\n",
        "        # Compute prediction and loss\n",
        "        pred = model(imgs.to(device))\n",
        "        loss = criterion(pred, labels.to(device))\n",
        "\n",
        "        # Optimization\n",
        "        optimizer.zero_grad()\n",
        "        loss.backward()\n",
        "        optimizer.step()\n",
        "\n",
        "        train_loss += loss.detach().item()\n",
        "\n",
        "    train_loss /= num_batches\n",
        "    print(f\"Train loss: {train_loss:>8f}\")\n",
        "\n",
        "    return train_loss\n",
        "\n",
        "\n",
        "def val_loop(dataloader, model, criterion):\n",
        "    size = len(dataloader.dataset)\n",
        "    num_batches = len(dataloader)\n",
        "\n",
        "    val_loss, correct = 0, 0\n",
        "\n",
        "    with torch.no_grad():\n",
        "        for imgs, labels in dataloader:\n",
        "            # Compute prediction and loss\n",
        "            pred = model(imgs.to(device))\n",
        "            loss = criterion(pred, labels.to(device))\n",
        "\n",
        "            val_loss += loss.item()\n",
        "            correct += (pred.argmax(dim=1) == labels.to(device)).sum().item()\n",
        "\n",
        "    val_loss /= num_batches\n",
        "    accuracy = correct / size\n",
        "    print(f\"Val loss: {val_loss:>8f}, val accuracy: {(100*accuracy):>0.1f}% \\n\")\n",
        "\n",
        "    return val_loss"
      ]
    },
    {
      "cell_type": "markdown",
      "metadata": {
        "id": "_uusus6MU8sb"
      },
      "source": [
        "Выше мы объявили гиперпараметры и инициализировали функцию потерь `criterion` и оптимизатор `optimizer`. Теперь мы запускаем цикл оптимизации на $10$ эпох, и в каждой итерации мы вызываем функцию для выполнения цикла обучения `train_loop`, а затем функцию для промежуточной оценки качества `val_loop`. Также на каждой эпохе будем сохранять текущее значение функции потерь на обучающих и валидационных данных для построения графика обучения."
      ]
    },
    {
      "cell_type": "code",
      "execution_count": null,
      "metadata": {
        "id": "D0swQFWCU8sb",
        "colab": {
          "base_uri": "https://localhost:8080/"
        },
        "outputId": "af98698f-0451-49ba-d056-a545f2b5cc19"
      },
      "outputs": [
        {
          "output_type": "stream",
          "name": "stdout",
          "text": [
            "Epoch 1\n",
            "Train loss: 2.133575\n",
            "Val loss: 1.918940, val accuracy: 68.3% \n",
            "\n",
            "Epoch 2\n",
            "Train loss: 1.596094\n",
            "Val loss: 1.263166, val accuracy: 76.8% \n",
            "\n",
            "Epoch 3\n",
            "Train loss: 1.008876\n",
            "Val loss: 0.821224, val accuracy: 82.7% \n",
            "\n",
            "Epoch 4\n",
            "Train loss: 0.706995\n",
            "Val loss: 0.626755, val accuracy: 85.4% \n",
            "\n",
            "Epoch 5\n",
            "Train loss: 0.566241\n",
            "Val loss: 0.526694, val accuracy: 86.9% \n",
            "\n",
            "Epoch 6\n",
            "Train loss: 0.488385\n",
            "Val loss: 0.468097, val accuracy: 87.7% \n",
            "\n",
            "Epoch 7\n",
            "Train loss: 0.440022\n",
            "Val loss: 0.429908, val accuracy: 88.3% \n",
            "\n",
            "Epoch 8\n",
            "Train loss: 0.407208\n",
            "Val loss: 0.403644, val accuracy: 88.7% \n",
            "\n",
            "Epoch 9\n",
            "Train loss: 0.383165\n",
            "Val loss: 0.384893, val accuracy: 88.9% \n",
            "\n",
            "Epoch 10\n",
            "Train loss: 0.365182\n",
            "Val loss: 0.368441, val accuracy: 89.4% \n",
            "\n",
            "Done!\n"
          ]
        }
      ],
      "source": [
        "# for plotting\n",
        "loss_history = {\"train\": [], \"val\": []}\n",
        "\n",
        "for i in range(num_epochs):\n",
        "    print(f\"Epoch {i+1}\")\n",
        "    train_loss = train_loop(train_dataloader, model, criterion, optimizer)\n",
        "    val_loss = val_loop(val_dataloader, model, criterion)\n",
        "\n",
        "    loss_history[\"train\"].append(train_loss)\n",
        "    loss_history[\"val\"].append(val_loss)\n",
        "print(\"Done!\")"
      ]
    },
    {
      "cell_type": "markdown",
      "metadata": {
        "id": "YdP32sE3U8sb"
      },
      "source": [
        "Построим график функции потерь на обучающих и на валидационных данных по эпохам:"
      ]
    },
    {
      "cell_type": "code",
      "execution_count": null,
      "metadata": {
        "id": "9XbwGnxGU8sb",
        "colab": {
          "base_uri": "https://localhost:8080/",
          "height": 471
        },
        "outputId": "62edbdc8-e319-45ca-c42b-f4a9f31d714f"
      },
      "outputs": [
        {
          "output_type": "display_data",
          "data": {
            "text/plain": [
              "<Figure size 1000x500 with 1 Axes>"
            ],
            "image/png": "[encoded data removed]"
          },
          "metadata": {}
        }
      ],
      "source": [
        "plt.figure(figsize=(10, 5))\n",
        "plt.plot(range(1, num_epochs + 1), loss_history[\"train\"], label=\"train\")\n",
        "plt.plot(range(1, num_epochs + 1), loss_history[\"val\"], label=\"val\")\n",
        "plt.xlabel(\"Epochs\", fontsize=15)\n",
        "plt.ylabel(\"Loss\", fontsize=15)\n",
        "plt.legend()\n",
        "plt.grid()\n",
        "plt.show()"
      ]
    },
    {
      "cell_type": "markdown",
      "metadata": {
        "id": "NQXFytJ3U8sb"
      },
      "source": [
        "### Сохранение и загрузка весов модели"
      ]
    },
    {
      "cell_type": "markdown",
      "metadata": {
        "id": "MCmn6SHmU8sb"
      },
      "source": [
        "Обычно обучение модели является достаточно затратным процессом с точки зрения вычислительных ресурсов. Поэтому однажды обученную сеть разумно будет сохранить для последующего использования. Рассмотрим варианты, как это можно сделать в PyTorch."
      ]
    },
    {
      "cell_type": "markdown",
      "metadata": {
        "id": "pQc2PhhRU8sb"
      },
      "source": [
        "Модели PyTorch хранят обучаемые параметры во внутреннем словаре состояния, который называется `state_dict`. Их можно сохранить с помощью метода `torch.save`.\n"
      ]
    },
    {
      "cell_type": "code",
      "execution_count": null,
      "metadata": {
        "id": "_WKJqg2nU8sb"
      },
      "outputs": [],
      "source": [
        "torch.save(model.state_dict(), \"model_weights.pth\")"
      ]
    },
    {
      "cell_type": "markdown",
      "metadata": {
        "id": "BxfZU8MbU8sb"
      },
      "source": [
        "Для того, чтобы загрузить веса модели, сперва необходимо создать экземпляр такой модели, а затем загрузить параметры с помощью метода `load_state_dict()`."
      ]
    },
    {
      "cell_type": "code",
      "execution_count": null,
      "metadata": {
        "id": "VhHd7hebU8sb",
        "colab": {
          "base_uri": "https://localhost:8080/"
        },
        "outputId": "db628e40-8198-4af9-e083-f1230b522cb9"
      },
      "outputs": [
        {
          "output_type": "stream",
          "name": "stdout",
          "text": [
            "NeuralNetwork(\n",
            "  (flatten): Flatten(start_dim=1, end_dim=-1)\n",
            "  (layers_stack): Sequential(\n",
            "    (0): Linear(in_features=784, out_features=512, bias=True)\n",
            "    (1): ReLU()\n",
            "    (2): Linear(in_features=512, out_features=128, bias=True)\n",
            "    (3): ReLU()\n",
            "    (4): Linear(in_features=128, out_features=10, bias=True)\n",
            "  )\n",
            ")\n"
          ]
        }
      ],
      "source": [
        "model = NeuralNetwork()\n",
        "model.load_state_dict(torch.load(\"model_weights.pth\", weights_only=True))\n",
        "model.to(device)\n",
        "print(model)"
      ]
    },
    {
      "cell_type": "markdown",
      "metadata": {
        "id": "J2VhMJ0QU8sc"
      },
      "source": [
        "Данный способ сохранения модели подходит только для случая, когда в дальнейшем не предполагается продолжать обучать модель. Для продолжения обучения также необходимо как минимум сохранять состояние оптимизатора.\n",
        "\n",
        "[[doc] 🛠️ О более общем сохранении состояний модели, оптимизатора и других объектов](https://pytorch.org/tutorials/beginner/saving_loading_models.html#saving-loading-a-general-checkpoint-for-inference-and-or-resuming-training)"
      ]
    },
    {
      "cell_type": "markdown",
      "metadata": {
        "id": "xlT5wTGVU8sc"
      },
      "source": [
        "Сохранение в общем случае может выглядеть так:\n",
        "\n",
        "```python\n",
        "torch.save({\n",
        "            'model_state_dict': model.state_dict(),\n",
        "            'optimizer_state_dict': optimizer.state_dict(),\n",
        "            'loss_history': loss_history,\n",
        "            ...\n",
        "            }, PATH)\n",
        "```\n",
        "\n"
      ]
    },
    {
      "cell_type": "markdown",
      "metadata": {
        "id": "nqr4FmdQU8sc"
      },
      "source": [
        "###  Предсказания обученной модели"
      ]
    },
    {
      "cell_type": "markdown",
      "metadata": {
        "id": "hdLSt-vuU8sc"
      },
      "source": [
        "Поэтапно пропустим тестовые изображения через модель и визуализируем результат:"
      ]
    },
    {
      "cell_type": "code",
      "execution_count": null,
      "metadata": {
        "id": "NxAxcBEGU8sc",
        "colab": {
          "base_uri": "https://localhost:8080/"
        },
        "outputId": "94b9a742-08cb-42ca-f102-40551d84a174"
      },
      "outputs": [
        {
          "output_type": "stream",
          "name": "stdout",
          "text": [
            "imgs shape:  torch.Size([64, 1, 28, 28])\n"
          ]
        }
      ],
      "source": [
        "# get batch\n",
        "imgs, labels = next(iter(test_dataloader))\n",
        "print(\"imgs shape: \", imgs.shape)"
      ]
    },
    {
      "cell_type": "code",
      "execution_count": null,
      "metadata": {
        "id": "IbXaMfabU8sc",
        "colab": {
          "base_uri": "https://localhost:8080/"
        },
        "outputId": "a32e7f45-e016-40fa-c191-c58e3e19a800"
      },
      "outputs": [
        {
          "output_type": "stream",
          "name": "stdout",
          "text": [
            "pred shape:  torch.Size([64, 10])\n"
          ]
        }
      ],
      "source": [
        "# get output\n",
        "pred = model(imgs.to(device))\n",
        "print(\"pred shape: \", pred.shape)"
      ]
    },
    {
      "cell_type": "code",
      "execution_count": null,
      "metadata": {
        "id": "xLqPKNYDU8sc",
        "colab": {
          "base_uri": "https://localhost:8080/"
        },
        "outputId": "733a3856-7f3a-48c9-8d1d-331e307c286e"
      },
      "outputs": [
        {
          "output_type": "stream",
          "name": "stdout",
          "text": [
            "Prediction(1 sample):\n",
            " tensor([-0.8983, -2.9739, -1.2876,  1.4858, -1.5675, -0.5005, -4.5795,  8.2462,\n",
            "        -0.8598,  3.0954])\n",
            "Predicted class:  7\n"
          ]
        }
      ],
      "source": [
        "import numpy as np\n",
        "\n",
        "pred = pred[:10].detach()\n",
        "print(\"Prediction(1 sample):\\n\", pred[0])\n",
        "\n",
        "digits = np.argmax(pred.cpu().numpy(), axis=1)\n",
        "print(\"Predicted class: \", digits[0])"
      ]
    },
    {
      "cell_type": "code",
      "execution_count": null,
      "metadata": {
        "id": "j_LYDml0U8sc",
        "colab": {
          "base_uri": "https://localhost:8080/"
        },
        "outputId": "32766423-5d16-4011-a13c-9fdf620b1558"
      },
      "outputs": [
        {
          "output_type": "stream",
          "name": "stdout",
          "text": [
            "imgs shape (after squeeze):  torch.Size([64, 28, 28])\n",
            "imgs shape:  torch.Size([10, 28, 28])\n"
          ]
        }
      ],
      "source": [
        "# remove axis\n",
        "imgs = torch.squeeze(imgs)\n",
        "print(\"imgs shape (after squeeze): \", imgs.shape)\n",
        "\n",
        "# take 10 first images\n",
        "imgs = imgs[:10]\n",
        "print(\"imgs shape: \", imgs.shape)"
      ]
    },
    {
      "cell_type": "markdown",
      "metadata": {
        "id": "H3-oWtGhU8sc"
      },
      "source": [
        "Визуализируем изображения, подпишем предсказанное и истинное значение:"
      ]
    },
    {
      "cell_type": "code",
      "execution_count": null,
      "metadata": {
        "id": "ARflvMaVU8sc",
        "colab": {
          "base_uri": "https://localhost:8080/",
          "height": 205
        },
        "outputId": "9c881e15-e9bb-4ed8-92e8-966d5cdea71c"
      },
      "outputs": [
        {
          "output_type": "display_data",
          "data": {
            "text/plain": [
              "<Figure size 2500x2500 with 10 Axes>"
            ],
            "image/png": "[encoded data removed]"
          },
          "metadata": {}
        }
      ],
      "source": [
        "plt.figure(figsize=(25.0, 25.0))\n",
        "for i in range(10):\n",
        "    img = imgs[i]\n",
        "\n",
        "    plt.subplot(1, 10, i + 1)\n",
        "    plt.title(\n",
        "        f\"true: {labels[i].numpy()}\\npred: {digits[i]}\", fontsize=20\n",
        "    )  # predicted and real values\n",
        "    plt.axis(\"off\")\n",
        "    plt.imshow(img.numpy(), cmap=\"gray\")"
      ]
    }
  ]
}