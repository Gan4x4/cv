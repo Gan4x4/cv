{
  "nbformat": 4,
  "nbformat_minor": 0,
  "metadata": {
    "colab": {
      "provenance": [],
      "toc_visible": true
    },
    "kernelspec": {
      "name": "python3",
      "display_name": "Python 3"
    },
    "language_info": {
      "name": "python"
    }
  },
  "cells": [
    {
      "cell_type": "markdown",
      "metadata": {
        "id": "Es_PtQyakDMi"
      },
      "source": [
        "# Метрики классификации"
      ]
    },
    {
      "cell_type": "markdown",
      "metadata": {
        "id": "_JYyCRJNkDMi"
      },
      "source": [
        "Чтобы создать эффективное решение, важно сначала определить, что мы понимаем под «качеством». Для сравнения различных подходов и выбора лучшего из них необходимо понимать, как правильно измерять их эффективность, и для этого нам нужны соответствующие метрики."
      ]
    },
    {
      "cell_type": "markdown",
      "metadata": {
        "id": "TwKBTvMLkDMi"
      },
      "source": [
        "## Accuracy"
      ]
    },
    {
      "cell_type": "markdown",
      "metadata": {
        "id": "DYPx1FlMkDMi"
      },
      "source": [
        "Интуитивно понятной, очевидной и почти неиспользуемой метрикой является  accuracy — доля правильных ответов алгоритма.\n",
        "\n",
        "$$ \\large \\text{Accuracy} = \\frac{P}{N}, $$\n",
        "\n",
        "где $P$ — количество верно предсказанных классов,\n",
        "\n",
        "$\\quad\\  N$ — общее количество тестовых примеров.\n",
        "\n",
        "**Недостатки метрики accuracy:**\n",
        "\n",
        "* **Несбалансированные классы.** Accuracy нельзя использовать, если данные не сбалансированы, то есть в одном из классов больше представителей, чем в другом.\n",
        "На рисунке ниже мы видим, что при явном количественном преобладании объектов класса airplane модель может классифицировать все объекты как airplane и при этом получить такую же точность, как модель, которая качественно разделяет все 3 класса, так как количество ошибок будет равно числу объектов классов, в которых меньше представителей (в данном случае в классах automobile и bird по 10 представителей, соответственно, 20 ошибок)."
      ]
    },
    {
      "cell_type": "markdown",
      "metadata": {
        "id": "Z13gqmPdkDMi"
      },
      "source": [
        "<center><img src =\"https://ml.gan4x4.ru/msu/dev-2.1/L01/out/problem_of_simple_way_to_compute_accuracy.png\" width=\"500\" ></center>"
      ]
    },
    {
      "cell_type": "markdown",
      "metadata": {
        "id": "48OSIzO-kDMi"
      },
      "source": [
        "* **Не различает типы ошибок.** Accuracy не учитывает, насколько критичны разные виды ошибок. Ошибки классификации бывают двух видов: **ошибка I-го рода** и **ошибка II-го рода**. Рассмотрим пример теста на беременность. Если женщина действительно беременна, то она принадлежит к классу с меткой 1, иначе — имеет метку 0. Пусть тест на беременность выполняет роль классификатора: показывает беременность (т.е. метку 1) или отсутствие беременности (метку 0).\n",
        "\n",
        "    Таким образом, решающее значение имеет то, какую ошибку выдает классификатор, потому что результат предсказания имеет разные последствия. Например, \"не беременна, но тест положительный\" соответствует ошибке I-го рода, а \"беременна, но тест отрицательный\" – ошибке II-го рода.\n"
      ]
    },
    {
      "cell_type": "markdown",
      "metadata": {
        "id": "BY4x_eLGkDMk"
      },
      "source": [
        "<center><img src =\"https://ml.gan4x4.ru/msu/dev-2.1/L01/out/1_2_errors.png\" width=\"400\" ></center>"
      ]
    },
    {
      "cell_type": "markdown",
      "metadata": {
        "id": "HoNOr5KwkDMk"
      },
      "source": [
        "## Confusion matrix"
      ]
    },
    {
      "cell_type": "markdown",
      "metadata": {
        "id": "pXm9hGDXkDMk"
      },
      "source": [
        "Попробуем решить эту проблему. Для этого сначала введём важную концепцию в терминах ошибок классификации — **confusion matrix** (матрицу ошибок). Допустим, у нас есть два класса и алгоритм, предсказывающий принадлежность каждого объекта к одному из классов. Тогда матрица ошибок классификации будет выглядеть следующим образом:\n"
      ]
    },
    {
      "cell_type": "markdown",
      "metadata": {
        "id": "uVz7bGELkDMk"
      },
      "source": [
        "<center><img src=\"https://ml.gan4x4.ru/msu/dev-2.1/L01/out/conf_matrix.png\" width = \"600\"></a></center>"
      ]
    },
    {
      "cell_type": "markdown",
      "metadata": {
        "id": "Vhqp5D-WkDMk"
      },
      "source": [
        "Матрица ошибок имеет следующие обозначения:\n",
        "\n",
        "* **True Positive (TP):** количество правильных предсказаний для положительного класса.\n",
        "\n",
        "* **True Negative (TN):** количество правильных предсказаний для отрицательного класса.\n",
        "\n",
        "* **False Positive (FP):** количество неправильных предсказаний, когда отрицательный класс предсказан как положительный.\n",
        "\n",
        "* **False Negative (FN):** количество неправильных предсказаний, когда положительный класс предсказан как отрицательный.\n",
        "\n",
        "*Как легко запомнить: True/False — это верное предсказание или нет. Positive/Negative — это какой класс предсказал классификатор. Например, True Positive — предсказание верное (True), классификатор предсказал положительный класс (Positive).*"
      ]
    },
    {
      "cell_type": "markdown",
      "metadata": {
        "id": "zAYT6M47kDMk"
      },
      "source": [
        "Используя матрицу ошибок, можно рассчитать различные метрики качества классификации, такие как **accuracy**:\n",
        "\n",
        "\n",
        "$$\\large\\text{Accuracy} = \\dfrac{TP + TN}{TP + TN + FP + FN}$$\n"
      ]
    },
    {
      "cell_type": "markdown",
      "metadata": {
        "id": "klTSsSYtkDMl"
      },
      "source": [
        "## Balanced accuracy"
      ]
    },
    {
      "cell_type": "markdown",
      "metadata": {
        "id": "ycHUjWKxkDMl"
      },
      "source": [
        "В случае дисбаланса классов можно посчитать метрику **balanced accuracy**. Она, в отличие от **accuracy**, учитывает дисбаланс классов:\n",
        "\n",
        "$$\\large\\text{Balanced Accuracy} = \\dfrac{1}{2} (\\dfrac{TP}{TP + FN} + \\dfrac{TN}{TN + FP})$$\n",
        "\n",
        "Посмотрим на примере:"
      ]
    },
    {
      "cell_type": "code",
      "execution_count": null,
      "metadata": {
        "colab": {
          "base_uri": "https://localhost:8080/",
          "height": 437
        },
        "id": "mVpmmSQjkDMl",
        "outputId": "8ec8e45e-2457-45f2-881b-b9c40a601bfc"
      },
      "outputs": [
        {
          "output_type": "display_data",
          "data": {
            "text/plain": [
              "<Figure size 1000x400 with 4 Axes>"
            ],
            "image/png": "[encoded data removed]"
          },
          "metadata": {}
        },
        {
          "output_type": "stream",
          "name": "stdout",
          "text": [
            "Accuracy for Balanced data   : 0.96\n",
            "Accuracy for Unbalanced data : 0.96\n"
          ]
        }
      ],
      "source": [
        "import numpy as np\n",
        "import matplotlib.pyplot as plt\n",
        "from sklearn import metrics\n",
        "\n",
        "fig, ax = plt.subplots(1, 2, figsize=(10, 4))\n",
        "fig.tight_layout(pad=3.0)\n",
        "plt.rcParams.update({\"font.size\": 16})\n",
        "ax[0].set_title(\"Balanced data\")\n",
        "ax[1].set_title(\"Unbalanced data\")\n",
        "\n",
        "labels = [\"Airplane\", \"Auto\", \"Bird\"]\n",
        "\n",
        "# Balanced data\n",
        "air, auto, bird = 150, 150, 150\n",
        "actual_b = np.array([0] * air + [1] * auto + [2] * bird)\n",
        "predicted_b = np.array([0] * (air - 10) + [1] * (auto + 20) + [2] * (bird - 10))\n",
        "\n",
        "# Unbalanced data\n",
        "air, auto, bird = 430, 10, 10\n",
        "actual_ub = np.array([0] * air + [1] * auto + [2] * bird)\n",
        "predicted_ub = np.array([0] * (air + 20) + [1] * (auto - 10) + [2] * (bird - 10))\n",
        "\n",
        "metrics.ConfusionMatrixDisplay(\n",
        "    confusion_matrix=metrics.confusion_matrix(actual_b, predicted_b),\n",
        "    display_labels=labels,\n",
        ").plot(ax=ax[0])\n",
        "\n",
        "metrics.ConfusionMatrixDisplay(\n",
        "    confusion_matrix=metrics.confusion_matrix(actual_ub, predicted_ub),\n",
        "    display_labels=labels,\n",
        ").plot(ax=ax[1])\n",
        "\n",
        "label_font = {\"size\": \"15\"}  # Adjust to fit\n",
        "ax[0].set_xlabel(\"Predicted labels\", fontdict=label_font)\n",
        "ax[0].set_ylabel(\"True labels\", fontdict=label_font)\n",
        "ax[1].set_xlabel(\"Predicted labels\", fontdict=label_font)\n",
        "ax[1].set_ylabel(\"True labels\", fontdict=label_font)\n",
        "\n",
        "plt.show()\n",
        "\n",
        "print(\n",
        "    f\"Accuracy for Balanced data   : {metrics.accuracy_score(actual_b, predicted_b):.2f}\"\n",
        ")\n",
        "print(\n",
        "    f\"Accuracy for Unbalanced data : {metrics.accuracy_score(actual_ub, predicted_ub):.2f}\"\n",
        ")"
      ]
    },
    {
      "cell_type": "code",
      "execution_count": null,
      "metadata": {
        "colab": {
          "base_uri": "https://localhost:8080/"
        },
        "id": "g6O8bvGakDMl",
        "outputId": "1a171d49-13f5-4d38-b41d-d69c1c1a8639"
      },
      "outputs": [
        {
          "output_type": "stream",
          "name": "stdout",
          "text": [
            "Balanced accuracy for Balanced data   : 0.96\n",
            "Balanced accuracy for Unbalanced data : 0.33\n"
          ]
        }
      ],
      "source": [
        "print(\n",
        "    f\"Balanced accuracy for Balanced data   : {metrics.balanced_accuracy_score(actual_b, predicted_b):.2f}\"\n",
        ")\n",
        "print(\n",
        "    f\"Balanced accuracy for Unbalanced data : {metrics.balanced_accuracy_score(actual_ub, predicted_ub):.2f}\"\n",
        ")"
      ]
    },
    {
      "cell_type": "markdown",
      "metadata": {
        "id": "OZA3J4GakDMl"
      },
      "source": [
        "## Precision, Recall"
      ]
    },
    {
      "cell_type": "markdown",
      "metadata": {
        "id": "_a-zHfQwkDMl"
      },
      "source": [
        "\n",
        "\n",
        "Для того, чтобы описать, как качественно алгоритм определяет метку объекта на каждом из классов и как много объектов из имеющихся находит, вводятся метрики **precision (точность)** и **recall (полнота)**."
      ]
    },
    {
      "cell_type": "markdown",
      "metadata": {
        "id": "LqPv95l8kDMl"
      },
      "source": [
        "<center><img src =\"https://ml.gan4x4.ru/msu/dev-2.1/L01/out/precision-recall.png\" width=\"650\" ></center>"
      ]
    },
    {
      "cell_type": "markdown",
      "metadata": {
        "id": "YpowamkOkDMl"
      },
      "source": [
        "$$\\large \\text{Precision} = \\dfrac{TP}{TP + FP}, \\quad \\text{Recall} = \\dfrac{TP}{TP + FN}$$"
      ]
    },
    {
      "cell_type": "markdown",
      "metadata": {
        "id": "rJbvhHnZkDMl"
      },
      "source": [
        "**Именно** введение **precision** не позволяет нам записывать все объекты в один класс, так как в этом случае мы получаем рост уровня False Positive. **Recall демонстрирует способность алгоритма обнаруживать данный класс вообще, а precision — способность отличать этот класс от других классов.**"
      ]
    },
    {
      "cell_type": "code",
      "execution_count": null,
      "metadata": {
        "colab": {
          "base_uri": "https://localhost:8080/"
        },
        "id": "Z4h-SJvlkDMm",
        "outputId": "a8aec532-ed03-48d0-ed99-3e650a879fdc"
      },
      "outputs": [
        {
          "output_type": "stream",
          "name": "stdout",
          "text": [
            "Precision: 0.500\n",
            "Recall: 0.667\n"
          ]
        }
      ],
      "source": [
        "from sklearn.metrics import precision_score, recall_score\n",
        "\n",
        "y_true = [0, 1, 0, 0, 1, 1]\n",
        "y_pred = [0, 1, 1, 1, 0, 1]\n",
        "\n",
        "precision = precision_score(y_true, y_pred)\n",
        "recall = recall_score(y_true, y_pred)\n",
        "\n",
        "print(f\"Precision: {precision:.3f}\")\n",
        "print(f\"Recall: {recall:.3f}\")"
      ]
    },
    {
      "cell_type": "markdown",
      "metadata": {
        "id": "LdmJSOJrkDMm"
      },
      "source": [
        "## F-мера"
      ]
    },
    {
      "cell_type": "markdown",
      "metadata": {
        "id": "5nCM4GBikDMm"
      },
      "source": [
        "Часто в реальной практике стоит задача найти **оптимальный** **баланс** между **Presicion и Recall**.\n",
        "\n",
        "Для этого вводится **$F_\\beta$-мера**:\n",
        "\n",
        "$$\\large F_\\beta = (1 + \\beta^2) \\cdot \\dfrac{\\text{precision} \\cdot \\text{recall}}{(\\beta^2 \\cdot \\text{precision}) + \\text{recall}}$$\n",
        "\n",
        "$\\beta$ в данном случае определяет относительное влияние precision и recall в метрике.\n",
        "\n"
      ]
    },
    {
      "cell_type": "markdown",
      "metadata": {
        "id": "-VMpXn1nkDMm"
      },
      "source": [
        "При $\\beta = 1$ $F_\\beta$-мера — это среднее гармоническое между Presicion и Recall.\n",
        "\n",
        "$$\\large F_1 = \\dfrac{2\\cdot\\text{precision} \\cdot \\text{recall}}{\\text{precision} + \\text{recall}}$$\n",
        "\n",
        "F-мера достигает максимума, когда полнота и точность равны единице, и близка к нулю, если один из аргументов близок к нулю."
      ]
    },
    {
      "cell_type": "markdown",
      "metadata": {
        "id": "Bt0KB-5WkDMm"
      },
      "source": [
        "Более наглядно: низкие значения точности не позволяют метрике $F_1$ вырасти."
      ]
    },
    {
      "cell_type": "markdown",
      "metadata": {
        "id": "PXYUaJOgkDMm"
      },
      "source": [
        "<center><img src =\"https://ml.gan4x4.ru/msu/dev-2.1/L01/out/f1_lines.png\" width=\"700\"></center>\n",
        "\n",
        "<center><em>Зависимость F1-меры от полноты при фиксированной точности. При точности 10% F1-мера не может быть больше 20%.</em></center>\n"
      ]
    },
    {
      "cell_type": "markdown",
      "metadata": {
        "id": "vZ-8iTnWkDMm"
      },
      "source": [
        "В Sklearn есть удобная функция `sklearn.metrics.classification_report`, возвращающая recall, precision и F1-меру для каждого из классов, а также количество экземпляров каждого класса."
      ]
    },
    {
      "cell_type": "code",
      "execution_count": null,
      "metadata": {
        "colab": {
          "base_uri": "https://localhost:8080/"
        },
        "id": "Rt5r8O8ekDMm",
        "outputId": "fcbceb89-c0fb-4a11-90c5-84268c48c9f6"
      },
      "outputs": [
        {
          "output_type": "stream",
          "name": "stdout",
          "text": [
            "              precision    recall  f1-score   support\n",
            "\n",
            "     class 0       0.50      0.33      0.40         3\n",
            "     class 1       0.50      0.67      0.57         3\n",
            "\n",
            "    accuracy                           0.50         6\n",
            "   macro avg       0.50      0.50      0.49         6\n",
            "weighted avg       0.50      0.50      0.49         6\n",
            "\n"
          ]
        }
      ],
      "source": [
        "from sklearn.metrics import classification_report\n",
        "\n",
        "\n",
        "target_names = [\"class 0\", \"class 1\"]\n",
        "print(classification_report(y_true, y_pred, target_names=target_names))"
      ]
    },
    {
      "cell_type": "markdown",
      "metadata": {
        "id": "YQxwcgVUkDMm"
      },
      "source": [
        "## AUC-ROC"
      ]
    },
    {
      "cell_type": "markdown",
      "metadata": {
        "id": "MJvIzVXgkDMm"
      },
      "source": [
        "Пусть решается задача **бинарной классификации**, и необходимо оценить качество классификатора.\n",
        "\n",
        "В общем случае **классификатор выдаёт предсказания** не в виде \"0\" и \"1\", а **в виде вероятности принадлежности к классу \"1\" в промежутке между 0 и 1**.\n",
        "\n",
        "Для того, чтобы рассчитать все метрики, которые мы рассмотрели выше, требуется бинаризовать предсказания модели по некоторому порогу и построить confusion matrix.\n",
        "\n",
        "Стандартный порог = 0.5. Если вероятность больше порогового значения, объект считается принадлежащим к классу 1, если меньше&nbsp;— к классу 0.\n",
        "Однако порог можно выставить и другой. Для того, чтобы оценить качество модели, не выбирая конкретный порог, можно построить **ROC-кривую**.\n"
      ]
    },
    {
      "cell_type": "markdown",
      "metadata": {
        "id": "sLGFZTe0kDMm"
      },
      "source": [
        "### Определение"
      ]
    },
    {
      "cell_type": "markdown",
      "metadata": {
        "id": "h1oioHCMkDMm"
      },
      "source": [
        "[[wiki] 📚 ROC-кривая (Receiver Operating Characteristic curve)](https://en.wikipedia.org/wiki/Receiver_operating_characteristic) — это график изменения True Positive Rate (TPR) против изменения False Positive Rate (FPR) при переборе всех значений порога классификации.\n",
        "\n",
        "$\\text{TPR}$ и $\\text{FPR}$ вычисляются по по следующим формулам:\n",
        "\n",
        "$$\\large \\text{TPR} = \\dfrac{TP}{TP + FN}, \\quad \\text{FPR} = \\dfrac{FP}{FP + TN}$$\n",
        "\n",
        "**Площадь под ROC-кривой** (AUC-ROC, Area Under the ROC Curve) является численной характеристикой качества классификатора.\n",
        "\n",
        "**AUC-ROC является одной из немногих метрик, позволяющих оценить качество классификатора без необходимости подбора конкретного порога.**\n",
        "\n",
        "[[demo] 🎮 Интерактивная визуализация](http://navan.name/roc/) влияния порога на разделение двух классов"
      ]
    },
    {
      "cell_type": "markdown",
      "metadata": {
        "id": "fIJzjlfvkDMn"
      },
      "source": [
        "### Построение"
      ]
    },
    {
      "cell_type": "markdown",
      "metadata": {
        "id": "ekAMvnxokDMn"
      },
      "source": [
        "Рассмотрим на примере. У нас есть таблица с предсказаниями модели (оценка уверенности в классе 1) и истинной разметкой классов. Отсортируем значения по убыванию оценки от модели.\n",
        "Если классификатор хорошо справляется с задачей, то вверху будет много единиц, а внизу — много нулей. Если классификатор неудачный — случайное распределение меток $0$ и $1$."
      ]
    },
    {
      "cell_type": "markdown",
      "metadata": {
        "id": "Rpzm2mDJkDMn"
      },
      "source": [
        "<center><img src=\"https://ml.gan4x4.ru/msu/dev-2.1/L01/out/roc_auc_data_example.png\" width=\"600\"/></center>"
      ]
    },
    {
      "cell_type": "markdown",
      "metadata": {
        "id": "ZdfxUjWAkDMn"
      },
      "source": [
        "Приступим непосредственно к изображению графика ROC-кривой. Начнём с квадрата единичной площади и изобразим на нём прямоугольную координатную сетку, равномерно нанеся $m$ горизонтальных линий и $n$ вертикальных. Число горизонтальных линий $m$ соответствует количеству объектов класса $1$ из рассматриваемой выборки, а число $n$ — количеству объектов класса $0$. В нашем примере $m=3$ и $n=4$. Таким образом, квадрат единичной площади разбился на 12 ($m \\times n$) прямоугольных блоков."
      ]
    },
    {
      "cell_type": "markdown",
      "metadata": {
        "id": "DxqV7HQHkDMn"
      },
      "source": [
        "Начиная из точки $(0, 0)$, построим ломаную линию в точку $(1, 1)$ по узлам получившейся решетки по следующему алгоритму, пройдя по строкам таблицы 2 сверху вниз:\n",
        "- **оценка** алгоритма для объекта из текущей строки не равна оценке для объекта из следующей:\n",
        " - если класс $1$, рисуем линию до следующего узла вертикально вверх\n",
        " - если класс $0$, рисуем линию до следующего узла горизонтально направо\n",
        "- оценки для объектов в нескольких последующих строках совпадают:\n",
        " - нарисовать линию из текущего узла в узел, располагающийся на $k$ углов вертикально выше и на $l$ узлов левее. $k$ и $l$ соответственно равны количеству объектов класса $1$ и $0$ среди группы повторяющихся оценок классификатора"
      ]
    },
    {
      "cell_type": "markdown",
      "metadata": {
        "id": "j7UulyVQkDMn"
      },
      "source": [
        "<center><img src=\"https://ml.gan4x4.ru/msu/dev-2.1/L01/out/make_roc_curve.png\" width=\"500\"/></center>\n",
        "\n",
        "<center><em>Рис.1. Построение ROC-кривой</em></center>"
      ]
    },
    {
      "cell_type": "markdown",
      "metadata": {
        "id": "YI_cJVogkDMn"
      },
      "source": [
        "**Линия справа** на рис. 1 и есть **ROC-кривая**. Вычислим площадь под получившийся кривой — **AUC-ROC**. AUC-ROC $= 9.5 / 12 \\sim 0.79$.\n",
        "\n",
        "\n",
        "Так как мы начали свое построение с квадрата единичной площади, то AUC-ROC может принимать значения в $[0,1]$."
      ]
    },
    {
      "cell_type": "markdown",
      "metadata": {
        "id": "oV8Y2SqMkDMn"
      },
      "source": [
        "1. ROC-кривая абсолютно точного бинарного классификатора имеет вид единичного квадрата, его AUC-ROC = 1.\n",
        "\n",
        "2. Если классификатор для всех объектов предскажет одно и то же значение, то его AUC-ROC = 0.5\n",
        "\n",
        "3. ROC-кривая для всегда ошибающегося бинарного классификатора, в этом случае AUC-ROC = 0.\n",
        "\n"
      ]
    },
    {
      "cell_type": "markdown",
      "metadata": {
        "id": "JPCucYkEkDMn"
      },
      "source": [
        "<center><img src=\"https://ml.gan4x4.ru/msu/dev-2.1/L01/out/various_roc_curves.png\" width=\"500\"/></center>\n",
        "\n",
        "<center><em>Рис. 2. ROC-кривые для наилучшего (AUC=1), константного (AUC=0.5) и наихудшего (AUC=0) алгоритма</em></center>\n"
      ]
    },
    {
      "cell_type": "markdown",
      "metadata": {
        "id": "_t5h0EunkDMn"
      },
      "source": [
        "Сгенерируем датасет для демонстрации:"
      ]
    },
    {
      "cell_type": "code",
      "execution_count": null,
      "metadata": {
        "colab": {
          "base_uri": "https://localhost:8080/",
          "height": 206
        },
        "id": "lxWU1vadkDMn",
        "outputId": "69196e1d-41a8-472b-eb6e-26dc70488b85"
      },
      "outputs": [
        {
          "output_type": "execute_result",
          "data": {
            "text/plain": [
              "   y_true  y_scores\n",
              "0       0  0.678709\n",
              "1       1  0.842593\n",
              "2       0  0.657649\n",
              "3       0  0.626379\n",
              "4       0  0.418530"
            ],
            "text/html": [
              "\n",
              "  <div id=\"df-d73b1f2f-bfd3-4c5e-801a-873fc7937047\" class=\"colab-df-container\">\n",
              "    <div>\n",
              "<style scoped>\n",
              "    .dataframe tbody tr th:only-of-type {\n",
              "        vertical-align: middle;\n",
              "    }\n",
              "\n",
              "    .dataframe tbody tr th {\n",
              "        vertical-align: top;\n",
              "    }\n",
              "\n",
              "    .dataframe thead th {\n",
              "        text-align: right;\n",
              "    }\n",
              "</style>\n",
              "<table border=\"1\" class=\"dataframe\">\n",
              "  <thead>\n",
              "    <tr style=\"text-align: right;\">\n",
              "      <th></th>\n",
              "      <th>y_true</th>\n",
              "      <th>y_scores</th>\n",
              "    </tr>\n",
              "  </thead>\n",
              "  <tbody>\n",
              "    <tr>\n",
              "      <th>0</th>\n",
              "      <td>0</td>\n",
              "      <td>0.678709</td>\n",
              "    </tr>\n",
              "    <tr>\n",
              "      <th>1</th>\n",
              "      <td>1</td>\n",
              "      <td>0.842593</td>\n",
              "    </tr>\n",
              "    <tr>\n",
              "      <th>2</th>\n",
              "      <td>0</td>\n",
              "      <td>0.657649</td>\n",
              "    </tr>\n",
              "    <tr>\n",
              "      <th>3</th>\n",
              "      <td>0</td>\n",
              "      <td>0.626379</td>\n",
              "    </tr>\n",
              "    <tr>\n",
              "      <th>4</th>\n",
              "      <td>0</td>\n",
              "      <td>0.418530</td>\n",
              "    </tr>\n",
              "  </tbody>\n",
              "</table>\n",
              "</div>\n",
              "    <div class=\"colab-df-buttons\">\n",
              "\n",
              "  <div class=\"colab-df-container\">\n",
              "    <button class=\"colab-df-convert\" onclick=\"convertToInteractive('df-d73b1f2f-bfd3-4c5e-801a-873fc7937047')\"\n",
              "            title=\"Convert this dataframe to an interactive table.\"\n",
              "            style=\"display:none;\">\n",
              "\n",
              "  <svg xmlns=\"http://www.w3.org/2000/svg\" height=\"24px\" viewBox=\"0 -960 960 960\">\n",
              "    <path d=\"M120-120v-720h720v720H120Zm60-500h600v-160H180v160Zm220 220h160v-160H400v160Zm0 220h160v-160H400v160ZM180-400h160v-160H180v160Zm440 0h160v-160H620v160ZM180-180h160v-160H180v160Zm440 0h160v-160H620v160Z\"/>\n",
              "  </svg>\n",
              "    </button>\n",
              "\n",
              "  <style>\n",
              "    .colab-df-container {\n",
              "      display:flex;\n",
              "      gap: 12px;\n",
              "    }\n",
              "\n",
              "    .colab-df-convert {\n",
              "      background-color: #E8F0FE;\n",
              "      border: none;\n",
              "      border-radius: 50%;\n",
              "      cursor: pointer;\n",
              "      display: none;\n",
              "      fill: #1967D2;\n",
              "      height: 32px;\n",
              "      padding: 0 0 0 0;\n",
              "      width: 32px;\n",
              "    }\n",
              "\n",
              "    .colab-df-convert:hover {\n",
              "      background-color: #E2EBFA;\n",
              "      box-shadow: 0px 1px 2px rgba(60, 64, 67, 0.3), 0px 1px 3px 1px rgba(60, 64, 67, 0.15);\n",
              "      fill: #174EA6;\n",
              "    }\n",
              "\n",
              "    .colab-df-buttons div {\n",
              "      margin-bottom: 4px;\n",
              "    }\n",
              "\n",
              "    [theme=dark] .colab-df-convert {\n",
              "      background-color: #3B4455;\n",
              "      fill: #D2E3FC;\n",
              "    }\n",
              "\n",
              "    [theme=dark] .colab-df-convert:hover {\n",
              "      background-color: #434B5C;\n",
              "      box-shadow: 0px 1px 3px 1px rgba(0, 0, 0, 0.15);\n",
              "      filter: drop-shadow(0px 1px 2px rgba(0, 0, 0, 0.3));\n",
              "      fill: #FFFFFF;\n",
              "    }\n",
              "  </style>\n",
              "\n",
              "    <script>\n",
              "      const buttonEl =\n",
              "        document.querySelector('#df-d73b1f2f-bfd3-4c5e-801a-873fc7937047 button.colab-df-convert');\n",
              "      buttonEl.style.display =\n",
              "        google.colab.kernel.accessAllowed ? 'block' : 'none';\n",
              "\n",
              "      async function convertToInteractive(key) {\n",
              "        const element = document.querySelector('#df-d73b1f2f-bfd3-4c5e-801a-873fc7937047');\n",
              "        const dataTable =\n",
              "          await google.colab.kernel.invokeFunction('convertToInteractive',\n",
              "                                                    [key], {});\n",
              "        if (!dataTable) return;\n",
              "\n",
              "        const docLinkHtml = 'Like what you see? Visit the ' +\n",
              "          '<a target=\"_blank\" href=https://colab.research.google.com/notebooks/data_table.ipynb>data table notebook</a>'\n",
              "          + ' to learn more about interactive tables.';\n",
              "        element.innerHTML = '';\n",
              "        dataTable['output_type'] = 'display_data';\n",
              "        await google.colab.output.renderOutput(dataTable, element);\n",
              "        const docLink = document.createElement('div');\n",
              "        docLink.innerHTML = docLinkHtml;\n",
              "        element.appendChild(docLink);\n",
              "      }\n",
              "    </script>\n",
              "  </div>\n",
              "\n",
              "\n",
              "<div id=\"df-38581dd7-0801-4d07-a19b-1b73b1329552\">\n",
              "  <button class=\"colab-df-quickchart\" onclick=\"quickchart('df-38581dd7-0801-4d07-a19b-1b73b1329552')\"\n",
              "            title=\"Suggest charts\"\n",
              "            style=\"display:none;\">\n",
              "\n",
              "<svg xmlns=\"http://www.w3.org/2000/svg\" height=\"24px\"viewBox=\"0 0 24 24\"\n",
              "     width=\"24px\">\n",
              "    <g>\n",
              "        <path d=\"M19 3H5c-1.1 0-2 .9-2 2v14c0 1.1.9 2 2 2h14c1.1 0 2-.9 2-2V5c0-1.1-.9-2-2-2zM9 17H7v-7h2v7zm4 0h-2V7h2v10zm4 0h-2v-4h2v4z\"/>\n",
              "    </g>\n",
              "</svg>\n",
              "  </button>\n",
              "\n",
              "<style>\n",
              "  .colab-df-quickchart {\n",
              "      --bg-color: #E8F0FE;\n",
              "      --fill-color: #1967D2;\n",
              "      --hover-bg-color: #E2EBFA;\n",
              "      --hover-fill-color: #174EA6;\n",
              "      --disabled-fill-color: #AAA;\n",
              "      --disabled-bg-color: #DDD;\n",
              "  }\n",
              "\n",
              "  [theme=dark] .colab-df-quickchart {\n",
              "      --bg-color: #3B4455;\n",
              "      --fill-color: #D2E3FC;\n",
              "      --hover-bg-color: #434B5C;\n",
              "      --hover-fill-color: #FFFFFF;\n",
              "      --disabled-bg-color: #3B4455;\n",
              "      --disabled-fill-color: #666;\n",
              "  }\n",
              "\n",
              "  .colab-df-quickchart {\n",
              "    background-color: var(--bg-color);\n",
              "    border: none;\n",
              "    border-radius: 50%;\n",
              "    cursor: pointer;\n",
              "    display: none;\n",
              "    fill: var(--fill-color);\n",
              "    height: 32px;\n",
              "    padding: 0;\n",
              "    width: 32px;\n",
              "  }\n",
              "\n",
              "  .colab-df-quickchart:hover {\n",
              "    background-color: var(--hover-bg-color);\n",
              "    box-shadow: 0 1px 2px rgba(60, 64, 67, 0.3), 0 1px 3px 1px rgba(60, 64, 67, 0.15);\n",
              "    fill: var(--button-hover-fill-color);\n",
              "  }\n",
              "\n",
              "  .colab-df-quickchart-complete:disabled,\n",
              "  .colab-df-quickchart-complete:disabled:hover {\n",
              "    background-color: var(--disabled-bg-color);\n",
              "    fill: var(--disabled-fill-color);\n",
              "    box-shadow: none;\n",
              "  }\n",
              "\n",
              "  .colab-df-spinner {\n",
              "    border: 2px solid var(--fill-color);\n",
              "    border-color: transparent;\n",
              "    border-bottom-color: var(--fill-color);\n",
              "    animation:\n",
              "      spin 1s steps(1) infinite;\n",
              "  }\n",
              "\n",
              "  @keyframes spin {\n",
              "    0% {\n",
              "      border-color: transparent;\n",
              "      border-bottom-color: var(--fill-color);\n",
              "      border-left-color: var(--fill-color);\n",
              "    }\n",
              "    20% {\n",
              "      border-color: transparent;\n",
              "      border-left-color: var(--fill-color);\n",
              "      border-top-color: var(--fill-color);\n",
              "    }\n",
              "    30% {\n",
              "      border-color: transparent;\n",
              "      border-left-color: var(--fill-color);\n",
              "      border-top-color: var(--fill-color);\n",
              "      border-right-color: var(--fill-color);\n",
              "    }\n",
              "    40% {\n",
              "      border-color: transparent;\n",
              "      border-right-color: var(--fill-color);\n",
              "      border-top-color: var(--fill-color);\n",
              "    }\n",
              "    60% {\n",
              "      border-color: transparent;\n",
              "      border-right-color: var(--fill-color);\n",
              "    }\n",
              "    80% {\n",
              "      border-color: transparent;\n",
              "      border-right-color: var(--fill-color);\n",
              "      border-bottom-color: var(--fill-color);\n",
              "    }\n",
              "    90% {\n",
              "      border-color: transparent;\n",
              "      border-bottom-color: var(--fill-color);\n",
              "    }\n",
              "  }\n",
              "</style>\n",
              "\n",
              "  <script>\n",
              "    async function quickchart(key) {\n",
              "      const quickchartButtonEl =\n",
              "        document.querySelector('#' + key + ' button');\n",
              "      quickchartButtonEl.disabled = true;  // To prevent multiple clicks.\n",
              "      quickchartButtonEl.classList.add('colab-df-spinner');\n",
              "      try {\n",
              "        const charts = await google.colab.kernel.invokeFunction(\n",
              "            'suggestCharts', [key], {});\n",
              "      } catch (error) {\n",
              "        console.error('Error during call to suggestCharts:', error);\n",
              "      }\n",
              "      quickchartButtonEl.classList.remove('colab-df-spinner');\n",
              "      quickchartButtonEl.classList.add('colab-df-quickchart-complete');\n",
              "    }\n",
              "    (() => {\n",
              "      let quickchartButtonEl =\n",
              "        document.querySelector('#df-38581dd7-0801-4d07-a19b-1b73b1329552 button');\n",
              "      quickchartButtonEl.style.display =\n",
              "        google.colab.kernel.accessAllowed ? 'block' : 'none';\n",
              "    })();\n",
              "  </script>\n",
              "</div>\n",
              "    </div>\n",
              "  </div>\n"
            ],
            "application/vnd.google.colaboratory.intrinsic+json": {
              "type": "dataframe",
              "variable_name": "data",
              "summary": "{\n  \"name\": \"data\",\n  \"rows\": 100,\n  \"fields\": [\n    {\n      \"column\": \"y_true\",\n      \"properties\": {\n        \"dtype\": \"number\",\n        \"std\": 0,\n        \"min\": 0,\n        \"max\": 1,\n        \"num_unique_values\": 2,\n        \"samples\": [\n          1,\n          0\n        ],\n        \"semantic_type\": \"\",\n        \"description\": \"\"\n      }\n    },\n    {\n      \"column\": \"y_scores\",\n      \"properties\": {\n        \"dtype\": \"number\",\n        \"std\": 0.26131142433792315,\n        \"min\": 0.004866491371833492,\n        \"max\": 0.9802474579046725,\n        \"num_unique_values\": 100,\n        \"samples\": [\n          0.5363306199825395,\n          0.6559994838152918\n        ],\n        \"semantic_type\": \"\",\n        \"description\": \"\"\n      }\n    }\n  ]\n}"
            }
          },
          "metadata": {},
          "execution_count": 5
        }
      ],
      "source": [
        "import pandas as pd\n",
        "\n",
        "np.random.seed(42)\n",
        "n_samples = 100\n",
        "y_true = np.random.randint(0, 2, size=n_samples)  # true labels (0 or 1)\n",
        "\n",
        "# Generate proba\n",
        "y_score = 0.3 * y_true + 0.7 * np.random.rand(n_samples)\n",
        "\n",
        "data = pd.DataFrame({\"y_true\": y_true, \"y_scores\": y_score})\n",
        "\n",
        "data.head(5)"
      ]
    },
    {
      "cell_type": "markdown",
      "metadata": {
        "id": "KdW8dW8CkDMn"
      },
      "source": [
        "Построим ROC-кривую в коде и отобразим ее, а также посчитаем AUC-ROC.\n",
        "\n",
        "Построить ROC-кривую можно с помощью функции `sklearn.metrics.roc_curve` [🛠️[doc]](https://scikit-learn.org/stable/modules/generated/sklearn.metrics.roc_curve.html). Она принимает на вход:\n",
        "* массив истинных меток классов `y_true`,\n",
        "* массив оценок вероятностей `y_score`.\n",
        "\n",
        "И возвращает:\n",
        "\n",
        "* массив значений FPR,\n",
        "* массив значений TPR,\n",
        "* массив перебранных порогов.\n",
        "\n",
        "Посчитать AUC-ROC можно с помощью функции `sklearn.metrics.roc_auc_score` [🛠️[doc]](https://scikit-learn.org/stable/modules/generated/sklearn.metrics.roc_auc_score.html). Она принимает на вход массивы `y_true` и `y_score` и возвращает значение AUC-ROC."
      ]
    },
    {
      "cell_type": "code",
      "execution_count": null,
      "metadata": {
        "colab": {
          "base_uri": "https://localhost:8080/",
          "height": 599
        },
        "id": "KvzbYlC9kDMn",
        "outputId": "4f266833-4d17-4a55-b48a-cceb56503ee7"
      },
      "outputs": [
        {
          "output_type": "stream",
          "name": "stdout",
          "text": [
            "ROC AUC: 0.84\n"
          ]
        },
        {
          "output_type": "display_data",
          "data": {
            "text/plain": [
              "<Figure size 800x600 with 1 Axes>"
            ],
            "image/png": "[encoded data removed]"
          },
          "metadata": {}
        }
      ],
      "source": [
        "from sklearn.metrics import roc_curve, roc_auc_score\n",
        "\n",
        "roc_auc = roc_auc_score(y_true, y_score)\n",
        "print(f\"ROC AUC: {roc_auc:.2f}\")\n",
        "\n",
        "# Plot ROC curve\n",
        "fpr, tpr, thresholds = roc_curve(y_true, y_score)\n",
        "\n",
        "plt.figure(figsize=(8, 6))\n",
        "plt.plot(fpr, tpr, label=f\"ROC curve (area = {roc_auc:.2f})\")\n",
        "plt.plot([0, 1], [0, 1], \"k--\", label=\"Random classifier\")\n",
        "plt.xlim([0.0, 1.0])\n",
        "plt.ylim([0.0, 1.05])\n",
        "plt.xlabel(\"False Positive Rate\")\n",
        "plt.ylabel(\"True Positive Rate\")\n",
        "plt.title(\"Receiver Operating Characteristic (ROC) Curve\")\n",
        "plt.legend(loc=\"lower right\")\n",
        "plt.show()"
      ]
    },
    {
      "cell_type": "markdown",
      "metadata": {
        "id": "xJzHkktAkDMo"
      },
      "source": [
        "Посмотрим на значения нагляднее, где $\\text{TPR}, \\text{FPR}$ для каждого порога:"
      ]
    },
    {
      "cell_type": "code",
      "execution_count": null,
      "metadata": {
        "colab": {
          "base_uri": "https://localhost:8080/",
          "height": 363
        },
        "id": "MMHtqMvbkDMo",
        "outputId": "1ac57a99-6f24-4e03-c9ee-7b9c90ba1315"
      },
      "outputs": [
        {
          "output_type": "execute_result",
          "data": {
            "text/plain": [
              "        FPR       TPR  thresholds\n",
              "0  0.000000  0.017857    0.980247\n",
              "1  0.000000  0.410714    0.692894\n",
              "2  0.045455  0.410714    0.678709\n",
              "3  0.045455  0.464286    0.663153\n",
              "4  0.090909  0.464286    0.657649\n",
              "5  0.090909  0.517857    0.651875\n",
              "6  0.113636  0.517857    0.650788\n",
              "7  0.113636  0.553571    0.645657\n",
              "8  0.204545  0.553571    0.604172\n",
              "9  0.204545  0.589286    0.587268"
            ],
            "text/html": [
              "\n",
              "  <div id=\"df-bc73639c-1955-489c-a622-b72298d96fb6\" class=\"colab-df-container\">\n",
              "    <div>\n",
              "<style scoped>\n",
              "    .dataframe tbody tr th:only-of-type {\n",
              "        vertical-align: middle;\n",
              "    }\n",
              "\n",
              "    .dataframe tbody tr th {\n",
              "        vertical-align: top;\n",
              "    }\n",
              "\n",
              "    .dataframe thead th {\n",
              "        text-align: right;\n",
              "    }\n",
              "</style>\n",
              "<table border=\"1\" class=\"dataframe\">\n",
              "  <thead>\n",
              "    <tr style=\"text-align: right;\">\n",
              "      <th></th>\n",
              "      <th>FPR</th>\n",
              "      <th>TPR</th>\n",
              "      <th>thresholds</th>\n",
              "    </tr>\n",
              "  </thead>\n",
              "  <tbody>\n",
              "    <tr>\n",
              "      <th>0</th>\n",
              "      <td>0.000000</td>\n",
              "      <td>0.017857</td>\n",
              "      <td>0.980247</td>\n",
              "    </tr>\n",
              "    <tr>\n",
              "      <th>1</th>\n",
              "      <td>0.000000</td>\n",
              "      <td>0.410714</td>\n",
              "      <td>0.692894</td>\n",
              "    </tr>\n",
              "    <tr>\n",
              "      <th>2</th>\n",
              "      <td>0.045455</td>\n",
              "      <td>0.410714</td>\n",
              "      <td>0.678709</td>\n",
              "    </tr>\n",
              "    <tr>\n",
              "      <th>3</th>\n",
              "      <td>0.045455</td>\n",
              "      <td>0.464286</td>\n",
              "      <td>0.663153</td>\n",
              "    </tr>\n",
              "    <tr>\n",
              "      <th>4</th>\n",
              "      <td>0.090909</td>\n",
              "      <td>0.464286</td>\n",
              "      <td>0.657649</td>\n",
              "    </tr>\n",
              "    <tr>\n",
              "      <th>5</th>\n",
              "      <td>0.090909</td>\n",
              "      <td>0.517857</td>\n",
              "      <td>0.651875</td>\n",
              "    </tr>\n",
              "    <tr>\n",
              "      <th>6</th>\n",
              "      <td>0.113636</td>\n",
              "      <td>0.517857</td>\n",
              "      <td>0.650788</td>\n",
              "    </tr>\n",
              "    <tr>\n",
              "      <th>7</th>\n",
              "      <td>0.113636</td>\n",
              "      <td>0.553571</td>\n",
              "      <td>0.645657</td>\n",
              "    </tr>\n",
              "    <tr>\n",
              "      <th>8</th>\n",
              "      <td>0.204545</td>\n",
              "      <td>0.553571</td>\n",
              "      <td>0.604172</td>\n",
              "    </tr>\n",
              "    <tr>\n",
              "      <th>9</th>\n",
              "      <td>0.204545</td>\n",
              "      <td>0.589286</td>\n",
              "      <td>0.587268</td>\n",
              "    </tr>\n",
              "  </tbody>\n",
              "</table>\n",
              "</div>\n",
              "    <div class=\"colab-df-buttons\">\n",
              "\n",
              "  <div class=\"colab-df-container\">\n",
              "    <button class=\"colab-df-convert\" onclick=\"convertToInteractive('df-bc73639c-1955-489c-a622-b72298d96fb6')\"\n",
              "            title=\"Convert this dataframe to an interactive table.\"\n",
              "            style=\"display:none;\">\n",
              "\n",
              "  <svg xmlns=\"http://www.w3.org/2000/svg\" height=\"24px\" viewBox=\"0 -960 960 960\">\n",
              "    <path d=\"M120-120v-720h720v720H120Zm60-500h600v-160H180v160Zm220 220h160v-160H400v160Zm0 220h160v-160H400v160ZM180-400h160v-160H180v160Zm440 0h160v-160H620v160ZM180-180h160v-160H180v160Zm440 0h160v-160H620v160Z\"/>\n",
              "  </svg>\n",
              "    </button>\n",
              "\n",
              "  <style>\n",
              "    .colab-df-container {\n",
              "      display:flex;\n",
              "      gap: 12px;\n",
              "    }\n",
              "\n",
              "    .colab-df-convert {\n",
              "      background-color: #E8F0FE;\n",
              "      border: none;\n",
              "      border-radius: 50%;\n",
              "      cursor: pointer;\n",
              "      display: none;\n",
              "      fill: #1967D2;\n",
              "      height: 32px;\n",
              "      padding: 0 0 0 0;\n",
              "      width: 32px;\n",
              "    }\n",
              "\n",
              "    .colab-df-convert:hover {\n",
              "      background-color: #E2EBFA;\n",
              "      box-shadow: 0px 1px 2px rgba(60, 64, 67, 0.3), 0px 1px 3px 1px rgba(60, 64, 67, 0.15);\n",
              "      fill: #174EA6;\n",
              "    }\n",
              "\n",
              "    .colab-df-buttons div {\n",
              "      margin-bottom: 4px;\n",
              "    }\n",
              "\n",
              "    [theme=dark] .colab-df-convert {\n",
              "      background-color: #3B4455;\n",
              "      fill: #D2E3FC;\n",
              "    }\n",
              "\n",
              "    [theme=dark] .colab-df-convert:hover {\n",
              "      background-color: #434B5C;\n",
              "      box-shadow: 0px 1px 3px 1px rgba(0, 0, 0, 0.15);\n",
              "      filter: drop-shadow(0px 1px 2px rgba(0, 0, 0, 0.3));\n",
              "      fill: #FFFFFF;\n",
              "    }\n",
              "  </style>\n",
              "\n",
              "    <script>\n",
              "      const buttonEl =\n",
              "        document.querySelector('#df-bc73639c-1955-489c-a622-b72298d96fb6 button.colab-df-convert');\n",
              "      buttonEl.style.display =\n",
              "        google.colab.kernel.accessAllowed ? 'block' : 'none';\n",
              "\n",
              "      async function convertToInteractive(key) {\n",
              "        const element = document.querySelector('#df-bc73639c-1955-489c-a622-b72298d96fb6');\n",
              "        const dataTable =\n",
              "          await google.colab.kernel.invokeFunction('convertToInteractive',\n",
              "                                                    [key], {});\n",
              "        if (!dataTable) return;\n",
              "\n",
              "        const docLinkHtml = 'Like what you see? Visit the ' +\n",
              "          '<a target=\"_blank\" href=https://colab.research.google.com/notebooks/data_table.ipynb>data table notebook</a>'\n",
              "          + ' to learn more about interactive tables.';\n",
              "        element.innerHTML = '';\n",
              "        dataTable['output_type'] = 'display_data';\n",
              "        await google.colab.output.renderOutput(dataTable, element);\n",
              "        const docLink = document.createElement('div');\n",
              "        docLink.innerHTML = docLinkHtml;\n",
              "        element.appendChild(docLink);\n",
              "      }\n",
              "    </script>\n",
              "  </div>\n",
              "\n",
              "\n",
              "<div id=\"df-0a645099-3321-48fb-85f1-43e4431350d7\">\n",
              "  <button class=\"colab-df-quickchart\" onclick=\"quickchart('df-0a645099-3321-48fb-85f1-43e4431350d7')\"\n",
              "            title=\"Suggest charts\"\n",
              "            style=\"display:none;\">\n",
              "\n",
              "<svg xmlns=\"http://www.w3.org/2000/svg\" height=\"24px\"viewBox=\"0 0 24 24\"\n",
              "     width=\"24px\">\n",
              "    <g>\n",
              "        <path d=\"M19 3H5c-1.1 0-2 .9-2 2v14c0 1.1.9 2 2 2h14c1.1 0 2-.9 2-2V5c0-1.1-.9-2-2-2zM9 17H7v-7h2v7zm4 0h-2V7h2v10zm4 0h-2v-4h2v4z\"/>\n",
              "    </g>\n",
              "</svg>\n",
              "  </button>\n",
              "\n",
              "<style>\n",
              "  .colab-df-quickchart {\n",
              "      --bg-color: #E8F0FE;\n",
              "      --fill-color: #1967D2;\n",
              "      --hover-bg-color: #E2EBFA;\n",
              "      --hover-fill-color: #174EA6;\n",
              "      --disabled-fill-color: #AAA;\n",
              "      --disabled-bg-color: #DDD;\n",
              "  }\n",
              "\n",
              "  [theme=dark] .colab-df-quickchart {\n",
              "      --bg-color: #3B4455;\n",
              "      --fill-color: #D2E3FC;\n",
              "      --hover-bg-color: #434B5C;\n",
              "      --hover-fill-color: #FFFFFF;\n",
              "      --disabled-bg-color: #3B4455;\n",
              "      --disabled-fill-color: #666;\n",
              "  }\n",
              "\n",
              "  .colab-df-quickchart {\n",
              "    background-color: var(--bg-color);\n",
              "    border: none;\n",
              "    border-radius: 50%;\n",
              "    cursor: pointer;\n",
              "    display: none;\n",
              "    fill: var(--fill-color);\n",
              "    height: 32px;\n",
              "    padding: 0;\n",
              "    width: 32px;\n",
              "  }\n",
              "\n",
              "  .colab-df-quickchart:hover {\n",
              "    background-color: var(--hover-bg-color);\n",
              "    box-shadow: 0 1px 2px rgba(60, 64, 67, 0.3), 0 1px 3px 1px rgba(60, 64, 67, 0.15);\n",
              "    fill: var(--button-hover-fill-color);\n",
              "  }\n",
              "\n",
              "  .colab-df-quickchart-complete:disabled,\n",
              "  .colab-df-quickchart-complete:disabled:hover {\n",
              "    background-color: var(--disabled-bg-color);\n",
              "    fill: var(--disabled-fill-color);\n",
              "    box-shadow: none;\n",
              "  }\n",
              "\n",
              "  .colab-df-spinner {\n",
              "    border: 2px solid var(--fill-color);\n",
              "    border-color: transparent;\n",
              "    border-bottom-color: var(--fill-color);\n",
              "    animation:\n",
              "      spin 1s steps(1) infinite;\n",
              "  }\n",
              "\n",
              "  @keyframes spin {\n",
              "    0% {\n",
              "      border-color: transparent;\n",
              "      border-bottom-color: var(--fill-color);\n",
              "      border-left-color: var(--fill-color);\n",
              "    }\n",
              "    20% {\n",
              "      border-color: transparent;\n",
              "      border-left-color: var(--fill-color);\n",
              "      border-top-color: var(--fill-color);\n",
              "    }\n",
              "    30% {\n",
              "      border-color: transparent;\n",
              "      border-left-color: var(--fill-color);\n",
              "      border-top-color: var(--fill-color);\n",
              "      border-right-color: var(--fill-color);\n",
              "    }\n",
              "    40% {\n",
              "      border-color: transparent;\n",
              "      border-right-color: var(--fill-color);\n",
              "      border-top-color: var(--fill-color);\n",
              "    }\n",
              "    60% {\n",
              "      border-color: transparent;\n",
              "      border-right-color: var(--fill-color);\n",
              "    }\n",
              "    80% {\n",
              "      border-color: transparent;\n",
              "      border-right-color: var(--fill-color);\n",
              "      border-bottom-color: var(--fill-color);\n",
              "    }\n",
              "    90% {\n",
              "      border-color: transparent;\n",
              "      border-bottom-color: var(--fill-color);\n",
              "    }\n",
              "  }\n",
              "</style>\n",
              "\n",
              "  <script>\n",
              "    async function quickchart(key) {\n",
              "      const quickchartButtonEl =\n",
              "        document.querySelector('#' + key + ' button');\n",
              "      quickchartButtonEl.disabled = true;  // To prevent multiple clicks.\n",
              "      quickchartButtonEl.classList.add('colab-df-spinner');\n",
              "      try {\n",
              "        const charts = await google.colab.kernel.invokeFunction(\n",
              "            'suggestCharts', [key], {});\n",
              "      } catch (error) {\n",
              "        console.error('Error during call to suggestCharts:', error);\n",
              "      }\n",
              "      quickchartButtonEl.classList.remove('colab-df-spinner');\n",
              "      quickchartButtonEl.classList.add('colab-df-quickchart-complete');\n",
              "    }\n",
              "    (() => {\n",
              "      let quickchartButtonEl =\n",
              "        document.querySelector('#df-0a645099-3321-48fb-85f1-43e4431350d7 button');\n",
              "      quickchartButtonEl.style.display =\n",
              "        google.colab.kernel.accessAllowed ? 'block' : 'none';\n",
              "    })();\n",
              "  </script>\n",
              "</div>\n",
              "    </div>\n",
              "  </div>\n"
            ],
            "application/vnd.google.colaboratory.intrinsic+json": {
              "type": "dataframe",
              "variable_name": "df_tmp",
              "summary": "{\n  \"name\": \"df_tmp\",\n  \"rows\": 25,\n  \"fields\": [\n    {\n      \"column\": \"FPR\",\n      \"properties\": {\n        \"dtype\": \"number\",\n        \"std\": 0.2108579810068141,\n        \"min\": 0.0,\n        \"max\": 1.0,\n        \"num_unique_values\": 13,\n        \"samples\": [\n          0.45454545454545453,\n          0.4090909090909091,\n          0.0\n        ],\n        \"semantic_type\": \"\",\n        \"description\": \"\"\n      }\n    },\n    {\n      \"column\": \"TPR\",\n      \"properties\": {\n        \"dtype\": \"number\",\n        \"std\": 0.22487004939663766,\n        \"min\": 0.017857142857142856,\n        \"max\": 1.0,\n        \"num_unique_values\": 13,\n        \"samples\": [\n          0.9464285714285714,\n          0.8035714285714286,\n          0.017857142857142856\n        ],\n        \"semantic_type\": \"\",\n        \"description\": \"\"\n      }\n    },\n    {\n      \"column\": \"thresholds\",\n      \"properties\": {\n        \"dtype\": \"number\",\n        \"std\": 0.1834693148260726,\n        \"min\": 0.004866491371833492,\n        \"max\": 0.9802474579046725,\n        \"num_unique_values\": 25,\n        \"samples\": [\n          0.6041723981129155,\n          0.49211327122662446,\n          0.9802474579046725\n        ],\n        \"semantic_type\": \"\",\n        \"description\": \"\"\n      }\n    }\n  ]\n}"
            }
          },
          "metadata": {},
          "execution_count": 7
        }
      ],
      "source": [
        "df_tmp = pd.DataFrame({\"FPR\": fpr[1:], \"TPR\": tpr[1:], \"thresholds\": thresholds[1:]})\n",
        "\n",
        "df_tmp.head(10)"
      ]
    },
    {
      "cell_type": "markdown",
      "metadata": {
        "id": "bOzp0G0okDMo"
      },
      "source": [
        "## PR-кривая"
      ]
    },
    {
      "cell_type": "markdown",
      "metadata": {
        "id": "eIeCrjXCkDMo"
      },
      "source": [
        "PR-кривая (Precision-Recall Curve) – графическое представление взаимосвязи между precision и recall модели при различных порогах классификации.\n",
        "\n",
        "PR-кривую можно построить с помощью функции `sklearn.metrics.precision_recall_curve` [🛠️[doc]](https://scikit-learn.org/stable/modules/generated/sklearn.metrics.precision_recall_curve.html).\n",
        "\n",
        "Она принимает на вход массивы `y_true` и  `y_score` и возвращает массивы значений Precision, Recall и перебранных порогов.\n",
        "\n",
        "\n",
        "\n"
      ]
    },
    {
      "cell_type": "code",
      "execution_count": null,
      "metadata": {
        "colab": {
          "base_uri": "https://localhost:8080/",
          "height": 599
        },
        "id": "TCELrfiokDMo",
        "outputId": "6d39539e-cc11-48a5-9080-675fc3d29c35"
      },
      "outputs": [
        {
          "output_type": "stream",
          "name": "stdout",
          "text": [
            "PR AUC: 0.87\n"
          ]
        },
        {
          "output_type": "display_data",
          "data": {
            "text/plain": [
              "<Figure size 800x600 with 1 Axes>"
            ],
            "image/png": "[encoded data removed]"
          },
          "metadata": {}
        }
      ],
      "source": [
        "from sklearn.metrics import precision_recall_curve, auc\n",
        "\n",
        "# Compute Precision-Recall\n",
        "precision, recall, thresholds = precision_recall_curve(y_true, y_score)\n",
        "pr_auc = auc(recall, precision)\n",
        "print(f\"PR AUC: {pr_auc:.2f}\")\n",
        "\n",
        "plt.figure(figsize=(8, 6))\n",
        "plt.plot(recall, precision, label=f\"PR curve (area = {pr_auc:.2f})\")\n",
        "plt.xlabel(\"Recall\")\n",
        "plt.ylabel(\"Precision\")\n",
        "plt.title(\"Precision-Recall Curve\")\n",
        "plt.legend(loc=\"lower left\")\n",
        "plt.show()"
      ]
    },
    {
      "cell_type": "markdown",
      "metadata": {
        "id": "sE5pkSXkkDMo"
      },
      "source": [
        "На графике PR-кривой видно, что при фиксированном значении recall существуют значения порога, которые обеспечивают наилучшее значение precision."
      ]
    },
    {
      "cell_type": "markdown",
      "metadata": {
        "id": "vlv5VqDekDMo"
      },
      "source": [
        "## Multiclass accuracy"
      ]
    },
    {
      "cell_type": "markdown",
      "metadata": {
        "id": "r0SumF-KkDMo"
      },
      "source": [
        "В случае многоклассовой классификации термины $\\text{TP, FP, TN, FN}$ считаются для каждого класса:"
      ]
    },
    {
      "cell_type": "markdown",
      "metadata": {
        "id": "rn_dOkYbkDMo"
      },
      "source": [
        "<center><img src =\"https://ml.gan4x4.ru/msu/dev-2.1/L01/out/confmatrix.png\" width=\"700\"></center>"
      ]
    },
    {
      "cell_type": "code",
      "execution_count": null,
      "metadata": {
        "colab": {
          "base_uri": "https://localhost:8080/"
        },
        "id": "7NDXCafAkDMo",
        "outputId": "553f7a40-b3dd-4135-8a80-be853c0d6334"
      },
      "outputs": [
        {
          "output_type": "stream",
          "name": "stdout",
          "text": [
            "              precision    recall  f1-score   support\n",
            "\n",
            "     label A       0.26      0.24      0.25        49\n",
            "     label B       0.20      0.23      0.21        40\n",
            "     label C       0.31      0.34      0.33        50\n",
            "     label D       0.28      0.25      0.26        61\n",
            "\n",
            "    accuracy                           0.27       200\n",
            "   macro avg       0.26      0.26      0.26       200\n",
            "weighted avg       0.27      0.27      0.27       200\n",
            "\n"
          ]
        }
      ],
      "source": [
        "np.random.seed(42)\n",
        "y_pred = np.random.randint(4, size=(200,))\n",
        "y_true = np.random.randint(4, size=(200,))\n",
        "\n",
        "label_names = [\"label A\", \"label B\", \"label C\", \"label D\"]\n",
        "\n",
        "print(classification_report(y_true, y_pred, target_names=label_names))"
      ]
    },
    {
      "cell_type": "markdown",
      "metadata": {
        "id": "2jGeGaJ1kDMo"
      },
      "source": [
        "В случае многоклассовой классификации есть различные способы усреднения результатов, рассмотрим их подробнее на примере расчета метрики $\\text{Precision}$:\n",
        "1. **Micro-усреднение**\n",
        "\n",
        "Сначала объединяем все истинные положительные $\\text{(TP)}$, ложные положительные $\\text{(FP)}$ значения по всем классам, а затем считаем метрику на этой общей сумме.\n",
        "\n",
        "Предположим, у нас есть три класса:\n",
        "\n",
        "$$\\text{Класс A: TP = 10, FP = 3}$$\n",
        "\n",
        "$$\\text{Класс B: TP = 15, FP = 8}$$\n",
        "\n",
        "$$\\text{Класс C: TP = 12, FP = 2}$$\n",
        "\n",
        "Общая точность по micro будет считаться как сумма всех $\\text{TP и FP}$:\n",
        "\n",
        "$$\\text{TP = 10 + 15 + 12 = 37}$$\n",
        "\n",
        "\n",
        "$$\\text{FP = 3 + 8 + 2 = 13}$$\n",
        "\n",
        "$$\\text{Micro-Precision = }{\\frac{37}{37+13}\\approx 0.74}$$"
      ]
    },
    {
      "cell_type": "markdown",
      "metadata": {
        "id": "zHJANlOqkDMo"
      },
      "source": [
        "2. **Macro-усреднение**\n",
        "\n",
        "Сначала рассчитываются метрики отдельно для каждого класса, затем берётся среднее арифметическое.\n",
        "\n",
        "Те же данные, теперь считаем точность для каждого класса отдельно:\n",
        "\n",
        "$$\\text{Precision}_{A} = \\frac{10}{10+3}\\approx 0.769$$\n",
        "\n",
        "$$\\text{Precision}_{B} = \\frac{15}{15+8}\\approx 0.652$$\n",
        "\n",
        "$$\\text{Precision}_{C} = \\frac{12}{12+2}\\approx 0.857$$\n",
        "\n",
        "$$\\text{Macro-Precision} = \\frac{0.769 + 0.652 + 0.857}{3}\\approx 0.759$$"
      ]
    },
    {
      "cell_type": "markdown",
      "metadata": {
        "id": "j1PoFjGqkDMo"
      },
      "source": [
        "3. **Weighted-усреднение**\n",
        "\n",
        "Классы взвешиваются в зависимости от их размера (количества объектов).\n",
        "\n",
        "Если класс $\\text{A}$ имеет $\\text{100}$ объектов, $\\text{B – 200, C – 50:}$\n",
        "\n",
        "$$\\text{Precision}_{A} = 0.769 × 100 = 76.9$$\n",
        "\n",
        "$$\\text{Precision}_{B} = 0.652 × 200 = 130.4$$\n",
        "\n",
        "$$\\text{Precision}_{C} = 0.857 × 50 = 42.85$$\n",
        "\n",
        "$$\\text{Weighted-Precision} = \\frac{76.9 + 130.4 + 42.85}{100 + 200 + 50} \\approx 0.715$$"
      ]
    },
    {
      "cell_type": "markdown",
      "metadata": {
        "id": "pBXyZcRMkDMo"
      },
      "source": [
        "**Важно!** Обращайте внимание, какое усреднение используется при расчете метрик для многоклассовой классификации."
      ]
    },
    {
      "cell_type": "markdown",
      "metadata": {
        "id": "R-8cChUNkDMo"
      },
      "source": [
        "## Multilabel"
      ]
    },
    {
      "cell_type": "markdown",
      "metadata": {
        "id": "WmiZiOB6kDMo"
      },
      "source": [
        "<center><img src =\"https://ml.gan4x4.ru/msu/dev-2.1/L01/three_types_of_classification_tasks.jpg\" width=\"650\"></center>\n",
        "\n",
        "<center><em>Source: <a href=\"https://thinkpalm.com/blogs/top-machine-learning-algorithms-for-business-applications-in-2023/\">Top Machine Learning Algorithms For Business Applications In 2023</a></em></center>"
      ]
    },
    {
      "cell_type": "markdown",
      "metadata": {
        "id": "ZKaexj5xkDMp"
      },
      "source": [
        "Cлучай, когда объект может принадлежать одновременно нескольким классам, называется *multilabel* (многозначная) классификация. Такую задачу не стоит сводить к задаче бинарной классификации по каждому классу, так как метки могут быть не независимыми.\n",
        "\n",
        "Допустим, у нас есть 3 объекта, и модель предсказала нам 3 набора меток."
      ]
    },
    {
      "cell_type": "code",
      "execution_count": null,
      "metadata": {
        "id": "ypbpKRiFkDMp"
      },
      "outputs": [],
      "source": [
        "# fmt: off\n",
        "y_true = [[0,1,1,1],\n",
        "         [0,0,1,0],\n",
        "         [1,1,0,0]]\n",
        "\n",
        "y_pred = [[0,1,0,1],\n",
        "          [0,1,1,1],\n",
        "          [1,0,1,1]]\n",
        "# fmt: on"
      ]
    },
    {
      "cell_type": "markdown",
      "metadata": {
        "id": "DiBeHrfMkDMp"
      },
      "source": [
        "\n",
        "**Confusion Matrix**\n",
        "\n",
        "Специальная функция, которая создаст 4 матрицы, по одной на каждый класс."
      ]
    },
    {
      "cell_type": "code",
      "execution_count": null,
      "metadata": {
        "colab": {
          "base_uri": "https://localhost:8080/"
        },
        "id": "kglu1R_vkDMp",
        "outputId": "5d37baaa-9a2d-4f70-9044-5f0fe94651e4"
      },
      "outputs": [
        {
          "output_type": "execute_result",
          "data": {
            "text/plain": [
              "array([[[2, 0],\n",
              "        [0, 1]],\n",
              "\n",
              "       [[0, 1],\n",
              "        [1, 1]],\n",
              "\n",
              "       [[0, 1],\n",
              "        [1, 1]],\n",
              "\n",
              "       [[0, 2],\n",
              "        [0, 1]]])"
            ]
          },
          "metadata": {},
          "execution_count": 11
        }
      ],
      "source": [
        "from sklearn.metrics import multilabel_confusion_matrix\n",
        "\n",
        "multilabel_confusion_matrix(y_true, y_pred)"
      ]
    },
    {
      "cell_type": "markdown",
      "metadata": {
        "id": "iilSTsKPkDMp"
      },
      "source": [
        "А также есть еще один способ усреднения:\n",
        "\n",
        "4. **Samples-усреднение**\n",
        "\n",
        "Допустим, у нас есть три образца, и для каждого образца предсказания делаются по нескольким классам. Например:\n",
        "\n",
        "- **Объект 1**: Истинные метки $\\text{[1, 0, 1]}$, предсказанные метки $\\text{[1, 0, 1]}$\n",
        "- **Объект 2**: Истинные метки $\\text{[0, 1, 0]}$, предсказанные метки $\\text{[0, 0, 0]}$\n",
        "- **Объект 3**: Истинные метки $\\text{[1, 1, 1]}$, предсказанные метки $\\text{[1, 1, 0]}$"
      ]
    },
    {
      "cell_type": "markdown",
      "metadata": {
        "id": "7yO-Aq-nkDMp"
      },
      "source": [
        "Рассчитаем $\\text{Precision}$ для каждого образца:\n",
        "\n",
        "* **Образец 1**:\n",
        "    - Истинные метки: $\\text{[1, 0, 1]}$\n",
        "    - Предсказанные метки: $\\text{[1, 0, 1]}$\n",
        "    - Здесь $\\(\\text{TP} = 2\\)$ и $\\(\\text{FP} = 0\\)$\n",
        "    - $\\text{Precision} = \\dfrac{2}{2 + 0} = 1.0\\$\n",
        "\n",
        "* **Образец 2**:\n",
        "    - Истинные метки: $\\text{[0, 1, 0]}$\n",
        "    - Предсказанные метки: $\\text{[0, 0, 0]}$\n",
        "    - Здесь $\\(\\text{TP} = 0\\)$ и $\\(\\text{FP} = 0\\)$\n",
        "    - $\\text{Precision} = 0$ (не определён, но считается как 0, если нет предсказаний)\n",
        "\n",
        "* **Образец 3**:\n",
        "    - Истинные метки: $\\text{[1, 1, 1]}$\n",
        "    - Предсказанные метки: $\\text{[1, 1, 0]}$\n",
        "    - Здесь $\\(\\text{TP} = 2\\)$ и $\\(\\text{FP} = 0\\)$\n",
        "    - $\\text{Precision} = \\dfrac{2}{2 + 0} = 1.0\\$"
      ]
    },
    {
      "cell_type": "markdown",
      "metadata": {
        "id": "eLF22VyqkDMp"
      },
      "source": [
        "Теперь мы усредняем $\\text{Precision}$ для всех трёх образцов:\n",
        "\n",
        "$$\\text{Samples-Precision} = \\frac{1.0 + 0.0 + 1.0}{3} \\approx 0.67$$\n",
        "\n",
        "В отличие от других методов усреднения (например, Micro или Macro), здесь мы фактически оцениваем предсказания для каждого образца, а затем усредняем результаты, что даёт более точное представление о модели в задаче многозначной классификации."
      ]
    },
    {
      "cell_type": "markdown",
      "metadata": {
        "id": "K2paeDJ3kDMp"
      },
      "source": [
        "[[colab] 🥨 Блокнот на Kaggle с примерами расчётов Multilabel](https://www.kaggle.com/code/kmkarakaya/multi-label-model-evaluation)"
      ]
    }
  ]
}