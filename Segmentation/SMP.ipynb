{
  "nbformat": 4,
  "nbformat_minor": 0,
  "metadata": {
    "colab": {
      "provenance": []
    },
    "kernelspec": {
      "name": "python3",
      "display_name": "Python 3"
    },
    "language_info": {
      "name": "python"
    }
  },
  "cells": [
    {
      "cell_type": "markdown",
      "metadata": {
        "id": "ttjQ_YL7u9Yq"
      },
      "source": [
        "# Segmentation models PyTorch (SMP)"
      ]
    },
    {
      "cell_type": "markdown",
      "metadata": {
        "id": "2-CcRkPhu9Yq"
      },
      "source": [
        "[[git] 🐾 Библиотека](https://github.com/qubvel/segmentation_models.pytorch#architectures-) на базе PyTorch  для сегментации."
      ]
    },
    {
      "cell_type": "markdown",
      "metadata": {
        "id": "FkhWE86Mu9Yq"
      },
      "source": [
        "<img src =\"https://ml.gan4x4.ru/msu/dep-2.1/L11/smp.png\" width=\"1000\">\n",
        "\n"
      ]
    },
    {
      "cell_type": "code",
      "execution_count": null,
      "metadata": {
        "id": "WFW-J6etu9Yq"
      },
      "outputs": [],
      "source": [
        "from IPython.display import clear_output\n",
        "\n",
        "!pip install -q segmentation-models-pytorch\n",
        "clear_output()"
      ]
    },
    {
      "cell_type": "markdown",
      "metadata": {
        "id": "83HdZtsou9Yr"
      },
      "source": [
        "Можем комбинировать декодер с разными энкодерами:"
      ]
    },
    {
      "cell_type": "code",
      "execution_count": null,
      "metadata": {
        "id": "vPtIuGIru9Ys"
      },
      "outputs": [],
      "source": [
        "import torch\n",
        "import segmentation_models_pytorch as smp\n",
        "from segmentation_models_pytorch.encoders import get_preprocessing_fn\n",
        "\n",
        "# 'mit_b0' Mix Vision Transformer Backbone from SegFormer pretrained on Imagenet\n",
        "preprocess_input = get_preprocessing_fn(\"mit_b0\", pretrained=\"imagenet\")\n",
        "\n",
        "# MixVisionTransformer encoder does not support in_channels setting other than 3\n",
        "# supported by FPN only for encoder depth = 5\n",
        "model = smp.FPN(\"mit_b0\", in_channels=3, classes=10, encoder_depth=5)\n",
        "\n",
        "# ... Train model on your dataset\n",
        "\n",
        "dummy_input = torch.randn([1, 3, 64, 64])\n",
        "\n",
        "mask = model(dummy_input)\n",
        "clear_output()\n",
        "print(mask.shape)  # torch.Size([1, 1, 64, 64])"
      ]
    },
    {
      "cell_type": "markdown",
      "metadata": {
        "id": "vPrqBek-u9Ys"
      },
      "source": [
        "### Совместимость с timm"
      ]
    },
    {
      "cell_type": "markdown",
      "metadata": {
        "id": "NcB5fqDZu9Ys"
      },
      "source": [
        "Существует библиотека [pytorch-image-models 🐾[git]](https://github.com/huggingface/pytorch-image-models) (timm = Torch IMage Models), в которой собрано большое количество моделей для работы с изображениями.\n",
        "\n",
        "[Описание библиотеки 🛠️[doc]](https://huggingface.co/docs/timm/index) и [примеры использования 🛠️[doc]](https://huggingface.co/docs/hub/timm) в Hugging Face.\n"
      ]
    },
    {
      "cell_type": "code",
      "execution_count": null,
      "metadata": {
        "id": "uB1UzB0iu9Ys"
      },
      "outputs": [],
      "source": [
        "import timm\n",
        "\n",
        "model_names = timm.list_models(pretrained=True)\n",
        "print(\"Total pretrained models: \", len(model_names))"
      ]
    },
    {
      "cell_type": "markdown",
      "metadata": {
        "id": "VXFj2yLIu9Yt"
      },
      "source": [
        "Можно искать модели по шаблону:"
      ]
    },
    {
      "cell_type": "code",
      "execution_count": null,
      "metadata": {
        "id": "lBTxjrxmu9Yt"
      },
      "outputs": [],
      "source": [
        "model_names = timm.list_models(\"*mobilenet*small*\")\n",
        "print(model_names)"
      ]
    },
    {
      "cell_type": "markdown",
      "metadata": {
        "id": "TKXe32b-u9Yt"
      },
      "source": [
        "Smoke test:"
      ]
    },
    {
      "cell_type": "code",
      "execution_count": null,
      "metadata": {
        "id": "d4M3HfPcu9Yt"
      },
      "outputs": [],
      "source": [
        "timm_mobilenet = timm.create_model(\"mobilenetv3_small_050\", pretrained=True)\n",
        "clear_output()"
      ]
    },
    {
      "cell_type": "code",
      "execution_count": null,
      "metadata": {
        "id": "_FndH18uu9Yt"
      },
      "outputs": [],
      "source": [
        "out = timm_mobilenet(dummy_input)\n",
        "print(out.shape)"
      ]
    },
    {
      "cell_type": "markdown",
      "metadata": {
        "id": "UEcrRQhNu9Yv"
      },
      "source": [
        "Можно использовать большинство моделей из timm в качестве энкодеров.\n",
        "\n",
        "[[doc] 🛠️ Список совместимых моделей](https://smp.readthedocs.io/en/latest/encoders_timm.html)\n",
        "\n",
        "При этом к названию модели, которое передается в конструктор класса SMP, нужно добавить префикс `tu-`:"
      ]
    },
    {
      "cell_type": "code",
      "execution_count": null,
      "metadata": {
        "id": "SWy0FBufu9Yv"
      },
      "outputs": [],
      "source": [
        "smp_timm_model = smp.DeepLabV3(\"tu-mobilenetv3_small_050\", in_channels=3, classes=80)\n",
        "smp_timm_model.eval()\n",
        "print(\"Created DeepLab with mobileNet encoder\")"
      ]
    },
    {
      "cell_type": "markdown",
      "metadata": {
        "id": "yyE6eceau9Yv"
      },
      "source": [
        "Smoke test:"
      ]
    },
    {
      "cell_type": "code",
      "execution_count": null,
      "metadata": {
        "id": "kFuZ-TIBu9Yv"
      },
      "outputs": [],
      "source": [
        "mask = smp_timm_model(dummy_input)\n",
        "print(mask.shape)"
      ]
    }
  ]
}