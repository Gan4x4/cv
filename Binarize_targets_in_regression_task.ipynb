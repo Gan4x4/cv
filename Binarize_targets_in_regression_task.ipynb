{
  "nbformat": 4,
  "nbformat_minor": 0,
  "metadata": {
    "colab": {
      "provenance": []
    },
    "kernelspec": {
      "name": "python3",
      "display_name": "Python 3"
    },
    "language_info": {
      "name": "python"
    }
  },
  "cells": [
    {
      "cell_type": "markdown",
      "source": [
        "#  Binarize targets in regression task.ipynb\n",
        "\n",
        "[![Open In Colab](https://colab.research.google.com/assets/colab-badge.svg)](https://colab.research.google.com/github/Gan4x4/cv/blob/main/Binarize_targets_in_regression_task.ipynb)"
      ],
      "metadata": {
        "id": "h4v4tgwSJg-F"
      }
    },
    {
      "cell_type": "code",
      "execution_count": null,
      "metadata": {
        "colab": {
          "base_uri": "https://localhost:8080/"
        },
        "id": "D-DPCHP9m8x9",
        "outputId": "a7fafdad-5736-46df-d5d4-3be46a258742"
      },
      "outputs": [
        {
          "output_type": "stream",
          "name": "stdout",
          "text": [
            "(20640, 8) (20640,)\n"
          ]
        }
      ],
      "source": [
        "from sklearn.datasets import fetch_california_housing\n",
        "\n",
        "housing = fetch_california_housing()\n",
        "\n",
        "print(housing.data.shape, housing.target.shape)\n",
        "#sklearn.datasets.fetch_california_housing"
      ]
    },
    {
      "cell_type": "markdown",
      "source": [
        "Define toy NN"
      ],
      "metadata": {
        "id": "xJyB7wImqFhs"
      }
    },
    {
      "cell_type": "code",
      "source": [
        "import torch\n",
        "from torch import nn\n",
        "\n",
        "\n",
        "class MLP(nn.Module):\n",
        "    def __init__(self):\n",
        "        super().__init__()\n",
        "        self.layers = nn.Sequential(\n",
        "            nn.Linear(8, 16),\n",
        "            nn.ReLU(),\n",
        "            nn.Linear(16, 8),\n",
        "            nn.ReLU(),\n",
        "            nn.Linear(8, 1)\n",
        "        )\n",
        "\n",
        "    def forward(self, x):\n",
        "        return self.layers(x)\n",
        "\n",
        "model = MLP()"
      ],
      "metadata": {
        "id": "Kf9mjyvBpYQ5"
      },
      "execution_count": null,
      "outputs": []
    },
    {
      "cell_type": "markdown",
      "source": [
        "Smoke test"
      ],
      "metadata": {
        "id": "8JBo6SZ3qH10"
      }
    },
    {
      "cell_type": "code",
      "source": [
        "dummy = torch.randn(8)\n",
        "out = model(dummy)\n",
        "print(dummy)"
      ],
      "metadata": {
        "colab": {
          "base_uri": "https://localhost:8080/"
        },
        "id": "LOQvRgqFqEiH",
        "outputId": "5dc3e79e-72d4-4008-9cae-3bc33057ebdf"
      },
      "execution_count": null,
      "outputs": [
        {
          "output_type": "stream",
          "name": "stdout",
          "text": [
            "tensor([-0.0632,  0.1690, -0.3171, -0.0289,  1.1379, -1.6120,  0.7286,  0.4071])\n"
          ]
        }
      ]
    },
    {
      "cell_type": "markdown",
      "source": [
        "Split"
      ],
      "metadata": {
        "id": "ufJmXqvSq9I7"
      }
    },
    {
      "cell_type": "code",
      "source": [
        "from sklearn.model_selection import train_test_split\n",
        "\n",
        "X_train, X_test, y_train, y_test = train_test_split(housing.data, housing.target, test_size=0.3, random_state=42)"
      ],
      "metadata": {
        "id": "oGnlDTiLq825"
      },
      "execution_count": null,
      "outputs": []
    },
    {
      "cell_type": "markdown",
      "source": [
        "Standartize data (not targets)"
      ],
      "metadata": {
        "id": "U_fj0Fuwqywn"
      }
    },
    {
      "cell_type": "code",
      "source": [
        "from sklearn.preprocessing import StandardScaler\n",
        "scaler = StandardScaler()\n",
        "scaler.fit(X_train)\n",
        "\n",
        "x_train_scaled = scaler.transform(X_train)\n",
        "x_test_scaled = scaler.transform(X_test)"
      ],
      "metadata": {
        "id": "LzY85dODql3W"
      },
      "execution_count": null,
      "outputs": []
    },
    {
      "cell_type": "code",
      "source": [
        "from torch.utils.data import TensorDataset, DataLoader\n",
        "\n",
        "X_tensor = torch.FloatTensor(x_train_scaled)\n",
        "y_tensor = torch.FloatTensor(y_train)\n",
        "\n",
        "# Create TensorDataset\n",
        "train_dataset = TensorDataset(X_tensor, y_tensor)\n",
        "\n",
        "# Create DataLoader\n",
        "train_dataloader = DataLoader(train_dataset , batch_size=256, shuffle=True)\n",
        "\n",
        "# Iterate through dataloader\n",
        "for batch_X, batch_y in train_dataloader :\n",
        "    print(f\"Batch size: {batch_X.shape}\")\n",
        "    print(f\"Target shape: {batch_y.shape}\")\n",
        "    break"
      ],
      "metadata": {
        "colab": {
          "base_uri": "https://localhost:8080/"
        },
        "id": "YK0ZX5nHreRw",
        "outputId": "4d668982-fcef-4bee-fa0a-e93b5e875afc"
      },
      "execution_count": null,
      "outputs": [
        {
          "output_type": "stream",
          "name": "stdout",
          "text": [
            "Batch size: torch.Size([256, 8])\n",
            "Target shape: torch.Size([256])\n"
          ]
        }
      ]
    },
    {
      "cell_type": "markdown",
      "source": [
        "Train"
      ],
      "metadata": {
        "id": "IcJIKr2VsvQI"
      }
    },
    {
      "cell_type": "code",
      "source": [
        "import torch.optim as optim\n",
        "from tqdm import tqdm\n",
        "from torch.utils.data import TensorDataset, DataLoader\n",
        "\n",
        "\n",
        "def train(x,y):\n",
        "  torch.manual_seed(42)\n",
        "  X_tensor = torch.FloatTensor(x)\n",
        "  y_tensor = torch.FloatTensor(y)\n",
        "\n",
        "  train_dataset = TensorDataset(X_tensor, y_tensor)\n",
        "  train_dataloader = DataLoader(train_dataset , batch_size=256, shuffle=True)\n",
        "\n",
        "  model = MLP()\n",
        "  model.train()\n",
        "  criterion = nn.MSELoss()\n",
        "  optimizer = optim.AdamW(model.parameters(), lr=0.0005)\n",
        "\n",
        "\n",
        "  # Training loop\n",
        "  for epoch in tqdm(range(20)):\n",
        "    for data, target in train_dataloader:\n",
        "        optimizer.zero_grad()\n",
        "        outputs = model(data)  # Sample input\n",
        "        loss = criterion(outputs.squeeze(), target)  # Sample target\n",
        "        loss.backward()\n",
        "        optimizer.step()\n",
        "    tqdm.write(f\" loss  = {loss.item():.4f}\")\n",
        "  return model\n",
        "\n"
      ],
      "metadata": {
        "id": "YmV6TXOjsumm"
      },
      "execution_count": null,
      "outputs": []
    },
    {
      "cell_type": "code",
      "source": [
        "model = train(x_train_scaled,y_train)"
      ],
      "metadata": {
        "colab": {
          "base_uri": "https://localhost:8080/"
        },
        "id": "PZKbxcxswxKs",
        "outputId": "ec47fe9b-e44f-4781-c35c-c340a8817c5d"
      },
      "execution_count": null,
      "outputs": [
        {
          "output_type": "stream",
          "name": "stderr",
          "text": [
            " 10%|█         | 2/20 [00:00<00:03,  5.97it/s]"
          ]
        },
        {
          "output_type": "stream",
          "name": "stdout",
          "text": [
            " loss  = 4.5342\n",
            " loss  = 3.4748\n"
          ]
        },
        {
          "output_type": "stream",
          "name": "stderr",
          "text": [
            " 20%|██        | 4/20 [00:00<00:02,  5.94it/s]"
          ]
        },
        {
          "output_type": "stream",
          "name": "stdout",
          "text": [
            " loss  = 3.6798\n",
            " loss  = 2.8349\n"
          ]
        },
        {
          "output_type": "stream",
          "name": "stderr",
          "text": [
            " 30%|███       | 6/20 [00:01<00:02,  5.71it/s]"
          ]
        },
        {
          "output_type": "stream",
          "name": "stdout",
          "text": [
            " loss  = 1.7656\n",
            " loss  = 1.2534\n"
          ]
        },
        {
          "output_type": "stream",
          "name": "stderr",
          "text": [
            " 40%|████      | 8/20 [00:01<00:02,  5.78it/s]"
          ]
        },
        {
          "output_type": "stream",
          "name": "stdout",
          "text": [
            " loss  = 0.7723\n",
            " loss  = 1.0859\n"
          ]
        },
        {
          "output_type": "stream",
          "name": "stderr",
          "text": [
            " 50%|█████     | 10/20 [00:01<00:01,  5.73it/s]"
          ]
        },
        {
          "output_type": "stream",
          "name": "stdout",
          "text": [
            " loss  = 0.4815\n",
            " loss  = 0.7235\n"
          ]
        },
        {
          "output_type": "stream",
          "name": "stderr",
          "text": [
            " 60%|██████    | 12/20 [00:02<00:01,  5.69it/s]"
          ]
        },
        {
          "output_type": "stream",
          "name": "stdout",
          "text": [
            " loss  = 1.1169\n",
            " loss  = 0.5788\n"
          ]
        },
        {
          "output_type": "stream",
          "name": "stderr",
          "text": [
            " 70%|███████   | 14/20 [00:02<00:01,  5.78it/s]"
          ]
        },
        {
          "output_type": "stream",
          "name": "stdout",
          "text": [
            " loss  = 0.6044\n",
            " loss  = 0.5555\n"
          ]
        },
        {
          "output_type": "stream",
          "name": "stderr",
          "text": [
            " 80%|████████  | 16/20 [00:02<00:00,  5.69it/s]"
          ]
        },
        {
          "output_type": "stream",
          "name": "stdout",
          "text": [
            " loss  = 0.6779\n",
            " loss  = 0.3620\n"
          ]
        },
        {
          "output_type": "stream",
          "name": "stderr",
          "text": [
            " 90%|█████████ | 18/20 [00:03<00:00,  5.72it/s]"
          ]
        },
        {
          "output_type": "stream",
          "name": "stdout",
          "text": [
            " loss  = 0.5042\n",
            " loss  = 0.6454\n"
          ]
        },
        {
          "output_type": "stream",
          "name": "stderr",
          "text": [
            "100%|██████████| 20/20 [00:03<00:00,  5.74it/s]"
          ]
        },
        {
          "output_type": "stream",
          "name": "stdout",
          "text": [
            " loss  = 0.5109\n",
            " loss  = 0.3030\n"
          ]
        },
        {
          "output_type": "stream",
          "name": "stderr",
          "text": [
            "\n"
          ]
        }
      ]
    },
    {
      "cell_type": "code",
      "source": [
        "from sklearn.metrics import r2_score\n",
        "\n",
        "model.eval()\n",
        "out = model(torch.FloatTensor(x_test_scaled))\n",
        "r2_score(out.detach(), y_test)"
      ],
      "metadata": {
        "colab": {
          "base_uri": "https://localhost:8080/"
        },
        "id": "EbRd3u0HuiQd",
        "outputId": "554cd979-1496-48bd-c7d2-daa658ce03ad"
      },
      "execution_count": null,
      "outputs": [
        {
          "output_type": "execute_result",
          "data": {
            "text/plain": [
              "0.3608334259212541"
            ]
          },
          "metadata": {},
          "execution_count": 24
        }
      ]
    },
    {
      "cell_type": "markdown",
      "source": [
        "Standartize target"
      ],
      "metadata": {
        "id": "XyzO4sP0wJVb"
      }
    },
    {
      "cell_type": "code",
      "source": [
        "from sklearn.preprocessing import StandardScaler\n",
        "\n",
        "\n",
        "y_scaler = StandardScaler()\n",
        "y_scaler.fit(y_train.reshape(-1,1))\n",
        "y_train_scaled = y_scaler.transform(y_train.reshape(-1,1)).flatten()"
      ],
      "metadata": {
        "id": "aeQLU-C7vVbx"
      },
      "execution_count": null,
      "outputs": []
    },
    {
      "cell_type": "code",
      "source": [
        "import matplotlib.pyplot as plt\n",
        "\n",
        "#plt.hist(y_test)\n",
        "plt.hist(y_train_scaled)\n",
        "plt.show()"
      ],
      "metadata": {
        "colab": {
          "base_uri": "https://localhost:8080/",
          "height": 432
        },
        "id": "su8en0z2zeES",
        "outputId": "c3ddeb94-3e0b-4b82-fe8e-10ea7be93324"
      },
      "execution_count": null,
      "outputs": [
        {
          "output_type": "display_data",
          "data": {
            "text/plain": [
              "<Figure size 640x480 with 1 Axes>"
            ],
            "image/png": "[encoded data removed]"
          },
          "metadata": {}
        }
      ]
    },
    {
      "cell_type": "code",
      "source": [
        "model = train(x_train_scaled,y_train_scaled)"
      ],
      "metadata": {
        "colab": {
          "base_uri": "https://localhost:8080/"
        },
        "id": "3jbv0USQyVuy",
        "outputId": "caaee956-36df-4609-c42b-cca8df75b9d4"
      },
      "execution_count": null,
      "outputs": [
        {
          "output_type": "stream",
          "name": "stderr",
          "text": [
            " 10%|█         | 2/20 [00:00<00:02,  6.04it/s]"
          ]
        },
        {
          "output_type": "stream",
          "name": "stdout",
          "text": [
            " loss  = 1.1045\n",
            " loss  = 0.8462\n"
          ]
        },
        {
          "output_type": "stream",
          "name": "stderr",
          "text": [
            " 20%|██        | 4/20 [00:00<00:02,  5.82it/s]"
          ]
        },
        {
          "output_type": "stream",
          "name": "stdout",
          "text": [
            " loss  = 0.7703\n",
            " loss  = 0.6830\n"
          ]
        },
        {
          "output_type": "stream",
          "name": "stderr",
          "text": [
            " 30%|███       | 6/20 [00:01<00:02,  5.83it/s]"
          ]
        },
        {
          "output_type": "stream",
          "name": "stdout",
          "text": [
            " loss  = 0.4694\n",
            " loss  = 0.5153\n"
          ]
        },
        {
          "output_type": "stream",
          "name": "stderr",
          "text": [
            " 40%|████      | 8/20 [00:01<00:02,  5.69it/s]"
          ]
        },
        {
          "output_type": "stream",
          "name": "stdout",
          "text": [
            " loss  = 0.2999\n",
            " loss  = 0.4983\n"
          ]
        },
        {
          "output_type": "stream",
          "name": "stderr",
          "text": [
            " 50%|█████     | 10/20 [00:01<00:01,  5.73it/s]"
          ]
        },
        {
          "output_type": "stream",
          "name": "stdout",
          "text": [
            " loss  = 0.2230\n",
            " loss  = 0.3735\n"
          ]
        },
        {
          "output_type": "stream",
          "name": "stderr",
          "text": [
            " 60%|██████    | 12/20 [00:02<00:01,  5.84it/s]"
          ]
        },
        {
          "output_type": "stream",
          "name": "stdout",
          "text": [
            " loss  = 0.5474\n",
            " loss  = 0.2913\n"
          ]
        },
        {
          "output_type": "stream",
          "name": "stderr",
          "text": [
            " 70%|███████   | 14/20 [00:02<00:01,  5.73it/s]"
          ]
        },
        {
          "output_type": "stream",
          "name": "stdout",
          "text": [
            " loss  = 0.2989\n",
            " loss  = 0.3030\n"
          ]
        },
        {
          "output_type": "stream",
          "name": "stderr",
          "text": [
            " 80%|████████  | 16/20 [00:02<00:00,  5.65it/s]"
          ]
        },
        {
          "output_type": "stream",
          "name": "stdout",
          "text": [
            " loss  = 0.3548\n",
            " loss  = 0.2197\n"
          ]
        },
        {
          "output_type": "stream",
          "name": "stderr",
          "text": [
            " 90%|█████████ | 18/20 [00:03<00:00,  5.76it/s]"
          ]
        },
        {
          "output_type": "stream",
          "name": "stdout",
          "text": [
            " loss  = 0.2742\n",
            " loss  = 0.3497\n"
          ]
        },
        {
          "output_type": "stream",
          "name": "stderr",
          "text": [
            "100%|██████████| 20/20 [00:03<00:00,  5.75it/s]"
          ]
        },
        {
          "output_type": "stream",
          "name": "stdout",
          "text": [
            " loss  = 0.3424\n",
            " loss  = 0.2119\n"
          ]
        },
        {
          "output_type": "stream",
          "name": "stderr",
          "text": [
            "\n"
          ]
        }
      ]
    },
    {
      "cell_type": "code",
      "source": [
        "model.eval()\n",
        "out = model(torch.FloatTensor(x_test_scaled)).detach()\n",
        "y_test_scaled = y_scaler.transform(y_test.reshape(-1,1))\n",
        "print(\"R2 on standartized target: \",r2_score(out, y_test_scaled))\n",
        "out =  y_scaler.inverse_transform(out.detach()).flatten()\n",
        "print(\"R2 after inverse transform on target: \",r2_score(out, y_test))"
      ],
      "metadata": {
        "colab": {
          "base_uri": "https://localhost:8080/"
        },
        "id": "2wkIe6R-yxwU",
        "outputId": "88477dd9-60af-48cd-b044-df3272b8c0b5"
      },
      "execution_count": null,
      "outputs": [
        {
          "output_type": "stream",
          "name": "stdout",
          "text": [
            "R2 on standartized target:  0.5400625695342768\n",
            "R2 after inverse transform on target:  0.5400625695342767\n"
          ]
        }
      ]
    },
    {
      "cell_type": "markdown",
      "source": [
        "Results are the same"
      ],
      "metadata": {
        "id": "WSB9hYg3iWSm"
      }
    },
    {
      "cell_type": "markdown",
      "source": [
        "Now apply quantile transform"
      ],
      "metadata": {
        "id": "HEPWgocwiYuN"
      }
    },
    {
      "cell_type": "code",
      "source": [
        "from sklearn.preprocessing import QuantileTransformer\n",
        "\n",
        "\n",
        "qt = QuantileTransformer(output_distribution='uniform')\n",
        "qt.fit(y_train.reshape(-1,1))\n",
        "y_train_qt = qt.transform(y_train.reshape(-1,1)).flatten()\n",
        "plt.hist(y_train_qt)\n",
        "plt.show()"
      ],
      "metadata": {
        "colab": {
          "base_uri": "https://localhost:8080/",
          "height": 430
        },
        "id": "VtVOZrbMY7tN",
        "outputId": "1f21cf36-8c9b-4115-fbb2-3d948b5bccc4"
      },
      "execution_count": null,
      "outputs": [
        {
          "output_type": "display_data",
          "data": {
            "text/plain": [
              "<Figure size 640x480 with 1 Axes>"
            ],
            "image/png": "[encoded data removed]"
          },
          "metadata": {}
        }
      ]
    },
    {
      "cell_type": "code",
      "source": [
        "model = train(x_train_scaled,y_train_qt)"
      ],
      "metadata": {
        "colab": {
          "base_uri": "https://localhost:8080/"
        },
        "id": "fupmjbu8cLRD",
        "outputId": "14d220ac-c1c8-4ddc-d9a6-744de14a20c8"
      },
      "execution_count": null,
      "outputs": [
        {
          "output_type": "stream",
          "name": "stderr",
          "text": [
            " 10%|█         | 2/20 [00:00<00:03,  5.92it/s]"
          ]
        },
        {
          "output_type": "stream",
          "name": "stdout",
          "text": [
            " loss  = 0.1243\n",
            " loss  = 0.0866\n"
          ]
        },
        {
          "output_type": "stream",
          "name": "stderr",
          "text": [
            " 20%|██        | 4/20 [00:00<00:02,  6.06it/s]"
          ]
        },
        {
          "output_type": "stream",
          "name": "stdout",
          "text": [
            " loss  = 0.0664\n",
            " loss  = 0.0513\n"
          ]
        },
        {
          "output_type": "stream",
          "name": "stderr",
          "text": [
            " 30%|███       | 6/20 [00:00<00:02,  6.04it/s]"
          ]
        },
        {
          "output_type": "stream",
          "name": "stdout",
          "text": [
            " loss  = 0.0462\n",
            " loss  = 0.0414\n"
          ]
        },
        {
          "output_type": "stream",
          "name": "stderr",
          "text": [
            " 35%|███▌      | 7/20 [00:01<00:02,  5.55it/s]"
          ]
        },
        {
          "output_type": "stream",
          "name": "stdout",
          "text": [
            " loss  = 0.0384\n"
          ]
        },
        {
          "output_type": "stream",
          "name": "stderr",
          "text": [
            " 40%|████      | 8/20 [00:01<00:02,  4.89it/s]"
          ]
        },
        {
          "output_type": "stream",
          "name": "stdout",
          "text": [
            " loss  = 0.0410\n"
          ]
        },
        {
          "output_type": "stream",
          "name": "stderr",
          "text": [
            " 45%|████▌     | 9/20 [00:01<00:02,  4.61it/s]"
          ]
        },
        {
          "output_type": "stream",
          "name": "stdout",
          "text": [
            " loss  = 0.0218\n"
          ]
        },
        {
          "output_type": "stream",
          "name": "stderr",
          "text": [
            " 50%|█████     | 10/20 [00:01<00:02,  4.47it/s]"
          ]
        },
        {
          "output_type": "stream",
          "name": "stdout",
          "text": [
            " loss  = 0.0277\n"
          ]
        },
        {
          "output_type": "stream",
          "name": "stderr",
          "text": [
            " 55%|█████▌    | 11/20 [00:02<00:02,  4.27it/s]"
          ]
        },
        {
          "output_type": "stream",
          "name": "stdout",
          "text": [
            " loss  = 0.0357\n"
          ]
        },
        {
          "output_type": "stream",
          "name": "stderr",
          "text": [
            " 60%|██████    | 12/20 [00:02<00:01,  4.30it/s]"
          ]
        },
        {
          "output_type": "stream",
          "name": "stdout",
          "text": [
            " loss  = 0.0234\n"
          ]
        },
        {
          "output_type": "stream",
          "name": "stderr",
          "text": [
            " 65%|██████▌   | 13/20 [00:02<00:01,  4.21it/s]"
          ]
        },
        {
          "output_type": "stream",
          "name": "stdout",
          "text": [
            " loss  = 0.0268\n"
          ]
        },
        {
          "output_type": "stream",
          "name": "stderr",
          "text": [
            " 70%|███████   | 14/20 [00:02<00:01,  4.13it/s]"
          ]
        },
        {
          "output_type": "stream",
          "name": "stdout",
          "text": [
            " loss  = 0.0206\n"
          ]
        },
        {
          "output_type": "stream",
          "name": "stderr",
          "text": [
            " 75%|███████▌  | 15/20 [00:03<00:01,  4.01it/s]"
          ]
        },
        {
          "output_type": "stream",
          "name": "stdout",
          "text": [
            " loss  = 0.0256\n"
          ]
        },
        {
          "output_type": "stream",
          "name": "stderr",
          "text": [
            " 80%|████████  | 16/20 [00:03<00:01,  3.88it/s]"
          ]
        },
        {
          "output_type": "stream",
          "name": "stdout",
          "text": [
            " loss  = 0.0190\n"
          ]
        },
        {
          "output_type": "stream",
          "name": "stderr",
          "text": [
            " 85%|████████▌ | 17/20 [00:03<00:00,  3.91it/s]"
          ]
        },
        {
          "output_type": "stream",
          "name": "stdout",
          "text": [
            " loss  = 0.0320\n"
          ]
        },
        {
          "output_type": "stream",
          "name": "stderr",
          "text": [
            " 95%|█████████▌| 19/20 [00:04<00:00,  4.29it/s]"
          ]
        },
        {
          "output_type": "stream",
          "name": "stdout",
          "text": [
            " loss  = 0.0279\n",
            " loss  = 0.0308\n"
          ]
        },
        {
          "output_type": "stream",
          "name": "stderr",
          "text": [
            "100%|██████████| 20/20 [00:04<00:00,  4.59it/s]"
          ]
        },
        {
          "output_type": "stream",
          "name": "stdout",
          "text": [
            " loss  = 0.0170\n"
          ]
        },
        {
          "output_type": "stream",
          "name": "stderr",
          "text": [
            "\n"
          ]
        }
      ]
    },
    {
      "cell_type": "code",
      "source": [
        "model.eval()\n",
        "out = model(torch.FloatTensor(x_test_scaled)).detach()\n",
        "y_test_qt = qt.transform(y_test.reshape(-1,1)).flatten()\n",
        "print(\"R2 on QuantileTransformed target \", r2_score(out, y_test_qt))\n",
        "out = qt.inverse_transform(out).flatten()\n",
        "print(\"R2 on inverse transformed target \", r2_score(out, y_test))"
      ],
      "metadata": {
        "colab": {
          "base_uri": "https://localhost:8080/"
        },
        "id": "7y3mYUg1b206",
        "outputId": "3e10360b-37b7-490b-b5da-12fe418f19df"
      },
      "execution_count": null,
      "outputs": [
        {
          "output_type": "stream",
          "name": "stdout",
          "text": [
            "R2 on QuantileTransformed target  0.5711363247766841\n",
            "R2 on inverse transformed target  0.3786684251527155\n"
          ]
        }
      ]
    },
    {
      "cell_type": "markdown",
      "source": [
        "Why isn't R2 the same?\n",
        "\n",
        "Because quantile transformation is not linear instead of standardization"
      ],
      "metadata": {
        "id": "L7nY9Y3dhF5m"
      }
    },
    {
      "cell_type": "markdown",
      "source": [
        "Get actal values"
      ],
      "metadata": {
        "id": "sTqBM6FZcoiI"
      }
    },
    {
      "cell_type": "code",
      "source": [
        "prediction_10 = model(torch.FloatTensor(x_test_scaled))\n",
        "abs_values = qt.inverse_transform(prediction_10.detach().numpy()).flatten()\n",
        "\n",
        "print(list(zip(abs_values, y_test[:10])))"
      ],
      "metadata": {
        "colab": {
          "base_uri": "https://localhost:8080/"
        },
        "id": "zsCw5hDDcZDF",
        "outputId": "374fc6db-b902-4dcb-aff0-3ed8e9207382"
      },
      "execution_count": null,
      "outputs": [
        {
          "output_type": "stream",
          "name": "stdout",
          "text": [
            "[(0.5911098, 0.477), (1.625, 0.458), (3.3288515, 5.00001), (2.4866016, 2.186), (2.4486377, 2.78), (1.718085, 1.587), (2.4297009, 1.982), (1.8420631, 1.575), (2.781098, 3.4), (4.7930126, 4.466)]\n"
          ]
        }
      ]
    }
  ]
}