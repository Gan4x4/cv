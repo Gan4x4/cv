{
  "nbformat": 4,
  "nbformat_minor": 0,
  "metadata": {
    "colab": {
      "provenance": []
    },
    "kernelspec": {
      "name": "python3",
      "display_name": "Python 3"
    },
    "language_info": {
      "name": "python"
    }
  },
  "cells": [
    {
      "cell_type": "markdown",
      "metadata": {
        "id": "SJgzMkvIllJc"
      },
      "source": [
        "# Panoptic Segmentation"
      ]
    },
    {
      "cell_type": "markdown",
      "metadata": {
        "id": "1EY1u7o1llJc"
      },
      "source": [
        "[[doc] 🛠️ COCO panoptic](https://cocodataset.org/#panoptic-2020)"
      ]
    },
    {
      "cell_type": "markdown",
      "metadata": {
        "id": "l1RVy7BCllJc"
      },
      "source": [
        "<center><img src =\"https://ml.gan4x4.ru/msu/dev-2.1/L11/panoptic_segmentation.png\" width=\"700\"></center>\n",
        "\n",
        "<center><em>Source: <a href=\"https://kharshit.github.io/blog/2019/10/18/introduction-to-panoptic-segmentation-tutorial\">Introduction to Panoptic Segmentation: A Tutorial</a></em></center>"
      ]
    },
    {
      "cell_type": "markdown",
      "metadata": {
        "id": "nuh89B7kllJd"
      },
      "source": [
        "Задача Panoptic Segmentation рассматривалась в статье [Panoptic Segmentation (Kirillov et al., 2018) 🎓[arxiv]](https://arxiv.org/abs/1801.00868).\n",
        "\n",
        "Она объединяет задачи instance segmentation и semantic segmentation.\n",
        "\n",
        "Для каждого пикселя на изображении задаются два значения — номер класса(как в instance segmentation) и id объекта если объект счетный(thing: человек, машина)\n",
        "\n",
        "Id присутствуют только у объектов таких классов, как человек или машина. Пиксели, относящиеся к таким сущностям, как небо или земля, id не имеют.\n",
        "\n",
        "Соответственно, модель должна предсказать для каждого пикселя и класс, и id."
      ]
    },
    {
      "cell_type": "markdown",
      "metadata": {
        "id": "Np1EpD0LllJd"
      },
      "source": [
        "Обзор Panoptic Segmentation, а также датасетов с соответсвующей разметкой, представлен в [Panoptic Segmentation: Introduction and Datasets ✏️[blog] ](https://segments.ai/blog/panoptic-segmentation-datasets/)."
      ]
    },
    {
      "cell_type": "markdown",
      "metadata": {
        "id": "sNj-HuAdllJd"
      },
      "source": [
        "### Panoptic Quality ###\n",
        "\n",
        "Для задачи Panoptic Segmentation существует метрика [[doc] 🛠️ Panoptic Quality](https://torchmetrics.readthedocs.io/en/v1.2.0/detection/panoptic_quality.html).\n",
        "\n",
        "\n",
        "**Segment Matching**\n",
        "\n",
        "Совмещение сегментов.\n",
        "Проблема: несколько предсказаний могут совпадать с GT маской\n",
        "\n",
        "<img src=\"https://iq.opengenus.org/content/images/2022/12/2022_12_11_0h6_Kleki.png\">\n",
        "\n",
        "Нужно выбрать какое мы будем считать истинным(TP) а какое ложным(FP). В качестве TP всегда можно исползовать предсказание с IoU > 0.5 так как оно гарантированно будет единственным.\n",
        "\n",
        "Используя этот критерий мы можем разделить TP, FP и FN предсказания\n",
        "\n",
        "\n",
        "$$ PQ = SQ*RQ$$\n",
        "\n",
        "**Semantic Quality (SQ)**\n",
        "-  это средний IoU по TP предсказаниям\n",
        "$$ SQ = \\frac {\\sum IoU(TP_i,GT_i)}{|TP|} $$\n",
        "\n",
        "\n",
        "По сути это модификация IoU:\n",
        "\n",
        "$$\\large \\text{PQ} = \\frac{2\\text{IoU}}{2\\text{TP} + \\text{FP} +\\text{FN}}. $$\n",
        "\n",
        "Эта метрика была введена в той же статье, где и была представлена сама задача Panoptic Segmentation.\n",
        "\n",
        "[Разбор PQ](https://iq.opengenus.org/pq-sq-rq/)"
      ]
    }
  ]
}