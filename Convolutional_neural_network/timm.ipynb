{
  "nbformat": 4,
  "nbformat_minor": 0,
  "metadata": {
    "colab": {
      "provenance": [],
      "toc_visible": true
    },
    "kernelspec": {
      "name": "python3",
      "display_name": "Python 3"
    },
    "language_info": {
      "name": "python"
    },
    "widgets": {
      "application/vnd.jupyter.widget-state+json": {
        "50db34f976964b85a84ef14492374495": {
          "model_module": "@jupyter-widgets/controls",
          "model_name": "HBoxModel",
          "model_module_version": "1.5.0",
          "state": {
            "_dom_classes": [],
            "_model_module": "@jupyter-widgets/controls",
            "_model_module_version": "1.5.0",
            "_model_name": "HBoxModel",
            "_view_count": null,
            "_view_module": "@jupyter-widgets/controls",
            "_view_module_version": "1.5.0",
            "_view_name": "HBoxView",
            "box_style": "",
            "children": [
              "IPY_MODEL_21b37040f3c34b56aac6d58bdc91292c",
              "IPY_MODEL_d6da63701baa4537b5e2946e56a0e6b1",
              "IPY_MODEL_94f16624b35a4901aaed6250e62ca32c"
            ],
            "layout": "IPY_MODEL_e82823cfd2034b39855b3eac2f1e1ac0"
          }
        },
        "21b37040f3c34b56aac6d58bdc91292c": {
          "model_module": "@jupyter-widgets/controls",
          "model_name": "HTMLModel",
          "model_module_version": "1.5.0",
          "state": {
            "_dom_classes": [],
            "_model_module": "@jupyter-widgets/controls",
            "_model_module_version": "1.5.0",
            "_model_name": "HTMLModel",
            "_view_count": null,
            "_view_module": "@jupyter-widgets/controls",
            "_view_module_version": "1.5.0",
            "_view_name": "HTMLView",
            "description": "",
            "description_tooltip": null,
            "layout": "IPY_MODEL_73d4e124921c49498aefe1be8ecd98c8",
            "placeholder": "​",
            "style": "IPY_MODEL_9dceccbe9d96407ba0f375a609ec97fe",
            "value": "model.safetensors: 100%"
          }
        },
        "d6da63701baa4537b5e2946e56a0e6b1": {
          "model_module": "@jupyter-widgets/controls",
          "model_name": "FloatProgressModel",
          "model_module_version": "1.5.0",
          "state": {
            "_dom_classes": [],
            "_model_module": "@jupyter-widgets/controls",
            "_model_module_version": "1.5.0",
            "_model_name": "FloatProgressModel",
            "_view_count": null,
            "_view_module": "@jupyter-widgets/controls",
            "_view_module_version": "1.5.0",
            "_view_name": "ProgressView",
            "bar_style": "success",
            "description": "",
            "description_tooltip": null,
            "layout": "IPY_MODEL_88492eb3ea624e70812113226697e4b0",
            "max": 18802812,
            "min": 0,
            "orientation": "horizontal",
            "style": "IPY_MODEL_eeff400ddfff4958a7d920670cda2e9f",
            "value": 18802812
          }
        },
        "94f16624b35a4901aaed6250e62ca32c": {
          "model_module": "@jupyter-widgets/controls",
          "model_name": "HTMLModel",
          "model_module_version": "1.5.0",
          "state": {
            "_dom_classes": [],
            "_model_module": "@jupyter-widgets/controls",
            "_model_module_version": "1.5.0",
            "_model_name": "HTMLModel",
            "_view_count": null,
            "_view_module": "@jupyter-widgets/controls",
            "_view_module_version": "1.5.0",
            "_view_name": "HTMLView",
            "description": "",
            "description_tooltip": null,
            "layout": "IPY_MODEL_29d35bd670974f5296ef31c73d7e8e18",
            "placeholder": "​",
            "style": "IPY_MODEL_08666c6b38ac4f2ab0897660e8df09f7",
            "value": " 18.8M/18.8M [00:00&lt;00:00, 30.7MB/s]"
          }
        },
        "e82823cfd2034b39855b3eac2f1e1ac0": {
          "model_module": "@jupyter-widgets/base",
          "model_name": "LayoutModel",
          "model_module_version": "1.2.0",
          "state": {
            "_model_module": "@jupyter-widgets/base",
            "_model_module_version": "1.2.0",
            "_model_name": "LayoutModel",
            "_view_count": null,
            "_view_module": "@jupyter-widgets/base",
            "_view_module_version": "1.2.0",
            "_view_name": "LayoutView",
            "align_content": null,
            "align_items": null,
            "align_self": null,
            "border": null,
            "bottom": null,
            "display": null,
            "flex": null,
            "flex_flow": null,
            "grid_area": null,
            "grid_auto_columns": null,
            "grid_auto_flow": null,
            "grid_auto_rows": null,
            "grid_column": null,
            "grid_gap": null,
            "grid_row": null,
            "grid_template_areas": null,
            "grid_template_columns": null,
            "grid_template_rows": null,
            "height": null,
            "justify_content": null,
            "justify_items": null,
            "left": null,
            "margin": null,
            "max_height": null,
            "max_width": null,
            "min_height": null,
            "min_width": null,
            "object_fit": null,
            "object_position": null,
            "order": null,
            "overflow": null,
            "overflow_x": null,
            "overflow_y": null,
            "padding": null,
            "right": null,
            "top": null,
            "visibility": null,
            "width": null
          }
        },
        "73d4e124921c49498aefe1be8ecd98c8": {
          "model_module": "@jupyter-widgets/base",
          "model_name": "LayoutModel",
          "model_module_version": "1.2.0",
          "state": {
            "_model_module": "@jupyter-widgets/base",
            "_model_module_version": "1.2.0",
            "_model_name": "LayoutModel",
            "_view_count": null,
            "_view_module": "@jupyter-widgets/base",
            "_view_module_version": "1.2.0",
            "_view_name": "LayoutView",
            "align_content": null,
            "align_items": null,
            "align_self": null,
            "border": null,
            "bottom": null,
            "display": null,
            "flex": null,
            "flex_flow": null,
            "grid_area": null,
            "grid_auto_columns": null,
            "grid_auto_flow": null,
            "grid_auto_rows": null,
            "grid_column": null,
            "grid_gap": null,
            "grid_row": null,
            "grid_template_areas": null,
            "grid_template_columns": null,
            "grid_template_rows": null,
            "height": null,
            "justify_content": null,
            "justify_items": null,
            "left": null,
            "margin": null,
            "max_height": null,
            "max_width": null,
            "min_height": null,
            "min_width": null,
            "object_fit": null,
            "object_position": null,
            "order": null,
            "overflow": null,
            "overflow_x": null,
            "overflow_y": null,
            "padding": null,
            "right": null,
            "top": null,
            "visibility": null,
            "width": null
          }
        },
        "9dceccbe9d96407ba0f375a609ec97fe": {
          "model_module": "@jupyter-widgets/controls",
          "model_name": "DescriptionStyleModel",
          "model_module_version": "1.5.0",
          "state": {
            "_model_module": "@jupyter-widgets/controls",
            "_model_module_version": "1.5.0",
            "_model_name": "DescriptionStyleModel",
            "_view_count": null,
            "_view_module": "@jupyter-widgets/base",
            "_view_module_version": "1.2.0",
            "_view_name": "StyleView",
            "description_width": ""
          }
        },
        "88492eb3ea624e70812113226697e4b0": {
          "model_module": "@jupyter-widgets/base",
          "model_name": "LayoutModel",
          "model_module_version": "1.2.0",
          "state": {
            "_model_module": "@jupyter-widgets/base",
            "_model_module_version": "1.2.0",
            "_model_name": "LayoutModel",
            "_view_count": null,
            "_view_module": "@jupyter-widgets/base",
            "_view_module_version": "1.2.0",
            "_view_name": "LayoutView",
            "align_content": null,
            "align_items": null,
            "align_self": null,
            "border": null,
            "bottom": null,
            "display": null,
            "flex": null,
            "flex_flow": null,
            "grid_area": null,
            "grid_auto_columns": null,
            "grid_auto_flow": null,
            "grid_auto_rows": null,
            "grid_column": null,
            "grid_gap": null,
            "grid_row": null,
            "grid_template_areas": null,
            "grid_template_columns": null,
            "grid_template_rows": null,
            "height": null,
            "justify_content": null,
            "justify_items": null,
            "left": null,
            "margin": null,
            "max_height": null,
            "max_width": null,
            "min_height": null,
            "min_width": null,
            "object_fit": null,
            "object_position": null,
            "order": null,
            "overflow": null,
            "overflow_x": null,
            "overflow_y": null,
            "padding": null,
            "right": null,
            "top": null,
            "visibility": null,
            "width": null
          }
        },
        "eeff400ddfff4958a7d920670cda2e9f": {
          "model_module": "@jupyter-widgets/controls",
          "model_name": "ProgressStyleModel",
          "model_module_version": "1.5.0",
          "state": {
            "_model_module": "@jupyter-widgets/controls",
            "_model_module_version": "1.5.0",
            "_model_name": "ProgressStyleModel",
            "_view_count": null,
            "_view_module": "@jupyter-widgets/base",
            "_view_module_version": "1.2.0",
            "_view_name": "StyleView",
            "bar_color": null,
            "description_width": ""
          }
        },
        "29d35bd670974f5296ef31c73d7e8e18": {
          "model_module": "@jupyter-widgets/base",
          "model_name": "LayoutModel",
          "model_module_version": "1.2.0",
          "state": {
            "_model_module": "@jupyter-widgets/base",
            "_model_module_version": "1.2.0",
            "_model_name": "LayoutModel",
            "_view_count": null,
            "_view_module": "@jupyter-widgets/base",
            "_view_module_version": "1.2.0",
            "_view_name": "LayoutView",
            "align_content": null,
            "align_items": null,
            "align_self": null,
            "border": null,
            "bottom": null,
            "display": null,
            "flex": null,
            "flex_flow": null,
            "grid_area": null,
            "grid_auto_columns": null,
            "grid_auto_flow": null,
            "grid_auto_rows": null,
            "grid_column": null,
            "grid_gap": null,
            "grid_row": null,
            "grid_template_areas": null,
            "grid_template_columns": null,
            "grid_template_rows": null,
            "height": null,
            "justify_content": null,
            "justify_items": null,
            "left": null,
            "margin": null,
            "max_height": null,
            "max_width": null,
            "min_height": null,
            "min_width": null,
            "object_fit": null,
            "object_position": null,
            "order": null,
            "overflow": null,
            "overflow_x": null,
            "overflow_y": null,
            "padding": null,
            "right": null,
            "top": null,
            "visibility": null,
            "width": null
          }
        },
        "08666c6b38ac4f2ab0897660e8df09f7": {
          "model_module": "@jupyter-widgets/controls",
          "model_name": "DescriptionStyleModel",
          "model_module_version": "1.5.0",
          "state": {
            "_model_module": "@jupyter-widgets/controls",
            "_model_module_version": "1.5.0",
            "_model_name": "DescriptionStyleModel",
            "_view_count": null,
            "_view_module": "@jupyter-widgets/base",
            "_view_module_version": "1.2.0",
            "_view_name": "StyleView",
            "description_width": ""
          }
        }
      }
    }
  },
  "cells": [
    {
      "cell_type": "markdown",
      "metadata": {
        "id": "gkV1I4Rjm11C"
      },
      "source": [
        "# Torch Image Models (timm)"
      ]
    },
    {
      "cell_type": "markdown",
      "metadata": {
        "id": "p6rwjbHUm11C"
      },
      "source": [
        "Библиотека [timm 🛠️[doc]](https://huggingface.co/docs/timm/index) (полное название \"Py**T**orch **Im**age **M**odels\") — это набор предварительно обученных моделей для задач компьютерного зрения, разработанный для фреймворка PyTorch. TIMM предоставляет широкий спектр моделей, которые можно использовать для задач, таких как классификация изображений, сегментация, обнаружение объектов и другие задачи обработки изображений.\n",
        "\n",
        "Основные особенности библиотеки:\n",
        "\n",
        "* **Разнообразие моделей**. Библиотека содержит различные архитектуры нейронных сетей, включая популярные модели, такие как ResNet, EfficientNet, ViT (Vision Transformer) и многие другие.\n",
        "\n",
        "* **Предварительное обучение**. Модели предварительно обучены на больших датасетах, таких как ImageNet, что позволяет использовать их как основу для различных задач компьютерного зрения с минимальной настройкой.\n",
        "\n",
        "* **Простота использования**. Удобный интерфейс для загрузки и использования моделей в PyTorch.\n",
        "\n",
        "* **Гибкость**. Возможность настраивать и адаптировать модели из библиотеки под свои конкретные задачи, добавлять и изменять слои и т. д."
      ]
    },
    {
      "cell_type": "code",
      "execution_count": null,
      "metadata": {
        "id": "A-DZMOOdm11C",
        "colab": {
          "base_uri": "https://localhost:8080/"
        },
        "outputId": "02e16789-f36e-4112-b86d-5840e495ac44"
      },
      "outputs": [
        {
          "output_type": "stream",
          "name": "stdout",
          "text": [
            "\u001b[2K     \u001b[90m━━━━━━━━━━━━━━━━━━━━━━━━━━━━━━━━━━━━━━━━\u001b[0m \u001b[32m42.4/42.4 kB\u001b[0m \u001b[31m1.2 MB/s\u001b[0m eta \u001b[36m0:00:00\u001b[0m\n",
            "\u001b[2K   \u001b[90m━━━━━━━━━━━━━━━━━━━━━━━━━━━━━━━━━━━━━━━━\u001b[0m \u001b[32m2.3/2.3 MB\u001b[0m \u001b[31m16.2 MB/s\u001b[0m eta \u001b[36m0:00:00\u001b[0m\n",
            "\u001b[?25h"
          ]
        }
      ],
      "source": [
        "!pip install -q timm"
      ]
    },
    {
      "cell_type": "code",
      "execution_count": null,
      "metadata": {
        "id": "H-nzV-Hvm11C"
      },
      "outputs": [],
      "source": [
        "import torch\n",
        "import random\n",
        "import numpy as np\n",
        "\n",
        "# fix random_seed\n",
        "torch.manual_seed(42)\n",
        "random.seed(42)\n",
        "np.random.seed(42)\n",
        "\n",
        "# compute in cpu or gpu\n",
        "device = torch.device(\"cuda\" if torch.cuda.is_available() else \"cpu\")"
      ]
    },
    {
      "cell_type": "markdown",
      "metadata": {
        "id": "Z_RtLJu0m11C"
      },
      "source": [
        "Для начала посмотрим, сколько моделей есть в библиотеке:"
      ]
    },
    {
      "cell_type": "code",
      "execution_count": null,
      "metadata": {
        "id": "mcWEq6Chm11E",
        "colab": {
          "base_uri": "https://localhost:8080/"
        },
        "outputId": "58648590-3628-42b4-f42e-3af15a3e2a09"
      },
      "outputs": [
        {
          "output_type": "execute_result",
          "data": {
            "text/plain": [
              "1133"
            ]
          },
          "metadata": {},
          "execution_count": 3
        }
      ],
      "source": [
        "import timm\n",
        "\n",
        "len(timm.list_models())"
      ]
    },
    {
      "cell_type": "markdown",
      "metadata": {
        "id": "Cp80KPSNm11E"
      },
      "source": [
        "Как видим, список довольно большой ([все архитектуры со ссылками на статьи 🛠️[doc]](https://github.com/huggingface/pytorch-image-models#models)). Можем указать параметры, чтобы сузить поиск. Например, посмотрим все предобученные EfficientNet:"
      ]
    },
    {
      "cell_type": "code",
      "execution_count": null,
      "metadata": {
        "id": "y24vhddum11E",
        "colab": {
          "base_uri": "https://localhost:8080/"
        },
        "outputId": "65b74185-0815-4ff2-a340-e926818db12a"
      },
      "outputs": [
        {
          "output_type": "execute_result",
          "data": {
            "text/plain": [
              "['efficientnet_b0.ra4_e3600_r224_in1k',\n",
              " 'efficientnet_b0.ra_in1k',\n",
              " 'efficientnet_b1.ft_in1k',\n",
              " 'efficientnet_b1.ra4_e3600_r240_in1k',\n",
              " 'efficientnet_b1_pruned.in1k',\n",
              " 'efficientnet_b2.ra_in1k',\n",
              " 'efficientnet_b2_pruned.in1k',\n",
              " 'efficientnet_b3.ra2_in1k',\n",
              " 'efficientnet_b3_pruned.in1k',\n",
              " 'efficientnet_b4.ra2_in1k',\n",
              " 'efficientnet_b5.sw_in12k',\n",
              " 'efficientnet_b5.sw_in12k_ft_in1k',\n",
              " 'efficientnet_el.ra_in1k',\n",
              " 'efficientnet_el_pruned.in1k',\n",
              " 'efficientnet_em.ra2_in1k',\n",
              " 'efficientnet_es.ra_in1k',\n",
              " 'efficientnet_es_pruned.in1k',\n",
              " 'efficientnet_lite0.ra_in1k',\n",
              " 'efficientnetv2_rw_m.agc_in1k',\n",
              " 'efficientnetv2_rw_s.ra2_in1k',\n",
              " 'efficientnetv2_rw_t.ra2_in1k']"
            ]
          },
          "metadata": {},
          "execution_count": 4
        }
      ],
      "source": [
        "timm.list_models(\"efficientnet*\", pretrained=True)"
      ]
    },
    {
      "cell_type": "markdown",
      "metadata": {
        "id": "AwSVJqT6m11E"
      },
      "source": [
        "Моделей много,чтобы выбрать нужную можно ознакомиться с их качеством в этой [таблице 🛠️[doc]](https://github.com/huggingface/pytorch-image-models/blob/main/results/results-imagenet.csv)."
      ]
    },
    {
      "cell_type": "markdown",
      "metadata": {
        "id": "G-CXy37zm11F"
      },
      "source": [
        "Загрузим одну из моделей:"
      ]
    },
    {
      "cell_type": "code",
      "execution_count": null,
      "metadata": {
        "id": "ocGQGkBlm11F",
        "colab": {
          "base_uri": "https://localhost:8080/",
          "height": 173,
          "referenced_widgets": [
            "50db34f976964b85a84ef14492374495",
            "21b37040f3c34b56aac6d58bdc91292c",
            "d6da63701baa4537b5e2946e56a0e6b1",
            "94f16624b35a4901aaed6250e62ca32c",
            "e82823cfd2034b39855b3eac2f1e1ac0",
            "73d4e124921c49498aefe1be8ecd98c8",
            "9dceccbe9d96407ba0f375a609ec97fe",
            "88492eb3ea624e70812113226697e4b0",
            "eeff400ddfff4958a7d920670cda2e9f",
            "29d35bd670974f5296ef31c73d7e8e18",
            "08666c6b38ac4f2ab0897660e8df09f7"
          ]
        },
        "outputId": "31e91f48-5c39-4a02-ac26-8c3ab1fdeef6"
      },
      "outputs": [
        {
          "output_type": "stream",
          "name": "stdout",
          "text": [
            "EfficientNet(\n",
            "  (conv_stem): Conv2d(3, 32, kernel_size=(3, 3), stride=(2, 2), padding=(1, 1), bias=False)\n",
            "  (bn1): BatchNormAct2d(\n",
            "    32, eps=1e-05, momentum=0.1, affine=True, track_running_stats=True\n",
            "    (drop): Identity()\n",
            "    (act): ReLU6(inplace=True)\n",
            "  )\n",
            "  (blocks): Sequential(\n",
            "    (0): Sequential(\n",
            "      (0): DepthwiseSeparableConv(\n",
            "        (conv_dw): Conv2d(32, 32, kernel_size=(3, 3), stride=(1, 1), padding=(1, 1), groups=32, bias=False)\n",
            "        (bn1): BatchNormAct2d(\n",
            "          32, eps=1e-05, momentum=0.1, affine=True, track_running_stats=True\n",
            "          (drop): Identity()\n",
            "          (act): ReLU6(inplace=True)\n",
            "        )\n",
            "        (aa): Identity()\n",
            "        (se): Identity()\n",
            "        (conv_pw): Conv2d(32, 16, kernel_size=(1, 1), stride=(1, 1), bias=False)\n",
            "        (bn2): BatchNormAct2d(\n",
            "          16, eps=1e-05, momentum=0.1, affine=True, track_running_stats=True\n",
            "          (drop): Identity()\n",
            "          (act): Identity()\n",
            "        )\n",
            "        (drop_path): Identity()\n",
            "      )\n",
            "    )\n",
            "    (1): Sequential(\n",
            "      (0): InvertedResidual(\n",
            "        (conv_pw): Conv2d(16, 96, kernel_size=(1, 1), stride=(1, 1), bias=False)\n",
            "        (bn1): BatchNormAct2d(\n",
            "          96, eps=1e-05, momentum=0.1, affine=True, track_running_stats=True\n",
            "          (drop): Identity()\n",
            "          (act): ReLU6(inplace=True)\n",
            "        )\n",
            "        (conv_dw): Conv2d(96, 96, kernel_size=(3, 3), stride=(2, 2), padding=(1, 1), groups=96, bias=False)\n",
            "        (bn2): BatchNormAct2d(\n",
            "          96, eps=1e-05, momentum=0.1, affine=True, track_running_stats=True\n",
            "          (drop): Identity()\n",
            "          (act): ReLU6(inplace=True)\n",
            "        )\n",
            "        (aa): Identity()\n",
            "        (se): Identity()\n",
            "        (conv_pwl): Conv2d(96, 24, kernel_size=(1, 1), stride=(1, 1), bias=False)\n",
            "        (bn3): BatchNormAct2d(\n",
            "          24, eps=1e-05, momentum=0.1, affine=True, track_running_stats=True\n",
            "          (drop): Identity()\n",
            "          (act): Identity()\n",
            "        )\n",
            "        (drop_path): Identity()\n",
            "      )\n",
            "      (1): InvertedResidual(\n",
            "        (conv_pw): Conv2d(24, 144, kernel_size=(1, 1), stride=(1, 1), bias=False)\n",
            "        (bn1): BatchNormAct2d(\n",
            "          144, eps=1e-05, momentum=0.1, affine=True, track_running_stats=True\n",
            "          (drop): Identity()\n",
            "          (act): ReLU6(inplace=True)\n",
            "        )\n",
            "        (conv_dw): Conv2d(144, 144, kernel_size=(3, 3), stride=(1, 1), padding=(1, 1), groups=144, bias=False)\n",
            "        (bn2): BatchNormAct2d(\n",
            "          144, eps=1e-05, momentum=0.1, affine=True, track_running_stats=True\n",
            "          (drop): Identity()\n",
            "          (act): ReLU6(inplace=True)\n",
            "        )\n",
            "        (aa): Identity()\n",
            "        (se): Identity()\n",
            "        (conv_pwl): Conv2d(144, 24, kernel_size=(1, 1), stride=(1, 1), bias=False)\n",
            "        (bn3): BatchNormAct2d(\n",
            "          24, eps=1e-05, momentum=0.1, affine=True, track_running_stats=True\n",
            "          (drop): Identity()\n",
            "          (act): Identity()\n",
            "        )\n",
            "        (drop_path): Identity()\n",
            "      )\n",
            "    )\n",
            "    (2): Sequential(\n",
            "      (0): InvertedResidual(\n",
            "        (conv_pw): Conv2d(24, 144, kernel_size=(1, 1), stride=(1, 1), bias=False)\n",
            "        (bn1): BatchNormAct2d(\n",
            "          144, eps=1e-05, momentum=0.1, affine=True, track_running_stats=True\n",
            "          (drop): Identity()\n",
            "          (act): ReLU6(inplace=True)\n",
            "        )\n",
            "        (conv_dw): Conv2d(144, 144, kernel_size=(5, 5), stride=(2, 2), padding=(2, 2), groups=144, bias=False)\n",
            "        (bn2): BatchNormAct2d(\n",
            "          144, eps=1e-05, momentum=0.1, affine=True, track_running_stats=True\n",
            "          (drop): Identity()\n",
            "          (act): ReLU6(inplace=True)\n",
            "        )\n",
            "        (aa): Identity()\n",
            "        (se): Identity()\n",
            "        (conv_pwl): Conv2d(144, 40, kernel_size=(1, 1), stride=(1, 1), bias=False)\n",
            "        (bn3): BatchNormAct2d(\n",
            "          40, eps=1e-05, momentum=0.1, affine=True, track_running_stats=True\n",
            "          (drop): Identity()\n",
            "          (act): Identity()\n",
            "        )\n",
            "        (drop_path): Identity()\n",
            "      )\n",
            "      (1): InvertedResidual(\n",
            "        (conv_pw): Conv2d(40, 240, kernel_size=(1, 1), stride=(1, 1), bias=False)\n",
            "        (bn1): BatchNormAct2d(\n",
            "          240, eps=1e-05, momentum=0.1, affine=True, track_running_stats=True\n",
            "          (drop): Identity()\n",
            "          (act): ReLU6(inplace=True)\n",
            "        )\n",
            "        (conv_dw): Conv2d(240, 240, kernel_size=(5, 5), stride=(1, 1), padding=(2, 2), groups=240, bias=False)\n",
            "        (bn2): BatchNormAct2d(\n",
            "          240, eps=1e-05, momentum=0.1, affine=True, track_running_stats=True\n",
            "          (drop): Identity()\n",
            "          (act): ReLU6(inplace=True)\n",
            "        )\n",
            "        (aa): Identity()\n",
            "        (se): Identity()\n",
            "        (conv_pwl): Conv2d(240, 40, kernel_size=(1, 1), stride=(1, 1), bias=False)\n",
            "        (bn3): BatchNormAct2d(\n",
            "          40, eps=1e-05, momentum=0.1, affine=True, track_running_stats=True\n",
            "          (drop): Identity()\n",
            "          (act): Identity()\n",
            "        )\n",
            "        (drop_path): Identity()\n",
            "      )\n",
            "    )\n",
            "    (3): Sequential(\n",
            "      (0): InvertedResidual(\n",
            "        (conv_pw): Conv2d(40, 240, kernel_size=(1, 1), stride=(1, 1), bias=False)\n",
            "        (bn1): BatchNormAct2d(\n",
            "          240, eps=1e-05, momentum=0.1, affine=True, track_running_stats=True\n",
            "          (drop): Identity()\n",
            "          (act): ReLU6(inplace=True)\n",
            "        )\n",
            "        (conv_dw): Conv2d(240, 240, kernel_size=(3, 3), stride=(2, 2), padding=(1, 1), groups=240, bias=False)\n",
            "        (bn2): BatchNormAct2d(\n",
            "          240, eps=1e-05, momentum=0.1, affine=True, track_running_stats=True\n",
            "          (drop): Identity()\n",
            "          (act): ReLU6(inplace=True)\n",
            "        )\n",
            "        (aa): Identity()\n",
            "        (se): Identity()\n",
            "        (conv_pwl): Conv2d(240, 80, kernel_size=(1, 1), stride=(1, 1), bias=False)\n",
            "        (bn3): BatchNormAct2d(\n",
            "          80, eps=1e-05, momentum=0.1, affine=True, track_running_stats=True\n",
            "          (drop): Identity()\n",
            "          (act): Identity()\n",
            "        )\n",
            "        (drop_path): Identity()\n",
            "      )\n",
            "      (1): InvertedResidual(\n",
            "        (conv_pw): Conv2d(80, 480, kernel_size=(1, 1), stride=(1, 1), bias=False)\n",
            "        (bn1): BatchNormAct2d(\n",
            "          480, eps=1e-05, momentum=0.1, affine=True, track_running_stats=True\n",
            "          (drop): Identity()\n",
            "          (act): ReLU6(inplace=True)\n",
            "        )\n",
            "        (conv_dw): Conv2d(480, 480, kernel_size=(3, 3), stride=(1, 1), padding=(1, 1), groups=480, bias=False)\n",
            "        (bn2): BatchNormAct2d(\n",
            "          480, eps=1e-05, momentum=0.1, affine=True, track_running_stats=True\n",
            "          (drop): Identity()\n",
            "          (act): ReLU6(inplace=True)\n",
            "        )\n",
            "        (aa): Identity()\n",
            "        (se): Identity()\n",
            "        (conv_pwl): Conv2d(480, 80, kernel_size=(1, 1), stride=(1, 1), bias=False)\n",
            "        (bn3): BatchNormAct2d(\n",
            "          80, eps=1e-05, momentum=0.1, affine=True, track_running_stats=True\n",
            "          (drop): Identity()\n",
            "          (act): Identity()\n",
            "        )\n",
            "        (drop_path): Identity()\n",
            "      )\n",
            "      (2): InvertedResidual(\n",
            "        (conv_pw): Conv2d(80, 480, kernel_size=(1, 1), stride=(1, 1), bias=False)\n",
            "        (bn1): BatchNormAct2d(\n",
            "          480, eps=1e-05, momentum=0.1, affine=True, track_running_stats=True\n",
            "          (drop): Identity()\n",
            "          (act): ReLU6(inplace=True)\n",
            "        )\n",
            "        (conv_dw): Conv2d(480, 480, kernel_size=(3, 3), stride=(1, 1), padding=(1, 1), groups=480, bias=False)\n",
            "        (bn2): BatchNormAct2d(\n",
            "          480, eps=1e-05, momentum=0.1, affine=True, track_running_stats=True\n",
            "          (drop): Identity()\n",
            "          (act): ReLU6(inplace=True)\n",
            "        )\n",
            "        (aa): Identity()\n",
            "        (se): Identity()\n",
            "        (conv_pwl): Conv2d(480, 80, kernel_size=(1, 1), stride=(1, 1), bias=False)\n",
            "        (bn3): BatchNormAct2d(\n",
            "          80, eps=1e-05, momentum=0.1, affine=True, track_running_stats=True\n",
            "          (drop): Identity()\n",
            "          (act): Identity()\n",
            "        )\n",
            "        (drop_path): Identity()\n",
            "      )\n",
            "    )\n",
            "    (4): Sequential(\n",
            "      (0): InvertedResidual(\n",
            "        (conv_pw): Conv2d(80, 480, kernel_size=(1, 1), stride=(1, 1), bias=False)\n",
            "        (bn1): BatchNormAct2d(\n",
            "          480, eps=1e-05, momentum=0.1, affine=True, track_running_stats=True\n",
            "          (drop): Identity()\n",
            "          (act): ReLU6(inplace=True)\n",
            "        )\n",
            "        (conv_dw): Conv2d(480, 480, kernel_size=(5, 5), stride=(1, 1), padding=(2, 2), groups=480, bias=False)\n",
            "        (bn2): BatchNormAct2d(\n",
            "          480, eps=1e-05, momentum=0.1, affine=True, track_running_stats=True\n",
            "          (drop): Identity()\n",
            "          (act): ReLU6(inplace=True)\n",
            "        )\n",
            "        (aa): Identity()\n",
            "        (se): Identity()\n",
            "        (conv_pwl): Conv2d(480, 112, kernel_size=(1, 1), stride=(1, 1), bias=False)\n",
            "        (bn3): BatchNormAct2d(\n",
            "          112, eps=1e-05, momentum=0.1, affine=True, track_running_stats=True\n",
            "          (drop): Identity()\n",
            "          (act): Identity()\n",
            "        )\n",
            "        (drop_path): Identity()\n",
            "      )\n",
            "      (1): InvertedResidual(\n",
            "        (conv_pw): Conv2d(112, 672, kernel_size=(1, 1), stride=(1, 1), bias=False)\n",
            "        (bn1): BatchNormAct2d(\n",
            "          672, eps=1e-05, momentum=0.1, affine=True, track_running_stats=True\n",
            "          (drop): Identity()\n",
            "          (act): ReLU6(inplace=True)\n",
            "        )\n",
            "        (conv_dw): Conv2d(672, 672, kernel_size=(5, 5), stride=(1, 1), padding=(2, 2), groups=672, bias=False)\n",
            "        (bn2): BatchNormAct2d(\n",
            "          672, eps=1e-05, momentum=0.1, affine=True, track_running_stats=True\n",
            "          (drop): Identity()\n",
            "          (act): ReLU6(inplace=True)\n",
            "        )\n",
            "        (aa): Identity()\n",
            "        (se): Identity()\n",
            "        (conv_pwl): Conv2d(672, 112, kernel_size=(1, 1), stride=(1, 1), bias=False)\n",
            "        (bn3): BatchNormAct2d(\n",
            "          112, eps=1e-05, momentum=0.1, affine=True, track_running_stats=True\n",
            "          (drop): Identity()\n",
            "          (act): Identity()\n",
            "        )\n",
            "        (drop_path): Identity()\n",
            "      )\n",
            "      (2): InvertedResidual(\n",
            "        (conv_pw): Conv2d(112, 672, kernel_size=(1, 1), stride=(1, 1), bias=False)\n",
            "        (bn1): BatchNormAct2d(\n",
            "          672, eps=1e-05, momentum=0.1, affine=True, track_running_stats=True\n",
            "          (drop): Identity()\n",
            "          (act): ReLU6(inplace=True)\n",
            "        )\n",
            "        (conv_dw): Conv2d(672, 672, kernel_size=(5, 5), stride=(1, 1), padding=(2, 2), groups=672, bias=False)\n",
            "        (bn2): BatchNormAct2d(\n",
            "          672, eps=1e-05, momentum=0.1, affine=True, track_running_stats=True\n",
            "          (drop): Identity()\n",
            "          (act): ReLU6(inplace=True)\n",
            "        )\n",
            "        (aa): Identity()\n",
            "        (se): Identity()\n",
            "        (conv_pwl): Conv2d(672, 112, kernel_size=(1, 1), stride=(1, 1), bias=False)\n",
            "        (bn3): BatchNormAct2d(\n",
            "          112, eps=1e-05, momentum=0.1, affine=True, track_running_stats=True\n",
            "          (drop): Identity()\n",
            "          (act): Identity()\n",
            "        )\n",
            "        (drop_path): Identity()\n",
            "      )\n",
            "    )\n",
            "    (5): Sequential(\n",
            "      (0): InvertedResidual(\n",
            "        (conv_pw): Conv2d(112, 672, kernel_size=(1, 1), stride=(1, 1), bias=False)\n",
            "        (bn1): BatchNormAct2d(\n",
            "          672, eps=1e-05, momentum=0.1, affine=True, track_running_stats=True\n",
            "          (drop): Identity()\n",
            "          (act): ReLU6(inplace=True)\n",
            "        )\n",
            "        (conv_dw): Conv2d(672, 672, kernel_size=(5, 5), stride=(2, 2), padding=(2, 2), groups=672, bias=False)\n",
            "        (bn2): BatchNormAct2d(\n",
            "          672, eps=1e-05, momentum=0.1, affine=True, track_running_stats=True\n",
            "          (drop): Identity()\n",
            "          (act): ReLU6(inplace=True)\n",
            "        )\n",
            "        (aa): Identity()\n",
            "        (se): Identity()\n",
            "        (conv_pwl): Conv2d(672, 192, kernel_size=(1, 1), stride=(1, 1), bias=False)\n",
            "        (bn3): BatchNormAct2d(\n",
            "          192, eps=1e-05, momentum=0.1, affine=True, track_running_stats=True\n",
            "          (drop): Identity()\n",
            "          (act): Identity()\n",
            "        )\n",
            "        (drop_path): Identity()\n",
            "      )\n",
            "      (1): InvertedResidual(\n",
            "        (conv_pw): Conv2d(192, 1152, kernel_size=(1, 1), stride=(1, 1), bias=False)\n",
            "        (bn1): BatchNormAct2d(\n",
            "          1152, eps=1e-05, momentum=0.1, affine=True, track_running_stats=True\n",
            "          (drop): Identity()\n",
            "          (act): ReLU6(inplace=True)\n",
            "        )\n",
            "        (conv_dw): Conv2d(1152, 1152, kernel_size=(5, 5), stride=(1, 1), padding=(2, 2), groups=1152, bias=False)\n",
            "        (bn2): BatchNormAct2d(\n",
            "          1152, eps=1e-05, momentum=0.1, affine=True, track_running_stats=True\n",
            "          (drop): Identity()\n",
            "          (act): ReLU6(inplace=True)\n",
            "        )\n",
            "        (aa): Identity()\n",
            "        (se): Identity()\n",
            "        (conv_pwl): Conv2d(1152, 192, kernel_size=(1, 1), stride=(1, 1), bias=False)\n",
            "        (bn3): BatchNormAct2d(\n",
            "          192, eps=1e-05, momentum=0.1, affine=True, track_running_stats=True\n",
            "          (drop): Identity()\n",
            "          (act): Identity()\n",
            "        )\n",
            "        (drop_path): Identity()\n",
            "      )\n",
            "      (2): InvertedResidual(\n",
            "        (conv_pw): Conv2d(192, 1152, kernel_size=(1, 1), stride=(1, 1), bias=False)\n",
            "        (bn1): BatchNormAct2d(\n",
            "          1152, eps=1e-05, momentum=0.1, affine=True, track_running_stats=True\n",
            "          (drop): Identity()\n",
            "          (act): ReLU6(inplace=True)\n",
            "        )\n",
            "        (conv_dw): Conv2d(1152, 1152, kernel_size=(5, 5), stride=(1, 1), padding=(2, 2), groups=1152, bias=False)\n",
            "        (bn2): BatchNormAct2d(\n",
            "          1152, eps=1e-05, momentum=0.1, affine=True, track_running_stats=True\n",
            "          (drop): Identity()\n",
            "          (act): ReLU6(inplace=True)\n",
            "        )\n",
            "        (aa): Identity()\n",
            "        (se): Identity()\n",
            "        (conv_pwl): Conv2d(1152, 192, kernel_size=(1, 1), stride=(1, 1), bias=False)\n",
            "        (bn3): BatchNormAct2d(\n",
            "          192, eps=1e-05, momentum=0.1, affine=True, track_running_stats=True\n",
            "          (drop): Identity()\n",
            "          (act): Identity()\n",
            "        )\n",
            "        (drop_path): Identity()\n",
            "      )\n",
            "      (3): InvertedResidual(\n",
            "        (conv_pw): Conv2d(192, 1152, kernel_size=(1, 1), stride=(1, 1), bias=False)\n",
            "        (bn1): BatchNormAct2d(\n",
            "          1152, eps=1e-05, momentum=0.1, affine=True, track_running_stats=True\n",
            "          (drop): Identity()\n",
            "          (act): ReLU6(inplace=True)\n",
            "        )\n",
            "        (conv_dw): Conv2d(1152, 1152, kernel_size=(5, 5), stride=(1, 1), padding=(2, 2), groups=1152, bias=False)\n",
            "        (bn2): BatchNormAct2d(\n",
            "          1152, eps=1e-05, momentum=0.1, affine=True, track_running_stats=True\n",
            "          (drop): Identity()\n",
            "          (act): ReLU6(inplace=True)\n",
            "        )\n",
            "        (aa): Identity()\n",
            "        (se): Identity()\n",
            "        (conv_pwl): Conv2d(1152, 192, kernel_size=(1, 1), stride=(1, 1), bias=False)\n",
            "        (bn3): BatchNormAct2d(\n",
            "          192, eps=1e-05, momentum=0.1, affine=True, track_running_stats=True\n",
            "          (drop): Identity()\n",
            "          (act): Identity()\n",
            "        )\n",
            "        (drop_path): Identity()\n",
            "      )\n",
            "    )\n",
            "    (6): Sequential(\n",
            "      (0): InvertedResidual(\n",
            "        (conv_pw): Conv2d(192, 1152, kernel_size=(1, 1), stride=(1, 1), bias=False)\n",
            "        (bn1): BatchNormAct2d(\n",
            "          1152, eps=1e-05, momentum=0.1, affine=True, track_running_stats=True\n",
            "          (drop): Identity()\n",
            "          (act): ReLU6(inplace=True)\n",
            "        )\n",
            "        (conv_dw): Conv2d(1152, 1152, kernel_size=(3, 3), stride=(1, 1), padding=(1, 1), groups=1152, bias=False)\n",
            "        (bn2): BatchNormAct2d(\n",
            "          1152, eps=1e-05, momentum=0.1, affine=True, track_running_stats=True\n",
            "          (drop): Identity()\n",
            "          (act): ReLU6(inplace=True)\n",
            "        )\n",
            "        (aa): Identity()\n",
            "        (se): Identity()\n",
            "        (conv_pwl): Conv2d(1152, 320, kernel_size=(1, 1), stride=(1, 1), bias=False)\n",
            "        (bn3): BatchNormAct2d(\n",
            "          320, eps=1e-05, momentum=0.1, affine=True, track_running_stats=True\n",
            "          (drop): Identity()\n",
            "          (act): Identity()\n",
            "        )\n",
            "        (drop_path): Identity()\n",
            "      )\n",
            "    )\n",
            "  )\n",
            "  (conv_head): Conv2d(320, 1280, kernel_size=(1, 1), stride=(1, 1), bias=False)\n",
            "  (bn2): BatchNormAct2d(\n",
            "    1280, eps=1e-05, momentum=0.1, affine=True, track_running_stats=True\n",
            "    (drop): Identity()\n",
            "    (act): ReLU6(inplace=True)\n",
            "  )\n",
            "  (global_pool): SelectAdaptivePool2d(pool_type=avg, flatten=Flatten(start_dim=1, end_dim=-1))\n",
            "  (classifier): Linear(in_features=1280, out_features=1000, bias=True)\n",
            ")\n"
          ]
        }
      ],
      "source": [
        "from IPython.display import clear_output\n",
        "\n",
        "model_name = \"efficientnet_lite0.ra_in1k\"\n",
        "pretrained_model = timm.create_model(model_name, pretrained=True)\n",
        "clear_output()\n",
        "print(pretrained_model)"
      ]
    },
    {
      "cell_type": "markdown",
      "metadata": {
        "id": "TGVylLjym11F"
      },
      "source": [
        "Если мы захотим применить модель в своей задаче, то, вероятно, нам потребуется заменить количество нейронов в последнем слое. Например, в случае с CIFAR-10 нам потребуется 10 выходов вместо 1000. Сделать это можно сразу при загрузке модели:"
      ]
    },
    {
      "cell_type": "code",
      "execution_count": null,
      "metadata": {
        "id": "7nJeScp9m11F",
        "colab": {
          "base_uri": "https://localhost:8080/"
        },
        "outputId": "8f730be5-f115-43a4-dfcc-acd9e73c2277"
      },
      "outputs": [
        {
          "output_type": "execute_result",
          "data": {
            "text/plain": [
              "Linear(in_features=1280, out_features=10, bias=True)"
            ]
          },
          "metadata": {},
          "execution_count": 6
        }
      ],
      "source": [
        "pretrained_model = timm.create_model(model_name, pretrained=True, num_classes=10)\n",
        "pretrained_model.classifier"
      ]
    },
    {
      "cell_type": "markdown",
      "metadata": {
        "id": "tmBCrIp5m11F"
      },
      "source": [
        "Раньше мы делали это вручную:"
      ]
    },
    {
      "cell_type": "code",
      "execution_count": null,
      "metadata": {
        "id": "VL83_bQ6m11F"
      },
      "outputs": [],
      "source": [
        "import torch.nn as nn\n",
        "\n",
        "pretrained_model.classifier = nn.Linear(1280, 10)"
      ]
    },
    {
      "cell_type": "markdown",
      "metadata": {
        "id": "76L6Tbu-m11F"
      },
      "source": [
        "И эта возможность сохраняется. Мы по-прежнему можем изменить любой слой или блок слоев. Посмотрим высокоуровневую структуру сети."
      ]
    },
    {
      "cell_type": "code",
      "execution_count": null,
      "metadata": {
        "id": "vVnjkLgXm11F",
        "colab": {
          "base_uri": "https://localhost:8080/"
        },
        "outputId": "81e5f792-56e3-4c7b-8e82-ae3aa562f3c3"
      },
      "outputs": [
        {
          "output_type": "stream",
          "name": "stdout",
          "text": [
            "layers.keys() = dict_keys(['conv_stem', 'bn1', 'blocks', 'conv_head', 'bn2', 'global_pool', 'classifier'])\n"
          ]
        }
      ],
      "source": [
        "layers = dict(pretrained_model.named_children())\n",
        "\n",
        "print(f\"{layers.keys() = }\")"
      ]
    },
    {
      "cell_type": "code",
      "execution_count": null,
      "metadata": {
        "id": "L-pXPXQRm11F",
        "colab": {
          "base_uri": "https://localhost:8080/"
        },
        "outputId": "6c0fbc39-19ac-458a-a0b1-dfc4140ff7ea"
      },
      "outputs": [
        {
          "output_type": "execute_result",
          "data": {
            "text/plain": [
              "Conv2d(320, 1280, kernel_size=(1, 1), stride=(1, 1), bias=False)"
            ]
          },
          "metadata": {},
          "execution_count": 9
        }
      ],
      "source": [
        "pretrained_model.conv_head"
      ]
    },
    {
      "cell_type": "markdown",
      "metadata": {
        "id": "URbZthupm11F"
      },
      "source": [
        "Изменим параметры, создав новый слой вместо старого:"
      ]
    },
    {
      "cell_type": "code",
      "execution_count": null,
      "metadata": {
        "id": "3ZuD5bdom11F"
      },
      "outputs": [],
      "source": [
        "from copy import deepcopy\n",
        "\n",
        "modified_model = deepcopy(pretrained_model)\n",
        "modified_model.conv_head = nn.Conv2d(\n",
        "    320, 1280, kernel_size=(3, 3), stride=(1, 1), bias=False\n",
        ")"
      ]
    },
    {
      "cell_type": "markdown",
      "metadata": {
        "id": "EbhI8C4lm11G"
      },
      "source": [
        "**Важно:** следите за совместимостью слоев и будьте осторожны, заменяя крупные блоки модели с именованными атрибутами на `nn.Sequential`. Вы можете изменить логику модели, прописанную в функции `forward`. Например, если вы заменете BasicBlock ResNet на `nn.Sequential` с тем же набором слоев, вы потеряете residual connection."
      ]
    },
    {
      "cell_type": "markdown",
      "metadata": {
        "id": "OBK1ojgSm11G"
      },
      "source": [
        "Проверим, что сеть изменилась:"
      ]
    },
    {
      "cell_type": "code",
      "execution_count": null,
      "metadata": {
        "id": "7WB5EumKm11G",
        "colab": {
          "base_uri": "https://localhost:8080/"
        },
        "outputId": "d4280f2d-3a3e-4f81-e362-762013102881"
      },
      "outputs": [
        {
          "output_type": "execute_result",
          "data": {
            "text/plain": [
              "Conv2d(320, 1280, kernel_size=(3, 3), stride=(1, 1), bias=False)"
            ]
          },
          "metadata": {},
          "execution_count": 11
        }
      ],
      "source": [
        "modified_model.conv_head"
      ]
    },
    {
      "cell_type": "markdown",
      "metadata": {
        "id": "b3x1DMSmm11G"
      },
      "source": [
        "Но при этом работает корректно:"
      ]
    },
    {
      "cell_type": "code",
      "execution_count": null,
      "metadata": {
        "id": "_YmbE9Q3m11G",
        "colab": {
          "base_uri": "https://localhost:8080/"
        },
        "outputId": "7003607f-de25-4621-885a-2b4f03b29be7"
      },
      "outputs": [
        {
          "output_type": "stream",
          "name": "stdout",
          "text": [
            "out.shape = torch.Size([1, 10])\n"
          ]
        }
      ],
      "source": [
        "x = torch.rand(1, 3, 224, 224)\n",
        "out = modified_model(x)\n",
        "print(f\"{out.shape = }\")"
      ]
    },
    {
      "cell_type": "markdown",
      "metadata": {
        "id": "KF6K8FdRm11G"
      },
      "source": [
        "В timm сеть разделена (условно) на две части: `feature_extractor` и `classifier`. Это позволяет использовать более гибкие методы работы. Получим классификационную часть методом `get_classifier()` (в нашем случае это один слой) и посмотрим, какие параметры на вход ожидает слой:"
      ]
    },
    {
      "cell_type": "code",
      "execution_count": null,
      "metadata": {
        "id": "KYRhggR7m11G",
        "colab": {
          "base_uri": "https://localhost:8080/"
        },
        "outputId": "aeba937a-f0b3-4522-fc5f-eca9dcaea87c"
      },
      "outputs": [
        {
          "output_type": "execute_result",
          "data": {
            "text/plain": [
              "1280"
            ]
          },
          "metadata": {},
          "execution_count": 13
        }
      ],
      "source": [
        "num_in_features = pretrained_model.get_classifier().in_features\n",
        "num_in_features"
      ]
    },
    {
      "cell_type": "markdown",
      "metadata": {
        "id": "6t98T9jKm11G"
      },
      "source": [
        "Теперь заменим слой на собственный классификационный блок:"
      ]
    },
    {
      "cell_type": "code",
      "execution_count": null,
      "metadata": {
        "id": "9zWLKTP1m11G"
      },
      "outputs": [],
      "source": [
        "pretrained_model.classifier = nn.Sequential(\n",
        "    nn.Linear(in_features=num_in_features, out_features=512, bias=False),\n",
        "    nn.ReLU(),\n",
        "    nn.BatchNorm1d(512),\n",
        "    nn.Dropout(0.4),\n",
        "    nn.Linear(in_features=512, out_features=10, bias=False),\n",
        ")"
      ]
    },
    {
      "cell_type": "code",
      "execution_count": null,
      "metadata": {
        "id": "HT_MNlAFm11G",
        "colab": {
          "base_uri": "https://localhost:8080/"
        },
        "outputId": "313074df-0547-48f1-ff5e-4bcfe98b1d43"
      },
      "outputs": [
        {
          "output_type": "execute_result",
          "data": {
            "text/plain": [
              "Sequential(\n",
              "  (0): Linear(in_features=1280, out_features=512, bias=False)\n",
              "  (1): ReLU()\n",
              "  (2): BatchNorm1d(512, eps=1e-05, momentum=0.1, affine=True, track_running_stats=True)\n",
              "  (3): Dropout(p=0.4, inplace=False)\n",
              "  (4): Linear(in_features=512, out_features=10, bias=False)\n",
              ")"
            ]
          },
          "metadata": {},
          "execution_count": 15
        }
      ],
      "source": [
        "pretrained_model.classifier"
      ]
    },
    {
      "cell_type": "markdown",
      "metadata": {
        "id": "x5IlnklJm11H"
      },
      "source": [
        "Мы также можем изменить количество входных каналов (параметр `in_chans`), и timm адаптирует слой для использования тензора с нужной размерностью, перераспределяя веса:"
      ]
    },
    {
      "cell_type": "code",
      "execution_count": null,
      "metadata": {
        "id": "fZmDxGCTm11H",
        "colab": {
          "base_uri": "https://localhost:8080/"
        },
        "outputId": "8758634d-b6e4-40bc-a17d-46e01b036fac"
      },
      "outputs": [
        {
          "output_type": "execute_result",
          "data": {
            "text/plain": [
              "torch.Size([1, 10])"
            ]
          },
          "metadata": {},
          "execution_count": 16
        }
      ],
      "source": [
        "pretrained_model_2 = timm.create_model(\n",
        "    model_name, pretrained=True, num_classes=10, in_chans=8\n",
        ")\n",
        "x = torch.rand(1, 8, 224, 224)\n",
        "pretrained_model_2(x).shape"
      ]
    },
    {
      "cell_type": "markdown",
      "metadata": {
        "id": "Ly5rKFGKm11H"
      },
      "source": [
        "## Custom feature extractor"
      ]
    },
    {
      "cell_type": "markdown",
      "metadata": {
        "id": "pXcXYYelm11H"
      },
      "source": [
        "<center><img src =\"https://ml.gan4x4.ru/msu/dev-2.2/L08/out/feature_extraction_backbone.png\"  width=\"650\"></center>"
      ]
    },
    {
      "cell_type": "markdown",
      "metadata": {
        "id": "VbPMKI22m11H"
      },
      "source": [
        "Разберемся теперь с `feature_extractor`. Используя методы из `torchvision.models.feature_extraction`, мы можем посмотреть граф модели с названиями элементов и получить `output` любого элемента. Тут есть некоторые особенности, с которыми можно ознакомиться в [документации 🛠️[doc]](https://pytorch.org/blog/FX-feature-extraction-torchvision/), но в общем случае это работает так:\n",
        "\n",
        "* cтроим граф, выбираем, откуда хотим получить `output`;\n",
        "* cоздаем `feature_extractor` с выбранным элементом."
      ]
    },
    {
      "cell_type": "markdown",
      "metadata": {
        "id": "kl8So_WLm11H"
      },
      "source": [
        "Построим граф и посмотрим, как он выглядит:"
      ]
    },
    {
      "cell_type": "code",
      "execution_count": null,
      "metadata": {
        "id": "HGSZY2HFm11H",
        "colab": {
          "base_uri": "https://localhost:8080/"
        },
        "outputId": "0108348c-ec7b-42b5-9d29-8af63c9accb8"
      },
      "outputs": [
        {
          "output_type": "execute_result",
          "data": {
            "text/plain": [
              "['x',\n",
              " 'conv_stem',\n",
              " 'bn1.getattr',\n",
              " 'bn1.eq',\n",
              " 'bn1.getattr_1',\n",
              " 'bn1._assert',\n",
              " 'bn1.bn1_weight',\n",
              " 'bn1.bn1_bias',\n",
              " 'bn1.batch_norm',\n",
              " 'bn1.drop',\n",
              " 'bn1.act',\n",
              " 'blocks.0.0.conv_dw',\n",
              " 'blocks.0.0.bn1.getattr',\n",
              " 'blocks.0.0.bn1.eq',\n",
              " 'blocks.0.0.bn1.getattr_1',\n",
              " 'blocks.0.0.bn1._assert',\n",
              " 'blocks.0.0.bn1.blocks_0_0_bn1_weight',\n",
              " 'blocks.0.0.bn1.blocks_0_0_bn1_bias',\n",
              " 'blocks.0.0.bn1.batch_norm',\n",
              " 'blocks.0.0.bn1.drop',\n",
              " 'blocks.0.0.bn1.act',\n",
              " 'blocks.0.0.aa',\n",
              " 'blocks.0.0.se',\n",
              " 'blocks.0.0.conv_pw',\n",
              " 'blocks.0.0.bn2.getattr',\n",
              " 'blocks.0.0.bn2.eq',\n",
              " 'blocks.0.0.bn2.getattr_1',\n",
              " 'blocks.0.0.bn2._assert',\n",
              " 'blocks.0.0.bn2.blocks_0_0_bn2_weight',\n",
              " 'blocks.0.0.bn2.blocks_0_0_bn2_bias',\n",
              " 'blocks.0.0.bn2.batch_norm',\n",
              " 'blocks.0.0.bn2.drop',\n",
              " 'blocks.0.0.bn2.act',\n",
              " 'blocks.1.0.conv_pw',\n",
              " 'blocks.1.0.bn1.getattr',\n",
              " 'blocks.1.0.bn1.eq',\n",
              " 'blocks.1.0.bn1.getattr_1',\n",
              " 'blocks.1.0.bn1._assert',\n",
              " 'blocks.1.0.bn1.blocks_1_0_bn1_weight',\n",
              " 'blocks.1.0.bn1.blocks_1_0_bn1_bias',\n",
              " 'blocks.1.0.bn1.batch_norm',\n",
              " 'blocks.1.0.bn1.drop',\n",
              " 'blocks.1.0.bn1.act',\n",
              " 'blocks.1.0.conv_dw',\n",
              " 'blocks.1.0.bn2.getattr',\n",
              " 'blocks.1.0.bn2.eq',\n",
              " 'blocks.1.0.bn2.getattr_1',\n",
              " 'blocks.1.0.bn2._assert',\n",
              " 'blocks.1.0.bn2.blocks_1_0_bn2_weight',\n",
              " 'blocks.1.0.bn2.blocks_1_0_bn2_bias',\n",
              " 'blocks.1.0.bn2.batch_norm',\n",
              " 'blocks.1.0.bn2.drop',\n",
              " 'blocks.1.0.bn2.act',\n",
              " 'blocks.1.0.aa',\n",
              " 'blocks.1.0.se',\n",
              " 'blocks.1.0.conv_pwl',\n",
              " 'blocks.1.0.bn3.getattr',\n",
              " 'blocks.1.0.bn3.eq',\n",
              " 'blocks.1.0.bn3.getattr_1',\n",
              " 'blocks.1.0.bn3._assert',\n",
              " 'blocks.1.0.bn3.blocks_1_0_bn3_weight',\n",
              " 'blocks.1.0.bn3.blocks_1_0_bn3_bias',\n",
              " 'blocks.1.0.bn3.batch_norm',\n",
              " 'blocks.1.0.bn3.drop',\n",
              " 'blocks.1.0.bn3.act',\n",
              " 'blocks.1.1.conv_pw',\n",
              " 'blocks.1.1.bn1.getattr',\n",
              " 'blocks.1.1.bn1.eq',\n",
              " 'blocks.1.1.bn1.getattr_1',\n",
              " 'blocks.1.1.bn1._assert',\n",
              " 'blocks.1.1.bn1.blocks_1_1_bn1_weight',\n",
              " 'blocks.1.1.bn1.blocks_1_1_bn1_bias',\n",
              " 'blocks.1.1.bn1.batch_norm',\n",
              " 'blocks.1.1.bn1.drop',\n",
              " 'blocks.1.1.bn1.act',\n",
              " 'blocks.1.1.conv_dw',\n",
              " 'blocks.1.1.bn2.getattr',\n",
              " 'blocks.1.1.bn2.eq',\n",
              " 'blocks.1.1.bn2.getattr_1',\n",
              " 'blocks.1.1.bn2._assert',\n",
              " 'blocks.1.1.bn2.blocks_1_1_bn2_weight',\n",
              " 'blocks.1.1.bn2.blocks_1_1_bn2_bias',\n",
              " 'blocks.1.1.bn2.batch_norm',\n",
              " 'blocks.1.1.bn2.drop',\n",
              " 'blocks.1.1.bn2.act',\n",
              " 'blocks.1.1.aa',\n",
              " 'blocks.1.1.se',\n",
              " 'blocks.1.1.conv_pwl',\n",
              " 'blocks.1.1.bn3.getattr',\n",
              " 'blocks.1.1.bn3.eq',\n",
              " 'blocks.1.1.bn3.getattr_1',\n",
              " 'blocks.1.1.bn3._assert',\n",
              " 'blocks.1.1.bn3.blocks_1_1_bn3_weight',\n",
              " 'blocks.1.1.bn3.blocks_1_1_bn3_bias',\n",
              " 'blocks.1.1.bn3.batch_norm',\n",
              " 'blocks.1.1.bn3.drop',\n",
              " 'blocks.1.1.bn3.act',\n",
              " 'blocks.1.1.drop_path',\n",
              " 'blocks.1.1.add',\n",
              " 'blocks.2.0.conv_pw',\n",
              " 'blocks.2.0.bn1.getattr',\n",
              " 'blocks.2.0.bn1.eq',\n",
              " 'blocks.2.0.bn1.getattr_1',\n",
              " 'blocks.2.0.bn1._assert',\n",
              " 'blocks.2.0.bn1.blocks_2_0_bn1_weight',\n",
              " 'blocks.2.0.bn1.blocks_2_0_bn1_bias',\n",
              " 'blocks.2.0.bn1.batch_norm',\n",
              " 'blocks.2.0.bn1.drop',\n",
              " 'blocks.2.0.bn1.act',\n",
              " 'blocks.2.0.conv_dw',\n",
              " 'blocks.2.0.bn2.getattr',\n",
              " 'blocks.2.0.bn2.eq',\n",
              " 'blocks.2.0.bn2.getattr_1',\n",
              " 'blocks.2.0.bn2._assert',\n",
              " 'blocks.2.0.bn2.blocks_2_0_bn2_weight',\n",
              " 'blocks.2.0.bn2.blocks_2_0_bn2_bias',\n",
              " 'blocks.2.0.bn2.batch_norm',\n",
              " 'blocks.2.0.bn2.drop',\n",
              " 'blocks.2.0.bn2.act',\n",
              " 'blocks.2.0.aa',\n",
              " 'blocks.2.0.se',\n",
              " 'blocks.2.0.conv_pwl',\n",
              " 'blocks.2.0.bn3.getattr',\n",
              " 'blocks.2.0.bn3.eq',\n",
              " 'blocks.2.0.bn3.getattr_1',\n",
              " 'blocks.2.0.bn3._assert',\n",
              " 'blocks.2.0.bn3.blocks_2_0_bn3_weight',\n",
              " 'blocks.2.0.bn3.blocks_2_0_bn3_bias',\n",
              " 'blocks.2.0.bn3.batch_norm',\n",
              " 'blocks.2.0.bn3.drop',\n",
              " 'blocks.2.0.bn3.act',\n",
              " 'blocks.2.1.conv_pw',\n",
              " 'blocks.2.1.bn1.getattr',\n",
              " 'blocks.2.1.bn1.eq',\n",
              " 'blocks.2.1.bn1.getattr_1',\n",
              " 'blocks.2.1.bn1._assert',\n",
              " 'blocks.2.1.bn1.blocks_2_1_bn1_weight',\n",
              " 'blocks.2.1.bn1.blocks_2_1_bn1_bias',\n",
              " 'blocks.2.1.bn1.batch_norm',\n",
              " 'blocks.2.1.bn1.drop',\n",
              " 'blocks.2.1.bn1.act',\n",
              " 'blocks.2.1.conv_dw',\n",
              " 'blocks.2.1.bn2.getattr',\n",
              " 'blocks.2.1.bn2.eq',\n",
              " 'blocks.2.1.bn2.getattr_1',\n",
              " 'blocks.2.1.bn2._assert',\n",
              " 'blocks.2.1.bn2.blocks_2_1_bn2_weight',\n",
              " 'blocks.2.1.bn2.blocks_2_1_bn2_bias',\n",
              " 'blocks.2.1.bn2.batch_norm',\n",
              " 'blocks.2.1.bn2.drop',\n",
              " 'blocks.2.1.bn2.act',\n",
              " 'blocks.2.1.aa',\n",
              " 'blocks.2.1.se',\n",
              " 'blocks.2.1.conv_pwl',\n",
              " 'blocks.2.1.bn3.getattr',\n",
              " 'blocks.2.1.bn3.eq',\n",
              " 'blocks.2.1.bn3.getattr_1',\n",
              " 'blocks.2.1.bn3._assert',\n",
              " 'blocks.2.1.bn3.blocks_2_1_bn3_weight',\n",
              " 'blocks.2.1.bn3.blocks_2_1_bn3_bias',\n",
              " 'blocks.2.1.bn3.batch_norm',\n",
              " 'blocks.2.1.bn3.drop',\n",
              " 'blocks.2.1.bn3.act',\n",
              " 'blocks.2.1.drop_path',\n",
              " 'blocks.2.1.add',\n",
              " 'blocks.3.0.conv_pw',\n",
              " 'blocks.3.0.bn1.getattr',\n",
              " 'blocks.3.0.bn1.eq',\n",
              " 'blocks.3.0.bn1.getattr_1',\n",
              " 'blocks.3.0.bn1._assert',\n",
              " 'blocks.3.0.bn1.blocks_3_0_bn1_weight',\n",
              " 'blocks.3.0.bn1.blocks_3_0_bn1_bias',\n",
              " 'blocks.3.0.bn1.batch_norm',\n",
              " 'blocks.3.0.bn1.drop',\n",
              " 'blocks.3.0.bn1.act',\n",
              " 'blocks.3.0.conv_dw',\n",
              " 'blocks.3.0.bn2.getattr',\n",
              " 'blocks.3.0.bn2.eq',\n",
              " 'blocks.3.0.bn2.getattr_1',\n",
              " 'blocks.3.0.bn2._assert',\n",
              " 'blocks.3.0.bn2.blocks_3_0_bn2_weight',\n",
              " 'blocks.3.0.bn2.blocks_3_0_bn2_bias',\n",
              " 'blocks.3.0.bn2.batch_norm',\n",
              " 'blocks.3.0.bn2.drop',\n",
              " 'blocks.3.0.bn2.act',\n",
              " 'blocks.3.0.aa',\n",
              " 'blocks.3.0.se',\n",
              " 'blocks.3.0.conv_pwl',\n",
              " 'blocks.3.0.bn3.getattr',\n",
              " 'blocks.3.0.bn3.eq',\n",
              " 'blocks.3.0.bn3.getattr_1',\n",
              " 'blocks.3.0.bn3._assert',\n",
              " 'blocks.3.0.bn3.blocks_3_0_bn3_weight',\n",
              " 'blocks.3.0.bn3.blocks_3_0_bn3_bias',\n",
              " 'blocks.3.0.bn3.batch_norm',\n",
              " 'blocks.3.0.bn3.drop',\n",
              " 'blocks.3.0.bn3.act',\n",
              " 'blocks.3.1.conv_pw',\n",
              " 'blocks.3.1.bn1.getattr',\n",
              " 'blocks.3.1.bn1.eq',\n",
              " 'blocks.3.1.bn1.getattr_1',\n",
              " 'blocks.3.1.bn1._assert',\n",
              " 'blocks.3.1.bn1.blocks_3_1_bn1_weight',\n",
              " 'blocks.3.1.bn1.blocks_3_1_bn1_bias',\n",
              " 'blocks.3.1.bn1.batch_norm',\n",
              " 'blocks.3.1.bn1.drop',\n",
              " 'blocks.3.1.bn1.act',\n",
              " 'blocks.3.1.conv_dw',\n",
              " 'blocks.3.1.bn2.getattr',\n",
              " 'blocks.3.1.bn2.eq',\n",
              " 'blocks.3.1.bn2.getattr_1',\n",
              " 'blocks.3.1.bn2._assert',\n",
              " 'blocks.3.1.bn2.blocks_3_1_bn2_weight',\n",
              " 'blocks.3.1.bn2.blocks_3_1_bn2_bias',\n",
              " 'blocks.3.1.bn2.batch_norm',\n",
              " 'blocks.3.1.bn2.drop',\n",
              " 'blocks.3.1.bn2.act',\n",
              " 'blocks.3.1.aa',\n",
              " 'blocks.3.1.se',\n",
              " 'blocks.3.1.conv_pwl',\n",
              " 'blocks.3.1.bn3.getattr',\n",
              " 'blocks.3.1.bn3.eq',\n",
              " 'blocks.3.1.bn3.getattr_1',\n",
              " 'blocks.3.1.bn3._assert',\n",
              " 'blocks.3.1.bn3.blocks_3_1_bn3_weight',\n",
              " 'blocks.3.1.bn3.blocks_3_1_bn3_bias',\n",
              " 'blocks.3.1.bn3.batch_norm',\n",
              " 'blocks.3.1.bn3.drop',\n",
              " 'blocks.3.1.bn3.act',\n",
              " 'blocks.3.1.drop_path',\n",
              " 'blocks.3.1.add',\n",
              " 'blocks.3.2.conv_pw',\n",
              " 'blocks.3.2.bn1.getattr',\n",
              " 'blocks.3.2.bn1.eq',\n",
              " 'blocks.3.2.bn1.getattr_1',\n",
              " 'blocks.3.2.bn1._assert',\n",
              " 'blocks.3.2.bn1.blocks_3_2_bn1_weight',\n",
              " 'blocks.3.2.bn1.blocks_3_2_bn1_bias',\n",
              " 'blocks.3.2.bn1.batch_norm',\n",
              " 'blocks.3.2.bn1.drop',\n",
              " 'blocks.3.2.bn1.act',\n",
              " 'blocks.3.2.conv_dw',\n",
              " 'blocks.3.2.bn2.getattr',\n",
              " 'blocks.3.2.bn2.eq',\n",
              " 'blocks.3.2.bn2.getattr_1',\n",
              " 'blocks.3.2.bn2._assert',\n",
              " 'blocks.3.2.bn2.blocks_3_2_bn2_weight',\n",
              " 'blocks.3.2.bn2.blocks_3_2_bn2_bias',\n",
              " 'blocks.3.2.bn2.batch_norm',\n",
              " 'blocks.3.2.bn2.drop',\n",
              " 'blocks.3.2.bn2.act',\n",
              " 'blocks.3.2.aa',\n",
              " 'blocks.3.2.se',\n",
              " 'blocks.3.2.conv_pwl',\n",
              " 'blocks.3.2.bn3.getattr',\n",
              " 'blocks.3.2.bn3.eq',\n",
              " 'blocks.3.2.bn3.getattr_1',\n",
              " 'blocks.3.2.bn3._assert',\n",
              " 'blocks.3.2.bn3.blocks_3_2_bn3_weight',\n",
              " 'blocks.3.2.bn3.blocks_3_2_bn3_bias',\n",
              " 'blocks.3.2.bn3.batch_norm',\n",
              " 'blocks.3.2.bn3.drop',\n",
              " 'blocks.3.2.bn3.act',\n",
              " 'blocks.3.2.drop_path',\n",
              " 'blocks.3.2.add',\n",
              " 'blocks.4.0.conv_pw',\n",
              " 'blocks.4.0.bn1.getattr',\n",
              " 'blocks.4.0.bn1.eq',\n",
              " 'blocks.4.0.bn1.getattr_1',\n",
              " 'blocks.4.0.bn1._assert',\n",
              " 'blocks.4.0.bn1.blocks_4_0_bn1_weight',\n",
              " 'blocks.4.0.bn1.blocks_4_0_bn1_bias',\n",
              " 'blocks.4.0.bn1.batch_norm',\n",
              " 'blocks.4.0.bn1.drop',\n",
              " 'blocks.4.0.bn1.act',\n",
              " 'blocks.4.0.conv_dw',\n",
              " 'blocks.4.0.bn2.getattr',\n",
              " 'blocks.4.0.bn2.eq',\n",
              " 'blocks.4.0.bn2.getattr_1',\n",
              " 'blocks.4.0.bn2._assert',\n",
              " 'blocks.4.0.bn2.blocks_4_0_bn2_weight',\n",
              " 'blocks.4.0.bn2.blocks_4_0_bn2_bias',\n",
              " 'blocks.4.0.bn2.batch_norm',\n",
              " 'blocks.4.0.bn2.drop',\n",
              " 'blocks.4.0.bn2.act',\n",
              " 'blocks.4.0.aa',\n",
              " 'blocks.4.0.se',\n",
              " 'blocks.4.0.conv_pwl',\n",
              " 'blocks.4.0.bn3.getattr',\n",
              " 'blocks.4.0.bn3.eq',\n",
              " 'blocks.4.0.bn3.getattr_1',\n",
              " 'blocks.4.0.bn3._assert',\n",
              " 'blocks.4.0.bn3.blocks_4_0_bn3_weight',\n",
              " 'blocks.4.0.bn3.blocks_4_0_bn3_bias',\n",
              " 'blocks.4.0.bn3.batch_norm',\n",
              " 'blocks.4.0.bn3.drop',\n",
              " 'blocks.4.0.bn3.act',\n",
              " 'blocks.4.1.conv_pw',\n",
              " 'blocks.4.1.bn1.getattr',\n",
              " 'blocks.4.1.bn1.eq',\n",
              " 'blocks.4.1.bn1.getattr_1',\n",
              " 'blocks.4.1.bn1._assert',\n",
              " 'blocks.4.1.bn1.blocks_4_1_bn1_weight',\n",
              " 'blocks.4.1.bn1.blocks_4_1_bn1_bias',\n",
              " 'blocks.4.1.bn1.batch_norm',\n",
              " 'blocks.4.1.bn1.drop',\n",
              " 'blocks.4.1.bn1.act',\n",
              " 'blocks.4.1.conv_dw',\n",
              " 'blocks.4.1.bn2.getattr',\n",
              " 'blocks.4.1.bn2.eq',\n",
              " 'blocks.4.1.bn2.getattr_1',\n",
              " 'blocks.4.1.bn2._assert',\n",
              " 'blocks.4.1.bn2.blocks_4_1_bn2_weight',\n",
              " 'blocks.4.1.bn2.blocks_4_1_bn2_bias',\n",
              " 'blocks.4.1.bn2.batch_norm',\n",
              " 'blocks.4.1.bn2.drop',\n",
              " 'blocks.4.1.bn2.act',\n",
              " 'blocks.4.1.aa',\n",
              " 'blocks.4.1.se',\n",
              " 'blocks.4.1.conv_pwl',\n",
              " 'blocks.4.1.bn3.getattr',\n",
              " 'blocks.4.1.bn3.eq',\n",
              " 'blocks.4.1.bn3.getattr_1',\n",
              " 'blocks.4.1.bn3._assert',\n",
              " 'blocks.4.1.bn3.blocks_4_1_bn3_weight',\n",
              " 'blocks.4.1.bn3.blocks_4_1_bn3_bias',\n",
              " 'blocks.4.1.bn3.batch_norm',\n",
              " 'blocks.4.1.bn3.drop',\n",
              " 'blocks.4.1.bn3.act',\n",
              " 'blocks.4.1.drop_path',\n",
              " 'blocks.4.1.add',\n",
              " 'blocks.4.2.conv_pw',\n",
              " 'blocks.4.2.bn1.getattr',\n",
              " 'blocks.4.2.bn1.eq',\n",
              " 'blocks.4.2.bn1.getattr_1',\n",
              " 'blocks.4.2.bn1._assert',\n",
              " 'blocks.4.2.bn1.blocks_4_2_bn1_weight',\n",
              " 'blocks.4.2.bn1.blocks_4_2_bn1_bias',\n",
              " 'blocks.4.2.bn1.batch_norm',\n",
              " 'blocks.4.2.bn1.drop',\n",
              " 'blocks.4.2.bn1.act',\n",
              " 'blocks.4.2.conv_dw',\n",
              " 'blocks.4.2.bn2.getattr',\n",
              " 'blocks.4.2.bn2.eq',\n",
              " 'blocks.4.2.bn2.getattr_1',\n",
              " 'blocks.4.2.bn2._assert',\n",
              " 'blocks.4.2.bn2.blocks_4_2_bn2_weight',\n",
              " 'blocks.4.2.bn2.blocks_4_2_bn2_bias',\n",
              " 'blocks.4.2.bn2.batch_norm',\n",
              " 'blocks.4.2.bn2.drop',\n",
              " 'blocks.4.2.bn2.act',\n",
              " 'blocks.4.2.aa',\n",
              " 'blocks.4.2.se',\n",
              " 'blocks.4.2.conv_pwl',\n",
              " 'blocks.4.2.bn3.getattr',\n",
              " 'blocks.4.2.bn3.eq',\n",
              " 'blocks.4.2.bn3.getattr_1',\n",
              " 'blocks.4.2.bn3._assert',\n",
              " 'blocks.4.2.bn3.blocks_4_2_bn3_weight',\n",
              " 'blocks.4.2.bn3.blocks_4_2_bn3_bias',\n",
              " 'blocks.4.2.bn3.batch_norm',\n",
              " 'blocks.4.2.bn3.drop',\n",
              " 'blocks.4.2.bn3.act',\n",
              " 'blocks.4.2.drop_path',\n",
              " 'blocks.4.2.add',\n",
              " 'blocks.5.0.conv_pw',\n",
              " 'blocks.5.0.bn1.getattr',\n",
              " 'blocks.5.0.bn1.eq',\n",
              " 'blocks.5.0.bn1.getattr_1',\n",
              " 'blocks.5.0.bn1._assert',\n",
              " 'blocks.5.0.bn1.blocks_5_0_bn1_weight',\n",
              " 'blocks.5.0.bn1.blocks_5_0_bn1_bias',\n",
              " 'blocks.5.0.bn1.batch_norm',\n",
              " 'blocks.5.0.bn1.drop',\n",
              " 'blocks.5.0.bn1.act',\n",
              " 'blocks.5.0.conv_dw',\n",
              " 'blocks.5.0.bn2.getattr',\n",
              " 'blocks.5.0.bn2.eq',\n",
              " 'blocks.5.0.bn2.getattr_1',\n",
              " 'blocks.5.0.bn2._assert',\n",
              " 'blocks.5.0.bn2.blocks_5_0_bn2_weight',\n",
              " 'blocks.5.0.bn2.blocks_5_0_bn2_bias',\n",
              " 'blocks.5.0.bn2.batch_norm',\n",
              " 'blocks.5.0.bn2.drop',\n",
              " 'blocks.5.0.bn2.act',\n",
              " 'blocks.5.0.aa',\n",
              " 'blocks.5.0.se',\n",
              " 'blocks.5.0.conv_pwl',\n",
              " 'blocks.5.0.bn3.getattr',\n",
              " 'blocks.5.0.bn3.eq',\n",
              " 'blocks.5.0.bn3.getattr_1',\n",
              " 'blocks.5.0.bn3._assert',\n",
              " 'blocks.5.0.bn3.blocks_5_0_bn3_weight',\n",
              " 'blocks.5.0.bn3.blocks_5_0_bn3_bias',\n",
              " 'blocks.5.0.bn3.batch_norm',\n",
              " 'blocks.5.0.bn3.drop',\n",
              " 'blocks.5.0.bn3.act',\n",
              " 'blocks.5.1.conv_pw',\n",
              " 'blocks.5.1.bn1.getattr',\n",
              " 'blocks.5.1.bn1.eq',\n",
              " 'blocks.5.1.bn1.getattr_1',\n",
              " 'blocks.5.1.bn1._assert',\n",
              " 'blocks.5.1.bn1.blocks_5_1_bn1_weight',\n",
              " 'blocks.5.1.bn1.blocks_5_1_bn1_bias',\n",
              " 'blocks.5.1.bn1.batch_norm',\n",
              " 'blocks.5.1.bn1.drop',\n",
              " 'blocks.5.1.bn1.act',\n",
              " 'blocks.5.1.conv_dw',\n",
              " 'blocks.5.1.bn2.getattr',\n",
              " 'blocks.5.1.bn2.eq',\n",
              " 'blocks.5.1.bn2.getattr_1',\n",
              " 'blocks.5.1.bn2._assert',\n",
              " 'blocks.5.1.bn2.blocks_5_1_bn2_weight',\n",
              " 'blocks.5.1.bn2.blocks_5_1_bn2_bias',\n",
              " 'blocks.5.1.bn2.batch_norm',\n",
              " 'blocks.5.1.bn2.drop',\n",
              " 'blocks.5.1.bn2.act',\n",
              " 'blocks.5.1.aa',\n",
              " 'blocks.5.1.se',\n",
              " 'blocks.5.1.conv_pwl',\n",
              " 'blocks.5.1.bn3.getattr',\n",
              " 'blocks.5.1.bn3.eq',\n",
              " 'blocks.5.1.bn3.getattr_1',\n",
              " 'blocks.5.1.bn3._assert',\n",
              " 'blocks.5.1.bn3.blocks_5_1_bn3_weight',\n",
              " 'blocks.5.1.bn3.blocks_5_1_bn3_bias',\n",
              " 'blocks.5.1.bn3.batch_norm',\n",
              " 'blocks.5.1.bn3.drop',\n",
              " 'blocks.5.1.bn3.act',\n",
              " 'blocks.5.1.drop_path',\n",
              " 'blocks.5.1.add',\n",
              " 'blocks.5.2.conv_pw',\n",
              " 'blocks.5.2.bn1.getattr',\n",
              " 'blocks.5.2.bn1.eq',\n",
              " 'blocks.5.2.bn1.getattr_1',\n",
              " 'blocks.5.2.bn1._assert',\n",
              " 'blocks.5.2.bn1.blocks_5_2_bn1_weight',\n",
              " 'blocks.5.2.bn1.blocks_5_2_bn1_bias',\n",
              " 'blocks.5.2.bn1.batch_norm',\n",
              " 'blocks.5.2.bn1.drop',\n",
              " 'blocks.5.2.bn1.act',\n",
              " 'blocks.5.2.conv_dw',\n",
              " 'blocks.5.2.bn2.getattr',\n",
              " 'blocks.5.2.bn2.eq',\n",
              " 'blocks.5.2.bn2.getattr_1',\n",
              " 'blocks.5.2.bn2._assert',\n",
              " 'blocks.5.2.bn2.blocks_5_2_bn2_weight',\n",
              " 'blocks.5.2.bn2.blocks_5_2_bn2_bias',\n",
              " 'blocks.5.2.bn2.batch_norm',\n",
              " 'blocks.5.2.bn2.drop',\n",
              " 'blocks.5.2.bn2.act',\n",
              " 'blocks.5.2.aa',\n",
              " 'blocks.5.2.se',\n",
              " 'blocks.5.2.conv_pwl',\n",
              " 'blocks.5.2.bn3.getattr',\n",
              " 'blocks.5.2.bn3.eq',\n",
              " 'blocks.5.2.bn3.getattr_1',\n",
              " 'blocks.5.2.bn3._assert',\n",
              " 'blocks.5.2.bn3.blocks_5_2_bn3_weight',\n",
              " 'blocks.5.2.bn3.blocks_5_2_bn3_bias',\n",
              " 'blocks.5.2.bn3.batch_norm',\n",
              " 'blocks.5.2.bn3.drop',\n",
              " 'blocks.5.2.bn3.act',\n",
              " 'blocks.5.2.drop_path',\n",
              " 'blocks.5.2.add',\n",
              " 'blocks.5.3.conv_pw',\n",
              " 'blocks.5.3.bn1.getattr',\n",
              " 'blocks.5.3.bn1.eq',\n",
              " 'blocks.5.3.bn1.getattr_1',\n",
              " 'blocks.5.3.bn1._assert',\n",
              " 'blocks.5.3.bn1.blocks_5_3_bn1_weight',\n",
              " 'blocks.5.3.bn1.blocks_5_3_bn1_bias',\n",
              " 'blocks.5.3.bn1.batch_norm',\n",
              " 'blocks.5.3.bn1.drop',\n",
              " 'blocks.5.3.bn1.act',\n",
              " 'blocks.5.3.conv_dw',\n",
              " 'blocks.5.3.bn2.getattr',\n",
              " 'blocks.5.3.bn2.eq',\n",
              " 'blocks.5.3.bn2.getattr_1',\n",
              " 'blocks.5.3.bn2._assert',\n",
              " 'blocks.5.3.bn2.blocks_5_3_bn2_weight',\n",
              " 'blocks.5.3.bn2.blocks_5_3_bn2_bias',\n",
              " 'blocks.5.3.bn2.batch_norm',\n",
              " 'blocks.5.3.bn2.drop',\n",
              " 'blocks.5.3.bn2.act',\n",
              " 'blocks.5.3.aa',\n",
              " 'blocks.5.3.se',\n",
              " 'blocks.5.3.conv_pwl',\n",
              " 'blocks.5.3.bn3.getattr',\n",
              " 'blocks.5.3.bn3.eq',\n",
              " 'blocks.5.3.bn3.getattr_1',\n",
              " 'blocks.5.3.bn3._assert',\n",
              " 'blocks.5.3.bn3.blocks_5_3_bn3_weight',\n",
              " 'blocks.5.3.bn3.blocks_5_3_bn3_bias',\n",
              " 'blocks.5.3.bn3.batch_norm',\n",
              " 'blocks.5.3.bn3.drop',\n",
              " 'blocks.5.3.bn3.act',\n",
              " 'blocks.5.3.drop_path',\n",
              " 'blocks.5.3.add',\n",
              " 'blocks.6.0.conv_pw',\n",
              " 'blocks.6.0.bn1.getattr',\n",
              " 'blocks.6.0.bn1.eq',\n",
              " 'blocks.6.0.bn1.getattr_1',\n",
              " 'blocks.6.0.bn1._assert',\n",
              " 'blocks.6.0.bn1.blocks_6_0_bn1_weight',\n",
              " 'blocks.6.0.bn1.blocks_6_0_bn1_bias',\n",
              " 'blocks.6.0.bn1.batch_norm',\n",
              " 'blocks.6.0.bn1.drop',\n",
              " 'blocks.6.0.bn1.act',\n",
              " 'blocks.6.0.conv_dw',\n",
              " 'blocks.6.0.bn2.getattr',\n",
              " 'blocks.6.0.bn2.eq',\n",
              " 'blocks.6.0.bn2.getattr_1',\n",
              " 'blocks.6.0.bn2._assert',\n",
              " 'blocks.6.0.bn2.blocks_6_0_bn2_weight',\n",
              " 'blocks.6.0.bn2.blocks_6_0_bn2_bias',\n",
              " 'blocks.6.0.bn2.batch_norm',\n",
              " 'blocks.6.0.bn2.drop',\n",
              " 'blocks.6.0.bn2.act',\n",
              " 'blocks.6.0.aa',\n",
              " 'blocks.6.0.se',\n",
              " 'blocks.6.0.conv_pwl',\n",
              " 'blocks.6.0.bn3.getattr',\n",
              " 'blocks.6.0.bn3.eq',\n",
              " 'blocks.6.0.bn3.getattr_1',\n",
              " 'blocks.6.0.bn3._assert',\n",
              " 'blocks.6.0.bn3.blocks_6_0_bn3_weight',\n",
              " 'blocks.6.0.bn3.blocks_6_0_bn3_bias',\n",
              " 'blocks.6.0.bn3.batch_norm',\n",
              " 'blocks.6.0.bn3.drop',\n",
              " 'blocks.6.0.bn3.act',\n",
              " 'conv_head',\n",
              " 'bn2.getattr',\n",
              " 'bn2.eq',\n",
              " 'bn2.getattr_1',\n",
              " 'bn2._assert',\n",
              " 'bn2.bn2_weight',\n",
              " 'bn2.bn2_bias',\n",
              " 'bn2.batch_norm',\n",
              " 'bn2.drop',\n",
              " 'bn2.act',\n",
              " 'global_pool.pool',\n",
              " 'global_pool.flatten',\n",
              " 'classifier.0',\n",
              " 'classifier.1',\n",
              " 'classifier.2',\n",
              " 'classifier.3',\n",
              " 'classifier.4']"
            ]
          },
          "metadata": {},
          "execution_count": 17
        }
      ],
      "source": [
        "from torchvision.models.feature_extraction import get_graph_node_names\n",
        "\n",
        "get_graph_node_names(pretrained_model)[0]"
      ]
    },
    {
      "cell_type": "markdown",
      "metadata": {
        "id": "oOUCW4WMm11H"
      },
      "source": [
        "Для демонстрации возьмем `output` с первого слоя в нашем классификационном блоке:"
      ]
    },
    {
      "cell_type": "code",
      "execution_count": null,
      "metadata": {
        "id": "HfH3zJCYm11H",
        "colab": {
          "base_uri": "https://localhost:8080/"
        },
        "outputId": "24f99e99-4e9d-4131-db9b-ea3de0c5e540"
      },
      "outputs": [
        {
          "output_type": "execute_result",
          "data": {
            "text/plain": [
              "EfficientNet(\n",
              "  (conv_stem): Conv2d(3, 32, kernel_size=(3, 3), stride=(2, 2), padding=(1, 1), bias=False)\n",
              "  (bn1): Module(\n",
              "    (drop): Identity()\n",
              "    (act): ReLU6(inplace=True)\n",
              "  )\n",
              "  (blocks): Module(\n",
              "    (0): Module(\n",
              "      (0): Module(\n",
              "        (conv_dw): Conv2d(32, 32, kernel_size=(3, 3), stride=(1, 1), padding=(1, 1), groups=32, bias=False)\n",
              "        (bn1): Module(\n",
              "          (drop): Identity()\n",
              "          (act): ReLU6(inplace=True)\n",
              "        )\n",
              "        (aa): Identity()\n",
              "        (se): Identity()\n",
              "        (conv_pw): Conv2d(32, 16, kernel_size=(1, 1), stride=(1, 1), bias=False)\n",
              "        (bn2): Module(\n",
              "          (drop): Identity()\n",
              "          (act): Identity()\n",
              "        )\n",
              "      )\n",
              "    )\n",
              "    (1): Module(\n",
              "      (0): Module(\n",
              "        (conv_pw): Conv2d(16, 96, kernel_size=(1, 1), stride=(1, 1), bias=False)\n",
              "        (bn1): Module(\n",
              "          (drop): Identity()\n",
              "          (act): ReLU6(inplace=True)\n",
              "        )\n",
              "        (conv_dw): Conv2d(96, 96, kernel_size=(3, 3), stride=(2, 2), padding=(1, 1), groups=96, bias=False)\n",
              "        (bn2): Module(\n",
              "          (drop): Identity()\n",
              "          (act): ReLU6(inplace=True)\n",
              "        )\n",
              "        (aa): Identity()\n",
              "        (se): Identity()\n",
              "        (conv_pwl): Conv2d(96, 24, kernel_size=(1, 1), stride=(1, 1), bias=False)\n",
              "        (bn3): Module(\n",
              "          (drop): Identity()\n",
              "          (act): Identity()\n",
              "        )\n",
              "      )\n",
              "      (1): Module(\n",
              "        (conv_pw): Conv2d(24, 144, kernel_size=(1, 1), stride=(1, 1), bias=False)\n",
              "        (bn1): Module(\n",
              "          (drop): Identity()\n",
              "          (act): ReLU6(inplace=True)\n",
              "        )\n",
              "        (conv_dw): Conv2d(144, 144, kernel_size=(3, 3), stride=(1, 1), padding=(1, 1), groups=144, bias=False)\n",
              "        (bn2): Module(\n",
              "          (drop): Identity()\n",
              "          (act): ReLU6(inplace=True)\n",
              "        )\n",
              "        (aa): Identity()\n",
              "        (se): Identity()\n",
              "        (conv_pwl): Conv2d(144, 24, kernel_size=(1, 1), stride=(1, 1), bias=False)\n",
              "        (bn3): Module(\n",
              "          (drop): Identity()\n",
              "          (act): Identity()\n",
              "        )\n",
              "        (drop_path): Identity()\n",
              "      )\n",
              "    )\n",
              "    (2): Module(\n",
              "      (0): Module(\n",
              "        (conv_pw): Conv2d(24, 144, kernel_size=(1, 1), stride=(1, 1), bias=False)\n",
              "        (bn1): Module(\n",
              "          (drop): Identity()\n",
              "          (act): ReLU6(inplace=True)\n",
              "        )\n",
              "        (conv_dw): Conv2d(144, 144, kernel_size=(5, 5), stride=(2, 2), padding=(2, 2), groups=144, bias=False)\n",
              "        (bn2): Module(\n",
              "          (drop): Identity()\n",
              "          (act): ReLU6(inplace=True)\n",
              "        )\n",
              "        (aa): Identity()\n",
              "        (se): Identity()\n",
              "        (conv_pwl): Conv2d(144, 40, kernel_size=(1, 1), stride=(1, 1), bias=False)\n",
              "        (bn3): Module(\n",
              "          (drop): Identity()\n",
              "          (act): Identity()\n",
              "        )\n",
              "      )\n",
              "      (1): Module(\n",
              "        (conv_pw): Conv2d(40, 240, kernel_size=(1, 1), stride=(1, 1), bias=False)\n",
              "        (bn1): Module(\n",
              "          (drop): Identity()\n",
              "          (act): ReLU6(inplace=True)\n",
              "        )\n",
              "        (conv_dw): Conv2d(240, 240, kernel_size=(5, 5), stride=(1, 1), padding=(2, 2), groups=240, bias=False)\n",
              "        (bn2): Module(\n",
              "          (drop): Identity()\n",
              "          (act): ReLU6(inplace=True)\n",
              "        )\n",
              "        (aa): Identity()\n",
              "        (se): Identity()\n",
              "        (conv_pwl): Conv2d(240, 40, kernel_size=(1, 1), stride=(1, 1), bias=False)\n",
              "        (bn3): Module(\n",
              "          (drop): Identity()\n",
              "          (act): Identity()\n",
              "        )\n",
              "        (drop_path): Identity()\n",
              "      )\n",
              "    )\n",
              "    (3): Module(\n",
              "      (0): Module(\n",
              "        (conv_pw): Conv2d(40, 240, kernel_size=(1, 1), stride=(1, 1), bias=False)\n",
              "        (bn1): Module(\n",
              "          (drop): Identity()\n",
              "          (act): ReLU6(inplace=True)\n",
              "        )\n",
              "        (conv_dw): Conv2d(240, 240, kernel_size=(3, 3), stride=(2, 2), padding=(1, 1), groups=240, bias=False)\n",
              "        (bn2): Module(\n",
              "          (drop): Identity()\n",
              "          (act): ReLU6(inplace=True)\n",
              "        )\n",
              "        (aa): Identity()\n",
              "        (se): Identity()\n",
              "        (conv_pwl): Conv2d(240, 80, kernel_size=(1, 1), stride=(1, 1), bias=False)\n",
              "        (bn3): Module(\n",
              "          (drop): Identity()\n",
              "          (act): Identity()\n",
              "        )\n",
              "      )\n",
              "      (1): Module(\n",
              "        (conv_pw): Conv2d(80, 480, kernel_size=(1, 1), stride=(1, 1), bias=False)\n",
              "        (bn1): Module(\n",
              "          (drop): Identity()\n",
              "          (act): ReLU6(inplace=True)\n",
              "        )\n",
              "        (conv_dw): Conv2d(480, 480, kernel_size=(3, 3), stride=(1, 1), padding=(1, 1), groups=480, bias=False)\n",
              "        (bn2): Module(\n",
              "          (drop): Identity()\n",
              "          (act): ReLU6(inplace=True)\n",
              "        )\n",
              "        (aa): Identity()\n",
              "        (se): Identity()\n",
              "        (conv_pwl): Conv2d(480, 80, kernel_size=(1, 1), stride=(1, 1), bias=False)\n",
              "        (bn3): Module(\n",
              "          (drop): Identity()\n",
              "          (act): Identity()\n",
              "        )\n",
              "        (drop_path): Identity()\n",
              "      )\n",
              "      (2): Module(\n",
              "        (conv_pw): Conv2d(80, 480, kernel_size=(1, 1), stride=(1, 1), bias=False)\n",
              "        (bn1): Module(\n",
              "          (drop): Identity()\n",
              "          (act): ReLU6(inplace=True)\n",
              "        )\n",
              "        (conv_dw): Conv2d(480, 480, kernel_size=(3, 3), stride=(1, 1), padding=(1, 1), groups=480, bias=False)\n",
              "        (bn2): Module(\n",
              "          (drop): Identity()\n",
              "          (act): ReLU6(inplace=True)\n",
              "        )\n",
              "        (aa): Identity()\n",
              "        (se): Identity()\n",
              "        (conv_pwl): Conv2d(480, 80, kernel_size=(1, 1), stride=(1, 1), bias=False)\n",
              "        (bn3): Module(\n",
              "          (drop): Identity()\n",
              "          (act): Identity()\n",
              "        )\n",
              "        (drop_path): Identity()\n",
              "      )\n",
              "    )\n",
              "    (4): Module(\n",
              "      (0): Module(\n",
              "        (conv_pw): Conv2d(80, 480, kernel_size=(1, 1), stride=(1, 1), bias=False)\n",
              "        (bn1): Module(\n",
              "          (drop): Identity()\n",
              "          (act): ReLU6(inplace=True)\n",
              "        )\n",
              "        (conv_dw): Conv2d(480, 480, kernel_size=(5, 5), stride=(1, 1), padding=(2, 2), groups=480, bias=False)\n",
              "        (bn2): Module(\n",
              "          (drop): Identity()\n",
              "          (act): ReLU6(inplace=True)\n",
              "        )\n",
              "        (aa): Identity()\n",
              "        (se): Identity()\n",
              "        (conv_pwl): Conv2d(480, 112, kernel_size=(1, 1), stride=(1, 1), bias=False)\n",
              "        (bn3): Module(\n",
              "          (drop): Identity()\n",
              "          (act): Identity()\n",
              "        )\n",
              "      )\n",
              "      (1): Module(\n",
              "        (conv_pw): Conv2d(112, 672, kernel_size=(1, 1), stride=(1, 1), bias=False)\n",
              "        (bn1): Module(\n",
              "          (drop): Identity()\n",
              "          (act): ReLU6(inplace=True)\n",
              "        )\n",
              "        (conv_dw): Conv2d(672, 672, kernel_size=(5, 5), stride=(1, 1), padding=(2, 2), groups=672, bias=False)\n",
              "        (bn2): Module(\n",
              "          (drop): Identity()\n",
              "          (act): ReLU6(inplace=True)\n",
              "        )\n",
              "        (aa): Identity()\n",
              "        (se): Identity()\n",
              "        (conv_pwl): Conv2d(672, 112, kernel_size=(1, 1), stride=(1, 1), bias=False)\n",
              "        (bn3): Module(\n",
              "          (drop): Identity()\n",
              "          (act): Identity()\n",
              "        )\n",
              "        (drop_path): Identity()\n",
              "      )\n",
              "      (2): Module(\n",
              "        (conv_pw): Conv2d(112, 672, kernel_size=(1, 1), stride=(1, 1), bias=False)\n",
              "        (bn1): Module(\n",
              "          (drop): Identity()\n",
              "          (act): ReLU6(inplace=True)\n",
              "        )\n",
              "        (conv_dw): Conv2d(672, 672, kernel_size=(5, 5), stride=(1, 1), padding=(2, 2), groups=672, bias=False)\n",
              "        (bn2): Module(\n",
              "          (drop): Identity()\n",
              "          (act): ReLU6(inplace=True)\n",
              "        )\n",
              "        (aa): Identity()\n",
              "        (se): Identity()\n",
              "        (conv_pwl): Conv2d(672, 112, kernel_size=(1, 1), stride=(1, 1), bias=False)\n",
              "        (bn3): Module(\n",
              "          (drop): Identity()\n",
              "          (act): Identity()\n",
              "        )\n",
              "        (drop_path): Identity()\n",
              "      )\n",
              "    )\n",
              "    (5): Module(\n",
              "      (0): Module(\n",
              "        (conv_pw): Conv2d(112, 672, kernel_size=(1, 1), stride=(1, 1), bias=False)\n",
              "        (bn1): Module(\n",
              "          (drop): Identity()\n",
              "          (act): ReLU6(inplace=True)\n",
              "        )\n",
              "        (conv_dw): Conv2d(672, 672, kernel_size=(5, 5), stride=(2, 2), padding=(2, 2), groups=672, bias=False)\n",
              "        (bn2): Module(\n",
              "          (drop): Identity()\n",
              "          (act): ReLU6(inplace=True)\n",
              "        )\n",
              "        (aa): Identity()\n",
              "        (se): Identity()\n",
              "        (conv_pwl): Conv2d(672, 192, kernel_size=(1, 1), stride=(1, 1), bias=False)\n",
              "        (bn3): Module(\n",
              "          (drop): Identity()\n",
              "          (act): Identity()\n",
              "        )\n",
              "      )\n",
              "      (1): Module(\n",
              "        (conv_pw): Conv2d(192, 1152, kernel_size=(1, 1), stride=(1, 1), bias=False)\n",
              "        (bn1): Module(\n",
              "          (drop): Identity()\n",
              "          (act): ReLU6(inplace=True)\n",
              "        )\n",
              "        (conv_dw): Conv2d(1152, 1152, kernel_size=(5, 5), stride=(1, 1), padding=(2, 2), groups=1152, bias=False)\n",
              "        (bn2): Module(\n",
              "          (drop): Identity()\n",
              "          (act): ReLU6(inplace=True)\n",
              "        )\n",
              "        (aa): Identity()\n",
              "        (se): Identity()\n",
              "        (conv_pwl): Conv2d(1152, 192, kernel_size=(1, 1), stride=(1, 1), bias=False)\n",
              "        (bn3): Module(\n",
              "          (drop): Identity()\n",
              "          (act): Identity()\n",
              "        )\n",
              "        (drop_path): Identity()\n",
              "      )\n",
              "      (2): Module(\n",
              "        (conv_pw): Conv2d(192, 1152, kernel_size=(1, 1), stride=(1, 1), bias=False)\n",
              "        (bn1): Module(\n",
              "          (drop): Identity()\n",
              "          (act): ReLU6(inplace=True)\n",
              "        )\n",
              "        (conv_dw): Conv2d(1152, 1152, kernel_size=(5, 5), stride=(1, 1), padding=(2, 2), groups=1152, bias=False)\n",
              "        (bn2): Module(\n",
              "          (drop): Identity()\n",
              "          (act): ReLU6(inplace=True)\n",
              "        )\n",
              "        (aa): Identity()\n",
              "        (se): Identity()\n",
              "        (conv_pwl): Conv2d(1152, 192, kernel_size=(1, 1), stride=(1, 1), bias=False)\n",
              "        (bn3): Module(\n",
              "          (drop): Identity()\n",
              "          (act): Identity()\n",
              "        )\n",
              "        (drop_path): Identity()\n",
              "      )\n",
              "      (3): Module(\n",
              "        (conv_pw): Conv2d(192, 1152, kernel_size=(1, 1), stride=(1, 1), bias=False)\n",
              "        (bn1): Module(\n",
              "          (drop): Identity()\n",
              "          (act): ReLU6(inplace=True)\n",
              "        )\n",
              "        (conv_dw): Conv2d(1152, 1152, kernel_size=(5, 5), stride=(1, 1), padding=(2, 2), groups=1152, bias=False)\n",
              "        (bn2): Module(\n",
              "          (drop): Identity()\n",
              "          (act): ReLU6(inplace=True)\n",
              "        )\n",
              "        (aa): Identity()\n",
              "        (se): Identity()\n",
              "        (conv_pwl): Conv2d(1152, 192, kernel_size=(1, 1), stride=(1, 1), bias=False)\n",
              "        (bn3): Module(\n",
              "          (drop): Identity()\n",
              "          (act): Identity()\n",
              "        )\n",
              "        (drop_path): Identity()\n",
              "      )\n",
              "    )\n",
              "    (6): Module(\n",
              "      (0): Module(\n",
              "        (conv_pw): Conv2d(192, 1152, kernel_size=(1, 1), stride=(1, 1), bias=False)\n",
              "        (bn1): Module(\n",
              "          (drop): Identity()\n",
              "          (act): ReLU6(inplace=True)\n",
              "        )\n",
              "        (conv_dw): Conv2d(1152, 1152, kernel_size=(3, 3), stride=(1, 1), padding=(1, 1), groups=1152, bias=False)\n",
              "        (bn2): Module(\n",
              "          (drop): Identity()\n",
              "          (act): ReLU6(inplace=True)\n",
              "        )\n",
              "        (aa): Identity()\n",
              "        (se): Identity()\n",
              "        (conv_pwl): Conv2d(1152, 320, kernel_size=(1, 1), stride=(1, 1), bias=False)\n",
              "        (bn3): Module(\n",
              "          (drop): Identity()\n",
              "          (act): Identity()\n",
              "        )\n",
              "      )\n",
              "    )\n",
              "  )\n",
              "  (conv_head): Conv2d(320, 1280, kernel_size=(1, 1), stride=(1, 1), bias=False)\n",
              "  (bn2): Module(\n",
              "    (drop): Identity()\n",
              "    (act): ReLU6(inplace=True)\n",
              "  )\n",
              "  (global_pool): Module(\n",
              "    (pool): AdaptiveAvgPool2d(output_size=1)\n",
              "    (flatten): Flatten(start_dim=1, end_dim=-1)\n",
              "  )\n",
              "  (classifier): Module(\n",
              "    (0): Linear(in_features=1280, out_features=512, bias=False)\n",
              "  )\n",
              ")"
            ]
          },
          "metadata": {},
          "execution_count": 18
        }
      ],
      "source": [
        "from torchvision.models.feature_extraction import create_feature_extractor\n",
        "\n",
        "features = {\"classifier.0\": \"out\"}\n",
        "custom_fe = create_feature_extractor(pretrained_model, return_nodes=features)\n",
        "custom_fe"
      ]
    },
    {
      "cell_type": "code",
      "execution_count": null,
      "metadata": {
        "id": "TTWHLanMm11H",
        "colab": {
          "base_uri": "https://localhost:8080/"
        },
        "outputId": "6b1b5f93-56e6-4ff4-c898-2fa5e2641254"
      },
      "outputs": [
        {
          "output_type": "execute_result",
          "data": {
            "text/plain": [
              "torch.Size([1, 512])"
            ]
          },
          "metadata": {},
          "execution_count": 19
        }
      ],
      "source": [
        "x = torch.rand(1, 3, 224, 224)\n",
        "custom_fe(x)[\"out\"].shape"
      ]
    },
    {
      "cell_type": "markdown",
      "metadata": {
        "id": "jsJzEfuum11H"
      },
      "source": [
        "Другой, более верхнеуровневый способ — это использовать модель в режиме `features_only`. Загрузим модель:\n",
        "\n"
      ]
    },
    {
      "cell_type": "code",
      "execution_count": null,
      "metadata": {
        "id": "ueGyNmc_m11H"
      },
      "outputs": [],
      "source": [
        "fe_model = timm.create_model(model_name, pretrained=True, features_only=True)\n",
        "clear_output()"
      ]
    },
    {
      "cell_type": "markdown",
      "metadata": {
        "id": "EGpcZE-Ym11H"
      },
      "source": [
        "Посмотрим параметры блоков:"
      ]
    },
    {
      "cell_type": "code",
      "execution_count": null,
      "metadata": {
        "id": "tVayclgjm11H",
        "colab": {
          "base_uri": "https://localhost:8080/"
        },
        "outputId": "51f460d9-6eef-4473-e653-b6677f71b8b5"
      },
      "outputs": [
        {
          "output_type": "execute_result",
          "data": {
            "text/plain": [
              "[{'stage': 1, 'reduction': 2, 'module': 'blocks.0', 'num_chs': 16, 'index': 0},\n",
              " {'stage': 2, 'reduction': 4, 'module': 'blocks.1', 'num_chs': 24, 'index': 1},\n",
              " {'stage': 3, 'reduction': 8, 'module': 'blocks.2', 'num_chs': 40, 'index': 2},\n",
              " {'stage': 5,\n",
              "  'reduction': 16,\n",
              "  'module': 'blocks.4',\n",
              "  'num_chs': 112,\n",
              "  'index': 3},\n",
              " {'stage': 7,\n",
              "  'reduction': 32,\n",
              "  'module': 'blocks.6',\n",
              "  'num_chs': 320,\n",
              "  'index': 4}]"
            ]
          },
          "metadata": {},
          "execution_count": 21
        }
      ],
      "source": [
        "list(fe_model.feature_info)"
      ]
    },
    {
      "cell_type": "markdown",
      "metadata": {
        "id": "DF6h8lUJm11I"
      },
      "source": [
        "Получим все карты признаков из этих блоков:"
      ]
    },
    {
      "cell_type": "code",
      "execution_count": null,
      "metadata": {
        "id": "yp0JFSSXm11I",
        "colab": {
          "base_uri": "https://localhost:8080/"
        },
        "outputId": "30199ff4-6d90-4446-9658-5354fc67dc04"
      },
      "outputs": [
        {
          "output_type": "stream",
          "name": "stdout",
          "text": [
            "torch.Size([1, 16, 112, 112])\n",
            "torch.Size([1, 24, 56, 56])\n",
            "torch.Size([1, 40, 28, 28])\n",
            "torch.Size([1, 112, 14, 14])\n",
            "torch.Size([1, 320, 7, 7])\n"
          ]
        }
      ],
      "source": [
        "out = fe_model(x)\n",
        "for output in out:\n",
        "    print(output.shape)"
      ]
    },
    {
      "cell_type": "markdown",
      "metadata": {
        "id": "U63SSmGBm11I"
      },
      "source": [
        "При использовании предобученной модели важно знать, как и на каких данных она обучалась. В частности нас могут интересовать примененные аугментации (`transform`).\n",
        "\n",
        "В timm каждая модель содержит описание своей конфигурации `default_cfg` (без обучения) и `pretrained_cfg` (предобученная). Посмотрим на `pretrained_cfg`:"
      ]
    },
    {
      "cell_type": "code",
      "execution_count": null,
      "metadata": {
        "id": "w4zWhQilm11I",
        "colab": {
          "base_uri": "https://localhost:8080/"
        },
        "outputId": "2256f0e5-806d-4e12-d4f5-3dd77642b967"
      },
      "outputs": [
        {
          "output_type": "execute_result",
          "data": {
            "text/plain": [
              "{'url': 'https://github.com/rwightman/pytorch-image-models/releases/download/v0.1-weights/efficientnet_lite0_ra-37913777.pth',\n",
              " 'hf_hub_id': 'timm/efficientnet_lite0.ra_in1k',\n",
              " 'architecture': 'efficientnet_lite0',\n",
              " 'tag': 'ra_in1k',\n",
              " 'custom_load': False,\n",
              " 'input_size': (3, 224, 224),\n",
              " 'fixed_input_size': False,\n",
              " 'interpolation': 'bicubic',\n",
              " 'crop_pct': 0.875,\n",
              " 'crop_mode': 'center',\n",
              " 'mean': (0.485, 0.456, 0.406),\n",
              " 'std': (0.229, 0.224, 0.225),\n",
              " 'num_classes': 1000,\n",
              " 'pool_size': (7, 7),\n",
              " 'first_conv': 'conv_stem',\n",
              " 'classifier': 'classifier'}"
            ]
          },
          "metadata": {},
          "execution_count": 23
        }
      ],
      "source": [
        "pretrained_model.pretrained_cfg"
      ]
    },
    {
      "cell_type": "markdown",
      "metadata": {
        "id": "QEf3LhRFm11I"
      },
      "source": [
        "Создадим `transform`:"
      ]
    },
    {
      "cell_type": "code",
      "execution_count": null,
      "metadata": {
        "id": "665Qb8CIm11I",
        "colab": {
          "base_uri": "https://localhost:8080/"
        },
        "outputId": "d61a2fd9-1840-4bbd-ec01-e42eae36d97f"
      },
      "outputs": [
        {
          "output_type": "execute_result",
          "data": {
            "text/plain": [
              "Compose(\n",
              "    Resize(size=256, interpolation=bicubic, max_size=None, antialias=True)\n",
              "    CenterCrop(size=(224, 224))\n",
              "    MaybeToTensor()\n",
              "    Normalize(mean=tensor([0.4850, 0.4560, 0.4060]), std=tensor([0.2290, 0.2240, 0.2250]))\n",
              ")"
            ]
          },
          "metadata": {},
          "execution_count": 24
        }
      ],
      "source": [
        "from timm.data import resolve_data_config\n",
        "from timm.data.transforms_factory import create_transform\n",
        "\n",
        "transform = create_transform(\n",
        "    **resolve_data_config(pretrained_model.pretrained_cfg, model=pretrained_model)\n",
        ")\n",
        "transform"
      ]
    },
    {
      "cell_type": "markdown",
      "metadata": {
        "id": "G957_6nZm11I"
      },
      "source": [
        "Мы кратко познакомились с библиотекой timm. Возможностей у нее гораздо больше, но в рамках лекции мы никак не успеем с ними познакомиться.\n",
        "\n",
        "Рекомендуем для самостоятельного изучения:\n",
        "* [[blog] ✏️ Fine-Tuning Image Classifiers with PyTorch and the timm library for Beginners](https://christianjmills.com/posts/pytorch-train-image-classifier-timm-hf-tutorial/)\n",
        "* [[doc] 🛠️ Документация библиотеки](https://github.com/huggingface/pytorch-image-models#introduction)"
      ]
    }
  ]
}