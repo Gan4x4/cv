{
  "nbformat": 4,
  "nbformat_minor": 0,
  "metadata": {
    "colab": {
      "provenance": [],
      "gpuType": "T4"
    },
    "kernelspec": {
      "name": "python3",
      "display_name": "Python 3"
    },
    "language_info": {
      "name": "python"
    },
    "accelerator": "GPU"
  },
  "cells": [
    {
      "cell_type": "markdown",
      "metadata": {
        "id": "hJT4lk0xXWzW"
      },
      "source": [
        "#SAM (2023)"
      ]
    },
    {
      "cell_type": "markdown",
      "metadata": {
        "id": "8rQmZzJZXWzW"
      },
      "source": [
        "[[arxiv] 🎓 Segment Anything (Kirillov et al., 2023)](https://arxiv.org/abs/2304.02643)\n",
        "\n",
        "Модель возвращает набор масок, соответствующих входу. Классы объектов не используются.\n",
        "\n",
        "В качестве входа могут подаваться:\n",
        "\n",
        "*  набор точек,\n",
        "*  набор bounding box,\n",
        "*  маски,\n",
        "*  текст (поддержка в коде пока не реализована),\n",
        "*  изображение.\n"
      ]
    },
    {
      "cell_type": "markdown",
      "metadata": {
        "id": "YmqjIqKjXWzX"
      },
      "source": [
        "<img src =\"https://ml.gan4x4.ru/msu/dep-2.1/L11/sam_overview.png\" width=\"1000\">"
      ]
    },
    {
      "cell_type": "markdown",
      "metadata": {
        "id": "Mt-ntHkIXWzX"
      },
      "source": [
        "Обучалась на огромном датасете, частично размеченном в unsupervise режиме."
      ]
    },
    {
      "cell_type": "markdown",
      "metadata": {
        "id": "fJkOPptFXWzX"
      },
      "source": [
        "<img src =\"https://ml.gan4x4.ru/msu/dep-2.1/L11/sam_architecture.png\" width=\"1000\">"
      ]
    },
    {
      "cell_type": "markdown",
      "metadata": {
        "id": "s6H0AUjDXWzX"
      },
      "source": [
        "Установим пакет:"
      ]
    },
    {
      "cell_type": "code",
      "execution_count": null,
      "metadata": {
        "id": "j1yA5WKwXWzY"
      },
      "outputs": [],
      "source": [
        "!pip install -q git+https://github.com/facebookresearch/segment-anything.git"
      ]
    },
    {
      "cell_type": "markdown",
      "metadata": {
        "id": "z_wV5wWJXWzY"
      },
      "source": [
        "Загружаем веса из [репозитория Facebook Research 🐾[git]](https://github.com/facebookresearch/segment-anything#model-checkpoints):"
      ]
    },
    {
      "cell_type": "code",
      "execution_count": null,
      "metadata": {
        "id": "GfE1C4WYXWzY"
      },
      "outputs": [],
      "source": [
        "# ViT-H\n",
        "!wget -nc https://dl.fbaipublicfiles.com/segment_anything/sam_vit_h_4b8939.pth"
      ]
    },
    {
      "cell_type": "markdown",
      "metadata": {
        "id": "L-Py7jnlXWzZ"
      },
      "source": [
        "Создаем encoder:"
      ]
    },
    {
      "cell_type": "code",
      "execution_count": null,
      "metadata": {
        "id": "ho9TbfM8XWzZ"
      },
      "outputs": [],
      "source": [
        "import torch\n",
        "from segment_anything import sam_model_registry\n",
        "from warnings import simplefilter\n",
        "\n",
        "simplefilter(\"ignore\", category=FutureWarning)\n",
        "\n",
        "# model_type = \"vit_h\"\n",
        "sam = sam_model_registry[\"vit_h\"](checkpoint=\"sam_vit_h_4b8939.pth\")\n",
        "\n",
        "device = torch.device(\"cuda\" if torch.cuda.is_available() else \"cpu\")\n",
        "sam.to(device=device)\n",
        "print(\"Checkpoit loaded\") #suppres printing model structure"
      ]
    },
    {
      "cell_type": "markdown",
      "metadata": {
        "id": "bLkqrxeiXWzZ"
      },
      "source": [
        "Загрузим изображение:"
      ]
    },
    {
      "cell_type": "code",
      "execution_count": null,
      "metadata": {
        "id": "BzjYZCPzXWzZ"
      },
      "outputs": [],
      "source": [
        "# Source: http://images.cocodataset.org/val2017/000000448263.jpg\n",
        "!wget -qN https://ml.gan4x4.ru/msu/dep-2.1/L11/000000448263.jpg"
      ]
    },
    {
      "cell_type": "code",
      "execution_count": null,
      "metadata": {
        "id": "G4_z9hIdXWza"
      },
      "outputs": [],
      "source": [
        "import numpy as np\n",
        "from PIL import Image\n",
        "\n",
        "img = Image.open(\"000000448263.jpg\")\n",
        "np_im = np.array(img)  # HWC format\n",
        "img"
      ]
    },
    {
      "cell_type": "markdown",
      "metadata": {
        "id": "KwEksSDLXWza"
      },
      "source": [
        "Создадим эмбеддинг (на CPU выполняется долго) и предскажем все маски.\n",
        "\n",
        "[[git] 🐾 Automatically generating object masks with SAM (example)](https://github.com/facebookresearch/segment-anything/blob/main/notebooks/automatic_mask_generator_example.ipynb)"
      ]
    },
    {
      "cell_type": "code",
      "execution_count": null,
      "metadata": {
        "id": "V07ZvC92XWza"
      },
      "outputs": [],
      "source": [
        "%%time\n",
        "from segment_anything import SamAutomaticMaskGenerator\n",
        "\n",
        "mask_generator = SamAutomaticMaskGenerator(sam)\n",
        "masks = mask_generator.generate(np_im)"
      ]
    },
    {
      "cell_type": "markdown",
      "metadata": {
        "id": "6iO_WrhIXWzb"
      },
      "source": [
        "На выходе получаем список:"
      ]
    },
    {
      "cell_type": "code",
      "execution_count": null,
      "metadata": {
        "id": "o4xuwqHwXWzb"
      },
      "outputs": [],
      "source": [
        "masks[0]"
      ]
    },
    {
      "cell_type": "code",
      "execution_count": null,
      "metadata": {
        "id": "J44AR1WwXWzb"
      },
      "outputs": [],
      "source": [
        "masks[0][\"segmentation\"].shape"
      ]
    },
    {
      "cell_type": "code",
      "execution_count": null,
      "metadata": {
        "id": "M1jxVxSKXWzc"
      },
      "outputs": [],
      "source": [
        "# https://github.com/facebookresearch/segment-anything/blob/main/notebooks/automatic_mask_generator_example.ipynb\n",
        "import matplotlib.pyplot as plt\n",
        "\n",
        "\n",
        "def show_anns(anns):\n",
        "    if len(anns) == 0:\n",
        "        return\n",
        "    sorted_anns = sorted(anns, key=(lambda x: x[\"area\"]), reverse=True)\n",
        "    ax = plt.gca()\n",
        "    ax.set_autoscale_on(False)\n",
        "\n",
        "    img = np.ones(\n",
        "        (\n",
        "            sorted_anns[0][\"segmentation\"].shape[0],\n",
        "            sorted_anns[0][\"segmentation\"].shape[1],\n",
        "            4,\n",
        "        )\n",
        "    )\n",
        "    img[:, :, 3] = 0\n",
        "    for ann in sorted_anns:\n",
        "        m = ann[\"segmentation\"]\n",
        "        color_mask = np.concatenate([np.random.random(3), [0.35]])\n",
        "        img[m] = color_mask\n",
        "    ax.imshow(img)"
      ]
    },
    {
      "cell_type": "code",
      "execution_count": null,
      "metadata": {
        "id": "ErLN6dpFXWzc"
      },
      "outputs": [],
      "source": [
        "plt.figure(figsize=(10, 8))\n",
        "plt.imshow(img)\n",
        "show_anns(masks)\n",
        "plt.axis(\"off\")\n",
        "plt.show()"
      ]
    },
    {
      "cell_type": "markdown",
      "metadata": {
        "id": "O2IXaOVQXWzc"
      },
      "source": [
        "Предсказываем по точкам. Сначала создаем эмбеддинг. Он хранится внутри модели.\n",
        "\n",
        "[[git] 🐾 Object masks from prompts with SAM (example)](https://github.com/facebookresearch/segment-anything/blob/main/notebooks/predictor_example.ipynb)"
      ]
    },
    {
      "cell_type": "code",
      "execution_count": null,
      "metadata": {
        "id": "e5bTponkXWzc"
      },
      "outputs": [],
      "source": [
        "%%time\n",
        "from segment_anything import SamPredictor\n",
        "\n",
        "\n",
        "predictor = SamPredictor(sam)\n",
        "predictor.set_image(np_im)  # create embedding"
      ]
    },
    {
      "cell_type": "markdown",
      "metadata": {
        "id": "4HiXYO8yXWzc"
      },
      "source": [
        "Теперь получаем предсказания, указав точки, которые относятся к объекту и фону:"
      ]
    },
    {
      "cell_type": "code",
      "execution_count": null,
      "metadata": {
        "id": "qG63dhUwXWzd"
      },
      "outputs": [],
      "source": [
        "masks, scores, logits = predictor.predict(\n",
        "    point_coords=np.array([[200, 200], [1, 1]]),  # point coords\n",
        "    point_labels=np.array([1, 0]),  # 1 - object(foreground), 0 - background\n",
        "    # box\n",
        "    # mask_input\n",
        "    multimask_output=True,  # return 1 or 3 masks because of the ambiguous input\n",
        ")"
      ]
    },
    {
      "cell_type": "code",
      "execution_count": null,
      "metadata": {
        "id": "hU8UKjInXWzd"
      },
      "outputs": [],
      "source": [
        "print(\"Masks count\", len(masks))\n",
        "print(\"Scores\", scores)"
      ]
    },
    {
      "cell_type": "code",
      "execution_count": null,
      "metadata": {
        "id": "yLaR-wTJXWzd"
      },
      "outputs": [],
      "source": [
        "print(masks[0].shape)"
      ]
    },
    {
      "cell_type": "code",
      "execution_count": null,
      "metadata": {
        "id": "wrxJ8MCIXWzd"
      },
      "outputs": [],
      "source": [
        "def show_mask(mask, ax, random_color=False):\n",
        "    if random_color:\n",
        "        color = np.concatenate([np.random.random(3), np.array([0.6])], axis=0)\n",
        "    else:\n",
        "        color = np.array([30 / 255, 144 / 255, 255 / 255, 0.6])\n",
        "    h, w = mask.shape[-2:]\n",
        "    mask_image = mask.reshape(h, w, 1) * color.reshape(1, 1, -1)\n",
        "    ax.imshow(mask_image)\n",
        "\n",
        "\n",
        "plt.imshow(img)\n",
        "show_mask(masks[2], plt.gca())\n",
        "plt.axis(\"off\")\n",
        "plt.show()"
      ]
    }
  ]
}