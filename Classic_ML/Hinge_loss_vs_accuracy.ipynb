{
  "nbformat": 4,
  "nbformat_minor": 0,
  "metadata": {
    "colab": {
      "provenance": [],
      "toc_visible": true
    },
    "kernelspec": {
      "name": "python3",
      "display_name": "Python 3"
    },
    "language_info": {
      "name": "python"
    }
  },
  "cells": [
    {
      "cell_type": "markdown",
      "source": [
        "# Hinge loss и accuracy\n"
      ],
      "metadata": {
        "id": "ua42QVw5O0qR"
      }
    },
    {
      "cell_type": "markdown",
      "metadata": {
        "id": "AnOUA8lXQPZu"
      },
      "source": [
        "\n",
        "В задаче регрессии мы использовали метрику $\\text{MSE}$ в качестве функции потерь. Здесь мы можем сделать что-то подобное.\n",
        "\n",
        "Мы можем ввести пороговое решающее правило: определять метку класса по знаку линейной функции (случай $x = 0$ можем отнести к любому классу):\n",
        "\n",
        "$$\\large y_i^\\text{pred} = \\text{sign}(\\vec{w}\\vec{x}_i+b),$$\n",
        "\n",
        "где $\\text{sign}$ — сигнум-функция (функция знака):\n",
        "\n",
        "$$\\text{sign}(x) =\n",
        "\\begin{cases}\n",
        "    +1, & x>0, \\\\\n",
        "    0 & x=0,\\\\\n",
        "    -1, & x<0.\n",
        "\\end{cases}$$\n",
        "\n",
        "Используя такое решающее правило, мы можем посчитать метрику $\\text{accuracy}$:\n",
        "\n",
        "$$\\large \\text{accuracy}=\\frac{\\sum_{i=1}^N [\\text{sign}(\\vec{w}\\vec{x}_i+b)==y_i]}{N}$$\n"
      ]
    },
    {
      "cell_type": "markdown",
      "metadata": {
        "id": "ZRp4CznMQPZu"
      },
      "source": [
        "Нам нужно максимизировать $\\text{accuracy}$, а значит минимизировать $1-\\text{accuracy}$. Действуя по аналогии с задачей регрессии, мы могли бы задать функцию потерь следующим образом:\n",
        "$$\\large \\text{Loss} = 1-\\text{accuracy} =  \\frac{\\sum_{i=1}^N \\overline{[\\text{sign}(\\vec{w}\\vec{x}_i+b)==y_i]}}{N} = \\frac{\\sum_{i=1}^N l_i}{N}$$\n",
        "\n",
        "$$\\large l_i = \\overline{[\\text{sign}(\\vec{w}\\vec{x}_i+b)==y_i]}$$"
      ]
    },
    {
      "cell_type": "markdown",
      "metadata": {
        "id": "VoL8QfuaQPZu"
      },
      "source": [
        "Функция $l_i$ будет представлять собой ступеньку (1 — там, где мы ошиблись, и 0 — где класс определен правильно). Это плохо, т.к производная такой функции будет равна нулю почти везде, а это значит, что у нас будут проблемы с поиском минимума."
      ]
    },
    {
      "cell_type": "markdown",
      "metadata": {
        "id": "oURl4B7vQPZu"
      },
      "source": [
        "<center><img src =\"https://ml.gan4x4.ru/msu/additions/L02/hinge_loss.png\" width=\"900\"></center>"
      ]
    },
    {
      "cell_type": "markdown",
      "metadata": {
        "id": "bxv55lk9QPZu"
      },
      "source": [
        "Мы можем модифицировать функцию потерь, задав оценку сверху для $l_i$, полученного из $\\text{accuracy}$:\n",
        "\n",
        "$$\\large l_i = \\max(0, 1 - y_i ((\\vec w, \\vec x_i) + b ))$$\n",
        "\n",
        "Данная модификация входит в [Hinge loss 📚[wiki]](https://en.wikipedia.org/wiki/Hinge_loss):\n",
        "$$\\large \\text{Loss} = \\frac{1}{2}||w||^2 + C\\frac{\\sum_{i=1}^N l_i}{N},$$\n",
        "\n",
        "где $C$ — обратный коэффициент регуляризации, гиперпараметр, значение по умолчанию в Sklearn: `C=1.0`.\n",
        "\n",
        "[Можно показать ✏️[blog]](https://www.geeksforgeeks.org/hinge-loss-relationship-with-support-vector-machines/), что Hinge loss и метод множителей Лагранжа отвечают за выполнение одних и тех же условий и являются двумя подходами к решению SVM задачи."
      ]
    },
    {
      "cell_type": "markdown",
      "source": [
        "# Модификация Hinge loss"
      ],
      "metadata": {
        "id": "vcten9DVLVsl"
      }
    },
    {
      "cell_type": "markdown",
      "source": [
        "Существует множество модификаций SVM для решения многоклассовой классификации. В литературе вы можете встретить следующую формулировку Loss для SVM задачи:\n",
        "\n",
        "$$\\large \\text{Loss} = \\frac{1}{2} ||\\vec w||^2 + {1 \\over N}\\sum_iL_i(f(x_i,W),y_i),$$\n",
        "\n",
        "$$\\large L_i = \\sum_{j\\neq y_i}\\begin{cases}\n",
        "  0,  & \\mbox{если } s_{y_i}\\geq s_j+1\\mbox{} \\\\\n",
        "  s_j-s_{y_i}+1, & \\mbox{если наоборот, то} \\mbox{}\n",
        "\\end{cases}=\\sum_{j\\neq y_i}\\max(0,s_j-s_{y_i}+1),$$\n",
        "\n",
        "где $s_j = f(x_i, W)_j$ — уравнение для $j$-го класса, $s_{y_i}$ — значение уравнения для истинного класса."
      ],
      "metadata": {
        "id": "VMrLZPol1T0n"
      }
    },
    {
      "cell_type": "markdown",
      "source": [
        "Идея данной формулы аналогична **one vs rest**, но вместо абсолютных значений используется разница между предсказаниями для различных классов.\n",
        "\n",
        "Эта формулировка появилась в [Support Vector Machines for Multi-Class Pattern Recognition (J. Weston and C. Watkins, 1999) 🎓[article]](https://www.esann.org/sites/default/files/proceedings/legacy/es1999-461.pdf) и стала популярной благодаря [Стендфорскому курсу 📚[book]](https://cs231n.github.io/linear-classify/#svm), но для нее нет реализации в Sklearn."
      ],
      "metadata": {
        "id": "5J-2oBqSOlIl"
      }
    }
  ]
}