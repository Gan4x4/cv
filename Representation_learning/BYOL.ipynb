{
  "nbformat": 4,
  "nbformat_minor": 0,
  "metadata": {
    "colab": {
      "provenance": [],
      "toc_visible": true
    },
    "kernelspec": {
      "name": "python3",
      "display_name": "Python 3"
    },
    "language_info": {
      "name": "python"
    }
  },
  "cells": [
    {
      "cell_type": "markdown",
      "metadata": {
        "id": "4L2bcblGR43A"
      },
      "source": [
        "## BYOL"
      ]
    },
    {
      "cell_type": "markdown",
      "source": [
        "[[arxiv] 🎓 Bootstrap Your Own Latent](https://arxiv.org/abs/2006.07733)"
      ],
      "metadata": {
        "id": "IvBj1N4sJiNh"
      }
    },
    {
      "cell_type": "markdown",
      "metadata": {
        "id": "P8v2oAISR43A"
      },
      "source": [
        "<center><img src =\"https://ml.gan4x4.ru/msu/additions/L08/byol_performance.png\"  width=\"400\"></center>\n",
        "\n",
        "<center><em>Source: <a href=\"https://arxiv.org/pdf/2006.07733\">Bootstrap Your Own Latent</a></em></center>\n"
      ]
    },
    {
      "cell_type": "markdown",
      "metadata": {
        "id": "0YOZOVQAR43A"
      },
      "source": [
        "Методика, описанная в статье, использует дистилляцию для получения качественного представления данных в пространстве признаков (latent space).\n",
        "\n",
        "**Идеи метода**:\n",
        "\n",
        "1. В интернете масса неразмеченных изображений, давайте будем всячески искажать (аугментировать) их: обрезать, масштабировать, поворачивать и затем подавать на вход сети.\n",
        "\n",
        "Если искажения не меняют объект до неузнаваемости, то его класс поменяться не должен, следовательно, можно требовать от модели, чтобы вектора признаков у аугментированных изображений были похожи.\n",
        "\n",
        "Так как меток у нас нет, то в качестве loss можно использовать расстояние между векторами признаков. Для векторов, полученных из одного изображения, оно должно быть меньше, чем между векторами различных изображений.\n",
        "\n",
        "Это идея [Contrastive Loss 🎓[article]](https://paperswithcode.com/method/supervised-contrastive-loss).\n",
        "\n",
        "При наивной реализации такой подход работает не слишком хорошо, так как общее количество сравнений для датасета с N изображениями и M аугментациями — это $ (N*M)^2$. Поэтому приходится выбирать из всех возможных пар только часть самых сложных ([Hard example Mining 🎓[article]](https://paperswithcode.com/method/ohem))."
      ]
    },
    {
      "cell_type": "markdown",
      "metadata": {
        "id": "l9JC_fTAR43A"
      },
      "source": [
        "2. Авторы статьи предложили решение, основанное на идее дистилляции.\n",
        "\n",
        "Создаются две одинаковые сети (online и target) и два различных набора аугментаций (t и t`). В первую сеть подаются изображения, аугментированные при помощи t, во вторую — при помощи t'.\n",
        "\n",
        "Предсказания моделей сравниваются, и loss подсчитывается как расстояние между предсказаниями, но обновление весов методом градиентного спуска происходит **только у одной модели** (online).\n",
        "\n",
        "Веса второй (target) постепенно обновляются как [экспоненциальное скользящее среднее 📚[wiki]](https://en.wikipedia.org/wiki/Exponential_smoothing) от весов первой модели.\n",
        "\n",
        "$\\xi \\leftarrow \\tau \\xi + (1-\\tau\\theta),$\n",
        "\n",
        "где $\\tau$ — скорость обновления, $\\theta$ — веса другой (online) модели."
      ]
    },
    {
      "cell_type": "markdown",
      "metadata": {
        "id": "flEgQbEPR43A"
      },
      "source": [
        "<center><img src =\"https://ml.gan4x4.ru/msu/additions/L08/byol_scheme.png\"  width=\"900\"></center>\n",
        "\n",
        "<center><em>Source: <a href=\"https://arxiv.org/pdf/2006.07733\">Bootstrap Your Own Latent</a></em></center>"
      ]
    },
    {
      "cell_type": "markdown",
      "metadata": {
        "id": "_jbOgwEfR43A"
      },
      "source": [
        "Затем достаточно получить embedding-и для изображений из ImageNet и классифицировать их при помощи линейного классификатора.\n",
        "\n",
        "\n",
        "Большая библиотека, где реализован BYOL:\n",
        "* [[doc] 🛠️ MMSelfSup](https://mmselfsup.readthedocs.io/en/latest/get_started.html#install-on-google-colab)\n",
        "* [[git] 🐾 MMSelfSup](https://github.com/open-mmlab/mmselfsup)\n"
      ]
    },
    {
      "cell_type": "markdown",
      "metadata": {
        "id": "mCCDk8fRR43A"
      },
      "source": [
        "Чтобы не качать зависимости, воспользуемся [этой реализацией 🐾[git]](\n",
        "https://github.com/lucidrains/byol-pytorch)."
      ]
    },
    {
      "cell_type": "code",
      "execution_count": null,
      "metadata": {
        "id": "t4YDu50KR43A",
        "colab": {
          "base_uri": "https://localhost:8080/"
        },
        "outputId": "272985f2-f508-4bca-bab5-3f491598edae"
      },
      "outputs": [
        {
          "output_type": "stream",
          "name": "stdout",
          "text": [
            "\u001b[2K     \u001b[90m━━━━━━━━━━━━━━━━━━━━━━━━━━━━━━━━━━━━━━━━\u001b[0m \u001b[32m302.4/302.4 kB\u001b[0m \u001b[31m4.2 MB/s\u001b[0m eta \u001b[36m0:00:00\u001b[0m\n",
            "\u001b[2K     \u001b[90m━━━━━━━━━━━━━━━━━━━━━━━━━━━━━━━━━━━━━━━━\u001b[0m \u001b[32m917.8/917.8 kB\u001b[0m \u001b[31m9.5 MB/s\u001b[0m eta \u001b[36m0:00:00\u001b[0m\n",
            "\u001b[?25h"
          ]
        }
      ],
      "source": [
        "!pip install -q byol-pytorch"
      ]
    },
    {
      "cell_type": "code",
      "execution_count": null,
      "metadata": {
        "colab": {
          "base_uri": "https://localhost:8080/"
        },
        "id": "eWGH4drwR43A",
        "outputId": "a4e2f4e7-427c-4222-c15a-61941a68a4c7"
      },
      "outputs": [
        {
          "output_type": "stream",
          "name": "stderr",
          "text": [
            "100%|██████████| 3/3 [03:11<00:00, 63.83s/it]\n"
          ]
        }
      ],
      "source": [
        "import torch\n",
        "from byol_pytorch import BYOL\n",
        "from torchvision import models\n",
        "from tqdm import tqdm\n",
        "\n",
        "\n",
        "device = torch.device(\"cuda\" if torch.cuda.is_available() else \"cpu\")\n",
        "resnet = models.resnet50(weights=None)\n",
        "learner = BYOL(resnet, image_size=256, hidden_layer=\"avgpool\")\n",
        "\n",
        "learner.to(device)\n",
        "opt = torch.optim.Adam(learner.parameters(), lr=3e-4)\n",
        "\n",
        "\n",
        "def sample_unlabelled_images():\n",
        "    return torch.randn(20, 3, 256, 256)\n",
        "\n",
        "\n",
        "for _ in tqdm(range(3)):\n",
        "    images = sample_unlabelled_images()\n",
        "    loss = learner(images.to(device))\n",
        "    opt.zero_grad()\n",
        "    loss.backward()\n",
        "    opt.step()\n",
        "    learner.update_moving_average()  # update moving average of target encoder\n",
        "\n",
        "# save your improved network\n",
        "torch.save(resnet.state_dict(), \"./improved-net.pt\")"
      ]
    }
  ]
}