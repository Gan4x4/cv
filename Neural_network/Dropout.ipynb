{
  "nbformat": 4,
  "nbformat_minor": 0,
  "metadata": {
    "colab": {
      "provenance": [],
      "toc_visible": true,
      "gpuType": "T4"
    },
    "kernelspec": {
      "name": "python3",
      "display_name": "Python 3"
    },
    "language_info": {
      "name": "python"
    },
    "accelerator": "GPU",
    "widgets": {
      "application/vnd.jupyter.widget-state+json": {
        "198b404d0c9e47c49810e572aeae5ab5": {
          "model_module": "@jupyter-widgets/controls",
          "model_name": "HBoxModel",
          "model_module_version": "1.5.0",
          "state": {
            "_dom_classes": [],
            "_model_module": "@jupyter-widgets/controls",
            "_model_module_version": "1.5.0",
            "_model_name": "HBoxModel",
            "_view_count": null,
            "_view_module": "@jupyter-widgets/controls",
            "_view_module_version": "1.5.0",
            "_view_name": "HBoxView",
            "box_style": "",
            "children": [
              "IPY_MODEL_582d3b147a6042f8b919ab0925e673c7",
              "IPY_MODEL_33bb0e8197fb4c59897c12de19056b60",
              "IPY_MODEL_7bc215f1c2d04054bac62742f1d44820"
            ],
            "layout": "IPY_MODEL_6f73d1f3c79b43b7b2fe408111110434"
          }
        },
        "582d3b147a6042f8b919ab0925e673c7": {
          "model_module": "@jupyter-widgets/controls",
          "model_name": "HTMLModel",
          "model_module_version": "1.5.0",
          "state": {
            "_dom_classes": [],
            "_model_module": "@jupyter-widgets/controls",
            "_model_module_version": "1.5.0",
            "_model_name": "HTMLModel",
            "_view_count": null,
            "_view_module": "@jupyter-widgets/controls",
            "_view_module_version": "1.5.0",
            "_view_name": "HTMLView",
            "description": "",
            "description_tooltip": null,
            "layout": "IPY_MODEL_1d75d7d4eef6433d8423f9e9a55ec96a",
            "placeholder": "​",
            "style": "IPY_MODEL_d0c18b3021c7471f82866297043d6bff",
            "value": "Epoch 4: 100%"
          }
        },
        "33bb0e8197fb4c59897c12de19056b60": {
          "model_module": "@jupyter-widgets/controls",
          "model_name": "FloatProgressModel",
          "model_module_version": "1.5.0",
          "state": {
            "_dom_classes": [],
            "_model_module": "@jupyter-widgets/controls",
            "_model_module_version": "1.5.0",
            "_model_name": "FloatProgressModel",
            "_view_count": null,
            "_view_module": "@jupyter-widgets/controls",
            "_view_module_version": "1.5.0",
            "_view_name": "ProgressView",
            "bar_style": "success",
            "description": "",
            "description_tooltip": null,
            "layout": "IPY_MODEL_be32b7b7df04481ab1632f7bf80968f6",
            "max": 1500,
            "min": 0,
            "orientation": "horizontal",
            "style": "IPY_MODEL_4c99f69fd5f14473b5317a4fd48b9451",
            "value": 1500
          }
        },
        "7bc215f1c2d04054bac62742f1d44820": {
          "model_module": "@jupyter-widgets/controls",
          "model_name": "HTMLModel",
          "model_module_version": "1.5.0",
          "state": {
            "_dom_classes": [],
            "_model_module": "@jupyter-widgets/controls",
            "_model_module_version": "1.5.0",
            "_model_name": "HTMLModel",
            "_view_count": null,
            "_view_module": "@jupyter-widgets/controls",
            "_view_module_version": "1.5.0",
            "_view_name": "HTMLView",
            "description": "",
            "description_tooltip": null,
            "layout": "IPY_MODEL_79079d7602c24f32bbdfd21d6d3755af",
            "placeholder": "​",
            "style": "IPY_MODEL_6762fb275b234bcd951baea950176943",
            "value": " 1500/1500 [00:22&lt;00:00, 66.13it/s, v_num=0, loss_on_train=2.290, loss_on_test=2.280]"
          }
        },
        "6f73d1f3c79b43b7b2fe408111110434": {
          "model_module": "@jupyter-widgets/base",
          "model_name": "LayoutModel",
          "model_module_version": "1.2.0",
          "state": {
            "_model_module": "@jupyter-widgets/base",
            "_model_module_version": "1.2.0",
            "_model_name": "LayoutModel",
            "_view_count": null,
            "_view_module": "@jupyter-widgets/base",
            "_view_module_version": "1.2.0",
            "_view_name": "LayoutView",
            "align_content": null,
            "align_items": null,
            "align_self": null,
            "border": null,
            "bottom": null,
            "display": "inline-flex",
            "flex": null,
            "flex_flow": "row wrap",
            "grid_area": null,
            "grid_auto_columns": null,
            "grid_auto_flow": null,
            "grid_auto_rows": null,
            "grid_column": null,
            "grid_gap": null,
            "grid_row": null,
            "grid_template_areas": null,
            "grid_template_columns": null,
            "grid_template_rows": null,
            "height": null,
            "justify_content": null,
            "justify_items": null,
            "left": null,
            "margin": null,
            "max_height": null,
            "max_width": null,
            "min_height": null,
            "min_width": null,
            "object_fit": null,
            "object_position": null,
            "order": null,
            "overflow": null,
            "overflow_x": null,
            "overflow_y": null,
            "padding": null,
            "right": null,
            "top": null,
            "visibility": null,
            "width": "100%"
          }
        },
        "1d75d7d4eef6433d8423f9e9a55ec96a": {
          "model_module": "@jupyter-widgets/base",
          "model_name": "LayoutModel",
          "model_module_version": "1.2.0",
          "state": {
            "_model_module": "@jupyter-widgets/base",
            "_model_module_version": "1.2.0",
            "_model_name": "LayoutModel",
            "_view_count": null,
            "_view_module": "@jupyter-widgets/base",
            "_view_module_version": "1.2.0",
            "_view_name": "LayoutView",
            "align_content": null,
            "align_items": null,
            "align_self": null,
            "border": null,
            "bottom": null,
            "display": null,
            "flex": null,
            "flex_flow": null,
            "grid_area": null,
            "grid_auto_columns": null,
            "grid_auto_flow": null,
            "grid_auto_rows": null,
            "grid_column": null,
            "grid_gap": null,
            "grid_row": null,
            "grid_template_areas": null,
            "grid_template_columns": null,
            "grid_template_rows": null,
            "height": null,
            "justify_content": null,
            "justify_items": null,
            "left": null,
            "margin": null,
            "max_height": null,
            "max_width": null,
            "min_height": null,
            "min_width": null,
            "object_fit": null,
            "object_position": null,
            "order": null,
            "overflow": null,
            "overflow_x": null,
            "overflow_y": null,
            "padding": null,
            "right": null,
            "top": null,
            "visibility": null,
            "width": null
          }
        },
        "d0c18b3021c7471f82866297043d6bff": {
          "model_module": "@jupyter-widgets/controls",
          "model_name": "DescriptionStyleModel",
          "model_module_version": "1.5.0",
          "state": {
            "_model_module": "@jupyter-widgets/controls",
            "_model_module_version": "1.5.0",
            "_model_name": "DescriptionStyleModel",
            "_view_count": null,
            "_view_module": "@jupyter-widgets/base",
            "_view_module_version": "1.2.0",
            "_view_name": "StyleView",
            "description_width": ""
          }
        },
        "be32b7b7df04481ab1632f7bf80968f6": {
          "model_module": "@jupyter-widgets/base",
          "model_name": "LayoutModel",
          "model_module_version": "1.2.0",
          "state": {
            "_model_module": "@jupyter-widgets/base",
            "_model_module_version": "1.2.0",
            "_model_name": "LayoutModel",
            "_view_count": null,
            "_view_module": "@jupyter-widgets/base",
            "_view_module_version": "1.2.0",
            "_view_name": "LayoutView",
            "align_content": null,
            "align_items": null,
            "align_self": null,
            "border": null,
            "bottom": null,
            "display": null,
            "flex": "2",
            "flex_flow": null,
            "grid_area": null,
            "grid_auto_columns": null,
            "grid_auto_flow": null,
            "grid_auto_rows": null,
            "grid_column": null,
            "grid_gap": null,
            "grid_row": null,
            "grid_template_areas": null,
            "grid_template_columns": null,
            "grid_template_rows": null,
            "height": null,
            "justify_content": null,
            "justify_items": null,
            "left": null,
            "margin": null,
            "max_height": null,
            "max_width": null,
            "min_height": null,
            "min_width": null,
            "object_fit": null,
            "object_position": null,
            "order": null,
            "overflow": null,
            "overflow_x": null,
            "overflow_y": null,
            "padding": null,
            "right": null,
            "top": null,
            "visibility": null,
            "width": null
          }
        },
        "4c99f69fd5f14473b5317a4fd48b9451": {
          "model_module": "@jupyter-widgets/controls",
          "model_name": "ProgressStyleModel",
          "model_module_version": "1.5.0",
          "state": {
            "_model_module": "@jupyter-widgets/controls",
            "_model_module_version": "1.5.0",
            "_model_name": "ProgressStyleModel",
            "_view_count": null,
            "_view_module": "@jupyter-widgets/base",
            "_view_module_version": "1.2.0",
            "_view_name": "StyleView",
            "bar_color": null,
            "description_width": ""
          }
        },
        "79079d7602c24f32bbdfd21d6d3755af": {
          "model_module": "@jupyter-widgets/base",
          "model_name": "LayoutModel",
          "model_module_version": "1.2.0",
          "state": {
            "_model_module": "@jupyter-widgets/base",
            "_model_module_version": "1.2.0",
            "_model_name": "LayoutModel",
            "_view_count": null,
            "_view_module": "@jupyter-widgets/base",
            "_view_module_version": "1.2.0",
            "_view_name": "LayoutView",
            "align_content": null,
            "align_items": null,
            "align_self": null,
            "border": null,
            "bottom": null,
            "display": null,
            "flex": null,
            "flex_flow": null,
            "grid_area": null,
            "grid_auto_columns": null,
            "grid_auto_flow": null,
            "grid_auto_rows": null,
            "grid_column": null,
            "grid_gap": null,
            "grid_row": null,
            "grid_template_areas": null,
            "grid_template_columns": null,
            "grid_template_rows": null,
            "height": null,
            "justify_content": null,
            "justify_items": null,
            "left": null,
            "margin": null,
            "max_height": null,
            "max_width": null,
            "min_height": null,
            "min_width": null,
            "object_fit": null,
            "object_position": null,
            "order": null,
            "overflow": null,
            "overflow_x": null,
            "overflow_y": null,
            "padding": null,
            "right": null,
            "top": null,
            "visibility": null,
            "width": null
          }
        },
        "6762fb275b234bcd951baea950176943": {
          "model_module": "@jupyter-widgets/controls",
          "model_name": "DescriptionStyleModel",
          "model_module_version": "1.5.0",
          "state": {
            "_model_module": "@jupyter-widgets/controls",
            "_model_module_version": "1.5.0",
            "_model_name": "DescriptionStyleModel",
            "_view_count": null,
            "_view_module": "@jupyter-widgets/base",
            "_view_module_version": "1.2.0",
            "_view_name": "StyleView",
            "description_width": ""
          }
        },
        "fbebb068c6df4523882e0a96d4357e20": {
          "model_module": "@jupyter-widgets/controls",
          "model_name": "HBoxModel",
          "model_module_version": "1.5.0",
          "state": {
            "_dom_classes": [],
            "_model_module": "@jupyter-widgets/controls",
            "_model_module_version": "1.5.0",
            "_model_name": "HBoxModel",
            "_view_count": null,
            "_view_module": "@jupyter-widgets/controls",
            "_view_module_version": "1.5.0",
            "_view_name": "HBoxView",
            "box_style": "",
            "children": [
              "IPY_MODEL_054b8f5f8dd8446799610650dcf99dd1",
              "IPY_MODEL_b9b627b0881f4aebacc7e3dc9593d27a",
              "IPY_MODEL_7e41a4d49009451fbb219769ab89c71c"
            ],
            "layout": "IPY_MODEL_4d93a52d41224543bdd765bdda427d9d"
          }
        },
        "054b8f5f8dd8446799610650dcf99dd1": {
          "model_module": "@jupyter-widgets/controls",
          "model_name": "HTMLModel",
          "model_module_version": "1.5.0",
          "state": {
            "_dom_classes": [],
            "_model_module": "@jupyter-widgets/controls",
            "_model_module_version": "1.5.0",
            "_model_name": "HTMLModel",
            "_view_count": null,
            "_view_module": "@jupyter-widgets/controls",
            "_view_module_version": "1.5.0",
            "_view_name": "HTMLView",
            "description": "",
            "description_tooltip": null,
            "layout": "IPY_MODEL_de8b91324cbf44c0859a6b2bc39a99b5",
            "placeholder": "​",
            "style": "IPY_MODEL_270d8c79d4824dd49df186074342a703",
            "value": "Validation DataLoader 0: 100%"
          }
        },
        "b9b627b0881f4aebacc7e3dc9593d27a": {
          "model_module": "@jupyter-widgets/controls",
          "model_name": "FloatProgressModel",
          "model_module_version": "1.5.0",
          "state": {
            "_dom_classes": [],
            "_model_module": "@jupyter-widgets/controls",
            "_model_module_version": "1.5.0",
            "_model_name": "FloatProgressModel",
            "_view_count": null,
            "_view_module": "@jupyter-widgets/controls",
            "_view_module_version": "1.5.0",
            "_view_name": "ProgressView",
            "bar_style": "",
            "description": "",
            "description_tooltip": null,
            "layout": "IPY_MODEL_e6444b630f6a42379e92cdadb1842e62",
            "max": 375,
            "min": 0,
            "orientation": "horizontal",
            "style": "IPY_MODEL_369cfea5539949778ee3eaf9230f5628",
            "value": 375
          }
        },
        "7e41a4d49009451fbb219769ab89c71c": {
          "model_module": "@jupyter-widgets/controls",
          "model_name": "HTMLModel",
          "model_module_version": "1.5.0",
          "state": {
            "_dom_classes": [],
            "_model_module": "@jupyter-widgets/controls",
            "_model_module_version": "1.5.0",
            "_model_name": "HTMLModel",
            "_view_count": null,
            "_view_module": "@jupyter-widgets/controls",
            "_view_module_version": "1.5.0",
            "_view_name": "HTMLView",
            "description": "",
            "description_tooltip": null,
            "layout": "IPY_MODEL_b5b444428291438c96e7a904a199106f",
            "placeholder": "​",
            "style": "IPY_MODEL_08cec1b1fc7d454388fb30d2711cc0f3",
            "value": " 375/375 [00:03&lt;00:00, 119.79it/s]"
          }
        },
        "4d93a52d41224543bdd765bdda427d9d": {
          "model_module": "@jupyter-widgets/base",
          "model_name": "LayoutModel",
          "model_module_version": "1.2.0",
          "state": {
            "_model_module": "@jupyter-widgets/base",
            "_model_module_version": "1.2.0",
            "_model_name": "LayoutModel",
            "_view_count": null,
            "_view_module": "@jupyter-widgets/base",
            "_view_module_version": "1.2.0",
            "_view_name": "LayoutView",
            "align_content": null,
            "align_items": null,
            "align_self": null,
            "border": null,
            "bottom": null,
            "display": "inline-flex",
            "flex": null,
            "flex_flow": "row wrap",
            "grid_area": null,
            "grid_auto_columns": null,
            "grid_auto_flow": null,
            "grid_auto_rows": null,
            "grid_column": null,
            "grid_gap": null,
            "grid_row": null,
            "grid_template_areas": null,
            "grid_template_columns": null,
            "grid_template_rows": null,
            "height": null,
            "justify_content": null,
            "justify_items": null,
            "left": null,
            "margin": null,
            "max_height": null,
            "max_width": null,
            "min_height": null,
            "min_width": null,
            "object_fit": null,
            "object_position": null,
            "order": null,
            "overflow": null,
            "overflow_x": null,
            "overflow_y": null,
            "padding": null,
            "right": null,
            "top": null,
            "visibility": "hidden",
            "width": "100%"
          }
        },
        "de8b91324cbf44c0859a6b2bc39a99b5": {
          "model_module": "@jupyter-widgets/base",
          "model_name": "LayoutModel",
          "model_module_version": "1.2.0",
          "state": {
            "_model_module": "@jupyter-widgets/base",
            "_model_module_version": "1.2.0",
            "_model_name": "LayoutModel",
            "_view_count": null,
            "_view_module": "@jupyter-widgets/base",
            "_view_module_version": "1.2.0",
            "_view_name": "LayoutView",
            "align_content": null,
            "align_items": null,
            "align_self": null,
            "border": null,
            "bottom": null,
            "display": null,
            "flex": null,
            "flex_flow": null,
            "grid_area": null,
            "grid_auto_columns": null,
            "grid_auto_flow": null,
            "grid_auto_rows": null,
            "grid_column": null,
            "grid_gap": null,
            "grid_row": null,
            "grid_template_areas": null,
            "grid_template_columns": null,
            "grid_template_rows": null,
            "height": null,
            "justify_content": null,
            "justify_items": null,
            "left": null,
            "margin": null,
            "max_height": null,
            "max_width": null,
            "min_height": null,
            "min_width": null,
            "object_fit": null,
            "object_position": null,
            "order": null,
            "overflow": null,
            "overflow_x": null,
            "overflow_y": null,
            "padding": null,
            "right": null,
            "top": null,
            "visibility": null,
            "width": null
          }
        },
        "270d8c79d4824dd49df186074342a703": {
          "model_module": "@jupyter-widgets/controls",
          "model_name": "DescriptionStyleModel",
          "model_module_version": "1.5.0",
          "state": {
            "_model_module": "@jupyter-widgets/controls",
            "_model_module_version": "1.5.0",
            "_model_name": "DescriptionStyleModel",
            "_view_count": null,
            "_view_module": "@jupyter-widgets/base",
            "_view_module_version": "1.2.0",
            "_view_name": "StyleView",
            "description_width": ""
          }
        },
        "e6444b630f6a42379e92cdadb1842e62": {
          "model_module": "@jupyter-widgets/base",
          "model_name": "LayoutModel",
          "model_module_version": "1.2.0",
          "state": {
            "_model_module": "@jupyter-widgets/base",
            "_model_module_version": "1.2.0",
            "_model_name": "LayoutModel",
            "_view_count": null,
            "_view_module": "@jupyter-widgets/base",
            "_view_module_version": "1.2.0",
            "_view_name": "LayoutView",
            "align_content": null,
            "align_items": null,
            "align_self": null,
            "border": null,
            "bottom": null,
            "display": null,
            "flex": "2",
            "flex_flow": null,
            "grid_area": null,
            "grid_auto_columns": null,
            "grid_auto_flow": null,
            "grid_auto_rows": null,
            "grid_column": null,
            "grid_gap": null,
            "grid_row": null,
            "grid_template_areas": null,
            "grid_template_columns": null,
            "grid_template_rows": null,
            "height": null,
            "justify_content": null,
            "justify_items": null,
            "left": null,
            "margin": null,
            "max_height": null,
            "max_width": null,
            "min_height": null,
            "min_width": null,
            "object_fit": null,
            "object_position": null,
            "order": null,
            "overflow": null,
            "overflow_x": null,
            "overflow_y": null,
            "padding": null,
            "right": null,
            "top": null,
            "visibility": null,
            "width": null
          }
        },
        "369cfea5539949778ee3eaf9230f5628": {
          "model_module": "@jupyter-widgets/controls",
          "model_name": "ProgressStyleModel",
          "model_module_version": "1.5.0",
          "state": {
            "_model_module": "@jupyter-widgets/controls",
            "_model_module_version": "1.5.0",
            "_model_name": "ProgressStyleModel",
            "_view_count": null,
            "_view_module": "@jupyter-widgets/base",
            "_view_module_version": "1.2.0",
            "_view_name": "StyleView",
            "bar_color": null,
            "description_width": ""
          }
        },
        "b5b444428291438c96e7a904a199106f": {
          "model_module": "@jupyter-widgets/base",
          "model_name": "LayoutModel",
          "model_module_version": "1.2.0",
          "state": {
            "_model_module": "@jupyter-widgets/base",
            "_model_module_version": "1.2.0",
            "_model_name": "LayoutModel",
            "_view_count": null,
            "_view_module": "@jupyter-widgets/base",
            "_view_module_version": "1.2.0",
            "_view_name": "LayoutView",
            "align_content": null,
            "align_items": null,
            "align_self": null,
            "border": null,
            "bottom": null,
            "display": null,
            "flex": null,
            "flex_flow": null,
            "grid_area": null,
            "grid_auto_columns": null,
            "grid_auto_flow": null,
            "grid_auto_rows": null,
            "grid_column": null,
            "grid_gap": null,
            "grid_row": null,
            "grid_template_areas": null,
            "grid_template_columns": null,
            "grid_template_rows": null,
            "height": null,
            "justify_content": null,
            "justify_items": null,
            "left": null,
            "margin": null,
            "max_height": null,
            "max_width": null,
            "min_height": null,
            "min_width": null,
            "object_fit": null,
            "object_position": null,
            "order": null,
            "overflow": null,
            "overflow_x": null,
            "overflow_y": null,
            "padding": null,
            "right": null,
            "top": null,
            "visibility": null,
            "width": null
          }
        },
        "08cec1b1fc7d454388fb30d2711cc0f3": {
          "model_module": "@jupyter-widgets/controls",
          "model_name": "DescriptionStyleModel",
          "model_module_version": "1.5.0",
          "state": {
            "_model_module": "@jupyter-widgets/controls",
            "_model_module_version": "1.5.0",
            "_model_name": "DescriptionStyleModel",
            "_view_count": null,
            "_view_module": "@jupyter-widgets/base",
            "_view_module_version": "1.2.0",
            "_view_name": "StyleView",
            "description_width": ""
          }
        },
        "236558396531436585030e14f38747b9": {
          "model_module": "@jupyter-widgets/controls",
          "model_name": "HBoxModel",
          "model_module_version": "1.5.0",
          "state": {
            "_dom_classes": [],
            "_model_module": "@jupyter-widgets/controls",
            "_model_module_version": "1.5.0",
            "_model_name": "HBoxModel",
            "_view_count": null,
            "_view_module": "@jupyter-widgets/controls",
            "_view_module_version": "1.5.0",
            "_view_name": "HBoxView",
            "box_style": "",
            "children": [
              "IPY_MODEL_a5f835c761f14b7da6cafda10f4b78d3",
              "IPY_MODEL_802f967cc1044e6aa7f9b256e65142b3",
              "IPY_MODEL_70e1009bcc114109acef0364391a2918"
            ],
            "layout": "IPY_MODEL_488495d002df45ec9d5030a2d621f537"
          }
        },
        "a5f835c761f14b7da6cafda10f4b78d3": {
          "model_module": "@jupyter-widgets/controls",
          "model_name": "HTMLModel",
          "model_module_version": "1.5.0",
          "state": {
            "_dom_classes": [],
            "_model_module": "@jupyter-widgets/controls",
            "_model_module_version": "1.5.0",
            "_model_name": "HTMLModel",
            "_view_count": null,
            "_view_module": "@jupyter-widgets/controls",
            "_view_module_version": "1.5.0",
            "_view_name": "HTMLView",
            "description": "",
            "description_tooltip": null,
            "layout": "IPY_MODEL_317ceae08ace44f69cd2c7751cee765a",
            "placeholder": "​",
            "style": "IPY_MODEL_ed287d087f0f44e8947eb1a8ffd84909",
            "value": "Validation DataLoader 0: 100%"
          }
        },
        "802f967cc1044e6aa7f9b256e65142b3": {
          "model_module": "@jupyter-widgets/controls",
          "model_name": "FloatProgressModel",
          "model_module_version": "1.5.0",
          "state": {
            "_dom_classes": [],
            "_model_module": "@jupyter-widgets/controls",
            "_model_module_version": "1.5.0",
            "_model_name": "FloatProgressModel",
            "_view_count": null,
            "_view_module": "@jupyter-widgets/controls",
            "_view_module_version": "1.5.0",
            "_view_name": "ProgressView",
            "bar_style": "",
            "description": "",
            "description_tooltip": null,
            "layout": "IPY_MODEL_e17bb27751a44245846084be5f7e94dc",
            "max": 375,
            "min": 0,
            "orientation": "horizontal",
            "style": "IPY_MODEL_c1fc0ebc8ad84bbb8c43a8cba85b8702",
            "value": 375
          }
        },
        "70e1009bcc114109acef0364391a2918": {
          "model_module": "@jupyter-widgets/controls",
          "model_name": "HTMLModel",
          "model_module_version": "1.5.0",
          "state": {
            "_dom_classes": [],
            "_model_module": "@jupyter-widgets/controls",
            "_model_module_version": "1.5.0",
            "_model_name": "HTMLModel",
            "_view_count": null,
            "_view_module": "@jupyter-widgets/controls",
            "_view_module_version": "1.5.0",
            "_view_name": "HTMLView",
            "description": "",
            "description_tooltip": null,
            "layout": "IPY_MODEL_b96f47e77301488a9388d4c6dc4ebfbf",
            "placeholder": "​",
            "style": "IPY_MODEL_9395ce9f1a21474a81a5efe806e4d7ae",
            "value": " 375/375 [00:05&lt;00:00, 74.81it/s]"
          }
        },
        "488495d002df45ec9d5030a2d621f537": {
          "model_module": "@jupyter-widgets/base",
          "model_name": "LayoutModel",
          "model_module_version": "1.2.0",
          "state": {
            "_model_module": "@jupyter-widgets/base",
            "_model_module_version": "1.2.0",
            "_model_name": "LayoutModel",
            "_view_count": null,
            "_view_module": "@jupyter-widgets/base",
            "_view_module_version": "1.2.0",
            "_view_name": "LayoutView",
            "align_content": null,
            "align_items": null,
            "align_self": null,
            "border": null,
            "bottom": null,
            "display": "inline-flex",
            "flex": null,
            "flex_flow": "row wrap",
            "grid_area": null,
            "grid_auto_columns": null,
            "grid_auto_flow": null,
            "grid_auto_rows": null,
            "grid_column": null,
            "grid_gap": null,
            "grid_row": null,
            "grid_template_areas": null,
            "grid_template_columns": null,
            "grid_template_rows": null,
            "height": null,
            "justify_content": null,
            "justify_items": null,
            "left": null,
            "margin": null,
            "max_height": null,
            "max_width": null,
            "min_height": null,
            "min_width": null,
            "object_fit": null,
            "object_position": null,
            "order": null,
            "overflow": null,
            "overflow_x": null,
            "overflow_y": null,
            "padding": null,
            "right": null,
            "top": null,
            "visibility": "hidden",
            "width": "100%"
          }
        },
        "317ceae08ace44f69cd2c7751cee765a": {
          "model_module": "@jupyter-widgets/base",
          "model_name": "LayoutModel",
          "model_module_version": "1.2.0",
          "state": {
            "_model_module": "@jupyter-widgets/base",
            "_model_module_version": "1.2.0",
            "_model_name": "LayoutModel",
            "_view_count": null,
            "_view_module": "@jupyter-widgets/base",
            "_view_module_version": "1.2.0",
            "_view_name": "LayoutView",
            "align_content": null,
            "align_items": null,
            "align_self": null,
            "border": null,
            "bottom": null,
            "display": null,
            "flex": null,
            "flex_flow": null,
            "grid_area": null,
            "grid_auto_columns": null,
            "grid_auto_flow": null,
            "grid_auto_rows": null,
            "grid_column": null,
            "grid_gap": null,
            "grid_row": null,
            "grid_template_areas": null,
            "grid_template_columns": null,
            "grid_template_rows": null,
            "height": null,
            "justify_content": null,
            "justify_items": null,
            "left": null,
            "margin": null,
            "max_height": null,
            "max_width": null,
            "min_height": null,
            "min_width": null,
            "object_fit": null,
            "object_position": null,
            "order": null,
            "overflow": null,
            "overflow_x": null,
            "overflow_y": null,
            "padding": null,
            "right": null,
            "top": null,
            "visibility": null,
            "width": null
          }
        },
        "ed287d087f0f44e8947eb1a8ffd84909": {
          "model_module": "@jupyter-widgets/controls",
          "model_name": "DescriptionStyleModel",
          "model_module_version": "1.5.0",
          "state": {
            "_model_module": "@jupyter-widgets/controls",
            "_model_module_version": "1.5.0",
            "_model_name": "DescriptionStyleModel",
            "_view_count": null,
            "_view_module": "@jupyter-widgets/base",
            "_view_module_version": "1.2.0",
            "_view_name": "StyleView",
            "description_width": ""
          }
        },
        "e17bb27751a44245846084be5f7e94dc": {
          "model_module": "@jupyter-widgets/base",
          "model_name": "LayoutModel",
          "model_module_version": "1.2.0",
          "state": {
            "_model_module": "@jupyter-widgets/base",
            "_model_module_version": "1.2.0",
            "_model_name": "LayoutModel",
            "_view_count": null,
            "_view_module": "@jupyter-widgets/base",
            "_view_module_version": "1.2.0",
            "_view_name": "LayoutView",
            "align_content": null,
            "align_items": null,
            "align_self": null,
            "border": null,
            "bottom": null,
            "display": null,
            "flex": "2",
            "flex_flow": null,
            "grid_area": null,
            "grid_auto_columns": null,
            "grid_auto_flow": null,
            "grid_auto_rows": null,
            "grid_column": null,
            "grid_gap": null,
            "grid_row": null,
            "grid_template_areas": null,
            "grid_template_columns": null,
            "grid_template_rows": null,
            "height": null,
            "justify_content": null,
            "justify_items": null,
            "left": null,
            "margin": null,
            "max_height": null,
            "max_width": null,
            "min_height": null,
            "min_width": null,
            "object_fit": null,
            "object_position": null,
            "order": null,
            "overflow": null,
            "overflow_x": null,
            "overflow_y": null,
            "padding": null,
            "right": null,
            "top": null,
            "visibility": null,
            "width": null
          }
        },
        "c1fc0ebc8ad84bbb8c43a8cba85b8702": {
          "model_module": "@jupyter-widgets/controls",
          "model_name": "ProgressStyleModel",
          "model_module_version": "1.5.0",
          "state": {
            "_model_module": "@jupyter-widgets/controls",
            "_model_module_version": "1.5.0",
            "_model_name": "ProgressStyleModel",
            "_view_count": null,
            "_view_module": "@jupyter-widgets/base",
            "_view_module_version": "1.2.0",
            "_view_name": "StyleView",
            "bar_color": null,
            "description_width": ""
          }
        },
        "b96f47e77301488a9388d4c6dc4ebfbf": {
          "model_module": "@jupyter-widgets/base",
          "model_name": "LayoutModel",
          "model_module_version": "1.2.0",
          "state": {
            "_model_module": "@jupyter-widgets/base",
            "_model_module_version": "1.2.0",
            "_model_name": "LayoutModel",
            "_view_count": null,
            "_view_module": "@jupyter-widgets/base",
            "_view_module_version": "1.2.0",
            "_view_name": "LayoutView",
            "align_content": null,
            "align_items": null,
            "align_self": null,
            "border": null,
            "bottom": null,
            "display": null,
            "flex": null,
            "flex_flow": null,
            "grid_area": null,
            "grid_auto_columns": null,
            "grid_auto_flow": null,
            "grid_auto_rows": null,
            "grid_column": null,
            "grid_gap": null,
            "grid_row": null,
            "grid_template_areas": null,
            "grid_template_columns": null,
            "grid_template_rows": null,
            "height": null,
            "justify_content": null,
            "justify_items": null,
            "left": null,
            "margin": null,
            "max_height": null,
            "max_width": null,
            "min_height": null,
            "min_width": null,
            "object_fit": null,
            "object_position": null,
            "order": null,
            "overflow": null,
            "overflow_x": null,
            "overflow_y": null,
            "padding": null,
            "right": null,
            "top": null,
            "visibility": null,
            "width": null
          }
        },
        "9395ce9f1a21474a81a5efe806e4d7ae": {
          "model_module": "@jupyter-widgets/controls",
          "model_name": "DescriptionStyleModel",
          "model_module_version": "1.5.0",
          "state": {
            "_model_module": "@jupyter-widgets/controls",
            "_model_module_version": "1.5.0",
            "_model_name": "DescriptionStyleModel",
            "_view_count": null,
            "_view_module": "@jupyter-widgets/base",
            "_view_module_version": "1.2.0",
            "_view_name": "StyleView",
            "description_width": ""
          }
        },
        "3896f70c697a423b902547209206a3d7": {
          "model_module": "@jupyter-widgets/controls",
          "model_name": "HBoxModel",
          "model_module_version": "1.5.0",
          "state": {
            "_dom_classes": [],
            "_model_module": "@jupyter-widgets/controls",
            "_model_module_version": "1.5.0",
            "_model_name": "HBoxModel",
            "_view_count": null,
            "_view_module": "@jupyter-widgets/controls",
            "_view_module_version": "1.5.0",
            "_view_name": "HBoxView",
            "box_style": "",
            "children": [
              "IPY_MODEL_d45abd8aa7f947699ff4ebdfc5eb9808",
              "IPY_MODEL_fa5444f6f4064d7db571a6913593dc00",
              "IPY_MODEL_509f08e02580471d818c3fc963d01346"
            ],
            "layout": "IPY_MODEL_6390fa6f3ffa4e5eb67fc415a169eb66"
          }
        },
        "d45abd8aa7f947699ff4ebdfc5eb9808": {
          "model_module": "@jupyter-widgets/controls",
          "model_name": "HTMLModel",
          "model_module_version": "1.5.0",
          "state": {
            "_dom_classes": [],
            "_model_module": "@jupyter-widgets/controls",
            "_model_module_version": "1.5.0",
            "_model_name": "HTMLModel",
            "_view_count": null,
            "_view_module": "@jupyter-widgets/controls",
            "_view_module_version": "1.5.0",
            "_view_name": "HTMLView",
            "description": "",
            "description_tooltip": null,
            "layout": "IPY_MODEL_290521641bdd43e3be695d3e40eae74f",
            "placeholder": "​",
            "style": "IPY_MODEL_2811dca2c09c493e9fd68c1313ec0707",
            "value": "Validation DataLoader 0: 100%"
          }
        },
        "fa5444f6f4064d7db571a6913593dc00": {
          "model_module": "@jupyter-widgets/controls",
          "model_name": "FloatProgressModel",
          "model_module_version": "1.5.0",
          "state": {
            "_dom_classes": [],
            "_model_module": "@jupyter-widgets/controls",
            "_model_module_version": "1.5.0",
            "_model_name": "FloatProgressModel",
            "_view_count": null,
            "_view_module": "@jupyter-widgets/controls",
            "_view_module_version": "1.5.0",
            "_view_name": "ProgressView",
            "bar_style": "",
            "description": "",
            "description_tooltip": null,
            "layout": "IPY_MODEL_c1b09d26a0bf4ea28ef9a233b9e9ea5b",
            "max": 375,
            "min": 0,
            "orientation": "horizontal",
            "style": "IPY_MODEL_99c37d7d497a4b7eb26afb6ce41c076c",
            "value": 375
          }
        },
        "509f08e02580471d818c3fc963d01346": {
          "model_module": "@jupyter-widgets/controls",
          "model_name": "HTMLModel",
          "model_module_version": "1.5.0",
          "state": {
            "_dom_classes": [],
            "_model_module": "@jupyter-widgets/controls",
            "_model_module_version": "1.5.0",
            "_model_name": "HTMLModel",
            "_view_count": null,
            "_view_module": "@jupyter-widgets/controls",
            "_view_module_version": "1.5.0",
            "_view_name": "HTMLView",
            "description": "",
            "description_tooltip": null,
            "layout": "IPY_MODEL_238c956d4f044d30b9617cf7d74a71db",
            "placeholder": "​",
            "style": "IPY_MODEL_8762386670434738a104e2e0b5746c10",
            "value": " 375/375 [00:03&lt;00:00, 114.33it/s]"
          }
        },
        "6390fa6f3ffa4e5eb67fc415a169eb66": {
          "model_module": "@jupyter-widgets/base",
          "model_name": "LayoutModel",
          "model_module_version": "1.2.0",
          "state": {
            "_model_module": "@jupyter-widgets/base",
            "_model_module_version": "1.2.0",
            "_model_name": "LayoutModel",
            "_view_count": null,
            "_view_module": "@jupyter-widgets/base",
            "_view_module_version": "1.2.0",
            "_view_name": "LayoutView",
            "align_content": null,
            "align_items": null,
            "align_self": null,
            "border": null,
            "bottom": null,
            "display": "inline-flex",
            "flex": null,
            "flex_flow": "row wrap",
            "grid_area": null,
            "grid_auto_columns": null,
            "grid_auto_flow": null,
            "grid_auto_rows": null,
            "grid_column": null,
            "grid_gap": null,
            "grid_row": null,
            "grid_template_areas": null,
            "grid_template_columns": null,
            "grid_template_rows": null,
            "height": null,
            "justify_content": null,
            "justify_items": null,
            "left": null,
            "margin": null,
            "max_height": null,
            "max_width": null,
            "min_height": null,
            "min_width": null,
            "object_fit": null,
            "object_position": null,
            "order": null,
            "overflow": null,
            "overflow_x": null,
            "overflow_y": null,
            "padding": null,
            "right": null,
            "top": null,
            "visibility": "hidden",
            "width": "100%"
          }
        },
        "290521641bdd43e3be695d3e40eae74f": {
          "model_module": "@jupyter-widgets/base",
          "model_name": "LayoutModel",
          "model_module_version": "1.2.0",
          "state": {
            "_model_module": "@jupyter-widgets/base",
            "_model_module_version": "1.2.0",
            "_model_name": "LayoutModel",
            "_view_count": null,
            "_view_module": "@jupyter-widgets/base",
            "_view_module_version": "1.2.0",
            "_view_name": "LayoutView",
            "align_content": null,
            "align_items": null,
            "align_self": null,
            "border": null,
            "bottom": null,
            "display": null,
            "flex": null,
            "flex_flow": null,
            "grid_area": null,
            "grid_auto_columns": null,
            "grid_auto_flow": null,
            "grid_auto_rows": null,
            "grid_column": null,
            "grid_gap": null,
            "grid_row": null,
            "grid_template_areas": null,
            "grid_template_columns": null,
            "grid_template_rows": null,
            "height": null,
            "justify_content": null,
            "justify_items": null,
            "left": null,
            "margin": null,
            "max_height": null,
            "max_width": null,
            "min_height": null,
            "min_width": null,
            "object_fit": null,
            "object_position": null,
            "order": null,
            "overflow": null,
            "overflow_x": null,
            "overflow_y": null,
            "padding": null,
            "right": null,
            "top": null,
            "visibility": null,
            "width": null
          }
        },
        "2811dca2c09c493e9fd68c1313ec0707": {
          "model_module": "@jupyter-widgets/controls",
          "model_name": "DescriptionStyleModel",
          "model_module_version": "1.5.0",
          "state": {
            "_model_module": "@jupyter-widgets/controls",
            "_model_module_version": "1.5.0",
            "_model_name": "DescriptionStyleModel",
            "_view_count": null,
            "_view_module": "@jupyter-widgets/base",
            "_view_module_version": "1.2.0",
            "_view_name": "StyleView",
            "description_width": ""
          }
        },
        "c1b09d26a0bf4ea28ef9a233b9e9ea5b": {
          "model_module": "@jupyter-widgets/base",
          "model_name": "LayoutModel",
          "model_module_version": "1.2.0",
          "state": {
            "_model_module": "@jupyter-widgets/base",
            "_model_module_version": "1.2.0",
            "_model_name": "LayoutModel",
            "_view_count": null,
            "_view_module": "@jupyter-widgets/base",
            "_view_module_version": "1.2.0",
            "_view_name": "LayoutView",
            "align_content": null,
            "align_items": null,
            "align_self": null,
            "border": null,
            "bottom": null,
            "display": null,
            "flex": "2",
            "flex_flow": null,
            "grid_area": null,
            "grid_auto_columns": null,
            "grid_auto_flow": null,
            "grid_auto_rows": null,
            "grid_column": null,
            "grid_gap": null,
            "grid_row": null,
            "grid_template_areas": null,
            "grid_template_columns": null,
            "grid_template_rows": null,
            "height": null,
            "justify_content": null,
            "justify_items": null,
            "left": null,
            "margin": null,
            "max_height": null,
            "max_width": null,
            "min_height": null,
            "min_width": null,
            "object_fit": null,
            "object_position": null,
            "order": null,
            "overflow": null,
            "overflow_x": null,
            "overflow_y": null,
            "padding": null,
            "right": null,
            "top": null,
            "visibility": null,
            "width": null
          }
        },
        "99c37d7d497a4b7eb26afb6ce41c076c": {
          "model_module": "@jupyter-widgets/controls",
          "model_name": "ProgressStyleModel",
          "model_module_version": "1.5.0",
          "state": {
            "_model_module": "@jupyter-widgets/controls",
            "_model_module_version": "1.5.0",
            "_model_name": "ProgressStyleModel",
            "_view_count": null,
            "_view_module": "@jupyter-widgets/base",
            "_view_module_version": "1.2.0",
            "_view_name": "StyleView",
            "bar_color": null,
            "description_width": ""
          }
        },
        "238c956d4f044d30b9617cf7d74a71db": {
          "model_module": "@jupyter-widgets/base",
          "model_name": "LayoutModel",
          "model_module_version": "1.2.0",
          "state": {
            "_model_module": "@jupyter-widgets/base",
            "_model_module_version": "1.2.0",
            "_model_name": "LayoutModel",
            "_view_count": null,
            "_view_module": "@jupyter-widgets/base",
            "_view_module_version": "1.2.0",
            "_view_name": "LayoutView",
            "align_content": null,
            "align_items": null,
            "align_self": null,
            "border": null,
            "bottom": null,
            "display": null,
            "flex": null,
            "flex_flow": null,
            "grid_area": null,
            "grid_auto_columns": null,
            "grid_auto_flow": null,
            "grid_auto_rows": null,
            "grid_column": null,
            "grid_gap": null,
            "grid_row": null,
            "grid_template_areas": null,
            "grid_template_columns": null,
            "grid_template_rows": null,
            "height": null,
            "justify_content": null,
            "justify_items": null,
            "left": null,
            "margin": null,
            "max_height": null,
            "max_width": null,
            "min_height": null,
            "min_width": null,
            "object_fit": null,
            "object_position": null,
            "order": null,
            "overflow": null,
            "overflow_x": null,
            "overflow_y": null,
            "padding": null,
            "right": null,
            "top": null,
            "visibility": null,
            "width": null
          }
        },
        "8762386670434738a104e2e0b5746c10": {
          "model_module": "@jupyter-widgets/controls",
          "model_name": "DescriptionStyleModel",
          "model_module_version": "1.5.0",
          "state": {
            "_model_module": "@jupyter-widgets/controls",
            "_model_module_version": "1.5.0",
            "_model_name": "DescriptionStyleModel",
            "_view_count": null,
            "_view_module": "@jupyter-widgets/base",
            "_view_module_version": "1.2.0",
            "_view_name": "StyleView",
            "description_width": ""
          }
        },
        "3dd65d60f2464d2db0b43d1cbd45b4e1": {
          "model_module": "@jupyter-widgets/controls",
          "model_name": "HBoxModel",
          "model_module_version": "1.5.0",
          "state": {
            "_dom_classes": [],
            "_model_module": "@jupyter-widgets/controls",
            "_model_module_version": "1.5.0",
            "_model_name": "HBoxModel",
            "_view_count": null,
            "_view_module": "@jupyter-widgets/controls",
            "_view_module_version": "1.5.0",
            "_view_name": "HBoxView",
            "box_style": "",
            "children": [
              "IPY_MODEL_a9f64db5ac8240019d64b717b50fa481",
              "IPY_MODEL_6b406cc7f09b405d995db7368d960d1e",
              "IPY_MODEL_03e83ee31fb545c28ff1ca2fdef61f83"
            ],
            "layout": "IPY_MODEL_67d23ad2202f40c4b4e3aadac6d22032"
          }
        },
        "a9f64db5ac8240019d64b717b50fa481": {
          "model_module": "@jupyter-widgets/controls",
          "model_name": "HTMLModel",
          "model_module_version": "1.5.0",
          "state": {
            "_dom_classes": [],
            "_model_module": "@jupyter-widgets/controls",
            "_model_module_version": "1.5.0",
            "_model_name": "HTMLModel",
            "_view_count": null,
            "_view_module": "@jupyter-widgets/controls",
            "_view_module_version": "1.5.0",
            "_view_name": "HTMLView",
            "description": "",
            "description_tooltip": null,
            "layout": "IPY_MODEL_e3fba2452faf4b76ba3282a67a455c32",
            "placeholder": "​",
            "style": "IPY_MODEL_1d659f5dd895417c8fd0148fbeb15bc1",
            "value": "Validation DataLoader 0: 100%"
          }
        },
        "6b406cc7f09b405d995db7368d960d1e": {
          "model_module": "@jupyter-widgets/controls",
          "model_name": "FloatProgressModel",
          "model_module_version": "1.5.0",
          "state": {
            "_dom_classes": [],
            "_model_module": "@jupyter-widgets/controls",
            "_model_module_version": "1.5.0",
            "_model_name": "FloatProgressModel",
            "_view_count": null,
            "_view_module": "@jupyter-widgets/controls",
            "_view_module_version": "1.5.0",
            "_view_name": "ProgressView",
            "bar_style": "",
            "description": "",
            "description_tooltip": null,
            "layout": "IPY_MODEL_33b98b1cbc7643d5abbbdd81e866a1bf",
            "max": 375,
            "min": 0,
            "orientation": "horizontal",
            "style": "IPY_MODEL_81e90a7790cb4c32a4aae704c8b11cc9",
            "value": 375
          }
        },
        "03e83ee31fb545c28ff1ca2fdef61f83": {
          "model_module": "@jupyter-widgets/controls",
          "model_name": "HTMLModel",
          "model_module_version": "1.5.0",
          "state": {
            "_dom_classes": [],
            "_model_module": "@jupyter-widgets/controls",
            "_model_module_version": "1.5.0",
            "_model_name": "HTMLModel",
            "_view_count": null,
            "_view_module": "@jupyter-widgets/controls",
            "_view_module_version": "1.5.0",
            "_view_name": "HTMLView",
            "description": "",
            "description_tooltip": null,
            "layout": "IPY_MODEL_e119c4902e1046919b0c9ed51e08bf39",
            "placeholder": "​",
            "style": "IPY_MODEL_054ea739a1a74689a704c73ee8a7b201",
            "value": " 375/375 [00:03&lt;00:00, 121.32it/s]"
          }
        },
        "67d23ad2202f40c4b4e3aadac6d22032": {
          "model_module": "@jupyter-widgets/base",
          "model_name": "LayoutModel",
          "model_module_version": "1.2.0",
          "state": {
            "_model_module": "@jupyter-widgets/base",
            "_model_module_version": "1.2.0",
            "_model_name": "LayoutModel",
            "_view_count": null,
            "_view_module": "@jupyter-widgets/base",
            "_view_module_version": "1.2.0",
            "_view_name": "LayoutView",
            "align_content": null,
            "align_items": null,
            "align_self": null,
            "border": null,
            "bottom": null,
            "display": "inline-flex",
            "flex": null,
            "flex_flow": "row wrap",
            "grid_area": null,
            "grid_auto_columns": null,
            "grid_auto_flow": null,
            "grid_auto_rows": null,
            "grid_column": null,
            "grid_gap": null,
            "grid_row": null,
            "grid_template_areas": null,
            "grid_template_columns": null,
            "grid_template_rows": null,
            "height": null,
            "justify_content": null,
            "justify_items": null,
            "left": null,
            "margin": null,
            "max_height": null,
            "max_width": null,
            "min_height": null,
            "min_width": null,
            "object_fit": null,
            "object_position": null,
            "order": null,
            "overflow": null,
            "overflow_x": null,
            "overflow_y": null,
            "padding": null,
            "right": null,
            "top": null,
            "visibility": "hidden",
            "width": "100%"
          }
        },
        "e3fba2452faf4b76ba3282a67a455c32": {
          "model_module": "@jupyter-widgets/base",
          "model_name": "LayoutModel",
          "model_module_version": "1.2.0",
          "state": {
            "_model_module": "@jupyter-widgets/base",
            "_model_module_version": "1.2.0",
            "_model_name": "LayoutModel",
            "_view_count": null,
            "_view_module": "@jupyter-widgets/base",
            "_view_module_version": "1.2.0",
            "_view_name": "LayoutView",
            "align_content": null,
            "align_items": null,
            "align_self": null,
            "border": null,
            "bottom": null,
            "display": null,
            "flex": null,
            "flex_flow": null,
            "grid_area": null,
            "grid_auto_columns": null,
            "grid_auto_flow": null,
            "grid_auto_rows": null,
            "grid_column": null,
            "grid_gap": null,
            "grid_row": null,
            "grid_template_areas": null,
            "grid_template_columns": null,
            "grid_template_rows": null,
            "height": null,
            "justify_content": null,
            "justify_items": null,
            "left": null,
            "margin": null,
            "max_height": null,
            "max_width": null,
            "min_height": null,
            "min_width": null,
            "object_fit": null,
            "object_position": null,
            "order": null,
            "overflow": null,
            "overflow_x": null,
            "overflow_y": null,
            "padding": null,
            "right": null,
            "top": null,
            "visibility": null,
            "width": null
          }
        },
        "1d659f5dd895417c8fd0148fbeb15bc1": {
          "model_module": "@jupyter-widgets/controls",
          "model_name": "DescriptionStyleModel",
          "model_module_version": "1.5.0",
          "state": {
            "_model_module": "@jupyter-widgets/controls",
            "_model_module_version": "1.5.0",
            "_model_name": "DescriptionStyleModel",
            "_view_count": null,
            "_view_module": "@jupyter-widgets/base",
            "_view_module_version": "1.2.0",
            "_view_name": "StyleView",
            "description_width": ""
          }
        },
        "33b98b1cbc7643d5abbbdd81e866a1bf": {
          "model_module": "@jupyter-widgets/base",
          "model_name": "LayoutModel",
          "model_module_version": "1.2.0",
          "state": {
            "_model_module": "@jupyter-widgets/base",
            "_model_module_version": "1.2.0",
            "_model_name": "LayoutModel",
            "_view_count": null,
            "_view_module": "@jupyter-widgets/base",
            "_view_module_version": "1.2.0",
            "_view_name": "LayoutView",
            "align_content": null,
            "align_items": null,
            "align_self": null,
            "border": null,
            "bottom": null,
            "display": null,
            "flex": "2",
            "flex_flow": null,
            "grid_area": null,
            "grid_auto_columns": null,
            "grid_auto_flow": null,
            "grid_auto_rows": null,
            "grid_column": null,
            "grid_gap": null,
            "grid_row": null,
            "grid_template_areas": null,
            "grid_template_columns": null,
            "grid_template_rows": null,
            "height": null,
            "justify_content": null,
            "justify_items": null,
            "left": null,
            "margin": null,
            "max_height": null,
            "max_width": null,
            "min_height": null,
            "min_width": null,
            "object_fit": null,
            "object_position": null,
            "order": null,
            "overflow": null,
            "overflow_x": null,
            "overflow_y": null,
            "padding": null,
            "right": null,
            "top": null,
            "visibility": null,
            "width": null
          }
        },
        "81e90a7790cb4c32a4aae704c8b11cc9": {
          "model_module": "@jupyter-widgets/controls",
          "model_name": "ProgressStyleModel",
          "model_module_version": "1.5.0",
          "state": {
            "_model_module": "@jupyter-widgets/controls",
            "_model_module_version": "1.5.0",
            "_model_name": "ProgressStyleModel",
            "_view_count": null,
            "_view_module": "@jupyter-widgets/base",
            "_view_module_version": "1.2.0",
            "_view_name": "StyleView",
            "bar_color": null,
            "description_width": ""
          }
        },
        "e119c4902e1046919b0c9ed51e08bf39": {
          "model_module": "@jupyter-widgets/base",
          "model_name": "LayoutModel",
          "model_module_version": "1.2.0",
          "state": {
            "_model_module": "@jupyter-widgets/base",
            "_model_module_version": "1.2.0",
            "_model_name": "LayoutModel",
            "_view_count": null,
            "_view_module": "@jupyter-widgets/base",
            "_view_module_version": "1.2.0",
            "_view_name": "LayoutView",
            "align_content": null,
            "align_items": null,
            "align_self": null,
            "border": null,
            "bottom": null,
            "display": null,
            "flex": null,
            "flex_flow": null,
            "grid_area": null,
            "grid_auto_columns": null,
            "grid_auto_flow": null,
            "grid_auto_rows": null,
            "grid_column": null,
            "grid_gap": null,
            "grid_row": null,
            "grid_template_areas": null,
            "grid_template_columns": null,
            "grid_template_rows": null,
            "height": null,
            "justify_content": null,
            "justify_items": null,
            "left": null,
            "margin": null,
            "max_height": null,
            "max_width": null,
            "min_height": null,
            "min_width": null,
            "object_fit": null,
            "object_position": null,
            "order": null,
            "overflow": null,
            "overflow_x": null,
            "overflow_y": null,
            "padding": null,
            "right": null,
            "top": null,
            "visibility": null,
            "width": null
          }
        },
        "054ea739a1a74689a704c73ee8a7b201": {
          "model_module": "@jupyter-widgets/controls",
          "model_name": "DescriptionStyleModel",
          "model_module_version": "1.5.0",
          "state": {
            "_model_module": "@jupyter-widgets/controls",
            "_model_module_version": "1.5.0",
            "_model_name": "DescriptionStyleModel",
            "_view_count": null,
            "_view_module": "@jupyter-widgets/base",
            "_view_module_version": "1.2.0",
            "_view_name": "StyleView",
            "description_width": ""
          }
        },
        "4b169a5abb294c7b9a0863868b62cb80": {
          "model_module": "@jupyter-widgets/controls",
          "model_name": "HBoxModel",
          "model_module_version": "1.5.0",
          "state": {
            "_dom_classes": [],
            "_model_module": "@jupyter-widgets/controls",
            "_model_module_version": "1.5.0",
            "_model_name": "HBoxModel",
            "_view_count": null,
            "_view_module": "@jupyter-widgets/controls",
            "_view_module_version": "1.5.0",
            "_view_name": "HBoxView",
            "box_style": "",
            "children": [
              "IPY_MODEL_d98ba61815f34aef9f725c7c70c5960d",
              "IPY_MODEL_751e71b0efe64a6abdd5b793bd87f9e5",
              "IPY_MODEL_18aa9a7d3b0248638a5734564511d857"
            ],
            "layout": "IPY_MODEL_bfd722816e3c4547b5ea9ec8e2042460"
          }
        },
        "d98ba61815f34aef9f725c7c70c5960d": {
          "model_module": "@jupyter-widgets/controls",
          "model_name": "HTMLModel",
          "model_module_version": "1.5.0",
          "state": {
            "_dom_classes": [],
            "_model_module": "@jupyter-widgets/controls",
            "_model_module_version": "1.5.0",
            "_model_name": "HTMLModel",
            "_view_count": null,
            "_view_module": "@jupyter-widgets/controls",
            "_view_module_version": "1.5.0",
            "_view_name": "HTMLView",
            "description": "",
            "description_tooltip": null,
            "layout": "IPY_MODEL_66f95b6d1309470ab207d3b491be0abe",
            "placeholder": "​",
            "style": "IPY_MODEL_ac62cdaf87734052a2152acae8f8abb0",
            "value": "Validation DataLoader 0: 100%"
          }
        },
        "751e71b0efe64a6abdd5b793bd87f9e5": {
          "model_module": "@jupyter-widgets/controls",
          "model_name": "FloatProgressModel",
          "model_module_version": "1.5.0",
          "state": {
            "_dom_classes": [],
            "_model_module": "@jupyter-widgets/controls",
            "_model_module_version": "1.5.0",
            "_model_name": "FloatProgressModel",
            "_view_count": null,
            "_view_module": "@jupyter-widgets/controls",
            "_view_module_version": "1.5.0",
            "_view_name": "ProgressView",
            "bar_style": "",
            "description": "",
            "description_tooltip": null,
            "layout": "IPY_MODEL_da9f8594d40947ce9401c44f01f5f773",
            "max": 375,
            "min": 0,
            "orientation": "horizontal",
            "style": "IPY_MODEL_c8d41dea782548baaf633227e51bb019",
            "value": 375
          }
        },
        "18aa9a7d3b0248638a5734564511d857": {
          "model_module": "@jupyter-widgets/controls",
          "model_name": "HTMLModel",
          "model_module_version": "1.5.0",
          "state": {
            "_dom_classes": [],
            "_model_module": "@jupyter-widgets/controls",
            "_model_module_version": "1.5.0",
            "_model_name": "HTMLModel",
            "_view_count": null,
            "_view_module": "@jupyter-widgets/controls",
            "_view_module_version": "1.5.0",
            "_view_name": "HTMLView",
            "description": "",
            "description_tooltip": null,
            "layout": "IPY_MODEL_9b71713b184a494ca640434f98ac0c7f",
            "placeholder": "​",
            "style": "IPY_MODEL_ad89e54690da4fc0b33ff51adc60f920",
            "value": " 375/375 [00:04&lt;00:00, 90.01it/s]"
          }
        },
        "bfd722816e3c4547b5ea9ec8e2042460": {
          "model_module": "@jupyter-widgets/base",
          "model_name": "LayoutModel",
          "model_module_version": "1.2.0",
          "state": {
            "_model_module": "@jupyter-widgets/base",
            "_model_module_version": "1.2.0",
            "_model_name": "LayoutModel",
            "_view_count": null,
            "_view_module": "@jupyter-widgets/base",
            "_view_module_version": "1.2.0",
            "_view_name": "LayoutView",
            "align_content": null,
            "align_items": null,
            "align_self": null,
            "border": null,
            "bottom": null,
            "display": "inline-flex",
            "flex": null,
            "flex_flow": "row wrap",
            "grid_area": null,
            "grid_auto_columns": null,
            "grid_auto_flow": null,
            "grid_auto_rows": null,
            "grid_column": null,
            "grid_gap": null,
            "grid_row": null,
            "grid_template_areas": null,
            "grid_template_columns": null,
            "grid_template_rows": null,
            "height": null,
            "justify_content": null,
            "justify_items": null,
            "left": null,
            "margin": null,
            "max_height": null,
            "max_width": null,
            "min_height": null,
            "min_width": null,
            "object_fit": null,
            "object_position": null,
            "order": null,
            "overflow": null,
            "overflow_x": null,
            "overflow_y": null,
            "padding": null,
            "right": null,
            "top": null,
            "visibility": "hidden",
            "width": "100%"
          }
        },
        "66f95b6d1309470ab207d3b491be0abe": {
          "model_module": "@jupyter-widgets/base",
          "model_name": "LayoutModel",
          "model_module_version": "1.2.0",
          "state": {
            "_model_module": "@jupyter-widgets/base",
            "_model_module_version": "1.2.0",
            "_model_name": "LayoutModel",
            "_view_count": null,
            "_view_module": "@jupyter-widgets/base",
            "_view_module_version": "1.2.0",
            "_view_name": "LayoutView",
            "align_content": null,
            "align_items": null,
            "align_self": null,
            "border": null,
            "bottom": null,
            "display": null,
            "flex": null,
            "flex_flow": null,
            "grid_area": null,
            "grid_auto_columns": null,
            "grid_auto_flow": null,
            "grid_auto_rows": null,
            "grid_column": null,
            "grid_gap": null,
            "grid_row": null,
            "grid_template_areas": null,
            "grid_template_columns": null,
            "grid_template_rows": null,
            "height": null,
            "justify_content": null,
            "justify_items": null,
            "left": null,
            "margin": null,
            "max_height": null,
            "max_width": null,
            "min_height": null,
            "min_width": null,
            "object_fit": null,
            "object_position": null,
            "order": null,
            "overflow": null,
            "overflow_x": null,
            "overflow_y": null,
            "padding": null,
            "right": null,
            "top": null,
            "visibility": null,
            "width": null
          }
        },
        "ac62cdaf87734052a2152acae8f8abb0": {
          "model_module": "@jupyter-widgets/controls",
          "model_name": "DescriptionStyleModel",
          "model_module_version": "1.5.0",
          "state": {
            "_model_module": "@jupyter-widgets/controls",
            "_model_module_version": "1.5.0",
            "_model_name": "DescriptionStyleModel",
            "_view_count": null,
            "_view_module": "@jupyter-widgets/base",
            "_view_module_version": "1.2.0",
            "_view_name": "StyleView",
            "description_width": ""
          }
        },
        "da9f8594d40947ce9401c44f01f5f773": {
          "model_module": "@jupyter-widgets/base",
          "model_name": "LayoutModel",
          "model_module_version": "1.2.0",
          "state": {
            "_model_module": "@jupyter-widgets/base",
            "_model_module_version": "1.2.0",
            "_model_name": "LayoutModel",
            "_view_count": null,
            "_view_module": "@jupyter-widgets/base",
            "_view_module_version": "1.2.0",
            "_view_name": "LayoutView",
            "align_content": null,
            "align_items": null,
            "align_self": null,
            "border": null,
            "bottom": null,
            "display": null,
            "flex": "2",
            "flex_flow": null,
            "grid_area": null,
            "grid_auto_columns": null,
            "grid_auto_flow": null,
            "grid_auto_rows": null,
            "grid_column": null,
            "grid_gap": null,
            "grid_row": null,
            "grid_template_areas": null,
            "grid_template_columns": null,
            "grid_template_rows": null,
            "height": null,
            "justify_content": null,
            "justify_items": null,
            "left": null,
            "margin": null,
            "max_height": null,
            "max_width": null,
            "min_height": null,
            "min_width": null,
            "object_fit": null,
            "object_position": null,
            "order": null,
            "overflow": null,
            "overflow_x": null,
            "overflow_y": null,
            "padding": null,
            "right": null,
            "top": null,
            "visibility": null,
            "width": null
          }
        },
        "c8d41dea782548baaf633227e51bb019": {
          "model_module": "@jupyter-widgets/controls",
          "model_name": "ProgressStyleModel",
          "model_module_version": "1.5.0",
          "state": {
            "_model_module": "@jupyter-widgets/controls",
            "_model_module_version": "1.5.0",
            "_model_name": "ProgressStyleModel",
            "_view_count": null,
            "_view_module": "@jupyter-widgets/base",
            "_view_module_version": "1.2.0",
            "_view_name": "StyleView",
            "bar_color": null,
            "description_width": ""
          }
        },
        "9b71713b184a494ca640434f98ac0c7f": {
          "model_module": "@jupyter-widgets/base",
          "model_name": "LayoutModel",
          "model_module_version": "1.2.0",
          "state": {
            "_model_module": "@jupyter-widgets/base",
            "_model_module_version": "1.2.0",
            "_model_name": "LayoutModel",
            "_view_count": null,
            "_view_module": "@jupyter-widgets/base",
            "_view_module_version": "1.2.0",
            "_view_name": "LayoutView",
            "align_content": null,
            "align_items": null,
            "align_self": null,
            "border": null,
            "bottom": null,
            "display": null,
            "flex": null,
            "flex_flow": null,
            "grid_area": null,
            "grid_auto_columns": null,
            "grid_auto_flow": null,
            "grid_auto_rows": null,
            "grid_column": null,
            "grid_gap": null,
            "grid_row": null,
            "grid_template_areas": null,
            "grid_template_columns": null,
            "grid_template_rows": null,
            "height": null,
            "justify_content": null,
            "justify_items": null,
            "left": null,
            "margin": null,
            "max_height": null,
            "max_width": null,
            "min_height": null,
            "min_width": null,
            "object_fit": null,
            "object_position": null,
            "order": null,
            "overflow": null,
            "overflow_x": null,
            "overflow_y": null,
            "padding": null,
            "right": null,
            "top": null,
            "visibility": null,
            "width": null
          }
        },
        "ad89e54690da4fc0b33ff51adc60f920": {
          "model_module": "@jupyter-widgets/controls",
          "model_name": "DescriptionStyleModel",
          "model_module_version": "1.5.0",
          "state": {
            "_model_module": "@jupyter-widgets/controls",
            "_model_module_version": "1.5.0",
            "_model_name": "DescriptionStyleModel",
            "_view_count": null,
            "_view_module": "@jupyter-widgets/base",
            "_view_module_version": "1.2.0",
            "_view_name": "StyleView",
            "description_width": ""
          }
        }
      }
    }
  },
  "cells": [
    {
      "cell_type": "markdown",
      "source": [
        "# Вспомогательный код"
      ],
      "metadata": {
        "id": "GJUDdNB18nIW"
      }
    },
    {
      "cell_type": "code",
      "execution_count": null,
      "metadata": {
        "id": "SBffbGmdYsjm"
      },
      "outputs": [],
      "source": [
        "def exponential_smoothing(scalars, weight):\n",
        "    last = scalars[0]\n",
        "    smoothed = []\n",
        "    for point in scalars:\n",
        "        smoothed_val = last * weight + (1 - weight) * point\n",
        "        smoothed.append(smoothed_val)\n",
        "        last = smoothed_val\n",
        "\n",
        "    return smoothed"
      ]
    },
    {
      "cell_type": "code",
      "execution_count": null,
      "metadata": {
        "id": "En8yMoS7Ysjn"
      },
      "outputs": [],
      "source": [
        "import numpy as np\n",
        "import matplotlib.pyplot as plt\n",
        "import matplotlib.colors as mcolors\n",
        "\n",
        "\n",
        "class HistoryPlotter:\n",
        "    def __init__(self):\n",
        "        # dict for safe learning history\n",
        "        self._history_dict = {}\n",
        "\n",
        "    def add(self, history):\n",
        "        \"\"\"\n",
        "        Save learning history.\n",
        "        history: dict with keys: model_name, epoсhs, loss_on_train, loss_on_test\n",
        "        \"\"\"\n",
        "        self._history_dict[history[\"model_name\"]] = history\n",
        "        self.color_list = list(mcolors.TABLEAU_COLORS.keys())\n",
        "\n",
        "    def plot(self, models, show_smooth=True, smooth_val=0.90):\n",
        "        \"\"\"\n",
        "        Plot informatiom from self._history_dict.\n",
        "        models: list of model_name (len <= 5, or extend color_list)\n",
        "        \"\"\"\n",
        "        fig, ax = plt.subplots(3, 1, figsize=(10, 10))\n",
        "        for model_num, model_name in enumerate(models):\n",
        "            history = self._history_dict[model_name]\n",
        "            for idx, (key, title) in enumerate(\n",
        "                zip([\"loss_on_train\", \"loss_on_test\"], [\"train loss\", \"test loss\"])\n",
        "            ):\n",
        "                epoch_len = len(history[key]) // history[\"epoсhs\"]\n",
        "                loss_len = len(history[key])\n",
        "                ticks_positions = np.arange(history[\"epoсhs\"] + 1)\n",
        "\n",
        "                if show_smooth:\n",
        "                    x = np.arange(len(history[key])) / epoch_len\n",
        "                    # Plot train loss and test loss:\n",
        "                    # 1. plot smoothing vals\n",
        "                    ax[idx].plot(\n",
        "                        x,\n",
        "                        exponential_smoothing(history[key], smooth_val),\n",
        "                        label=model_name + \" smoothed\",\n",
        "                        color=self.color_list[2 * model_num + idx],\n",
        "                    )\n",
        "                    # 2. plot raw vals\n",
        "                    ax[idx].plot(\n",
        "                        x,\n",
        "                        history[key],\n",
        "                        label=model_name + \" raw\",\n",
        "                        alpha=0.2,\n",
        "                        color=self.color_list[2 * model_num + idx],\n",
        "                    )\n",
        "                    # 3. add descriptions if it is nesessary\n",
        "                    if not ax[idx].title.get_text():\n",
        "                        ax[idx].set_title(title)\n",
        "                        ax[idx].set_xlabel(\"epochs\")\n",
        "                        ax[idx].set_ylabel(\"loss\")\n",
        "                        ax[idx].set_xticks(ticks_positions)\n",
        "                        ax[idx].set_xticklabels(np.arange(history[\"epoсhs\"] + 1))\n",
        "                    ax[idx].legend()\n",
        "\n",
        "                # Plot mean train and test loss combined:\n",
        "                # 1. calculate mean and std\n",
        "                mean_loss_on_epoch = [\n",
        "                    np.mean(history[key][i : i + epoch_len])\n",
        "                    for i in range(0, loss_len, epoch_len)\n",
        "                ]\n",
        "                std_loss_on_epoch = [\n",
        "                    np.std(history[key][i : i + epoch_len])\n",
        "                    for i in range(0, loss_len, epoch_len)\n",
        "                ]\n",
        "                # 2. plot\n",
        "                ax[2].errorbar(\n",
        "                    np.arange(history[\"epoсhs\"]) + idx / 30.0,\n",
        "                    mean_loss_on_epoch,\n",
        "                    yerr=std_loss_on_epoch,\n",
        "                    capsize=5,\n",
        "                    fmt=\"X--\",\n",
        "                    label=model_name + \" \" + title,\n",
        "                )\n",
        "                # 3. add descriptions if it is necessary\n",
        "                if not ax[2].title.get_text():\n",
        "                    ax[2].set_title(\"\\nAverage loss per epoch\", {\"fontsize\": 12})\n",
        "                    ax[2].set_xticks(np.arange(history[\"epoсhs\"]))\n",
        "                    ax[2].set_xticklabels(np.arange(history[\"epoсhs\"]))\n",
        "                    ax[2].set_xlabel(\"epochs\")\n",
        "                    ax[2].set_ylabel(\"loss\")\n",
        "                ax[2].legend()\n",
        "        plt.subplots_adjust(hspace=0.4)\n",
        "        plt.show()"
      ]
    },
    {
      "cell_type": "code",
      "source": [
        "history_plotter = HistoryPlotter()"
      ],
      "metadata": {
        "id": "Smk10VuY-ZXO"
      },
      "execution_count": null,
      "outputs": []
    },
    {
      "cell_type": "code",
      "execution_count": null,
      "metadata": {
        "id": "Er8el8R9Ysjn",
        "colab": {
          "base_uri": "https://localhost:8080/"
        },
        "outputId": "2b1cd54f-3339-4bfc-b8ac-46187770c918"
      },
      "outputs": [
        {
          "output_type": "stream",
          "name": "stdout",
          "text": [
            "Already downloaded!\n"
          ]
        }
      ],
      "source": [
        "import torch\n",
        "import torchvision\n",
        "import torchvision.transforms as transforms\n",
        "from IPython.display import clear_output\n",
        "from torch.utils.data import DataLoader, random_split\n",
        "from torchvision.datasets import MNIST\n",
        "\n",
        "# transforms for data\n",
        "transform = transforms.Compose(\n",
        "    [transforms.ToTensor(), transforms.Normalize((0.13), (0.3))]\n",
        ")\n",
        "\n",
        "data_set = MNIST(root=\"./MNIST\", train=True, download=True, transform=transform)\n",
        "train_set, val_set = random_split(\n",
        "    data_set, [0.8, 0.2], generator=torch.Generator().manual_seed(42)\n",
        ")\n",
        "test_set = MNIST(root=\"./MNIST\", train=False, download=True, transform=transform)\n",
        "\n",
        "batch_size = 32\n",
        "train_loader = DataLoader(train_set, batch_size=batch_size, shuffle=True, num_workers=2)\n",
        "val_loader = DataLoader(val_set, batch_size=batch_size, shuffle=False, num_workers=2)\n",
        "test_loader = DataLoader(test_set, batch_size=batch_size, shuffle=False, num_workers=2)\n",
        "\n",
        "clear_output()\n",
        "print(\"Already downloaded!\")"
      ]
    },
    {
      "cell_type": "code",
      "execution_count": null,
      "metadata": {
        "id": "7_QwRtcgYsjo"
      },
      "outputs": [],
      "source": [
        "!pip install -q lightning tbparse\n",
        "clear_output()"
      ]
    },
    {
      "cell_type": "code",
      "execution_count": null,
      "metadata": {
        "id": "n9EnI_7gYsjo"
      },
      "outputs": [],
      "source": [
        "import torch\n",
        "from torch import nn\n",
        "import lightning as L\n",
        "\n",
        "\n",
        "class Pipeline(L.LightningModule):\n",
        "    def __init__(\n",
        "        self,\n",
        "        model,\n",
        "        exp_name=\"baseline\",\n",
        "        criterion=nn.CrossEntropyLoss(),\n",
        "        optimizer_class=torch.optim.SGD,\n",
        "        optimizer_kwargs={\"lr\": 0.001},\n",
        "    ) -> None:\n",
        "        super().__init__()\n",
        "        self.model = model\n",
        "        self.criterion = criterion\n",
        "        self.optimizer_class = optimizer_class\n",
        "        self.optimizer_kwargs = optimizer_kwargs\n",
        "\n",
        "        # Additionally, we will save training logs “manually”\n",
        "        # for visualization within the lecture. Please limit yourself\n",
        "        # to the native training logging tools from PytorchLightning\n",
        "        # when training your own models.\n",
        "        self.history = {\"loss_on_train\": [], \"loss_on_test\": [], \"model_name\": exp_name}\n",
        "\n",
        "    def configure_optimizers(self):\n",
        "        optimizer = self.optimizer_class(\n",
        "            self.model.parameters(), **self.optimizer_kwargs\n",
        "        )\n",
        "        return optimizer\n",
        "\n",
        "    def training_step(self, batch, batch_idx):\n",
        "        x, y = batch\n",
        "        out = self.model(x)\n",
        "        loss = self.criterion(out, y)\n",
        "        self.log(\"loss_on_train\", loss, prog_bar=True)\n",
        "\n",
        "        # aux logging for lecture visualization\n",
        "        self.history[\"loss_on_train\"].append(loss.cpu().detach().item())\n",
        "        return loss\n",
        "\n",
        "    def validation_step(self, batch, batch_idx):\n",
        "        x, y = batch\n",
        "        out = self.model(x)\n",
        "        loss = self.criterion(out, y)\n",
        "        self.log(\"loss_on_test\", loss, prog_bar=True)\n",
        "\n",
        "        # aux logging for lecture visualization\n",
        "        self.history[\"loss_on_test\"].append(loss.cpu().detach().item())"
      ]
    },
    {
      "cell_type": "code",
      "execution_count": null,
      "metadata": {
        "id": "hC4-duYi7aGs"
      },
      "outputs": [],
      "source": [
        "activation_type = \"sigmoid\"\n",
        "init_gain = torch.nn.init.calculate_gain(activation_type)\n",
        "\n",
        "\n",
        "def init_weights(m):\n",
        "    if isinstance(m, (nn.Linear,)):\n",
        "        torch.nn.init.xavier_normal_(m.weight, gain=init_gain)\n",
        "        if m.bias is not None:\n",
        "            torch.nn.init.zeros_(m.bias)"
      ]
    },
    {
      "cell_type": "code",
      "source": [
        "import torch.nn as nn\n",
        "\n",
        "\n",
        "class SimpleMNIST_NN(nn.Module):\n",
        "    def __init__(self, n_layers, activation=nn.Sigmoid):\n",
        "        super().__init__()\n",
        "        self.n_layers = n_layers  # Num of layers\n",
        "        self.activation = activation()\n",
        "        layers = [nn.Linear(28 * 28, 100), self.activation]  # input layer\n",
        "        for _ in range(n_layers - 1):  # append num of layers\n",
        "            layers.append(nn.Linear(100, 100))\n",
        "            layers.append(self.activation)\n",
        "        layers.append(nn.Linear(100, 10))  # 10 classes\n",
        "        self.layers = nn.Sequential(*layers)\n",
        "\n",
        "    def forward(self, x):\n",
        "        x = x.view(-1, 28 * 28)  # reshape to [-1, 784]\n",
        "        x = self.layers(x)\n",
        "        return x"
      ],
      "metadata": {
        "id": "t7dFuw1ToHtD"
      },
      "execution_count": null,
      "outputs": []
    },
    {
      "cell_type": "code",
      "execution_count": null,
      "metadata": {
        "id": "nU5Udxbm7aGt",
        "colab": {
          "base_uri": "https://localhost:8080/",
          "height": 410
        },
        "outputId": "bc6eb580-9551-4906-e4b0-7110ce384f8e"
      },
      "outputs": [
        {
          "output_type": "display_data",
          "data": {
            "text/plain": [
              "<Figure size 1200x400 with 1 Axes>"
            ],
            "image/png": "[encoded data removed]"
          },
          "metadata": {}
        }
      ],
      "source": [
        "model_name = \"n3_layers_sigmoid_havier\"\n",
        "model = SimpleMNIST_NN(n_layers=3)\n",
        "model.apply(init_weights)\n",
        "\n",
        "# plotting weights values of first(input layer)\n",
        "plt.figure(figsize=(12, 4))\n",
        "plt.hist(\n",
        "    list(model.layers.children())[0].weight.cpu().detach().numpy().reshape(-1), bins=100\n",
        ")\n",
        "plt.title(\"weights histogram\")\n",
        "plt.xlabel(\"values\")\n",
        "plt.ylabel(\"counts\")\n",
        "plt.show()"
      ]
    },
    {
      "cell_type": "code",
      "execution_count": null,
      "metadata": {
        "id": "fSt0sBxd7aGt",
        "colab": {
          "base_uri": "https://localhost:8080/",
          "height": 639,
          "referenced_widgets": [
            "198b404d0c9e47c49810e572aeae5ab5",
            "582d3b147a6042f8b919ab0925e673c7",
            "33bb0e8197fb4c59897c12de19056b60",
            "7bc215f1c2d04054bac62742f1d44820",
            "6f73d1f3c79b43b7b2fe408111110434",
            "1d75d7d4eef6433d8423f9e9a55ec96a",
            "d0c18b3021c7471f82866297043d6bff",
            "be32b7b7df04481ab1632f7bf80968f6",
            "4c99f69fd5f14473b5317a4fd48b9451",
            "79079d7602c24f32bbdfd21d6d3755af",
            "6762fb275b234bcd951baea950176943",
            "fbebb068c6df4523882e0a96d4357e20",
            "054b8f5f8dd8446799610650dcf99dd1",
            "b9b627b0881f4aebacc7e3dc9593d27a",
            "7e41a4d49009451fbb219769ab89c71c",
            "4d93a52d41224543bdd765bdda427d9d",
            "de8b91324cbf44c0859a6b2bc39a99b5",
            "270d8c79d4824dd49df186074342a703",
            "e6444b630f6a42379e92cdadb1842e62",
            "369cfea5539949778ee3eaf9230f5628",
            "b5b444428291438c96e7a904a199106f",
            "08cec1b1fc7d454388fb30d2711cc0f3",
            "236558396531436585030e14f38747b9",
            "a5f835c761f14b7da6cafda10f4b78d3",
            "802f967cc1044e6aa7f9b256e65142b3",
            "70e1009bcc114109acef0364391a2918",
            "488495d002df45ec9d5030a2d621f537",
            "317ceae08ace44f69cd2c7751cee765a",
            "ed287d087f0f44e8947eb1a8ffd84909",
            "e17bb27751a44245846084be5f7e94dc",
            "c1fc0ebc8ad84bbb8c43a8cba85b8702",
            "b96f47e77301488a9388d4c6dc4ebfbf",
            "9395ce9f1a21474a81a5efe806e4d7ae",
            "3896f70c697a423b902547209206a3d7",
            "d45abd8aa7f947699ff4ebdfc5eb9808",
            "fa5444f6f4064d7db571a6913593dc00",
            "509f08e02580471d818c3fc963d01346",
            "6390fa6f3ffa4e5eb67fc415a169eb66",
            "290521641bdd43e3be695d3e40eae74f",
            "2811dca2c09c493e9fd68c1313ec0707",
            "c1b09d26a0bf4ea28ef9a233b9e9ea5b",
            "99c37d7d497a4b7eb26afb6ce41c076c",
            "238c956d4f044d30b9617cf7d74a71db",
            "8762386670434738a104e2e0b5746c10",
            "3dd65d60f2464d2db0b43d1cbd45b4e1",
            "a9f64db5ac8240019d64b717b50fa481",
            "6b406cc7f09b405d995db7368d960d1e",
            "03e83ee31fb545c28ff1ca2fdef61f83",
            "67d23ad2202f40c4b4e3aadac6d22032",
            "e3fba2452faf4b76ba3282a67a455c32",
            "1d659f5dd895417c8fd0148fbeb15bc1",
            "33b98b1cbc7643d5abbbdd81e866a1bf",
            "81e90a7790cb4c32a4aae704c8b11cc9",
            "e119c4902e1046919b0c9ed51e08bf39",
            "054ea739a1a74689a704c73ee8a7b201",
            "4b169a5abb294c7b9a0863868b62cb80",
            "d98ba61815f34aef9f725c7c70c5960d",
            "751e71b0efe64a6abdd5b793bd87f9e5",
            "18aa9a7d3b0248638a5734564511d857",
            "bfd722816e3c4547b5ea9ec8e2042460",
            "66f95b6d1309470ab207d3b491be0abe",
            "ac62cdaf87734052a2152acae8f8abb0",
            "da9f8594d40947ce9401c44f01f5f773",
            "c8d41dea782548baaf633227e51bb019",
            "9b71713b184a494ca640434f98ac0c7f",
            "ad89e54690da4fc0b33ff51adc60f920"
          ]
        },
        "outputId": "e7f045c1-7af2-4543-a159-7b0e5cebe857"
      },
      "outputs": [
        {
          "output_type": "stream",
          "name": "stderr",
          "text": [
            "INFO: GPU available: True (cuda), used: True\n",
            "INFO:lightning.pytorch.utilities.rank_zero:GPU available: True (cuda), used: True\n",
            "INFO: TPU available: False, using: 0 TPU cores\n",
            "INFO:lightning.pytorch.utilities.rank_zero:TPU available: False, using: 0 TPU cores\n",
            "INFO: HPU available: False, using: 0 HPUs\n",
            "INFO:lightning.pytorch.utilities.rank_zero:HPU available: False, using: 0 HPUs\n",
            "INFO: LOCAL_RANK: 0 - CUDA_VISIBLE_DEVICES: [0]\n",
            "INFO:lightning.pytorch.accelerators.cuda:LOCAL_RANK: 0 - CUDA_VISIBLE_DEVICES: [0]\n",
            "INFO: \n",
            "  | Name      | Type             | Params | Mode \n",
            "-------------------------------------------------------\n",
            "0 | model     | SimpleMNIST_NN   | 99.7 K | train\n",
            "1 | criterion | CrossEntropyLoss | 0      | train\n",
            "-------------------------------------------------------\n",
            "99.7 K    Trainable params\n",
            "0         Non-trainable params\n",
            "99.7 K    Total params\n",
            "0.399     Total estimated model params size (MB)\n",
            "8         Modules in train mode\n",
            "0         Modules in eval mode\n",
            "INFO:lightning.pytorch.callbacks.model_summary:\n",
            "  | Name      | Type             | Params | Mode \n",
            "-------------------------------------------------------\n",
            "0 | model     | SimpleMNIST_NN   | 99.7 K | train\n",
            "1 | criterion | CrossEntropyLoss | 0      | train\n",
            "-------------------------------------------------------\n",
            "99.7 K    Trainable params\n",
            "0         Non-trainable params\n",
            "99.7 K    Total params\n",
            "0.399     Total estimated model params size (MB)\n",
            "8         Modules in train mode\n",
            "0         Modules in eval mode\n"
          ]
        },
        {
          "output_type": "display_data",
          "data": {
            "text/plain": [
              "Training: |          | 0/? [00:00<?, ?it/s]"
            ],
            "application/vnd.jupyter.widget-view+json": {
              "version_major": 2,
              "version_minor": 0,
              "model_id": "198b404d0c9e47c49810e572aeae5ab5"
            }
          },
          "metadata": {}
        },
        {
          "output_type": "display_data",
          "data": {
            "text/plain": [
              "Validation: |          | 0/? [00:00<?, ?it/s]"
            ],
            "application/vnd.jupyter.widget-view+json": {
              "version_major": 2,
              "version_minor": 0,
              "model_id": "fbebb068c6df4523882e0a96d4357e20"
            }
          },
          "metadata": {}
        },
        {
          "output_type": "display_data",
          "data": {
            "text/plain": [
              "Validation: |          | 0/? [00:00<?, ?it/s]"
            ],
            "application/vnd.jupyter.widget-view+json": {
              "version_major": 2,
              "version_minor": 0,
              "model_id": "236558396531436585030e14f38747b9"
            }
          },
          "metadata": {}
        },
        {
          "output_type": "display_data",
          "data": {
            "text/plain": [
              "Validation: |          | 0/? [00:00<?, ?it/s]"
            ],
            "application/vnd.jupyter.widget-view+json": {
              "version_major": 2,
              "version_minor": 0,
              "model_id": "3896f70c697a423b902547209206a3d7"
            }
          },
          "metadata": {}
        },
        {
          "output_type": "display_data",
          "data": {
            "text/plain": [
              "Validation: |          | 0/? [00:00<?, ?it/s]"
            ],
            "application/vnd.jupyter.widget-view+json": {
              "version_major": 2,
              "version_minor": 0,
              "model_id": "3dd65d60f2464d2db0b43d1cbd45b4e1"
            }
          },
          "metadata": {}
        },
        {
          "output_type": "display_data",
          "data": {
            "text/plain": [
              "Validation: |          | 0/? [00:00<?, ?it/s]"
            ],
            "application/vnd.jupyter.widget-view+json": {
              "version_major": 2,
              "version_minor": 0,
              "model_id": "4b169a5abb294c7b9a0863868b62cb80"
            }
          },
          "metadata": {}
        },
        {
          "output_type": "stream",
          "name": "stderr",
          "text": [
            "INFO: `Trainer.fit` stopped: `max_epochs=5` reached.\n",
            "INFO:lightning.pytorch.utilities.rank_zero:`Trainer.fit` stopped: `max_epochs=5` reached.\n"
          ]
        }
      ],
      "source": [
        "from warnings import simplefilter\n",
        "from lightning.pytorch.loggers import TensorBoardLogger\n",
        "\n",
        "simplefilter(\"ignore\", category=RuntimeWarning)\n",
        "\n",
        "\n",
        "trainer = L.Trainer(\n",
        "    max_epochs=5,\n",
        "    logger=TensorBoardLogger(save_dir=f\"logs/{model_name}\"),\n",
        "    num_sanity_val_steps=0,\n",
        ")\n",
        "\n",
        "pipeline = Pipeline(model=model, exp_name=model_name)\n",
        "\n",
        "trainer.fit(model=pipeline, train_dataloaders=train_loader, val_dataloaders=val_loader)\n",
        "\n",
        "history = pipeline.history\n",
        "history[\"epoсhs\"] = trainer.max_epochs\n",
        "history_plotter.add(history)"
      ]
    },
    {
      "cell_type": "markdown",
      "metadata": {
        "id": "xcRSNO7sf3bB"
      },
      "source": [
        "# Регуляризация"
      ]
    },
    {
      "cell_type": "markdown",
      "metadata": {
        "id": "nU5JF0npf3bB"
      },
      "source": [
        "Второй способ улучшения сходимости нейросетей и борьбы с переобучением — введение регуляризации. Ее можно вводить несколькими способами."
      ]
    },
    {
      "cell_type": "markdown",
      "metadata": {
        "id": "NXXFHnC2f3bB"
      },
      "source": [
        "## L1, L2 регуляризации"
      ]
    },
    {
      "cell_type": "markdown",
      "metadata": {
        "id": "7HkNwUN5f3bB"
      },
      "source": [
        "Cамый простой способ — добавление штрафа к весам в функцию потерь. На сходимость нейросети это, правда, влияет слабо."
      ]
    },
    {
      "cell_type": "markdown",
      "metadata": {
        "id": "MfEeaaZ4f3bB"
      },
      "source": [
        "$$ \\text{Loss_reg} = \\text{loss} + \\lambda \\cdot \\text{reg}$$\n",
        "\n",
        "$$ \\text{reg}_{L1} = \\lambda \\sum |w_i| $$\n",
        "\n",
        "$$ \\text{reg}_{L2} = \\lambda \\sum w_i^2 $$"
      ]
    },
    {
      "cell_type": "markdown",
      "metadata": {
        "id": "sdweTLC1f3bB"
      },
      "source": [
        "<center><img src =\"https://ml.gan4x4.ru/msu/dep-2.1/L07/loss_landscape_with_regularization.gif\" width=\"800\"></center>\n",
        "\n",
        "<center><em>Source: <a href=\"https://people.eecs.berkeley.edu/~jrs/189/\">Introduction to Machine Learning\n",
        "</a></em></center>\n"
      ]
    },
    {
      "cell_type": "markdown",
      "metadata": {
        "id": "K3WWX5qif3bB"
      },
      "source": [
        "Иногда уже этого хватает, чтобы решить все проблемы. Напомним, что **L2** Loss приводит к большому числу маленьких ненулевых весов в сети, а **L1** Loss — к маленькому числу ненулевых весов (разреженной нейросети)."
      ]
    },
    {
      "cell_type": "markdown",
      "metadata": {
        "id": "wYt4YYj9f3bB"
      },
      "source": [
        "## Dropout"
      ]
    },
    {
      "cell_type": "markdown",
      "metadata": {
        "id": "IgCzDl9df3bB"
      },
      "source": [
        "Одним из распространенных именно в нейросетях методом регуляризации является **Dropout**."
      ]
    },
    {
      "cell_type": "markdown",
      "metadata": {
        "id": "ZqF2pMRRf3bB"
      },
      "source": [
        "<center><img src =\"https://ml.gan4x4.ru/msu/dev-2.2/L07/out/dropout.png\" width=\"700\"></center>"
      ]
    },
    {
      "cell_type": "markdown",
      "metadata": {
        "id": "BhgX3Wjof3bB"
      },
      "source": [
        "Состоит этот метод в следующем:\n",
        "\n",
        "1. Во время обучения мы с вероятностью $p$ **зануляем выход нейронов** слоя (например, $p = 0.5$).\n",
        "2. Зануленные нейроны не участвуют в данном `forward`, и поэтому градиент к ним при `backward` не идет.\n",
        "3. Сила регуляризации определяется вероятностью $p$: чем она больше, тем сильнее регуляризация."
      ]
    },
    {
      "cell_type": "markdown",
      "metadata": {
        "id": "t-zCxBiHf3bB"
      },
      "source": [
        "### Мотивация Dropout"
      ]
    },
    {
      "cell_type": "markdown",
      "metadata": {
        "id": "JgPJQovif3bB"
      },
      "source": [
        "#### Борьба с коадаптацией"
      ]
    },
    {
      "cell_type": "markdown",
      "metadata": {
        "id": "PQokw3Jtf3bB"
      },
      "source": [
        "Одной из  проблем при работе с глубокими сетями является **совместная адаптация нейронов**. Если все весовые коэффициенты обучаются вместе, некоторые соединения будут иметь больше возможностей прогнозирования, чем другие.\n",
        "\n",
        "**Часть нейронов** делает основную работу — **предсказывает**, а остальные могут вообще не вносить никакого вклада в итоговое предсказание. Или же другая картина: один нейрон делает **неверное предсказание**, другие его **исправляют**, и в итоге первый нейрон свои ошибки не исправляет.\n",
        "\n",
        "Можно попробовать понять, как это работает, через аналогию — конвейер по сборке машины: основную часть работы может исполнять небольшое количество работников. Другие работники могут лениться и передавать деталь, которая к ним поступила, без изменений или откручивать только что добавленные части. Если мы исключим эффективных работников, результат станет удручающим.\n",
        "\n",
        "Это явление называется **коадаптацией**. Его нельзя было предотвратить с помощью традиционной регуляризации, такой как **L1** или **L2**. А вот **Dropout** с этим хорошо борется."
      ]
    },
    {
      "cell_type": "markdown",
      "metadata": {
        "id": "ddqXmVlkf3bB"
      },
      "source": [
        "Отключая хорошо обученные нейроны, мы заставляем плохо обученные нейроны учиться.\n",
        "\n",
        "Отключая нейроны, которые исправляют ошибки других нейронов, мы заставляем ошибающиеся нейроны исправлять ошибки."
      ]
    },
    {
      "cell_type": "markdown",
      "metadata": {
        "id": "JXm9qaN4f3bC"
      },
      "source": [
        "На изображении ниже из [статьи про Dropout 🎓[article]](https://jmlr.org/papers/v15/srivastava14a.html), сравнение карт признаков для датасета **MNIST**. Слева нейросеть **без Dropout** , справа нейросеть с такой же архитектурой с использованием **Dropout**  ($p = 0.5$).\n",
        "\n",
        "Слева неструктурированные, беспорядочные паттерны, которые невозможно интерпретировать. Справа явно демонстрируется целенаправленное распределение весов, которое обнаруживает штрихи, края и пятна самостоятельно, нарушая их взаимозависимость с другими нейронами для выполнения этой работы."
      ]
    },
    {
      "cell_type": "markdown",
      "metadata": {
        "id": "v7_eq3ATf3bC"
      },
      "source": [
        "<center><img src =\"https://ml.gan4x4.ru/msu/dep-2.1/L07/compare_weights_with_dropout_and_without_dropout.png\" width=\"600\"></center>\n",
        "\n",
        "<center><em>Source: <a href=\"https://jmlr.org/papers/volume15/srivastava14a/srivastava14a.pdf\">Dropout: A Simple Way to Prevent Neural Networks from\n",
        "Overfitting</a></em></center>"
      ]
    },
    {
      "cell_type": "markdown",
      "metadata": {
        "id": "bHmQMUk9f3bC"
      },
      "source": [
        "#### Dropout как регуляризация"
      ]
    },
    {
      "cell_type": "markdown",
      "metadata": {
        "id": "bNI9ELLzf3bC"
      },
      "source": [
        "Фактически **Dropout** штрафует слишком сложные, неустойчивые решения. Добавляя в нейросеть **Dropout**, мы сообщаем ей, что решение, которое мы ожидаем, должно быть устойчиво к шуму."
      ]
    },
    {
      "cell_type": "markdown",
      "metadata": {
        "id": "j6qidKy_f3bC"
      },
      "source": [
        "#### Dropout как ансамбль"
      ]
    },
    {
      "cell_type": "markdown",
      "metadata": {
        "id": "NRE2-0zPf3bC"
      },
      "source": [
        "Можно рассматривать **Dropout** как **ансамбль нейросетей** со схожими параметрами, которые мы учим одновременно вместо того, чтобы учить каждую в отдельности, а затем результат их предсказания усредняем, [выключая Dropout в режиме eval ✏️[blog]](https://habr.com/ru/companies/wunderfund/articles/330814/).\n",
        "\n",
        "Таким образом возникает аналогия со случайным лесом: каждая из наших нейросетей легко выучивает выборку и переобучается — имеет низкий bias, но высокий variance. При этом, за счет временного отключения активаций, каждая нейросеть видит не все объекты, а только часть. Усредняя все эти предсказания, мы уменьшаем variance."
      ]
    },
    {
      "cell_type": "markdown",
      "metadata": {
        "id": "lA6G4tCkf3bC"
      },
      "source": [
        "#### Dropout помогает бороться с переобучением"
      ]
    },
    {
      "cell_type": "markdown",
      "metadata": {
        "id": "a5QsafDYf3bC"
      },
      "source": [
        "Dropout, в силу указанного выше, может хорошо помогать бороться с переобучением.\n",
        "\n"
      ]
    },
    {
      "cell_type": "markdown",
      "metadata": {
        "id": "QC1qpWhif3bC"
      },
      "source": [
        "<center><img src =\"https://ml.gan4x4.ru/msu/dep-2.1/L07/dropout_solve_overfitting_problem_in_mlp_networks.png\" width=\"500\">\n",
        "\n",
        "<em>Source: <a href=\"https://xuwd11.github.io/Dropout_Tutorial_in_PyTorch/\">Tutorial: Dropout as Regularization and Bayesian Approximation</a></em></center>"
      ]
    },
    {
      "cell_type": "markdown",
      "metadata": {
        "id": "05f52letf3bD"
      },
      "source": [
        "#### Простая реализация Dropout"
      ]
    },
    {
      "cell_type": "markdown",
      "metadata": {
        "id": "iK-oRa49f3bD"
      },
      "source": [
        "Напишем \"наивную\" реализацию модуля Dropout.\n",
        "\n",
        "**Замечание:** этот блок кода дан для объяснения работы Dropout. При построении нейронной сети используйте `nn.Dropout` [🛠️[doc]](https://pytorch.org/docs/stable/generated/torch.nn.Dropout.html) или `nn.Dropout2d` [🛠️[doc]](https://pytorch.org/docs/stable/generated/torch.nn.Dropout2d.html).\n",
        "\n",
        "```python\n",
        "class BadDropout(nn.Module):\n",
        "    def __init__(self, p: float=0.5):\n",
        "        super().__init__()\n",
        "        if p < 0 or p > 1:\n",
        "            raise ValueError(\n",
        "                f\"Dropout probability has to be between 0 and 1, but got {p}\"\n",
        "            )\n",
        "        self.p = p\n",
        "\n",
        "    def forward(self, x):\n",
        "        if self.training:\n",
        "            keep = torch.rand(x.size()) > self.p\n",
        "            if x.is_cuda:\n",
        "                keep = keep.to(device)\n",
        "            return x * keep\n",
        "        # In test time, expectation is calculated\n",
        "        return x * (1 - self.p)\n",
        "```\n",
        "\n"
      ]
    },
    {
      "cell_type": "markdown",
      "metadata": {
        "id": "4urPDR0Xf3bD"
      },
      "source": [
        "Приведенная реализация неоптимальна, так как в режиме инференса (когда `training = False`) функция `forward` совершает дополнительное умножение. Одним из приоритетов при создании модели является скорость работы в режиме инференса. Поэтому по возможности все \"лишние\" операции выполняют только в режиме обучения. В данном случае можно целиком убрать коэффициент нормировки из режима инференса, перенеся его в режим обучения в знаменатель.\n",
        "\n",
        "Дополнительным плюсом такого подхода является то, что при удалении модуля из архитектуры сети функция прогнозирования не изменится.\n",
        "\n",
        "\n",
        "```python\n",
        "class Dropout(nn.Module):\n",
        "    def __init__(self, p: float=0.2):\n",
        "        super().__init__()\n",
        "        if p < 0 or p > 1:\n",
        "            raise ValueError(\n",
        "                f\"Dropout probability has to be between 0 and 1, but got {p}\"\n",
        "            )\n",
        "        self.p = p\n",
        "\n",
        "    def forward(self, x):\n",
        "        if self.training:\n",
        "            keep = torch.rand(x.size()) > self.p\n",
        "            if x.is_cuda:\n",
        "                keep = keep.to(x)\n",
        "            return x * keep / (1 - self.p)\n",
        "        return x  # in test time, expectation is calculated intrinsically - we just not divide weights\n",
        "```\n",
        "\n"
      ]
    },
    {
      "cell_type": "markdown",
      "metadata": {
        "id": "_3gTFS1qf3bD"
      },
      "source": [
        "Попробуем применить Dropout в нашей нейросети:"
      ]
    },
    {
      "cell_type": "code",
      "execution_count": null,
      "metadata": {
        "id": "XfV3W_uIf3bD"
      },
      "outputs": [],
      "source": [
        "class SimpleMNIST_NN_Dropout(nn.Module):\n",
        "    def __init__(self, n_layers, activation=nn.Sigmoid, init_form=\"normal\"):\n",
        "        super().__init__()\n",
        "        self.n_layers = n_layers\n",
        "        self.activation = activation()\n",
        "        layers = [nn.Linear(28 * 28, 100), self.activation]\n",
        "        for _ in range(0, n_layers - 1):\n",
        "            layers.append(nn.Linear(100, 100))\n",
        "            layers.append(nn.Dropout(p=0.2))  # add Dropout\n",
        "            layers.append(self.activation)\n",
        "        layers.append(nn.Linear(100, 10))\n",
        "        self.layers = nn.Sequential(*layers)\n",
        "\n",
        "    def forward(self, x):\n",
        "        x = x.view(-1, 28 * 28)\n",
        "        x = self.layers(x)\n",
        "        return x"
      ]
    },
    {
      "cell_type": "markdown",
      "metadata": {
        "id": "FUTHlP4ff3bD"
      },
      "source": [
        "Так как наша модель из-за Dropout ведет себя по-разному во время обучения и во время тестирования, мы должны прямо ей сообщать, обучается она сейчас или нет.\n",
        "\n",
        "$$\n",
        "\\begin{array}{c|c}\n",
        "\\large{\\text{model.train()}}&\\ \\large{\\text{model.eval()}}\\\\  \\hline\n",
        "\\large{\\text{Активируются Dropout слои}}&\\large{\\text{Слои Dropout отключены}}\\\\\n",
        "\\large{\\text{Выход части нейронов обнуляется, выходы нормируются}}&\\large{\\text{Все нейроны работают}}\n",
        "\\end{array}\n",
        "$$\n",
        "\n"
      ]
    },
    {
      "cell_type": "code",
      "source": [
        "import torch\n",
        "from torch import nn\n",
        "\n",
        "model = nn.Sequential(\n",
        "    nn.Linear(3072, 500),\n",
        "    nn.Dropout(p=0.2),\n",
        "    nn.Linear(500, 1),\n",
        "    )\n",
        "\n",
        "model.train()\n",
        "dummy = torch.randn((1, 3072)) # batch, features\n",
        "print(\"Train:\")\n",
        "for i in range(5):\n",
        "  print(f\"\\t{model(dummy).item():.4f}\")\n",
        "\n",
        "print(\"Inference:\")\n",
        "model.eval()\n",
        "for i in range(5):\n",
        "  print(f\"\\t{model(dummy).item():.4f}\")\n"
      ],
      "metadata": {
        "colab": {
          "base_uri": "https://localhost:8080/"
        },
        "id": "1uyKRfTxItN6",
        "outputId": "598d276b-c38f-4398-a19a-8d3337c81887"
      },
      "execution_count": null,
      "outputs": [
        {
          "output_type": "stream",
          "name": "stdout",
          "text": [
            "Train:\n",
            "\t0.2007\n",
            "\t-0.1262\n",
            "\t0.0913\n",
            "\t0.2597\n",
            "\t-0.0313\n",
            "Inference:\n",
            "\t0.2521\n",
            "\t0.2521\n",
            "\t0.2521\n",
            "\t0.2521\n",
            "\t0.2521\n"
          ]
        }
      ]
    },
    {
      "cell_type": "markdown",
      "metadata": {
        "id": "rp2DL4b0f3bD"
      },
      "source": [
        "Обучим модель с **Dropout**:"
      ]
    },
    {
      "cell_type": "code",
      "execution_count": null,
      "metadata": {
        "colab": {
          "base_uri": "https://localhost:8080/",
          "height": 639,
          "referenced_widgets": [
            "26828784bbe547999ae6e94937a7f441",
            "de530a47f5434a9f889bf0a5e8a3b13e",
            "be5831b1625146fe81b4711fbe1adac4",
            "4d911fe88c314af7849cedff94b2a0fb",
            "d537eb30798f407a9e7daa6942cdbd3f",
            "af0183a2272a4a0ca9a22c8fda502a7c",
            "790d5d251eab407fbe20fd85d689b4b3",
            "3b1167a4551a4297938e72ff907df0ab",
            "075a37e5a54345fa948c61ee92c4321b",
            "8a9b4fb822e44e598820cbe35801e6a4",
            "df85cd7b1baa48cb9e98e8678fb8bdb2",
            "b7824decbe15488cbab4d1e35e13c264",
            "e418573f88c04773b7a670f2b67cabee",
            "ecbdc80fe06c47689fb1c60e12a100d5",
            "37a72fcad5da4765b14087d6dc2fc6d8",
            "341b1292b26b4278b062175ab562fb88",
            "f02034603898414b9ea5aefc233108bc",
            "6c9c6069d3404a3da046188cc682a086",
            "7485c6b223a742d9bfff1ef4cc8cc0eb",
            "ac137d25298942bcbe7ca04e1adaa1fd",
            "7a905d33be1542a688fa4bed89c66b58",
            "b68c2b224b974ebfbd6fd81dc037f14b",
            "863f964b9f0d454b94883774ca42f9bf",
            "7e8b0c34de2648b7b4b7568e68eb7a17",
            "561a66ceca3e42d6a99f74f9f38d30d8",
            "eb49a0137dd643daa709a1fec9ded0d2",
            "3da63ef3d04a42409179ad1d3efb8b3c",
            "16ffabe351ec4ddc890beba53db61bf7",
            "18283864f75a4f39b418b09720a6c13a",
            "e927a3f43ea546389921485ded03c485",
            "aca6b06494644f63832989d92c1ba808",
            "5f6a4b6c5500494ab469cc823acb9e24",
            "253a5e56ecbe4206bfac71dd40a60a1b",
            "959440497bf44807bdbe264527e7fb30",
            "7a76172807814c32b2f14b708e71dcd0",
            "a1192c7adb4749c09bcc4e13f99222e7",
            "67a1e2351a8a4af4829468578037994c",
            "1d32d401aaa94d81b5fee97cce6f57bc",
            "e25c453da57a459b94aa35255d053494",
            "b4814a18c14f4496928a876c70e24430",
            "e46b33a786ef491b915c3aed068e0190",
            "0d4fa8ea1ebf4adf822f459362e7a1f7",
            "1c61a10f9fad44c0909c5d4794778554",
            "4b50cff94de745ab979ab45687373955",
            "ed2da83f48af45c0899c885cf80df6e0",
            "c2dfaad878cb4478ab2efcc51337f84f",
            "1b516e1ad7a14f23bee68b20a9ca9aa4",
            "07b3f08bde99479bac5ac27fc1f8aeb5",
            "fbe337f3abe044c6a1029cb648ef5810",
            "8f23900b440e4a4cabf730136551952e",
            "0babcf86170b496b8f4a32c2626c5b86",
            "7b32ba922f934cd9866c700e493190ac",
            "95fa7a06f7f74394be3aab23b4b73dd4",
            "86df7e9ab8f340d1a8483158e0de7b85",
            "de2018df7a244e4d83d3c6471b381b29",
            "bdb51a893c654431a185d03b6eeec25f",
            "ab5a4253b99b46c5bd3eff09bf6dc7e4",
            "caddd14ea8e84f458726a4e9de355c07",
            "d1d0a0ee1bc0415aa4bd620a998ba43a",
            "1da42e5718b94298800ce1181c3fa150",
            "4028e95e2cde4e7f80aba34112aec89e",
            "623f58075ca24181b301eaf3dd70f3ee",
            "1342f5c1bdf54c339bb4f56613793e2e",
            "f511f0e8224f424884c672752a373d22",
            "dababf4fde3745998b7f277ec6ec3add",
            "39400c4b8d2a4d998c3ec20864b9c206"
          ]
        },
        "id": "QU08KxoJf3bD",
        "outputId": "69929d09-54db-4bd9-f90e-9ff2ed6105d5"
      },
      "outputs": [
        {
          "output_type": "stream",
          "name": "stderr",
          "text": [
            "INFO: GPU available: True (cuda), used: True\n",
            "INFO:lightning.pytorch.utilities.rank_zero:GPU available: True (cuda), used: True\n",
            "INFO: TPU available: False, using: 0 TPU cores\n",
            "INFO:lightning.pytorch.utilities.rank_zero:TPU available: False, using: 0 TPU cores\n",
            "INFO: HPU available: False, using: 0 HPUs\n",
            "INFO:lightning.pytorch.utilities.rank_zero:HPU available: False, using: 0 HPUs\n",
            "INFO: LOCAL_RANK: 0 - CUDA_VISIBLE_DEVICES: [0]\n",
            "INFO:lightning.pytorch.accelerators.cuda:LOCAL_RANK: 0 - CUDA_VISIBLE_DEVICES: [0]\n",
            "INFO: \n",
            "  | Name      | Type                   | Params | Mode \n",
            "-------------------------------------------------------------\n",
            "0 | model     | SimpleMNIST_NN_Dropout | 99.7 K | train\n",
            "1 | criterion | CrossEntropyLoss       | 0      | train\n",
            "-------------------------------------------------------------\n",
            "99.7 K    Trainable params\n",
            "0         Non-trainable params\n",
            "99.7 K    Total params\n",
            "0.399     Total estimated model params size (MB)\n",
            "10        Modules in train mode\n",
            "0         Modules in eval mode\n",
            "INFO:lightning.pytorch.callbacks.model_summary:\n",
            "  | Name      | Type                   | Params | Mode \n",
            "-------------------------------------------------------------\n",
            "0 | model     | SimpleMNIST_NN_Dropout | 99.7 K | train\n",
            "1 | criterion | CrossEntropyLoss       | 0      | train\n",
            "-------------------------------------------------------------\n",
            "99.7 K    Trainable params\n",
            "0         Non-trainable params\n",
            "99.7 K    Total params\n",
            "0.399     Total estimated model params size (MB)\n",
            "10        Modules in train mode\n",
            "0         Modules in eval mode\n"
          ]
        },
        {
          "output_type": "display_data",
          "data": {
            "text/plain": [
              "Training: |          | 0/? [00:00<?, ?it/s]"
            ],
            "application/vnd.jupyter.widget-view+json": {
              "version_major": 2,
              "version_minor": 0,
              "model_id": "26828784bbe547999ae6e94937a7f441"
            }
          },
          "metadata": {}
        },
        {
          "output_type": "display_data",
          "data": {
            "text/plain": [
              "Validation: |          | 0/? [00:00<?, ?it/s]"
            ],
            "application/vnd.jupyter.widget-view+json": {
              "version_major": 2,
              "version_minor": 0,
              "model_id": "b7824decbe15488cbab4d1e35e13c264"
            }
          },
          "metadata": {}
        },
        {
          "output_type": "display_data",
          "data": {
            "text/plain": [
              "Validation: |          | 0/? [00:00<?, ?it/s]"
            ],
            "application/vnd.jupyter.widget-view+json": {
              "version_major": 2,
              "version_minor": 0,
              "model_id": "863f964b9f0d454b94883774ca42f9bf"
            }
          },
          "metadata": {}
        },
        {
          "output_type": "display_data",
          "data": {
            "text/plain": [
              "Validation: |          | 0/? [00:00<?, ?it/s]"
            ],
            "application/vnd.jupyter.widget-view+json": {
              "version_major": 2,
              "version_minor": 0,
              "model_id": "959440497bf44807bdbe264527e7fb30"
            }
          },
          "metadata": {}
        },
        {
          "output_type": "display_data",
          "data": {
            "text/plain": [
              "Validation: |          | 0/? [00:00<?, ?it/s]"
            ],
            "application/vnd.jupyter.widget-view+json": {
              "version_major": 2,
              "version_minor": 0,
              "model_id": "ed2da83f48af45c0899c885cf80df6e0"
            }
          },
          "metadata": {}
        },
        {
          "output_type": "display_data",
          "data": {
            "text/plain": [
              "Validation: |          | 0/? [00:00<?, ?it/s]"
            ],
            "application/vnd.jupyter.widget-view+json": {
              "version_major": 2,
              "version_minor": 0,
              "model_id": "bdb51a893c654431a185d03b6eeec25f"
            }
          },
          "metadata": {}
        },
        {
          "output_type": "stream",
          "name": "stderr",
          "text": [
            "INFO: `Trainer.fit` stopped: `max_epochs=5` reached.\n",
            "INFO:lightning.pytorch.utilities.rank_zero:`Trainer.fit` stopped: `max_epochs=5` reached.\n"
          ]
        }
      ],
      "source": [
        "model_name = \"nn3_dropout\"\n",
        "model = SimpleMNIST_NN_Dropout(n_layers=3)\n",
        "\n",
        "trainer = L.Trainer(\n",
        "    max_epochs=5,\n",
        "    logger=TensorBoardLogger(save_dir=f\"logs/{model_name}\"),\n",
        "    num_sanity_val_steps=0,\n",
        ")\n",
        "\n",
        "pipeline = Pipeline(model=model, exp_name=model_name, optimizer_kwargs={\"lr\": 1e-2})\n",
        "\n",
        "trainer.fit(model=pipeline, train_dataloaders=train_loader, val_dataloaders=val_loader)\n",
        "\n",
        "history = pipeline.history\n",
        "history[\"epoсhs\"] = trainer.max_epochs\n",
        "history_plotter.add(history)"
      ]
    },
    {
      "cell_type": "code",
      "execution_count": null,
      "metadata": {
        "colab": {
          "base_uri": "https://localhost:8080/",
          "height": 872
        },
        "id": "TI9FZb1ef3bD",
        "outputId": "f0ea7ad5-5826-467a-dd9d-a6c8e36aedf4"
      },
      "outputs": [
        {
          "output_type": "display_data",
          "data": {
            "text/plain": [
              "<Figure size 1000x1000 with 3 Axes>"
            ],
            "image/png": "[encoded data removed]"
          },
          "metadata": {}
        }
      ],
      "source": [
        "history_plotter.plot([\"n_layers3_sigmoid\", \"n3_layers_sigmoid_havier\", model_name])"
      ]
    },
    {
      "cell_type": "markdown",
      "metadata": {
        "id": "AT-cxtMgf3bD"
      },
      "source": [
        "В данном случае выигрыш небольшой. Если учить нейросеть больше эпох, эффект будет заметнее."
      ]
    },
    {
      "cell_type": "markdown",
      "metadata": {
        "id": "GlQyO2ztf3bD"
      },
      "source": [
        "#### Пример борьбы с переобучением при помощи Dropout\n"
      ]
    },
    {
      "cell_type": "markdown",
      "metadata": {
        "id": "qSwC9ninf3bD"
      },
      "source": [
        "Чтобы увидеть эффект и при этом не учить нейросеть 100+ эпох, сделаем искусственный пример.\n",
        "\n",
        "Просто **добавим к линейной зависимости шум** и попробуем выучить ее нейронной сетью.\n",
        "\n",
        "[[colab] 🥨 Batch Normalization and Dropout](https://colab.research.google.com/github/Niranjankumar-c/DeepLearning-PadhAI/blob/master/DeepLearning_Materials/7_BatchNormalization/BatchNorm_Dropout.ipynb)"
      ]
    },
    {
      "cell_type": "code",
      "execution_count": null,
      "metadata": {
        "colab": {
          "base_uri": "https://localhost:8080/"
        },
        "id": "3_MyJljDf3bE",
        "outputId": "c418bf6e-0b0b-4e42-94e7-7ada7232c355"
      },
      "outputs": [
        {
          "output_type": "stream",
          "name": "stdout",
          "text": [
            "x_train shape: torch.Size([50, 1])\n",
            "x_test shape: torch.Size([50, 1])\n"
          ]
        }
      ],
      "source": [
        "N = 50  # number of data points\n",
        "noise = 0.3\n",
        "\n",
        "# Generate the train data\n",
        "x_train = torch.unsqueeze(torch.linspace(-1, 1, N), 1)\n",
        "y_train = x_train + noise * torch.normal(torch.zeros(N, 1), torch.ones(N, 1))\n",
        "\n",
        "# Generate the test data\n",
        "x_test = torch.unsqueeze(torch.linspace(-1, 1, N), 1)\n",
        "y_test = x_test + noise * torch.normal(torch.zeros(N, 1), torch.ones(N, 1))\n",
        "\n",
        "print(f\"x_train shape: {x_train.shape}\\nx_test shape: {x_test.shape}\")"
      ]
    },
    {
      "cell_type": "code",
      "execution_count": null,
      "metadata": {
        "colab": {
          "base_uri": "https://localhost:8080/",
          "height": 430
        },
        "id": "1_jG0fD7f3bE",
        "outputId": "847b14e2-cd26-4df2-fd51-fedda763d027"
      },
      "outputs": [
        {
          "output_type": "display_data",
          "data": {
            "text/plain": [
              "<Figure size 640x480 with 1 Axes>"
            ],
            "image/png": "[encoded data removed]"
          },
          "metadata": {}
        }
      ],
      "source": [
        "plt.scatter(\n",
        "    x_train.data.numpy(), y_train.data.numpy(), c=\"#2DA9E1\", alpha=0.5, label=\"Train\"\n",
        ")\n",
        "plt.scatter(\n",
        "    x_test.data.numpy(), y_test.data.numpy(), c=\"#F9B041\", alpha=0.5, label=\"Test\"\n",
        ")\n",
        "\n",
        "x_real = np.arange(-1, 1, 0.01)\n",
        "y_real = x_real\n",
        "plt.plot(x_real, y_real, c=\"#4AAE4D\", label=\"True\", linewidth=3)\n",
        "plt.legend()\n",
        "plt.show()"
      ]
    },
    {
      "cell_type": "markdown",
      "metadata": {
        "id": "zTg3KO5zf3bE"
      },
      "source": [
        "Модель **без Dropout**:"
      ]
    },
    {
      "cell_type": "code",
      "execution_count": null,
      "metadata": {
        "id": "j88tSDmaf3bE"
      },
      "outputs": [],
      "source": [
        "N_h = 100  # num of neurons\n",
        "model = torch.nn.Sequential(\n",
        "    torch.nn.Linear(1, N_h),\n",
        "    torch.nn.ReLU(),\n",
        "    torch.nn.Linear(N_h, N_h),\n",
        "    torch.nn.ReLU(),\n",
        "    torch.nn.Linear(N_h, 1),\n",
        ")\n",
        "optimizer = torch.optim.Adam(model.parameters(), lr=0.01)"
      ]
    },
    {
      "cell_type": "markdown",
      "metadata": {
        "id": "5EnIct_hf3bE"
      },
      "source": [
        "Модель **с Dropout**:"
      ]
    },
    {
      "cell_type": "code",
      "execution_count": null,
      "metadata": {
        "id": "Z5td9fUbf3bE"
      },
      "outputs": [],
      "source": [
        "N_h = 100  # num of neurons\n",
        "\n",
        "model_dropout = nn.Sequential(\n",
        "    nn.Linear(1, N_h),\n",
        "    nn.Dropout(0.5),  # 50 % probability\n",
        "    nn.ReLU(),\n",
        "    torch.nn.Linear(N_h, N_h),\n",
        "    nn.Dropout(0.2),  # 20% probability\n",
        "    nn.ReLU(),\n",
        "    torch.nn.Linear(N_h, 1),\n",
        ")\n",
        "optimizer_dropout = torch.optim.Adam(model_dropout.parameters(), lr=0.01)"
      ]
    },
    {
      "cell_type": "code",
      "source": [
        "import torch\n",
        "import torch.nn as nn\n",
        "import matplotlib.pyplot as plt\n",
        "\n",
        "\n",
        "fig, axes = plt.subplots(2, 2, figsize=(10, 8))\n",
        "axes = axes.flatten()\n",
        "plot_epochs = [0, 300, 900, 1500]\n",
        "\n",
        "num_epochs = 1501\n",
        "criterion = nn.MSELoss()\n",
        "\n",
        "for epoch in range(num_epochs):\n",
        "    y_pred = model(x_train)\n",
        "    loss = criterion(y_pred, y_train)\n",
        "    optimizer.zero_grad()\n",
        "    loss.backward()\n",
        "    optimizer.step()\n",
        "\n",
        "    y_pred_dropout = model_dropout(x_train)\n",
        "    loss_dropout = criterion(y_pred_dropout, y_train)\n",
        "    optimizer_dropout.zero_grad()\n",
        "    loss_dropout.backward()\n",
        "    optimizer_dropout.step()\n",
        "\n",
        "    if epoch in plot_epochs:\n",
        "        model.eval()\n",
        "        model_dropout.eval()\n",
        "\n",
        "        y_test_pred = model(x_test)\n",
        "        test_loss = criterion(y_test_pred, y_test)\n",
        "\n",
        "        y_test_pred_dropout = model_dropout(x_test)\n",
        "        test_loss_dropout = criterion(y_test_pred_dropout, y_test)\n",
        "\n",
        "        ax = axes[plot_epochs.index(epoch)]\n",
        "        ax.scatter(\n",
        "            x_train.data.numpy(),\n",
        "            y_train.data.numpy(),\n",
        "            alpha=0.5,\n",
        "            c=\"#2DA9E1\",\n",
        "            label=\"Train\",\n",
        "        )\n",
        "        ax.scatter(\n",
        "            x_test.data.numpy(),\n",
        "            y_test.data.numpy(),\n",
        "            c=\"#F9B041\",\n",
        "            alpha=0.5,\n",
        "            label=\"Test\",\n",
        "        )\n",
        "        ax.plot(\n",
        "            x_test.data.numpy(), y_test_pred.data.numpy(), \"r-\", lw=2, label=\"Normal\"\n",
        "        )\n",
        "        ax.plot(\n",
        "            x_test.data.numpy(),\n",
        "            y_test_pred_dropout.data.numpy(),\n",
        "            \"#4AAE4D\", linestyle='dashed',\n",
        "            lw=3,\n",
        "            label=\"Dropout\",\n",
        "        )\n",
        "\n",
        "        ax.set_title(\n",
        "            f\"Epoch {epoch}\",\n",
        "            fontsize=10,\n",
        "        )\n",
        "        ax.legend()\n",
        "        model.train()\n",
        "        model_dropout.train()\n",
        "plt.tight_layout()\n",
        "plt.show()\n"
      ],
      "metadata": {
        "colab": {
          "base_uri": "https://localhost:8080/",
          "height": 807
        },
        "id": "tioYBplOLNVm",
        "outputId": "21844ef3-cc11-4c8a-a73a-42f37bfa0fc2"
      },
      "execution_count": null,
      "outputs": [
        {
          "output_type": "display_data",
          "data": {
            "text/plain": [
              "<Figure size 1000x800 with 4 Axes>"
            ],
            "image/png": "[encoded data removed]"
          },
          "metadata": {}
        }
      ]
    },
    {
      "cell_type": "markdown",
      "metadata": {
        "id": "Qb9MfPDuf3bE"
      },
      "source": [
        "Видим, что **нейросеть без Dropout сильно переобучилась**."
      ]
    },
    {
      "cell_type": "markdown",
      "metadata": {
        "id": "O3Y-CsP9f3bF"
      },
      "source": [
        "#### Доверительный интервал от Dropout"
      ]
    },
    {
      "cell_type": "markdown",
      "metadata": {
        "id": "kHKXjkRbf3bF"
      },
      "source": [
        "Dropout можно рассматривать как **ансамбль моделей**.\n",
        "\n",
        "Если мы возьмем один и тот же объект и пропустим его через модель с **активным Dropout 1000 раз**, это будет эквивалентно тому, чтобы пропустить этот объект через **1000 моделей с различными конфигурациями**. Таким образом мы получим распределение предсказаний, на основе которого можно вычислять [**доверительные интервалы** 📚[wiki]](https://ru.wikipedia.org/wiki/%D0%94%D0%BE%D0%B2%D0%B5%D1%80%D0%B8%D1%82%D0%B5%D0%BB%D1%8C%D0%BD%D1%8B%D0%B9_%D0%B8%D0%BD%D1%82%D0%B5%D1%80%D0%B2%D0%B0%D0%BB) и ловить аномалии (объекты с большой дисперсией предсказываемых значений, которые плохо распознаются сетью)."
      ]
    },
    {
      "cell_type": "markdown",
      "metadata": {
        "id": "ZbkSTPj3f3bF"
      },
      "source": [
        "<center><img src =\"https://ml.gan4x4.ru/msu/dep-2.1/L07/confidence_interval_dropout.png\" width=\"600\"></center>\n",
        "\n",
        "<center><em>Source: <a href=\"https://atcold.github.io/NYU-DLSP20/en/week14/14-3/\">Overfitting and regularization</a></em></center>\n",
        "\n"
      ]
    },
    {
      "cell_type": "markdown",
      "metadata": {
        "id": "EnZDELPrf3bG"
      },
      "source": [
        "## DropConnect"
      ]
    },
    {
      "cell_type": "markdown",
      "metadata": {
        "id": "x5uf3ya-f3bG"
      },
      "source": [
        "Если занулять не нейроны (активации), а случайные веса с вероятностью $p$, получится DropConnect."
      ]
    },
    {
      "cell_type": "markdown",
      "metadata": {
        "id": "hiONjqGZf3bG"
      },
      "source": [
        "<center><img src =\"https://ml.gan4x4.ru/msu/dev-2.2/L07/out/dropconnect.png\" width=\"650\"></center>"
      ]
    },
    {
      "cell_type": "markdown",
      "metadata": {
        "id": "vmhO4cKrf3bG"
      },
      "source": [
        "DropConnect похож на Dropout, поскольку он вводит динамическую разреженность в модель, но отличается тем, что разреженность зависит от весов *W*, а не от выходных векторов слоя. Другими словами, полностью связанный слой с DropConnect становится разреженно связанным слоем, в котором соединения выбираются случайным образом на этапе обучения."
      ]
    },
    {
      "cell_type": "markdown",
      "metadata": {
        "id": "NUCI-Rycf3bG"
      },
      "source": [
        "В принципе, вариантов зануления чего-то в нейронной сети можно предложить великое множество, в разных ситуациях будут работать разные способы ([в этом списке 🎓[article]](https://paperswithcode.com/methods/category/regularization) много Drop...)."
      ]
    },
    {
      "cell_type": "markdown",
      "metadata": {
        "id": "DieRVB84f3bG"
      },
      "source": [
        "## DropBlock"
      ]
    },
    {
      "cell_type": "markdown",
      "metadata": {
        "id": "7muY6c-Ef3bG"
      },
      "source": [
        "Например, можно убирать для каждого батча из нейросети случайные блоки из слоев. И это будет работать!"
      ]
    },
    {
      "cell_type": "markdown",
      "metadata": {
        "id": "Nr1GNV4kf3bG"
      },
      "source": [
        "<center><img src =\"https://ml.gan4x4.ru/msu/dev-2.2/L07/out/dropblock.png\" width=\"750\"></center>"
      ]
    },
    {
      "cell_type": "markdown",
      "metadata": {
        "id": "dkU1eXOUf3bG"
      },
      "source": [
        "[[arxiv] 🎓 Deep Networks with Stochastic Depth (Huang et al., 2016)](https://arxiv.org/pdf/1603.09382.pdf)"
      ]
    },
    {
      "cell_type": "markdown",
      "source": [
        "## Советы по использованию Dropout"
      ],
      "metadata": {
        "id": "74cPjMmqSf0-"
      }
    },
    {
      "cell_type": "markdown",
      "source": [
        "Наиболее эффективно размещать Dropout для полносвязных (fully connected) слоев, в конце сети.\n",
        "\n",
        "\n"
      ],
      "metadata": {
        "id": "WhUpEg69SqRO"
      }
    },
    {
      "cell_type": "markdown",
      "metadata": {
        "id": "iSzko68hf3bG"
      },
      "source": [
        "### Batch Normalization до или после Dropout\n",
        "\n"
      ]
    },
    {
      "cell_type": "markdown",
      "metadata": {
        "id": "Qikx5dRuf3bG"
      },
      "source": [
        "#### После"
      ]
    },
    {
      "cell_type": "markdown",
      "metadata": {
        "id": "UtBoC_j3f3bH"
      },
      "source": [
        "<center><img src =\"https://ml.gan4x4.ru/msu/dev-2.2/L07/out/batchnormalization_after_dropout.png\" width=\"400\"></center>"
      ]
    },
    {
      "cell_type": "markdown",
      "metadata": {
        "id": "pC4vMu7Lf3bH"
      },
      "source": [
        "* **Плохо**: В режиме обучения **Dropout** будет отключать (занулять) выходы слоя активации, из-за этого накопленные в режиме обучения **значения скользящего среднего матожидания и дисперсии** для вычисления **Batch Normalization** в режиме тестирования будут иметь **сдвиг** (не компенсируемый приведением слоя Dropout в режим `train()`), который приведет к нестабильной работе нейросети.\n",
        "\n",
        "\n",
        "Подробно:\n",
        "* [[arxiv] 🎓 Understanding the Disharmony between Dropout and Batch Normalization by\n",
        "Variance Shift (Li et al., 2018)](https://arxiv.org/pdf/1801.05134.pdf)\n",
        "* [[git] 🐾 Understanding the Disharmony between Dropout and Batch Normalization](https://github.com/adelizer/kaggle-sandbox/blob/master/drafts/dropout_bn.ipynb)"
      ]
    },
    {
      "cell_type": "markdown",
      "metadata": {
        "id": "EnDaSZr2f3bH"
      },
      "source": [
        "#### До"
      ]
    },
    {
      "cell_type": "markdown",
      "metadata": {
        "id": "LuVCA00If3bH"
      },
      "source": [
        "<center><img src =\"https://ml.gan4x4.ru/msu/dev-2.2/L07/out/batchnormalization_before_dropout.png\" width=\"400\"></center>"
      ]
    },
    {
      "cell_type": "markdown",
      "metadata": {
        "id": "CArYv4Wqf3bH"
      },
      "source": [
        "* **Лучше**: Меньше влияние сдвига от **Dropout** на **Batch Norm**. Но если на предыдущих слоях есть **Dropout**, то значения все равно могут быть смещены."
      ]
    },
    {
      "cell_type": "markdown",
      "metadata": {
        "id": "XxMgQRZrf3bH"
      },
      "source": [
        "#### Ставить только что-то одно"
      ]
    },
    {
      "cell_type": "markdown",
      "metadata": {
        "id": "llMfn0Fff3bH"
      },
      "source": [
        "* **Dropout** может отрицательно влиять на качество нейросети с **Batch Norm** за счет разного поведения на train и test. Поэтому лучше не использовать связку **Dropout** + **Batch Norm** и ставить эти слои в разные части сети. **Batch Norm** после сверточных слоев, **Dropout** в конце сети на полносвязные слои."
      ]
    }
  ]
}