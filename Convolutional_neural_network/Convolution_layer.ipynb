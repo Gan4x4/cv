{
  "nbformat": 4,
  "nbformat_minor": 0,
  "metadata": {
    "colab": {
      "provenance": [],
      "toc_visible": true
    },
    "kernelspec": {
      "name": "python3",
      "display_name": "Python 3"
    },
    "language_info": {
      "name": "python"
    }
  },
  "cells": [
    {
      "cell_type": "markdown",
      "metadata": {
        "id": "bzP3YMd8bjeo"
      },
      "source": [
        "# Сверточный слой нейросети"
      ]
    },
    {
      "cell_type": "markdown",
      "metadata": {
        "id": "l2m-6X3bbjeo"
      },
      "source": [
        "В PyTorch есть класс `nn.Conv2d` [🛠️[doc]](https://pytorch.org/docs/stable/generated/torch.nn.Conv2d.html), который реализует операцию свертки для целого изображения.\n"
      ]
    },
    {
      "cell_type": "code",
      "execution_count": null,
      "metadata": {
        "id": "DhN42x_Abjeo"
      },
      "outputs": [],
      "source": [
        "import torch\n",
        "import numpy as np\n",
        "\n",
        "# fmt: off\n",
        "cross = np.array([[0, 0 ,0, 0, 0],\n",
        "                  [0, 0, 0, 0, 0],\n",
        "                  [0, 0, 0, 1, 0],\n",
        "                  [0, 0, 1, 1, 1],\n",
        "                  [0, 0, 0, 1, 0]])\n",
        "\n",
        "kernel_cs = np.array([[-1, 1, -1],\n",
        "                      [ 1, 1,  1],\n",
        "                      [-1, 1, -1]])\n",
        "# fmt: on\n",
        "\n",
        "cross_in_tensor = torch.tensor(cross).float()"
      ]
    },
    {
      "cell_type": "code",
      "execution_count": null,
      "metadata": {
        "id": "ND9Eo4lQbjeo",
        "colab": {
          "base_uri": "https://localhost:8080/"
        },
        "outputId": "0cc69c6d-8bd4-4176-e855-8ac49aadea09"
      },
      "outputs": [
        {
          "output_type": "stream",
          "name": "stdout",
          "text": [
            "tensor([[[[ 0.0000,  0.0020, -0.1460],\n",
            "          [ 0.0020, -0.1745,  0.2456],\n",
            "          [-0.0304,  0.3700,  0.1317]]]], grad_fn=<ConvolutionBackward0>)\n"
          ]
        }
      ],
      "source": [
        "from torch.nn import Conv2d\n",
        "\n",
        "conv = Conv2d(\n",
        "    in_channels=1,  # what's this ?\n",
        "    out_channels=1,  # what's this ?\n",
        "    kernel_size=(3, 3),  # kernel.shape == 3x3\n",
        "    bias=False,\n",
        ")\n",
        "# conv2d accepts input of shape BxCxHxW\n",
        "feature_map = conv(\n",
        "    cross_in_tensor.unsqueeze(0).unsqueeze(0)\n",
        ")  # add batch and channel dim\n",
        "print(feature_map)"
      ]
    },
    {
      "cell_type": "markdown",
      "metadata": {
        "id": "jvNPjLbebjeo"
      },
      "source": [
        "Так как изначально ядро нашего единственного фильтра (нейрона) инициализированно случайными небольшими значениями, то на выходе получается набор ничего не значащих чисел. Убедимся, что слой работает так, как мы ожидали, подменив ядро:"
      ]
    },
    {
      "cell_type": "code",
      "execution_count": null,
      "metadata": {
        "id": "ffQ_Cv93bjep",
        "colab": {
          "base_uri": "https://localhost:8080/"
        },
        "outputId": "10a43e81-ec4e-43c2-a7d9-ee9ed231f7b4"
      },
      "outputs": [
        {
          "output_type": "stream",
          "name": "stdout",
          "text": [
            "Feature map for cross\n",
            " tensor([[[[ 0., -1.,  1.],\n",
            "          [-1.,  1.,  0.],\n",
            "          [ 1.,  0.,  5.]]]], grad_fn=<ConvolutionBackward0>)\n"
          ]
        }
      ],
      "source": [
        "# data[0] because filter can have multiple kernels. see next chapter\n",
        "conv.weight.data[0] = torch.tensor(kernel_cs)  # replace original kernel\n",
        "\n",
        "feature_map = conv(\n",
        "    cross_in_tensor.unsqueeze(0).unsqueeze(0)\n",
        ")  # add batch and channel dim\n",
        "print(\"Feature map for cross\\n\", feature_map)"
      ]
    },
    {
      "cell_type": "markdown",
      "metadata": {
        "id": "FvpVXSr3bjep"
      },
      "source": [
        "При создании экземпляра объекта класса `nn.Conv2D` [🛠️[doc]](https://pytorch.org/docs/stable/generated/torch.nn.Conv2d.html) помимо размера ядра (`kernel_size`) мы передали в конструктор еще два параметра:\n",
        "\n",
        "`in_channels = 1 ` и `out_channels = 1`\n",
        "\n",
        "Разберемся, что они означают."
      ]
    },
    {
      "cell_type": "markdown",
      "metadata": {
        "id": "imTAHKuubjep"
      },
      "source": [
        "## Обработка цветных/многоканальных изображений"
      ]
    },
    {
      "cell_type": "markdown",
      "metadata": {
        "id": "_uUuez0hbjep"
      },
      "source": [
        "`in_channel` — это количество каналов входного тензора (изображения).\n",
        "\n",
        "В примерах выше мы рассматривали [черно-белые 📚[wiki]](https://ru.wikipedia.org/wiki/Чёрно-белая_фотография) изображения. Их также называют одноканальными изображениями, т. к. в них цвет пикселя определяется одним числом, характеризующим яркость.\n",
        "\n",
        "Хранятся они в двумерном массиве размером $[H,W]$. Цветные изображения хранятся в трехмерных массивах $[H,W,C]$ (для формата numpy, OpenCV) или $[C,W,H]$ (тензорный формат PyTorch), где $C$ — количество цветовых каналов. Для $\\text{RGB}$-изображений $C=3$. Так как `Conv2d` рассчитан на работу с многоканальным входом, то в коде выше нам пришлось написать дополнительный `unsqueeze(0)`, чтобы добавить к тензору с изображением это $3$-е измерение, т. е. перевести $[H,W]$ в $[C,W,H]$, где $C = 1$.\n",
        "\n",
        "Важно, что для каждого канала будет создано дополнительное ядро фильтра."
      ]
    },
    {
      "cell_type": "code",
      "execution_count": null,
      "metadata": {
        "id": "_lVoJkrsbjep",
        "colab": {
          "base_uri": "https://localhost:8080/"
        },
        "outputId": "9a7bea06-2f69-4184-c2b2-7d7cf8a9af35"
      },
      "outputs": [
        {
          "output_type": "stream",
          "name": "stdout",
          "text": [
            "One channel kernel \t torch.Size([1, 1, 5, 5])\n",
            "Three channel kernel \t torch.Size([1, 3, 5, 5])\n"
          ]
        }
      ],
      "source": [
        "conv_ch1 = Conv2d(in_channels=1, out_channels=1, kernel_size=5)\n",
        "print(\"One channel kernel \\t\", conv_ch1.weight.shape)\n",
        "conv_ch3 = Conv2d(in_channels=3, out_channels=1, kernel_size=5)\n",
        "print(\"Three channel kernel \\t\", conv_ch3.weight.shape)"
      ]
    },
    {
      "cell_type": "markdown",
      "metadata": {
        "id": "veU3vZ6Ibjep"
      },
      "source": [
        "Опробуем трехканальную свертку на цветном изображении:"
      ]
    },
    {
      "cell_type": "code",
      "execution_count": null,
      "metadata": {
        "id": "gMXQxlHGbjep"
      },
      "outputs": [],
      "source": [
        "!wget -q https://ml.gan4x4.ru/msu/dev-2.1/L06/cat.jpg"
      ]
    },
    {
      "cell_type": "code",
      "execution_count": null,
      "metadata": {
        "id": "D2F_QPEpbjep",
        "colab": {
          "base_uri": "https://localhost:8080/",
          "height": 209
        },
        "outputId": "c53b4268-06af-4bf3-a763-0e2e11dfa495"
      },
      "outputs": [
        {
          "output_type": "display_data",
          "data": {
            "text/plain": [
              "<PIL.JpegImagePlugin.JpegImageFile image mode=RGB size=192x192>"
            ],
            "image/png": "[encoded data removed]",
            "image/jpeg": "[encoded data removed]"
          },
          "metadata": {}
        }
      ],
      "source": [
        "from PIL import Image\n",
        "\n",
        "cat_in_pil = Image.open(\"cat.jpg\")\n",
        "display(cat_in_pil)"
      ]
    },
    {
      "cell_type": "markdown",
      "metadata": {
        "id": "aUcxA5rTbjep"
      },
      "source": [
        "Изображение из формата Pillow надо превратить в `torch.Tensor`:"
      ]
    },
    {
      "cell_type": "code",
      "execution_count": null,
      "metadata": {
        "id": "qnHfub8Nbjep",
        "colab": {
          "base_uri": "https://localhost:8080/"
        },
        "outputId": "ce8e6748-6b32-4832-b790-d266ff3483e1"
      },
      "outputs": [
        {
          "output_type": "stream",
          "name": "stdout",
          "text": [
            "Error: \n",
            " Given groups=1, weight of size [1, 3, 5, 5], expected input[1, 192, 192, 3] to have 3 channels, but got 192 channels instead\n"
          ]
        }
      ],
      "source": [
        "cat_in_np = np.array(cat_in_pil)  # pillow -> numpy\n",
        "cat_in_float = cat_in_np.astype(np.float32) / 255  # int->float\n",
        "cat_in_tensor = torch.tensor(cat_in_float)  # np -> torch\n",
        "\n",
        "try:\n",
        "    conv_ch3(cat_in_tensor.unsqueeze(0))  # add batch dimension\n",
        "except Exception as e:\n",
        "    print(\"Error: \\n\", e)"
      ]
    },
    {
      "cell_type": "markdown",
      "metadata": {
        "id": "pCkkHK_Tbjep"
      },
      "source": [
        "Получили ошибку, связанную с количеством каналов. Дело в том, что в PyTorch, в отличие от OpenCV, TensorFlow и ряда других библиотек, каналы (RGB) идут в первом, а не в последнем измерении тензора, описывающего картинку.\n",
        "\n",
        "OpenCV, TensorFlow, Pillow, etc. : $[\\text{Batch}, \\text{Height}, \\text{Width}, \\text{Channels}]$\n",
        "\n",
        "PyTorch : $[\\text{Batch}, \\text{Channels}, \\text{Height}, \\text{Width}]$\n",
        "\n",
        "Придется сделать дополнительное преобразование, чтобы каналы оказались на том месте, где их ожидает PyTorch:"
      ]
    },
    {
      "cell_type": "code",
      "execution_count": null,
      "metadata": {
        "id": "bU-qbiTTbjeq",
        "colab": {
          "base_uri": "https://localhost:8080/"
        },
        "outputId": "d1cbeb9f-279d-4ae1-98d9-c79d31c6fb02"
      },
      "outputs": [
        {
          "output_type": "stream",
          "name": "stdout",
          "text": [
            "Original \t torch.Size([192, 192, 3]) HWC\n",
            "Torch style \t torch.Size([3, 192, 192]) CHW\n"
          ]
        }
      ],
      "source": [
        "print(\"Original \\t\", cat_in_tensor.shape, \"HWC\")\n",
        "cat_in_tensor_channel_first = cat_in_tensor.permute(2, 0, 1)  # HWC -> CHW\n",
        "print(\"Torch style \\t\", cat_in_tensor_channel_first.shape, \"CHW\")"
      ]
    },
    {
      "cell_type": "markdown",
      "metadata": {
        "id": "j-NuCjmXbjeq"
      },
      "source": [
        "Теперь можно подать изображение на вход модели, предварительно добавив batch-размерность:"
      ]
    },
    {
      "cell_type": "code",
      "execution_count": null,
      "metadata": {
        "id": "Yrtq6fNMbjeq",
        "colab": {
          "base_uri": "https://localhost:8080/"
        },
        "outputId": "c4a31e7b-43ec-4a87-f4be-1a4cf8fccb95"
      },
      "outputs": [
        {
          "output_type": "stream",
          "name": "stdout",
          "text": [
            "No error!\n"
          ]
        }
      ],
      "source": [
        "one_image_batch = cat_in_tensor_channel_first.unsqueeze(0)  # HW -> CHW, C = 1\n",
        "out = conv_ch3(one_image_batch)\n",
        "print(\"No error!\")"
      ]
    },
    {
      "cell_type": "markdown",
      "metadata": {
        "id": "C-RzG1-9bjeq"
      },
      "source": [
        "Нет необходимости проделывать все эти манипуляции вручную, так как в torchvision реализованы класс `ToTensor` [🛠️[doc]](https://pytorch.org/vision/stable/generated/torchvision.transforms.ToTensor.html?highlight=totensor#torchvision.transforms.ToTensor) и функция `to_tensor` [🛠️[doc]](https://pytorch.org/vision/main/generated/torchvision.transforms.functional.to_tensor.html), которые выполняют эти преобразования.\n",
        "\n",
        "Убедимся, что тензор, преобразованный нами вручную, и тензор, получившийся после применения функции `to_tensor`, совпали:"
      ]
    },
    {
      "cell_type": "code",
      "execution_count": null,
      "metadata": {
        "id": "cQ5a1HpQbjeq",
        "colab": {
          "base_uri": "https://localhost:8080/"
        },
        "outputId": "cd36f211-2f1f-4c67-ef33-4f71cc662e12"
      },
      "outputs": [
        {
          "output_type": "stream",
          "name": "stdout",
          "text": [
            "torch.Size([3, 192, 192])\n",
            "Tensor almost equal:  True\n"
          ]
        },
        {
          "output_type": "stream",
          "name": "stderr",
          "text": [
            "/usr/local/lib/python3.10/dist-packages/torchvision/transforms/v2/functional/_deprecated.py:12: UserWarning: The function `to_tensor(...)` is deprecated and will be removed in a future release. Instead, please use `to_image(...)` followed by `to_dtype(..., dtype=torch.float32, scale=True)`.\n",
            "  warnings.warn(\n"
          ]
        }
      ],
      "source": [
        "from torchvision.transforms.v2.functional import to_tensor\n",
        "\n",
        "cat_in_tensor2 = to_tensor(cat_in_pil)  # auto HWC -> CHW\n",
        "print(cat_in_tensor2.shape)\n",
        "\n",
        "print(\n",
        "    \"Tensor almost equal: \",\n",
        "    torch.allclose(cat_in_tensor_channel_first, cat_in_tensor2),  # float comparsion\n",
        ")"
      ]
    },
    {
      "cell_type": "markdown",
      "metadata": {
        "id": "J9PsDA5ebjeq"
      },
      "source": [
        "Теперь посмотрим на форму выхода, полученного нами ячейкой выше:"
      ]
    },
    {
      "cell_type": "code",
      "execution_count": null,
      "metadata": {
        "id": "NsLvEL21bjeq",
        "colab": {
          "base_uri": "https://localhost:8080/"
        },
        "outputId": "2bdf632c-82d3-4820-a280-ad1ea42027a8"
      },
      "outputs": [
        {
          "output_type": "stream",
          "name": "stdout",
          "text": [
            "Output feature map size: torch.Size([1, 1, 188, 188])\n"
          ]
        }
      ],
      "source": [
        "print(\"Output feature map size:\", out.shape)  # first dim is batch"
      ]
    },
    {
      "cell_type": "markdown",
      "metadata": {
        "id": "W_RBziJ4bjeq"
      },
      "source": [
        "Такую размерность имеет выход  **единственного нейрона** в нашем сверточном слое.\n",
        "\n",
        "На входе несколько каналов (3), на выходе остался один канал.\n",
        "Как же комбинируются результаты сверток в разных каналах?\n",
        "\n"
      ]
    },
    {
      "cell_type": "markdown",
      "metadata": {
        "id": "1D59BXH5bjeq"
      },
      "source": [
        "<img src =\"https://ml.gan4x4.ru/msu/dev-2.2/L06/out/convolution_rgb.png\" width=\"700\">\n"
      ]
    },
    {
      "cell_type": "markdown",
      "metadata": {
        "id": "7vVuIDlGbjeq"
      },
      "source": [
        "Результаты сверток всех ядер фильтра с соответствующими входными каналами просто суммируются:\n",
        "\n",
        "$\\large \\displaystyle \\text{feature_map}(x,y) = \\sum_{c}^{C} \\sum_{i}^{H} \\sum_{j}^{W}k_c[i,j]I_c[x+j,y+i] + \\text{bias},$\n",
        "\n",
        "$C$ — количество каналов,\n",
        "\n",
        "$H, W$ — высота и ширина ядра фильтра,\n",
        "\n",
        "$K_c$ — ядро для канала $c$,\n",
        "\n",
        "$I$ — изображение (массив $С\\times H\\times W$),\n",
        "\n",
        "$I_c$ — канал изображения номер $c$ (срез массива $I$, соответствующий каналу изображения номер $c$).\n",
        "\n",
        "В силу коммутативности суммы не важно, в каком порядке будут складываться элементы. Можно считать, что каждый элемент входа сначала умножается на свой коэффициент из ядра, а уже затем все суммируется."
      ]
    },
    {
      "cell_type": "markdown",
      "metadata": {
        "id": "RcGNswtJbjer"
      },
      "source": [
        "<img src =\"https://ml.gan4x4.ru/msu/dev-2.2/L06/out/rgb_image_convolution_filter.png\" width = \"650\">"
      ]
    },
    {
      "cell_type": "markdown",
      "metadata": {
        "id": "Rv9VU55ubjer"
      },
      "source": [
        "Так выглядит выход одного нейрона, который задается несколькими ядрами и  смещением (bias).\n",
        "\n",
        "При этом bias  **один** на весь фильтр."
      ]
    },
    {
      "cell_type": "code",
      "execution_count": null,
      "metadata": {
        "id": "99_O6y4bbjer",
        "colab": {
          "base_uri": "https://localhost:8080/"
        },
        "outputId": "5dc1ef3a-6477-4db1-f19c-1ff9a6f1b47a"
      },
      "outputs": [
        {
          "output_type": "stream",
          "name": "stdout",
          "text": [
            "Kernels torch.Size([1, 3, 5, 5])\n",
            "Biases torch.Size([1])\n"
          ]
        }
      ],
      "source": [
        "print(\"Kernels\", conv_ch3.weight.shape)\n",
        "print(\"Biases\", conv_ch3.bias.shape)"
      ]
    },
    {
      "cell_type": "markdown",
      "metadata": {
        "id": "hkTVZTppbjer"
      },
      "source": [
        "Входные данные не всегда будут трехканальными цветными [RGB 📚[wiki]](https://ru.wikipedia.org/wiki/RGB)-изображениями, в которых цвет пикселя определяется тремя числами, характеризующими три основных цвета (красный, зеленый и синий).\n",
        "\n",
        "Входной тензор может иметь произвольное количество каналов. Например: марсоход Opportunity для получения изображений использовал [13 каналов ✏️[blog]](https://habr.com/ru/post/160621/).\n",
        "\n",
        "Более того, в качестве входного тензора можно использовать не входное изображение, а **карту признаков (feature map)** с выхода предыдущего сверточного слоя.\n"
      ]
    },
    {
      "cell_type": "markdown",
      "metadata": {
        "id": "zOW6wjpsbjer"
      },
      "source": [
        "## Использование нескольких фильтров"
      ]
    },
    {
      "cell_type": "markdown",
      "metadata": {
        "id": "gpw318eWbjer"
      },
      "source": [
        "Возвращаемся ко второму параметру конструктора `nn.Conv2D` —\n",
        "`out_channels = 1`. Этот параметр задает количество фильтров слоя. То есть количество выходных карт признаков всегда совпадает с `out_channels` сверточного слоя."
      ]
    },
    {
      "cell_type": "code",
      "execution_count": null,
      "metadata": {
        "id": "O8GC2Q6sbjer",
        "colab": {
          "base_uri": "https://localhost:8080/"
        },
        "outputId": "3c660714-6ccf-40f9-d126-3f8d4ab89e35"
      },
      "outputs": [
        {
          "output_type": "stream",
          "name": "stdout",
          "text": [
            "weights shape: torch.Size([5, 3, 3, 3])\n",
            "weights shape: torch.Size([5])\n"
          ]
        }
      ],
      "source": [
        "conv35 = Conv2d(in_channels=3, out_channels=5, kernel_size=3)\n",
        "out = conv35(cat_in_tensor_channel_first)\n",
        "\n",
        "print(f\"weights shape: {conv35.weight.shape}\")  # 5 filters 3x3x3\n",
        "print(f\"weights shape: {conv35.bias.shape}\")  # one bias per filter"
      ]
    },
    {
      "cell_type": "markdown",
      "metadata": {
        "id": "n4W4f1LGbjer"
      },
      "source": [
        "В линейном слое каждый нейрон учился активироваться на некий шаблон, например, красную машину или смотрящую направо лошадь.\n",
        "\n",
        "Мы хотим, чтобы нейроны сверточного слоя также активировались на различные паттерны (например, ухо, нос, глаз и т.д.). Для каждого паттерна нам нужен свой нейрон $⇒$ свой фильтр."
      ]
    },
    {
      "cell_type": "markdown",
      "metadata": {
        "id": "WGahNJEIbjer"
      },
      "source": [
        "<img src =\"https://ml.gan4x4.ru/msu/dev-2.2/L06/out/neuron_is_filter.png\" width=\"700\">"
      ]
    },
    {
      "cell_type": "markdown",
      "metadata": {
        "id": "ojX5sce1bjes"
      },
      "source": [
        " Каждый нейрон сформирует свою карту признаков размера $1\\times H_{out}\\times W_{out}$. А на выходе слоя будет их конкатенация:"
      ]
    },
    {
      "cell_type": "code",
      "execution_count": null,
      "metadata": {
        "id": "E7rqqhDzbjes",
        "colab": {
          "base_uri": "https://localhost:8080/"
        },
        "outputId": "568814be-c5ab-4734-8bea-b296baef51f2"
      },
      "outputs": [
        {
          "output_type": "stream",
          "name": "stdout",
          "text": [
            "result shape: torch.Size([5, 190, 190])\n"
          ]
        }
      ],
      "source": [
        "print(f\"result shape: {out.shape}\")  # 5 feature map"
      ]
    },
    {
      "cell_type": "markdown",
      "metadata": {
        "id": "Z8Anh_f7bjes"
      },
      "source": [
        "При объединении этих карт получится тензор размерности $C_{out}\\times H_{out} \\times W_{out}$, где $C_{out}$ — количество фильтров.\n",
        "\n",
        "\n",
        "\n",
        "На изображении ниже продемонстрирован результат применения сверточного слоя,\n",
        "содержащего $5$ фильтров, к изображению из CIFAR-10."
      ]
    },
    {
      "cell_type": "markdown",
      "metadata": {
        "id": "zLF5ZVAbbjes"
      },
      "source": [
        "<img src =\"https://ml.gan4x4.ru/msu/dev-2.2/L06/out/convolution_layer_with_5_filters.png\" width=\"400\">"
      ]
    },
    {
      "cell_type": "markdown",
      "metadata": {
        "id": "6NQ3vqoPbjes"
      },
      "source": [
        "Стоит отметить, что, в отличие от полносвязного слоя, свёрточный слой не требует информации о количестве значений во входном представлении и может быть использован как для представлений $C_{in} \\times 32 \\times 32$, так и для $C_{in} \\times 100 \\times 100$. Словом, представления могут иметь практически любой размер, главное, чтобы пространственные размеры не были меньше размеров ядра свёртки.\n",
        "\n"
      ]
    },
    {
      "cell_type": "markdown",
      "metadata": {
        "id": "ssPBVmFwbjes"
      },
      "source": [
        "## Уменьшение размера карты признаков"
      ]
    },
    {
      "cell_type": "markdown",
      "metadata": {
        "id": "SeB7wHmibjes"
      },
      "source": [
        "Карта признаков после применения функции активации может быть передана на вход следующей операции свёртки."
      ]
    },
    {
      "cell_type": "code",
      "execution_count": null,
      "metadata": {
        "id": "vu2DxlnGbjes",
        "colab": {
          "base_uri": "https://localhost:8080/"
        },
        "outputId": "e87fc851-d217-441b-d603-22177c66c37d"
      },
      "outputs": [
        {
          "output_type": "stream",
          "name": "stdout",
          "text": [
            "img shape: torch.Size([1, 3, 32, 32])\n",
            "out_1 shape: torch.Size([1, 6, 28, 28])\n",
            "out_2 shape: torch.Size([1, 10, 24, 24])\n"
          ]
        }
      ],
      "source": [
        "from torch.nn.functional import relu\n",
        "\n",
        "conv_1 = torch.nn.Conv2d(\n",
        "    in_channels=3,  # Number of input channels (3 for RGB images)\n",
        "    out_channels=6,  # Number of filters/output channels\n",
        "    kernel_size=5,\n",
        ")\n",
        "\n",
        "conv_2 = torch.nn.Conv2d(\n",
        "    in_channels=6,  # Number of input channels (3 for RGB images)\n",
        "    out_channels=10,  # Number of filters/output channels\n",
        "    kernel_size=5,\n",
        ")\n",
        "\n",
        "img = torch.randn((1, 3, 32, 32))  # 1-batch size, 3-num of channels, (32,32)-img size\n",
        "print(f\"img shape: {img.shape}\")\n",
        "\n",
        "out_1 = conv_1(img)\n",
        "print(f\"out_1 shape: {out_1.shape}\")  # [1, 6, 28, 28]\n",
        "\n",
        "out_2 = conv_2(relu(out_1))\n",
        "print(f\"out_2 shape: {out_2.shape}\")  # [1, 10, 24, 24]"
      ]
    },
    {
      "cell_type": "markdown",
      "metadata": {
        "id": "uw9qLPg1bjes"
      },
      "source": [
        "Заметим, что после свёртки ширина $W_{out}$ и высота $H_{out}$ **карты признаков** будут отличаться от **пространственных размерностей** $W_{in}$ и $H_{in}$ исходного тензора. К примеру, при обработке трёхканального тензора размера $32\\times32$ ядром размера $5\\times5$ можно будет произвести лишь $27$ сдвигов $(32 - 5)$ по вертикали и столько же по горизонтали. Но при этом размер итоговой карты признаков будет равен $28 \\times 28$, поскольку первый ряд (либо столбец) можно получить без сдвигов по вертикали либо горизонтали соответственно. При повторном применении фильтра размер каждой из сторон уменьшится ещё на $4$.\n",
        "\n",
        "Итоговое значение $N'$ пространственной размерности $N$ для квадратного фильтра $K \\times K$ фильтра $F$ вычисляется по следующей формуле:\n",
        "$$\\large N' = N - K + 1$$."
      ]
    },
    {
      "cell_type": "markdown",
      "metadata": {
        "id": "YuCRb6IJbjes"
      },
      "source": [
        "<img src =\"https://ml.gan4x4.ru/msu/dev-2.2/L06/out/decrease_size_of_image_after_convolution.png\" width=\"700\">"
      ]
    },
    {
      "cell_type": "markdown",
      "metadata": {
        "id": "b3nw_cOrbjet"
      },
      "source": [
        "Заметим, что при уменьшении размера представлений пиксели, находящиеся около краёв, участвуют в значительно меньшем количестве свёрток, чем пиксели в середине, хотя информация в них не обязательно менее ценна, чем информация из центральных пикселей. К примеру, пиксель в верхнем левом углу представления вне зависимости от размера фильтра будет принимать участие лишь в одной свёртке, и информация о нём будет сохранена лишь в верхнем левом углу нового представления."
      ]
    },
    {
      "cell_type": "markdown",
      "metadata": {
        "id": "OSxGmltQbjet"
      },
      "source": [
        "## Расширение (padding)"
      ]
    },
    {
      "cell_type": "markdown",
      "metadata": {
        "id": "OGuj5PuIbjet"
      },
      "source": [
        "Для борьбы с описанной выше проблемой применяется *набивка/дополнение* входного тензора (англ. *padding*). В ходе него ширина и высота тензора увеличиваются за счёт приписывания столбцов и строк с некоторыми значениями. К примеру, на изображении ниже перед свёрткой ядром размера $3\\times3$ был применён padding нулями."
      ]
    },
    {
      "cell_type": "markdown",
      "metadata": {
        "id": "sN52kLiKbjet"
      },
      "source": [
        "<img src =\"https://ml.gan4x4.ru/msu/dev-2.2/L06/out/padding.png\" width=\"250\">"
      ]
    },
    {
      "cell_type": "markdown",
      "metadata": {
        "id": "VXDkbBxabjet"
      },
      "source": [
        "На примере убедимся, что это позволит нам сохранить пространственные размерности тензоров."
      ]
    },
    {
      "cell_type": "code",
      "execution_count": null,
      "metadata": {
        "id": "QFkhAnR9bjet",
        "colab": {
          "base_uri": "https://localhost:8080/"
        },
        "outputId": "c4849a4c-6e22-4b03-f956-0f5b5352b84f"
      },
      "outputs": [
        {
          "output_type": "stream",
          "name": "stdout",
          "text": [
            "Original tensor:\n",
            "shape:torch.Size([1, 1, 5, 5])\n",
            "Shape after convolution layer(kernel 3x3): torch.Size([1, 1, 3, 3])\n"
          ]
        }
      ],
      "source": [
        "img = torch.randn((1, 1, 5, 5))  # create random image BCHW\n",
        "print(f\"Original tensor:\\nshape:{img.shape}\")\n",
        "conv_3 = torch.nn.Conv2d(in_channels=1, out_channels=1, kernel_size=3)\n",
        "conved_3 = conv_3(img)\n",
        "print(\"Shape after convolution layer(kernel 3x3):\", conved_3.shape)"
      ]
    },
    {
      "cell_type": "markdown",
      "metadata": {
        "id": "iLU3gMX8bjet"
      },
      "source": [
        "Карта признаков меньше, чем вход. Теперь добавим padding:"
      ]
    },
    {
      "cell_type": "code",
      "execution_count": null,
      "metadata": {
        "id": "_mwDJQNhbjet",
        "colab": {
          "base_uri": "https://localhost:8080/"
        },
        "outputId": "6a26dfa1-372b-468f-a48d-3aefa25e87e8"
      },
      "outputs": [
        {
          "output_type": "stream",
          "name": "stdout",
          "text": [
            "\n",
            "Padded tensor:\n",
            "shape:torch.Size([1, 1, 7, 7]):\n",
            " tensor([[[[ 0.0000,  0.0000,  0.0000,  0.0000,  0.0000,  0.0000,  0.0000],\n",
            "          [ 0.0000,  0.5402, -2.4546,  0.3934, -0.0685, -0.8054,  0.0000],\n",
            "          [ 0.0000, -0.2551,  0.7050,  0.1064,  0.3913,  0.0630,  0.0000],\n",
            "          [ 0.0000,  0.5743,  0.4731, -0.7941,  0.8732,  0.0313,  0.0000],\n",
            "          [ 0.0000,  0.9114, -0.1068,  0.6257, -1.0923, -0.9405,  0.0000],\n",
            "          [ 0.0000, -0.4192,  0.4200, -0.9414, -0.5007, -2.3843,  0.0000],\n",
            "          [ 0.0000,  0.0000,  0.0000,  0.0000,  0.0000,  0.0000,  0.0000]]]])\n",
            "\n",
            "\n",
            "Padded shape: torch.Size([1, 1, 7, 7])\n",
            "Shape after convolution with padding(kernel 3x3): torch.Size([1, 1, 5, 5])\n"
          ]
        }
      ],
      "source": [
        "# add zeros to image manually\n",
        "padded_img = torch.zeros((1, 1, 7, 7))  # create zeros array to insert image in center\n",
        "padded_img[:, :, 1:-1, 1:-1] += img  # insert image, we get image arounded by zeros\n",
        "print(f\"\\nPadded tensor:\\nshape:{padded_img.shape}:\\n {padded_img}\")\n",
        "\n",
        "conved_pad_3 = conv_3(padded_img)\n",
        "print(\"\\n\\nPadded shape:\", padded_img.shape)\n",
        "print(\"Shape after convolution with padding(kernel 3x3):\", conved_pad_3.shape)"
      ]
    },
    {
      "cell_type": "markdown",
      "metadata": {
        "id": "W1k93bYbbjet"
      },
      "source": [
        "Размер выхода равен размеру входа.\n",
        "\n",
        "Однако если мы увеличим размер ядра до $5\\times5$, то увидим, что, несмотря на padding, выход снова стал меньше входа:"
      ]
    },
    {
      "cell_type": "code",
      "execution_count": null,
      "metadata": {
        "id": "UoOS0J4Ubjet",
        "colab": {
          "base_uri": "https://localhost:8080/"
        },
        "outputId": "5c0926d1-6b5c-41c1-cec2-6ba8cd5ae8e3"
      },
      "outputs": [
        {
          "output_type": "stream",
          "name": "stdout",
          "text": [
            "Original shape: torch.Size([1, 1, 5, 5])\n",
            "Shape after convolution with padding(kernel 5x5): torch.Size([1, 1, 3, 3])\n"
          ]
        }
      ],
      "source": [
        "conv_5 = torch.nn.Conv2d(in_channels=1, out_channels=1, kernel_size=5)\n",
        "\n",
        "conved_pad_5 = conv_5(padded_img)\n",
        "\n",
        "print(\"Original shape:\", img.shape)\n",
        "print(\"Shape after convolution with padding(kernel 5x5):\", conved_pad_5.shape)"
      ]
    },
    {
      "cell_type": "markdown",
      "metadata": {
        "id": "P4VTe5Xtbjet"
      },
      "source": [
        "Дополнение одним рядом и одним столбцом не является универсальным решением: для фильтра размером $5$ размер выходного тензора всё равно отличается от входного. Если мы немного видоизменим полученную выше формулу (используя размер дополнения $P$), то получим:\n",
        "$$\\large N' = N + 2\\cdot P - K + 1$$\n",
        "\n",
        "Для того, чтобы пространственные размеры не изменялись ($N' = N$), для разных размеров фильтра требуются разные размеры дополнения. В общем случае для размера фильтра $F$ требуемый размер дополнения:\n",
        "$$\\large P = \\frac{K-1}{2}$$\n",
        "\n",
        "\n"
      ]
    },
    {
      "cell_type": "markdown",
      "metadata": {
        "id": "pNN1NGnFbjet"
      },
      "source": [
        "Теперь реализуем padding, используя инструменты библиотеки PyTorch, и сравним его с ручным добавлением padding:"
      ]
    },
    {
      "cell_type": "code",
      "execution_count": null,
      "metadata": {
        "id": "m7EbvnQTbjet",
        "colab": {
          "base_uri": "https://localhost:8080/"
        },
        "outputId": "070b8c0d-3f92-4e92-9bf5-165b4d17d947"
      },
      "outputs": [
        {
          "output_type": "stream",
          "name": "stdout",
          "text": [
            "Explicitly padded:\n",
            "torch.Size([1, 1, 5, 5])\n",
            "\n",
            "Implicitly padded:\n",
            "torch.Size([1, 1, 5, 5])\n"
          ]
        }
      ],
      "source": [
        "# conv layer without padding (padding=0 by default)\n",
        "conv_3 = torch.nn.Conv2d(in_channels=1, out_channels=1, kernel_size=3, padding=0)\n",
        "\n",
        "# conv layer with padding = 1 (add zeros)\n",
        "conv_3_padded = torch.nn.Conv2d(\n",
        "    in_channels=1, out_channels=1, kernel_size=3, padding=1\n",
        ")  # Padding added 1 zeros line to all four sides of the input\n",
        "original = conv_3(padded_img)\n",
        "padded = conv_3_padded(img)\n",
        "\n",
        "print(f\"Explicitly padded:\\n{original.shape}\")\n",
        "print(f\"\\nImplicitly padded:\\n{padded.shape}\")"
      ]
    },
    {
      "cell_type": "markdown",
      "metadata": {
        "id": "FNhbBXblbjeu"
      },
      "source": [
        "Кроме чисел параметр `padding` может принимать значение `\"same\"` — тогда padding будет рассчитан автоматически так, чтобы размер выходного тензора не отличался от размера входного тензора, или `\"valid\"` — отсутствие дополнения.\n",
        "\n",
        "По умолчанию `padding = 0`, а если его изменить на целочисленное значение, то края тензора будут дополняться нулями, как в примерах выше. Это тоже не универсальный способ обработки краев изображения при свертках. Есть модификации: например, в `numpy.pad` [🛠️[doc]](https://numpy.org/doc/stable/reference/generated/numpy.pad.html) есть зеркальный padding или заполнение средним значением."
      ]
    },
    {
      "cell_type": "markdown",
      "metadata": {
        "id": "tq8sBzRKbjeu"
      },
      "source": [
        "Визуализация работы свертки:"
      ]
    },
    {
      "cell_type": "markdown",
      "metadata": {
        "id": "QiRERavQbjeu"
      },
      "source": [
        "<img src =\"https://ml.gan4x4.ru/msu/dev-2.2/L06/out/convolution_with_same_padding_rgb_image.gif\" width=\"780\">"
      ]
    },
    {
      "cell_type": "markdown",
      "metadata": {
        "id": "rhTtVdEeYsjw"
      },
      "source": [
        "# Batchnorm 2d"
      ]
    },
    {
      "cell_type": "markdown",
      "metadata": {
        "id": "sbEFn18aYsjw"
      },
      "source": [
        "Сверточный слой можно свести к линейному слою. BatchNorm можно применять и для линейных слоев, и для сверточных.\n",
        "\n",
        "Признаки внутри одного канала (одной карты признаков) получаются путем применения к исходному изображению одних и тех же преобразований. По сути **1 канал** — это **карта одного признака**. Поэтому логично, что нормализация будет происходить по каналам, а одним признаком считается одна **feature map**.\n",
        "Нормализация идет по всей такой feature map (по всему каналу) для всех объектов батча."
      ]
    },
    {
      "cell_type": "markdown",
      "metadata": {
        "id": "H42uaXSoYsjw"
      },
      "source": [
        "<center><img src =\"https://ml.gan4x4.ru/msu/dev-2.2/L07/out/feature_map.png\" width=\"500\"></center>"
      ]
    },
    {
      "cell_type": "markdown",
      "metadata": {
        "id": "r7WH0_ZLYsjw"
      },
      "source": [
        "В PyTorch для полносвязных слоев используют `nn.BatchNorm1d` [🛠️[doc]](https://pytorch.org/docs/stable/generated/torch.nn.BatchNorm1d.html), а для сверточных — `nn.BatchNorm2d` [🛠️[doc]](https://pytorch.org/docs/stable/generated/torch.nn.BatchNorm2d.html)."
      ]
    },
    {
      "cell_type": "markdown",
      "metadata": {
        "id": "uzAEVAEmYsjw"
      },
      "source": [
        "Графически нормализации часто объясняют при помощи следующей схемы:"
      ]
    },
    {
      "cell_type": "markdown",
      "metadata": {
        "id": "FX_QnCwiYsjw"
      },
      "source": [
        "<center><img src =\"https://ml.gan4x4.ru/msu/dev-2.2/L07/out/dimensions_channels_batch_samples.png\" width=\"450\"></center>"
      ]
    },
    {
      "cell_type": "markdown",
      "metadata": {
        "id": "gjoM3M3TYsjw"
      },
      "source": [
        "*По оси абсцисс* расположены **объекты из батча**,\n",
        "*по оси ординат* &mdash; **feature map**, преобразованный в вектор,\n",
        "*по оси аппликат* &mdash; **каналы** (feature maps).\n",
        "\n",
        "Размер такого кубика:\n",
        "$$[\\text{batch size}, \\text{channels}, \\text{h}, \\text{w}]$$\n",
        "\n",
        "В этом представлении **BatchNorm** для свертки выглядит следующим образом:"
      ]
    },
    {
      "cell_type": "markdown",
      "metadata": {
        "id": "nnVQCXKEYsjw"
      },
      "source": [
        "<center><img src =\"https://ml.gan4x4.ru/msu/dev-2.2/L07/out/visualization_of_batch_normalization.png\" width=\"450\">\n",
        "\n",
        "<em>Source: <a href=\"https://paperswithcode.com/method/batch-normalization\">Batch Normalization</a></em></center>\n",
        "\n",
        "Статистки считаются по срезу:\n",
        "\n",
        "$$[\\text{:}, \\text{ channels}, \\text{ :}, \\text{ :}]$$\n",
        "\n",
        "Всего считается $\\text{channels}$ статистик, по одной для каждой карты признаков."
      ]
    },
    {
      "cell_type": "markdown",
      "metadata": {
        "id": "cDMn1hgxYsjy"
      },
      "source": [
        "## Другие Normalization"
      ]
    },
    {
      "cell_type": "markdown",
      "metadata": {
        "id": "-NDiz1rFYsjy"
      },
      "source": [
        "Существует большое количество иных нормализаций, их неполный список можно найти [здесь 🎓[article]](https://paperswithcode.com/methods/category/normalization). В данной секции мы рассмотрим самые популярные виды нормализации помимо **BatchNorm**.\n",
        "\n",
        "\n",
        "Есть несколько мотиваций для замены батч-нормализации на другие типы нормализации:\n",
        "- при обучении модели вы можете столкнуться с ситуацией, когда вам нужно учить модель при `batch_size=1` (больше не помещается на видеокарту). BN работает неэффективно с маленькими размерами батча,\n",
        "- при параллельном обучении модели на нескольких видеокартах необходимо обмениваться статистиками для BN между устройствами. Обмен информацией между устройствами может замедлять обучение."
      ]
    },
    {
      "cell_type": "markdown",
      "metadata": {
        "id": "Q0gXlS2RYsjy"
      },
      "source": [
        "<center><img src =\"https://ml.gan4x4.ru/msu/dev-2.1/L07/normalization_methods.png\" width=\"900\">\n",
        "\n",
        "<em>Source: <a href=\"https://paperswithcode.com/method/layer-normalization\">Layer Normalization</a></em></center>"
      ]
    },
    {
      "cell_type": "markdown",
      "metadata": {
        "id": "CtTAvZJ0Ysjy"
      },
      "source": [
        "### Layer Norm"
      ]
    },
    {
      "cell_type": "markdown",
      "metadata": {
        "id": "OKIj8MlXYsjy"
      },
      "source": [
        "Помимо свёрточных нейронных сетей, существует специальный тип нейронных сетей, используемых для обработки последовательностей. Называется он \"**рекуррентные нейронные сети**\".\n",
        "\n",
        "Когда оказалось, что **BatchNorm** положительно сказывается на обучении нейронных сетей, его попытались применить для различных архитектур. BatchNorm нельзя было использовать \"из коробки\" для рекуррентных нейронных сетей (работающих с последовательными данными), пришлось придумывать различные адаптации, среди которых наиболее удачной оказалась **Layer Normalization**.\n",
        "\n",
        "По сути, теперь нормализация происходит внутри **одного объекта из батча**, а не поканально в рамках батча. С математической точки зрения данная \"адаптация\" отличается от **BatchNorm**, однако экспериментально она превзошла своих конкурентов в задаче нормализации при обработке последовательных данных."
      ]
    },
    {
      "cell_type": "markdown",
      "metadata": {
        "id": "43_mYRmNYsjy"
      },
      "source": [
        "Впоследствии данный метод нормализации хорошо проявил себя в **трансформерах** — наследниках рекуррентных нейронных сетей в вопросах обработки последовательных данных. После успешного применения трансформеров в задачах компьютерного зрения, **LayerNorm** стал использоваться и в компьютерном зрении.\n",
        "\n",
        "Размер кубика:\n",
        "$$[\\text{batch size}, \\text{channels}, \\text{h}, \\text{w}]$$\n",
        "\n",
        "Статистики считаются по срезу:\n",
        "$$[\\text{batch size}, \\text{ :}, \\text{ :}, \\text{ :}]$$\n",
        "\n",
        "По одной статистике для кажого объекта в батче."
      ]
    },
    {
      "cell_type": "markdown",
      "metadata": {
        "id": "gjFg7cjIYsjy"
      },
      "source": [
        "<center><img src =\"https://ml.gan4x4.ru/msu/dev-2.2/L07/out/visualization_of_layer_normalization.png\" width=\"450\">\n",
        "\n",
        "<em>Source: <a href=\"https://paperswithcode.com/method/layer-normalization\">Layer Normalization</a></em></center>\n"
      ]
    },
    {
      "cell_type": "markdown",
      "metadata": {
        "id": "cWzVIG72Ysjy"
      },
      "source": [
        "### Instance Norm"
      ]
    },
    {
      "cell_type": "markdown",
      "metadata": {
        "id": "LQCl9029Ysjy"
      },
      "source": [
        "Следующий вид нормализации был предложен отечественными исследователями (из Сколтеха), занимавшимися разработкой быстрого и эффективного способа **переноса стиля** с одного изображения на другое.\n",
        "\n",
        "При использовании BatchNorm теряется информация о контрастах на конкретном изображении, поскольку нормализация производится по нескольким объектам. Для сохранения *контрастов* в экземпляре (*instance*) изображения была предложена специальная нормализация, рассматривающая конкретный канал одного конкретного объекта. Было предложено два названия нормализации: связанное с мотивацией (contrast normalization) и связанное с принципом работы (**instance normalization**)."
      ]
    },
    {
      "cell_type": "markdown",
      "metadata": {
        "id": "IByhNv-MYsjy"
      },
      "source": [
        "Размер кубика:\n",
        "$$[\\text{batch size}, \\text{channels}, \\text{h}, \\text{w}]$$\n",
        "\n",
        "Статистики считаются по срезу:\n",
        "$$[\\text{batch size}, \\text{channels}, \\text{ :}, \\text{ :}]$$\n",
        "\n",
        "По одной статистике для каждого канала каждого объекта в батче."
      ]
    },
    {
      "cell_type": "markdown",
      "metadata": {
        "id": "RCB5Vi_QYsjy"
      },
      "source": [
        "<center><img src =\"https://ml.gan4x4.ru/msu/dev-2.2/L07/out/visualization_of_instance_normalization.png\" width=\"450\"></center>\n",
        "\n",
        "<center><em>Source: <a href=\"https://paperswithcode.com/method/instance-normalization\">Instance Normalization</a></em></center>"
      ]
    },
    {
      "cell_type": "markdown",
      "metadata": {
        "id": "PvHj5dOfYsjy"
      },
      "source": [
        "### Group Norm"
      ]
    },
    {
      "cell_type": "markdown",
      "metadata": {
        "id": "tq20ELXbYsjz"
      },
      "source": [
        "В течение долгого времени BatchNorm оставался однозначным фаворитом для использования в задачах компьютерного зрения, однако:\n",
        "1. В связи с необходимостью точно считать статистики внутри batch при обучении приходилось использовать большой batch size.\n",
        "\n",
        "2. Ограниченность размера памяти видеокарты вынуждает разработчиков идти на компромисс между сложностью модели и размером батча."
      ]
    },
    {
      "cell_type": "markdown",
      "metadata": {
        "id": "SK671pnHYsjz"
      },
      "source": [
        "Таким образом, использование BatchNorm приводило к невозможности использовать сложные модели**\\***, поскольку им просто не хватало места на видеокарте.\n",
        "\n",
        "Необходимость использовать большой batch size могут решать различные нормализации, не использующие batch-размерность. К примеру, уже известные нам **Layer Norm** и **Instance Norm**. Эмпирически оказалось, что данные нормализации уступают BatchNorm по качеству работы: в то время как LayerNorm предполагает одинаковую важность и суть различных каналов (*рассматривая данные излишне глобально*), InstanceNorm упускает межканальные взаимодействия (*рассматривая данные слишком локально*)."
      ]
    },
    {
      "cell_type": "markdown",
      "metadata": {
        "id": "IQsJUb_LYsjz"
      },
      "source": [
        "Успешным обобщением данных методов является **Group Normalization**: данный метод разбивает каналы на $G \\in [1; C]$ групп, присваивая каждой из них примерно равное количество каналов. Отметим, что при $G = 1$ GroupNorm идентичен LayerNorm, а при $G = C$ GroupNorm идентичен InstanceNorm.\n",
        "\n",
        "Эмпирически оказалось, что при замене BatchNorm на GroupNorm качество модели падает в разы менее значительно, чем при использовании LayerNorm либо InstanceNorm. Более того, при изменении batch size качество работы GroupNorm не изменялось, что открыло перспективы для создания более сложных моделей компьютерного зрения.\n",
        "\n",
        "**\\*** — подразумевается, что уменьшение batch size позволило бы создать более сложные модели."
      ]
    },
    {
      "cell_type": "markdown",
      "metadata": {
        "id": "zvW1825VYsjz"
      },
      "source": [
        "Размер кубика:\n",
        "$$[\\text{batch size}, \\text{channels}, \\text{h}, \\text{w}]$$\n",
        "\n",
        "Статистики считаются по срезу:\n",
        "$$[\\text{batch size}, \\text{ i: j}, \\text{ :}, \\text{ :}]$$\n",
        "\n",
        "По одной статистике для каждой группы каналов каждого объекта в батче."
      ]
    },
    {
      "cell_type": "markdown",
      "metadata": {
        "id": "bTyK6_k9Ysjz"
      },
      "source": [
        "<center><img src =\"https://ml.gan4x4.ru/msu/dev-2.2/L07/out/visualization_of_group_normalization.png\" width=\"450\"></center>\n",
        "\n",
        "<center><em>Source: <a href=\"https://paperswithcode.com/method/group-normalization\">Group Normalization</a></em></center>"
      ]
    },
    {
      "cell_type": "markdown",
      "source": [
        "# Dropout 2d"
      ],
      "metadata": {
        "id": "bWHCI1wzpUWA"
      }
    },
    {
      "cell_type": "markdown",
      "metadata": {
        "id": "kMrbHcMsYsjz"
      },
      "source": [
        "Аналогично **Batch Normalization**, при применении к **сверточному слою**  **Dropout** должен **убирать каналы целиком**. Dropout для полносвязного слоя реализован в PyTorch в `nn.Dropout` [🛠️[doc]](https://pytorch.org/docs/stable/generated/torch.nn.Dropout.html), для сверточного — в `nn.Dropout2d` [🛠️[doc]](https://pytorch.org/docs/stable/generated/torch.nn.Dropout2d.html)."
      ]
    },
    {
      "cell_type": "markdown",
      "metadata": {
        "id": "0-0iYzRoYsjz"
      },
      "source": [
        "<center><img src =\"https://ml.gan4x4.ru/msu/dev-2.2/L07/out/dropout_2d.png\" width=\"700\"></center>"
      ]
    }
  ]
}