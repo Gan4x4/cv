{
  "nbformat": 4,
  "nbformat_minor": 0,
  "metadata": {
    "colab": {
      "provenance": [],
      "toc_visible": true
    },
    "kernelspec": {
      "name": "python3",
      "display_name": "Python 3"
    },
    "language_info": {
      "name": "python"
    }
  },
  "cells": [
    {
      "cell_type": "markdown",
      "metadata": {
        "id": "J6vkWOCEQPZ9"
      },
      "source": [
        "# Наивный Байесовский классификатор в NLP задаче"
      ]
    },
    {
      "cell_type": "markdown",
      "metadata": {
        "id": "hVYvb1gLQPZ9"
      },
      "source": [
        "Наивный Байесовский классификатор часто используют в задаче обнаружения спама, и пример его использования в такой задаче может показаться ещё более наглядным.\n",
        "\n",
        "В рамках данной задачи у нас имеются:\n",
        "- Датасет из текстов сообщений с некоторым фиксированным словарём возможных слов.\n",
        "- Два класса сообщений: спам и нормальное.\n",
        "- Признаковое описание для каждого сообщения, характеризующее количество вхождений каждого из слов словаря в текст сообщения."
      ]
    },
    {
      "cell_type": "markdown",
      "metadata": {
        "id": "2s_VHuvZQPZ9"
      },
      "source": [
        "На основе этой информации нам нужно научиться отделять нормальные письма от спама. Все письма состоят из 4-х слов: **‘Добрый’, ‘День’, ‘Гости’, ‘Деньги’**. При этом мы уже посчитали, сколько раз каждое слово встречается в каждом классе.\n",
        "\n",
        "Мы можем посчитать вероятность встретить слово **‘Добрый’** в нормальном письме: берем количество слов **‘Добрый’** и делим на количество слов во всех нормальных письмах (с повторениями). Аналогично для других слов."
      ]
    },
    {
      "cell_type": "markdown",
      "metadata": {
        "id": "eLuoAxKUQPZ9"
      },
      "source": [
        "<center><img src=\"https://ml.gan4x4.ru/msu/additions/L02/naive_bayes_1.png\" width=\"900\"/></center>"
      ]
    },
    {
      "cell_type": "markdown",
      "metadata": {
        "id": "CGV7Bw1jQPZ9"
      },
      "source": [
        "Делаем то же самое для слов из спама."
      ]
    },
    {
      "cell_type": "markdown",
      "metadata": {
        "id": "BBTa1fQIQPZ9"
      },
      "source": [
        "<center><img src=\"https://ml.gan4x4.ru/msu/additions/L02/naive_bayes_2.png\" width=\"900\"/></center>"
      ]
    },
    {
      "cell_type": "markdown",
      "metadata": {
        "id": "5UGlTM1eQPZ-"
      },
      "source": [
        "Считаем вероятность того, что письмо было нормальным. Для этого количество нормальных писем делим на общее количество писем. Аналогично для спама. Это $p(\\text{target} = i)$."
      ]
    },
    {
      "cell_type": "markdown",
      "metadata": {
        "id": "GO2hyFdqQPZ-"
      },
      "source": [
        "<center><img src=\"https://ml.gan4x4.ru/msu/additions/L02/naive_bayes_3.png\" width=\"900\"/></center>"
      ]
    },
    {
      "cell_type": "markdown",
      "metadata": {
        "id": "6SPaStqoQPZ-"
      },
      "source": [
        "Чтобы получить вероятность нормального письма с фразой **‘Добрый День’** в \"наивном\" предположении, мы можем перемножить вероятности нормального письма со словом **‘Добрый’** и нормального письма со словом **‘День’**. Это произведение будет $p(\\text{target} = i | \\text{Features} = \\vec X)$.\n",
        "\n",
        "Считаем $p(\\text{Features} = \\vec X|\\text{target} = i) p(\\text{target} = i)$:"
      ]
    },
    {
      "cell_type": "markdown",
      "metadata": {
        "id": "yP9h1L6fQPZ-"
      },
      "source": [
        "<center><img src=\"https://ml.gan4x4.ru/msu/additions/L02/naive_bayes_3_5.png\" width=\"900\"/></center>"
      ]
    },
    {
      "cell_type": "markdown",
      "source": [
        "[[doc] 🛠️ Пример кода](https://scikit-learn.org/stable/auto_examples/text/plot_document_classification_20newsgroups.html#benchmarking-classifiers)"
      ],
      "metadata": {
        "id": "QforsCLCbr86"
      }
    },
    {
      "cell_type": "markdown",
      "metadata": {
        "id": "LL-PPinaQPZ-"
      },
      "source": [
        "Если вы работаете с NLP, советуем ознакомиться с Latent Dirichlet Allocation:\n",
        "* [[video] 📺 Latent Dirichlet Allocation (Part 1 of 2)](https://www.youtube.com/watch?v=T05t-SqKArY),\n",
        "* [[video] 📺 Training Latent Dirichlet Allocation: Gibbs Sampling (Part 2 of 2)](https://www.youtube.com/watch?v=BaM1uiCpj_E)."
      ]
    }
  ]
}