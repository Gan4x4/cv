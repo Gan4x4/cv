{
  "nbformat": 4,
  "nbformat_minor": 0,
  "metadata": {
    "colab": {
      "provenance": [],
      "toc_visible": true
    },
    "kernelspec": {
      "name": "python3",
      "display_name": "Python 3"
    },
    "language_info": {
      "name": "python"
    }
  },
  "cells": [
    {
      "cell_type": "markdown",
      "metadata": {
        "id": "MHk0I3oSbkPe"
      },
      "source": [
        "# Эксперимент с отбором признаков"
      ]
    },
    {
      "cell_type": "markdown",
      "metadata": {
        "id": "EsJNtrP6bkPe"
      },
      "source": [
        "Никогда не отбирайте признаки на том же наборе данных, на котором тестируетесь. Иначе получите завышенное качество вашей модели."
      ]
    },
    {
      "cell_type": "markdown",
      "metadata": {
        "id": "aTBKc3RzbkPe"
      },
      "source": [
        "## Пример обучения на большом числе бесполезных признаков"
      ]
    },
    {
      "cell_type": "markdown",
      "metadata": {
        "id": "OxLloMmdbkPe"
      },
      "source": [
        "Сгенерируем следующий датасет.\n",
        "\n",
        "У нас есть по 500 пациентов, больных и здоровых.\n",
        "Для каждого известно 100000 **случайных** бинарных признаков.\n",
        "Что будет, если мы попросим нашу модель научиться отделять здоровых от больных?"
      ]
    },
    {
      "cell_type": "code",
      "execution_count": null,
      "metadata": {
        "id": "JwZHcAEKbkPe"
      },
      "outputs": [],
      "source": [
        "import numpy as np\n",
        "import pandas as pd\n",
        "\n",
        "np.random.seed(42)\n",
        "\n",
        "pat_cnt = 500  # patients\n",
        "snv_count = 100000  # all features(binary)\n",
        "\n",
        "genes = [f\"SNP{ind}\" for ind in range(snv_count)]  # features names\n",
        "\n",
        "# Generate 2 data sets, healthy and diseased patients.\n",
        "# Each data set is a binary vector of length `snv_count`,\n",
        "# in other words a SNV count vector of length 100000.\n",
        "\n",
        "genes = [f\"SNP{ind}\" for ind in range(snv_count)]\n",
        "healthy = pd.DataFrame(\n",
        "    np.random.choice([0, 1], size=(pat_cnt, snv_count)), columns=genes\n",
        ")\n",
        "# We add a `State` column, indicating whether it's healthy or diseased.\n",
        "healthy[\"State\"] = \"H\"\n",
        "diseased = pd.DataFrame(\n",
        "    np.random.choice([0, 1], size=(pat_cnt, snv_count)), columns=genes\n",
        ")\n",
        "diseased[\"State\"] = \"D\"\n",
        "\n",
        "patients = pd.concat([healthy, diseased], axis=0)\n",
        "\n",
        "# We drop the State column to get a `x` and a `y` matrix.\n",
        "x = patients.drop(\"State\", axis=1)\n",
        "y = patients[\"State\"]"
      ]
    },
    {
      "cell_type": "code",
      "execution_count": null,
      "metadata": {
        "id": "0VJCTyWhbkPe",
        "colab": {
          "base_uri": "https://localhost:8080/",
          "height": 235
        },
        "outputId": "d2f0e4e2-0322-4268-8d7c-385ec626dd35"
      },
      "outputs": [
        {
          "output_type": "execute_result",
          "data": {
            "text/plain": [
              "   SNP0  SNP1  SNP2  SNP3  SNP4  SNP5  SNP6  SNP7  SNP8  SNP9  ...  SNP99990  \\\n",
              "0     0     1     0     0     0     1     0     0     0     1  ...         1   \n",
              "1     0     1     1     1     1     1     0     0     0     1  ...         0   \n",
              "2     1     1     1     0     0     0     1     1     0     1  ...         1   \n",
              "3     0     1     1     1     1     1     1     1     1     1  ...         0   \n",
              "4     1     0     1     1     0     1     1     1     0     1  ...         0   \n",
              "\n",
              "   SNP99991  SNP99992  SNP99993  SNP99994  SNP99995  SNP99996  SNP99997  \\\n",
              "0         1         1         0         1         0         1         0   \n",
              "1         1         1         0         1         1         0         1   \n",
              "2         1         0         1         0         1         0         1   \n",
              "3         0         0         1         1         1         0         1   \n",
              "4         0         1         1         1         0         1         0   \n",
              "\n",
              "   SNP99998  SNP99999  \n",
              "0         1         1  \n",
              "1         0         1  \n",
              "2         1         1  \n",
              "3         0         1  \n",
              "4         1         1  \n",
              "\n",
              "[5 rows x 100000 columns]"
            ],
            "text/html": [
              "\n",
              "  <div id=\"df-2a60681d-5ce1-46fe-b41d-ca3976552c7b\" class=\"colab-df-container\">\n",
              "    <div>\n",
              "<style scoped>\n",
              "    .dataframe tbody tr th:only-of-type {\n",
              "        vertical-align: middle;\n",
              "    }\n",
              "\n",
              "    .dataframe tbody tr th {\n",
              "        vertical-align: top;\n",
              "    }\n",
              "\n",
              "    .dataframe thead th {\n",
              "        text-align: right;\n",
              "    }\n",
              "</style>\n",
              "<table border=\"1\" class=\"dataframe\">\n",
              "  <thead>\n",
              "    <tr style=\"text-align: right;\">\n",
              "      <th></th>\n",
              "      <th>SNP0</th>\n",
              "      <th>SNP1</th>\n",
              "      <th>SNP2</th>\n",
              "      <th>SNP3</th>\n",
              "      <th>SNP4</th>\n",
              "      <th>SNP5</th>\n",
              "      <th>SNP6</th>\n",
              "      <th>SNP7</th>\n",
              "      <th>SNP8</th>\n",
              "      <th>SNP9</th>\n",
              "      <th>...</th>\n",
              "      <th>SNP99990</th>\n",
              "      <th>SNP99991</th>\n",
              "      <th>SNP99992</th>\n",
              "      <th>SNP99993</th>\n",
              "      <th>SNP99994</th>\n",
              "      <th>SNP99995</th>\n",
              "      <th>SNP99996</th>\n",
              "      <th>SNP99997</th>\n",
              "      <th>SNP99998</th>\n",
              "      <th>SNP99999</th>\n",
              "    </tr>\n",
              "  </thead>\n",
              "  <tbody>\n",
              "    <tr>\n",
              "      <th>0</th>\n",
              "      <td>0</td>\n",
              "      <td>1</td>\n",
              "      <td>0</td>\n",
              "      <td>0</td>\n",
              "      <td>0</td>\n",
              "      <td>1</td>\n",
              "      <td>0</td>\n",
              "      <td>0</td>\n",
              "      <td>0</td>\n",
              "      <td>1</td>\n",
              "      <td>...</td>\n",
              "      <td>1</td>\n",
              "      <td>1</td>\n",
              "      <td>1</td>\n",
              "      <td>0</td>\n",
              "      <td>1</td>\n",
              "      <td>0</td>\n",
              "      <td>1</td>\n",
              "      <td>0</td>\n",
              "      <td>1</td>\n",
              "      <td>1</td>\n",
              "    </tr>\n",
              "    <tr>\n",
              "      <th>1</th>\n",
              "      <td>0</td>\n",
              "      <td>1</td>\n",
              "      <td>1</td>\n",
              "      <td>1</td>\n",
              "      <td>1</td>\n",
              "      <td>1</td>\n",
              "      <td>0</td>\n",
              "      <td>0</td>\n",
              "      <td>0</td>\n",
              "      <td>1</td>\n",
              "      <td>...</td>\n",
              "      <td>0</td>\n",
              "      <td>1</td>\n",
              "      <td>1</td>\n",
              "      <td>0</td>\n",
              "      <td>1</td>\n",
              "      <td>1</td>\n",
              "      <td>0</td>\n",
              "      <td>1</td>\n",
              "      <td>0</td>\n",
              "      <td>1</td>\n",
              "    </tr>\n",
              "    <tr>\n",
              "      <th>2</th>\n",
              "      <td>1</td>\n",
              "      <td>1</td>\n",
              "      <td>1</td>\n",
              "      <td>0</td>\n",
              "      <td>0</td>\n",
              "      <td>0</td>\n",
              "      <td>1</td>\n",
              "      <td>1</td>\n",
              "      <td>0</td>\n",
              "      <td>1</td>\n",
              "      <td>...</td>\n",
              "      <td>1</td>\n",
              "      <td>1</td>\n",
              "      <td>0</td>\n",
              "      <td>1</td>\n",
              "      <td>0</td>\n",
              "      <td>1</td>\n",
              "      <td>0</td>\n",
              "      <td>1</td>\n",
              "      <td>1</td>\n",
              "      <td>1</td>\n",
              "    </tr>\n",
              "    <tr>\n",
              "      <th>3</th>\n",
              "      <td>0</td>\n",
              "      <td>1</td>\n",
              "      <td>1</td>\n",
              "      <td>1</td>\n",
              "      <td>1</td>\n",
              "      <td>1</td>\n",
              "      <td>1</td>\n",
              "      <td>1</td>\n",
              "      <td>1</td>\n",
              "      <td>1</td>\n",
              "      <td>...</td>\n",
              "      <td>0</td>\n",
              "      <td>0</td>\n",
              "      <td>0</td>\n",
              "      <td>1</td>\n",
              "      <td>1</td>\n",
              "      <td>1</td>\n",
              "      <td>0</td>\n",
              "      <td>1</td>\n",
              "      <td>0</td>\n",
              "      <td>1</td>\n",
              "    </tr>\n",
              "    <tr>\n",
              "      <th>4</th>\n",
              "      <td>1</td>\n",
              "      <td>0</td>\n",
              "      <td>1</td>\n",
              "      <td>1</td>\n",
              "      <td>0</td>\n",
              "      <td>1</td>\n",
              "      <td>1</td>\n",
              "      <td>1</td>\n",
              "      <td>0</td>\n",
              "      <td>1</td>\n",
              "      <td>...</td>\n",
              "      <td>0</td>\n",
              "      <td>0</td>\n",
              "      <td>1</td>\n",
              "      <td>1</td>\n",
              "      <td>1</td>\n",
              "      <td>0</td>\n",
              "      <td>1</td>\n",
              "      <td>0</td>\n",
              "      <td>1</td>\n",
              "      <td>1</td>\n",
              "    </tr>\n",
              "  </tbody>\n",
              "</table>\n",
              "<p>5 rows × 100000 columns</p>\n",
              "</div>\n",
              "    <div class=\"colab-df-buttons\">\n",
              "\n",
              "  <div class=\"colab-df-container\">\n",
              "    <button class=\"colab-df-convert\" onclick=\"convertToInteractive('df-2a60681d-5ce1-46fe-b41d-ca3976552c7b')\"\n",
              "            title=\"Convert this dataframe to an interactive table.\"\n",
              "            style=\"display:none;\">\n",
              "\n",
              "  <svg xmlns=\"http://www.w3.org/2000/svg\" height=\"24px\" viewBox=\"0 -960 960 960\">\n",
              "    <path d=\"M120-120v-720h720v720H120Zm60-500h600v-160H180v160Zm220 220h160v-160H400v160Zm0 220h160v-160H400v160ZM180-400h160v-160H180v160Zm440 0h160v-160H620v160ZM180-180h160v-160H180v160Zm440 0h160v-160H620v160Z\"/>\n",
              "  </svg>\n",
              "    </button>\n",
              "\n",
              "  <style>\n",
              "    .colab-df-container {\n",
              "      display:flex;\n",
              "      gap: 12px;\n",
              "    }\n",
              "\n",
              "    .colab-df-convert {\n",
              "      background-color: #E8F0FE;\n",
              "      border: none;\n",
              "      border-radius: 50%;\n",
              "      cursor: pointer;\n",
              "      display: none;\n",
              "      fill: #1967D2;\n",
              "      height: 32px;\n",
              "      padding: 0 0 0 0;\n",
              "      width: 32px;\n",
              "    }\n",
              "\n",
              "    .colab-df-convert:hover {\n",
              "      background-color: #E2EBFA;\n",
              "      box-shadow: 0px 1px 2px rgba(60, 64, 67, 0.3), 0px 1px 3px 1px rgba(60, 64, 67, 0.15);\n",
              "      fill: #174EA6;\n",
              "    }\n",
              "\n",
              "    .colab-df-buttons div {\n",
              "      margin-bottom: 4px;\n",
              "    }\n",
              "\n",
              "    [theme=dark] .colab-df-convert {\n",
              "      background-color: #3B4455;\n",
              "      fill: #D2E3FC;\n",
              "    }\n",
              "\n",
              "    [theme=dark] .colab-df-convert:hover {\n",
              "      background-color: #434B5C;\n",
              "      box-shadow: 0px 1px 3px 1px rgba(0, 0, 0, 0.15);\n",
              "      filter: drop-shadow(0px 1px 2px rgba(0, 0, 0, 0.3));\n",
              "      fill: #FFFFFF;\n",
              "    }\n",
              "  </style>\n",
              "\n",
              "    <script>\n",
              "      const buttonEl =\n",
              "        document.querySelector('#df-2a60681d-5ce1-46fe-b41d-ca3976552c7b button.colab-df-convert');\n",
              "      buttonEl.style.display =\n",
              "        google.colab.kernel.accessAllowed ? 'block' : 'none';\n",
              "\n",
              "      async function convertToInteractive(key) {\n",
              "        const element = document.querySelector('#df-2a60681d-5ce1-46fe-b41d-ca3976552c7b');\n",
              "        const dataTable =\n",
              "          await google.colab.kernel.invokeFunction('convertToInteractive',\n",
              "                                                    [key], {});\n",
              "        if (!dataTable) return;\n",
              "\n",
              "        const docLinkHtml = 'Like what you see? Visit the ' +\n",
              "          '<a target=\"_blank\" href=https://colab.research.google.com/notebooks/data_table.ipynb>data table notebook</a>'\n",
              "          + ' to learn more about interactive tables.';\n",
              "        element.innerHTML = '';\n",
              "        dataTable['output_type'] = 'display_data';\n",
              "        await google.colab.output.renderOutput(dataTable, element);\n",
              "        const docLink = document.createElement('div');\n",
              "        docLink.innerHTML = docLinkHtml;\n",
              "        element.appendChild(docLink);\n",
              "      }\n",
              "    </script>\n",
              "  </div>\n",
              "\n",
              "\n",
              "<div id=\"df-36a9e9ea-8072-41fe-8e57-6d0473761b6a\">\n",
              "  <button class=\"colab-df-quickchart\" onclick=\"quickchart('df-36a9e9ea-8072-41fe-8e57-6d0473761b6a')\"\n",
              "            title=\"Suggest charts.\"\n",
              "            style=\"display:none;\">\n",
              "\n",
              "<svg xmlns=\"http://www.w3.org/2000/svg\" height=\"24px\"viewBox=\"0 0 24 24\"\n",
              "     width=\"24px\">\n",
              "    <g>\n",
              "        <path d=\"M19 3H5c-1.1 0-2 .9-2 2v14c0 1.1.9 2 2 2h14c1.1 0 2-.9 2-2V5c0-1.1-.9-2-2-2zM9 17H7v-7h2v7zm4 0h-2V7h2v10zm4 0h-2v-4h2v4z\"/>\n",
              "    </g>\n",
              "</svg>\n",
              "  </button>\n",
              "\n",
              "<style>\n",
              "  .colab-df-quickchart {\n",
              "    background-color: #E8F0FE;\n",
              "    border: none;\n",
              "    border-radius: 50%;\n",
              "    cursor: pointer;\n",
              "    display: none;\n",
              "    fill: #1967D2;\n",
              "    height: 32px;\n",
              "    padding: 0 0 0 0;\n",
              "    width: 32px;\n",
              "  }\n",
              "\n",
              "  .colab-df-quickchart:hover {\n",
              "    background-color: #E2EBFA;\n",
              "    box-shadow: 0px 1px 2px rgba(60, 64, 67, 0.3), 0px 1px 3px 1px rgba(60, 64, 67, 0.15);\n",
              "    fill: #174EA6;\n",
              "  }\n",
              "\n",
              "  [theme=dark] .colab-df-quickchart {\n",
              "    background-color: #3B4455;\n",
              "    fill: #D2E3FC;\n",
              "  }\n",
              "\n",
              "  [theme=dark] .colab-df-quickchart:hover {\n",
              "    background-color: #434B5C;\n",
              "    box-shadow: 0px 1px 3px 1px rgba(0, 0, 0, 0.15);\n",
              "    filter: drop-shadow(0px 1px 2px rgba(0, 0, 0, 0.3));\n",
              "    fill: #FFFFFF;\n",
              "  }\n",
              "</style>\n",
              "\n",
              "  <script>\n",
              "    async function quickchart(key) {\n",
              "      const charts = await google.colab.kernel.invokeFunction(\n",
              "          'suggestCharts', [key], {});\n",
              "    }\n",
              "    (() => {\n",
              "      let quickchartButtonEl =\n",
              "        document.querySelector('#df-36a9e9ea-8072-41fe-8e57-6d0473761b6a button');\n",
              "      quickchartButtonEl.style.display =\n",
              "        google.colab.kernel.accessAllowed ? 'block' : 'none';\n",
              "    })();\n",
              "  </script>\n",
              "</div>\n",
              "    </div>\n",
              "  </div>\n"
            ]
          },
          "metadata": {},
          "execution_count": 2
        }
      ],
      "source": [
        "x.head()"
      ]
    },
    {
      "cell_type": "markdown",
      "metadata": {
        "id": "_jblHYPjbkPe"
      },
      "source": [
        "### Без отбора признаков"
      ]
    },
    {
      "cell_type": "code",
      "execution_count": null,
      "metadata": {
        "id": "201-1hypbkPe",
        "colab": {
          "base_uri": "https://localhost:8080/"
        },
        "outputId": "f04b92f5-e97f-4535-c3da-d7c95e570a1d"
      },
      "outputs": [
        {
          "output_type": "stream",
          "name": "stdout",
          "text": [
            "Train quality:\n",
            "ROCAUC : 1.00\n",
            "PRAUC : 1.00\n",
            "Accuracy:  1.00\n",
            "\n",
            "Test quality:\n",
            "ROCAUC : 0.49\n",
            "PRAUC : 0.52\n",
            "Accuracy:  0.48\n"
          ]
        }
      ],
      "source": [
        "from sklearn.metrics import average_precision_score, accuracy_score\n",
        "from sklearn.model_selection import train_test_split\n",
        "from sklearn.linear_model import LogisticRegression\n",
        "from sklearn.metrics import roc_auc_score\n",
        "\n",
        "# 1. Split the data into train and test sets\n",
        "x_train, x_test, y_train, y_test = train_test_split(\n",
        "    x, y == \"D\", test_size=0.3, random_state=42\n",
        ")\n",
        "\n",
        "# 2. Train a logistic regression model on the train set\n",
        "model = LogisticRegression(max_iter=1000)\n",
        "model.fit(x_train, y_train)\n",
        "\n",
        "# 3. Predict the probabilities for train and test sets\n",
        "# 4. Calculate ROCAUC and PRAUC scores for the prediction of train and test sets\n",
        "# 5. Compare the performance of the model on train and test sets using the scores\n",
        "\n",
        "y_train_pred = model.predict_proba(x_train)[:, 1]\n",
        "train_rocauc = roc_auc_score(y_score=y_train_pred, y_true=y_train)\n",
        "train_prauc = average_precision_score(y_score=y_train_pred, y_true=y_train)\n",
        "train_accuracy = accuracy_score(y_pred=y_train_pred > 0.5, y_true=y_train)\n",
        "print(\"Train quality:\")\n",
        "print(f\"ROCAUC : {train_rocauc:.02f}\")\n",
        "print(f\"PRAUC : {train_prauc:.02f}\")\n",
        "print(f\"Accuracy:  {train_accuracy:.02f}\")\n",
        "# Test\n",
        "y_test_pred = model.predict_proba(x_test)[:, 1]\n",
        "test_rocauc = roc_auc_score(y_score=y_test_pred, y_true=y_test)\n",
        "test_prauc = average_precision_score(y_score=y_test_pred, y_true=y_test)\n",
        "test_accuracy = accuracy_score(y_pred=y_test_pred > 0.5, y_true=y_test)\n",
        "print(\"\\nTest quality:\")\n",
        "print(f\"ROCAUC : {test_rocauc:.02f}\")\n",
        "print(f\"PRAUC : {test_prauc:.02f}\")\n",
        "print(f\"Accuracy:  {test_accuracy:.02f}\")"
      ]
    },
    {
      "cell_type": "markdown",
      "metadata": {
        "id": "syw2yCIkbkPf"
      },
      "source": [
        "Модель идеально выучила данные обучения, но с тестом беда (как и должно быть)."
      ]
    },
    {
      "cell_type": "markdown",
      "metadata": {
        "id": "eGjdI_-NbkPf"
      },
      "source": [
        "### С неправильной процедурой отбора признаков"
      ]
    },
    {
      "cell_type": "markdown",
      "metadata": {
        "id": "Zciz9Bq6bkPf"
      },
      "source": [
        "Возьмем те признаки, для которых средняя разница для больных и здоровых максимальна. Заметьте, мы даже не используем чего-то сильно сложного."
      ]
    },
    {
      "cell_type": "code",
      "execution_count": null,
      "metadata": {
        "id": "RIGhn79TbkPf",
        "colab": {
          "base_uri": "https://localhost:8080/"
        },
        "outputId": "d23d6b4e-c433-4f4e-e1b2-de090e5efb97"
      },
      "outputs": [
        {
          "output_type": "stream",
          "name": "stdout",
          "text": [
            "Genes Index(['SNP3660', 'SNP54022', 'SNP96099', 'SNP77184', 'SNP71144', 'SNP70126',\n",
            "       'SNP14768', 'SNP63912', 'SNP17706', 'SNP32249'],\n",
            "      dtype='object')\n"
          ]
        }
      ],
      "source": [
        "# 1. Take the mean of all the reads for each gene in healthy\n",
        "#  and each gene in diesised.\n",
        "# 2. Subtract the mean number of reads for each gene in diesised\n",
        "# from the mean number of reads for each gene in healthy.\n",
        "\n",
        "diffs = x[y == \"H\"].mean(axis=0) - x[y == \"D\"].mean(axis=0)\n",
        "# 3. Look at the top k most different genes\n",
        "# by sorting the values in the resulting array from largest to smallest.\n",
        "top = np.abs(diffs).sort_values(ascending=False)[0:10]\n",
        "genes = top.index\n",
        "\n",
        "# Print the gene names of the top k genes.\n",
        "print(\"Genes\", genes)\n",
        "\n",
        "# Select x\n",
        "x_selected = x[genes]"
      ]
    },
    {
      "cell_type": "markdown",
      "metadata": {
        "id": "RPViNH9bbkPf"
      },
      "source": [
        "И посмотрим на качество модели:"
      ]
    },
    {
      "cell_type": "code",
      "execution_count": null,
      "metadata": {
        "id": "8r1AKodwbkPf",
        "colab": {
          "base_uri": "https://localhost:8080/"
        },
        "outputId": "82239ffd-760c-4ed1-a3c8-52f0dc05112c"
      },
      "outputs": [
        {
          "output_type": "stream",
          "name": "stdout",
          "text": [
            "Train quality:\n",
            "ROCAUC : 0.72\n",
            "PRAUC : 0.71\n",
            "Accuracy: accuracy 0.67\n",
            "\n",
            "Test quality:\n",
            "ROCAUC : 0.72\n",
            "PRAUC : 0.70\n",
            "Accuracy: accuracy 0.65\n"
          ]
        }
      ],
      "source": [
        "# 1. Split the data into train and test sets\n",
        "x_train, x_test, y_train, y_test = train_test_split(\n",
        "    x_selected, y == \"D\", test_size=0.3, random_state=42\n",
        ")\n",
        "# 2. Train a logistic regression model on the train set\n",
        "model = LogisticRegression()\n",
        "model.fit(x_train, y_train)\n",
        "\n",
        "# 3. Predict the probabilities for train and test sets\n",
        "# 4. Calculate ROCAUC and PRAUC scores for the prediction of train and test sets\n",
        "# 5. Compare the performance of the model on train and test sets using the scores\n",
        "y_train_pred = model.predict_proba(x_train)[:, 1]\n",
        "train_rocauc = roc_auc_score(y_score=y_train_pred, y_true=y_train)\n",
        "train_prauc = average_precision_score(y_score=y_train_pred, y_true=y_train)\n",
        "train_accuracy = accuracy_score(y_pred=y_train_pred > 0.5, y_true=y_train)\n",
        "print(\"Train quality:\")\n",
        "print(f\"ROCAUC : {train_rocauc:.02f}\")\n",
        "print(f\"PRAUC : {train_prauc:.02f}\")\n",
        "print(f\"Accuracy: accuracy {train_accuracy:.02f}\")\n",
        "# Test\n",
        "y_test_pred = model.predict_proba(x_test)[:, 1]\n",
        "train_rocauc = roc_auc_score(y_score=y_test_pred, y_true=y_test)\n",
        "train_prauc = average_precision_score(y_score=y_test_pred, y_true=y_test)\n",
        "train_accuracy = accuracy_score(y_pred=y_test_pred > 0.5, y_true=y_test)\n",
        "print(\"\\nTest quality:\")\n",
        "print(f\"ROCAUC : {train_rocauc:.02f}\")\n",
        "print(f\"PRAUC : {train_prauc:.02f}\")\n",
        "print(f\"Accuracy: accuracy {train_accuracy:.02f}\")"
      ]
    },
    {
      "cell_type": "markdown",
      "metadata": {
        "id": "tKt5osYXbkPf"
      },
      "source": [
        "Внезапно качество на тесте выглядит разумным. Да, не очень классное, но есть. А должно быть соответствующее случайной модели — признаки-то случайные.\n",
        "\n",
        "Дело в том, что мы изначально выбрали те признаки, которые работали хорошо по случайным причинам на всем искусственном датасете, а не только на тренировочной выборке."
      ]
    },
    {
      "cell_type": "markdown",
      "metadata": {
        "id": "WPu--jlRbkPf"
      },
      "source": [
        "### С правильной процедурой отбора признаков\n",
        "\n",
        "\n"
      ]
    },
    {
      "cell_type": "code",
      "execution_count": null,
      "metadata": {
        "id": "R9o-51bVbkPf"
      },
      "outputs": [],
      "source": [
        "# Split the data into train and test sets (with two sizes)\n",
        "x_fs_train, x_test, y_fs_train, y_test = train_test_split(\n",
        "    x, y == \"D\", test_size=0.3, random_state=42\n",
        ")\n",
        "# split again\n",
        "x_fs, x_train, y_fs, y_train = train_test_split(\n",
        "    x_fs_train, y_fs_train, test_size=0.8, random_state=42\n",
        ")"
      ]
    },
    {
      "cell_type": "markdown",
      "metadata": {
        "id": "QW5eoTKqbkPf"
      },
      "source": [
        "Отбираем признаки на одном датасете:"
      ]
    },
    {
      "cell_type": "code",
      "execution_count": null,
      "metadata": {
        "id": "kkUQlir7bkPf"
      },
      "outputs": [],
      "source": [
        "# 1. Find the difference between the mean expression\n",
        "#    of the genes\n",
        "# 2. Sort the resulting list according to the difference in means\n",
        "#    (from greatest difference to least)\n",
        "# 3. Take the top K genes and return them\n",
        "\n",
        "diffs = x_fs[np.logical_not(y_fs)].mean(axis=0) - x_fs[y_fs].mean(axis=0)\n",
        "top = np.abs(diffs).sort_values(ascending=False)[0:10]\n",
        "genes = top.index"
      ]
    },
    {
      "cell_type": "markdown",
      "metadata": {
        "id": "Ag059qBHbkPf"
      },
      "source": [
        "Обучаем модель на втором:"
      ]
    },
    {
      "cell_type": "code",
      "execution_count": null,
      "metadata": {
        "id": "ZCgpxnogbkPg",
        "colab": {
          "base_uri": "https://localhost:8080/"
        },
        "outputId": "4ec55d61-9b92-4086-8ed4-c52baf0fdad9"
      },
      "outputs": [
        {
          "output_type": "stream",
          "name": "stdout",
          "text": [
            "Train quality:\n",
            "ROCAUC : 0.57\n",
            "PRAUC : 0.56\n",
            "Accuracy: accuracy 0.56\n"
          ]
        }
      ],
      "source": [
        "model = LogisticRegression()\n",
        "model.fit(x_train[genes], y_train)\n",
        "y_train_pred = model.predict_proba(x_train[genes])[:, 1]\n",
        "\n",
        "y_train_pred = model.predict_proba(x_train[genes])[:, 1]\n",
        "train_rocauc = roc_auc_score(y_score=y_train_pred, y_true=y_train)\n",
        "train_prauc = average_precision_score(y_score=y_train_pred, y_true=y_train)\n",
        "train_accuracy = accuracy_score(y_pred=y_train_pred > 0.5, y_true=y_train)\n",
        "print(\"Train quality:\")\n",
        "print(f\"ROCAUC : {train_rocauc:.02f}\")\n",
        "print(f\"PRAUC : {train_prauc:.02f}\")\n",
        "print(f\"Accuracy: accuracy {train_accuracy:.02f}\")"
      ]
    },
    {
      "cell_type": "markdown",
      "metadata": {
        "id": "_6guCQS3bkPg"
      },
      "source": [
        "Тестируем на третьем:"
      ]
    },
    {
      "cell_type": "code",
      "execution_count": null,
      "metadata": {
        "id": "wzesFuYmbkPg",
        "colab": {
          "base_uri": "https://localhost:8080/"
        },
        "outputId": "fbbe7a78-bc8f-4c7c-860e-8d16cd2ce354"
      },
      "outputs": [
        {
          "output_type": "stream",
          "name": "stdout",
          "text": [
            "Test quality:\n",
            "ROCAUC : 0.52\n",
            "PRAUC : 0.50\n",
            "Accuracy: 0.52\n"
          ]
        }
      ],
      "source": [
        "y_test_pred = model.predict_proba(x_test[genes])[:, 1]\n",
        "train_rocauc = roc_auc_score(y_score=y_test_pred, y_true=y_test)\n",
        "train_prauc = average_precision_score(y_score=y_test_pred, y_true=y_test)\n",
        "train_accuracy = accuracy_score(y_pred=y_test_pred > 0.5, y_true=y_test)\n",
        "print(\"Test quality:\")\n",
        "print(f\"ROCAUC : {train_rocauc:.02f}\")\n",
        "print(f\"PRAUC : {train_prauc:.02f}\")\n",
        "print(f\"Accuracy: {train_accuracy:.02f}\")"
      ]
    }
  ]
}