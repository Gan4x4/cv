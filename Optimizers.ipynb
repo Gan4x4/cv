{
  "nbformat": 4,
  "nbformat_minor": 0,
  "metadata": {
    "colab": {
      "provenance": []
    },
    "kernelspec": {
      "name": "python3",
      "display_name": "Python 3"
    },
    "language_info": {
      "name": "python"
    }
  },
  "cells": [
    {
      "cell_type": "markdown",
      "metadata": {
        "id": "-VPQGHzUbALq"
      },
      "source": [
        "# Оптимизация параметров нейросетей"
      ]
    },
    {
      "cell_type": "markdown",
      "metadata": {
        "id": "euF75uEIbALq"
      },
      "source": [
        "В процессе обучения мы пытаемся подобрать параметры модели, при которых она будет работать лучше всего. Это — **оптимизационная задача** (задача подбора оптимальных параметров). Мы уже ознакомились с одним алгоритмом оптимизации параметров — **градиентным спуском**.\n",
        "\n",
        "Существует множество **алгоритмов оптимизации**, которые можно применять для поиска минимума функционала ошибки ([неполный список 🎓[article]](https://paperswithcode.com/methods/category/stochastic-optimization)). Эти алгоритмы реализованы в модуле `torch.optim` [🛠️[doc]](https://pytorch.org/docs/stable/optim.html).\n",
        "\n",
        "Важно отметить, что **выбор оптимизатора не влияет на расчет градиента**. Градиент в PyTorch вычисляется автоматически на основе графа вычислений.\n"
      ]
    },
    {
      "cell_type": "markdown",
      "metadata": {
        "id": "W9UuJEhfbALq"
      },
      "source": [
        "## Обзор популярных оптимизаторов"
      ]
    },
    {
      "cell_type": "markdown",
      "metadata": {
        "id": "KeBCHYlZbALq"
      },
      "source": [
        "### SGD (stochastic gradient descent)"
      ]
    },
    {
      "cell_type": "markdown",
      "metadata": {
        "id": "sIjmH3udbALq"
      },
      "source": [
        "При градиентном спуске мы:\n",
        "- делаем **прямой проход**, вычисляем функционал ошибки $\\large L(x, y, w_t)$;\n",
        "- делаем **обратный проход**, вычисляем градиент $\\large \\nabla_wL(x, y, w_t)$;\n",
        "- делаем **шаг оптимизации**: изменяем параметры модели по формуле:\n",
        "\n",
        "$$\\large w_{t+1} = w_t - \\text{lr} \\cdot \\nabla_wL(x, y, w_t),$$\n",
        "\n",
        "домножая антиградиент на постоянный коэффициент $\\text{lr}$ (гиперпараметр обучения — learning rate)."
      ]
    },
    {
      "cell_type": "markdown",
      "metadata": {
        "id": "rAzLOJLYbALr"
      },
      "source": [
        "<img src =\"https://ml.gan4x4.ru/msu/dev-2.1/L07/out/stochastic_gradient_descent.gif\" width=\"950\">"
      ]
    },
    {
      "cell_type": "markdown",
      "metadata": {
        "id": "W1XdM38TbALr"
      },
      "source": [
        "У данного алгоритма есть проблема: он может застревать в **локальных минимумах** или даже **седловых точках**.\n",
        "\n",
        "**Cедловые точки** — точки, в которых все производные равны $0$, но они не являются экстремумами. В них градиент равен $0$, веса не обновляются — оптимизация останавливается.\n",
        "\n",
        "Пример таких точек:\n",
        "\n",
        "- точка $(0, 0)$ у функции $y = x^3$, не имеющей минимума или максимума вовсе;\n",
        "- точка $(0, 0, 0)$ у функции $z = x^2 - y^2$."
      ]
    },
    {
      "cell_type": "markdown",
      "metadata": {
        "id": "Wrkcj8CRbALr"
      },
      "source": [
        "<center><img src =\"https://ml.gan4x4.ru/msu/dev-2.1/L07/out/getting_stuck_in_local_minimum_example.png\" width=\"350\"> <img src =\"https://ml.gan4x4.ru/msu/dep-2.2/L07/saddle_point_example.png\" width=\"400\"></center>\n",
        "\n",
        "<center><em>Source: <a href=\"https://ru.wikipedia.org/wiki/%D0%A1%D0%B5%D0%B4%D0%BB%D0%BE%D0%B2%D0%B0%D1%8F_%D1%82%D0%BE%D1%87%D0%BA%D0%B0\">Седловая точка</a></em></center>"
      ]
    },
    {
      "cell_type": "markdown",
      "metadata": {
        "id": "65gvvsYGbALr"
      },
      "source": [
        "Частично эту проблему решает **стохастический градиентный спуск** (stochastic gradient descent, **SGD**). В нем для градиентного спуска используются не все данные, а некоторая подвыборка (mini-batch) или даже один элемент.\n"
      ]
    },
    {
      "cell_type": "markdown",
      "metadata": {
        "id": "xtH44qWMbALr"
      },
      "source": [
        "**SGD** обладает важной особенностью: на каждом объекте или подвыборке (mini-batch) ландшафт функции потерь выглядит по-разному. Некоторые минимумы функции потерь и седловые точки могут быть характерны лишь для части объектов.\n",
        "\n",
        "Ниже **упрощенно** показаны ландшафты функции потерь на полном датасете и на отдельных батчах. При оптимизации на полном датасете модель могла бы **остановиться в левом локальном минимуме**, но стохастическая природа спуска позволяет избежать этого за счет того, что **для некоторых батчей этот минимум отсутствует**.\n",
        "\n",
        "В результате модель сможет остановиться только в каком-то относительно широком и глубоком минимуме, характерном для большинства батчей обучающих данных. С большой вероятностью этот минимум будет присутствовать и на реальных данных, то есть модель сможет адекватно работать с ними."
      ]
    },
    {
      "cell_type": "markdown",
      "metadata": {
        "id": "hNaoaIupbALr"
      },
      "source": [
        "<center><img src =\"https://ml.gan4x4.ru/msu/dev-2.1/L07/out/sgd_loss_batch_landscape.png\" width=\"700\"></center>"
      ]
    },
    {
      "cell_type": "markdown",
      "metadata": {
        "id": "RogWe3yQbALr"
      },
      "source": [
        "**SGD** до сих пор является достаточно популярным методом обучения нейросетей, потому что он простой, не требует подбора дополнительных гиперпараметров, кроме **скорости обучения** `lr`, и сам по себе обычно дает неплохие результаты.\n",
        "\n",
        "Если же модель учится слишком долго и/или важна каждая сотая в качестве, то нужно либо использовать его в совокупности с другими техниками (их рассмотрим далее), либо использовать другие способы."
      ]
    },
    {
      "cell_type": "markdown",
      "metadata": {
        "id": "oQiylaPTbALr"
      },
      "source": [
        "Фрагмент кода для понимания работы SGD:\n",
        "```\n",
        "class SGD:\n",
        "  def __init__(self, parameters, lr):\n",
        "    self.parameters = parameters\n",
        "    self.lr = lr\n",
        "\n",
        "  def step(self):\n",
        "    d_parameters = self.parameters.grad\n",
        "    self.parameters -= self.lr*d_parameters\n",
        "```"
      ]
    },
    {
      "cell_type": "markdown",
      "metadata": {
        "id": "4R_58H__bALs"
      },
      "source": [
        "Алгоритм SGD реализован в `torch.optim.SGD` [🛠️[doc]](https://pytorch.org/docs/stable/generated/torch.optim.SGD.html):"
      ]
    },
    {
      "cell_type": "code",
      "execution_count": null,
      "metadata": {
        "id": "w3dBqmkQbALs"
      },
      "outputs": [],
      "source": [
        "import torch\n",
        "import torch.optim as optim\n",
        "\n",
        "model = torch.nn.Linear(16,1)\n",
        "\n",
        "parameters = torch.randn(10, requires_grad=True)\n",
        "optimizer = optim.SGD(model.parameters(), lr=0.001)"
      ]
    },
    {
      "cell_type": "markdown",
      "metadata": {
        "id": "7mOCc_fXbALs"
      },
      "source": [
        "**Минусы SGD**:\n",
        "\n",
        " 1. Если функция ошибки в одном направлении меняется быстро, а в другом — медленно, то это приводит к резким изменениям направления градиентов и замедляет процесс обучения.\n"
      ]
    },
    {
      "cell_type": "markdown",
      "metadata": {
        "id": "JluMkSgNbALs"
      },
      "source": [
        "<center><img src =\"https://ml.gan4x4.ru/msu/dev-2.1/L07/out/stohastic_gradient_descent_no_momentum.gif\" width=\"500\"></center>\n"
      ]
    },
    {
      "cell_type": "markdown",
      "metadata": {
        "id": "l1Rgk-L6bALt"
      },
      "source": [
        " 2. Может застревать в локальных минимумах или седловых точках.\n",
        "\n",
        " 3. Мы оцениваем градиент по малым частям выборки, которые могут плохо отображать градиент по всей выборке и являться шумными. В результате часть шагов градиентного спуска делается впустую или во вред.\n",
        "\n",
        " 4. Мы применяем один и тот же `learning rate` ко всем параметрам, что не всегда разумно. Параметр, отвечающий редкому классу, будет обучаться медленнее остальных.\n",
        "\n",
        " 5. Просто медленнее сходится."
      ]
    },
    {
      "cell_type": "markdown",
      "metadata": {
        "id": "2ejYFhP0bALt"
      },
      "source": [
        "**SGD** является основой всех описанных ниже алгоритмов."
      ]
    },
    {
      "cell_type": "markdown",
      "metadata": {
        "id": "ZNBZkzV-bALt"
      },
      "source": [
        "### Momentum"
      ]
    },
    {
      "cell_type": "markdown",
      "metadata": {
        "id": "qp6bklVebALt"
      },
      "source": [
        "Чтобы избежать проблем 1–3, можно добавить движению по ландшафту функции ошибок инерцию (**momentum**). По аналогии с реальной жизнью: если мяч катится с горки, то он благодаря инерции может проскочить пологое место или даже небольшую яму."
      ]
    },
    {
      "cell_type": "markdown",
      "metadata": {
        "id": "hUsaHG0wbALt"
      },
      "source": [
        "Корректируем направление движения шарика с учетом текущего градиента:\n",
        "\n",
        "$$\\large v_{t} = m \\cdot v_{t-1} + \\nabla_wL(x, y, w_{t}),$$\n",
        "\n",
        "где $m \\in [0, 1)$ — momentum (гиперпараметр).\n",
        "\n",
        "Вычисляем, куда он покатится:\n",
        "\n",
        "$$\\large w_{t+1} = w_t - lr \\cdot v_{t}$$"
      ]
    },
    {
      "cell_type": "markdown",
      "metadata": {
        "id": "3hcx7WumbALu"
      },
      "source": [
        "<center><img src =\"https://ml.gan4x4.ru/msu/dev-2.1/L07/out/advantages_wtih_momentum.png\" width=\"480\"></center>"
      ]
    },
    {
      "cell_type": "markdown",
      "metadata": {
        "id": "KXD-aUgibALu"
      },
      "source": [
        "[[video] 📺 Градиентный спуск, как обучаются нейронные сети](https://youtu.be/IHZwWFHWa-w)"
      ]
    },
    {
      "cell_type": "markdown",
      "metadata": {
        "id": "AoGdnjn5bALu"
      },
      "source": [
        "Теперь мы быстрее достигаем локального минимума и можем выкатываться из совсем неглубоких. Градиент стал менее подвержен шуму, меньше осциллирует"
      ]
    },
    {
      "cell_type": "markdown",
      "metadata": {
        "id": "9IdA_tnvbALu"
      },
      "source": [
        "<img src =\"https://ml.gan4x4.ru/msu/dev-2.1/L07/out/stohastic_gradient_descent_no_momentum.gif\" width=\"500\"> <img src =\"https://ml.gan4x4.ru/msu/dev-2.1/L07/out/stohastic_gradient_descent_with_momentum.gif\" width=\"500\">"
      ]
    },
    {
      "cell_type": "markdown",
      "metadata": {
        "id": "kKZgU4NNbALu"
      },
      "source": [
        "Фрагмент кода для понимания работы Momentum:\n",
        "\n",
        "```\n",
        "class SGD_with_momentum:\n",
        "  def __init__(self, parameters, momentum, lr):\n",
        "    self.parameters = parameters\n",
        "    self.momentum = momentum\n",
        "    self.lr = lr\n",
        "    self.velocity = torch.zeros_like(parameters)\n",
        "\n",
        "  def step(self):\n",
        "    d_parameters = self.parameters.grad\n",
        "    self.velocity =  self.momentum*self.velocity + d_parameters\n",
        "    self.weights -= self.lr*self.velocity\n",
        "```\n"
      ]
    },
    {
      "cell_type": "markdown",
      "metadata": {
        "id": "XgG1Il-XbALu"
      },
      "source": [
        "**Momentum удваивает количество хранимых параметров.**"
      ]
    },
    {
      "cell_type": "markdown",
      "metadata": {
        "id": "S2VtZFTzbALv"
      },
      "source": [
        "Алгоритм Momentum реализован в `torch.optim.SGD` [🛠️[doc]](https://pytorch.org/docs/stable/generated/torch.optim.SGD.html):"
      ]
    },
    {
      "cell_type": "code",
      "execution_count": null,
      "metadata": {
        "id": "ydveNfISbALv"
      },
      "outputs": [],
      "source": [
        "optimizer = optim.SGD(model.parameters(), momentum=0.9, lr=0.001)"
      ]
    },
    {
      "cell_type": "markdown",
      "metadata": {
        "id": "CpngdizebALv"
      },
      "source": [
        "У этого подхода есть одна опасность — мы можем выкатиться за пределы минимума, к которому стремимся, а потом какое-то время к нему возвращаться."
      ]
    },
    {
      "cell_type": "markdown",
      "metadata": {
        "id": "sBsKGvJYbALv"
      },
      "source": [
        "<center><img src =\"https://ml.gan4x4.ru/msu/dep-2.2/L07/problem_of_big_momentum_value.gif\" width=\"700\">\n",
        "\n",
        "<em>Source: <a href=\"https://distill.pub/2017/momentum/\">Why Momentum Really Works</a></em></center>"
      ]
    },
    {
      "cell_type": "markdown",
      "metadata": {
        "id": "Db4vx9XIbALv"
      },
      "source": [
        "[[demo] 🎮 Why Momentum Really Works](https://distill.pub/2017/momentum/)"
      ]
    },
    {
      "cell_type": "markdown",
      "metadata": {
        "id": "HyoIaS6QbALv"
      },
      "source": [
        "Чтобы с этим бороться, предложен другой способ подсчета инерции."
      ]
    },
    {
      "cell_type": "markdown",
      "metadata": {
        "id": "vwaunGYWbALw"
      },
      "source": [
        "### NAG (Nesterov momentum)"
      ]
    },
    {
      "cell_type": "markdown",
      "metadata": {
        "id": "bFDy4swSbALw"
      },
      "source": [
        "Будем сначала смещаться в сторону, куда привел бы нас накопленный градиент, там считать новый градиент и смещаться по нему.\n",
        "В результате перескоки через минимум будут менее значительными и алгоритм будет быстрее сходиться:\n",
        "\n",
        "$$\\large v_{t} = m \\cdot v_{t-1} +  \\nabla_w L(w_t - \\text{lr} \\cdot m \\cdot  v_{t-1} )$$\n",
        "\n",
        "$$\\large w_{t+1} = w_{t} - \\text{lr} \\cdot v_{t} $$"
      ]
    },
    {
      "cell_type": "markdown",
      "metadata": {
        "id": "LSllkLt3bALw"
      },
      "source": [
        "<center><img src =\"https://ml.gan4x4.ru/msu/dev-2.1/L07/out/nesterov_momentum.png\" width=\"800\"></center>"
      ]
    },
    {
      "cell_type": "markdown",
      "metadata": {
        "id": "zhKoksvtbALw"
      },
      "source": [
        "Кажется, что для реализации такого алгоритма необходимо пересчитывать прямой и обратный проход с новыми параметрами для вычисления градиента. На практике эту формулу можно [переписать 🎓[article]](http://www.cs.toronto.edu/~hinton/absps/momentum.pdf) так, чтобы не пересчитывать градиент.\n",
        "\n",
        "С псевдокодом, описывающим последовательность действий NAG, можно познакомиться в [PyTorch 🛠️[doc]](https://pytorch.org/docs/stable/generated/torch.optim.SGD.html)."
      ]
    },
    {
      "cell_type": "markdown",
      "metadata": {
        "id": "pd889HpAbALx"
      },
      "source": [
        "**Так же, как momentum, Nesterov momentum удваивает количество хранимых параметров.**"
      ]
    },
    {
      "cell_type": "markdown",
      "metadata": {
        "id": "g9IxD9XgbALx"
      },
      "source": [
        "Алгоритм Nesterov momentum реализован в `torch.optim.SGD` [🛠️[doc]](https://pytorch.org/docs/stable/generated/torch.optim.SGD.html):"
      ]
    },
    {
      "cell_type": "code",
      "execution_count": null,
      "metadata": {
        "id": "SkTIaDxSbALx"
      },
      "outputs": [],
      "source": [
        "\n",
        "optimizer = optim.SGD(model.parameters(), momentum=0.9, nesterov=True, lr=0.001)"
      ]
    },
    {
      "cell_type": "markdown",
      "metadata": {
        "id": "du4JsDyIbALx"
      },
      "source": [
        "### Adaptive Learning Rate"
      ]
    },
    {
      "cell_type": "markdown",
      "metadata": {
        "id": "Adbz6LxmbALy"
      },
      "source": [
        "Описанные алгоритмы не борются с 4-ой проблемой SGD: \"мы применяем **один и тот же learning rate ко всем параметрам**, что не всегда разумно. Параметр, отвечающий редкому классу, будет обучаться медленнее остальных\".\n",
        "\n",
        "**Пример:** мы решаем задачу классификации картинок из Интернета, и у нас есть параметры, ответственные за признаки, которые характеризуют кошек породы сфинкс. Кошки породы сфинкс встречаются в нашем датасете редко, и эти параметры реже получают информацию для обновления. Поэтому наша модель может хуже классифицировать кошек этой породы.\n",
        "\n",
        "Для решения этой проблемы мы можем завести для каждого параметра **индивидуальный learning rate**, зависящий от того, как часто и как сильно изменяется этот параметр в процессе обучения."
      ]
    },
    {
      "cell_type": "markdown",
      "metadata": {
        "id": "Csjr849kbALy"
      },
      "source": [
        "### Adagrad"
      ]
    },
    {
      "cell_type": "markdown",
      "metadata": {
        "id": "Pp5qz0gybALy"
      },
      "source": [
        "Будем хранить для каждого параметра **сумму квадратов его градиентов** (запоминаем, как часто и как сильно он изменялся).\n",
        "\n",
        "И будем вычитать из значений параметров градиент с коэффициентом, обратно пропорциональным корню из этой суммы $G_t$."
      ]
    },
    {
      "cell_type": "markdown",
      "metadata": {
        "id": "8NM9g8o1bALz"
      },
      "source": [
        "$$\\large G_ t = \\sum_{i=1}^t \\nabla_w L(x,y,w_i)\\odot\\nabla_w L(x,y,w_i), $$\n",
        "\n",
        "$$\\large w_{t+1} = w_{t} -  \\frac{\\text{lr}}{\\sqrt{G_t} + e} \\odot \\nabla_w L(x,y,w_{t}), $$\n",
        "\n",
        "где $e$ — малая константа, чтобы не допускать деления на ноль, $\\odot$ — поэлементное умножение."
      ]
    },
    {
      "cell_type": "markdown",
      "metadata": {
        "id": "mKmWuPCFbALz"
      },
      "source": [
        "В результате, если градиент у нашего веса часто большой, коэффициент будет уменьшаться.\n",
        "\n",
        "Проблема заключается в том, что при такой формуле learning rate неминуемо в конце концов затухает (так как сумма квадратов не убывает).\n"
      ]
    },
    {
      "cell_type": "markdown",
      "metadata": {
        "id": "QqNf9CGhbALz"
      },
      "source": [
        "Фрагмент кода для понимания работы Adagrad:\n",
        "```\n",
        "class AdaGrad:\n",
        "  def __init__(self, parameters, lr=0.01):\n",
        "     self.parameters = parameters\n",
        "     self.lr = lr\n",
        "     self.grad_squared = torch.zeros_like(parameters)\n",
        "\n",
        "  def step(self):\n",
        "    d_parameters = self.parameters.grad\n",
        "    self.grad_squared += d_parameters*d_parameters\n",
        "    self.parameters -= self.lr*d_parameters / (torch.sqrt(self.grad_squared) + 1e-7)\n",
        "```\n",
        "\n"
      ]
    },
    {
      "cell_type": "markdown",
      "metadata": {
        "id": "HgqA1l60bALz"
      },
      "source": [
        "**Adagrad удваивает количество хранимых параметров.**"
      ]
    },
    {
      "cell_type": "markdown",
      "metadata": {
        "id": "V_m-n_kibALz"
      },
      "source": [
        "Алгоритм Adagrad реализован в `torch.optim.Adagrad` [🛠️[doc]](https://pytorch.org/docs/stable/generated/torch.optim.Adagrad.html):"
      ]
    },
    {
      "cell_type": "code",
      "execution_count": null,
      "metadata": {
        "id": "ZYAdEwsdbAL0"
      },
      "outputs": [],
      "source": [
        "optimizer = optim.Adagrad(model.parameters(), lr=0.01)"
      ]
    },
    {
      "cell_type": "markdown",
      "metadata": {
        "id": "LkmMzDyvbAL0"
      },
      "source": [
        "### RMSprop"
      ]
    },
    {
      "cell_type": "markdown",
      "metadata": {
        "id": "kcdAmTStbAL0"
      },
      "source": [
        "Добавим \"забывание\" предыдущих квадратов градиентов. Теперь мы считаем не сумму квадратов, а [экспоненциальное скользящее среднее 📚[wiki]](https://ru.wikipedia.org/wiki/%D0%A1%D0%BA%D0%BE%D0%BB%D1%8C%D0%B7%D1%8F%D1%89%D0%B0%D1%8F_%D1%81%D1%80%D0%B5%D0%B4%D0%BD%D1%8F%D1%8F) с коэффициентом $\\alpha$.\n",
        "\n",
        "\n",
        "$$\\large G_t = \\alpha \\cdot G_{t-1} + (1-\\alpha) \\cdot \\nabla_w L(x,y,w_t) \\odot \\nabla_w L(x,y,w_t)$$\n",
        "\n",
        "$$\\large w_{t+1} = w_{t} - \\frac{\\text{lr}}{\\sqrt{G_t }+ e} \\odot \\nabla_w L(x,y,w_t)$$"
      ]
    },
    {
      "cell_type": "markdown",
      "metadata": {
        "id": "7--T4jWQbAL0"
      },
      "source": [
        "Фрагмент кода для понимания работы RMSprop (Root Mean Square Propagation):\n",
        "\n",
        "```\n",
        "class RMSprop():\n",
        "  def __init__(self, parameters, lr=0.01, alpha=0.99):\n",
        "    self.parameters = parameters\n",
        "    self.lr = lr\n",
        "    self.alpha = alpha\n",
        "    self.grad_squared = torch.zeros_like(parameters)\n",
        "\n",
        "  def step(self):\n",
        "    d_parameters = self.parameters.grad\n",
        "    self.grad_squared = self.alpha*self.grad_squared + \\\n",
        "        (1 - self.alpha)*d_parameters*d_parameters\n",
        "\n",
        "    self.parameters -= self.lr*d_parameters / (torch.sqrt(self.grad_squared) + 1e-7)\n",
        "```\n",
        "\n"
      ]
    },
    {
      "cell_type": "markdown",
      "metadata": {
        "id": "T8K2fqTcbAL0"
      },
      "source": [
        "**Так же, как Adagrad, RMSprop удваивает количество хранимых параметров.**"
      ]
    },
    {
      "cell_type": "markdown",
      "metadata": {
        "id": "xh8FBEUjbAL0"
      },
      "source": [
        "Алгоритм RMSprop реализован в `torch.optim.RMSprop` [🛠️[doc]](https://pytorch.org/docs/stable/generated/torch.optim.RMSprop.html):"
      ]
    },
    {
      "cell_type": "code",
      "execution_count": null,
      "metadata": {
        "id": "6Gx7yADsbAL0"
      },
      "outputs": [],
      "source": [
        "optimizer = optim.RMSprop(model.parameters(), lr=0.01, alpha=0.99)"
      ]
    },
    {
      "cell_type": "markdown",
      "metadata": {
        "id": "7Mb05ReCbAL1"
      },
      "source": [
        "### Adam"
      ]
    },
    {
      "cell_type": "markdown",
      "metadata": {
        "id": "PbyTkvgabAL2"
      },
      "source": [
        "Одним из самых популярных адаптивных оптимизаторов является Adam, объединяющий идеи momentum и adaptive learning rate:\n",
        "\n",
        "$$\\large v_t = \\beta_1 \\cdot v_{t-1} + (1-\\beta_1) \\cdot \\nabla_w L(x,y,w_t),$$\n",
        "\n",
        "$$\\large G_t = \\beta_2 \\cdot G_{t-1} + (1-\\beta_2) \\cdot \\nabla_w L(x,y,w_t) \\odot \\nabla_w L(x,y,w_t),$$\n",
        "\n",
        "$$\\large w_{t+1} = w_t - \\frac{\\text{lr}}{\\sqrt{G_t} + e} \\odot v_t,$$\n",
        "\n",
        "где $\\beta_1$ — аналог $m$ из Momentum, а $\\beta_2$ — аналог $\\alpha$ из RMSprop."
      ]
    },
    {
      "cell_type": "markdown",
      "metadata": {
        "id": "EXSETJRmbAL2"
      },
      "source": [
        "Фрагмент кода для понимания работы Adam:\n",
        "\n",
        "```\n",
        "class Adam:\n",
        "  def __init__(self, parameters, lr=0.01, betas=(0.9, 0.999)):\n",
        "    self.parameters = parameters\n",
        "    self.lr = lr\n",
        "    self.betas = betas\n",
        "    self.velocity = torch.zeros_like(parameters)\n",
        "    self.grad_squared = torch.zeros_like(parameters)\n",
        "    self.beta_1 = betas[0] # momentum\n",
        "    self.beta_2 = betas[1] # alpha\n",
        "\n",
        "  def step(self):\n",
        "    d_parameters = self.parameters.grad\n",
        "    # momentum\n",
        "    self.velocity = self.beta_1*self.velocity + (1 - self.beta_1)*d_parameters\n",
        "    # adaptive learning rate\n",
        "    self.grad_squared = self.beta_2*self.grad_squared + \\\n",
        "        (1 - self.beta_2)*d_parameters*d_parameters\n",
        "    self.parameters -= self.lr*self.velocity / (torch.sqrt(self.grad_squared) + 1e-7)\n",
        "```\n",
        "\n"
      ]
    },
    {
      "cell_type": "markdown",
      "metadata": {
        "id": "DvodC5J5bAL2"
      },
      "source": [
        "**Adam утраивает количество хранимых параметров.**"
      ]
    },
    {
      "cell_type": "markdown",
      "metadata": {
        "id": "nB3T3PiTbAL2"
      },
      "source": [
        "Чтобы в начале у нас получались очень большие шаги, будем дополнительно модицифировать инерцию и сумму квадратов:\n",
        "\n",
        "$$\\large v_t = \\frac{v_t}{1-\\beta_1^t}, \\qquad G_t = \\frac{G_t}{1-\\beta_2^t} $$"
      ]
    },
    {
      "cell_type": "markdown",
      "metadata": {
        "id": "JjL9JWE7bAL2"
      },
      "source": [
        "Алгоритм Adam реализован в `torch.optim.Adam` [🛠️[doc]](https://pytorch.org/docs/stable/generated/torch.optim.Adam.html):"
      ]
    },
    {
      "cell_type": "code",
      "execution_count": null,
      "metadata": {
        "id": "FUpIrcs_bAL2"
      },
      "outputs": [],
      "source": [
        "optimizer = optim.Adam([parameters], betas=(0.9, 0.999))"
      ]
    },
    {
      "cell_type": "markdown",
      "metadata": {
        "id": "4eu-t1r_bAL3"
      },
      "source": [
        "### L2 vs Weight decay"
      ]
    },
    {
      "cell_type": "markdown",
      "metadata": {
        "id": "7Z2H5QzgbAL3"
      },
      "source": [
        "Для использования L2 c оптимизатором необходимо указать значение `weight_decay`,  где `weight_decay` — коэффициент перед L2."
      ]
    },
    {
      "cell_type": "code",
      "execution_count": null,
      "metadata": {
        "id": "roWz2ubVbAL3"
      },
      "outputs": [],
      "source": [
        "parameters = torch.randn(10, requires_grad=True)\n",
        "optimizer = optim.RMSprop([parameters], alpha=0.99, weight_decay=0.001)"
      ]
    },
    {
      "cell_type": "markdown",
      "metadata": {
        "id": "5xemqGembAL3"
      },
      "source": [
        "Вообще говоря, **Weight decay** и **L2** — это немного разные вещи.\n",
        "\n",
        "**L2** добавляет член регуляризации к Loss функции:\n",
        "\n",
        "$$\\text{Loss}_{L2} = \\text{Loss} + \\frac{λ}{2n}w^2$$\n",
        "\n",
        "**Weight decay** уменьшает веса:\n",
        "\n",
        "$$w_{wd} = w - \\frac{λ}{n}w$$\n",
        "\n",
        "где $λ$ — константа, а $n$ — количество элементов в батче.\n"
      ]
    },
    {
      "cell_type": "markdown",
      "metadata": {
        "id": "Cc3XXhNxbAL3"
      },
      "source": [
        "Для **SGD** оптимизатора **Weight decay** и **L2** **эквивалентны**, но не для всех оптимизаторов это так.\n",
        "\n",
        "Например, это не так для **Adam**. **L2**-регуляризация прибавляется к Loss функции и изменяет **значение градиента**, квадраты которого будут храниться. **Weight decay** изменяет только веса. Подробно об этом можно почитать в:\n",
        "\n",
        "[[arxiv] 🎓 Decoupled Weight Decay Regularization (Loshchilov, Hutter, 2019)](https://arxiv.org/pdf/1711.05101.pdf)\n",
        "\n",
        "**Обратите внимание**, что `weight_decay` в `torch.optim.Adam` — это **коэффициент перед L2**. **Weight decay** для **Adam** реализовано в\n",
        "`torch.optim.AdamW`.\n"
      ]
    },
    {
      "cell_type": "markdown",
      "metadata": {
        "id": "rOxyxS_DbAL4"
      },
      "source": [
        "### Другие оптимизаторы (Lion)"
      ]
    },
    {
      "cell_type": "markdown",
      "metadata": {
        "id": "y5L3xbrTbAL4"
      },
      "source": [
        "Не Adam-ом единым живут нейронные сети. Есть альтернативные методы оптимизации, например, проект [Google Brain ✏️[blog]](https://research.google/teams/brain/) в 2023 году опубликовал [статью 🎓[arxiv]](https://arxiv.org/pdf/2302.06675.pdf), в которой описывает найденный в процессе [AutoML 🎓[arxiv]](https://arxiv.org/pdf/2101.08809.pdf) (автоматического подбора архитектур и алгоритмов) оптимизатор, названный **Lion**  (Evo**L**ved S**i**gn M**o**me**n**tum) 🦁."
      ]
    },
    {
      "cell_type": "markdown",
      "metadata": {
        "id": "7dAxErm9bAL4"
      },
      "source": [
        "Интересно, что AutoML алгоритм пришел к интуитивно понятной эвристике: градиенты — вещь не очень надежная. Они могут взрываться и затухать. Может, тогда мы зафиксируем размер шага, а градиенты будем использовать только для определения направления?\n",
        "\n",
        "Для определения направления используют функцию $\\text{sign}$ (знак):\n",
        "\n",
        "\\begin{align}\n",
        "\\text{sign}(x) = \\left\\{\n",
        "\\begin{array}{cl}\n",
        "1 & x > 0 \\\\\n",
        "0 & x = 0\\\\\n",
        "-1 & x < 0.\n",
        "\\end{array}\n",
        "\\right.\n",
        "\\end{align}\n"
      ]
    },
    {
      "cell_type": "markdown",
      "metadata": {
        "id": "h_00vpDTbAL4"
      },
      "source": [
        "К этому добавляется уже изученный нами momentum, чтобы знак “прыгал” реже. Интересно, что AutoML подобрал алгоритм, в котором используются две константы для momentum. $\\beta_1$ — для определения текущего знака градиента, $\\beta_2$ — для хранения значения $v_t$. Значения по умолчанию $\\beta_1 = 0.9$, $\\beta_2 = 0.99$. Это значит, что текущее значение градиента сильнее влияет на значение для выбора направления текущего шага $c_{t}$, чем на хранимое значение момента $v_t$.\n"
      ]
    },
    {
      "cell_type": "markdown",
      "metadata": {
        "id": "wVHAA-O_bAL4"
      },
      "source": [
        "Значение для вычисления направления текущего шага:\n",
        "\n",
        "$$c_{t} = \\beta_1 \\cdot v_{t-1} + (1-\\beta_1) \\nabla_wL(x, y, w_{t})$$\n",
        "\n",
        "Шаг оптимизатора. $λ$ — константа weight decay:\n",
        "\n",
        "$$w_{t+1} = w_t - \\text{lr} \\cdot (\\text{sign}(c_t) +λ w_t)$$\n",
        "\n",
        "Обновление хранимого значения момента:\n",
        "\n",
        "$$v_t = \\beta_2 \\cdot v_{t-1} + (1-\\beta_2) \\nabla_wL(x, y, w_{t})$$"
      ]
    },
    {
      "cell_type": "markdown",
      "metadata": {
        "id": "aSd6ZS5fbAL5"
      },
      "source": [
        "Фрагмент кода для понимания работы **Lion**:\n",
        "\n",
        "```\n",
        "class Lion:\n",
        "  def __init__(self, parameters, lr=0.0001, betas=(0.9, 0.99), weight_decay=0.01):\n",
        "    self.parameters = parameters\n",
        "    self.lr = lr\n",
        "    self.betas = betas\n",
        "    self.velocity = torch.zeros_like(parameters)\n",
        "    self.beta_1 = betas[0] # momentum 1\n",
        "    self.beta_2 = betas[1] # momentum 2\n",
        "    self.weight_decay = weight_decay\n",
        "\n",
        "  def step(self):\n",
        "    d_parameters = self.parameters.grad\n",
        "    # current momentum\n",
        "    current = self.beta_1*self.velocity + (1 - self.beta_1)*d_parameters\n",
        "    # step\n",
        "    self.parameters -= self.lr*(torch.sign(carent)+self.weight_decay*self.parameters)\n",
        "    # history momentum\n",
        "    self.velocity = self.beta_2*self.velocity + (1 - self.beta_2)*d_parameters\n",
        "```"
      ]
    },
    {
      "cell_type": "markdown",
      "metadata": {
        "id": "FK4hez_PbAL5"
      },
      "source": [
        "**Lion удваивает количество хранимых параметров.**\n",
        "\n",
        "Обратите внимание, что значение lr по умолчанию у **Lion** выбрано меньше, чем у **Adam**. Это связано с тем, что только lr и регуляризация определяют размер шага. Авторы статьи советуют брать для **Lion** в 10 раз меньший lr, чем для **Adam**."
      ]
    },
    {
      "cell_type": "markdown",
      "metadata": {
        "id": "0BffKj4YbAL5"
      },
      "source": [
        "У **Lion** есть преимущества по сравнению с **Adam** и **AdamW**: в нем нет необходимости хранить квадраты градиентов. Он позволяет **снизить количество хранимых параметров** в 1.5–2 раза по сравнению с **AdamW**, а также сокращает количество операций, что позволяет [ускорить расчеты на 2–15% 🎓[arxiv]](https://arxiv.org/pdf/2302.06675.pdf) (в Colab это незаметно из-за специфики, связанной с виртуальными машинами).\n",
        "\n",
        "Кроме того, **Lion** [позволяет добиться лучших результатов 🐾[git]](https://github.com/google/automl/tree/master/lion), чем AdamW, при обучении больших сложных моделей, таких как Visual Transformer-ы и диффузионные модели."
      ]
    },
    {
      "cell_type": "markdown",
      "metadata": {
        "id": "sOaUzcXgbAL5"
      },
      "source": [
        "Но до сложных моделей мы пока не добрались, попробуем простую. Воспользуемся реализацией [Lion-Pytorch 🐾[git]](https://github.com/lucidrains/lion-pytorch):"
      ]
    },
    {
      "cell_type": "code",
      "execution_count": null,
      "metadata": {
        "id": "F7srguqGbAL5"
      },
      "outputs": [],
      "source": [
        "!pip install -q lion-pytorch"
      ]
    },
    {
      "cell_type": "markdown",
      "metadata": {
        "id": "4E7HNYZgbAL6"
      },
      "source": [
        "Результат получился почти как у **Adam**, число хранимых параметров меньше. Для лучшего качества с Lion рекомендуется использовать `lr_scheduler`, чтобы постепенно понижать скорость обучения.\n",
        "\n"
      ]
    },
    {
      "cell_type": "markdown",
      "metadata": {
        "id": "SSMCYRKGbAL6"
      },
      "source": [
        "## Ландшафт функции потерь\n"
      ]
    },
    {
      "cell_type": "markdown",
      "metadata": {
        "id": "Kr1AzJnPbAL7"
      },
      "source": [
        "Существует [исследование 🎓[article]](https://proceedings.neurips.cc/paper/2018/file/be3087e74e9100d4bc4c6268cdbe8456-Paper.pdf), которое показывает, что ландшафт функции потерь представляет собой не изолированные локальные минимумы (рисунок слева), а связанные области с почти постоянным значением (рисунок справа). Поэтому умение “выбираться” из седловых точек важно."
      ]
    },
    {
      "cell_type": "markdown",
      "metadata": {
        "id": "XV0MtyaMbAL7"
      },
      "source": [
        "<center><img src =\"https://ml.gan4x4.ru/msu/dep-2.2/L07/loss_surfaces.png\" width=\"900\"></center>\n",
        "\n",
        "<center><em>Source: <a href=\"https://proceedings.neurips.cc/paper/2018/file/be3087e74e9100d4bc4c6268cdbe8456-Paper.pdf\">Loss Surfaces, Mode Connectivity, and Fast Ensembling of DNNs</a></em></center>"
      ]
    },
    {
      "cell_type": "markdown",
      "metadata": {
        "id": "ul331LU7bAL7"
      },
      "source": [
        "## Сравнение оптимизаторов"
      ]
    },
    {
      "cell_type": "markdown",
      "metadata": {
        "id": "-m2qDDUPbAL7"
      },
      "source": [
        "У каждого из предложенных оптимизаторов есть минусы и плюсы:\n",
        "\n",
        "* Методы с инерцией сходятся к решению более плавно, но могут \"перелетать\".\n",
        "* Методы с адаптивным learning rate быстрее сходятся, более стабильны и меньше случайно блуждают.\n",
        "* Алгоритмы без адаптивного learning rate сложнее выбираются из локальных минимумов.\n",
        "* Алгоритмы с инерцией осцилируют в седловых точках прежде, чем находят верный путь."
      ]
    },
    {
      "cell_type": "markdown",
      "metadata": {
        "id": "X7m5hodQbAL7"
      },
      "source": [
        "<center><img src =\"https://ml.gan4x4.ru/msu/dep-2.2/L07/methods_without_adaptive_learning_rate.gif\" width=\"450\"><img src =\"https://ml.gan4x4.ru/msu/dep-2.2/L07/methods_with_momentum_in_saddle_point.gif\" width=\"450\">\n",
        "\n",
        "<em>Source: <a href=\"https://imgur.com/a/Hqolp\">Visualizing Optimization Algos</a></em></center>"
      ]
    }
  ]
}