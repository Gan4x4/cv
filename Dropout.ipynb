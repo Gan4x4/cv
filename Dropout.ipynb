{
  "nbformat": 4,
  "nbformat_minor": 0,
  "metadata": {
    "colab": {
      "provenance": []
    },
    "kernelspec": {
      "name": "python3",
      "display_name": "Python 3"
    },
    "language_info": {
      "name": "python"
    }
  },
  "cells": [
    {
      "cell_type": "markdown",
      "metadata": {
        "id": "29G_Y-hrbALZ"
      },
      "source": [
        "# Регуляризация"
      ]
    },
    {
      "cell_type": "markdown",
      "metadata": {
        "id": "qalqPN-BbALZ"
      },
      "source": [
        "Второй способ улучшения сходимости нейросетей и борьбы с переобучением — введение регуляризации. Ее можно вводить несколькими способами."
      ]
    },
    {
      "cell_type": "markdown",
      "metadata": {
        "id": "f5YH9K5ZbALZ"
      },
      "source": [
        "## L1, L2 регуляризации"
      ]
    },
    {
      "cell_type": "markdown",
      "metadata": {
        "id": "QONq0JvQbALZ"
      },
      "source": [
        "Мы уже разбирали самый простой способ — добавление штрафа к весам в функцию потерь. На сходимость нейросети это, правда, влияет слабо."
      ]
    },
    {
      "cell_type": "markdown",
      "metadata": {
        "id": "jzuesa9jbALZ"
      },
      "source": [
        "$$ \\text{Loss_reg} = \\text{loss} + \\lambda \\cdot \\text{reg}$$\n",
        "\n",
        "$$ \\text{reg}_{L1} = \\lambda \\sum |w_i| $$\n",
        "\n",
        "$$ \\text{reg}_{L2} = \\lambda \\sum w_i^2 $$"
      ]
    },
    {
      "cell_type": "markdown",
      "metadata": {
        "id": "bQiLAQCObALa"
      },
      "source": [
        "<center><img src =\"https://ml.gan4x4.ru/msu/dep-2.2/L07/loss_landscape_with_regularization.gif\" width=\"800\"></center>\n",
        "\n",
        "<center><em>Source: <a href=\"https://people.eecs.berkeley.edu/~jrs/189/\">Introduction to Machine Learning\n",
        "</a></em></center>\n"
      ]
    },
    {
      "cell_type": "markdown",
      "metadata": {
        "id": "PB_RLELwbALa"
      },
      "source": [
        "Иногда уже его хватает, чтобы решить все проблемы. Напомним, что **L2** Loss приводит к большому числу маленьких ненулевых весов в сети. А **L1** Loss — к маленькому числу ненулевых весов (разреженной нейросети)."
      ]
    },
    {
      "cell_type": "markdown",
      "metadata": {
        "id": "20MBLlKZbALa"
      },
      "source": [
        "В PyTorch L2-регуляризация (или её аналоги) часто \"встроена\" в оптимизаторы и связана с параметром `weight_decay`. Подробнее различия между `weight_decay` и L2 мы обсудим ниже.\n",
        "\n",
        "\n",
        "```\n",
        "sgd = torch.optim.SGD(model.parameters(), lr=0.001, weight_decay=0.001)\n",
        "```\n",
        "\n"
      ]
    },
    {
      "cell_type": "markdown",
      "metadata": {
        "id": "lEyCKmwKbALa"
      },
      "source": [
        "## Dropout"
      ]
    },
    {
      "cell_type": "markdown",
      "metadata": {
        "id": "f6D3Re6VbALa"
      },
      "source": [
        "Одним из распространенных именно в нейросетях методом регуляризации является **Dropout**."
      ]
    },
    {
      "cell_type": "markdown",
      "metadata": {
        "id": "tKDNzytubALb"
      },
      "source": [
        "<center><img src =\"https://ml.gan4x4.ru/msu/dev-2.1/L07/out/dropout.png\" width=\"700\"></center>"
      ]
    },
    {
      "cell_type": "markdown",
      "metadata": {
        "id": "J-perE5MbALb"
      },
      "source": [
        "Состоит этот метод в следующем:\n",
        "\n",
        "1. Во время обучения мы с вероятностью $p$ **зануляем выход нейронов** слоя (например, $p = 0.5$).\n",
        "2. Зануленные нейроны не участвуют в данном `forward`, и поэтому градиент к ним при `backward` не идет.\n",
        "3. Сила регуляризации определяется вероятностью $p$: чем она больше, тем сильнее регуляризация."
      ]
    },
    {
      "cell_type": "markdown",
      "metadata": {
        "id": "NXUTFTTVbALb"
      },
      "source": [
        "###Сверточные слои"
      ]
    },
    {
      "cell_type": "markdown",
      "metadata": {
        "id": "wWLenIsgbALb"
      },
      "source": [
        "Аналогично **Batch Normalization**, при применении к **сверточному слою**  **Dropout** должен **убирать каналы целиком**. Dropout для полносвязного слоя реализован в PyTorch в `nn.Dropout` [🛠️[doc]](https://pytorch.org/docs/stable/generated/torch.nn.Dropout.html), для сверточного — в `nn.Dropout2d` [🛠️[doc]](https://pytorch.org/docs/stable/generated/torch.nn.Dropout2d.html)."
      ]
    },
    {
      "cell_type": "markdown",
      "metadata": {
        "id": "U0UnPNHnbALb"
      },
      "source": [
        "<center><img src =\"https://ml.gan4x4.ru/msu/dev-2.1/L07/out/dropout_2d.png\" width=\"700\"></center>"
      ]
    },
    {
      "cell_type": "markdown",
      "metadata": {
        "id": "IrhoIBE4bALc"
      },
      "source": [
        "### Мотивация Dropout"
      ]
    },
    {
      "cell_type": "markdown",
      "metadata": {
        "id": "WZEFZgaSbALc"
      },
      "source": [
        "#### Борьба с коадаптацией"
      ]
    },
    {
      "cell_type": "markdown",
      "metadata": {
        "id": "vaho4UDBbALc"
      },
      "source": [
        "Одной из  проблем при работе с глубокими сетями является **совместная адаптация нейронов**. Если все весовые коэффициенты обучаются вместе, некоторые соединения будут иметь больше возможностей прогнозирования, чем другие.\n",
        "\n",
        "**Часть нейронов** делает основную работу — **предсказывает**, а остальные могут вообще не вносить никакого вклада в итоговое предсказание. Или же другая картина: один нейрон делает **неверное предсказание**, другие его **исправляют**, и в итоге первый нейрон свои ошибки не исправляет.\n",
        "\n",
        "Можно попробовать понять, как это работает, через аналогию — конвейер по сборке машины: основную часть работы может исполнять небольшое количество работников. Другие работники могут лениться и передавать деталь, которая к ним поступила, без изменений или откручивать только что добавленные части. Если мы исключим “эффективных работников”, результат станет удручающим.\n",
        "\n",
        "Это явление называется **коадаптацией**. Его нельзя было предотвратить с помощью традиционной регуляризации, такой как **L1** или **L2**. А вот **Dropout** с этим хорошо борется."
      ]
    },
    {
      "cell_type": "markdown",
      "metadata": {
        "id": "KFrBf5WXbALc"
      },
      "source": [
        "Отключая хорошо обученные нейроны, мы заставляем плохо обученные нейроны учиться. Отключая нейроны, которые исправляют ошибки других нейронов, мы заставляем ошибающиеся нейроны исправлять ошибки."
      ]
    },
    {
      "cell_type": "markdown",
      "metadata": {
        "id": "LsyLWqxObALd"
      },
      "source": [
        "**Dropout** гарантирует, что выучиваемые индивидуальными нейронами функции хорошо работают со **случайно выбранными подмножествами функций**, выученных другими нейронами, улучшая **обобщающую способность** нейронов."
      ]
    },
    {
      "cell_type": "markdown",
      "metadata": {
        "id": "9LB1a0z-bALd"
      },
      "source": [
        "На следующем рисунке, извлеченном из [статьи про Dropout 🎓[article]](https://jmlr.org/papers/v15/srivastava14a.html), мы находим сравнение признаков, изученных в наборе данных **MNIST** нейросетью с **одним скрытым слоем** в автоэнкодере, имеющем $256$ признаков после ReLU **без Dropout** (слева), и признаков, изученных той же структурой с использованием **Dropout** в ее скрытом слое с $p = 0.5$ (справа).\n",
        "\n",
        "Первый показывает неструктурированные, беспорядочные паттерны, которые невозможно интерпретировать. Второй явно демонстрирует целенаправленное распределение весов, которое обнаруживает штрихи, края и пятна самостоятельно, нарушая их взаимозависимость с другими нейронами для выполнения этой работы."
      ]
    },
    {
      "cell_type": "markdown",
      "metadata": {
        "id": "NYnLi8G3bALd"
      },
      "source": [
        "<center><img src =\"https://ml.gan4x4.ru/msu/dep-2.2/L07/compare_weights_with_dropout_and_without_dropout.png\" width=\"600\"></center>\n",
        "\n",
        "<center><em>Source: <a href=\"https://jmlr.org/papers/volume15/srivastava14a/srivastava14a.pdf\">Dropout: A Simple Way to Prevent Neural Networks from\n",
        "Overfitting</a></em></center>"
      ]
    },
    {
      "cell_type": "markdown",
      "metadata": {
        "id": "jlNnkov1bALd"
      },
      "source": [
        "#### Dropout как регуляризация"
      ]
    },
    {
      "cell_type": "markdown",
      "metadata": {
        "id": "0464k4_zbALd"
      },
      "source": [
        "Фактически **Dropout** штрафует слишком сложные, неустойчивые решения. Добавляя в нейросеть **Dropout**, мы сообщаем ей, что решение, которое мы ожидаем, должно быть устойчиво к шуму."
      ]
    },
    {
      "cell_type": "markdown",
      "metadata": {
        "id": "Y7UM_90sbALd"
      },
      "source": [
        "#### Dropout как ансамбль"
      ]
    },
    {
      "cell_type": "markdown",
      "metadata": {
        "id": "RKpUSEH9bALe"
      },
      "source": [
        "Можно рассматривать **Dropout** как **ансамбль нейросетей** со схожими параметрами, которые мы учим одновременно, вместо того, чтобы учить каждую в отдельности, а затем результат их предсказания усредняем, [выключая Dropout в режиме eval ✏️[blog]](https://habr.com/ru/companies/wunderfund/articles/330814/).\n",
        "\n",
        "Таким образом, возникает аналогия со случайным лесом: каждая из наших нейросетей легко выучивает выборку и переобучается — имеет низкий bias, но высокий variance. При этом, за счет временного отключения активаций, каждая нейросеть видит не все объекты, а только часть. Усредняя все эти предсказания, мы уменьшаем variance.\n",
        "\n"
      ]
    },
    {
      "cell_type": "markdown",
      "metadata": {
        "id": "ruuxkRnibALe"
      },
      "source": [
        "#### Dropout помогает бороться с переобучением"
      ]
    },
    {
      "cell_type": "markdown",
      "metadata": {
        "id": "oJ2ScwtMbALe"
      },
      "source": [
        "Dropout, в силу указанного выше, может хорошо помогать бороться с переобучением.\n",
        "\n",
        "И в случае линейных слоев:"
      ]
    },
    {
      "cell_type": "markdown",
      "metadata": {
        "id": "KIP578tAbALe"
      },
      "source": [
        "<center><img src =\"https://ml.gan4x4.ru/msu/dep-2.2/L07/dropout_solve_overfitting_problem_in_mlp_networks.png\" width=\"500\">\n",
        "\n",
        "<em>Source: <a href=\"https://xuwd11.github.io/Dropout_Tutorial_in_PyTorch/\">Tutorial: Dropout as Regularization and Bayesian Approximation</a></em></center>"
      ]
    },
    {
      "cell_type": "markdown",
      "metadata": {
        "id": "R6KCzxnCbALe"
      },
      "source": [
        "И в случае свёрточных слоёв:"
      ]
    },
    {
      "cell_type": "markdown",
      "metadata": {
        "id": "I5MWSF3qbALf"
      },
      "source": [
        "<center><img src =\"https://ml.gan4x4.ru/msu/dep-2.2/L07/dropout_solve_overfitting_problem_in_convolution_networks.png\" width=\"500\">\n",
        "\n",
        "<em>Source: <a href=\"https://xuwd11.github.io/Dropout_Tutorial_in_PyTorch/\">Tutorial: Dropout as Regularization and Bayesian Approximation</a></em></center>"
      ]
    },
    {
      "cell_type": "markdown",
      "metadata": {
        "id": "SWlIYfk7bALf"
      },
      "source": [
        "#### Простая реализация Dropout"
      ]
    },
    {
      "cell_type": "markdown",
      "metadata": {
        "id": "474XixpTbALf"
      },
      "source": [
        "Напишем \"наивную\" реализацию модуля Dropout.\n",
        "\n",
        "**Замечание:** этот блок кода дан для объяснения работы Dropout. При построении нейронной сети используйте `nn.Dropout` [🛠️[doc]](https://pytorch.org/docs/stable/generated/torch.nn.Dropout.html) или `nn.Dropout2d` [🛠️[doc]](https://pytorch.org/docs/stable/generated/torch.nn.Dropout2d.html).\n",
        "\n",
        "```\n",
        "class BadDropout(nn.Module):\n",
        "    def __init__(self, p: float=0.5):\n",
        "        super().__init__()\n",
        "        if p < 0 or p > 1:\n",
        "            raise ValueError(\n",
        "                f\"Dropout probability has to be between 0 and 1, but got {p}\"\n",
        "            )\n",
        "        self.p = p\n",
        "\n",
        "    def forward(self, x):\n",
        "        if self.training:\n",
        "            keep = torch.rand(x.size()) > self.p\n",
        "            if x.is_cuda:\n",
        "                keep = keep.to(device)\n",
        "            return x * keep\n",
        "        # in test time, expectation is calculated\n",
        "        return x * (1 - self.p)\n",
        "```\n",
        "\n"
      ]
    },
    {
      "cell_type": "markdown",
      "metadata": {
        "id": "T0b_UYZvbALf"
      },
      "source": [
        "Приведенная реализация неоптимальна, так как в режиме инференса (когда `training = False`) функция `forward` совершает дополнительное умножение. Одним из приоритетов при создании модели является скорость работы в режиме инференса. Поэтому по возможности все \"лишние\" операции выполняют только в режиме обучения. В данном случае можно целиком убрать коэффициент нормировки из режима инференса, перенеся его в режим обучения в знаменатель.\n",
        "\n",
        "Дополнительным плюсом такого подхода является то, что при удалении модуля из архитектуры сети функция прогнозирования не изменится.\n",
        "\n",
        "\n",
        "```\n",
        "class Dropout(nn.Module):\n",
        "    def __init__(self, p: float=0.2):\n",
        "        super().__init__()\n",
        "        if p < 0 or p > 1:\n",
        "            raise ValueError(\n",
        "                f\"Dropout probability has to be between 0 and 1, but got {p}\"\n",
        "            )\n",
        "        self.p = p\n",
        "\n",
        "    def forward(self, x):\n",
        "        if self.training:\n",
        "            keep = torch.rand(x.size()) > self.p\n",
        "            if x.is_cuda:\n",
        "                keep = keep.to(x)\n",
        "            return x * keep / (1 - self.p)\n",
        "        return x  # in test time, expectation is calculated intrinsically - we just not divide weights\n",
        "```\n",
        "\n"
      ]
    },
    {
      "cell_type": "markdown",
      "metadata": {
        "id": "RFmFXaMzbALf"
      },
      "source": [
        "Попробуем применить Dropout в нашей нейросети:"
      ]
    },
    {
      "cell_type": "code",
      "execution_count": null,
      "metadata": {
        "id": "Oi2aBShbbALf"
      },
      "outputs": [],
      "source": [
        "class SimpleMNIST_NN_Dropout(nn.Module):\n",
        "    def __init__(self, n_layers, activation=nn.Sigmoid, init_form=\"normal\"):\n",
        "        super().__init__()\n",
        "        self.n_layers = n_layers\n",
        "        self.activation = activation()\n",
        "        layers = [nn.Linear(28 * 28, 100), self.activation]\n",
        "        for _ in range(0, n_layers - 1):\n",
        "            layers.append(nn.Linear(100, 100))\n",
        "            layers.append(nn.Dropout(p=0.2))  # add Dropout\n",
        "            layers.append(self.activation)\n",
        "        layers.append(nn.Linear(100, 10))\n",
        "        self.layers = nn.Sequential(*layers)\n",
        "\n",
        "    def forward(self, x):\n",
        "        x = x.view(-1, 28 * 28)\n",
        "        x = self.layers(x)\n",
        "        return x"
      ]
    },
    {
      "cell_type": "markdown",
      "metadata": {
        "id": "azobM2kAbALg"
      },
      "source": [
        "Так как наша модель из-за Dropout ведет себя по-разному во время обучения и во время тестирования, мы должны прямо ей сообщать, обучается она сейчас или нет.\n",
        "\n",
        "$$\n",
        "\\begin{array}{c|c}\n",
        "\\large{\\text{model.train()}}&\\ \\large{\\text{model.eval()}}\\\\  \\hline\n",
        "\\large{\\text{Активируются Dropout слои}}&\\large{\\text{Слои Dropout отключены}}\\\\\n",
        "\\large{\\text{Выход части нейронов обнуляется, выходы нормируются}}&\\large{\\text{Все нейроны работают}}\n",
        "\\end{array}\n",
        "$$\n",
        "\n"
      ]
    },
    {
      "cell_type": "markdown",
      "metadata": {
        "id": "90_hz8FHbALg"
      },
      "source": [
        "Обучим модель с **Dropout**:"
      ]
    },
    {
      "cell_type": "code",
      "execution_count": null,
      "metadata": {
        "id": "0F4uZXkPbALg"
      },
      "outputs": [],
      "source": [
        "model_name = \"nn3_dropout\"\n",
        "model = SimpleMNIST_NN_Dropout(n_layers=3)\n",
        "\n",
        "trainer = L.Trainer(\n",
        "    max_epochs=5,\n",
        "    logger=TensorBoardLogger(save_dir=f\"logs/{model_name}\"),\n",
        "    num_sanity_val_steps=0,\n",
        ")\n",
        "\n",
        "pipeline = Pipeline(model=model, exp_name=model_name, optimizer_kwargs={\"lr\": 1e-2})\n",
        "\n",
        "trainer.fit(model=pipeline, train_dataloaders=train_loader, val_dataloaders=val_loader)\n",
        "\n",
        "history = pipeline.history\n",
        "history[\"epoсhs\"] = trainer.max_epochs\n",
        "history_plotter.add(history)"
      ]
    },
    {
      "cell_type": "code",
      "execution_count": null,
      "metadata": {
        "id": "XLa0TdYobALg"
      },
      "outputs": [],
      "source": [
        "history_plotter.plot([\"n_layers3_sigmoid\", \"n3_layers_sigmoid_havier\", model_name])"
      ]
    },
    {
      "cell_type": "markdown",
      "metadata": {
        "id": "xRW5TOqwbALh"
      },
      "source": [
        "В данном случае выигрыш небольшой. Если учить нейросеть больше эпох, эффект будет заметнее."
      ]
    },
    {
      "cell_type": "markdown",
      "metadata": {
        "id": "h3ONe6WfbALi"
      },
      "source": [
        "#### Пример борьбы с переобучением при помощи Dropout\n"
      ]
    },
    {
      "cell_type": "markdown",
      "metadata": {
        "id": "uuD9HMzdbALi"
      },
      "source": [
        "Чтобы увидеть эффект и при этом не учить нейросеть 100+ эпох, сделаем искусственный пример.\n",
        "\n",
        "Просто **добавим к линейной зависимости шум** и попробуем выучить ее нейронной сетью.\n",
        "\n",
        "[[colab] 🥨 Batch Normalization and Dropout](https://colab.research.google.com/github/Niranjankumar-c/DeepLearning-PadhAI/blob/master/DeepLearning_Materials/7_BatchNormalization/BatchNorm_Dropout.ipynb)"
      ]
    },
    {
      "cell_type": "code",
      "execution_count": null,
      "metadata": {
        "id": "HCNivFiibALi"
      },
      "outputs": [],
      "source": [
        "N = 50  # number of data points\n",
        "noise = 0.3\n",
        "\n",
        "# generate the train data\n",
        "x_train = torch.unsqueeze(torch.linspace(-1, 1, N), 1)\n",
        "y_train = x_train + noise * torch.normal(torch.zeros(N, 1), torch.ones(N, 1))\n",
        "\n",
        "# generate the test data\n",
        "x_test = torch.unsqueeze(torch.linspace(-1, 1, N), 1)\n",
        "y_test = x_test + noise * torch.normal(torch.zeros(N, 1), torch.ones(N, 1))\n",
        "\n",
        "print(f\"x_train shape: {x_train.shape}\\nx_test shape: {x_test.shape}\")"
      ]
    },
    {
      "cell_type": "code",
      "execution_count": null,
      "metadata": {
        "id": "hY5qR_lSbALi"
      },
      "outputs": [],
      "source": [
        "plt.scatter(\n",
        "    x_train.data.numpy(), y_train.data.numpy(), c=\"purple\", alpha=0.5, label=\"train\"\n",
        ")\n",
        "plt.scatter(\n",
        "    x_test.data.numpy(), y_test.data.numpy(), c=\"yellow\", alpha=0.5, label=\"test\"\n",
        ")\n",
        "\n",
        "x_real = np.arange(-1, 1, 0.01)\n",
        "y_real = x_real\n",
        "plt.plot(x_real, y_real, c=\"green\", label=\"true\")\n",
        "plt.legend()\n",
        "plt.show()"
      ]
    },
    {
      "cell_type": "markdown",
      "metadata": {
        "id": "lQuv0h7cbALi"
      },
      "source": [
        "Модель **без Dropout**:"
      ]
    },
    {
      "cell_type": "code",
      "execution_count": null,
      "metadata": {
        "id": "ydsP643ZbALj"
      },
      "outputs": [],
      "source": [
        "N_h = 100  # num of neurons\n",
        "model = torch.nn.Sequential(\n",
        "    torch.nn.Linear(1, N_h),\n",
        "    torch.nn.ReLU(),\n",
        "    torch.nn.Linear(N_h, N_h),\n",
        "    torch.nn.ReLU(),\n",
        "    torch.nn.Linear(N_h, 1),\n",
        ")\n",
        "optimizer = torch.optim.Adam(model.parameters(), lr=0.01)"
      ]
    },
    {
      "cell_type": "markdown",
      "metadata": {
        "id": "wkzrdJ5pbALj"
      },
      "source": [
        "Модель **с Dropout**:"
      ]
    },
    {
      "cell_type": "code",
      "execution_count": null,
      "metadata": {
        "id": "1WycfwLCbALk"
      },
      "outputs": [],
      "source": [
        "N_h = 100  # num of neurons\n",
        "\n",
        "model_dropout = nn.Sequential(\n",
        "    nn.Linear(1, N_h),\n",
        "    nn.Dropout(0.5),  # 50 % probability\n",
        "    nn.ReLU(),\n",
        "    torch.nn.Linear(N_h, N_h),\n",
        "    nn.Dropout(0.2),  # 20% probability\n",
        "    nn.ReLU(),\n",
        "    torch.nn.Linear(N_h, 1),\n",
        ")\n",
        "optimizer_dropout = torch.optim.Adam(model_dropout.parameters(), lr=0.01)"
      ]
    },
    {
      "cell_type": "code",
      "execution_count": null,
      "metadata": {
        "id": "B_qVjYiubALk"
      },
      "outputs": [],
      "source": [
        "num_epochs = 1500\n",
        "criterion = torch.nn.MSELoss()\n",
        "\n",
        "for epoch in range(num_epochs):\n",
        "    # train without dropout\n",
        "    y_pred = model(x_train)  # look at the entire data in a single shot\n",
        "    loss = criterion(y_pred, y_train)\n",
        "    optimizer.zero_grad()\n",
        "    loss.backward()\n",
        "    optimizer.step()\n",
        "\n",
        "    # train with dropout\n",
        "    y_pred_dropout = model_dropout(x_train)\n",
        "    loss_dropout = criterion(y_pred_dropout, y_train)\n",
        "    optimizer_dropout.zero_grad()\n",
        "    loss_dropout.backward()\n",
        "    optimizer_dropout.step()\n",
        "\n",
        "    if epoch % 300 == 0:\n",
        "        model.eval()  # not train mode\n",
        "        model_dropout.eval()  #  not train mode\n",
        "\n",
        "        # get predictions\n",
        "        y_test_pred = model(x_test)\n",
        "        test_loss = criterion(y_test_pred, y_test)\n",
        "\n",
        "        y_test_pred_dropout = model_dropout(x_test)\n",
        "        test_loss_dropout = criterion(y_test_pred_dropout, y_test)\n",
        "        # plotting data and predictions\n",
        "        plt.scatter(\n",
        "            x_train.data.numpy(),\n",
        "            y_train.data.numpy(),\n",
        "            c=\"purple\",\n",
        "            alpha=0.5,\n",
        "            label=\"train\",\n",
        "        )\n",
        "        plt.scatter(\n",
        "            x_test.data.numpy(),\n",
        "            y_test.data.numpy(),\n",
        "            c=\"yellow\",\n",
        "            alpha=0.5,\n",
        "            label=\"test\",\n",
        "        )\n",
        "        plt.plot(\n",
        "            x_test.data.numpy(), y_test_pred.data.numpy(), \"r-\", lw=3, label=\"normal\"\n",
        "        )\n",
        "        plt.plot(\n",
        "            x_test.data.numpy(),\n",
        "            y_test_pred_dropout.data.numpy(),\n",
        "            \"b--\",\n",
        "            lw=3,\n",
        "            label=\"dropout\",\n",
        "        )\n",
        "\n",
        "        plt.title(\n",
        "            \"Epoch %d, Loss = %0.4f, Loss with dropout = %0.4f\"\n",
        "            % (epoch, test_loss, test_loss_dropout)\n",
        "        )\n",
        "\n",
        "        plt.legend()\n",
        "\n",
        "        model.train()  # train mode\n",
        "        model_dropout.train()  # train mode\n",
        "\n",
        "        plt.pause(0.05)"
      ]
    },
    {
      "cell_type": "markdown",
      "metadata": {
        "id": "sJfzKxWLbALl"
      },
      "source": [
        "Видим, что **нейросеть без Dropout сильно переобучилась**."
      ]
    },
    {
      "cell_type": "markdown",
      "metadata": {
        "id": "tBOlq9UIbALm"
      },
      "source": [
        "#### Доверительный интервал от Dropout"
      ]
    },
    {
      "cell_type": "markdown",
      "metadata": {
        "id": "nFtioHNRbALm"
      },
      "source": [
        "Dropout можно рассматривать как **ансамбль моделей**.\n",
        "\n",
        "Если мы возьмем один и тот же объект и пропустим его через модель с **активным Dropout 1000 раз**, это будет эквивалентно тому, чтобы пропустить этот объект через **1000 моделей с различными конфигурациями**. Таким образом мы получим распределение предсказаний, на основе которого можно вычислять [**доверительные интервалы** 📚[wiki]](https://ru.wikipedia.org/wiki/%D0%94%D0%BE%D0%B2%D0%B5%D1%80%D0%B8%D1%82%D0%B5%D0%BB%D1%8C%D0%BD%D1%8B%D0%B9_%D0%B8%D0%BD%D1%82%D0%B5%D1%80%D0%B2%D0%B0%D0%BB) и ловить аномалии (объекты с большой дисперсией предсказываемых значений, которые плохо распознаются сетью)."
      ]
    },
    {
      "cell_type": "markdown",
      "metadata": {
        "id": "p4a0qORrbALm"
      },
      "source": [
        "<center><img src =\"https://ml.gan4x4.ru/msu/dep-2.2/L07/confidence_interval_dropout.png\" width=\"600\"></center>\n",
        "\n",
        "<center><em>Source: <a href=\"https://atcold.github.io/NYU-DLSP20/en/week14/14-3/\">Overfitting and regularization</a></em></center>\n",
        "\n"
      ]
    },
    {
      "cell_type": "markdown",
      "metadata": {
        "id": "nZAzLUi5bALm"
      },
      "source": [
        "## DropConnect"
      ]
    },
    {
      "cell_type": "markdown",
      "metadata": {
        "id": "GIrr7XSzbALm"
      },
      "source": [
        "Если занулять не нейроны (активации), а случайные веса с вероятностью $p$, получится DropConnect."
      ]
    },
    {
      "cell_type": "markdown",
      "metadata": {
        "id": "-plxo1_vbALn"
      },
      "source": [
        "<center><img src =\"https://ml.gan4x4.ru/msu/dev-2.1/L07/out/dropconnect.png\" width=\"650\"></center>"
      ]
    },
    {
      "cell_type": "markdown",
      "metadata": {
        "id": "Rmp7BPGnbALn"
      },
      "source": [
        "DropConnect похож на Dropout, поскольку он вводит динамическую разреженность в модель, но отличается тем, что разреженность зависит от весов *W*, а не от выходных векторов слоя. Другими словами, полностью связанный слой с DropConnect становится разреженно связанным слоем, в котором соединения выбираются случайным образом на этапе обучения."
      ]
    },
    {
      "cell_type": "markdown",
      "metadata": {
        "id": "iwzAq1_pbALn"
      },
      "source": [
        "В принципе, вариантов зануления чего-то в нейронной сети можно предложить великое множество, в разных ситуациях будут работать разные способы ([в этом списке 🎓[article]](https://paperswithcode.com/methods/category/regularization) много Drop...)."
      ]
    },
    {
      "cell_type": "markdown",
      "metadata": {
        "id": "g--9K7E2bALn"
      },
      "source": [
        "## DropBlock"
      ]
    },
    {
      "cell_type": "markdown",
      "metadata": {
        "id": "8EGHUHKVbALn"
      },
      "source": [
        "Например, можно убирать для каждого батча из нейросети случайные блоки из слоев. И это будет работать!"
      ]
    },
    {
      "cell_type": "markdown",
      "metadata": {
        "id": "lyvg9F7-bALn"
      },
      "source": [
        "<center><img src =\"https://ml.gan4x4.ru/msu/dev-2.1/L07/out/dropblock.png\" width=\"750\"></center>"
      ]
    },
    {
      "cell_type": "markdown",
      "metadata": {
        "id": "Vlp9cFgQbALo"
      },
      "source": [
        "[[arxiv] 🎓 Deep Networks with Stochastic Depth (Huang et al., 2016)](https://arxiv.org/pdf/1603.09382.pdf)"
      ]
    },
    {
      "cell_type": "markdown",
      "metadata": {
        "id": "DMx0HvgfbALo"
      },
      "source": [
        "## Batch Normalization до или после Dropout\n",
        "\n"
      ]
    },
    {
      "cell_type": "markdown",
      "metadata": {
        "id": "cL2Go_QBbALo"
      },
      "source": [
        "### После"
      ]
    },
    {
      "cell_type": "markdown",
      "metadata": {
        "id": "24-f8hL2bALo"
      },
      "source": [
        "<center><img src =\"https://ml.gan4x4.ru/msu/dev-2.1/L07/out/batchnormalization_after_dropout.png\" width=\"400\"></center>"
      ]
    },
    {
      "cell_type": "markdown",
      "metadata": {
        "id": "GOB_ZOwKbALo"
      },
      "source": [
        "* **Плохо**: В режиме обучения **Dropout** будет отключать (занулять) выходы слоя активации, из-за этого накопленные в режиме обучения **значения скользящего среднего матожидания и дисперсии** для вычисления **Batch Normalization** в режиме тестирования будут иметь **сдвиг** (не компенсируемый приведением слоя Dropout в режим `train()`), который приведет к нестабильной работе нейросети.\n",
        "\n",
        "\n",
        "Подробно:\n",
        "* [[arxiv] 🎓 Understanding the Disharmony between Dropout and Batch Normalization by\n",
        "Variance Shift (Li et al., 2018)](https://arxiv.org/pdf/1801.05134.pdf)\n",
        "* [[git] 🐾 Understanding the Disharmony between Dropout and Batch Normalization](https://github.com/adelizer/kaggle-sandbox/blob/master/drafts/dropout_bn.ipynb)"
      ]
    },
    {
      "cell_type": "markdown",
      "metadata": {
        "id": "YWSh9C2RbALp"
      },
      "source": [
        "### До"
      ]
    },
    {
      "cell_type": "markdown",
      "metadata": {
        "id": "VCaTJ6BwbALp"
      },
      "source": [
        "<center><img src =\"https://ml.gan4x4.ru/msu/dev-2.1/L07/out/batchnormalization_before_dropout.png\" width=\"400\"></center>"
      ]
    },
    {
      "cell_type": "markdown",
      "metadata": {
        "id": "6LXpIfMNbALp"
      },
      "source": [
        "* **Лучше**: Меньше влияние сдвига от **Dropout** на **BatchNorm**. Но если на предыдущих слоях есть **Dropout**, то значения все равно могут быть смещены."
      ]
    },
    {
      "cell_type": "markdown",
      "metadata": {
        "id": "Gt24ATSwbALp"
      },
      "source": [
        "### Ставить только что-то одно"
      ]
    },
    {
      "cell_type": "markdown",
      "metadata": {
        "id": "_OW6-UAHbALp"
      },
      "source": [
        "* **Dropout** может отрицательно влиять на качество нейросети с **BatchNorm** за счет разного поведения на train и test. Лучше не ставить **Dropout** раньше **BatchNorm**."
      ]
    }
  ]
}