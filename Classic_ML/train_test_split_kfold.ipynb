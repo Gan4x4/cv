{
  "nbformat": 4,
  "nbformat_minor": 0,
  "metadata": {
    "colab": {
      "provenance": [],
      "toc_visible": true
    },
    "kernelspec": {
      "name": "python3",
      "display_name": "Python 3"
    },
    "language_info": {
      "name": "python"
    }
  },
  "cells": [
    {
      "cell_type": "markdown",
      "metadata": {
        "id": "yQMPZLOSkDMb"
      },
      "source": [
        "# Параметры и гиперпараметры модели"
      ]
    },
    {
      "cell_type": "markdown",
      "metadata": {
        "id": "YFNbxSsgkDMb"
      },
      "source": [
        "Рассмотрим алгоритм k-NN. У нас есть **два параметра** модели, которые мы **можем настраивать**:\n",
        "* метрика расстояния,\n",
        "* количество ближайших соседей $k$.\n",
        "\n",
        "Настраиваемые параметры, с помощью которых мы можем управлять процессом обучения, называются **гиперпараметрами**."
      ]
    },
    {
      "cell_type": "markdown",
      "source": [
        "Загрузим датасет и обучим на нем k-NN используя параметры `n_neighbors=6` и `metric=\"chebyshev\"`, посчитаем метрику `accuracy`:"
      ],
      "metadata": {
        "id": "xWxr-qpN8qh2"
      }
    },
    {
      "cell_type": "code",
      "source": [
        "from sklearn.datasets import load_wine\n",
        "from sklearn.metrics import accuracy_score\n",
        "from sklearn.neighbors import KNeighborsClassifier\n",
        "\n",
        "x, y = load_wine(return_X_y=True, as_frame=True)\n",
        "\n",
        "knn = KNeighborsClassifier(n_neighbors=6, metric=\"chebyshev\")\n",
        "knn.fit(x, y)\n",
        "accuracy = accuracy_score(y_pred=knn.predict(x), y_true=y)  # accuracy\n",
        "\n",
        "print(\"Accuracy:\", f\"{accuracy*100 :0.2f}%\")"
      ],
      "metadata": {
        "colab": {
          "base_uri": "https://localhost:8080/"
        },
        "id": "3wleE6Wb7tkU",
        "outputId": "6e674734-6109-43d5-ee89-87485f9019f3"
      },
      "execution_count": null,
      "outputs": [
        {
          "output_type": "stream",
          "name": "stdout",
          "text": [
            "Accuracy: 77.53%\n"
          ]
        }
      ]
    },
    {
      "cell_type": "markdown",
      "metadata": {
        "id": "lJ_yE-4nkDMb"
      },
      "source": [
        "Возможно, мы выбрали не самые лучшие параметры. Посчитаем `accuracy` для разных параметров:"
      ]
    },
    {
      "cell_type": "code",
      "execution_count": null,
      "metadata": {
        "colab": {
          "base_uri": "https://localhost:8080/",
          "height": 174
        },
        "id": "0mImgozOkDMc",
        "outputId": "b1180029-e0b8-419d-f099-8360bc3a89a8"
      },
      "outputs": [
        {
          "output_type": "execute_result",
          "data": {
            "text/plain": [
              "n_neighbors     k=1  k=3  k=5  k=7\n",
              "distance_type                     \n",
              "chebyshev      100%  84%  78%  76%\n",
              "euclidean      100%  87%  79%  75%\n",
              "manhattan      100%  90%  86%  85%"
            ],
            "text/html": [
              "\n",
              "  <div id=\"df-2caa3d31-8621-4048-a564-79d5505f280d\" class=\"colab-df-container\">\n",
              "    <div>\n",
              "<style scoped>\n",
              "    .dataframe tbody tr th:only-of-type {\n",
              "        vertical-align: middle;\n",
              "    }\n",
              "\n",
              "    .dataframe tbody tr th {\n",
              "        vertical-align: top;\n",
              "    }\n",
              "\n",
              "    .dataframe thead th {\n",
              "        text-align: right;\n",
              "    }\n",
              "</style>\n",
              "<table border=\"1\" class=\"dataframe\">\n",
              "  <thead>\n",
              "    <tr style=\"text-align: right;\">\n",
              "      <th>n_neighbors</th>\n",
              "      <th>k=1</th>\n",
              "      <th>k=3</th>\n",
              "      <th>k=5</th>\n",
              "      <th>k=7</th>\n",
              "    </tr>\n",
              "    <tr>\n",
              "      <th>distance_type</th>\n",
              "      <th></th>\n",
              "      <th></th>\n",
              "      <th></th>\n",
              "      <th></th>\n",
              "    </tr>\n",
              "  </thead>\n",
              "  <tbody>\n",
              "    <tr>\n",
              "      <th>chebyshev</th>\n",
              "      <td>100%</td>\n",
              "      <td>84%</td>\n",
              "      <td>78%</td>\n",
              "      <td>76%</td>\n",
              "    </tr>\n",
              "    <tr>\n",
              "      <th>euclidean</th>\n",
              "      <td>100%</td>\n",
              "      <td>87%</td>\n",
              "      <td>79%</td>\n",
              "      <td>75%</td>\n",
              "    </tr>\n",
              "    <tr>\n",
              "      <th>manhattan</th>\n",
              "      <td>100%</td>\n",
              "      <td>90%</td>\n",
              "      <td>86%</td>\n",
              "      <td>85%</td>\n",
              "    </tr>\n",
              "  </tbody>\n",
              "</table>\n",
              "</div>\n",
              "    <div class=\"colab-df-buttons\">\n",
              "\n",
              "  <div class=\"colab-df-container\">\n",
              "    <button class=\"colab-df-convert\" onclick=\"convertToInteractive('df-2caa3d31-8621-4048-a564-79d5505f280d')\"\n",
              "            title=\"Convert this dataframe to an interactive table.\"\n",
              "            style=\"display:none;\">\n",
              "\n",
              "  <svg xmlns=\"http://www.w3.org/2000/svg\" height=\"24px\" viewBox=\"0 -960 960 960\">\n",
              "    <path d=\"M120-120v-720h720v720H120Zm60-500h600v-160H180v160Zm220 220h160v-160H400v160Zm0 220h160v-160H400v160ZM180-400h160v-160H180v160Zm440 0h160v-160H620v160ZM180-180h160v-160H180v160Zm440 0h160v-160H620v160Z\"/>\n",
              "  </svg>\n",
              "    </button>\n",
              "\n",
              "  <style>\n",
              "    .colab-df-container {\n",
              "      display:flex;\n",
              "      gap: 12px;\n",
              "    }\n",
              "\n",
              "    .colab-df-convert {\n",
              "      background-color: #E8F0FE;\n",
              "      border: none;\n",
              "      border-radius: 50%;\n",
              "      cursor: pointer;\n",
              "      display: none;\n",
              "      fill: #1967D2;\n",
              "      height: 32px;\n",
              "      padding: 0 0 0 0;\n",
              "      width: 32px;\n",
              "    }\n",
              "\n",
              "    .colab-df-convert:hover {\n",
              "      background-color: #E2EBFA;\n",
              "      box-shadow: 0px 1px 2px rgba(60, 64, 67, 0.3), 0px 1px 3px 1px rgba(60, 64, 67, 0.15);\n",
              "      fill: #174EA6;\n",
              "    }\n",
              "\n",
              "    .colab-df-buttons div {\n",
              "      margin-bottom: 4px;\n",
              "    }\n",
              "\n",
              "    [theme=dark] .colab-df-convert {\n",
              "      background-color: #3B4455;\n",
              "      fill: #D2E3FC;\n",
              "    }\n",
              "\n",
              "    [theme=dark] .colab-df-convert:hover {\n",
              "      background-color: #434B5C;\n",
              "      box-shadow: 0px 1px 3px 1px rgba(0, 0, 0, 0.15);\n",
              "      filter: drop-shadow(0px 1px 2px rgba(0, 0, 0, 0.3));\n",
              "      fill: #FFFFFF;\n",
              "    }\n",
              "  </style>\n",
              "\n",
              "    <script>\n",
              "      const buttonEl =\n",
              "        document.querySelector('#df-2caa3d31-8621-4048-a564-79d5505f280d button.colab-df-convert');\n",
              "      buttonEl.style.display =\n",
              "        google.colab.kernel.accessAllowed ? 'block' : 'none';\n",
              "\n",
              "      async function convertToInteractive(key) {\n",
              "        const element = document.querySelector('#df-2caa3d31-8621-4048-a564-79d5505f280d');\n",
              "        const dataTable =\n",
              "          await google.colab.kernel.invokeFunction('convertToInteractive',\n",
              "                                                    [key], {});\n",
              "        if (!dataTable) return;\n",
              "\n",
              "        const docLinkHtml = 'Like what you see? Visit the ' +\n",
              "          '<a target=\"_blank\" href=https://colab.research.google.com/notebooks/data_table.ipynb>data table notebook</a>'\n",
              "          + ' to learn more about interactive tables.';\n",
              "        element.innerHTML = '';\n",
              "        dataTable['output_type'] = 'display_data';\n",
              "        await google.colab.output.renderOutput(dataTable, element);\n",
              "        const docLink = document.createElement('div');\n",
              "        docLink.innerHTML = docLinkHtml;\n",
              "        element.appendChild(docLink);\n",
              "      }\n",
              "    </script>\n",
              "  </div>\n",
              "\n",
              "\n",
              "<div id=\"df-a98bd108-1b98-4bc9-b719-cc2b73291613\">\n",
              "  <button class=\"colab-df-quickchart\" onclick=\"quickchart('df-a98bd108-1b98-4bc9-b719-cc2b73291613')\"\n",
              "            title=\"Suggest charts\"\n",
              "            style=\"display:none;\">\n",
              "\n",
              "<svg xmlns=\"http://www.w3.org/2000/svg\" height=\"24px\"viewBox=\"0 0 24 24\"\n",
              "     width=\"24px\">\n",
              "    <g>\n",
              "        <path d=\"M19 3H5c-1.1 0-2 .9-2 2v14c0 1.1.9 2 2 2h14c1.1 0 2-.9 2-2V5c0-1.1-.9-2-2-2zM9 17H7v-7h2v7zm4 0h-2V7h2v10zm4 0h-2v-4h2v4z\"/>\n",
              "    </g>\n",
              "</svg>\n",
              "  </button>\n",
              "\n",
              "<style>\n",
              "  .colab-df-quickchart {\n",
              "      --bg-color: #E8F0FE;\n",
              "      --fill-color: #1967D2;\n",
              "      --hover-bg-color: #E2EBFA;\n",
              "      --hover-fill-color: #174EA6;\n",
              "      --disabled-fill-color: #AAA;\n",
              "      --disabled-bg-color: #DDD;\n",
              "  }\n",
              "\n",
              "  [theme=dark] .colab-df-quickchart {\n",
              "      --bg-color: #3B4455;\n",
              "      --fill-color: #D2E3FC;\n",
              "      --hover-bg-color: #434B5C;\n",
              "      --hover-fill-color: #FFFFFF;\n",
              "      --disabled-bg-color: #3B4455;\n",
              "      --disabled-fill-color: #666;\n",
              "  }\n",
              "\n",
              "  .colab-df-quickchart {\n",
              "    background-color: var(--bg-color);\n",
              "    border: none;\n",
              "    border-radius: 50%;\n",
              "    cursor: pointer;\n",
              "    display: none;\n",
              "    fill: var(--fill-color);\n",
              "    height: 32px;\n",
              "    padding: 0;\n",
              "    width: 32px;\n",
              "  }\n",
              "\n",
              "  .colab-df-quickchart:hover {\n",
              "    background-color: var(--hover-bg-color);\n",
              "    box-shadow: 0 1px 2px rgba(60, 64, 67, 0.3), 0 1px 3px 1px rgba(60, 64, 67, 0.15);\n",
              "    fill: var(--button-hover-fill-color);\n",
              "  }\n",
              "\n",
              "  .colab-df-quickchart-complete:disabled,\n",
              "  .colab-df-quickchart-complete:disabled:hover {\n",
              "    background-color: var(--disabled-bg-color);\n",
              "    fill: var(--disabled-fill-color);\n",
              "    box-shadow: none;\n",
              "  }\n",
              "\n",
              "  .colab-df-spinner {\n",
              "    border: 2px solid var(--fill-color);\n",
              "    border-color: transparent;\n",
              "    border-bottom-color: var(--fill-color);\n",
              "    animation:\n",
              "      spin 1s steps(1) infinite;\n",
              "  }\n",
              "\n",
              "  @keyframes spin {\n",
              "    0% {\n",
              "      border-color: transparent;\n",
              "      border-bottom-color: var(--fill-color);\n",
              "      border-left-color: var(--fill-color);\n",
              "    }\n",
              "    20% {\n",
              "      border-color: transparent;\n",
              "      border-left-color: var(--fill-color);\n",
              "      border-top-color: var(--fill-color);\n",
              "    }\n",
              "    30% {\n",
              "      border-color: transparent;\n",
              "      border-left-color: var(--fill-color);\n",
              "      border-top-color: var(--fill-color);\n",
              "      border-right-color: var(--fill-color);\n",
              "    }\n",
              "    40% {\n",
              "      border-color: transparent;\n",
              "      border-right-color: var(--fill-color);\n",
              "      border-top-color: var(--fill-color);\n",
              "    }\n",
              "    60% {\n",
              "      border-color: transparent;\n",
              "      border-right-color: var(--fill-color);\n",
              "    }\n",
              "    80% {\n",
              "      border-color: transparent;\n",
              "      border-right-color: var(--fill-color);\n",
              "      border-bottom-color: var(--fill-color);\n",
              "    }\n",
              "    90% {\n",
              "      border-color: transparent;\n",
              "      border-bottom-color: var(--fill-color);\n",
              "    }\n",
              "  }\n",
              "</style>\n",
              "\n",
              "  <script>\n",
              "    async function quickchart(key) {\n",
              "      const quickchartButtonEl =\n",
              "        document.querySelector('#' + key + ' button');\n",
              "      quickchartButtonEl.disabled = true;  // To prevent multiple clicks.\n",
              "      quickchartButtonEl.classList.add('colab-df-spinner');\n",
              "      try {\n",
              "        const charts = await google.colab.kernel.invokeFunction(\n",
              "            'suggestCharts', [key], {});\n",
              "      } catch (error) {\n",
              "        console.error('Error during call to suggestCharts:', error);\n",
              "      }\n",
              "      quickchartButtonEl.classList.remove('colab-df-spinner');\n",
              "      quickchartButtonEl.classList.add('colab-df-quickchart-complete');\n",
              "    }\n",
              "    (() => {\n",
              "      let quickchartButtonEl =\n",
              "        document.querySelector('#df-a98bd108-1b98-4bc9-b719-cc2b73291613 button');\n",
              "      quickchartButtonEl.style.display =\n",
              "        google.colab.kernel.accessAllowed ? 'block' : 'none';\n",
              "    })();\n",
              "  </script>\n",
              "</div>\n",
              "    </div>\n",
              "  </div>\n"
            ],
            "application/vnd.google.colaboratory.intrinsic+json": {
              "type": "dataframe",
              "summary": "{\n  \"name\": \"results_df\",\n  \"rows\": 3,\n  \"fields\": [\n    {\n      \"column\": \"distance_type\",\n      \"properties\": {\n        \"dtype\": \"string\",\n        \"num_unique_values\": 3,\n        \"samples\": [\n          \"chebyshev\",\n          \"euclidean\",\n          \"manhattan\"\n        ],\n        \"semantic_type\": \"\",\n        \"description\": \"\"\n      }\n    },\n    {\n      \"column\": \"k=1\",\n      \"properties\": {\n        \"dtype\": \"category\",\n        \"num_unique_values\": 1,\n        \"samples\": [\n          \"100%\"\n        ],\n        \"semantic_type\": \"\",\n        \"description\": \"\"\n      }\n    },\n    {\n      \"column\": \"k=3\",\n      \"properties\": {\n        \"dtype\": \"string\",\n        \"num_unique_values\": 3,\n        \"samples\": [\n          \"84%\"\n        ],\n        \"semantic_type\": \"\",\n        \"description\": \"\"\n      }\n    },\n    {\n      \"column\": \"k=5\",\n      \"properties\": {\n        \"dtype\": \"string\",\n        \"num_unique_values\": 3,\n        \"samples\": [\n          \"78%\"\n        ],\n        \"semantic_type\": \"\",\n        \"description\": \"\"\n      }\n    },\n    {\n      \"column\": \"k=7\",\n      \"properties\": {\n        \"dtype\": \"string\",\n        \"num_unique_values\": 3,\n        \"samples\": [\n          \"76%\"\n        ],\n        \"semantic_type\": \"\",\n        \"description\": \"\"\n      }\n    }\n  ]\n}"
            }
          },
          "metadata": {},
          "execution_count": 34
        }
      ],
      "source": [
        "import pandas as pd\n",
        "\n",
        "results = []\n",
        "\n",
        "for distance_type in [\"euclidean\", \"manhattan\", \"chebyshev\"]:\n",
        "    for k in [1, 3, 5, 7]:\n",
        "        knn = KNeighborsClassifier(n_neighbors=k, metric=distance_type)\n",
        "        knn.fit(x, y)\n",
        "        y_pred = knn.predict(x)\n",
        "        accuracy = str(round(accuracy_score(y, y_pred) * 100)) + \"%\"\n",
        "\n",
        "        results.append(\n",
        "            {\n",
        "                \"n_neighbors\": \"k=\" + str(k),\n",
        "                \"distance_type\": distance_type,\n",
        "                \"accuracy\": accuracy,\n",
        "            }\n",
        "        )\n",
        "\n",
        "\n",
        "results_df = pd.DataFrame(results)\n",
        "results_df.pivot(index=\"distance_type\", columns=\"n_neighbors\", values=\"accuracy\")"
      ]
    },
    {
      "cell_type": "markdown",
      "metadata": {
        "id": "z1_BQ_WTkDMc"
      },
      "source": [
        "Как видим, при разных параметрах качество изменяется. **Как тогда подбирать парамеры?**\n"
      ]
    },
    {
      "cell_type": "markdown",
      "metadata": {
        "id": "n8jfujJDkDMc"
      },
      "source": [
        "# Разделение train-validation-test"
      ]
    },
    {
      "cell_type": "markdown",
      "metadata": {
        "id": "Vzbiq1MokDMc"
      },
      "source": [
        "Самым простым способом научиться чему-либо является \"запомнить всё\".\n",
        "\n",
        "Вспомним таблицу умножения. Если мы хотим проверить умение умножать, то проверки примерами из таблицы умножения будет недостаточно, ведь она может быть полностью запомнена. Нужно давать новые примеры, которых не было в таблице умножения (обучающей выборке)."
      ]
    },
    {
      "cell_type": "markdown",
      "metadata": {
        "id": "HZ02_1QOkDMc"
      },
      "source": [
        "Если модель \"запомнит всё\", то она будет идеально работать на данных, которые мы ей показали, но может вообще не работать на любых других данных.\n",
        "\n",
        "С практической точки зрения важно, как модель будет вести себя именно на незнакомых ей данных, то есть насколько хорошо она научилась обобщать закономерности, которые в данных присутствовали (если они вообще существуют)."
      ]
    },
    {
      "cell_type": "markdown",
      "metadata": {
        "id": "S5XS89P-kDMc"
      },
      "source": [
        "Для оценки этой способности набор данных разделяют на три части:\n",
        "\n",
        "* **Обучающая выборка** (Training set) — выборка данных, которая используется для обучения алгоритма.\n",
        "* **Валидационная выборка** (Validation set) — выборка данных, которая используется для подбора параметров, выбора признаков и принятия других решений, касающихся обучения алгоритма.\n",
        "* **Тестовая выборка** (Test set) — выборка, которая используется для оценки качества работы алгоритма, при этом никак не используется для обучения алгоритма или подбора используемых при этом обучении параметров."
      ]
    },
    {
      "cell_type": "markdown",
      "metadata": {
        "id": "a_iBB3mHkDMc"
      },
      "source": [
        "<center><img src =\"https://ml.gan4x4.ru/msu/dev-2.2//L01/out/split_dataset_for_train_val_test.png\" width=\"700\"></center>"
      ]
    },
    {
      "cell_type": "markdown",
      "metadata": {
        "id": "DahbrU4tkDMc"
      },
      "source": [
        "В `sklearn.model_selection` есть функция для разделения массива данных на тренировочную и тестовую часть."
      ]
    },
    {
      "cell_type": "code",
      "execution_count": null,
      "metadata": {
        "colab": {
          "base_uri": "https://localhost:8080/"
        },
        "id": "A-ohRVyEkDMc",
        "outputId": "9eb04417-f18d-4b5f-b6f7-0f1987905a09"
      },
      "outputs": [
        {
          "output_type": "stream",
          "name": "stdout",
          "text": [
            "Train: (142, 13) (142,)\n",
            "Val: (18, 13) (18,)\n",
            "Test: (18, 13) (18,)\n",
            "Total: (178, 13) (178,)\n"
          ]
        }
      ],
      "source": [
        "from sklearn.model_selection import train_test_split\n",
        "import numpy as np\n",
        "\n",
        "# Split data to train/val/test\n",
        "x_train, x_tmp, y_train, y_tmp = train_test_split(x, y, test_size=0.2, random_state=42)\n",
        "x_val, x_test, y_val, y_test = train_test_split(x_tmp, y_tmp, test_size=0.5, random_state=42)\n",
        "\n",
        "print(\"Train:\", np.array(x_train).shape, np.array(y_train).shape)\n",
        "print(\"Val:\", np.array(x_val).shape, np.array(y_val).shape)\n",
        "print(\"Test:\", np.array(x_test).shape, np.array(y_test).shape)\n",
        "print(\"Total:\", np.array(x).shape, np.array(y).shape)"
      ]
    },
    {
      "cell_type": "code",
      "execution_count": null,
      "metadata": {
        "colab": {
          "base_uri": "https://localhost:8080/"
        },
        "id": "cXq0CxVkkDMc",
        "outputId": "185771d5-1819-4da0-a0d5-8fcfd33844fa"
      },
      "outputs": [
        {
          "output_type": "stream",
          "name": "stdout",
          "text": [
            "Accuracy train: 100.00%\n",
            "Accuracy val : 66.67%\n",
            "Accuracy test : 77.78%\n"
          ]
        }
      ],
      "source": [
        "knn = KNeighborsClassifier(n_neighbors=1, metric=\"chebyshev\")\n",
        "knn.fit(x_train, y_train)\n",
        "\n",
        "accuracy_train = accuracy_score(y_pred=knn.predict(x_train), y_true=y_train)\n",
        "accuracy_val = accuracy_score(y_pred=knn.predict(x_val), y_true=y_val)\n",
        "accuracy_test = accuracy_score(y_pred=knn.predict(x_test), y_true=y_test)\n",
        "\n",
        "print(\"Accuracy train:\", f\"{accuracy_train*100:.02f}%\")\n",
        "print(\"Accuracy val :\", f\"{accuracy_val*100:.02f}%\")\n",
        "print(\"Accuracy test :\", f\"{accuracy_test*100:.02f}%\")"
      ]
    },
    {
      "cell_type": "markdown",
      "metadata": {
        "id": "LVdQamPxkDMe"
      },
      "source": [
        "Вполне ожидаемо, оценка по одному соседу оказалась ошибочной. Такие случаи мы называем *переобучением*. Если теперь мы попробуем взять какой-то новый объект и классифицировать его, у нас, скорее всего, ничего не получится. В таких случаях мы говорим, что наша модель не умеет обобщать (*generalization*).\n",
        "\n",
        "Отметим, что качество на тесте получилось заметно выше, чем на валидации. Так произошло потому, что выборки оказались нерепрезентативными, ведь мы делили данные \"вслепую\", случайным образом. Для того, чтобы выборки были репрезентативными, применяется стратификация."
      ]
    },
    {
      "cell_type": "markdown",
      "metadata": {
        "id": "Ge3C_JIwkDMe"
      },
      "source": [
        "## Стратификация"
      ]
    },
    {
      "cell_type": "markdown",
      "metadata": {
        "id": "RV2VPUhdkDMe"
      },
      "source": [
        "Метки классов в датасете могут быть распределены неравномерно. Для того, чтобы сохранить соотношение классов при разделении на train и val, необходимо указать параметр `stratify` при разбиении.\n",
        "\n",
        "Еще одним параметром, используемым при разбиении, является `shuffle` (значение по умолчанию `True`). При `shuffle = True` датасет перед разбиением перемешивается."
      ]
    },
    {
      "cell_type": "markdown",
      "metadata": {
        "id": "EA_Et_H4kDMe"
      },
      "source": [
        "<center><img src =\"https://ml.gan4x4.ru/msu/dev-2.2//L01/out/stratified_sampling.png\" width=\"700\"></center>\n",
        "\n",
        "<center><em>Source: <a href=\"https://www.reneshbedre.com/blog/stratified-sampling.html\">What is Stratified sampling and why should you use it</a></em></center>"
      ]
    },
    {
      "cell_type": "markdown",
      "metadata": {
        "id": "DAWW7l5vkDMe"
      },
      "source": [
        "Для того, чтобы убедиться в необходимости стратификации, посмотрим на разбиение датасета [Iris 🛠️[doc]](https://scikit-learn.org/stable/modules/generated/sklearn.datasets.load_iris.html). Здесь нам важно, что датасет сбалансирован, а метки отсортированы в порядке возрастания.\n",
        "\n",
        "Будем делить датасет пополам."
      ]
    },
    {
      "cell_type": "code",
      "execution_count": null,
      "metadata": {
        "id": "Jv26FjWfkDMe"
      },
      "outputs": [],
      "source": [
        "def count_labels(labels):\n",
        "    label_count = {}\n",
        "    for item in labels:\n",
        "        if item not in label_count:\n",
        "            label_count[item] = 0\n",
        "        label_count[item] += 1\n",
        "    return label_count\n",
        "\n",
        "\n",
        "def print_split_stat(x_train, x_val, y_train, y_val):\n",
        "    print(\"Train statistics: \", count_labels(y_train))\n",
        "    print(\"Val statistics:  \", count_labels(y_val))"
      ]
    },
    {
      "cell_type": "markdown",
      "metadata": {
        "id": "6DDjEvgtkDMe"
      },
      "source": [
        "Посмотрим, как выглядит исходный датасет. Отметим, что **объекты отсортированы**. Ситуация вовсе не исключительная."
      ]
    },
    {
      "cell_type": "code",
      "execution_count": null,
      "metadata": {
        "colab": {
          "base_uri": "https://localhost:8080/"
        },
        "id": "lV1N3vkBkDMe",
        "outputId": "f85676c3-ebcf-4191-c952-69fcf4bccb88"
      },
      "outputs": [
        {
          "output_type": "stream",
          "name": "stdout",
          "text": [
            "DataSet labels:\n",
            " [0 0 0 0 0 0 0 0 0 0 0 0 0 0 0 0 0 0 0 0 0 0 0 0 0 0 0 0 0 0 0 0 0 0 0 0 0\n",
            " 0 0 0 0 0 0 0 0 0 0 0 0 0 1 1 1 1 1 1 1 1 1 1 1 1 1 1 1 1 1 1 1 1 1 1 1 1\n",
            " 1 1 1 1 1 1 1 1 1 1 1 1 1 1 1 1 1 1 1 1 1 1 1 1 1 1 2 2 2 2 2 2 2 2 2 2 2\n",
            " 2 2 2 2 2 2 2 2 2 2 2 2 2 2 2 2 2 2 2 2 2 2 2 2 2 2 2 2 2 2 2 2 2 2 2 2 2\n",
            " 2 2]\n",
            "DataSet statistics:  {0: 50, 1: 50, 2: 50}\n"
          ]
        }
      ],
      "source": [
        "from sklearn.datasets import load_iris\n",
        "\n",
        "data, labels = load_iris(return_X_y=True)\n",
        "print(\"DataSet labels:\\n\", labels)\n",
        "print(\"DataSet statistics: \", count_labels(labels))"
      ]
    },
    {
      "cell_type": "markdown",
      "metadata": {
        "id": "G0bmqVNRkDMe"
      },
      "source": [
        "Если мы **выключим перемешивание** (`shuffle=False`), то в обучение **не попадёт ни один объект класса 2**."
      ]
    },
    {
      "cell_type": "code",
      "execution_count": null,
      "metadata": {
        "colab": {
          "base_uri": "https://localhost:8080/"
        },
        "id": "iENPKsszkDMe",
        "outputId": "36283d1d-52d5-4dc8-d875-3f37336bbccc"
      },
      "outputs": [
        {
          "output_type": "stream",
          "name": "stdout",
          "text": [
            "Train statistics:  {0: 50, 1: 25}\n",
            "Val statistics:   {1: 25, 2: 50}\n"
          ]
        }
      ],
      "source": [
        "x_train, x_val, y_train, y_val = train_test_split(\n",
        "    data, labels, train_size=0.5, shuffle=False, random_state=42\n",
        ")\n",
        "\n",
        "print_split_stat(x_train, x_val, y_train, y_val)"
      ]
    },
    {
      "cell_type": "markdown",
      "metadata": {
        "id": "EzTaz8wXkDMe"
      },
      "source": [
        "По умолчанию `shuffle=True`, однако этого **не достаточно**. **Доли** объектов **не равны** в подвыборках."
      ]
    },
    {
      "cell_type": "code",
      "execution_count": null,
      "metadata": {
        "colab": {
          "base_uri": "https://localhost:8080/"
        },
        "id": "MOKAYCHxkDMf",
        "outputId": "6e197b15-3558-4ee8-d63a-6e7e88c1cb59"
      },
      "outputs": [
        {
          "output_type": "stream",
          "name": "stdout",
          "text": [
            "Train statistics:  {1: 27, 2: 27, 0: 21}\n",
            "Val statistics:   {1: 23, 0: 29, 2: 23}\n"
          ]
        }
      ],
      "source": [
        "x_train, x_val, y_train, y_val = train_test_split(\n",
        "    data, labels, train_size=0.5, random_state=42\n",
        ")\n",
        "\n",
        "print_split_stat(x_train, x_val, y_train, y_val)"
      ]
    },
    {
      "cell_type": "markdown",
      "metadata": {
        "id": "UEf8SfNokDMf"
      },
      "source": [
        "**Только при использовании стратификации мы добиваемся желаемого результата.**"
      ]
    },
    {
      "cell_type": "code",
      "execution_count": null,
      "metadata": {
        "colab": {
          "base_uri": "https://localhost:8080/"
        },
        "id": "bCj7M5TmkDMf",
        "outputId": "c239e9bc-9ad8-4cda-e541-814ceaf861dc"
      },
      "outputs": [
        {
          "output_type": "stream",
          "name": "stdout",
          "text": [
            "Train statistics:  {0: 25, 1: 25, 2: 25}\n",
            "Val statistics:   {0: 25, 2: 25, 1: 25}\n"
          ]
        }
      ],
      "source": [
        "x_train, x_val, y_train, y_val = train_test_split(\n",
        "    data, labels, train_size=0.5, random_state=42, stratify=labels\n",
        ")\n",
        "\n",
        "print_split_stat(x_train, x_val, y_train, y_val)"
      ]
    },
    {
      "cell_type": "markdown",
      "metadata": {
        "id": "7EVgHIs7kDMf"
      },
      "source": [
        "**В случае временных рядов**, текстов и прочих данных, имеющих связь во времени, **данные нельзя перемешивать**. В таких задачах train должен предшествовать val и test по времени. Более подробно об этом будет рассказано в лекции про рекуррентные нейронные сети.\n"
      ]
    },
    {
      "cell_type": "markdown",
      "metadata": {
        "id": "OwQwAjU_kDMf"
      },
      "source": [
        "# Кросс-валидация"
      ]
    },
    {
      "cell_type": "markdown",
      "metadata": {
        "id": "A3J70-LnkDMf"
      },
      "source": [
        "##Алгоритм кросс-валидации"
      ]
    },
    {
      "cell_type": "markdown",
      "metadata": {
        "id": "AdXYk_2dkDMf"
      },
      "source": [
        "\n",
        "\n",
        "Результат работы модели будет зависеть от разбиения. Поэкспериментируем с k-NN и датасетом [Iris 🛠️[doc]](https://scikit-learn.org/stable/modules/generated/sklearn.datasets.load_iris.html) и посмотрим, как результат работы модели зависит от `random_state` для `train_test_split`."
      ]
    },
    {
      "cell_type": "code",
      "execution_count": null,
      "metadata": {
        "id": "NrGpFaxTkDMf"
      },
      "outputs": [],
      "source": [
        "import numpy as np\n",
        "import sklearn.datasets\n",
        "import matplotlib.pyplot as plt\n",
        "from sklearn.metrics import accuracy_score\n",
        "from sklearn.neighbors import KNeighborsClassifier\n",
        "from sklearn.model_selection import train_test_split\n",
        "\n",
        "\n",
        "dataset = sklearn.datasets.load_iris()  # load data\n",
        "x = dataset.data  # features\n",
        "y = dataset.target  # labels(classes)\n",
        "\n",
        "np.random.seed(42)\n",
        "\n",
        "\n",
        "def split_and_train(x, y, random_state):\n",
        "    x_train, x_val, y_train, y_val = train_test_split(\n",
        "        x, y, train_size=0.8, stratify=y, random_state=random_state\n",
        "    )\n",
        "\n",
        "    max_neighbors = 30\n",
        "    num_neighbors = np.arange(1, max_neighbors + 1)  # array of the number of neighbors\n",
        "\n",
        "    train_accuracy = np.zeros(max_neighbors)\n",
        "    val_accuracy = np.zeros(max_neighbors)\n",
        "\n",
        "    for k in num_neighbors:\n",
        "        knn = KNeighborsClassifier(n_neighbors=k)\n",
        "        knn.fit(x_train, y_train)\n",
        "\n",
        "        train_accuracy[k - 1] = accuracy_score(\n",
        "            y_pred=knn.predict(x_train), y_true=y_train\n",
        "        )\n",
        "        val_accuracy[k - 1] = accuracy_score(y_pred=knn.predict(x_val), y_true=y_val)\n",
        "\n",
        "    # Accuracy plot on train and test data\n",
        "    plt.figure(figsize=(10, 4))\n",
        "    plt.title(f\"k-NN on train vs val, seed = {random_state}\", size=20)\n",
        "    plt.plot(num_neighbors, train_accuracy, label=\"train\")\n",
        "    plt.plot(num_neighbors, val_accuracy, label=\"val\")\n",
        "    plt.legend()\n",
        "    plt.xticks(num_neighbors, size=12)\n",
        "    plt.xlabel(\"Neighbors\", size=14)\n",
        "    plt.ylabel(\"Accuracy\", size=14)\n",
        "    plt.show()"
      ]
    },
    {
      "cell_type": "code",
      "execution_count": null,
      "metadata": {
        "colab": {
          "base_uri": "https://localhost:8080/",
          "height": 427
        },
        "id": "uUUf4PPrkDMf",
        "outputId": "ecd8331d-ef74-4a61-a071-00fd2122398e"
      },
      "outputs": [
        {
          "output_type": "display_data",
          "data": {
            "text/plain": [
              "<Figure size 1000x400 with 1 Axes>"
            ],
            "image/png": "[encoded data removed]"
          },
          "metadata": {}
        }
      ],
      "source": [
        "split_and_train(x, y, random_state=42)"
      ]
    },
    {
      "cell_type": "code",
      "execution_count": null,
      "metadata": {
        "colab": {
          "base_uri": "https://localhost:8080/",
          "height": 427
        },
        "id": "QIe2si1qkDMf",
        "outputId": "35fcd630-cebc-4312-ac10-abb89f0365db"
      },
      "outputs": [
        {
          "output_type": "display_data",
          "data": {
            "text/plain": [
              "<Figure size 1000x400 with 1 Axes>"
            ],
            "image/png": "[encoded data removed]"
          },
          "metadata": {}
        }
      ],
      "source": [
        "split_and_train(x, y, random_state=4)"
      ]
    },
    {
      "cell_type": "markdown",
      "metadata": {
        "id": "DYzT2rU0kDMf"
      },
      "source": [
        "Результат зависит от того, как нам повезло или не повезло с разбиением данных на обучение и тест. Для одного разбиения хорошо выбрать $k=3$, а для другого — $k=13$. Кроме того, фактически мы сами выступаем в роли модели, которая учит гиперпараметры (а не параметры) под видимую ей выборку.\n",
        "\n"
      ]
    },
    {
      "cell_type": "markdown",
      "metadata": {
        "id": "V6JgOL93kDMf"
      },
      "source": [
        "\n",
        "Получается, что если подбирать гиперпараметры модели на *train set*, то:\n",
        "1. Можно переобучитьcя, просто на более \"высоком\" уровне. Особенно если гиперпараметров у модели много и все они разнообразны.\n",
        "2. Нельзя быть уверенным, что выбор параметров не зависит от разбиения на обучение и валидацию."
      ]
    },
    {
      "cell_type": "markdown",
      "metadata": {
        "id": "ibPleW7lkDMf"
      },
      "source": [
        "Для решения этой проблемы можно произвести **несколько разбиений** датасета на **обучающий и валидационный** по какой-то схеме, чтобы получить уверенность оценок качества для моделей с разными гиперпараметрами."
      ]
    },
    {
      "cell_type": "markdown",
      "metadata": {
        "id": "hHlDIz7ckDMf"
      },
      "source": [
        "<center><img src =\"https://ml.gan4x4.ru/msu/dev-2.2//L01/out/cross_validation_on_train_data.png\" width=\"600\"></center>"
      ]
    },
    {
      "cell_type": "markdown",
      "metadata": {
        "id": "UssAb7TOkDMf"
      },
      "source": [
        "Такой подход называется [K-Fold кросс-валидацией 🛠️[doc]](https://scikit-learn.org/stable/modules/cross_validation.html).\n",
        "\n",
        "Берется тренировочная часть датасета и разбивается на части — блоки. Дальше мы будем использовать для проверки первую часть (Fold 1), а на остальных частях будем обучать модель. И так последовательно для всех частей. В результате у нас будет информация о точности для разных фрагментов данных, и уже на основании этого мы сможем понять, насколько значение параметра, который мы проверяем, зависит или не зависит от данных. То есть, если у нас от разбиения точность при одном и том же $k$ меняться не будет, значит, мы подобрали правильный $k$. Если она будет сильно меняться в зависимости от того, на каком куске данных мы проводим тестирование, значит, надо попробовать другой $k$, и если ни при каком не получилось, то проблема заключается в данных."
      ]
    },
    {
      "cell_type": "markdown",
      "metadata": {
        "id": "j1HyEdAikDMf"
      },
      "source": [
        "Посмотрим, как работает K-Fold. Обратите внимание, что по умолчанию `shuffle = False`. Для упорядоченных данных это проблема."
      ]
    },
    {
      "cell_type": "code",
      "execution_count": null,
      "metadata": {
        "colab": {
          "base_uri": "https://localhost:8080/"
        },
        "id": "Jl5bEVwRkDMf",
        "outputId": "24b5fd9e-11e2-4fb1-a463-ce84f86cb09e"
      },
      "outputs": [
        {
          "output_type": "stream",
          "name": "stdout",
          "text": [
            "index without shuffle\n",
            "TRAIN: [3 4 5 6 7 8] TEST: [0 1 2]\n",
            "TRAIN: [0 1 2 6 7 8] TEST: [3 4 5]\n",
            "TRAIN: [0 1 2 3 4 5] TEST: [6 7 8]\n",
            "index with shuffle\n",
            "TRAIN: [0 2 3 4 6 8] TEST: [1 5 7]\n",
            "TRAIN: [1 3 4 5 6 7] TEST: [0 2 8]\n",
            "TRAIN: [0 1 2 5 7 8] TEST: [3 4 6]\n"
          ]
        }
      ],
      "source": [
        "from sklearn.model_selection import KFold\n",
        "\n",
        "x = np.array([1, 2, 3, 4, 5, 6, 7, 8, 9])\n",
        "y = np.array([1, 2, 3, 4, 5, 6, 7, 8, 9])\n",
        "\n",
        "print(\"index without shuffle\")\n",
        "kf = KFold(n_splits=3)\n",
        "for train_index, test_index in kf.split(x):\n",
        "    print(\"TRAIN:\", train_index, \"TEST:\", test_index)\n",
        "\n",
        "print(\"index with shuffle\")\n",
        "kf = KFold(n_splits=3, random_state=42, shuffle=True)\n",
        "for train_index, test_index in kf.split(x):\n",
        "    print(\"TRAIN:\", train_index, \"TEST:\", test_index)"
      ]
    },
    {
      "cell_type": "markdown",
      "metadata": {
        "id": "gdDE4O7MkDMg"
      },
      "source": [
        "Для получения стратифицированного разбиения (когда соотношение классов в частях разбиения сохраняется) нужно использовать `StratifiedKFold` [🛠️[doc]](https://scikit-learn.org/stable/modules/generated/sklearn.model_selection.StratifiedKFold.html#sklearn.model_selection.StratifiedKFold)."
      ]
    },
    {
      "cell_type": "markdown",
      "metadata": {
        "id": "7lvPQ-cbkDMg"
      },
      "source": [
        "**Временные ряды**"
      ]
    },
    {
      "cell_type": "markdown",
      "metadata": {
        "id": "zzbXIi7ikDMg"
      },
      "source": [
        "<center><img src =\"https://ml.gan4x4.ru/msu/dev-2.1/L01/timeseries.png\" width=\"850\"></center>\n",
        "<center><em>Типичный пример временного ряда</em></center>\n",
        "\n",
        "<center><em>Source: <a href=\"https://habr.com/ru/company/ods/blog/327242/\">Анализ временных рядов с помощью Python</a></em></center>"
      ]
    },
    {
      "cell_type": "markdown",
      "metadata": {
        "id": "6Msy1PZQkDMg"
      },
      "source": [
        "Отдельно нужно упомянуть о **временных рядах**. Особенностью таких данных является связность, наличие \"настоящего\", \"прошедшего\" и \"будущего\"."
      ]
    },
    {
      "cell_type": "markdown",
      "metadata": {
        "id": "ebiIMemmkDMg"
      },
      "source": [
        "<center><img src =\"https://ml.gan4x4.ru/msu/dev-2.2//L01/out/ts_split.png\" width=\"700\"/></center>\n",
        "<center><em>Разбиение данных временных рядов на подвыборки</em></center>"
      ]
    },
    {
      "cell_type": "markdown",
      "metadata": {
        "id": "eXacQWKMkDMg"
      },
      "source": [
        "##Оценка результата кросс-валидации"
      ]
    },
    {
      "cell_type": "markdown",
      "metadata": {
        "id": "LgUZydJokDMg"
      },
      "source": [
        " Посмотрим на результат кросс-валидации для k-NN."
      ]
    },
    {
      "cell_type": "code",
      "execution_count": null,
      "metadata": {
        "id": "BYkegnn9kDMg"
      },
      "outputs": [],
      "source": [
        "from sklearn.model_selection import cross_val_score, StratifiedKFold\n",
        "\n",
        "np.random.seed(42)\n",
        "\n",
        "dataset = sklearn.datasets.load_iris()  # load data\n",
        "x = dataset.data  # features\n",
        "y = dataset.target  # labels(classes)\n",
        "\n",
        "x_train, x_test, y_train, y_test = train_test_split(\n",
        "    x, y, train_size=0.8, stratify=y, random_state=42\n",
        ")\n",
        "\n",
        "cv = StratifiedKFold(n_splits=5)\n",
        "\n",
        "knn = KNeighborsClassifier(n_neighbors=3)\n",
        "accuracy3 = cross_val_score(knn, x_train, y_train, cv=cv, scoring=\"accuracy\")\n",
        "\n",
        "knn = KNeighborsClassifier(n_neighbors=5)\n",
        "accuracy5 = cross_val_score(knn, x_train, y_train, cv=cv, scoring=\"accuracy\")"
      ]
    },
    {
      "cell_type": "code",
      "execution_count": null,
      "metadata": {
        "id": "yyS5YG7DkDMg"
      },
      "outputs": [],
      "source": [
        "knn_cv = np.vstack(\n",
        "    (\n",
        "        np.hstack((accuracy3, accuracy3.mean(), accuracy3.std())),\n",
        "        np.hstack((accuracy5, accuracy5.mean(), accuracy5.std())),\n",
        "    )\n",
        ")"
      ]
    },
    {
      "cell_type": "code",
      "execution_count": null,
      "metadata": {
        "id": "Q-OeO_-UkDMg"
      },
      "outputs": [],
      "source": [
        "import pandas as pd\n",
        "\n",
        "table = pd.DataFrame(\n",
        "    knn_cv, columns=[\"Fold1\", \"Fold2\", \"Fold3\", \"Fold4\", \"Fold5\", \"Mean\", \"Std\"]\n",
        ")\n",
        "table.insert(loc=0, column=\"k\", value=[3, 5])\n",
        "table = table.set_axis([\"Accuracy\"] * 2)"
      ]
    },
    {
      "cell_type": "code",
      "execution_count": null,
      "metadata": {
        "colab": {
          "base_uri": "https://localhost:8080/",
          "height": 112
        },
        "id": "Ak7sTaW9kDMg",
        "outputId": "6289515d-4665-4e1c-9ae6-8520ad326f76"
      },
      "outputs": [
        {
          "output_type": "execute_result",
          "data": {
            "text/plain": [
              "          k     Fold1     Fold2     Fold3     Fold4  Fold5      Mean       Std\n",
              "Accuracy  3  0.916667  0.958333  0.958333  0.958333    1.0  0.958333  0.026352\n",
              "Accuracy  5  0.916667  1.000000  0.958333  1.000000    1.0  0.975000  0.033333"
            ],
            "text/html": [
              "\n",
              "  <div id=\"df-75be4e9f-0724-4186-a4b8-edba9e290360\" class=\"colab-df-container\">\n",
              "    <div>\n",
              "<style scoped>\n",
              "    .dataframe tbody tr th:only-of-type {\n",
              "        vertical-align: middle;\n",
              "    }\n",
              "\n",
              "    .dataframe tbody tr th {\n",
              "        vertical-align: top;\n",
              "    }\n",
              "\n",
              "    .dataframe thead th {\n",
              "        text-align: right;\n",
              "    }\n",
              "</style>\n",
              "<table border=\"1\" class=\"dataframe\">\n",
              "  <thead>\n",
              "    <tr style=\"text-align: right;\">\n",
              "      <th></th>\n",
              "      <th>k</th>\n",
              "      <th>Fold1</th>\n",
              "      <th>Fold2</th>\n",
              "      <th>Fold3</th>\n",
              "      <th>Fold4</th>\n",
              "      <th>Fold5</th>\n",
              "      <th>Mean</th>\n",
              "      <th>Std</th>\n",
              "    </tr>\n",
              "  </thead>\n",
              "  <tbody>\n",
              "    <tr>\n",
              "      <th>Accuracy</th>\n",
              "      <td>3</td>\n",
              "      <td>0.916667</td>\n",
              "      <td>0.958333</td>\n",
              "      <td>0.958333</td>\n",
              "      <td>0.958333</td>\n",
              "      <td>1.0</td>\n",
              "      <td>0.958333</td>\n",
              "      <td>0.026352</td>\n",
              "    </tr>\n",
              "    <tr>\n",
              "      <th>Accuracy</th>\n",
              "      <td>5</td>\n",
              "      <td>0.916667</td>\n",
              "      <td>1.000000</td>\n",
              "      <td>0.958333</td>\n",
              "      <td>1.000000</td>\n",
              "      <td>1.0</td>\n",
              "      <td>0.975000</td>\n",
              "      <td>0.033333</td>\n",
              "    </tr>\n",
              "  </tbody>\n",
              "</table>\n",
              "</div>\n",
              "    <div class=\"colab-df-buttons\">\n",
              "\n",
              "  <div class=\"colab-df-container\">\n",
              "    <button class=\"colab-df-convert\" onclick=\"convertToInteractive('df-75be4e9f-0724-4186-a4b8-edba9e290360')\"\n",
              "            title=\"Convert this dataframe to an interactive table.\"\n",
              "            style=\"display:none;\">\n",
              "\n",
              "  <svg xmlns=\"http://www.w3.org/2000/svg\" height=\"24px\" viewBox=\"0 -960 960 960\">\n",
              "    <path d=\"M120-120v-720h720v720H120Zm60-500h600v-160H180v160Zm220 220h160v-160H400v160Zm0 220h160v-160H400v160ZM180-400h160v-160H180v160Zm440 0h160v-160H620v160ZM180-180h160v-160H180v160Zm440 0h160v-160H620v160Z\"/>\n",
              "  </svg>\n",
              "    </button>\n",
              "\n",
              "  <style>\n",
              "    .colab-df-container {\n",
              "      display:flex;\n",
              "      gap: 12px;\n",
              "    }\n",
              "\n",
              "    .colab-df-convert {\n",
              "      background-color: #E8F0FE;\n",
              "      border: none;\n",
              "      border-radius: 50%;\n",
              "      cursor: pointer;\n",
              "      display: none;\n",
              "      fill: #1967D2;\n",
              "      height: 32px;\n",
              "      padding: 0 0 0 0;\n",
              "      width: 32px;\n",
              "    }\n",
              "\n",
              "    .colab-df-convert:hover {\n",
              "      background-color: #E2EBFA;\n",
              "      box-shadow: 0px 1px 2px rgba(60, 64, 67, 0.3), 0px 1px 3px 1px rgba(60, 64, 67, 0.15);\n",
              "      fill: #174EA6;\n",
              "    }\n",
              "\n",
              "    .colab-df-buttons div {\n",
              "      margin-bottom: 4px;\n",
              "    }\n",
              "\n",
              "    [theme=dark] .colab-df-convert {\n",
              "      background-color: #3B4455;\n",
              "      fill: #D2E3FC;\n",
              "    }\n",
              "\n",
              "    [theme=dark] .colab-df-convert:hover {\n",
              "      background-color: #434B5C;\n",
              "      box-shadow: 0px 1px 3px 1px rgba(0, 0, 0, 0.15);\n",
              "      filter: drop-shadow(0px 1px 2px rgba(0, 0, 0, 0.3));\n",
              "      fill: #FFFFFF;\n",
              "    }\n",
              "  </style>\n",
              "\n",
              "    <script>\n",
              "      const buttonEl =\n",
              "        document.querySelector('#df-75be4e9f-0724-4186-a4b8-edba9e290360 button.colab-df-convert');\n",
              "      buttonEl.style.display =\n",
              "        google.colab.kernel.accessAllowed ? 'block' : 'none';\n",
              "\n",
              "      async function convertToInteractive(key) {\n",
              "        const element = document.querySelector('#df-75be4e9f-0724-4186-a4b8-edba9e290360');\n",
              "        const dataTable =\n",
              "          await google.colab.kernel.invokeFunction('convertToInteractive',\n",
              "                                                    [key], {});\n",
              "        if (!dataTable) return;\n",
              "\n",
              "        const docLinkHtml = 'Like what you see? Visit the ' +\n",
              "          '<a target=\"_blank\" href=https://colab.research.google.com/notebooks/data_table.ipynb>data table notebook</a>'\n",
              "          + ' to learn more about interactive tables.';\n",
              "        element.innerHTML = '';\n",
              "        dataTable['output_type'] = 'display_data';\n",
              "        await google.colab.output.renderOutput(dataTable, element);\n",
              "        const docLink = document.createElement('div');\n",
              "        docLink.innerHTML = docLinkHtml;\n",
              "        element.appendChild(docLink);\n",
              "      }\n",
              "    </script>\n",
              "  </div>\n",
              "\n",
              "\n",
              "<div id=\"df-665ba662-002b-474b-a62d-4a0f1b22ab0a\">\n",
              "  <button class=\"colab-df-quickchart\" onclick=\"quickchart('df-665ba662-002b-474b-a62d-4a0f1b22ab0a')\"\n",
              "            title=\"Suggest charts\"\n",
              "            style=\"display:none;\">\n",
              "\n",
              "<svg xmlns=\"http://www.w3.org/2000/svg\" height=\"24px\"viewBox=\"0 0 24 24\"\n",
              "     width=\"24px\">\n",
              "    <g>\n",
              "        <path d=\"M19 3H5c-1.1 0-2 .9-2 2v14c0 1.1.9 2 2 2h14c1.1 0 2-.9 2-2V5c0-1.1-.9-2-2-2zM9 17H7v-7h2v7zm4 0h-2V7h2v10zm4 0h-2v-4h2v4z\"/>\n",
              "    </g>\n",
              "</svg>\n",
              "  </button>\n",
              "\n",
              "<style>\n",
              "  .colab-df-quickchart {\n",
              "      --bg-color: #E8F0FE;\n",
              "      --fill-color: #1967D2;\n",
              "      --hover-bg-color: #E2EBFA;\n",
              "      --hover-fill-color: #174EA6;\n",
              "      --disabled-fill-color: #AAA;\n",
              "      --disabled-bg-color: #DDD;\n",
              "  }\n",
              "\n",
              "  [theme=dark] .colab-df-quickchart {\n",
              "      --bg-color: #3B4455;\n",
              "      --fill-color: #D2E3FC;\n",
              "      --hover-bg-color: #434B5C;\n",
              "      --hover-fill-color: #FFFFFF;\n",
              "      --disabled-bg-color: #3B4455;\n",
              "      --disabled-fill-color: #666;\n",
              "  }\n",
              "\n",
              "  .colab-df-quickchart {\n",
              "    background-color: var(--bg-color);\n",
              "    border: none;\n",
              "    border-radius: 50%;\n",
              "    cursor: pointer;\n",
              "    display: none;\n",
              "    fill: var(--fill-color);\n",
              "    height: 32px;\n",
              "    padding: 0;\n",
              "    width: 32px;\n",
              "  }\n",
              "\n",
              "  .colab-df-quickchart:hover {\n",
              "    background-color: var(--hover-bg-color);\n",
              "    box-shadow: 0 1px 2px rgba(60, 64, 67, 0.3), 0 1px 3px 1px rgba(60, 64, 67, 0.15);\n",
              "    fill: var(--button-hover-fill-color);\n",
              "  }\n",
              "\n",
              "  .colab-df-quickchart-complete:disabled,\n",
              "  .colab-df-quickchart-complete:disabled:hover {\n",
              "    background-color: var(--disabled-bg-color);\n",
              "    fill: var(--disabled-fill-color);\n",
              "    box-shadow: none;\n",
              "  }\n",
              "\n",
              "  .colab-df-spinner {\n",
              "    border: 2px solid var(--fill-color);\n",
              "    border-color: transparent;\n",
              "    border-bottom-color: var(--fill-color);\n",
              "    animation:\n",
              "      spin 1s steps(1) infinite;\n",
              "  }\n",
              "\n",
              "  @keyframes spin {\n",
              "    0% {\n",
              "      border-color: transparent;\n",
              "      border-bottom-color: var(--fill-color);\n",
              "      border-left-color: var(--fill-color);\n",
              "    }\n",
              "    20% {\n",
              "      border-color: transparent;\n",
              "      border-left-color: var(--fill-color);\n",
              "      border-top-color: var(--fill-color);\n",
              "    }\n",
              "    30% {\n",
              "      border-color: transparent;\n",
              "      border-left-color: var(--fill-color);\n",
              "      border-top-color: var(--fill-color);\n",
              "      border-right-color: var(--fill-color);\n",
              "    }\n",
              "    40% {\n",
              "      border-color: transparent;\n",
              "      border-right-color: var(--fill-color);\n",
              "      border-top-color: var(--fill-color);\n",
              "    }\n",
              "    60% {\n",
              "      border-color: transparent;\n",
              "      border-right-color: var(--fill-color);\n",
              "    }\n",
              "    80% {\n",
              "      border-color: transparent;\n",
              "      border-right-color: var(--fill-color);\n",
              "      border-bottom-color: var(--fill-color);\n",
              "    }\n",
              "    90% {\n",
              "      border-color: transparent;\n",
              "      border-bottom-color: var(--fill-color);\n",
              "    }\n",
              "  }\n",
              "</style>\n",
              "\n",
              "  <script>\n",
              "    async function quickchart(key) {\n",
              "      const quickchartButtonEl =\n",
              "        document.querySelector('#' + key + ' button');\n",
              "      quickchartButtonEl.disabled = true;  // To prevent multiple clicks.\n",
              "      quickchartButtonEl.classList.add('colab-df-spinner');\n",
              "      try {\n",
              "        const charts = await google.colab.kernel.invokeFunction(\n",
              "            'suggestCharts', [key], {});\n",
              "      } catch (error) {\n",
              "        console.error('Error during call to suggestCharts:', error);\n",
              "      }\n",
              "      quickchartButtonEl.classList.remove('colab-df-spinner');\n",
              "      quickchartButtonEl.classList.add('colab-df-quickchart-complete');\n",
              "    }\n",
              "    (() => {\n",
              "      let quickchartButtonEl =\n",
              "        document.querySelector('#df-665ba662-002b-474b-a62d-4a0f1b22ab0a button');\n",
              "      quickchartButtonEl.style.display =\n",
              "        google.colab.kernel.accessAllowed ? 'block' : 'none';\n",
              "    })();\n",
              "  </script>\n",
              "</div>\n",
              "    </div>\n",
              "  </div>\n"
            ],
            "application/vnd.google.colaboratory.intrinsic+json": {
              "type": "dataframe",
              "variable_name": "table",
              "summary": "{\n  \"name\": \"table\",\n  \"rows\": 2,\n  \"fields\": [\n    {\n      \"column\": \"k\",\n      \"properties\": {\n        \"dtype\": \"number\",\n        \"std\": 1,\n        \"min\": 3,\n        \"max\": 5,\n        \"num_unique_values\": 2,\n        \"samples\": [\n          5,\n          3\n        ],\n        \"semantic_type\": \"\",\n        \"description\": \"\"\n      }\n    },\n    {\n      \"column\": \"Fold1\",\n      \"properties\": {\n        \"dtype\": \"number\",\n        \"std\": 0.0,\n        \"min\": 0.9166666666666666,\n        \"max\": 0.9166666666666666,\n        \"num_unique_values\": 1,\n        \"samples\": [\n          0.9166666666666666\n        ],\n        \"semantic_type\": \"\",\n        \"description\": \"\"\n      }\n    },\n    {\n      \"column\": \"Fold2\",\n      \"properties\": {\n        \"dtype\": \"number\",\n        \"std\": 0.029462782549439452,\n        \"min\": 0.9583333333333334,\n        \"max\": 1.0,\n        \"num_unique_values\": 2,\n        \"samples\": [\n          1.0\n        ],\n        \"semantic_type\": \"\",\n        \"description\": \"\"\n      }\n    },\n    {\n      \"column\": \"Fold3\",\n      \"properties\": {\n        \"dtype\": \"number\",\n        \"std\": 0.0,\n        \"min\": 0.9583333333333334,\n        \"max\": 0.9583333333333334,\n        \"num_unique_values\": 1,\n        \"samples\": [\n          0.9583333333333334\n        ],\n        \"semantic_type\": \"\",\n        \"description\": \"\"\n      }\n    },\n    {\n      \"column\": \"Fold4\",\n      \"properties\": {\n        \"dtype\": \"number\",\n        \"std\": 0.029462782549439452,\n        \"min\": 0.9583333333333334,\n        \"max\": 1.0,\n        \"num_unique_values\": 2,\n        \"samples\": [\n          1.0\n        ],\n        \"semantic_type\": \"\",\n        \"description\": \"\"\n      }\n    },\n    {\n      \"column\": \"Fold5\",\n      \"properties\": {\n        \"dtype\": \"number\",\n        \"std\": 0.0,\n        \"min\": 1.0,\n        \"max\": 1.0,\n        \"num_unique_values\": 1,\n        \"samples\": [\n          1.0\n        ],\n        \"semantic_type\": \"\",\n        \"description\": \"\"\n      }\n    },\n    {\n      \"column\": \"Mean\",\n      \"properties\": {\n        \"dtype\": \"number\",\n        \"std\": 0.01178511301977575,\n        \"min\": 0.9583333333333334,\n        \"max\": 0.975,\n        \"num_unique_values\": 2,\n        \"samples\": [\n          0.975\n        ],\n        \"semantic_type\": \"\",\n        \"description\": \"\"\n      }\n    },\n    {\n      \"column\": \"Std\",\n      \"properties\": {\n        \"dtype\": \"number\",\n        \"std\": 0.004936326227053331,\n        \"min\": 0.026352313834736508,\n        \"max\": 0.03333333333333334,\n        \"num_unique_values\": 2,\n        \"samples\": [\n          0.03333333333333334\n        ],\n        \"semantic_type\": \"\",\n        \"description\": \"\"\n      }\n    }\n  ]\n}"
            }
          },
          "metadata": {},
          "execution_count": 49
        }
      ],
      "source": [
        "table"
      ]
    },
    {
      "cell_type": "markdown",
      "metadata": {
        "id": "83QtP5vokDMg"
      },
      "source": [
        "В идеальном случае выбираются гиперпараметры, для которых математическое ожидание метрик качества выше, а дисперсия — меньше."
      ]
    },
    {
      "cell_type": "markdown",
      "metadata": {
        "id": "x4jhGASCkDMg"
      },
      "source": [
        "##Типичные ошибки при кросс-валидации"
      ]
    },
    {
      "cell_type": "markdown",
      "metadata": {
        "id": "vF4rmDVQkDMg"
      },
      "source": [
        "**Можно ли делать только кросс-валидацию (без теста)?**\n",
        "\n",
        "Нет, нельзя. Кросс-валидация не до конца спасает от подгона параметров модели под выборку, на которой она проводится. Оценка конечного качества модели должно производиться на отложенной тестовой выборке. Если у вас очень мало данных, можно рассмотреть [вложенную кросс-валидацию 🛠️[doc]](https://scikit-learn.org/stable/auto_examples/model_selection/plot_nested_cross_validation_iris.html). Речь об этом пойдет в следующих лекциях. Но даже в этом случае придется анализировать поведение модели, чтобы показать, что она учит что-то разумное. Кстати, вложенную кросс-валидацию можно использовать, чтобы просто получить более устойчивую оценку поведения модели на тесте."
      ]
    }
  ]
}