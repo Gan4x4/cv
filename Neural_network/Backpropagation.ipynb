{
  "nbformat": 4,
  "nbformat_minor": 0,
  "metadata": {
    "colab": {
      "provenance": [],
      "toc_visible": true
    },
    "kernelspec": {
      "name": "python3",
      "display_name": "Python 3"
    },
    "language_info": {
      "name": "python"
    }
  },
  "cells": [
    {
      "cell_type": "markdown",
      "metadata": {
        "id": "2RjAR0XeU8sB"
      },
      "source": [
        "# Обучение нейронной сети"
      ]
    },
    {
      "cell_type": "markdown",
      "metadata": {
        "id": "Mocsp5zpU8sB"
      },
      "source": [
        "На практике обучение нейронных сетей (подбор значений весов) производится при помощи **метода градиентного спуска**.\n",
        "\n",
        "Обучение заключается в **минимизации функции потерь по обучаемым параметрам нейронной сети** — весам и смещениям.\n",
        "\n",
        "Для минимизации функции потерь методом градиентного спуска **необходимо уметь вычислять градиент функции потерь по всем обучаемым параметрам модели**."
      ]
    },
    {
      "cell_type": "markdown",
      "metadata": {
        "id": "uopy0XQ4U8sB"
      },
      "source": [
        "##  Прямое и обратное распространение"
      ]
    },
    {
      "cell_type": "markdown",
      "metadata": {
        "id": "DlQSN4-TU8sB"
      },
      "source": [
        "Процесс расчета градиента функции потерь по обучаемым параметрам состоит из двух этапов: **прямого и обратного распространения**."
      ]
    },
    {
      "cell_type": "markdown",
      "metadata": {
        "id": "Gpr6EIlkU8sB"
      },
      "source": [
        "<center><img src =\"https://ml.gan4x4.ru/msu/dev-2.2/L05/out/forward_pass.png\" width=\"500\"></center>"
      ]
    },
    {
      "cell_type": "markdown",
      "metadata": {
        "id": "uKqpMA-HU8sB"
      },
      "source": [
        "Во время **прямого распространения** (forward pass) производится расчет значений на выходе модели $y_{pred}$, которые передаются в функцию потерь $\\text{Loss}$ для сравнения с целевыми значениями $y_{true}$.\n",
        "\n",
        "$$\\large y_{pred}=\\text{model}\\left(x, 𝐖\\right)$$\n",
        "\n",
        "$$\\large L=\\text{Loss}\\left(y_{true}, y_{pred}\\right)$$"
      ]
    },
    {
      "cell_type": "markdown",
      "metadata": {
        "id": "Y9-pNm5-U8sB"
      },
      "source": [
        "Значение функции потерь зависит от целевых значений $y_{true}$, входных данных $x$ и параметров модели $𝐖$.\n",
        "\n",
        "$$\\large L=\\text{Loss}\\left(y_{true}, \\text{model}\\left(x, 𝐖\\right)\\right) = f\\left(y_{true}, x, 𝐖\\right)$$"
      ]
    },
    {
      "cell_type": "markdown",
      "metadata": {
        "id": "T8uk81-cU8sC"
      },
      "source": [
        "А значит, если модель и функция потерь дифференцируемы, мы можем посчитать $\\nabla_𝐖L$ — градиент функции потерь по обучаемым параметрам. Для этого нужен этап **обратного распространения** (backward pass)."
      ]
    },
    {
      "cell_type": "markdown",
      "metadata": {
        "id": "_DQwqcOKU8sC"
      },
      "source": [
        "<center><img src =\"https://ml.gan4x4.ru/msu/dev-2.2/L05/out/backward_pass.png\" width=\"500\"></center>"
      ]
    },
    {
      "cell_type": "markdown",
      "metadata": {
        "id": "tiq5npUZU8sC"
      },
      "source": [
        "##  Метод обратного распространения ошибки"
      ]
    },
    {
      "cell_type": "markdown",
      "metadata": {
        "id": "a6Y5B_wZU8sC"
      },
      "source": [
        "Для эффективного численного расчета градиента функции потерь по обучаемым параметрам модели применяется **метод обратного распространения ошибки (backpropagation)**. Благодаря данному методу становится практически возможным использование метода градиентного спуска для проведения процедуры обучения."
      ]
    },
    {
      "cell_type": "markdown",
      "metadata": {
        "id": "N_Abz9YmU8sC"
      },
      "source": [
        "Метод обратного распространения ошибки использует структуру многослойной нейронной сети как сложной функции, применяя правило дифференцирования сложной функции для вычисления градиента от функции потерь по весам сети. Градиент от функции потерь вычисляется при движении по нейронной сети от её выходов в направлении входов. Именно такой порядок обхода вычислительного графа и обуславливает название метода."
      ]
    },
    {
      "cell_type": "markdown",
      "metadata": {
        "id": "bIu89m5VU8sC"
      },
      "source": [
        "Для более детального рассмотрения принципов работы и обучения нейронных сетей рекомендуем:\n",
        "\n",
        "[[video] 📺 Плей-лист от 3Blue1Brown](https://youtube.com/playlist?list=PLZHQObOWTQDNU6R1_67000Dx_ZCJB-3pi&si=O3gq6RoIxoNS6iJf) [[озвучка на русском](https://youtube.com/playlist?list=PLZjXXN70PH5itkSPe6LTS-yPyl5soOovc&si=ElKVi98Ui4m2nJKq)]."
      ]
    },
    {
      "cell_type": "markdown",
      "metadata": {
        "id": "yRifJ8H-U8sC"
      },
      "source": [
        "### Вычислительный граф"
      ]
    },
    {
      "cell_type": "markdown",
      "metadata": {
        "id": "4J8AW9KmU8sC"
      },
      "source": [
        "По существу, нейронная сеть является сложной функцией, работу которой можно представить как последовательное выполнение математических операций. Такое представление функций называется [вычислительным графом ✏️[blog]](https://qudata.com/ml/ru/ML_Comp_Graph.html)."
      ]
    },
    {
      "cell_type": "markdown",
      "metadata": {
        "id": "LKrnBUvIU8sC"
      },
      "source": [
        "<center><img src =\"https://ml.gan4x4.ru/msu/dev-2.2/L05/out/nn_fully_connected.png\"  width=\"500\"></center>"
      ]
    },
    {
      "cell_type": "markdown",
      "metadata": {
        "id": "9hlX7ah-U8sC"
      },
      "source": [
        "Алгоритм обратного распространения ошибки позволяет находить градиенты для любого графа вычислений, если описываемая им функция дифференцируема.\n",
        "\n",
        "В его основе лежит правило взятия производной сложной функции (chain rule):"
      ]
    },
    {
      "cell_type": "markdown",
      "metadata": {
        "id": "4rsRKUeYU8sC"
      },
      "source": [
        "Одна переменная:\n",
        "\n",
        "$$\\large y(x) = f(u(g(x))) $$\n",
        "\n",
        "$$\\large \\frac{dy}{dx} = \\frac{df}{du} \\frac{du}{dg} \\frac{dg}{dx}$$"
      ]
    },
    {
      "cell_type": "markdown",
      "metadata": {
        "id": "GeoKWtDvU8sC"
      },
      "source": [
        "Несколько переменных:\n",
        "\n",
        "$$\\large y(x) = f(u_1(x),u_2(x),...u_n(x))$$\n",
        "\n",
        "$$\\large \\frac{dy}{dx} = \\sum_{i=1}^{n} \\frac{\\partial f(u_1, u_2, ... u_n)}{\\partial u_i} \\frac{du_i}{dx}$$\n",
        "\n",
        "$$\\large \\underbrace{\\frac{d}{dx} f(\\vec{\\mathbf{u}}(x))}_{\\text{Derivative of composition function}} = \\overbrace{\\nabla_{\\vec{u}} f \\cdot \\vec{\\mathbf{u}}'(x)}^{\\text{Dot product of vectors}}$$"
      ]
    },
    {
      "cell_type": "markdown",
      "metadata": {
        "id": "SjF37GF1U8sC"
      },
      "source": [
        "####  Пошаговый разбор метода обратного распространения"
      ]
    },
    {
      "cell_type": "markdown",
      "metadata": {
        "id": "mGRScM9rU8sD"
      },
      "source": [
        "Пусть в каком-то узле графа производится вычисление\n",
        "\n",
        "$$\\large z = f(x, y),$$\n",
        "\n",
        "и далее результат вычисления $\\large z$ используется для вычисления функции $\\large L(z)=L(f(x, y))$.\n",
        "\n",
        "Тогда правило вычисления производных $\\dfrac{\\partial L}{\\partial x}$ и $\\dfrac{\\partial L}{\\partial y}$ можно представить следующим образом:"
      ]
    },
    {
      "cell_type": "markdown",
      "metadata": {
        "id": "T_LFa_etU8sD"
      },
      "source": [
        "<center><img src =\"https://ml.gan4x4.ru/msu/dev-2.2/L05/out/rule_for_taking_gradients.png\"  width=\"500\"></center>"
      ]
    },
    {
      "cell_type": "markdown",
      "metadata": {
        "id": "7mj_ZyPdU8sD"
      },
      "source": [
        "Рассмотрим следующую функцию:\n",
        "\n",
        "$$\\Large f(w,x)=\\frac{1}{1+e^{-(w_0x_0+w_1x_1+w_2)}}$$\n",
        "\n",
        "Представим ее в виде вычислительного графа, состоящего из элементарных операций, от которых просто берутся производные:"
      ]
    },
    {
      "cell_type": "markdown",
      "metadata": {
        "id": "rRsoEzfRU8sD"
      },
      "source": [
        "<center><img src =\"https://ml.gan4x4.ru/msu/dev-2.2/L05/out/graph_of_calculation_gradient.png\"  width=\"700\"></center>"
      ]
    },
    {
      "cell_type": "markdown",
      "metadata": {
        "id": "4m_rzGJgU8sD"
      },
      "source": [
        "На примере данной функции рассмотрим алгоритм обратного распространения ошибки и найдём величину её градиента по параметрам $\\large w$.\n",
        "Нам потребуется вычислить частные производные $\\dfrac{\\partial f}{\\partial w_0}, \\dfrac{\\partial f}{\\partial w_1}, \\dfrac{\\partial f}{dw_2}, \\dfrac{\\partial f}{\\partial x_0}$ и $\\dfrac{\\partial f}{\\partial x_1}$.\n",
        "\n",
        "Пусть \"веса\" $w$ инициализированы значениями $w_0=2,\\;w_1=-3,\\;w_2=-3$, а \"входные признаки\" $x$ принимают значения $x_0=-1,\\;x_1=-2$.\n",
        "\n",
        "Делая прямой проход через граф вычислений для данной функции, получаем её значение для заданных $w$ и $x$ равным $f=0.73$:"
      ]
    },
    {
      "cell_type": "markdown",
      "metadata": {
        "id": "gsrS9oyHU8sD"
      },
      "source": [
        "<center><img src =\"https://ml.gan4x4.ru/msu/dev-2.2/L05/out/forward_pass_example.png\" width=\"800\"></center>"
      ]
    },
    {
      "cell_type": "markdown",
      "metadata": {
        "id": "B73UL_RLU8sD"
      },
      "source": [
        "Далее, в соответствии с алгоритмом обратного распространения ошибки, рассчитаем частные производные, пройдясь последовательно по графу вычислений, постепенно накапливая искомое значение для градиента функции.\n",
        "\n",
        "Для начала зададим $\\dfrac{df}{df}=1$.\n",
        "\n",
        "Начинаем обратный проход по графу вычислений — первая вершина содержит функцию $f(x)=\\dfrac{1}{x}$, производная которой равна $\\dfrac{df}{dx}=-\\dfrac{1}{x^2}$"
      ]
    },
    {
      "cell_type": "markdown",
      "metadata": {
        "id": "yLrWpNdmU8sD"
      },
      "source": [
        "<center><img src =\"https://ml.gan4x4.ru/msu/dev-2.2/L05/out/compute_gradient_1_step.png\" width=\"800\"></center>\n",
        "\n",
        "$$\\large f(x)=\\frac1x \\quad \\longrightarrow \\quad \\frac{df}{dx} = -\\frac{1}{x^2}$$"
      ]
    },
    {
      "cell_type": "markdown",
      "metadata": {
        "id": "pR_cQ5F3U8sD"
      },
      "source": [
        "В следующем узле находится функция $f(x)=1+x$. Производная от выражения в данном узле равняется $\\dfrac{df}{dx}=1$:"
      ]
    },
    {
      "cell_type": "markdown",
      "metadata": {
        "id": "rEqwsIEcU8sD"
      },
      "source": [
        "<center><img src =\"https://ml.gan4x4.ru/msu/dev-2.2/L05/out/compute_gradient_2_step.png\" width=\"800\"></center>\n",
        "\n",
        "$$\\large f(x)=c+x \\quad \\longrightarrow \\quad \\frac{df}{dx} = 1$$"
      ]
    },
    {
      "cell_type": "markdown",
      "metadata": {
        "id": "HpPtG-eGU8sD"
      },
      "source": [
        "Третья вершина содержит экспоненту $f(x)=e^x$. Её производная также является экспонентой $\\dfrac{df}{dx}=e^x$:"
      ]
    },
    {
      "cell_type": "markdown",
      "metadata": {
        "id": "Q3tPZVHQU8sD"
      },
      "source": [
        "<center><img src =\"https://ml.gan4x4.ru/msu/dev-2.2/L05/out/compute_gradient_3_step.png\" width=\"800\"></center>\n",
        "\n",
        "$$\\large f(x)=e^x \\quad \\longrightarrow \\quad \\frac{df}{dx} = e^x$$"
      ]
    },
    {
      "cell_type": "markdown",
      "metadata": {
        "id": "FspOupdnU8sD"
      },
      "source": [
        "Следующая вершина, четвертая, содержит умножение на константу $f(x)=ax$. Производная равна $\\dfrac{df}{dx}=a$ (в данном случае $a=-1$):"
      ]
    },
    {
      "cell_type": "markdown",
      "metadata": {
        "id": "FEkU_OUfU8sD"
      },
      "source": [
        "<center><img src =\"https://ml.gan4x4.ru/msu/dev-2.2/L05/out/compute_gradient_4_step.png\" width=\"800\"></center>\n",
        "\n",
        "$$\\large f(x)=ax \\quad \\longrightarrow \\quad \\frac{df}{dx} = a$$"
      ]
    },
    {
      "cell_type": "markdown",
      "metadata": {
        "id": "0576Ugz1U8sE"
      },
      "source": [
        "Двигаясь по графу вычислений, мы дошли до узла суммирования, который имеет два входа. Относительно каждого из входов локальный градиент в вершине суммирования будет равен $1$:\n",
        "$$\\large f(x,y)=x+y \\quad \\Rightarrow \\quad \\frac{\\partial f}{\\partial x}=1  \\quad \\quad \\frac{\\partial f}{\\partial y}=1$$\n",
        "Так как умножение на единицу не изменит значения входного градиента, всем входам узла суммирования мы можем приписать точно такое же значение входного градиента ($0.2$), что мы имели и для самого узла суммирования. Будем действовать аналогично и со всеми остальными узлами суммирования, которые встретятся нам в вычислительном графе."
      ]
    },
    {
      "cell_type": "markdown",
      "metadata": {
        "id": "4VSFi_nUU8sE"
      },
      "source": [
        "<center><img src =\"https://ml.gan4x4.ru/msu/dev-2.2/L05/out/compute_gradient_5_step.png\" width=\"800\"></center>"
      ]
    },
    {
      "cell_type": "markdown",
      "metadata": {
        "id": "CNbFf9c6U8sE"
      },
      "source": [
        "Двигаясь далее к началу графа вычислений, мы подходим к вершинам умножения. Для такой вершины локальный градиент по отношению к какому-либо из входов будет равен значению оставшегося входа. Остается умножить локальный градиент на входящий.\n",
        "\n",
        "$$\\large f(w,x)=wx \\quad \\Rightarrow \\quad \\frac{\\partial f}{\\partial w}=x  \\quad \\quad \\frac{\\partial f}{\\partial x}=w$$\n",
        "\n",
        "Точно так же мы можем поступить и с оставшейся второй вершиной умножения, которая привязана к $w_1$ и $x_1$:"
      ]
    },
    {
      "cell_type": "markdown",
      "metadata": {
        "id": "-HhQ-fEUU8sE"
      },
      "source": [
        "<center><img src =\"https://ml.gan4x4.ru/msu/dev-2.2/L05/out/compute_gradient_6_step.png\" width=\"800\"></center>"
      ]
    },
    {
      "cell_type": "markdown",
      "metadata": {
        "id": "3_WEctLbU8sE"
      },
      "source": [
        "Так, двигаясь по графу вычислений в обратном направлении от выхода функции к входным аргументам, мы последовательно для каждого узла умножаем локальный градиент на входящий градиент, используя цепное правило дифференцирования сложной функции. В описанном примере мы полностью разбили граф вычислений на отдельные элементарные узлы. Разбиение вычислительного графа на элементарные узлы вовсе не обязательно — мы можем сгруппировать несколько вершин вместе, если они образуют дифференцируемую функцию, от которой \"удобно\" брать производную, и рассматривать их совместно."
      ]
    },
    {
      "cell_type": "markdown",
      "metadata": {
        "id": "cA38ftg3U8sE"
      },
      "source": [
        "В нашем примере мы можем заметить, что вычислительный граф можно свести к двум операциям: получению выражения $w_0x_0+w_1x_1+w_2$ и последующему вычислению от него сигмоидальной функции.\n",
        "\n",
        "Функция сигмоиды:\n",
        "\n",
        "$$\\large \\displaystyle \\sigma(x) = \\frac{1}{1+e^{-x}}.$$"
      ]
    },
    {
      "cell_type": "markdown",
      "metadata": {
        "id": "--h_PBsbU8sE"
      },
      "source": [
        "Важно отметить, что сигмоида обладает важным свойством: её производная может быть выражена через саму сигмоидальную функцию:\n",
        "\n",
        "$$\\large \\frac{d}{dx}\\sigma(x) = \\frac{d}{dx}(1+e^{-x})^{-1} = \\frac{e^{-x}}{(1+e^{-x})^{2}} = \\frac{1}{1+e^{-x}} \\cdot \\frac{1+e^{-x}-1}{1+e^{-x}} = \\sigma(x)\\cdot(1-\\sigma(x))$$"
      ]
    },
    {
      "cell_type": "markdown",
      "metadata": {
        "id": "fIKKu7BpU8sE"
      },
      "source": [
        "<center><img src =\"https://ml.gan4x4.ru/msu/dev-2.2/L05/out/compute_gradient_join_vertices_sigmoid_example.png\" width=\"800\"></center>"
      ]
    },
    {
      "cell_type": "markdown",
      "metadata": {
        "id": "6zOO-rghU8sE"
      },
      "source": [
        "В коде без использования библиотек подсчёт градиентов можно записать как:"
      ]
    },
    {
      "cell_type": "markdown",
      "metadata": {
        "id": "McJlViJMU8sE"
      },
      "source": [
        "<center><img src =\"https://ml.gan4x4.ru/msu/dev-2.2/L05/out/calculating_gradients_in_code.png\" width=\"800\"></center>"
      ]
    },
    {
      "cell_type": "markdown",
      "metadata": {
        "id": "iIIIVy1HU8sE"
      },
      "source": [
        "#### Реализация в PyTorch"
      ]
    },
    {
      "cell_type": "markdown",
      "metadata": {
        "id": "bE2KVs-kU8sE"
      },
      "source": [
        "Практически вся наша работа c нейронными сетями будет осуществляться с помощью [PyTorch 🛠️[doc]](https://pytorch.org/), поэтому необходимо познакомиться с основными концептами, принципами и функциями этой библиотеки.\n",
        "\n",
        "Лучший друг в этом, конечно же, [документация 🛠️[doc]](https://pytorch.org/docs/stable/index.html), здесь же мы разберем только основные сущности и методы."
      ]
    },
    {
      "cell_type": "markdown",
      "metadata": {
        "id": "pr0PQFHQU8sE"
      },
      "source": [
        "##### Основная сущность — torch.Tensor"
      ]
    },
    {
      "cell_type": "markdown",
      "metadata": {
        "id": "oz0aL6gfU8sE"
      },
      "source": [
        "Класс `torch.Tensor` [🛠️[doc]](https://pytorch.org/docs/stable/tensors.html#torch.Tensor) предоставляет функциональность работы с многомерными массивами.\n",
        "\n",
        "Создание \"пустого\" тензора:"
      ]
    },
    {
      "cell_type": "code",
      "execution_count": null,
      "metadata": {
        "id": "2BqjL1l9U8sF"
      },
      "outputs": [],
      "source": [
        "import torch\n",
        "\n",
        "a = torch.Tensor()"
      ]
    },
    {
      "cell_type": "markdown",
      "metadata": {
        "id": "caEekOfpU8sF"
      },
      "source": [
        "Функция создания тензора из списка:"
      ]
    },
    {
      "cell_type": "code",
      "execution_count": null,
      "metadata": {
        "id": "bsmh_LrBU8sF",
        "outputId": "61a205fe-accf-413b-b071-b8e8a236b2cc",
        "colab": {
          "base_uri": "https://localhost:8080/"
        }
      },
      "outputs": [
        {
          "output_type": "execute_result",
          "data": {
            "text/plain": [
              "torch.float32"
            ]
          },
          "metadata": {},
          "execution_count": 2
        }
      ],
      "source": [
        "a = torch.tensor([1.1, 2.2, 3.2])\n",
        "a.dtype"
      ]
    },
    {
      "cell_type": "markdown",
      "metadata": {
        "id": "09J8hIH8U8sF"
      },
      "source": [
        "Явное указание типа данных:"
      ]
    },
    {
      "cell_type": "code",
      "execution_count": null,
      "metadata": {
        "id": "_FqsXQMnU8sF",
        "outputId": "a0054378-79b8-405c-8ebf-9b714744d626",
        "colab": {
          "base_uri": "https://localhost:8080/"
        }
      },
      "outputs": [
        {
          "output_type": "execute_result",
          "data": {
            "text/plain": [
              "torch.float64"
            ]
          },
          "metadata": {},
          "execution_count": 3
        }
      ],
      "source": [
        "a = torch.tensor([1.1, 2.2, 3.2], dtype=torch.float64)\n",
        "a.dtype"
      ]
    },
    {
      "cell_type": "markdown",
      "metadata": {
        "id": "Bmg6IxB2U8sF"
      },
      "source": [
        "Создание двумерного тензора, заполненного единицами (для нулей `zeros`)"
      ]
    },
    {
      "cell_type": "code",
      "execution_count": null,
      "metadata": {
        "id": "zxhGajj7U8sF",
        "outputId": "64bdd87d-5897-43d1-dc9b-70cbad4fc9ef",
        "colab": {
          "base_uri": "https://localhost:8080/"
        }
      },
      "outputs": [
        {
          "output_type": "execute_result",
          "data": {
            "text/plain": [
              "torch.Size([3, 2])"
            ]
          },
          "metadata": {},
          "execution_count": 4
        }
      ],
      "source": [
        "a = torch.ones(size=(3, 2))\n",
        "a.size()"
      ]
    },
    {
      "cell_type": "markdown",
      "metadata": {
        "id": "xQFm3hGHU8sF"
      },
      "source": [
        "Создание двумерного тензора, заполненного указанным значением\n"
      ]
    },
    {
      "cell_type": "code",
      "execution_count": null,
      "metadata": {
        "id": "MHH6VyXgU8sF",
        "outputId": "17d2c468-5782-4b07-a9d1-15cc625efcfa",
        "colab": {
          "base_uri": "https://localhost:8080/"
        }
      },
      "outputs": [
        {
          "output_type": "execute_result",
          "data": {
            "text/plain": [
              "tensor([[3.7400, 3.7400],\n",
              "        [3.7400, 3.7400],\n",
              "        [3.7400, 3.7400]])"
            ]
          },
          "metadata": {},
          "execution_count": 5
        }
      ],
      "source": [
        "a = torch.full(size=(3, 2), fill_value=3.74)\n",
        "a"
      ]
    },
    {
      "cell_type": "markdown",
      "metadata": {
        "id": "i4diGw6fU8sF"
      },
      "source": [
        "Транспонирование (изменение порядка осей)"
      ]
    },
    {
      "cell_type": "code",
      "execution_count": null,
      "metadata": {
        "id": "fVWUgdvQU8sF",
        "outputId": "da023292-716b-4918-e72d-fb0aff52cc4d",
        "colab": {
          "base_uri": "https://localhost:8080/"
        }
      },
      "outputs": [
        {
          "output_type": "execute_result",
          "data": {
            "text/plain": [
              "tensor([[3.7400, 3.7400, 3.7400],\n",
              "        [3.7400, 3.7400, 3.7400]])"
            ]
          },
          "metadata": {},
          "execution_count": 6
        }
      ],
      "source": [
        "a = a.T\n",
        "a"
      ]
    },
    {
      "cell_type": "markdown",
      "metadata": {
        "id": "6ztDICMlU8sF"
      },
      "source": [
        "В библиотеке реализовано большое количество математических функций"
      ]
    },
    {
      "cell_type": "code",
      "execution_count": null,
      "metadata": {
        "id": "HVTukhTgU8sF",
        "outputId": "b66a5114-fce3-4b92-a2e1-f94b7c9fdafa",
        "colab": {
          "base_uri": "https://localhost:8080/"
        }
      },
      "outputs": [
        {
          "output_type": "stream",
          "name": "stdout",
          "text": [
            "Exponents tensor:\n",
            " tensor([[42.0980, 42.0980, 42.0980],\n",
            "        [42.0980, 42.0980, 42.0980]])\n",
            "\n",
            "Add 1 to tensor:\n",
            " tensor([[43.0980, 43.0980, 43.0980],\n",
            "        [43.0980, 43.0980, 43.0980]])\n"
          ]
        }
      ],
      "source": [
        "c = torch.exp(a)\n",
        "print(\"Exponents tensor:\\n\", c)\n",
        "\n",
        "c += 1\n",
        "print(\"\\nAdd 1 to tensor:\\n\", c)"
      ]
    },
    {
      "cell_type": "markdown",
      "metadata": {
        "id": "18uJJOlGU8sG"
      },
      "source": [
        "Почти всё, что есть в NumPy, есть в PyTorch. Например, суммирование значений тензора с помощью `.sum()`:"
      ]
    },
    {
      "cell_type": "code",
      "execution_count": null,
      "metadata": {
        "id": "DLpzuxpAU8sG",
        "outputId": "d97b93c0-4c7a-4d4c-bd79-c6a4eacb5b55",
        "colab": {
          "base_uri": "https://localhost:8080/"
        }
      },
      "outputs": [
        {
          "output_type": "execute_result",
          "data": {
            "text/plain": [
              "tensor(258.5880)"
            ]
          },
          "metadata": {},
          "execution_count": 8
        }
      ],
      "source": [
        "c.sum()"
      ]
    },
    {
      "cell_type": "markdown",
      "metadata": {
        "id": "YE_dooh3U8sG"
      },
      "source": [
        "Перестановка, удаление и добавление пространственных измерений:"
      ]
    },
    {
      "cell_type": "code",
      "execution_count": null,
      "metadata": {
        "id": "P7AoauqQU8sG",
        "outputId": "07bdc773-30a7-4c5c-a4d5-1bdd3567192c",
        "colab": {
          "base_uri": "https://localhost:8080/"
        }
      },
      "outputs": [
        {
          "output_type": "stream",
          "name": "stdout",
          "text": [
            "Original tensor size:\n",
            " torch.Size([2, 5, 1, 8])\n",
            "After permute tensor size:\n",
            " torch.Size([1, 2, 8, 5])\n",
            "After squzee tensor size:\n",
            " torch.Size([2, 8, 5])\n",
            "After unsquzee tensor size:\n",
            " torch.Size([1, 2, 8, 5])\n"
          ]
        }
      ],
      "source": [
        "a = torch.zeros((2, 5, 1, 8))\n",
        "print(\"Original tensor size:\\n\", a.size())\n",
        "\n",
        "a = a.permute(dims=(2, 0, 3, 1))  # permute dimensions\n",
        "print(\"After permute tensor size:\\n\", a.size())\n",
        "\n",
        "a = a.squeeze()  # delete dimension\n",
        "print(\"After squzee tensor size:\\n\", a.size())\n",
        "\n",
        "a = a.unsqueeze(dim=0)  # add dimension\n",
        "print(\"After unsquzee tensor size:\\n\", a.size())"
      ]
    },
    {
      "cell_type": "markdown",
      "metadata": {
        "id": "xVftR1jGU8sG"
      },
      "source": [
        "Преобразование `torch.Tensor` в `np.ndarray`:"
      ]
    },
    {
      "cell_type": "code",
      "execution_count": null,
      "metadata": {
        "id": "mUvMKyS-U8sG",
        "outputId": "c30e0e3d-55c7-41c6-af98-c3fd8a296626",
        "colab": {
          "base_uri": "https://localhost:8080/"
        }
      },
      "outputs": [
        {
          "output_type": "execute_result",
          "data": {
            "text/plain": [
              "array([[[[0., 0., 0., 0., 0.],\n",
              "         [0., 0., 0., 0., 0.],\n",
              "         [0., 0., 0., 0., 0.],\n",
              "         [0., 0., 0., 0., 0.],\n",
              "         [0., 0., 0., 0., 0.],\n",
              "         [0., 0., 0., 0., 0.],\n",
              "         [0., 0., 0., 0., 0.],\n",
              "         [0., 0., 0., 0., 0.]],\n",
              "\n",
              "        [[0., 0., 0., 0., 0.],\n",
              "         [0., 0., 0., 0., 0.],\n",
              "         [0., 0., 0., 0., 0.],\n",
              "         [0., 0., 0., 0., 0.],\n",
              "         [0., 0., 0., 0., 0.],\n",
              "         [0., 0., 0., 0., 0.],\n",
              "         [0., 0., 0., 0., 0.],\n",
              "         [0., 0., 0., 0., 0.]]]], dtype=float32)"
            ]
          },
          "metadata": {},
          "execution_count": 10
        }
      ],
      "source": [
        "a.numpy()"
      ]
    },
    {
      "cell_type": "markdown",
      "metadata": {
        "id": "w8r8S4giU8sG"
      },
      "source": [
        "PyTorch позволяет тензору быть представлением (view) существующего тензора. Тензор представления использует те же данные, что и его базовый тензор. Поддержка `view` позволяет избежать явного копирования данных, что позволяет экономить память."
      ]
    },
    {
      "cell_type": "code",
      "execution_count": null,
      "metadata": {
        "id": "3FCUnA45U8sG",
        "outputId": "63839211-9d38-4200-e370-92d5221df21c",
        "colab": {
          "base_uri": "https://localhost:8080/"
        }
      },
      "outputs": [
        {
          "output_type": "stream",
          "name": "stdout",
          "text": [
            "Original tensor:\n",
            " tensor([[0.5866, 0.9471, 0.2331, 0.5124, 0.3771, 0.1982, 0.9801, 0.9984],\n",
            "        [0.5709, 0.2533, 0.7210, 0.5402, 0.2095, 0.3625, 0.4288, 0.5829]])\n",
            "\n",
            "Tensor after view:\n",
            " tensor([[0.5866, 0.9471, 0.2331, 0.5124],\n",
            "        [0.3771, 0.1982, 0.9801, 0.9984],\n",
            "        [0.5709, 0.2533, 0.7210, 0.5402],\n",
            "        [0.2095, 0.3625, 0.4288, 0.5829]])\n",
            "\n",
            "Tensor b uses the same memory space as tensor a:\n"
          ]
        },
        {
          "output_type": "execute_result",
          "data": {
            "text/plain": [
              "True"
            ]
          },
          "metadata": {},
          "execution_count": 11
        }
      ],
      "source": [
        "a = torch.rand(2, 8)\n",
        "print(\"Original tensor:\\n\", a)\n",
        "\n",
        "b = a.view(4, 4)\n",
        "print(\"\\nTensor after view:\\n\", b)\n",
        "\n",
        "print(\"\\nTensor b uses the same memory space as tensor a:\")\n",
        "id(a[0, 0]) == id(b[0, 0])"
      ]
    },
    {
      "cell_type": "markdown",
      "metadata": {
        "id": "XGIYn-seU8sG"
      },
      "source": [
        "Размещение тензора на GPU:"
      ]
    },
    {
      "cell_type": "code",
      "execution_count": null,
      "metadata": {
        "id": "pp9205PQU8sG",
        "outputId": "fbed9b2e-b1c9-45fc-c515-217c3d6d56d7",
        "colab": {
          "base_uri": "https://localhost:8080/"
        }
      },
      "outputs": [
        {
          "output_type": "stream",
          "name": "stdout",
          "text": [
            "Cuda available: False \n",
            "\n"
          ]
        },
        {
          "output_type": "execute_result",
          "data": {
            "text/plain": [
              "tensor([[1.1732, 1.8942, 0.4663, 1.0247, 0.7543, 0.3965, 1.9602, 1.9967],\n",
              "        [1.1418, 0.5066, 1.4419, 1.0803, 0.4190, 0.7249, 0.8575, 1.1658]])"
            ]
          },
          "metadata": {},
          "execution_count": 12
        }
      ],
      "source": [
        "device = torch.device(\"cuda\" if torch.cuda.is_available() else \"cpu\")\n",
        "print(f\"Cuda available: {torch.cuda.is_available()} \\n\")\n",
        "\n",
        "a = a.to(device)  # moving tensor to gpu\n",
        "b = torch.full_like(a, 2).to(device)\n",
        "c = a * b  # compute on gpu (more fast with parallel computing)\n",
        "c"
      ]
    },
    {
      "cell_type": "markdown",
      "metadata": {
        "id": "Y3GTlJojU8sG"
      },
      "source": [
        "##### Автоматическое вычисление градиента"
      ]
    },
    {
      "cell_type": "markdown",
      "metadata": {
        "id": "_q6C1xbjU8sH"
      },
      "source": [
        "PyTorch умеет запоминать последовательность операций с тензорами и вычислять градиент.\n",
        "\n",
        "Вспомним функцию из примера выше\n",
        "\n",
        "$$\\Large f(w,x)=\\sigma(w_0x_0+w_1x_1+w_2)$$\n",
        "\n",
        "И построим ее вычислительный граф при $x_0=-1, x_1=-2, w_0=2,\\;w_1=-3,\\;w_2=-3$."
      ]
    },
    {
      "cell_type": "code",
      "execution_count": null,
      "metadata": {
        "id": "Y6sjWB3eU8sH",
        "outputId": "ffe16654-a2e0-474f-abca-024f2089011a",
        "colab": {
          "base_uri": "https://localhost:8080/"
        }
      },
      "outputs": [
        {
          "output_type": "stream",
          "name": "stdout",
          "text": [
            "f(x, W) = 0.73\n"
          ]
        }
      ],
      "source": [
        "# x from above example\n",
        "x0 = torch.tensor(-1.0, requires_grad=True)\n",
        "x1 = torch.tensor(-2.0, requires_grad=True)\n",
        "\n",
        "# w from above example\n",
        "w0 = torch.tensor(2.0, requires_grad=True)\n",
        "w1 = torch.tensor(-3.0, requires_grad=True)\n",
        "w2 = torch.tensor(-3.0, requires_grad=True)\n",
        "\n",
        "# forward pass to compute f\n",
        "s = x0 * w0 + x1 * w1 + w2\n",
        "f = torch.sigmoid(s)\n",
        "\n",
        "print(f\"f(x, W) = {f:.2f}\")"
      ]
    },
    {
      "cell_type": "markdown",
      "metadata": {
        "id": "Fn-nGXIIU8sH"
      },
      "source": [
        "При создании тензоров мы указали параметр `requires_grad=True`. Установка этого параметра указывает PyTorch на то, что необходимо отслеживать операции, в которых участвует данный тезор, для построения вычислительного графа и последующего вычисления градиента.\n",
        "\n",
        "Можно визуализировать получившийся вычислительный граф с помощью библиотеки torchviz."
      ]
    },
    {
      "cell_type": "code",
      "execution_count": null,
      "metadata": {
        "id": "tJIY-XYdU8sH"
      },
      "outputs": [],
      "source": [
        "from IPython.display import clear_output\n",
        "\n",
        "!pip install -qU torchviz\n",
        "clear_output()"
      ]
    },
    {
      "cell_type": "code",
      "execution_count": null,
      "metadata": {
        "id": "Y1UgPVJWU8sH",
        "outputId": "972951dd-a3d1-4dda-a1da-ed92ed0e9f11",
        "colab": {
          "base_uri": "https://localhost:8080/",
          "height": 541
        }
      },
      "outputs": [
        {
          "output_type": "execute_result",
          "data": {
            "image/svg+xml": "<?xml version=\"1.0\" encoding=\"UTF-8\" standalone=\"no\"?>\n<!DOCTYPE svg PUBLIC \"-//W3C//DTD SVG 1.1//EN\"\n \"http://www.w3.org/Graphics/SVG/1.1/DTD/svg11.dtd\">\n<!-- Generated by graphviz version 2.43.0 (0)\n -->\n<!-- Title: %3 Pages: 1 -->\n<svg width=\"466pt\" height=\"390pt\"\n viewBox=\"0.00 0.00 466.00 390.00\" xmlns=\"http://www.w3.org/2000/svg\" xmlns:xlink=\"http://www.w3.org/1999/xlink\">\n<g id=\"graph0\" class=\"graph\" transform=\"scale(1 1) rotate(0) translate(4 386)\">\n<title>%3</title>\n<polygon fill=\"white\" stroke=\"transparent\" points=\"-4,4 -4,-386 462,-386 462,4 -4,4\"/>\n<!-- 134149996806368 -->\n<g id=\"node1\" class=\"node\">\n<title>134149996806368</title>\n<polygon fill=\"#caff70\" stroke=\"black\" points=\"359.5,-30 305.5,-30 305.5,0 359.5,0 359.5,-30\"/>\n<text text-anchor=\"middle\" x=\"332.5\" y=\"-18\" font-family=\"monospace\" font-size=\"10.00\">f</text>\n<text text-anchor=\"middle\" x=\"332.5\" y=\"-7\" font-family=\"monospace\" font-size=\"10.00\"> ()</text>\n</g>\n<!-- 134149997088432 -->\n<g id=\"node2\" class=\"node\">\n<title>134149997088432</title>\n<polygon fill=\"lightgrey\" stroke=\"black\" points=\"389,-85 276,-85 276,-66 389,-66 389,-85\"/>\n<text text-anchor=\"middle\" x=\"332.5\" y=\"-73\" font-family=\"monospace\" font-size=\"10.00\">SigmoidBackward0</text>\n</g>\n<!-- 134149997088432&#45;&gt;134149996806368 -->\n<g id=\"edge15\" class=\"edge\">\n<title>134149997088432&#45;&gt;134149996806368</title>\n<path fill=\"none\" stroke=\"black\" d=\"M332.5,-65.87C332.5,-59.11 332.5,-49.35 332.5,-40.26\"/>\n<polygon fill=\"black\" stroke=\"black\" points=\"336,-40.11 332.5,-30.11 329,-40.11 336,-40.11\"/>\n</g>\n<!-- 134149997088048 -->\n<g id=\"node3\" class=\"node\">\n<title>134149997088048</title>\n<polygon fill=\"lightgrey\" stroke=\"black\" points=\"377,-140 288,-140 288,-121 377,-121 377,-140\"/>\n<text text-anchor=\"middle\" x=\"332.5\" y=\"-128\" font-family=\"monospace\" font-size=\"10.00\">AddBackward0</text>\n</g>\n<!-- 134149997088048&#45;&gt;134149997088432 -->\n<g id=\"edge1\" class=\"edge\">\n<title>134149997088048&#45;&gt;134149997088432</title>\n<path fill=\"none\" stroke=\"black\" d=\"M332.5,-120.75C332.5,-113.8 332.5,-103.85 332.5,-95.13\"/>\n<polygon fill=\"black\" stroke=\"black\" points=\"336,-95.09 332.5,-85.09 329,-95.09 336,-95.09\"/>\n</g>\n<!-- 134149997088192 -->\n<g id=\"node4\" class=\"node\">\n<title>134149997088192</title>\n<polygon fill=\"lightgrey\" stroke=\"black\" points=\"321,-195 232,-195 232,-176 321,-176 321,-195\"/>\n<text text-anchor=\"middle\" x=\"276.5\" y=\"-183\" font-family=\"monospace\" font-size=\"10.00\">AddBackward0</text>\n</g>\n<!-- 134149997088192&#45;&gt;134149997088048 -->\n<g id=\"edge2\" class=\"edge\">\n<title>134149997088192&#45;&gt;134149997088048</title>\n<path fill=\"none\" stroke=\"black\" d=\"M285.5,-175.98C293.69,-168.23 306.01,-156.58 315.97,-147.14\"/>\n<polygon fill=\"black\" stroke=\"black\" points=\"318.48,-149.59 323.34,-140.17 313.67,-144.5 318.48,-149.59\"/>\n</g>\n<!-- 134149997087952 -->\n<g id=\"node5\" class=\"node\">\n<title>134149997087952</title>\n<polygon fill=\"lightgrey\" stroke=\"black\" points=\"214,-255.5 125,-255.5 125,-236.5 214,-236.5 214,-255.5\"/>\n<text text-anchor=\"middle\" x=\"169.5\" y=\"-243.5\" font-family=\"monospace\" font-size=\"10.00\">MulBackward0</text>\n</g>\n<!-- 134149997087952&#45;&gt;134149997088192 -->\n<g id=\"edge3\" class=\"edge\">\n<title>134149997087952&#45;&gt;134149997088192</title>\n<path fill=\"none\" stroke=\"black\" d=\"M185.29,-236.37C202.83,-226.78 231.38,-211.17 251.87,-199.97\"/>\n<polygon fill=\"black\" stroke=\"black\" points=\"253.55,-203.04 260.65,-195.17 250.19,-196.89 253.55,-203.04\"/>\n</g>\n<!-- 134149997087808 -->\n<g id=\"node6\" class=\"node\">\n<title>134149997087808</title>\n<polygon fill=\"lightgrey\" stroke=\"black\" points=\"101,-316 0,-316 0,-297 101,-297 101,-316\"/>\n<text text-anchor=\"middle\" x=\"50.5\" y=\"-304\" font-family=\"monospace\" font-size=\"10.00\">AccumulateGrad</text>\n</g>\n<!-- 134149997087808&#45;&gt;134149997087952 -->\n<g id=\"edge4\" class=\"edge\">\n<title>134149997087808&#45;&gt;134149997087952</title>\n<path fill=\"none\" stroke=\"black\" d=\"M67.8,-296.99C87.55,-287.29 120.05,-271.31 142.99,-260.03\"/>\n<polygon fill=\"black\" stroke=\"black\" points=\"144.75,-263.07 152.18,-255.52 141.66,-256.79 144.75,-263.07\"/>\n</g>\n<!-- 134149996723504 -->\n<g id=\"node7\" class=\"node\">\n<title>134149996723504</title>\n<polygon fill=\"lightblue\" stroke=\"black\" points=\"77.5,-382 23.5,-382 23.5,-352 77.5,-352 77.5,-382\"/>\n<text text-anchor=\"middle\" x=\"50.5\" y=\"-370\" font-family=\"monospace\" font-size=\"10.00\">x0</text>\n<text text-anchor=\"middle\" x=\"50.5\" y=\"-359\" font-family=\"monospace\" font-size=\"10.00\"> ()</text>\n</g>\n<!-- 134149996723504&#45;&gt;134149997087808 -->\n<g id=\"edge5\" class=\"edge\">\n<title>134149996723504&#45;&gt;134149997087808</title>\n<path fill=\"none\" stroke=\"black\" d=\"M50.5,-351.84C50.5,-344.21 50.5,-334.7 50.5,-326.45\"/>\n<polygon fill=\"black\" stroke=\"black\" points=\"54,-326.27 50.5,-316.27 47,-326.27 54,-326.27\"/>\n</g>\n<!-- 134149997087856 -->\n<g id=\"node8\" class=\"node\">\n<title>134149997087856</title>\n<polygon fill=\"lightgrey\" stroke=\"black\" points=\"220,-316 119,-316 119,-297 220,-297 220,-316\"/>\n<text text-anchor=\"middle\" x=\"169.5\" y=\"-304\" font-family=\"monospace\" font-size=\"10.00\">AccumulateGrad</text>\n</g>\n<!-- 134149997087856&#45;&gt;134149997087952 -->\n<g id=\"edge6\" class=\"edge\">\n<title>134149997087856&#45;&gt;134149997087952</title>\n<path fill=\"none\" stroke=\"black\" d=\"M169.5,-296.87C169.5,-288.75 169.5,-276.31 169.5,-265.89\"/>\n<polygon fill=\"black\" stroke=\"black\" points=\"173,-265.67 169.5,-255.67 166,-265.67 173,-265.67\"/>\n</g>\n<!-- 134149996723904 -->\n<g id=\"node9\" class=\"node\">\n<title>134149996723904</title>\n<polygon fill=\"lightblue\" stroke=\"black\" points=\"196.5,-382 142.5,-382 142.5,-352 196.5,-352 196.5,-382\"/>\n<text text-anchor=\"middle\" x=\"169.5\" y=\"-370\" font-family=\"monospace\" font-size=\"10.00\">w0</text>\n<text text-anchor=\"middle\" x=\"169.5\" y=\"-359\" font-family=\"monospace\" font-size=\"10.00\"> ()</text>\n</g>\n<!-- 134149996723904&#45;&gt;134149997087856 -->\n<g id=\"edge7\" class=\"edge\">\n<title>134149996723904&#45;&gt;134149997087856</title>\n<path fill=\"none\" stroke=\"black\" d=\"M169.5,-351.84C169.5,-344.21 169.5,-334.7 169.5,-326.45\"/>\n<polygon fill=\"black\" stroke=\"black\" points=\"173,-326.27 169.5,-316.27 166,-326.27 173,-326.27\"/>\n</g>\n<!-- 134149997088288 -->\n<g id=\"node10\" class=\"node\">\n<title>134149997088288</title>\n<polygon fill=\"lightgrey\" stroke=\"black\" points=\"333,-255.5 244,-255.5 244,-236.5 333,-236.5 333,-255.5\"/>\n<text text-anchor=\"middle\" x=\"288.5\" y=\"-243.5\" font-family=\"monospace\" font-size=\"10.00\">MulBackward0</text>\n</g>\n<!-- 134149997088288&#45;&gt;134149997088192 -->\n<g id=\"edge8\" class=\"edge\">\n<title>134149997088288&#45;&gt;134149997088192</title>\n<path fill=\"none\" stroke=\"black\" d=\"M286.73,-236.37C285.05,-228.16 282.46,-215.54 280.31,-205.05\"/>\n<polygon fill=\"black\" stroke=\"black\" points=\"283.72,-204.26 278.28,-195.17 276.86,-205.67 283.72,-204.26\"/>\n</g>\n<!-- 134149997087712 -->\n<g id=\"node11\" class=\"node\">\n<title>134149997087712</title>\n<polygon fill=\"lightgrey\" stroke=\"black\" points=\"339,-316 238,-316 238,-297 339,-297 339,-316\"/>\n<text text-anchor=\"middle\" x=\"288.5\" y=\"-304\" font-family=\"monospace\" font-size=\"10.00\">AccumulateGrad</text>\n</g>\n<!-- 134149997087712&#45;&gt;134149997088288 -->\n<g id=\"edge9\" class=\"edge\">\n<title>134149997087712&#45;&gt;134149997088288</title>\n<path fill=\"none\" stroke=\"black\" d=\"M288.5,-296.87C288.5,-288.75 288.5,-276.31 288.5,-265.89\"/>\n<polygon fill=\"black\" stroke=\"black\" points=\"292,-265.67 288.5,-255.67 285,-265.67 292,-265.67\"/>\n</g>\n<!-- 134149996723744 -->\n<g id=\"node12\" class=\"node\">\n<title>134149996723744</title>\n<polygon fill=\"lightblue\" stroke=\"black\" points=\"315.5,-382 261.5,-382 261.5,-352 315.5,-352 315.5,-382\"/>\n<text text-anchor=\"middle\" x=\"288.5\" y=\"-370\" font-family=\"monospace\" font-size=\"10.00\">x1</text>\n<text text-anchor=\"middle\" x=\"288.5\" y=\"-359\" font-family=\"monospace\" font-size=\"10.00\"> ()</text>\n</g>\n<!-- 134149996723744&#45;&gt;134149997087712 -->\n<g id=\"edge10\" class=\"edge\">\n<title>134149996723744&#45;&gt;134149997087712</title>\n<path fill=\"none\" stroke=\"black\" d=\"M288.5,-351.84C288.5,-344.21 288.5,-334.7 288.5,-326.45\"/>\n<polygon fill=\"black\" stroke=\"black\" points=\"292,-326.27 288.5,-316.27 285,-326.27 292,-326.27\"/>\n</g>\n<!-- 134149997087760 -->\n<g id=\"node13\" class=\"node\">\n<title>134149997087760</title>\n<polygon fill=\"lightgrey\" stroke=\"black\" points=\"458,-316 357,-316 357,-297 458,-297 458,-316\"/>\n<text text-anchor=\"middle\" x=\"407.5\" y=\"-304\" font-family=\"monospace\" font-size=\"10.00\">AccumulateGrad</text>\n</g>\n<!-- 134149997087760&#45;&gt;134149997088288 -->\n<g id=\"edge11\" class=\"edge\">\n<title>134149997087760&#45;&gt;134149997088288</title>\n<path fill=\"none\" stroke=\"black\" d=\"M390.2,-296.99C370.45,-287.29 337.95,-271.31 315.01,-260.03\"/>\n<polygon fill=\"black\" stroke=\"black\" points=\"316.34,-256.79 305.82,-255.52 313.25,-263.07 316.34,-256.79\"/>\n</g>\n<!-- 134149996724064 -->\n<g id=\"node14\" class=\"node\">\n<title>134149996724064</title>\n<polygon fill=\"lightblue\" stroke=\"black\" points=\"434.5,-382 380.5,-382 380.5,-352 434.5,-352 434.5,-382\"/>\n<text text-anchor=\"middle\" x=\"407.5\" y=\"-370\" font-family=\"monospace\" font-size=\"10.00\">w1</text>\n<text text-anchor=\"middle\" x=\"407.5\" y=\"-359\" font-family=\"monospace\" font-size=\"10.00\"> ()</text>\n</g>\n<!-- 134149996724064&#45;&gt;134149997087760 -->\n<g id=\"edge12\" class=\"edge\">\n<title>134149996724064&#45;&gt;134149997087760</title>\n<path fill=\"none\" stroke=\"black\" d=\"M407.5,-351.84C407.5,-344.21 407.5,-334.7 407.5,-326.45\"/>\n<polygon fill=\"black\" stroke=\"black\" points=\"411,-326.27 407.5,-316.27 404,-326.27 411,-326.27\"/>\n</g>\n<!-- 134149997088000 -->\n<g id=\"node15\" class=\"node\">\n<title>134149997088000</title>\n<polygon fill=\"lightgrey\" stroke=\"black\" points=\"440,-195 339,-195 339,-176 440,-176 440,-195\"/>\n<text text-anchor=\"middle\" x=\"389.5\" y=\"-183\" font-family=\"monospace\" font-size=\"10.00\">AccumulateGrad</text>\n</g>\n<!-- 134149997088000&#45;&gt;134149997088048 -->\n<g id=\"edge13\" class=\"edge\">\n<title>134149997088000&#45;&gt;134149997088048</title>\n<path fill=\"none\" stroke=\"black\" d=\"M380.34,-175.98C372,-168.23 359.47,-156.58 349.32,-147.14\"/>\n<polygon fill=\"black\" stroke=\"black\" points=\"351.53,-144.42 341.82,-140.17 346.76,-149.54 351.53,-144.42\"/>\n</g>\n<!-- 134149996806208 -->\n<g id=\"node16\" class=\"node\">\n<title>134149996806208</title>\n<polygon fill=\"lightblue\" stroke=\"black\" points=\"416.5,-261 362.5,-261 362.5,-231 416.5,-231 416.5,-261\"/>\n<text text-anchor=\"middle\" x=\"389.5\" y=\"-249\" font-family=\"monospace\" font-size=\"10.00\">w2</text>\n<text text-anchor=\"middle\" x=\"389.5\" y=\"-238\" font-family=\"monospace\" font-size=\"10.00\"> ()</text>\n</g>\n<!-- 134149996806208&#45;&gt;134149997088000 -->\n<g id=\"edge14\" class=\"edge\">\n<title>134149996806208&#45;&gt;134149997088000</title>\n<path fill=\"none\" stroke=\"black\" d=\"M389.5,-230.84C389.5,-223.21 389.5,-213.7 389.5,-205.45\"/>\n<polygon fill=\"black\" stroke=\"black\" points=\"393,-205.27 389.5,-195.27 386,-205.27 393,-205.27\"/>\n</g>\n</g>\n</svg>\n",
            "text/plain": [
              "<graphviz.graphs.Digraph at 0x7a023aec4ee0>"
            ]
          },
          "metadata": {},
          "execution_count": 15
        }
      ],
      "source": [
        "from torchviz import make_dot\n",
        "\n",
        "make_dot(f, params={\"x0\": x0, \"x1\": x1, \"w0\": w0, \"w1\": w1, \"w2\": w2, \"f\": f})"
      ]
    },
    {
      "cell_type": "markdown",
      "metadata": {
        "id": "Hm-GchPWU8sH"
      },
      "source": [
        "Для того, чтобы рассчитать градиент функции по всем параметрам, надо вызвать метод `backward`:"
      ]
    },
    {
      "cell_type": "code",
      "execution_count": null,
      "metadata": {
        "id": "YHsKB2FqU8sH",
        "outputId": "7b9a581d-f547-42b9-8b91-3d7df6318ffe",
        "colab": {
          "base_uri": "https://localhost:8080/"
        }
      },
      "outputs": [
        {
          "output_type": "stream",
          "name": "stdout",
          "text": [
            "gradient is None before backward\n",
            "w0.grad = None\n",
            "w1.grad = None\n",
            "w2.grad = None\n",
            "\n",
            "gradient computed after backward\n",
            "w0.grad = -0.1966119259595871\n",
            "w1.grad = -0.3932238519191742\n",
            "w2.grad = 0.1966119259595871\n"
          ]
        }
      ],
      "source": [
        "print(\"gradient is None before backward\")\n",
        "print(f\"w0.grad = {w0.grad}\")\n",
        "print(f\"w1.grad = {w1.grad}\")\n",
        "print(f\"w2.grad = {w2.grad}\")\n",
        "\n",
        "# backward pass to compute gradient df/dW\n",
        "f.backward()\n",
        "\n",
        "print(\"\\ngradient computed after backward\")\n",
        "print(f\"w0.grad = {w0.grad}\")\n",
        "print(f\"w1.grad = {w1.grad}\")\n",
        "print(f\"w2.grad = {w2.grad}\")"
      ]
    },
    {
      "cell_type": "markdown",
      "metadata": {
        "id": "Dt9pmRE0U8sH"
      },
      "source": [
        "Получили такие же значения частных производных $\\dfrac{\\partial f}{\\partial w_i}$, как и при вычислении вручную (на иллюстрации градиент расчитан с точностью до двух знаков после запятой, в коде выше получены более точные значения)."
      ]
    },
    {
      "cell_type": "markdown",
      "metadata": {
        "id": "KMhKL8ZJU8sH"
      },
      "source": [
        "<center><img src =\"https://ml.gan4x4.ru/msu/dev-2.2/L05/out/autograd_example.png\" width=\"700\"></center>"
      ]
    },
    {
      "cell_type": "markdown",
      "metadata": {
        "id": "MbFZvykhU8sH"
      },
      "source": [
        "Все те же вычисления, что и несколькими ячейками выше, можно записать короче и произвести за счет скалярного произведения тензора признаков $x$ и тензора весов $w$:"
      ]
    },
    {
      "cell_type": "code",
      "execution_count": null,
      "metadata": {
        "id": "zU9RKSYiU8sH",
        "outputId": "31e8e401-69bb-4d4e-9752-37c98106b656",
        "colab": {
          "base_uri": "https://localhost:8080/"
        }
      },
      "outputs": [
        {
          "output_type": "stream",
          "name": "stdout",
          "text": [
            "W.grad = None (before forward and backward pass grad is 'None')\n",
            "f(x, W) = 0.73\n",
            "W.grad = tensor([-0.1966, -0.3932,  0.1966])\n"
          ]
        }
      ],
      "source": [
        "x = torch.tensor([-1.0, -2.0])  # x from above example\n",
        "\n",
        "x = torch.cat([x, torch.tensor([1.0])])  # concatenate x with 1. for bias trick\n",
        "\n",
        "W = torch.tensor([2.0, -3.0, -3.0], requires_grad=True)  # w from above example\n",
        "\n",
        "print(f\"W.grad = {W.grad} (before forward and backward pass grad is 'None')\")\n",
        "\n",
        "# forward pass to compute f\n",
        "s = x.matmul(W)\n",
        "f = torch.sigmoid(s)\n",
        "print(f\"f(x, W) = {f:.2f}\")\n",
        "\n",
        "# backward pass to compute gradient df/dW\n",
        "f.backward()\n",
        "print(f\"W.grad = {W.grad}\")"
      ]
    },
    {
      "cell_type": "markdown",
      "metadata": {
        "id": "ucU5feUbU8sH"
      },
      "source": [
        "Мы не требовали возможности расчета градиента по аргументу `x` (не указали `requires_grad=True`), поэтому после вызова `f.backward()` градиент по нему не рассчитается:"
      ]
    },
    {
      "cell_type": "code",
      "execution_count": null,
      "metadata": {
        "id": "glISJv4UU8sH",
        "outputId": "c28f2b9a-0eb4-45a6-f5fa-e5749fefd4b5",
        "colab": {
          "base_uri": "https://localhost:8080/"
        }
      },
      "outputs": [
        {
          "output_type": "stream",
          "name": "stdout",
          "text": [
            "x.grad = None\n"
          ]
        }
      ],
      "source": [
        "print(f\"x.grad = {x.grad}\")"
      ]
    },
    {
      "cell_type": "markdown",
      "metadata": {
        "id": "ZP08zOioU8sI"
      },
      "source": [
        "Отсоединение тензора от графа вычислений производится с помощью `.detach()` (используется, если нужно производить какие-либо дальнейшие операции с тензором, но чтобы они не становились частью вычислительного графа):"
      ]
    },
    {
      "cell_type": "code",
      "execution_count": null,
      "metadata": {
        "id": "WB4vTpsuU8sI",
        "outputId": "f0b88e7b-e2d6-46be-bb46-19c8c2c8ba56",
        "colab": {
          "base_uri": "https://localhost:8080/"
        }
      },
      "outputs": [
        {
          "output_type": "stream",
          "name": "stdout",
          "text": [
            "f_detached = 0.73\n",
            "f_detached type: <class 'torch.Tensor'>\n"
          ]
        }
      ],
      "source": [
        "f_detached = f.detach()\n",
        "\n",
        "print(f\"f_detached = {f_detached:.2f}\")\n",
        "print(f\"f_detached type: {type(f_detached)}\")"
      ]
    },
    {
      "cell_type": "markdown",
      "metadata": {
        "id": "x6cfc6jQU8sI"
      },
      "source": [
        "Также от тензора, содержащего скаляр, можно получить его величину с помощью `.item()`:"
      ]
    },
    {
      "cell_type": "code",
      "execution_count": null,
      "metadata": {
        "id": "1YQXa7O2U8sI",
        "outputId": "3db102a0-3133-4626-dd9e-2b4ba96d6395",
        "colab": {
          "base_uri": "https://localhost:8080/"
        }
      },
      "outputs": [
        {
          "output_type": "stream",
          "name": "stdout",
          "text": [
            "value = 0.73\n",
            "value type: <class 'float'>\n"
          ]
        }
      ],
      "source": [
        "value = f_detached.item()\n",
        "\n",
        "print(f\"value = {value:.2f}\")\n",
        "print(f\"value type: {type(value)}\")"
      ]
    },
    {
      "cell_type": "markdown",
      "metadata": {
        "id": "QTbe5-VIU8sI"
      },
      "source": [
        "###  Обратное распространение в PyTorch\n"
      ]
    },
    {
      "cell_type": "markdown",
      "metadata": {
        "id": "QSksA4owU8sI"
      },
      "source": [
        "Рассмотрим алгоритм обратного распространения на примере вычисления квадрата ошибки для линейной регрессии (для простоты не будем рассматривать смещение):\n",
        "\n",
        "$$\\large y=w\\cdot x, \\quad при \\;x=[1,2,3,4],\\;y=[2,4,6,8],\\;w=1$$\n",
        "\n",
        "В данном примере видно, что предсказанный моделью $\\hat{y}=[1,2,3,4]$ не совпадает с истинными значениями $y$, и, соответственно, квадратичная ошибка для такого примера будет:\n",
        "\n",
        "$$\\large \\text{MSE}=\\frac{1}{4}\\sum_{i=1}^4E_i^2=\\frac{1}{4}\\sum_{i=1}^4(\\hat{y}_i-y_i)^2=\\frac{1+4+9+16}{4}=7.5$$\n",
        "\n",
        "Градиент функции потерь по весу $w$ вычисляется следующим образом, в соответствии с цепным правилом:\n",
        "\n",
        "$$\\large \\frac{\\partial \\text{MSE}}{\\partial w} = \\frac{\\partial \\text{MSE}}{\\partial E}\\cdot \\frac{\\partial E}{\\partial \\hat{y}}\\cdot \\frac{\\partial \\hat{y}}{\\partial w}$$\n",
        "\n",
        "Рассчитаем его с использованием PyTorch:\n",
        "\n"
      ]
    },
    {
      "cell_type": "code",
      "execution_count": null,
      "metadata": {
        "id": "E1PBzzumU8sI",
        "outputId": "178a5e51-e1a7-49c4-c96e-939719bc99a9",
        "colab": {
          "base_uri": "https://localhost:8080/"
        }
      },
      "outputs": [
        {
          "output_type": "stream",
          "name": "stdout",
          "text": [
            "W.grad = None (before forward pass must be 'None')\n",
            "\n",
            "MSE = 7.5\n",
            "W.grad = -15.0\n"
          ]
        }
      ],
      "source": [
        "x_train = torch.tensor([1, 2, 3, 4], dtype=torch.float32)\n",
        "y_train = torch.tensor([2, 4, 6, 8], dtype=torch.float32)\n",
        "\n",
        "# This is the parameter we want to optimize -> requires_grad=True\n",
        "W = torch.tensor(1.0, dtype=torch.float32, requires_grad=True)\n",
        "print(f\"W.grad = {W.grad} (before forward pass must be 'None')\\n\")\n",
        "\n",
        "# forward pass to compute MSE\n",
        "y_pred = W * x_train\n",
        "E = y_pred - y_train\n",
        "SE = E**2\n",
        "MSE = SE.mean()\n",
        "print(f\"MSE = {MSE}\")\n",
        "\n",
        "# backward pass to compute gradient dMSE/dw\n",
        "MSE.backward()\n",
        "print(f\"W.grad = {W.grad}\")"
      ]
    },
    {
      "cell_type": "markdown",
      "metadata": {
        "id": "Dp4htbjmU8sI"
      },
      "source": [
        "В данном примере мы произвели следующие расчеты:\n",
        "\n",
        "$\\displaystyle\\frac{\\partial \\text{MSE}}{\\partial E}=\\frac{1}{4}\\frac{\\partial E^2}{\\partial E}=\\frac{1}{4}\\cdot2\\cdot E=\\frac{1}{2}*[-1, -2, -3, -4]=[-0.5, -1, -1.5, -2]\\quad $ $*$ — поэлементное умножение\n",
        "\n",
        "$\\displaystyle \\frac{\\partial E}{\\partial \\hat{y}}=\\frac{\\partial (\\hat{y}-y)}{\\partial \\hat{y}}=1$\n",
        "\n",
        "$\\displaystyle \\frac{\\partial \\hat{y}}{\\partial w}=\\frac{\\partial wx}{\\partial w}=x=[1, 2, 3, 4]$\n",
        "\n",
        "$\\displaystyle \\frac{\\partial \\text{MSE}}{\\partial w} = \\frac{\\partial \\text{MSE}}{\\partial E}\\cdot \\frac{\\partial E}{\\partial \\hat{y}}\\cdot \\frac{\\partial \\hat{y}}{\\partial w}=\\sum[-0.5, -1, -1.5, -2]*[1, 2, 3, 4]=-0.5-2-4.5-8=-15$"
      ]
    },
    {
      "cell_type": "markdown",
      "metadata": {
        "id": "6JYtFI2eU8sI"
      },
      "source": [
        "`MSE.backward()` автоматически вычисляет градиент $\\dfrac{\\partial \\text{MSE}}{\\partial w}$ при указании `requires_grad=True`.\n",
        "Результаты вычислений будут храниться в `W.grad`. Для всех промежуточных переменных градиенты не сохраняются, поэтому попытка обратиться, например, к `E.grad` выдаст ошибку.\n",
        "\n",
        "Также после однократного обратного прохода в целях экономии памяти граф, используемый для вычисления градиента, будет удаляться, и следующий запуск `MSE.backward()` будет выдавать ошибку:"
      ]
    },
    {
      "cell_type": "markdown",
      "metadata": {
        "id": "X-K0tI6LU8sI"
      },
      "source": [
        "\n",
        "\n",
        "```\n",
        "MSE.backward() # Error on second backward call\n",
        "```\n",
        "\n"
      ]
    },
    {
      "cell_type": "markdown",
      "metadata": {
        "id": "eu8Cv1UqU8sI"
      },
      "source": [
        "Чтобы сохранить вычислительный граф, нужно взывать `backward()` с параметром `retain_graph=True`. В таком случае значения градиентов, полученные на следующих итерациях обратного распространения ошибки, будут складываться с текущими значениями градиентов.\n",
        "\n",
        "Градиенты переменных, для которых был указан `requires_grad=True`, сохраняются автоматически. Чтобы избежать их накопления при многократном итерировании алгоритма обратного распространения, нужно обнулять градиент на каждом шаге с помощью метода `Тensor.grad.zero_()`."
      ]
    },
    {
      "cell_type": "code",
      "execution_count": null,
      "metadata": {
        "id": "FA9ZjudiU8sI",
        "outputId": "33fe4e68-5b0e-481b-b75e-d5401a6f7ab8",
        "colab": {
          "base_uri": "https://localhost:8080/"
        }
      },
      "outputs": [
        {
          "output_type": "stream",
          "name": "stdout",
          "text": [
            "Backward 1:\n",
            "dMSE/dW = -15.0 \n",
            "\n",
            "Without forward, backward 2. Gradient is accumulating:\n",
            "dMSE/dW = -30.0\n",
            "\n",
            "Backward 3, but firstly nullify gradients:\n",
            "dMSE/dW = -15.0\n"
          ]
        }
      ],
      "source": [
        "x_train = torch.tensor([1, 2, 3, 4], dtype=torch.float32)\n",
        "y_train = torch.tensor([2, 4, 6, 8], dtype=torch.float32)\n",
        "\n",
        "# This is the parameter we want to optimize -> requires_grad=True\n",
        "W = torch.tensor(1.0, dtype=torch.float32, requires_grad=True)\n",
        "\n",
        "# forward pass to compute MSE\n",
        "y_pred = W * x_train\n",
        "MSE = ((y_pred - y_train) ** 2).mean()\n",
        "\n",
        "print(\"Backward 1:\")\n",
        "MSE.backward(retain_graph=True)\n",
        "print(f\"dMSE/dW = {W.grad} \\n\")\n",
        "\n",
        "print(\"Without forward, backward 2. Gradient is accumulating:\")\n",
        "MSE.backward(retain_graph=True)\n",
        "# Gradients are accumulated\n",
        "print(f\"dMSE/dW = {W.grad}\\n\")\n",
        "\n",
        "print(\"Backward 3, but firstly nullify gradients:\")\n",
        "W.grad.zero_()  # Nullify gradients for W for the next iteration\n",
        "MSE.backward(retain_graph=True)\n",
        "print(f\"dMSE/dW = {W.grad}\")"
      ]
    },
    {
      "cell_type": "markdown",
      "metadata": {
        "id": "8pnK9FRrU8sJ"
      },
      "source": [
        "Итак, мы умеем вычислять градиент $\\displaystyle \\frac{\\partial \\text{MSE}}{\\partial w}$ для нашего примера. Теперь давайте с его помощью оптимизируем веса, используя алгоритм обратного распространения ошибки:"
      ]
    },
    {
      "cell_type": "code",
      "execution_count": null,
      "metadata": {
        "id": "ZJaPzpQcU8sJ",
        "outputId": "dac7c299-29a8-4409-aee0-c25ad8ab21f8",
        "colab": {
          "base_uri": "https://localhost:8080/"
        }
      },
      "outputs": [
        {
          "output_type": "stream",
          "name": "stdout",
          "text": [
            "Prediction before training: f(x) = tensor([1., 2., 3., 4.], grad_fn=<MulBackward0>)\n",
            "True values: y = tensor([2., 4., 6., 8.])\n",
            "\n",
            "epoch 1: w = 1.144, loss = 6.41718674\n",
            "epoch 11: w = 1.608, loss = 1.34952068\n",
            "epoch 21: w = 1.820, loss = 0.28380114\n",
            "epoch 31: w = 1.917, loss = 0.05968266\n",
            "epoch 41: w = 1.962, loss = 0.01255111\n",
            "epoch 51: w = 1.983, loss = 0.00263946\n",
            "epoch 61: w = 1.992, loss = 0.00055505\n",
            "epoch 71: w = 1.996, loss = 0.00011674\n",
            "epoch 81: w = 1.998, loss = 0.00002455\n",
            "epoch 91: w = 1.999, loss = 0.00000516\n",
            "epoch 101: w = 2.000, loss = 0.00000109\n",
            "\n",
            "Prediction after training: f(x) = tensor([1.9996, 3.9993, 5.9989, 7.9986], grad_fn=<MulBackward0>)\n",
            "True values: y = tensor([2., 4., 6., 8.])\n"
          ]
        }
      ],
      "source": [
        "x_train = torch.tensor([1, 2, 3, 4], dtype=torch.float32)\n",
        "y_train = torch.tensor([2, 4, 6, 8], dtype=torch.float32)\n",
        "\n",
        "W = torch.tensor(1.0, dtype=torch.float32, requires_grad=True)\n",
        "\n",
        "\n",
        "# Define model output\n",
        "def forward(x_train):\n",
        "    return W * x_train\n",
        "\n",
        "\n",
        "# Compute MSE loss\n",
        "def criterion(y_pred, y_train):\n",
        "    return ((y_pred - y_train) ** 2).mean()\n",
        "\n",
        "\n",
        "print(f\"Prediction before training: f(x) = {forward(x_train)}\")\n",
        "print(f\"True values: y = {y_train}\\n\")\n",
        "\n",
        "# Training\n",
        "learning_rate = 0.005\n",
        "num_epochs = 102\n",
        "\n",
        "for epoch in range(num_epochs):\n",
        "    # Propagate forward\n",
        "    y_pred = forward(x_train)\n",
        "\n",
        "    # Compute MSE loss\n",
        "    MSE = criterion(y_pred, y_train)\n",
        "\n",
        "    # Propagate backward, compute gradients\n",
        "    MSE.backward()\n",
        "\n",
        "    # Update weights\n",
        "    with torch.no_grad():  #  We don't want this step to be the part of the computational graph\n",
        "        W -= learning_rate * W.grad\n",
        "\n",
        "    # Nullify gradients after updating to avoid their accumulation\n",
        "    W.grad.zero_()\n",
        "\n",
        "    if epoch % 10 == 1:\n",
        "        print(f\"epoch {epoch}: w = {W.item():.3f}, loss = {MSE.item():.8f}\")\n",
        "\n",
        "print(f\"\\nPrediction after training: f(x) = {forward(x_train)}\")\n",
        "print(f\"True values: y = {y_train}\")"
      ]
    },
    {
      "cell_type": "markdown",
      "metadata": {
        "id": "57UvS_PCU8sJ"
      },
      "source": [
        "Видно, что наш подход позволяет оптимизировать вес $w$ регрессии из примера и таким образом добиться почти идеального предсказания нашей модели, однако в данном подходе дополнительно можно автоматизировать вычисление функции потерь и обновление параметров с учетом градиента, используя готовые функции потерь из `torch.nn` и оптимизаторы из `torch.optim`."
      ]
    },
    {
      "cell_type": "code",
      "execution_count": null,
      "metadata": {
        "id": "d9bhvcqEU8sJ",
        "outputId": "7a112b45-11c7-4d95-f142-d566d5e02c57",
        "colab": {
          "base_uri": "https://localhost:8080/"
        }
      },
      "outputs": [
        {
          "output_type": "stream",
          "name": "stdout",
          "text": [
            "Prediction before training: f(x) = tensor([1., 2., 3., 4.], grad_fn=<MulBackward0>)\n",
            "True values: y = tensor([2., 4., 6., 8.])\n",
            "\n",
            "epoch 1: w = 1.144, loss = 6.41718674\n",
            "epoch 11: w = 1.608, loss = 1.34951985\n",
            "epoch 21: w = 1.820, loss = 0.28380090\n",
            "epoch 31: w = 1.917, loss = 0.05968266\n",
            "epoch 41: w = 1.962, loss = 0.01255111\n",
            "epoch 51: w = 1.983, loss = 0.00263946\n",
            "epoch 61: w = 1.992, loss = 0.00055505\n",
            "epoch 71: w = 1.996, loss = 0.00011674\n",
            "epoch 81: w = 1.998, loss = 0.00002455\n",
            "epoch 91: w = 1.999, loss = 0.00000516\n",
            "epoch 101: w = 2.000, loss = 0.00000109\n",
            "\n",
            "Prediction after training: f(x) = tensor([1.9996, 3.9993, 5.9989, 7.9986], grad_fn=<MulBackward0>)\n",
            "True values: y = tensor([2., 4., 6., 8.])\n"
          ]
        }
      ],
      "source": [
        "import torch.nn as nn\n",
        "\n",
        "\n",
        "x_train = torch.tensor([1, 2, 3, 4], dtype=torch.float32)\n",
        "y_train = torch.tensor([2, 4, 6, 8], dtype=torch.float32)\n",
        "\n",
        "W = torch.tensor(1.0, dtype=torch.float32, requires_grad=True)\n",
        "\n",
        "\n",
        "# Define model output\n",
        "def forward(x_train):\n",
        "    return W * x_train\n",
        "\n",
        "\n",
        "print(f\"Prediction before training: f(x) = {forward(x_train)}\")\n",
        "print(f\"True values: y = {y_train}\\n\")\n",
        "\n",
        "# Training\n",
        "learning_rate = 0.005\n",
        "num_epochs = 102\n",
        "\n",
        "criterion = nn.MSELoss()\n",
        "optimizer = torch.optim.SGD([W], lr=learning_rate)\n",
        "\n",
        "for epoch in range(num_epochs):\n",
        "    # Propagate forward\n",
        "    y_pred = forward(x_train)\n",
        "\n",
        "    # Compute MSE loss\n",
        "    MSE = criterion(y_pred, y_train)\n",
        "\n",
        "    # Propagate backward, compute gradients\n",
        "    MSE.backward()\n",
        "\n",
        "    # Update weights\n",
        "    optimizer.step()\n",
        "\n",
        "    # Nullify gradients after updating to avoid their accumulation\n",
        "    optimizer.zero_grad()\n",
        "\n",
        "    if epoch % 10 == 1:\n",
        "        print(f\"epoch {epoch}: w = {W.item():.3f}, loss = {MSE.item():.8f}\")\n",
        "\n",
        "print(f\"\\nPrediction after training: f(x) = {forward(x_train)}\")\n",
        "print(f\"True values: y = {y_train}\")"
      ]
    }
  ]
}