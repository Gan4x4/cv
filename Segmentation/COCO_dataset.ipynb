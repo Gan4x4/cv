{
  "nbformat": 4,
  "nbformat_minor": 0,
  "metadata": {
    "colab": {
      "provenance": []
    },
    "kernelspec": {
      "name": "python3",
      "display_name": "Python 3"
    },
    "language_info": {
      "name": "python"
    }
  },
  "cells": [
    {
      "cell_type": "markdown",
      "metadata": {
        "id": "Cv5Ral_Yu9XT"
      },
      "source": [
        "## Dataset COCO — Common Objects in Context"
      ]
    },
    {
      "cell_type": "markdown",
      "metadata": {
        "id": "7kjyPIGOu9XV"
      },
      "source": [
        "Прежде чем говорить о способах решения этих задач, надо разобраться с форматами входных данных. Сделаем это на примере датасета [COCO 🛠️[doc]](https://cocodataset.org/).\n",
        "\n",
        "COCO — один из наиболее популярных датасатов, содержащий данные для сегментации и детектирования. Он содержит более трёхсот тысяч изображений, большая часть из которых размечена и содержит следующую информацию:\n",
        "- категории;\n",
        "- маски;\n",
        "- ограничивающие боксы (*bounding boxes*);\n",
        "- описания (*captions*);\n",
        "- ключевые точки (*keypoints*);\n",
        "- и многое другое.\n",
        "\n",
        "Формат разметки изображений, использованный в этом датасете, нередко используется и в других наборах данных. Как правило, он упоминается просто как \"COCO format\"."
      ]
    },
    {
      "cell_type": "markdown",
      "metadata": {
        "id": "8QxY6q2fu9XX"
      },
      "source": [
        "Загрузим датасет:"
      ]
    },
    {
      "cell_type": "code",
      "execution_count": null,
      "metadata": {
        "id": "bcjDylu2u9Xb"
      },
      "outputs": [],
      "source": [
        "# !wget -qN \"http://images.cocodataset.org/annotations/annotations_trainval2017.zip\"\n",
        "!wget -qN \"https://edunet.kea.su/repo/EduNet-web_dependencies/datasets/annotations_trainval2017.zip\"\n",
        "!unzip -qn annotations_trainval2017.zip"
      ]
    },
    {
      "cell_type": "markdown",
      "metadata": {
        "id": "2oSncN91u9Xd"
      },
      "source": [
        "Для работы с датасетом используется пакет `pycocotools`.\n",
        "\n",
        "[[blog] ✏️ Как создать свой COCO датасет с нуля](https://www.immersivelimit.com/tutorials/create-coco-annotations-from-scratch)"
      ]
    },
    {
      "cell_type": "code",
      "execution_count": null,
      "metadata": {
        "id": "nTWdwmnpu9Xe"
      },
      "outputs": [],
      "source": [
        "from pycocotools.coco import COCO\n",
        "\n",
        "coco = COCO(\"annotations/instances_val2017.json\")"
      ]
    },
    {
      "cell_type": "markdown",
      "metadata": {
        "id": "DF3WZDkHu9Xg"
      },
      "source": [
        "Рассмотрим формат аннотаций на примере одной записи:"
      ]
    },
    {
      "cell_type": "code",
      "execution_count": null,
      "metadata": {
        "id": "u46_fiG2u9Xh"
      },
      "outputs": [],
      "source": [
        "catIds = coco.getCatIds(catNms=[\"cat\"])  #  Find category ID by tag\n",
        "print(\"class ID(cat) =\", catIds)\n",
        "\n",
        "imgIds = coco.getImgIds(catIds=catIds)  # Filtering dataset by category ID\n",
        "print(\"All images: %i\" % len(imgIds))"
      ]
    },
    {
      "cell_type": "markdown",
      "metadata": {
        "id": "wn0Hvcf2u9Xh"
      },
      "source": [
        "Рассмотрим метаданные для первого изображения из категории:"
      ]
    },
    {
      "cell_type": "code",
      "execution_count": null,
      "metadata": {
        "id": "gwjOPojEu9Xi"
      },
      "outputs": [],
      "source": [
        "img_list = coco.loadImgs(imgIds[0])  # 1 example\n",
        "img_metadata = img_list[0]\n",
        "img_metadata"
      ]
    },
    {
      "cell_type": "markdown",
      "metadata": {
        "id": "SRvknYQ7u9Xi"
      },
      "source": [
        "Посмотрим на изображение."
      ]
    },
    {
      "cell_type": "code",
      "execution_count": null,
      "metadata": {
        "id": "55g9RFUwu9Xj"
      },
      "outputs": [],
      "source": [
        "import requests\n",
        "import matplotlib.pyplot as plt\n",
        "from PIL import Image\n",
        "from io import BytesIO\n",
        "\n",
        "\n",
        "def coco2pil(url):\n",
        "    response = requests.get(url)\n",
        "    return Image.open(BytesIO(response.content))\n",
        "\n",
        "\n",
        "I = coco2pil(img_metadata[\"coco_url\"])\n",
        "plt.axis(\"off\")\n",
        "plt.imshow(I)\n",
        "plt.show()"
      ]
    },
    {
      "cell_type": "markdown",
      "metadata": {
        "id": "j8ChroPEu9Xj"
      },
      "source": [
        "### Категории в COCO"
      ]
    },
    {
      "cell_type": "markdown",
      "metadata": {
        "id": "-5rRWOelu9Xk"
      },
      "source": [
        "Давайте посмотрим на категории в датасете."
      ]
    },
    {
      "cell_type": "code",
      "execution_count": null,
      "metadata": {
        "id": "qTN6Drgxu9Xk"
      },
      "outputs": [],
      "source": [
        "cats = coco.loadCats(coco.getCatIds())  # loading categories\n",
        "num2cat = {}\n",
        "print(\"COCO categories: \")\n",
        "\n",
        "iterator = iter(cats)\n",
        "cat = next(iterator)\n",
        "for i in range(0, 91):\n",
        "    if i == cat[\"id\"]:\n",
        "        num2cat[cat[\"id\"]] = cat[\"name\"]\n",
        "        name = cat[\"name\"]\n",
        "        if i < 90:\n",
        "            cat = next(iterator)\n",
        "    else:\n",
        "        name = \"---\"\n",
        "\n",
        "    print(f\"{i:2}. {name:20}\", end=\"\")\n",
        "\n",
        "    if not i % 6:\n",
        "        print(\"\\n\")"
      ]
    },
    {
      "cell_type": "markdown",
      "metadata": {
        "id": "6bypzFEJu9Xk"
      },
      "source": [
        "Категория **0** используется для обозначения класса фона. Некоторые номера категорий не заняты."
      ]
    },
    {
      "cell_type": "markdown",
      "metadata": {
        "id": "o_1QmD_nu9Xl"
      },
      "source": [
        "Также существуют надкатегории."
      ]
    },
    {
      "cell_type": "code",
      "execution_count": null,
      "metadata": {
        "id": "iEl8lPXiu9Xl"
      },
      "outputs": [],
      "source": [
        "print(f\"categories[2]: {cats[2]}\")\n",
        "print(f\"categories[3]: {cats[3]}\")\n",
        "\n",
        "nms = set([cat[\"supercategory\"] for cat in cats])\n",
        "print(\"COCO supercategories: \\n{}\".format(\"\\t\".join(nms)))"
      ]
    },
    {
      "cell_type": "markdown",
      "metadata": {
        "id": "QHerUn1Fu9Xm"
      },
      "source": [
        "### Разметка данных"
      ]
    },
    {
      "cell_type": "markdown",
      "metadata": {
        "id": "6V7E2QMLu9Xo"
      },
      "source": [
        "Помимо метаданных нам доступна [разметка 🛠️[doc]](https://cocodataset.org/#format-data). Давайте её загрузим и отобразим."
      ]
    },
    {
      "cell_type": "code",
      "execution_count": null,
      "metadata": {
        "id": "2GBguG5wu9Xo"
      },
      "outputs": [],
      "source": [
        "annIds = coco.getAnnIds(imgIds=img_metadata[\"id\"])\n",
        "anns = coco.loadAnns(annIds)\n",
        "\n",
        "plt.imshow(I)\n",
        "plt.axis(\"off\")\n",
        "coco.showAnns(anns)\n",
        "plt.show()"
      ]
    },
    {
      "cell_type": "markdown",
      "metadata": {
        "id": "1QTJkrRMu9Xq"
      },
      "source": [
        "На изображении можно увидеть разметку пикселей изображения по классам. То есть пиксели из объектов, относящихся к интересующим классам, приписываются к классу этого объекта. К примеру, можно увидеть объекты двух классов: \"cat\" и \"keyboard\".\n",
        "\n",
        "Давайте теперь посмотрим, из чего состоит разметка."
      ]
    },
    {
      "cell_type": "code",
      "execution_count": null,
      "metadata": {
        "id": "7EYRsYQDu9Xq"
      },
      "outputs": [],
      "source": [
        "def dump_anns(anns):\n",
        "    for i, a in enumerate(anns):\n",
        "        print(f\"\\n#{i}\")\n",
        "        for k in a.keys():\n",
        "            if k == \"category_id\" and num2cat.get(a[k], None):\n",
        "                print(k, \": \", a[k], num2cat[a[k]])  # Show cat. name\n",
        "            else:\n",
        "                print(k, \": \", a[k])\n",
        "\n",
        "\n",
        "dump_anns(anns)"
      ]
    },
    {
      "cell_type": "markdown",
      "metadata": {
        "id": "09JrCucKu9Xr"
      },
      "source": [
        "Заметим, что аннотация изображения может состоять из описаний нескольких объектов, каждое из которых содержит следующую информацию:\n",
        "* `segmentation` — последовательность пар чисел ($x$, $y$) — координат каждой из вершин \"оболочки\" объекта;\n",
        "* `area` — площадь объекта;\n",
        "* `iscrowd` — несколько объектов, например, толпа людей, в этом случае информация о границах объекта (маска) хранится в формате [RLE 📚[wiki]](https://en.wikipedia.org/wiki/Run-length_encoding);\n",
        "* `image_id` — идентификатор изображения, к которому принадлежит описываемый объект;\n",
        "* `bbox` — ограничивающий прямоугольник,*будет рассмотрен далее в ходе лекции*;\n",
        "* `category_id` — идентификатор категории, к которой относится данный объект;\n",
        "* `id` — идентификатор самого объекта.\n",
        "\n",
        "Попробуем посмотреть на пример, в котором `iscrowd = True`."
      ]
    },
    {
      "cell_type": "code",
      "execution_count": null,
      "metadata": {
        "id": "Iv7x7Iy-u9Xr"
      },
      "outputs": [],
      "source": [
        "catIds = coco.getCatIds(catNms=[\"people\"])\n",
        "annIds = coco.getAnnIds(catIds=catIds, iscrowd=True)\n",
        "anns = coco.loadAnns(annIds[0:1])\n",
        "\n",
        "dump_anns(anns)\n",
        "img = coco.loadImgs(anns[0][\"image_id\"])[0]\n",
        "I = coco2pil(img[\"coco_url\"])\n",
        "plt.imshow(I)\n",
        "coco.showAnns(anns)  # People in the stands\n",
        "seg = anns[0][\"segmentation\"]\n",
        "print(\"Counts\", len(seg[\"counts\"]))\n",
        "print(\"Size\", seg[\"size\"])\n",
        "plt.axis(\"off\")\n",
        "plt.show()"
      ]
    },
    {
      "cell_type": "markdown",
      "metadata": {
        "id": "VLBD3tA2u9Xr"
      },
      "source": [
        "[[video] 📺 COCO Dataset Format — Complete Walkthrough](https://www.youtube.com/watch?v=h6s61a_pqfM)"
      ]
    },
    {
      "cell_type": "markdown",
      "metadata": {
        "id": "DOvdGYjEu9Xr"
      },
      "source": [
        "Используя методы из `pycocotools`, можно  преобразовать набор вершин \"оболочки\" сегментируемого объекта в более удобный, но менее компактный вид — маску объекта."
      ]
    },
    {
      "cell_type": "code",
      "execution_count": null,
      "metadata": {
        "id": "Mu0XrO6ju9Xs"
      },
      "outputs": [],
      "source": [
        "import numpy as np\n",
        "\n",
        "annIds = coco.getAnnIds(imgIds=[448263])\n",
        "anns = coco.loadAnns(annIds)\n",
        "msk = np.zeros(seg[\"size\"])\n",
        "\n",
        "fig, ax = plt.subplots(nrows=4, ncols=4, figsize=(10, 10))\n",
        "\n",
        "\n",
        "i = 0\n",
        "for row in range(4):\n",
        "    for col in range(4):\n",
        "        ann = anns[i]\n",
        "        msk = coco.annToMask(ann)\n",
        "        ax[row, col].imshow(msk, cmap=\"gray\")\n",
        "        ax[row, col].set_title(num2cat[anns[i][\"category_id\"]])\n",
        "        ax[row, col].axis(\"off\")\n",
        "        i += 1\n",
        "\n",
        "plt.show()"
      ]
    },
    {
      "cell_type": "markdown",
      "metadata": {
        "id": "EdNJPOqiu9Xt"
      },
      "source": [
        "В некоторых случаях попиксельная разметка изображения может быть избыточной. К примеру, если необходимо посчитать количество человек на изображении, то достаточно просто каким-то образом промаркировать каждого из них, после чего посчитать количество наших \"отметок\". Одним из вариантов маркировки является \"обведение\" объекта рамкой (bounding box), внутри которой он находится. Такая информация об объектах также сохранена в аннотациях формата COCO."
      ]
    },
    {
      "cell_type": "code",
      "execution_count": null,
      "metadata": {
        "id": "ndtlEyLMu9Xt"
      },
      "outputs": [],
      "source": [
        "from PIL import ImageDraw\n",
        "\n",
        "annIds = coco.getAnnIds(imgIds=[448263])\n",
        "anns = coco.loadAnns(annIds)\n",
        "draw = ImageDraw.Draw(I)\n",
        "\n",
        "colors = {1: \"white\", 40: \"lime\"}  # person - white, glove - lime\n",
        "for ann in anns:\n",
        "    x, y, width, heigth = ann[\"bbox\"]  # bounding box here\n",
        "    color = colors.get(ann[\"category_id\"], None)\n",
        "    if color:\n",
        "        draw.rectangle((x, y, x + width, y + heigth), outline=color, width=2)\n",
        "plt.imshow(I)\n",
        "plt.show()"
      ]
    }
  ]
}