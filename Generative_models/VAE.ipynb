{
  "nbformat": 4,
  "nbformat_minor": 0,
  "metadata": {
    "colab": {
      "provenance": []
    },
    "kernelspec": {
      "name": "python3",
      "display_name": "Python 3"
    },
    "language_info": {
      "name": "python"
    },
    "widgets": {
      "application/vnd.jupyter.widget-state+json": {
        "d2cc21a5275d4e45969574f10f9680ab": {
          "model_module": "@jupyter-widgets/controls",
          "model_name": "HBoxModel",
          "model_module_version": "1.5.0",
          "state": {
            "_dom_classes": [],
            "_model_module": "@jupyter-widgets/controls",
            "_model_module_version": "1.5.0",
            "_model_name": "HBoxModel",
            "_view_count": null,
            "_view_module": "@jupyter-widgets/controls",
            "_view_module_version": "1.5.0",
            "_view_name": "HBoxView",
            "box_style": "",
            "children": [
              "IPY_MODEL_c87e0ad792cf490089d1be60d9f53b27",
              "IPY_MODEL_81234f684121492c8e13872b89360e83",
              "IPY_MODEL_a3faa483872b41a59cfd382b995c37ab"
            ],
            "layout": "IPY_MODEL_e89c214dbcfc4e41812a51fe6eb7e829"
          }
        },
        "c87e0ad792cf490089d1be60d9f53b27": {
          "model_module": "@jupyter-widgets/controls",
          "model_name": "HTMLModel",
          "model_module_version": "1.5.0",
          "state": {
            "_dom_classes": [],
            "_model_module": "@jupyter-widgets/controls",
            "_model_module_version": "1.5.0",
            "_model_name": "HTMLModel",
            "_view_count": null,
            "_view_module": "@jupyter-widgets/controls",
            "_view_module_version": "1.5.0",
            "_view_name": "HTMLView",
            "description": "",
            "description_tooltip": null,
            "layout": "IPY_MODEL_798deccc6ce14108ae7f7f3d329665ec",
            "placeholder": "​",
            "style": "IPY_MODEL_1ba3cc6f7a0d447ca996067b73ebae7c",
            "value": "Sanity Checking DataLoader 0: 100%"
          }
        },
        "81234f684121492c8e13872b89360e83": {
          "model_module": "@jupyter-widgets/controls",
          "model_name": "FloatProgressModel",
          "model_module_version": "1.5.0",
          "state": {
            "_dom_classes": [],
            "_model_module": "@jupyter-widgets/controls",
            "_model_module_version": "1.5.0",
            "_model_name": "FloatProgressModel",
            "_view_count": null,
            "_view_module": "@jupyter-widgets/controls",
            "_view_module_version": "1.5.0",
            "_view_name": "ProgressView",
            "bar_style": "",
            "description": "",
            "description_tooltip": null,
            "layout": "IPY_MODEL_684471eefc5443c49ec825ef3f84ba4d",
            "max": 2,
            "min": 0,
            "orientation": "horizontal",
            "style": "IPY_MODEL_bce2d6a077864a989b987a639b8723b6",
            "value": 2
          }
        },
        "a3faa483872b41a59cfd382b995c37ab": {
          "model_module": "@jupyter-widgets/controls",
          "model_name": "HTMLModel",
          "model_module_version": "1.5.0",
          "state": {
            "_dom_classes": [],
            "_model_module": "@jupyter-widgets/controls",
            "_model_module_version": "1.5.0",
            "_model_name": "HTMLModel",
            "_view_count": null,
            "_view_module": "@jupyter-widgets/controls",
            "_view_module_version": "1.5.0",
            "_view_name": "HTMLView",
            "description": "",
            "description_tooltip": null,
            "layout": "IPY_MODEL_0e682ad8d9964e49bf582144b739e25a",
            "placeholder": "​",
            "style": "IPY_MODEL_4e62dc8ec130404487da23c59cf0c5a2",
            "value": " 2/2 [00:00&lt;00:00,  4.54it/s]"
          }
        },
        "e89c214dbcfc4e41812a51fe6eb7e829": {
          "model_module": "@jupyter-widgets/base",
          "model_name": "LayoutModel",
          "model_module_version": "1.2.0",
          "state": {
            "_model_module": "@jupyter-widgets/base",
            "_model_module_version": "1.2.0",
            "_model_name": "LayoutModel",
            "_view_count": null,
            "_view_module": "@jupyter-widgets/base",
            "_view_module_version": "1.2.0",
            "_view_name": "LayoutView",
            "align_content": null,
            "align_items": null,
            "align_self": null,
            "border": null,
            "bottom": null,
            "display": "inline-flex",
            "flex": null,
            "flex_flow": "row wrap",
            "grid_area": null,
            "grid_auto_columns": null,
            "grid_auto_flow": null,
            "grid_auto_rows": null,
            "grid_column": null,
            "grid_gap": null,
            "grid_row": null,
            "grid_template_areas": null,
            "grid_template_columns": null,
            "grid_template_rows": null,
            "height": null,
            "justify_content": null,
            "justify_items": null,
            "left": null,
            "margin": null,
            "max_height": null,
            "max_width": null,
            "min_height": null,
            "min_width": null,
            "object_fit": null,
            "object_position": null,
            "order": null,
            "overflow": null,
            "overflow_x": null,
            "overflow_y": null,
            "padding": null,
            "right": null,
            "top": null,
            "visibility": "hidden",
            "width": "100%"
          }
        },
        "798deccc6ce14108ae7f7f3d329665ec": {
          "model_module": "@jupyter-widgets/base",
          "model_name": "LayoutModel",
          "model_module_version": "1.2.0",
          "state": {
            "_model_module": "@jupyter-widgets/base",
            "_model_module_version": "1.2.0",
            "_model_name": "LayoutModel",
            "_view_count": null,
            "_view_module": "@jupyter-widgets/base",
            "_view_module_version": "1.2.0",
            "_view_name": "LayoutView",
            "align_content": null,
            "align_items": null,
            "align_self": null,
            "border": null,
            "bottom": null,
            "display": null,
            "flex": null,
            "flex_flow": null,
            "grid_area": null,
            "grid_auto_columns": null,
            "grid_auto_flow": null,
            "grid_auto_rows": null,
            "grid_column": null,
            "grid_gap": null,
            "grid_row": null,
            "grid_template_areas": null,
            "grid_template_columns": null,
            "grid_template_rows": null,
            "height": null,
            "justify_content": null,
            "justify_items": null,
            "left": null,
            "margin": null,
            "max_height": null,
            "max_width": null,
            "min_height": null,
            "min_width": null,
            "object_fit": null,
            "object_position": null,
            "order": null,
            "overflow": null,
            "overflow_x": null,
            "overflow_y": null,
            "padding": null,
            "right": null,
            "top": null,
            "visibility": null,
            "width": null
          }
        },
        "1ba3cc6f7a0d447ca996067b73ebae7c": {
          "model_module": "@jupyter-widgets/controls",
          "model_name": "DescriptionStyleModel",
          "model_module_version": "1.5.0",
          "state": {
            "_model_module": "@jupyter-widgets/controls",
            "_model_module_version": "1.5.0",
            "_model_name": "DescriptionStyleModel",
            "_view_count": null,
            "_view_module": "@jupyter-widgets/base",
            "_view_module_version": "1.2.0",
            "_view_name": "StyleView",
            "description_width": ""
          }
        },
        "684471eefc5443c49ec825ef3f84ba4d": {
          "model_module": "@jupyter-widgets/base",
          "model_name": "LayoutModel",
          "model_module_version": "1.2.0",
          "state": {
            "_model_module": "@jupyter-widgets/base",
            "_model_module_version": "1.2.0",
            "_model_name": "LayoutModel",
            "_view_count": null,
            "_view_module": "@jupyter-widgets/base",
            "_view_module_version": "1.2.0",
            "_view_name": "LayoutView",
            "align_content": null,
            "align_items": null,
            "align_self": null,
            "border": null,
            "bottom": null,
            "display": null,
            "flex": "2",
            "flex_flow": null,
            "grid_area": null,
            "grid_auto_columns": null,
            "grid_auto_flow": null,
            "grid_auto_rows": null,
            "grid_column": null,
            "grid_gap": null,
            "grid_row": null,
            "grid_template_areas": null,
            "grid_template_columns": null,
            "grid_template_rows": null,
            "height": null,
            "justify_content": null,
            "justify_items": null,
            "left": null,
            "margin": null,
            "max_height": null,
            "max_width": null,
            "min_height": null,
            "min_width": null,
            "object_fit": null,
            "object_position": null,
            "order": null,
            "overflow": null,
            "overflow_x": null,
            "overflow_y": null,
            "padding": null,
            "right": null,
            "top": null,
            "visibility": null,
            "width": null
          }
        },
        "bce2d6a077864a989b987a639b8723b6": {
          "model_module": "@jupyter-widgets/controls",
          "model_name": "ProgressStyleModel",
          "model_module_version": "1.5.0",
          "state": {
            "_model_module": "@jupyter-widgets/controls",
            "_model_module_version": "1.5.0",
            "_model_name": "ProgressStyleModel",
            "_view_count": null,
            "_view_module": "@jupyter-widgets/base",
            "_view_module_version": "1.2.0",
            "_view_name": "StyleView",
            "bar_color": null,
            "description_width": ""
          }
        },
        "0e682ad8d9964e49bf582144b739e25a": {
          "model_module": "@jupyter-widgets/base",
          "model_name": "LayoutModel",
          "model_module_version": "1.2.0",
          "state": {
            "_model_module": "@jupyter-widgets/base",
            "_model_module_version": "1.2.0",
            "_model_name": "LayoutModel",
            "_view_count": null,
            "_view_module": "@jupyter-widgets/base",
            "_view_module_version": "1.2.0",
            "_view_name": "LayoutView",
            "align_content": null,
            "align_items": null,
            "align_self": null,
            "border": null,
            "bottom": null,
            "display": null,
            "flex": null,
            "flex_flow": null,
            "grid_area": null,
            "grid_auto_columns": null,
            "grid_auto_flow": null,
            "grid_auto_rows": null,
            "grid_column": null,
            "grid_gap": null,
            "grid_row": null,
            "grid_template_areas": null,
            "grid_template_columns": null,
            "grid_template_rows": null,
            "height": null,
            "justify_content": null,
            "justify_items": null,
            "left": null,
            "margin": null,
            "max_height": null,
            "max_width": null,
            "min_height": null,
            "min_width": null,
            "object_fit": null,
            "object_position": null,
            "order": null,
            "overflow": null,
            "overflow_x": null,
            "overflow_y": null,
            "padding": null,
            "right": null,
            "top": null,
            "visibility": null,
            "width": null
          }
        },
        "4e62dc8ec130404487da23c59cf0c5a2": {
          "model_module": "@jupyter-widgets/controls",
          "model_name": "DescriptionStyleModel",
          "model_module_version": "1.5.0",
          "state": {
            "_model_module": "@jupyter-widgets/controls",
            "_model_module_version": "1.5.0",
            "_model_name": "DescriptionStyleModel",
            "_view_count": null,
            "_view_module": "@jupyter-widgets/base",
            "_view_module_version": "1.2.0",
            "_view_name": "StyleView",
            "description_width": ""
          }
        },
        "2fae827b73794a75ac8e19e60fd4343d": {
          "model_module": "@jupyter-widgets/controls",
          "model_name": "HBoxModel",
          "model_module_version": "1.5.0",
          "state": {
            "_dom_classes": [],
            "_model_module": "@jupyter-widgets/controls",
            "_model_module_version": "1.5.0",
            "_model_name": "HBoxModel",
            "_view_count": null,
            "_view_module": "@jupyter-widgets/controls",
            "_view_module_version": "1.5.0",
            "_view_name": "HBoxView",
            "box_style": "",
            "children": [
              "IPY_MODEL_84c15f9bbb7745ac9fda2ac08bfd45c1",
              "IPY_MODEL_6cc66a0af04f46fa94a570088c143944",
              "IPY_MODEL_04f8f4acefcd43068d6c7ca6b9db306e"
            ],
            "layout": "IPY_MODEL_dfbf0d6babca4fac8a651d52ba62705c"
          }
        },
        "84c15f9bbb7745ac9fda2ac08bfd45c1": {
          "model_module": "@jupyter-widgets/controls",
          "model_name": "HTMLModel",
          "model_module_version": "1.5.0",
          "state": {
            "_dom_classes": [],
            "_model_module": "@jupyter-widgets/controls",
            "_model_module_version": "1.5.0",
            "_model_name": "HTMLModel",
            "_view_count": null,
            "_view_module": "@jupyter-widgets/controls",
            "_view_module_version": "1.5.0",
            "_view_name": "HTMLView",
            "description": "",
            "description_tooltip": null,
            "layout": "IPY_MODEL_8d03a9a52c6c4724816557d821cd4cf3",
            "placeholder": "​",
            "style": "IPY_MODEL_32aa64a5c3fa4f9ebd76b33cf05a1dd8",
            "value": "Epoch 0:   0%"
          }
        },
        "6cc66a0af04f46fa94a570088c143944": {
          "model_module": "@jupyter-widgets/controls",
          "model_name": "FloatProgressModel",
          "model_module_version": "1.5.0",
          "state": {
            "_dom_classes": [],
            "_model_module": "@jupyter-widgets/controls",
            "_model_module_version": "1.5.0",
            "_model_name": "FloatProgressModel",
            "_view_count": null,
            "_view_module": "@jupyter-widgets/controls",
            "_view_module_version": "1.5.0",
            "_view_name": "ProgressView",
            "bar_style": "",
            "description": "",
            "description_tooltip": null,
            "layout": "IPY_MODEL_988054f3b01f48ccaf9520e4548a565f",
            "max": 782,
            "min": 0,
            "orientation": "horizontal",
            "style": "IPY_MODEL_f5df846b7ba24ca8bbe39ea7462472e9",
            "value": 3
          }
        },
        "04f8f4acefcd43068d6c7ca6b9db306e": {
          "model_module": "@jupyter-widgets/controls",
          "model_name": "HTMLModel",
          "model_module_version": "1.5.0",
          "state": {
            "_dom_classes": [],
            "_model_module": "@jupyter-widgets/controls",
            "_model_module_version": "1.5.0",
            "_model_name": "HTMLModel",
            "_view_count": null,
            "_view_module": "@jupyter-widgets/controls",
            "_view_module_version": "1.5.0",
            "_view_name": "HTMLView",
            "description": "",
            "description_tooltip": null,
            "layout": "IPY_MODEL_3764c16a63d3473689a51fec8caa5200",
            "placeholder": "​",
            "style": "IPY_MODEL_2a8eca5078814c4a848468c0eb53faee",
            "value": " 3/782 [00:01&lt;05:06,  2.54it/s, v_num=1]"
          }
        },
        "dfbf0d6babca4fac8a651d52ba62705c": {
          "model_module": "@jupyter-widgets/base",
          "model_name": "LayoutModel",
          "model_module_version": "1.2.0",
          "state": {
            "_model_module": "@jupyter-widgets/base",
            "_model_module_version": "1.2.0",
            "_model_name": "LayoutModel",
            "_view_count": null,
            "_view_module": "@jupyter-widgets/base",
            "_view_module_version": "1.2.0",
            "_view_name": "LayoutView",
            "align_content": null,
            "align_items": null,
            "align_self": null,
            "border": null,
            "bottom": null,
            "display": "inline-flex",
            "flex": null,
            "flex_flow": "row wrap",
            "grid_area": null,
            "grid_auto_columns": null,
            "grid_auto_flow": null,
            "grid_auto_rows": null,
            "grid_column": null,
            "grid_gap": null,
            "grid_row": null,
            "grid_template_areas": null,
            "grid_template_columns": null,
            "grid_template_rows": null,
            "height": null,
            "justify_content": null,
            "justify_items": null,
            "left": null,
            "margin": null,
            "max_height": null,
            "max_width": null,
            "min_height": null,
            "min_width": null,
            "object_fit": null,
            "object_position": null,
            "order": null,
            "overflow": null,
            "overflow_x": null,
            "overflow_y": null,
            "padding": null,
            "right": null,
            "top": null,
            "visibility": null,
            "width": "100%"
          }
        },
        "8d03a9a52c6c4724816557d821cd4cf3": {
          "model_module": "@jupyter-widgets/base",
          "model_name": "LayoutModel",
          "model_module_version": "1.2.0",
          "state": {
            "_model_module": "@jupyter-widgets/base",
            "_model_module_version": "1.2.0",
            "_model_name": "LayoutModel",
            "_view_count": null,
            "_view_module": "@jupyter-widgets/base",
            "_view_module_version": "1.2.0",
            "_view_name": "LayoutView",
            "align_content": null,
            "align_items": null,
            "align_self": null,
            "border": null,
            "bottom": null,
            "display": null,
            "flex": null,
            "flex_flow": null,
            "grid_area": null,
            "grid_auto_columns": null,
            "grid_auto_flow": null,
            "grid_auto_rows": null,
            "grid_column": null,
            "grid_gap": null,
            "grid_row": null,
            "grid_template_areas": null,
            "grid_template_columns": null,
            "grid_template_rows": null,
            "height": null,
            "justify_content": null,
            "justify_items": null,
            "left": null,
            "margin": null,
            "max_height": null,
            "max_width": null,
            "min_height": null,
            "min_width": null,
            "object_fit": null,
            "object_position": null,
            "order": null,
            "overflow": null,
            "overflow_x": null,
            "overflow_y": null,
            "padding": null,
            "right": null,
            "top": null,
            "visibility": null,
            "width": null
          }
        },
        "32aa64a5c3fa4f9ebd76b33cf05a1dd8": {
          "model_module": "@jupyter-widgets/controls",
          "model_name": "DescriptionStyleModel",
          "model_module_version": "1.5.0",
          "state": {
            "_model_module": "@jupyter-widgets/controls",
            "_model_module_version": "1.5.0",
            "_model_name": "DescriptionStyleModel",
            "_view_count": null,
            "_view_module": "@jupyter-widgets/base",
            "_view_module_version": "1.2.0",
            "_view_name": "StyleView",
            "description_width": ""
          }
        },
        "988054f3b01f48ccaf9520e4548a565f": {
          "model_module": "@jupyter-widgets/base",
          "model_name": "LayoutModel",
          "model_module_version": "1.2.0",
          "state": {
            "_model_module": "@jupyter-widgets/base",
            "_model_module_version": "1.2.0",
            "_model_name": "LayoutModel",
            "_view_count": null,
            "_view_module": "@jupyter-widgets/base",
            "_view_module_version": "1.2.0",
            "_view_name": "LayoutView",
            "align_content": null,
            "align_items": null,
            "align_self": null,
            "border": null,
            "bottom": null,
            "display": null,
            "flex": "2",
            "flex_flow": null,
            "grid_area": null,
            "grid_auto_columns": null,
            "grid_auto_flow": null,
            "grid_auto_rows": null,
            "grid_column": null,
            "grid_gap": null,
            "grid_row": null,
            "grid_template_areas": null,
            "grid_template_columns": null,
            "grid_template_rows": null,
            "height": null,
            "justify_content": null,
            "justify_items": null,
            "left": null,
            "margin": null,
            "max_height": null,
            "max_width": null,
            "min_height": null,
            "min_width": null,
            "object_fit": null,
            "object_position": null,
            "order": null,
            "overflow": null,
            "overflow_x": null,
            "overflow_y": null,
            "padding": null,
            "right": null,
            "top": null,
            "visibility": null,
            "width": null
          }
        },
        "f5df846b7ba24ca8bbe39ea7462472e9": {
          "model_module": "@jupyter-widgets/controls",
          "model_name": "ProgressStyleModel",
          "model_module_version": "1.5.0",
          "state": {
            "_model_module": "@jupyter-widgets/controls",
            "_model_module_version": "1.5.0",
            "_model_name": "ProgressStyleModel",
            "_view_count": null,
            "_view_module": "@jupyter-widgets/base",
            "_view_module_version": "1.2.0",
            "_view_name": "StyleView",
            "bar_color": null,
            "description_width": ""
          }
        },
        "3764c16a63d3473689a51fec8caa5200": {
          "model_module": "@jupyter-widgets/base",
          "model_name": "LayoutModel",
          "model_module_version": "1.2.0",
          "state": {
            "_model_module": "@jupyter-widgets/base",
            "_model_module_version": "1.2.0",
            "_model_name": "LayoutModel",
            "_view_count": null,
            "_view_module": "@jupyter-widgets/base",
            "_view_module_version": "1.2.0",
            "_view_name": "LayoutView",
            "align_content": null,
            "align_items": null,
            "align_self": null,
            "border": null,
            "bottom": null,
            "display": null,
            "flex": null,
            "flex_flow": null,
            "grid_area": null,
            "grid_auto_columns": null,
            "grid_auto_flow": null,
            "grid_auto_rows": null,
            "grid_column": null,
            "grid_gap": null,
            "grid_row": null,
            "grid_template_areas": null,
            "grid_template_columns": null,
            "grid_template_rows": null,
            "height": null,
            "justify_content": null,
            "justify_items": null,
            "left": null,
            "margin": null,
            "max_height": null,
            "max_width": null,
            "min_height": null,
            "min_width": null,
            "object_fit": null,
            "object_position": null,
            "order": null,
            "overflow": null,
            "overflow_x": null,
            "overflow_y": null,
            "padding": null,
            "right": null,
            "top": null,
            "visibility": null,
            "width": null
          }
        },
        "2a8eca5078814c4a848468c0eb53faee": {
          "model_module": "@jupyter-widgets/controls",
          "model_name": "DescriptionStyleModel",
          "model_module_version": "1.5.0",
          "state": {
            "_model_module": "@jupyter-widgets/controls",
            "_model_module_version": "1.5.0",
            "_model_name": "DescriptionStyleModel",
            "_view_count": null,
            "_view_module": "@jupyter-widgets/base",
            "_view_module_version": "1.2.0",
            "_view_name": "StyleView",
            "description_width": ""
          }
        }
      }
    }
  },
  "cells": [
    {
      "cell_type": "markdown",
      "metadata": {
        "id": "drMg63-Cfmxk"
      },
      "source": [
        "# Вариационные автоэнкодеры (VAE)"
      ]
    },
    {
      "cell_type": "markdown",
      "metadata": {
        "id": "UEJbL9Ssfmxk"
      },
      "source": [
        "Мотивация:\n",
        "\n",
        "Хотим вместо представления слева получить представление справа, чтобы зоны пересечения содержали действительно переходные картины:\n",
        "\n"
      ]
    },
    {
      "cell_type": "markdown",
      "metadata": {
        "id": "Xowjjrbcfmxk"
      },
      "source": [
        "<center><img src=\"https://ml.gan4x4.ru/msu/dev-2.2/L12/out/latent_space_with_and_witout_regularization.png\" width=\"850\"></center>\n"
      ]
    },
    {
      "cell_type": "markdown",
      "metadata": {
        "id": "V6Go4qtnfmxk"
      },
      "source": [
        "Постановка задачи с автоэнкодером говорит нам, что существует некое пространство меньшей размерности $Z$, которое и обуславливает процесс генерации объектов из $X$. Все остальные различия — следствия случайности: один и тот же человек может по-разному написать цифру $5$.\n",
        "\n",
        "Будем искать латентное пространство $Z$, которое удовлетворяет следующему условию:\n",
        "\n",
        "$$\\large p(x) = \\int p(x, z)dz $$"
      ]
    },
    {
      "cell_type": "markdown",
      "metadata": {
        "id": "DsTb7hkHfmxk"
      },
      "source": [
        "Кроме того, пусть объекты из $Z$ легко генерировать.\n",
        "\n",
        "По формуле совместной вероятности:\n",
        "\n",
        "$$\\large p(x, z) = p(x|z)p(z) $$\n",
        "\n",
        "Осталось только подобрать такие параметры, чтобы все работало."
      ]
    },
    {
      "cell_type": "markdown",
      "metadata": {
        "id": "yN0OKFbifmxk"
      },
      "source": [
        "К сожалению, сделать это в таком виде не получится. Пространство $X$ может быть высокоразмерным.\n",
        "\n",
        "Но мы можем существенно сузить область поиска, ведь каждому $x$ из пространства $X$ соответствует лишь небольшая возможная область в $Z$.\n",
        "\n",
        "Для этого будем также учить отображение из пространства $X$ в пространство $Z$, т. е. пытаться выучить $q(z|x)$.\n",
        "\n",
        "Что же в случае автоэнкодера выполняет роль $q(z|x)$ и $p(x|z)$?\n",
        "Очевидно, кодировщик и декодировщик соответственно.\n"
      ]
    },
    {
      "cell_type": "markdown",
      "metadata": {
        "id": "jBcB206cfmxk"
      },
      "source": [
        "<center><img src=\"https://ml.gan4x4.ru/msu/dev-2.2/L12/out/vae_as_two_functions.png\" width=\"500\"></center>"
      ]
    },
    {
      "cell_type": "markdown",
      "metadata": {
        "id": "nGCyj__Ifmxk"
      },
      "source": [
        "\n",
        "Чтобы все получилось, нужно сделать с кодировщиком две вещи. Заметьте, что декодировщик мы оставим без изменений."
      ]
    },
    {
      "cell_type": "markdown",
      "metadata": {
        "id": "h_wPpLsSfmxk"
      },
      "source": [
        "## Семплирование в латентном пространстве"
      ]
    },
    {
      "cell_type": "markdown",
      "metadata": {
        "id": "GBM7MVQUfmxk"
      },
      "source": [
        "Пусть наш кодировщик генерирует на основе объекта $X$ вектор средних и вектор стандартных отклонений.\n",
        "\n",
        "Этих двух векторов хватает нам для того, чтобы задать многомерное нормальное распределение с независимыми компонентами (чтобы матрица ковариаций была диагональной), соответствующее данному объекту.\n",
        "\n",
        "Чтобы получить латентное представление объекта, отличающегося от $X$ только в силу случайности, нам достаточно семплировать вектор из нормального распределения с такими параметрами."
      ]
    },
    {
      "cell_type": "markdown",
      "metadata": {
        "id": "HVG3X44Vfmxk"
      },
      "source": [
        "<center><img src=\"https://ml.gan4x4.ru/msu/dev-2.2/L12/out/vae_architecture_first_modification.png\" width=\"800\"></center>"
      ]
    },
    {
      "cell_type": "markdown",
      "metadata": {
        "id": "Dx1my8q-fmxl"
      },
      "source": [
        "Далее мы можем требовать, чтобы из полученного латентного представления декодировщик восстанавливал объект, похожий на исходный."
      ]
    },
    {
      "cell_type": "markdown",
      "metadata": {
        "id": "UR_2G5fPfmxl"
      },
      "source": [
        "Энкодер обычного AE всегда отображает конкретный входной объект в одну и ту же точку в латентном пространстве.\n",
        "\n",
        "Семплирование в латентном пространстве — ключевое отличие вариационного автоэнкодера от обычного.\n",
        "\n",
        "Вместо предсказания координат точки в латентном пространстве для конкретного входного объекта энкодер VAE предсказывает параметры многомерного нормального распределения. Далее происходит семплирование точки из этого распределения с параметрами, предсказанными энкодером.\n",
        "\n",
        "Благодаря этому декодер получает на вход более вариативные данные, включающие точки из областей латентного пространства, которые обычный автоэнкодер оставлял пустыми. Это позволяет декодеру обучаться генерировать более разнообразные объекты. При этом при многократном запуске VAE для одного и того же входного объекта будут генерироваться немного отличающиеся выходные объекты."
      ]
    },
    {
      "cell_type": "markdown",
      "metadata": {
        "id": "GoZCB_O1fmxl"
      },
      "source": [
        "<center><img src=\"https://ml.gan4x4.ru/msu/dev-2.2/L12/out/ae_vs_vae.png\" width=\"1000\"></center>"
      ]
    },
    {
      "cell_type": "markdown",
      "metadata": {
        "id": "V1yQijmlfmxl"
      },
      "source": [
        "<font size=\"4\">Репараметризация</font>"
      ]
    },
    {
      "cell_type": "markdown",
      "metadata": {
        "id": "tY418M1xfmxl"
      },
      "source": [
        "Здесь, однако, сразу возникает проблема с тем, что граф вычислений, соответствующий предыдущей структуре, не может пропускать градиент — как пропустить градиент через генератор случайного нормального числа? Если считать из определения, то даже малейшему изменению параметра могут соответствовать бесконечные изменения генерируемого числа (нормальное распределение определено на бесконечности).\n",
        "\n",
        "Но мы можем вспомнить замечательное свойство нормального распределения:\n",
        "\n",
        "$$\\large N(\\mu,\\sigma^2) = N(0,1) * \\sigma + \\mu$$"
      ]
    },
    {
      "cell_type": "markdown",
      "metadata": {
        "id": "Jd-OLA-zfmxl"
      },
      "source": [
        "Выполняется это и для многомерного случая. Поэтому сделаем следующее: будем генерировать вектор $\\varepsilon \\sim N(0, 1)$ из стандартного нормального распределения, а затем домножать его на вектор стандартных отклонений и прибавлять вектор средних. Получится вот такое преобразование, которое называется **reparameterization trick**."
      ]
    },
    {
      "cell_type": "markdown",
      "metadata": {
        "id": "JqPRlXTYfmxl"
      },
      "source": [
        "<center><img src=\"https://ml.gan4x4.ru/msu/dev-2.2/L12/out/reparametrization_trick.png\" width=\"850\"></center>\n",
        "\n"
      ]
    },
    {
      "cell_type": "markdown",
      "metadata": {
        "id": "0WZQbtWqfmxl"
      },
      "source": [
        "В отличие от левого случая, в правом мы спокойно можем пропустить градиент через детерминистичные ноды.\n"
      ]
    },
    {
      "cell_type": "markdown",
      "metadata": {
        "id": "DSYsHOvsfmxl"
      },
      "source": [
        "Но такой принцип также имеет проблему предыдущего детерминистического подхода, так как вероятностное распределение сможет свернуться в дельта-функцию — зачем нейросети мучиться с объектами, немного отличающимися от тех, что есть в обучающей выборке, и пытаться нормально их восстанавливать, если можно просто начать генерировать стандартные отклонения, близкие к нулю, и тем самым получить $\\delta$-функцию, которая будет нашему объекту всегда сопоставлять одну точку в латентном представлении.\n"
      ]
    },
    {
      "cell_type": "markdown",
      "metadata": {
        "id": "ylDRaRIFfmxl"
      },
      "source": [
        "<center><img src=\"https://ml.gan4x4.ru/msu/dev-2.2/L12/out/sigma_decreasing_progress.gif\" width=\"500\"></center>\n"
      ]
    },
    {
      "cell_type": "markdown",
      "metadata": {
        "id": "NrO3RLVTfmxl"
      },
      "source": [
        "## Регуляризация латентного пространства"
      ]
    },
    {
      "cell_type": "markdown",
      "metadata": {
        "id": "U67Aq3E_fmxl"
      },
      "source": [
        "Поэтому нам надо ввести регуляризацию, требующую от каждого распределения быть близким к нормальному распределению вокруг нуля координат латентного пространства с дисперсией $1$ (наше $P(z)$).\n",
        "\n",
        "Для этого нам нужна некая мера расстояния между двумя вероятностными распределениями. В базовом случае в качестве такой меры расстояния используется **дивергенция Кульбака-Лейблера**, или KL-дивергенция."
      ]
    },
    {
      "cell_type": "markdown",
      "metadata": {
        "id": "v0NaEaSYfmxl"
      },
      "source": [
        "[Дивергенция Кульбака-Лейблера 📚[wiki]](https://ru.wikipedia.org/wiki/Расстояние_Кульбака_—_Лейблера) между двумя вероятностными распределениями $P$ и $Q$ определяется следующим образом:\n",
        "\n",
        "$$\\large KL(P||Q) = \\int_X p(x)\\log \\dfrac {p(x)} {q(x)} dx$$\n",
        "\n",
        "В теории информации $p$ считается целевым (истинным) распределением, а $q$ — тем, с которым мы его сравниваем (проверяемым)."
      ]
    },
    {
      "cell_type": "markdown",
      "metadata": {
        "id": "cb_9Oan7fmxl"
      },
      "source": [
        "Чтобы распределение $Q(z|x)$ в латентном пространстве $Z$ походило на нормальное, в качестве регуляризации мы будем использовать KL-дивергенцию между $Q(z|x)$ и стандартным нормальным распределением $N(0,1)$.\n"
      ]
    },
    {
      "cell_type": "markdown",
      "metadata": {
        "id": "CNU6vbNQfmxl"
      },
      "source": [
        "$$\\large \\text{Regularization} = KL(Q(z|x)||N(0,1)) $$\n",
        "\n",
        "Данное выражение может быть [записано аналитически ✏️[blog]](https://stats.stackexchange.com/questions/318748/deriving-the-kl-divergence-loss-for-vaes):\n",
        "\n",
        "\n",
        "$$\\large KL(N(\\mu, \\sigma) || N(0, 1)) = -\\frac {1} {2}(\\log {\\sigma^2} - \\sigma^2 - \\mu^2 + 1)$$\n"
      ]
    },
    {
      "cell_type": "markdown",
      "metadata": {
        "id": "mZya9zojfmxl"
      },
      "source": [
        "<center><img src=\"https://ml.gan4x4.ru/msu/dep-2.1/L12/pure_kl_loss.png\" width=\"350\"></center>\n",
        "\n",
        "<center><em>Source: <a href=\"https://www.jeremyjordan.me/variational-autoencoders/\">Variational Autoencoders</a></em></center>"
      ]
    },
    {
      "cell_type": "markdown",
      "metadata": {
        "id": "kw-DUNaafmxm"
      },
      "source": [
        "Однако нужно не забыть, что на выходе мы все еще ожидаем получить изображение, похожее на входное. Поэтому итоговая функция потерь будет состоять из двух компонент:\n",
        "\n",
        "1. Слагаемое, связанное с качеством восстановления.\n",
        "2. Регуляризационный член."
      ]
    },
    {
      "cell_type": "markdown",
      "metadata": {
        "id": "iTnXYwFUfmxm"
      },
      "source": [
        "Формально это записывается следующим образом:\n",
        "\n",
        "$$\\large \\text{VAE Loss} = E_{z \\sim Q(z|x)}[\\log P(x|z)] + KL[Q(z|x)||N(0,1)]$$\n",
        "\n",
        "А в итоге:\n",
        "\n",
        "$$\\large \\text{VAE Loss} = \\text{MSE}(x , \\tilde{x}) -\\frac {1} {2}(\\log {\\sigma^2} - \\sigma^2 - \\mu^2 + 1)$$\n",
        "\n"
      ]
    },
    {
      "cell_type": "markdown",
      "metadata": {
        "id": "4pGym4BRfmxm"
      },
      "source": [
        "Учет обеих компонент позволяет нам получить то, что мы хотели, — регулярное латентное пространство, где нет «дыр» в представлении и при этом близкие по смыслу объекты расположены рядом, а далекие — далеко."
      ]
    },
    {
      "cell_type": "markdown",
      "metadata": {
        "id": "D_BRg2IWfmxm"
      },
      "source": [
        "## Реализация VAE"
      ]
    },
    {
      "cell_type": "markdown",
      "metadata": {
        "id": "6LKqsanafmxm"
      },
      "source": [
        "Для реализации вариационного автоэнкодера нам потребуется переопределить логику того, как данные проходят через модель. Выход энкодера будет интерпретироваться не как латентное представление входного образа, а как параметры распределения, из которого мы будем семплировать латентные представления для подачи в декодер.\n",
        "\n",
        "Вариационный энкодер фактически ничем не будет отличаться от базового за исключением того, что размерность выхода должна быть четной — для разделения на $μ$ и $\\sigma$."
      ]
    },
    {
      "cell_type": "code",
      "source": [
        "import torch.nn as nn\n",
        "\n",
        "\n",
        "class Encoder(nn.Module):\n",
        "    def __init__(self, latent_dim):\n",
        "        super().__init__()\n",
        "\n",
        "        hidden_dims = [32, 64, 128, 256]  # num of filters in layers\n",
        "        modules = []\n",
        "        in_channels = 1  # initial value of channels\n",
        "        for h_dim in hidden_dims:  # conv layers\n",
        "            modules.append(\n",
        "                nn.Sequential(\n",
        "                    nn.Conv2d(\n",
        "                        in_channels=in_channels,  # num of input channels\n",
        "                        out_channels=h_dim,  # num of output channels\n",
        "                        kernel_size=3,\n",
        "                        stride=2,  # convolution kernel step\n",
        "                        padding=1,  # save shape\n",
        "                    ),\n",
        "                    nn.BatchNorm2d(h_dim),\n",
        "                    nn.LeakyReLU(),\n",
        "                )\n",
        "            )\n",
        "            in_channels = h_dim  # changing number of input channels for next iteration\n",
        "\n",
        "        modules.append(nn.Flatten())  # to vector, size 256 * 2 * 2 = 1024\n",
        "        modules.append(nn.Linear(256 * 2 * 2, latent_dim))\n",
        "\n",
        "        self.encoder = nn.Sequential(*modules)\n",
        "\n",
        "    def forward(self, x):\n",
        "        x = self.encoder(x)\n",
        "        return x\n",
        "\n",
        "\n",
        "class Decoder(nn.Module):\n",
        "    def __init__(self, latent_dim):\n",
        "        super().__init__()\n",
        "\n",
        "        hidden_dims = [256, 128, 64, 32]  # num of filters in layers\n",
        "        self.linear = nn.Linear(in_features=latent_dim, out_features=1024)\n",
        "\n",
        "        modules = []\n",
        "        for i in range(len(hidden_dims) - 1):  # define upsample layers\n",
        "            modules.append(\n",
        "                nn.Sequential(\n",
        "                    nn.Upsample(scale_factor=2),\n",
        "                    nn.Conv2d(\n",
        "                        in_channels=hidden_dims[i],\n",
        "                        out_channels=hidden_dims[i + 1],\n",
        "                        kernel_size=3,\n",
        "                        padding=1,\n",
        "                    ),\n",
        "                    nn.BatchNorm2d(hidden_dims[i + 1]),\n",
        "                    nn.LeakyReLU(),\n",
        "                )\n",
        "            )\n",
        "\n",
        "        modules.append(\n",
        "            nn.Sequential(\n",
        "                nn.Upsample(scale_factor=2),\n",
        "                nn.Conv2d(in_channels=hidden_dims[-1], out_channels=1, kernel_size=5),\n",
        "            )\n",
        "        )\n",
        "\n",
        "        self.decoder = nn.Sequential(*modules)\n",
        "\n",
        "    def forward(self, x):\n",
        "        x = self.linear(x)  # from latents space to Linear\n",
        "        x = x.view(-1, 256, 2, 2)  # reshape\n",
        "        x = self.decoder(x)  # reconstruction\n",
        "        return x"
      ],
      "metadata": {
        "id": "IQ8HJxufAYYa"
      },
      "execution_count": null,
      "outputs": []
    },
    {
      "cell_type": "code",
      "execution_count": null,
      "metadata": {
        "id": "a8VRPVqofmxm"
      },
      "outputs": [],
      "source": [
        "class VAEEncoder(Encoder):\n",
        "    def __init__(self, latent_dim):\n",
        "        if latent_dim % 2 != 0:  # check for the parity of the latent space\n",
        "            raise Exception(\"Latent size for VAEEncoder must be even\")\n",
        "\n",
        "        super().__init__(latent_dim)"
      ]
    },
    {
      "cell_type": "markdown",
      "metadata": {
        "id": "mpyEEUQXfmxm"
      },
      "source": [
        "Для реализации VAE также воспользуемся фреймворком Lightning. Класс `LitVAE` унаследуем от базового `LitAE`, изменив логику прохождения данных через модель (переопределяется `forward_handler`) и расчет функции потерь (переопределяется `loss_handler`):\n",
        "\n",
        "* Во время прохода данных через автоэнкодер они сначала кодируются в латентное представление с помощью энкодера:\n",
        "  \n",
        "  `latent = self.encoder(data)`\n",
        "\n",
        "  Затем латентное представление разделяется на две части $\\mu$ и $\\sigma$:\n",
        "\n",
        "  `mu, log_var = self.vae_split(latent)`\n",
        "\n",
        "  Производится репараметризация — семплирование из нормального распределения с параметрами, предсказанными энкодером:\n",
        "\n",
        "  `sample = self.vae_reparametrize(mu, log_var)`\n",
        "  \n",
        "  И наконец декодер восстанавливает данные из результата семплирования:\n",
        "\n",
        "  `recon = self.decoder(sample)`\n",
        "\n",
        "* Функция потерь теперь содержит две компоненты:\n",
        "    \n",
        " *   штраф за некачественное восстановление в виде бинарной кросс-энтропии между входными данными и восстановленными на выходе декодера данными:\n",
        "\n",
        "    `F.mse_loss(recon, data)`\n",
        "\n",
        " *   и штраф за отличие латентного представления после репараметризации от стандартного нормального распределения в виде KL-дивергенции:\n",
        "\n",
        "    `kld_loss(mu, log_var)`.\n",
        "\n",
        "  Эти компоненты суммируются в функции потерь с весами `recon_weight` и `kld_weight`\n",
        "\n",
        "Методы `vae_split`, `vae_reparametrize` и `kld_loss` обслуживают описанную логику работы VAE."
      ]
    },
    {
      "cell_type": "code",
      "source": [
        "!pip install -q lightning tbparse"
      ],
      "metadata": {
        "id": "DsF8sbsgAvWi"
      },
      "execution_count": null,
      "outputs": []
    },
    {
      "cell_type": "code",
      "source": [
        "import lightning as L\n",
        "import torch.nn.functional as F\n",
        "from collections import defaultdict\n",
        "import torch\n",
        "\n",
        "\n",
        "class LitAE(L.LightningModule):\n",
        "    def __init__(self, encoder, decoder):\n",
        "        super().__init__()\n",
        "        self.encoder = encoder\n",
        "        self.decoder = decoder\n",
        "\n",
        "    def configure_optimizers(self):\n",
        "        return torch.optim.Adam(self.parameters(), lr=1e-4)\n",
        "\n",
        "    def forward_handler(self, data, *args, **kwargs):\n",
        "        # here is the logic how data is moved through AE\n",
        "        latent = self.encoder(data)\n",
        "        recon = self.decoder(latent)\n",
        "        return latent, recon\n",
        "\n",
        "    def loss_handler(self, recon, data, *args, **kwargs):\n",
        "        # here is the loss function computing\n",
        "        loss = F.mse_loss(F.sigmoid(recon), data)\n",
        "        return loss\n",
        "\n",
        "    def training_step(self, batch, batch_idx):\n",
        "        data, labels = batch\n",
        "\n",
        "        latent, recon = self.forward_handler(data, labels)\n",
        "        loss = self.loss_handler(recon, data, latent)\n",
        "\n",
        "        self.log(\"train_loss\", loss, on_step=False, on_epoch=True)\n",
        "        return loss\n",
        "\n",
        "    def validation_step(self, batch, batch_idx):\n",
        "        data, labels = batch\n",
        "\n",
        "        latent, recon = self.forward_handler(data, labels)\n",
        "        loss = self.loss_handler(recon, data, latent)\n",
        "\n",
        "        self.log(\"val_loss\", loss, on_step=False, on_epoch=True)\n",
        "        return loss\n",
        "\n",
        "    def on_test_epoch_start(self):\n",
        "        # create dict with empty tensors for further accumulating over batches\n",
        "        self.test_result = defaultdict(torch.Tensor)\n",
        "\n",
        "    def test_step(self, batch, batch_idx):\n",
        "        data, labels = batch\n",
        "\n",
        "        latent, recon = self.forward_handler(data, labels)\n",
        "        self.update_test_result(data, F.sigmoid(recon), latent, labels)\n",
        "\n",
        "    def update_test_result(self, data, recon, latent, labels):\n",
        "        # accumulating results every batch\n",
        "        self.test_result[\"real\"] = torch.cat([self.test_result[\"real\"], data.cpu()])\n",
        "        self.test_result[\"recon\"] = torch.cat([self.test_result[\"recon\"], recon.cpu()])\n",
        "        self.test_result[\"latent\"] = torch.cat(\n",
        "            [self.test_result[\"latent\"], latent.cpu()]\n",
        "        )\n",
        "        self.test_result[\"labels\"] = torch.cat(\n",
        "            [self.test_result[\"labels\"], labels.cpu()]\n",
        "        )\n",
        "\n",
        "    def on_test_epoch_end(self):\n",
        "        # simply change type from torch tensor to numpy array\n",
        "        # for every item in test_result dictionary\n",
        "        for key in self.test_result:\n",
        "            self.test_result[key] = self.test_result[key].numpy()"
      ],
      "metadata": {
        "id": "Lc9AzPK_BAtj"
      },
      "execution_count": null,
      "outputs": []
    },
    {
      "cell_type": "markdown",
      "metadata": {
        "id": "-3p7ywgPfmxg"
      },
      "source": [
        "Загрузим и подготовим датасет MNIST:"
      ]
    },
    {
      "cell_type": "code",
      "execution_count": null,
      "metadata": {
        "id": "aAHIF9mWfmxg"
      },
      "outputs": [],
      "source": [
        "import torchvision\n",
        "from torchvision.datasets import MNIST\n",
        "from IPython.display import clear_output\n",
        "\n",
        "root = \"./data\"\n",
        "\n",
        "train_set = MNIST(\n",
        "    root=root, train=True, transform=torchvision.transforms.ToTensor(), download=True\n",
        ")\n",
        "test_set = MNIST(\n",
        "    root=root, train=False, transform=torchvision.transforms.ToTensor(), download=True\n",
        ")\n"
      ]
    },
    {
      "cell_type": "code",
      "execution_count": null,
      "metadata": {
        "id": "Pu7V8aZ9fmxg"
      },
      "outputs": [],
      "source": [
        "import torch\n",
        "from torch.utils.data import random_split\n",
        "\n",
        "torch.manual_seed(42)\n",
        "train_set, val_set = random_split(train_set, lengths=[50000, 10000])\n",
        "\n",
        "batch_size = 64\n",
        "train_loader = torch.utils.data.DataLoader(\n",
        "    train_set, batch_size=batch_size, shuffle=True, num_workers=2\n",
        ")\n",
        "\n",
        "val_loader = torch.utils.data.DataLoader(\n",
        "    val_set, batch_size=batch_size, shuffle=False, num_workers=2\n",
        ")\n",
        "\n",
        "test_loader = torch.utils.data.DataLoader(\n",
        "    test_set, batch_size=batch_size, shuffle=False, num_workers=2\n",
        ")"
      ]
    },
    {
      "cell_type": "code",
      "execution_count": null,
      "metadata": {
        "id": "vL0dfw2bfmxm"
      },
      "outputs": [],
      "source": [
        "import lightning as L\n",
        "import torch.nn.functional as F\n",
        "\n",
        "\n",
        "class LitVAE(LitAE):\n",
        "    def __init__(self, encoder, decoder, kld_weight=0.005, recon_weight=1.0):\n",
        "        super().__init__(encoder, decoder)\n",
        "        self.kld_weight = kld_weight\n",
        "        self.recon_weight = recon_weight\n",
        "\n",
        "    def vae_split(self, latent):\n",
        "        size = (\n",
        "            latent.shape[1] // 2\n",
        "        )  # divide the latent representation into mu and log_var\n",
        "        mu = latent[:, :size]\n",
        "        log_var = latent[:, size:]\n",
        "        return mu, log_var\n",
        "\n",
        "    def vae_reparametrize(self, mu, log_var):\n",
        "        sigma = torch.exp(0.5 * log_var)\n",
        "        eps = torch.randn(mu.shape[0], mu.shape[1]).to(self.device)\n",
        "        return eps * sigma + mu\n",
        "\n",
        "    def kld_loss(self, mu, log_var):\n",
        "        var = log_var.exp()\n",
        "        kl_loss = torch.mean(-0.5 * torch.sum(log_var - var - mu**2 + 1, dim=1), dim=0)\n",
        "        return kl_loss\n",
        "\n",
        "    def forward_handler(self, data, *args, **kwargs):\n",
        "        # here is the logic how data is moved through AE\n",
        "        latent = self.encoder(data)\n",
        "\n",
        "        mu, log_var = self.vae_split(latent)\n",
        "        sample = self.vae_reparametrize(mu, log_var)\n",
        "\n",
        "        recon = self.decoder(sample)\n",
        "        return latent, recon\n",
        "\n",
        "    def loss_handler(self, recon, data, latent, *args, **kwargs):\n",
        "        mu, log_var = self.vae_split(latent)\n",
        "        # here is the loss function computing\n",
        "        loss = self.recon_weight * F.mse_loss(\n",
        "            F.sigmoid(recon), data\n",
        "        ) + self.kld_weight * self.kld_loss(mu, log_var)\n",
        "        return loss"
      ]
    },
    {
      "cell_type": "markdown",
      "metadata": {
        "id": "nzYUE5F-fmxm"
      },
      "source": [
        "### Демонстрация эффекта регуляризации"
      ]
    },
    {
      "cell_type": "markdown",
      "metadata": {
        "id": "RTPNebMZfmxm"
      },
      "source": [
        "Для демонстрации того, как работает регуляризация в виде KL-дивергенции, обучим VAE, полностью отключив штраф за качество восстановления (`recon_weight=0`)."
      ]
    },
    {
      "cell_type": "markdown",
      "metadata": {
        "id": "wPvz5ntAfmxm"
      },
      "source": [
        "Видим, что мы забываем про декодировщик — он может выдавать все, что угодно. Потому логично ожидать, что обучится только кодировщик, и обучится он отражать наши точки в нормальное распределение со средним 0 и дисперсией 1. Можем проверить это."
      ]
    },
    {
      "cell_type": "code",
      "execution_count": null,
      "metadata": {
        "id": "fW9us94-fmxm"
      },
      "outputs": [],
      "source": [
        "!mkdir lightning_logs/VAE_latent_dim=2_KL_only"
      ]
    },
    {
      "cell_type": "code",
      "execution_count": null,
      "metadata": {
        "id": "qvraL7QIfmxm"
      },
      "outputs": [],
      "source": [
        "from lightning.pytorch.loggers import TensorBoardLogger\n",
        "L.seed_everything(42)\n",
        "\n",
        "latent_dim = 2\n",
        "encoder = VAEEncoder(latent_dim=latent_dim * 2)\n",
        "decoder = Decoder(latent_dim=latent_dim)\n",
        "\n",
        "autoencoder = LitVAE(encoder, decoder, kld_weight=0.1, recon_weight=0.0)  # bad practice\n",
        "\n",
        "exp_name = f\"VAE_latent_dim={latent_dim}_KL_only\"\n",
        "logger = TensorBoardLogger(save_dir=\"lightning_logs\", name=exp_name)\n",
        "trainer = L.Trainer(max_epochs=5, logger=logger)\n",
        "\n",
        "trainer.fit(autoencoder, train_loader, val_loader)"
      ]
    },
    {
      "cell_type": "markdown",
      "metadata": {
        "id": "-V4WHWWDfmxm"
      },
      "source": [
        "Протестируем обученный VAE и рассмотрим генерируемые им параметры распределения $\\mu$ и $\\sigma$."
      ]
    },
    {
      "cell_type": "code",
      "execution_count": null,
      "metadata": {
        "id": "E9zsXHB0fmxn"
      },
      "outputs": [],
      "source": [
        "import numpy as np\n",
        "trainer.test(autoencoder, test_loader)\n",
        "run_res = autoencoder.test_result\n",
        "\n",
        "mu, log_var = autoencoder.vae_split(run_res[\"latent\"])\n",
        "var = np.exp(log_var)"
      ]
    },
    {
      "cell_type": "markdown",
      "metadata": {
        "id": "0DEVvbXzfmxn"
      },
      "source": [
        "Все генерируемые средние почти неотличимы от нуля, а дисперсии — от единицы:"
      ]
    },
    {
      "cell_type": "code",
      "execution_count": null,
      "metadata": {
        "id": "4zxZJk9wfmxn"
      },
      "outputs": [],
      "source": [
        "import matplotlib.pyplot as plt\n",
        "\n",
        "plt.figure(figsize=(15, 5))\n",
        "\n",
        "plt.subplot(1, 2, 1)\n",
        "plt.hist(mu.ravel())\n",
        "plt.xlabel(\"$\\mu$\", fontsize=20)\n",
        "\n",
        "plt.subplot(1, 2, 2)\n",
        "plt.hist(var.ravel())\n",
        "plt.xlabel(\"$\\sigma^2$\", fontsize=20)\n",
        "\n",
        "plt.show()"
      ]
    },
    {
      "cell_type": "markdown",
      "metadata": {
        "id": "oyocdBKUfmxn"
      },
      "source": [
        "В результате получаем практически неразделимые объекты:"
      ]
    },
    {
      "cell_type": "code",
      "source": [
        "def plot_manifold(latent_r, labels=None, alpha=0.9, title=None):\n",
        "    plt.figure(figsize=(10, 8))\n",
        "    if labels is None:\n",
        "        plt.scatter(latent_r[:, 0], latent_r[:, 1], alpha=alpha, s=4)\n",
        "    else:\n",
        "        plt.scatter(\n",
        "            latent_r[:, 0], latent_r[:, 1], c=labels, cmap=\"tab10\", alpha=alpha, s=4\n",
        "        )\n",
        "        plt.colorbar()\n",
        "\n",
        "    if title:\n",
        "        plt.title(title)\n",
        "    plt.show()"
      ],
      "metadata": {
        "id": "xErmPFX-B-gf"
      },
      "execution_count": null,
      "outputs": []
    },
    {
      "cell_type": "code",
      "execution_count": 73,
      "metadata": {
        "id": "RDgHumFcfmxn",
        "colab": {
          "base_uri": "https://localhost:8080/",
          "height": 719
        },
        "outputId": "6e644993-82d4-4ad2-bfd6-1c098cda514e"
      },
      "outputs": [
        {
          "output_type": "display_data",
          "data": {
            "text/plain": [
              "<Figure size 1000x800 with 2 Axes>"
            ],
            "image/png": "[encoded data removed]"
          },
          "metadata": {}
        }
      ],
      "source": [
        "import seaborn as sns\n",
        "\n",
        "mu, log_var = torch.tensor(mu), torch.tensor(log_var)\n",
        "sample = autoencoder.vae_reparametrize(mu, log_var).numpy()\n",
        "\n",
        "pal = sns.color_palette(\"Paired\", n_colors=10)\n",
        "plot_manifold(\n",
        "    sample, run_res[\"labels\"], title=f\"recon_weight={autoencoder.recon_weight}\"\n",
        ")"
      ]
    },
    {
      "cell_type": "markdown",
      "metadata": {
        "id": "z49ah_refmxn"
      },
      "source": [
        "### Совмещение ошибки восстановления и KL-дивергенции"
      ]
    },
    {
      "cell_type": "markdown",
      "metadata": {
        "id": "1E4oJMrcfmxn"
      },
      "source": [
        "Обучим VAE, штрафуя его и за качество восстановления (` recon_weight=1.0`), и за отличие распределения латентных представлений от стандартного нормального (`kld_weight=0.005`):"
      ]
    },
    {
      "cell_type": "code",
      "execution_count": 74,
      "metadata": {
        "id": "z7iwJBaXfmxn",
        "colab": {
          "base_uri": "https://localhost:8080/"
        },
        "outputId": "5b8265a0-2c3f-4b6e-f6f1-d5dd286f9fe1"
      },
      "outputs": [
        {
          "output_type": "stream",
          "name": "stdout",
          "text": [
            "mkdir: cannot create directory ‘lightning_logs/VAE_latent_dim=2’: File exists\n"
          ]
        }
      ],
      "source": [
        "!mkdir lightning_logs/VAE_latent_dim=2"
      ]
    },
    {
      "cell_type": "code",
      "execution_count": null,
      "metadata": {
        "id": "Y47IHSe2fmxn",
        "colab": {
          "base_uri": "https://localhost:8080/",
          "height": 625,
          "referenced_widgets": [
            "d2cc21a5275d4e45969574f10f9680ab",
            "c87e0ad792cf490089d1be60d9f53b27",
            "81234f684121492c8e13872b89360e83",
            "a3faa483872b41a59cfd382b995c37ab",
            "e89c214dbcfc4e41812a51fe6eb7e829",
            "798deccc6ce14108ae7f7f3d329665ec",
            "1ba3cc6f7a0d447ca996067b73ebae7c",
            "684471eefc5443c49ec825ef3f84ba4d",
            "bce2d6a077864a989b987a639b8723b6",
            "0e682ad8d9964e49bf582144b739e25a",
            "4e62dc8ec130404487da23c59cf0c5a2",
            "2fae827b73794a75ac8e19e60fd4343d",
            "84c15f9bbb7745ac9fda2ac08bfd45c1",
            "6cc66a0af04f46fa94a570088c143944",
            "04f8f4acefcd43068d6c7ca6b9db306e",
            "dfbf0d6babca4fac8a651d52ba62705c",
            "8d03a9a52c6c4724816557d821cd4cf3",
            "32aa64a5c3fa4f9ebd76b33cf05a1dd8",
            "988054f3b01f48ccaf9520e4548a565f",
            "f5df846b7ba24ca8bbe39ea7462472e9",
            "3764c16a63d3473689a51fec8caa5200",
            "2a8eca5078814c4a848468c0eb53faee"
          ]
        },
        "outputId": "972dc340-bdd1-47aa-af28-5806a9c03e57"
      },
      "outputs": [
        {
          "output_type": "stream",
          "name": "stderr",
          "text": [
            "INFO: Seed set to 42\n",
            "INFO:lightning.fabric.utilities.seed:Seed set to 42\n",
            "INFO: GPU available: False, used: False\n",
            "INFO:lightning.pytorch.utilities.rank_zero:GPU available: False, used: False\n",
            "INFO: TPU available: False, using: 0 TPU cores\n",
            "INFO:lightning.pytorch.utilities.rank_zero:TPU available: False, using: 0 TPU cores\n",
            "INFO: HPU available: False, using: 0 HPUs\n",
            "INFO:lightning.pytorch.utilities.rank_zero:HPU available: False, using: 0 HPUs\n",
            "INFO: \n",
            "  | Name    | Type       | Params | Mode \n",
            "-----------------------------------------------\n",
            "0 | encoder | VAEEncoder | 392 K  | train\n",
            "1 | decoder | Decoder    | 391 K  | train\n",
            "-----------------------------------------------\n",
            "784 K     Trainable params\n",
            "0         Non-trainable params\n",
            "784 K     Total params\n",
            "3.138     Total estimated model params size (MB)\n",
            "41        Modules in train mode\n",
            "0         Modules in eval mode\n",
            "INFO:lightning.pytorch.callbacks.model_summary:\n",
            "  | Name    | Type       | Params | Mode \n",
            "-----------------------------------------------\n",
            "0 | encoder | VAEEncoder | 392 K  | train\n",
            "1 | decoder | Decoder    | 391 K  | train\n",
            "-----------------------------------------------\n",
            "784 K     Trainable params\n",
            "0         Non-trainable params\n",
            "784 K     Total params\n",
            "3.138     Total estimated model params size (MB)\n",
            "41        Modules in train mode\n",
            "0         Modules in eval mode\n"
          ]
        },
        {
          "output_type": "display_data",
          "data": {
            "text/plain": [
              "Sanity Checking: |          | 0/? [00:00<?, ?it/s]"
            ],
            "application/vnd.jupyter.widget-view+json": {
              "version_major": 2,
              "version_minor": 0,
              "model_id": "d2cc21a5275d4e45969574f10f9680ab"
            }
          },
          "metadata": {}
        },
        {
          "output_type": "display_data",
          "data": {
            "text/plain": [
              "Training: |          | 0/? [00:00<?, ?it/s]"
            ],
            "application/vnd.jupyter.widget-view+json": {
              "version_major": 2,
              "version_minor": 0,
              "model_id": "2fae827b73794a75ac8e19e60fd4343d"
            }
          },
          "metadata": {}
        }
      ],
      "source": [
        "L.seed_everything(42)\n",
        "\n",
        "latent_dim = 2\n",
        "encoder = VAEEncoder(latent_dim=latent_dim * 2)\n",
        "decoder = Decoder(latent_dim=latent_dim)\n",
        "\n",
        "autoencoder = LitVAE(encoder, decoder, kld_weight=0.005, recon_weight=1.0)\n",
        "\n",
        "exp_name = f\"VAE_latent_dim={latent_dim}\"\n",
        "logger = TensorBoardLogger(save_dir=\"lightning_logs\", name=exp_name)\n",
        "trainer = L.Trainer(max_epochs=5, logger=logger)\n",
        "\n",
        "trainer.fit(autoencoder, train_loader, val_loader)"
      ]
    },
    {
      "cell_type": "code",
      "execution_count": null,
      "metadata": {
        "id": "MFCFT4aVfmxn"
      },
      "outputs": [],
      "source": [
        "trainer.test(autoencoder, test_loader)\n",
        "run_res = autoencoder.test_result\n",
        "\n",
        "mu, log_var = autoencoder.vae_split(run_res[\"latent\"])\n",
        "\n",
        "mu, log_var = torch.tensor(mu), torch.tensor(log_var)\n",
        "sample = autoencoder.vae_reparametrize(mu, log_var).numpy()"
      ]
    },
    {
      "cell_type": "code",
      "execution_count": null,
      "metadata": {
        "id": "EmpI0pMjfmxn"
      },
      "outputs": [],
      "source": [
        "pal = sns.color_palette(\"Paired\", n_colors=10)\n",
        "plot_manifold(\n",
        "    sample,\n",
        "    run_res[\"labels\"],\n",
        "    title=f\"kld_weight={autoencoder.kld_weight}, recon_weight={autoencoder.recon_weight}\",\n",
        ")"
      ]
    },
    {
      "cell_type": "markdown",
      "metadata": {
        "id": "kuDauHJ4fmxn"
      },
      "source": [
        "Картина в латентном пространстве мало чем отличается от той, что мы получали в обычном автоэнкодере. Это от того, что мы пропустили каждый образец тестовой выборки через автоэнкодер всего один раз и каждое изображение отобразилось в одну конкретную точку. Эффект от вариативности VAE можно заметить на множестве запусков, тогда при каждом запуске каждое изображение будет отображаться в близкие, но различные точки в латентном пространстве.\n",
        "\n",
        "Посмотрим на этот эффект на 10 запусках VAE на тестовой выборке:"
      ]
    },
    {
      "cell_type": "code",
      "execution_count": null,
      "metadata": {
        "id": "027uvr-Kfmxn"
      },
      "outputs": [],
      "source": [
        "import numpy as np\n",
        "\n",
        "\n",
        "total_samples, total_labels = [], []\n",
        "\n",
        "for _ in range(10):\n",
        "    # process test data with VAE\n",
        "    trainer.test(autoencoder, test_loader)\n",
        "    run_res = autoencoder.test_result\n",
        "\n",
        "    # do vae_split and vae_reparametrize\n",
        "    mu, log_var = autoencoder.vae_split(run_res[\"latent\"])\n",
        "    mu, log_var = torch.tensor(mu), torch.tensor(log_var)\n",
        "    sample = autoencoder.vae_reparametrize(mu, log_var).numpy()\n",
        "\n",
        "    # accumulate results over several runs\n",
        "    total_samples.append(sample)\n",
        "    total_labels.append(run_res[\"labels\"])\n",
        "\n",
        "total_samples = np.vstack(total_samples)\n",
        "total_labels = np.vstack(total_labels)\n",
        "clear_output()"
      ]
    },
    {
      "cell_type": "code",
      "execution_count": null,
      "metadata": {
        "id": "feG1egqdfmxn"
      },
      "outputs": [],
      "source": [
        "plot_manifold(\n",
        "    total_samples,\n",
        "    total_labels.flatten(),\n",
        "    alpha=0.5,\n",
        "    title=\"VAE latent space after reparametrization\",\n",
        ")"
      ]
    },
    {
      "cell_type": "markdown",
      "metadata": {
        "id": "nl16q0tMfmxn"
      },
      "source": [
        "Видим, что цифры разделились в пространстве, но при этом жмутся друг к другу. При этом, что интересно, 4 и 9 почти неотличимы. Это можно объяснить тем, что двух компонент недостаточно, чтобы разделить настолько похожие цифры (по сути, все отличие в заполненности области между двумя рожками 4)."
      ]
    },
    {
      "cell_type": "markdown",
      "metadata": {
        "id": "HX-EHuzwfmxn"
      },
      "source": [
        "## Плавная интерполяция"
      ]
    },
    {
      "cell_type": "markdown",
      "metadata": {
        "id": "gg6er0CXfmxo"
      },
      "source": [
        "Можем \"погулять\" по латентному пространству и посмотреть на генерируемые из него изображения. Если мы используем размерность латентного пространства 2, мы можем взять точки в узлах равномерной сетки по двум латентным координатам и подать их в декодер.\n"
      ]
    },
    {
      "cell_type": "code",
      "execution_count": null,
      "metadata": {
        "id": "DHhjiAgtfmxo"
      },
      "outputs": [],
      "source": [
        "steps = 20  # number of images in a row\n",
        "space1 = torch.linspace(2, -2, steps)\n",
        "space2 = torch.linspace(-2, 2, steps)\n",
        "grid = torch.cartesian_prod(space1, space2)\n",
        "grid[:, [0, 1]] = grid[:, [1, 0]]\n",
        "\n",
        "plt.figure(figsize=(10, 8))\n",
        "plt.scatter(\n",
        "    total_samples[:, 0],\n",
        "    total_samples[:, 1],\n",
        "    c=total_labels.flatten(),\n",
        "    cmap=\"tab10\",\n",
        "    alpha=0.5,\n",
        "    s=3,\n",
        ")\n",
        "plt.colorbar()\n",
        "plt.scatter(grid.numpy()[:, 0], grid.numpy()[:, 1], c=\"k\", s=5)\n",
        "plt.show()"
      ]
    },
    {
      "cell_type": "markdown",
      "metadata": {
        "id": "h63S6Arpfmxo"
      },
      "source": [
        "В итоге получим плавные переходы между цифрами:"
      ]
    },
    {
      "cell_type": "code",
      "source": [
        "import numpy as np\n",
        "import matplotlib.pyplot as plt\n",
        "\n",
        "\n",
        "def plot_samples(*args, digit_size=28, name=None, single_size=2):\n",
        "    args = [x.squeeze() for x in args]\n",
        "    n = min([x.shape[0] for x in args])\n",
        "    figure = np.zeros((digit_size * len(args), digit_size * n))\n",
        "\n",
        "    for i in range(n):\n",
        "        for j in range(len(args)):\n",
        "            figure[\n",
        "                j * digit_size : (j + 1) * digit_size,\n",
        "                i * digit_size : (i + 1) * digit_size,\n",
        "            ] = args[j][i].squeeze()\n",
        "\n",
        "    plt.figure(figsize=(single_size * n, single_size * len(args)))\n",
        "\n",
        "    plt.imshow(figure, cmap=\"gray_r\", clim=(0, 1))\n",
        "\n",
        "    plt.grid(False)\n",
        "    ax = plt.gca()\n",
        "    ax.get_xaxis().set_visible(False)\n",
        "    ax.get_yaxis().set_visible(False)\n",
        "    if name is not None:\n",
        "        plt.savefig(name)\n",
        "    plt.show()"
      ],
      "metadata": {
        "id": "bL9gJc0pCTRG"
      },
      "execution_count": null,
      "outputs": []
    },
    {
      "cell_type": "code",
      "execution_count": null,
      "metadata": {
        "id": "HZidGLJlfmxo"
      },
      "outputs": [],
      "source": [
        "with torch.no_grad():\n",
        "    imgs = F.sigmoid(autoencoder.decoder(grid))\n",
        "    imgs = imgs.to(\"cpu\").numpy().squeeze()\n",
        "\n",
        "plot_samples(\n",
        "    *[imgs[x : x + steps] for x in range(0, steps * steps, steps)], single_size=0.35\n",
        ")"
      ]
    },
    {
      "cell_type": "markdown",
      "metadata": {
        "id": "dLvr0ioofmxo"
      },
      "source": [
        "Посмотрим, как теперь получится интерполировать между теми же цифрами 7 и 6. Для сравнения с результатом, полученным обычным автоэнкодером, возьмем размерность латентного пространства такую же, как у него (24)."
      ]
    },
    {
      "cell_type": "code",
      "execution_count": null,
      "metadata": {
        "id": "TdTtjHVgfmxo"
      },
      "outputs": [],
      "source": [
        "!mkdir lightning_logs/VAE_latent_dim=24"
      ]
    },
    {
      "cell_type": "code",
      "execution_count": null,
      "metadata": {
        "id": "hlyV2PQgfmxo"
      },
      "outputs": [],
      "source": [
        "L.seed_everything(42)\n",
        "\n",
        "latent_dim = 24\n",
        "encoder = VAEEncoder(latent_dim=latent_dim * 2)\n",
        "decoder = Decoder(latent_dim=latent_dim)\n",
        "\n",
        "autoencoder = LitVAE(encoder, decoder, kld_weight=0.005, recon_weight=1.0)\n",
        "\n",
        "exp_name = f\"VAE_latent_dim={latent_dim}\"\n",
        "logger = TensorBoardLogger(save_dir=\"lightning_logs\", name=exp_name)\n",
        "trainer = L.Trainer(max_epochs=5, logger=logger)\n",
        "\n",
        "trainer.fit(autoencoder, train_loader, val_loader)"
      ]
    },
    {
      "cell_type": "code",
      "execution_count": null,
      "metadata": {
        "id": "Bl7-0wwxfmxo"
      },
      "outputs": [],
      "source": [
        "seven = (test_set.data[test_set.targets == 7][4:5] / 255).unsqueeze(0)\n",
        "six = (test_set.data[test_set.targets == 6][7:8] / 255).unsqueeze(0)\n",
        "\n",
        "latent_space1_mu, _ = autoencoder.vae_split(autoencoder.encoder(seven))\n",
        "latent_space2_mu, _ = autoencoder.vae_split(autoencoder.encoder(six))"
      ]
    },
    {
      "cell_type": "code",
      "execution_count": null,
      "metadata": {
        "id": "Bsyrg2Swfmxo"
      },
      "outputs": [],
      "source": [
        "interp_steps = 10\n",
        "weight = torch.linspace(0, 1, steps=interp_steps)\n",
        "interp = torch.lerp(\n",
        "    latent_space1_mu.repeat(interp_steps, 1),\n",
        "    latent_space2_mu.repeat(interp_steps, 1),\n",
        "    weight=weight.view(-1, 1),\n",
        ")\n",
        "iterp_imgs = F.sigmoid(autoencoder.decoder(interp))\n",
        "_, axs = plt.subplots(nrows=1, ncols=interp_steps, figsize=(16, 4))\n",
        "for step in range(0, interp_steps):\n",
        "    figure = iterp_imgs[step].cpu().detach().numpy()\n",
        "    figure = figure.reshape(28, 28)\n",
        "    ax = axs[step]\n",
        "    ax.imshow(figure, cmap=\"gray_r\", clim=(0, 1))\n",
        "    ax.grid(False)\n",
        "    ax.get_xaxis().set_visible(False)\n",
        "    ax.get_yaxis().set_visible(False);"
      ]
    },
    {
      "cell_type": "markdown",
      "metadata": {
        "id": "AHrPQOwFfmxo"
      },
      "source": [
        "Видим плавную интерполяцию. Посмотрим на примере с видео."
      ]
    },
    {
      "cell_type": "code",
      "execution_count": null,
      "metadata": {
        "id": "Wclz1Ua3fmxo"
      },
      "outputs": [],
      "source": [
        "from PIL import Image\n",
        "\n",
        "interp_steps = 200\n",
        "weight = torch.linspace(0, 1, steps=interp_steps)\n",
        "interp = torch.lerp(\n",
        "    latent_space1_mu.repeat(interp_steps, 1),\n",
        "    latent_space2_mu.repeat(interp_steps, 1),\n",
        "    weight=weight.view(-1, 1),\n",
        ")\n",
        "iterp_imgs = F.sigmoid(autoencoder.decoder(interp))\n",
        "\n",
        "\n",
        "resize_coeff = 10\n",
        "imgs = np.squeeze(iterp_imgs.cpu().detach().numpy())\n",
        "size = (imgs.shape[1] * resize_coeff, imgs.shape[2] * resize_coeff)\n",
        "\n",
        "\n",
        "imgs = [\n",
        "    Image.fromarray(np.uint8(255 - img * 255)).resize(size).convert(\"RGB\")\n",
        "    for img in imgs\n",
        "]\n",
        "imgs[0].save(\n",
        "    \"vae_img.gif\",\n",
        "    save_all=True,\n",
        "    append_images=imgs[1:],\n",
        "    optimize=False,\n",
        "    duration=40,\n",
        "    loop=0,\n",
        ")"
      ]
    },
    {
      "cell_type": "code",
      "execution_count": null,
      "metadata": {
        "id": "sLNzusStfmxo"
      },
      "outputs": [],
      "source": [
        "from IPython.display import Image as iImage\n",
        "\n",
        "iImage(open(\"vae_img.gif\", \"rb\").read())"
      ]
    },
    {
      "cell_type": "markdown",
      "metadata": {
        "id": "TR3Q2dZ8fmxo"
      },
      "source": [
        "Семерка стремится сперва перевестись в девятку, которая затем переходит в шестерку, попутно представляя что-то похожее на восьмерку. Похоже, линия интерполяции теперь в меньшей степени проходит через \"пустоты\", из которых декодер не умеет восстанавливать что-то похожее на реальные цифры."
      ]
    },
    {
      "cell_type": "markdown",
      "metadata": {
        "id": "-vh2VGIIfmxo"
      },
      "source": [
        "Проверим наконец, что вариационный автоэнкодер работает как автоэнкодер и может, к примеру, убирать шум."
      ]
    },
    {
      "cell_type": "code",
      "source": [
        "class AddGaussianNoise:\n",
        "    def __init__(self, mean=0.0, std=1.0):\n",
        "        self.std = std\n",
        "        self.mean = mean\n",
        "\n",
        "    def __call__(self, tensor):\n",
        "        return tensor + torch.randn(tensor.size()) * self.std + self.mean\n",
        "\n",
        "    def __repr__(self):\n",
        "        return self.__class__.__name__ + f\"(mean={self.mean}, std={self.std})\""
      ],
      "metadata": {
        "id": "4x2e411if7oj"
      },
      "execution_count": null,
      "outputs": []
    },
    {
      "cell_type": "code",
      "source": [
        "torch.manual_seed(42)\n",
        "\n",
        "test_noise_set = MNIST(\n",
        "    root=root,\n",
        "    train=False,\n",
        "    transform=torchvision.transforms.Compose(\n",
        "        [torchvision.transforms.ToTensor(), AddGaussianNoise(0.0, 0.10)]\n",
        "    ),\n",
        "    download=True,\n",
        ")\n",
        "\n",
        "test_noised_loader = torch.utils.data.DataLoader(\n",
        "    torch.utils.data.Subset(test_noise_set, list(range(64))),\n",
        "    batch_size=batch_size,\n",
        "    shuffle=False,\n",
        "    num_workers=2,\n",
        ")"
      ],
      "metadata": {
        "id": "6tqIlkoEf0o8"
      },
      "execution_count": null,
      "outputs": []
    },
    {
      "cell_type": "code",
      "execution_count": null,
      "metadata": {
        "id": "yYc4RFq1fmxp"
      },
      "outputs": [],
      "source": [
        "trainer.test(autoencoder, test_noised_loader)\n",
        "run_res = autoencoder.test_result\n",
        "\n",
        "plot_samples(run_res[\"real\"][0:9], run_res[\"recon\"][0:9])"
      ]
    },
    {
      "cell_type": "markdown",
      "metadata": {
        "id": "Hj16c_kAfmxp"
      },
      "source": [
        "Аналогично посмотрим, как он восстанавливает изображения:"
      ]
    },
    {
      "cell_type": "code",
      "execution_count": null,
      "metadata": {
        "id": "sD7HAj5gfmxp"
      },
      "outputs": [],
      "source": [
        "trainer.test(autoencoder, test_loader)\n",
        "run_res = autoencoder.test_result\n",
        "\n",
        "plot_samples(run_res[\"real\"][0:9], run_res[\"recon\"][0:9])"
      ]
    },
    {
      "cell_type": "markdown",
      "metadata": {
        "id": "ZeFr0kEsfmxp"
      },
      "source": [
        "Работает, но изображения получаются \"размытыми\". Это следствие семплирования из нормального распределения."
      ]
    },
    {
      "cell_type": "markdown",
      "metadata": {
        "id": "P3fokQZKfmxp"
      },
      "source": [
        "## Векторная арифметика"
      ]
    },
    {
      "cell_type": "markdown",
      "metadata": {
        "id": "PGR47VsZfmxp"
      },
      "source": [
        "В принципе, можно даже в латентном пространстве брать разницу черт написания двух одинаковых цифр, прибавлять к другой цифре, получая в результате цифру, написанную немного по-другому."
      ]
    },
    {
      "cell_type": "markdown",
      "metadata": {
        "id": "qcOjfzEhfmxp"
      },
      "source": [
        "Например, у нас есть 1, написанная без наклона, и 1, написанная с наклоном.\n",
        "И у нас есть 9 без наклона.\n",
        "\n",
        "Вычитаем из девятки единицу без наклона и прибавляем единицу с наклоном. Если все пройдет хорошо, получим девятку с наклоном.\n",
        "\n",
        "\n",
        "\n"
      ]
    },
    {
      "cell_type": "markdown",
      "metadata": {
        "id": "pRsv4cAwfmxp"
      },
      "source": [
        "<center><img src=\"https://ml.gan4x4.ru/msu/dep-2.1/L12/vector_arithmetic_example.png\" width=\"550\"></center>\n",
        "\n",
        "<center><em>Source: <a href=\"https://blog.otoro.net/2016/04/01/generating-large-images-from-latent-vectors/#:~:text=First%2C%20let%E2%80%99s%20get,the%20autoencoded%20version\">Generating Large Images from Latent Vectors</a></em></center>\n",
        "\n",
        "\n"
      ]
    },
    {
      "cell_type": "markdown",
      "metadata": {
        "id": "2wlQmx2qfmxp"
      },
      "source": [
        "Попробуем сделать это сами:"
      ]
    },
    {
      "cell_type": "code",
      "execution_count": null,
      "metadata": {
        "id": "LCpLKvDJfmxp"
      },
      "outputs": [],
      "source": [
        "ones = [i[0] for i in test_set if i[1] == 1]\n",
        "nines = [i[0] for i in test_set if i[1] == 9]\n",
        "images_vectors = [\n",
        "    Image.fromarray(np.uint8(255 - nines[95][0] * 255)).resize((256, 256)),\n",
        "    Image.fromarray(np.uint8(255 - ones[70][0] * 255)).resize((256, 256)),\n",
        "    Image.fromarray(np.uint8(255 - ones[0][0] * 255)).resize((256, 256)),\n",
        "]"
      ]
    },
    {
      "cell_type": "code",
      "execution_count": null,
      "metadata": {
        "id": "vMDRiaomfmxp"
      },
      "outputs": [],
      "source": [
        "straight_9 = torch.tensor(np.expand_dims(nines[95], axis=0))\n",
        "straight_1 = torch.tensor(np.expand_dims(ones[70], axis=0))\n",
        "tilted_1 = torch.tensor(np.expand_dims(ones[0], axis=0))\n",
        "\n",
        "# latent_9_straight.shape\n",
        "latent_9_straight, _ = autoencoder.vae_split(autoencoder.encoder(straight_9))\n",
        "latent_1_straight, _ = autoencoder.vae_split(autoencoder.encoder(straight_1))\n",
        "latent_1_tilted, _ = autoencoder.vae_split(autoencoder.encoder(tilted_1))\n",
        "\n",
        "latent_9_tilted = latent_9_straight - latent_1_straight + latent_1_tilted\n",
        "gen_9_tilted = F.sigmoid(autoencoder.decoder(latent_9_tilted))\n",
        "\n",
        "images_vectors.append(\n",
        "    Image.fromarray(\n",
        "        np.uint8(255 - np.squeeze(gen_9_tilted.cpu().detach().numpy()) * 255)\n",
        "    ).resize((256, 256))\n",
        ")"
      ]
    },
    {
      "cell_type": "code",
      "execution_count": null,
      "metadata": {
        "id": "GsFKaa_Ofmxp"
      },
      "outputs": [],
      "source": [
        "fig, axes = plt.subplots(nrows=1, ncols=7, figsize=(14, 2))\n",
        "\n",
        "operators = [\"–\", \"+\", \"=\", \"\"]\n",
        "image_index = 0\n",
        "for i, ax in enumerate(axes):\n",
        "    if i % 2 == 0:\n",
        "        ax.imshow(images_vectors[image_index], cmap=\"gray\")\n",
        "        image_index += 1\n",
        "    else:\n",
        "        ax.text(0.5, 0.5, operators[int(i / 2)], fontsize=40, ha=\"center\", va=\"center\")\n",
        "        ax.axis(\"off\")\n",
        "    ax.axis(\"off\")\n",
        "plt.show()"
      ]
    },
    {
      "cell_type": "markdown",
      "metadata": {
        "id": "-peNVENVfmxp"
      },
      "source": [
        "Удалось перенести наклон единицы на девятку. Получилось неплохо, однако простой VAE не гарантирует того, что \"фокус удастся\". Для получения возможности использовать векторную арифметику могут применяться специальные функции потерь и архитектуры."
      ]
    },
    {
      "cell_type": "markdown",
      "metadata": {
        "id": "7wy-LeAMfmxq"
      },
      "source": [
        "## Ограничения VAE"
      ]
    },
    {
      "cell_type": "markdown",
      "metadata": {
        "id": "Q2EsK262fmxq"
      },
      "source": [
        "Одна из проблем VAE, с которой можно столкнуться, состоит в том, что две компоненты функции потерь конфликтуют друг с другом. Если будет доминировать KL-loss, то мы получим представление, из которого наши объекты очень плохо восстанавливаются — они раскиданы по представлению, как угодно.\n",
        "\n",
        "Если же, наоборот, будет доминировать reconstruction loss, то мы получим ситуацию, в которой объекты восстанавливаются нормально, однако в латентном пространстве есть пустоты."
      ]
    },
    {
      "cell_type": "markdown",
      "metadata": {
        "id": "erno8U9ufmxq"
      },
      "source": [
        "Проблема возникает и с самой KL-дивергенцией, у которой есть ряд существенных недостатков. Есть другие способы оценки близости двух распределений, которые порой дают лучшие результаты. К ним относятся дивергенция Йенсена — Шеннона и метрика Вассерштейна (используется в Wasserstein autoencoders), изучение которых выходит за рамки курса.\n",
        "\n",
        "Кроме того, в случае, когда декодировщик содержит значительно больше параметров, нежели кодировщик, может возникать ситуация, при которой сгенерированное латентное представление игнорируется."
      ]
    },
    {
      "cell_type": "markdown",
      "metadata": {
        "id": "c5JCDSKWfmxq"
      },
      "source": [
        "# Условные вариационные автоэнкодеры (CVAE)"
      ]
    },
    {
      "cell_type": "markdown",
      "metadata": {
        "id": "UuzJWMB-fmxq"
      },
      "source": [
        "## Реализация CVAE"
      ]
    },
    {
      "cell_type": "markdown",
      "metadata": {
        "id": "PTTTCtpmfmxq"
      },
      "source": [
        "Как, используя обычный VAE, сгенерировать картинку с заданной меткой?\n",
        "\n",
        "На самом деле, задача нетривиальна. Как вариант, мы можем понять, в какие области латентного пространства VAE отображает разные цифры, и затем семплировать уже из этих областей.\n",
        "\n",
        "Хорошо, а если мы хотим нарисовать единицу тем же почерком, которым нарисована данная нам тройка? В этом случае классический VAE вообще не получится использовать.\n",
        "\n",
        "В случае, если мы имеем априорную информацию, например, разметку изображений по классам, мы можем подавать ее в модель при обучении. Тем самым мы можем *обуславливать* декодировщик на генерацию объекта конкретного класса. Таким образом мы можем получить Conditional VAE (CVAE)."
      ]
    },
    {
      "cell_type": "markdown",
      "metadata": {
        "id": "Ras1lphGfmxq"
      },
      "source": [
        "<center><img src=\"https://ml.gan4x4.ru/msu/dev-2.2/L12/out/cvae_scheme.png\" width=\"850\"></center>\n"
      ]
    },
    {
      "cell_type": "markdown",
      "metadata": {
        "id": "M0bfg6hOfmxq"
      },
      "source": [
        "Как подмешивать метку к изображению, чтобы передать это полностью свёрточной нейронной сети, не очевидно и обычно не нужно. Часто достаточно передавать метку только декодеру. Энкодер имеет в распоряжении изначальный объект и при желании может предсказать его метку сам.\n",
        "\n",
        "Напишем код для CVAE. По сути, надо поменять только декодер."
      ]
    },
    {
      "cell_type": "markdown",
      "metadata": {
        "id": "5NHB5kA5fmxq"
      },
      "source": [
        "Для кодирования метки класса добавим в декодер слой `label_embedding`, содержащий модуль `nn.Embedding`. Этот модуль будет обучать векторные представления меток классов и переводить их в вектора с размерностью `class_dim`. Размерность этих эмбеддингов в общем случае должна быть сопоставима с размерностью скрытого представления самого автоэнкодера.\n",
        "\n",
        "Во время работы мы будем конкатенировать латентное представление, полученное после репараметризации выхода энкодера, с векторным представлением метки класса. Для этого требуется изменить количество входов линейного слоя декодера."
      ]
    },
    {
      "cell_type": "code",
      "execution_count": null,
      "metadata": {
        "id": "7eR6C7zafmxq"
      },
      "outputs": [],
      "source": [
        "class CDecoder(Decoder):\n",
        "    def __init__(self, latent_dim, class_dim):\n",
        "        super().__init__(latent_dim)\n",
        "\n",
        "        self.label_embedding = nn.Embedding(num_embeddings=10, embedding_dim=class_dim)\n",
        "\n",
        "        linear_out_features = self.linear.out_features\n",
        "\n",
        "        # linear will take latent vector concatenated with label embedding\n",
        "        self.linear = nn.Linear(\n",
        "            in_features=latent_dim + class_dim,\n",
        "            out_features=linear_out_features,\n",
        "        )\n",
        "\n",
        "    def forward(self, x, label):\n",
        "        label = self.label_embedding(label)\n",
        "        x = torch.cat(\n",
        "            [x, label], dim=1\n",
        "        )  # concatenate latent vector and label embedding\n",
        "        x = self.linear(x)\n",
        "        x = x.view(-1, 256, 2, 2)\n",
        "        x = self.decoder(x)\n",
        "        return x"
      ]
    },
    {
      "cell_type": "markdown",
      "metadata": {
        "id": "tCo-6uwSfmxq"
      },
      "source": [
        "Для описания CVAE потребуется лишь внести изменение в логику прохождения данных через модель (метод `forward_handler`): декодер принимает не только семпл после репараметризации выхода энкодера, но еще и метку класса. Вся остальная логика полностью наследуется от VAE."
      ]
    },
    {
      "cell_type": "code",
      "execution_count": null,
      "metadata": {
        "id": "yu307Gxzfmxq"
      },
      "outputs": [],
      "source": [
        "import lightning as L\n",
        "\n",
        "\n",
        "class LitCVAE(LitVAE):\n",
        "    def forward_handler(self, data, labels, *args, **kwargs):\n",
        "        # here is the logic how data is moved through AE\n",
        "        latent = self.encoder(data)\n",
        "\n",
        "        mu, log_var = self.vae_split(latent)\n",
        "        sample = self.vae_reparametrize(mu, log_var)\n",
        "\n",
        "        # decoder takes latent vector and class label\n",
        "        recon = self.decoder(sample, labels)\n",
        "        return latent, recon"
      ]
    },
    {
      "cell_type": "code",
      "execution_count": null,
      "metadata": {
        "id": "wYTXY8b4fmxq"
      },
      "outputs": [],
      "source": [
        "!mkdir lightning_logs/CVAE_latent_dim=2"
      ]
    },
    {
      "cell_type": "code",
      "execution_count": null,
      "metadata": {
        "id": "WEzsuSERfmxq"
      },
      "outputs": [],
      "source": [
        "L.seed_everything(42)\n",
        "\n",
        "latent_dim = 2\n",
        "class_dim = 4\n",
        "encoder = VAEEncoder(latent_dim=latent_dim * 2)\n",
        "decoder = CDecoder(latent_dim=latent_dim, class_dim=class_dim)\n",
        "\n",
        "autoencoder = LitCVAE(encoder, decoder, kld_weight=0.005, recon_weight=1.0)\n",
        "\n",
        "exp_name = f\"CVAE_latent_dim={latent_dim}\"\n",
        "logger = TensorBoardLogger(save_dir=\"lightning_logs\", name=exp_name)\n",
        "trainer = L.Trainer(max_epochs=5, logger=logger)\n",
        "\n",
        "trainer.fit(autoencoder, train_loader, val_loader)"
      ]
    },
    {
      "cell_type": "code",
      "execution_count": null,
      "metadata": {
        "id": "qwqE9fKlfmxq"
      },
      "outputs": [],
      "source": [
        "trainer.test(autoencoder, test_loader)\n",
        "run_res = autoencoder.test_result\n",
        "\n",
        "plot_samples(run_res[\"real\"][0:9], run_res[\"recon\"][0:9])"
      ]
    },
    {
      "cell_type": "markdown",
      "metadata": {
        "id": "jCsaFDYtfmxq"
      },
      "source": [
        "Добавив передачу метки в декодер, мы позволили автоэнкодеру отображать все цифры в \"одно место\". За счет этого ему легче стало учиться.\n",
        "\n",
        "При этом, если нарисовать латентное представление для всех наших цифр разом, получится комок, сосредоточенный в области нормального распределения. Это не значит, что оно плохое. Просто наша картина не учитывает, что нейросеть различает цифры теперь по меткам, а не по латентному представлению."
      ]
    },
    {
      "cell_type": "code",
      "execution_count": null,
      "metadata": {
        "id": "WL1DCyjhfmxq"
      },
      "outputs": [],
      "source": [
        "plot_manifold(run_res[\"latent\"], run_res[\"labels\"])"
      ]
    },
    {
      "cell_type": "markdown",
      "metadata": {
        "id": "-G-8wyOlfmxr"
      },
      "source": [
        "Теперь у каждой цифры \"свое\" нормальное распределение."
      ]
    },
    {
      "cell_type": "code",
      "execution_count": null,
      "metadata": {
        "id": "gQH2p0A1fmxr"
      },
      "outputs": [],
      "source": [
        "plot_manifold(run_res[\"latent\"][run_res[\"labels\"] == 4])"
      ]
    },
    {
      "cell_type": "code",
      "execution_count": null,
      "metadata": {
        "id": "7DpjbnPQfmxr"
      },
      "outputs": [],
      "source": [
        "plot_manifold(run_res[\"latent\"][run_res[\"labels\"] == 9])"
      ]
    },
    {
      "cell_type": "markdown",
      "metadata": {
        "id": "zjtvSdITfmxr"
      },
      "source": [
        "### Генерация заданных цифр из латентного распределения"
      ]
    },
    {
      "cell_type": "markdown",
      "metadata": {
        "id": "5tNfKHehfmxr"
      },
      "source": [
        "Посмотрим, как выглядит наше латентное представление, скажем, для четверок, которых мы до этого почти не видели (сливались с 9)."
      ]
    },
    {
      "cell_type": "code",
      "execution_count": null,
      "metadata": {
        "id": "Q0RDWrCFfmxr"
      },
      "outputs": [],
      "source": [
        "steps = 20  # number of images in a row\n",
        "space1 = torch.linspace(2, -2, steps)\n",
        "space2 = torch.linspace(-2, 2, steps)\n",
        "grid = torch.cartesian_prod(space1, space2)\n",
        "grid[:, [0, 1]] = grid[:, [1, 0]]\n",
        "\n",
        "label = torch.full((grid.shape[0],), 4)\n",
        "with torch.no_grad():\n",
        "    imgs = F.sigmoid(autoencoder.decoder(grid, label))\n",
        "    imgs = imgs.cpu().numpy().squeeze()\n",
        "\n",
        "plot_samples(\n",
        "    *[imgs[x : x + steps] for x in range(0, steps * steps, steps)], single_size=0.35\n",
        ")"
      ]
    },
    {
      "cell_type": "markdown",
      "metadata": {
        "id": "75yW9Z2Tfmxr"
      },
      "source": [
        "Видим, что четверки плавно расположены по стилю."
      ]
    },
    {
      "cell_type": "code",
      "execution_count": null,
      "metadata": {
        "id": "uJ4LFrkIfmxr"
      },
      "outputs": [],
      "source": [
        "label = torch.full((grid.shape[0],), 9)\n",
        "with torch.no_grad():\n",
        "    imgs = F.sigmoid(autoencoder.decoder(grid, label))\n",
        "    imgs = imgs.cpu().numpy().squeeze()\n",
        "\n",
        "plot_samples(\n",
        "    *[imgs[x : x + steps] for x in range(0, steps * steps, steps)], single_size=0.35\n",
        ")"
      ]
    },
    {
      "cell_type": "markdown",
      "metadata": {
        "id": "Gk6wk_p6fmxr"
      },
      "source": [
        "При желании можно посмотреть на процесс того, как нейросеть учит такие латентные представления.\n",
        "\n",
        "Ниже показано, как нейросеть выполняет задачу генерации заданной цифры по мере обучения и как выглядит латентное представление объектов, относящихся к данной цифре (для примера взята семерка)."
      ]
    },
    {
      "cell_type": "markdown",
      "metadata": {
        "id": "uN5NJuWdfmxr"
      },
      "source": [
        "<table><tr>\n",
        "<td> <img src=\"https://ml.gan4x4.ru/msu/dep-2.1/L12/gen_cvae_7.gif\" style=\"width: 400px;\"/> </td>\n",
        "<td> <img src=\"https://ml.gan4x4.ru/msu/dep-2.1/L12/lat_cvae_7.gif\" style=\"width: 400px;\"/> </td>\n",
        "</tr></table>\n",
        "\n",
        "<center><em>Source: <a href=\"https://habr.com/ru/articles/331664/\">Автоэнкодеры в Keras, Часть 4: Conditional VAE</a></em></center>"
      ]
    },
    {
      "cell_type": "markdown",
      "metadata": {
        "id": "gvVE7_uHfmxr"
      },
      "source": [
        "### Генерация заданных цифр с переносом стиля"
      ]
    },
    {
      "cell_type": "markdown",
      "metadata": {
        "id": "EjLurtPyfmxr"
      },
      "source": [
        "Также успешно такая нейросеть справится в задаче, где мы используем латентное представление одной цифры  для того, чтобы сгенерировать цифру с таким же стилем написания.\n",
        "\n",
        "Чтобы сделать это, достаточно просто получить латентное представление для 8, а затем передать его в декодер с меткой 3."
      ]
    },
    {
      "cell_type": "markdown",
      "metadata": {
        "id": "A8P4ijs_fmxr"
      },
      "source": [
        "<center><img src=\"https://ml.gan4x4.ru/msu/dev-2.2/L12/out/generation_indicated_digits_from_latent_space.png\" width=\"800\"></center>\n"
      ]
    },
    {
      "cell_type": "markdown",
      "metadata": {
        "id": "v8glOX0kfmxr"
      },
      "source": [
        "Результаты переноса стилей для нескольких разных восьмерок представлены ниже.\n",
        "\n"
      ]
    },
    {
      "cell_type": "markdown",
      "metadata": {
        "id": "SGRiFblmfmxr"
      },
      "source": [
        "<center><img src=\"https://ml.gan4x4.ru/msu/dev-2.2/L12/out/style_transfer.png\" width=\"500\"></center>"
      ]
    },
    {
      "cell_type": "markdown",
      "metadata": {
        "id": "cNtCcunefmxr"
      },
      "source": [
        "Реализуем в коде перенос стиля двойки на другие цифры."
      ]
    },
    {
      "cell_type": "code",
      "execution_count": null,
      "metadata": {
        "id": "c17DyI_9fmxr"
      },
      "outputs": [],
      "source": [
        "imgs, labels = next(iter(test_loader))\n",
        "real = imgs[labels == 2][4:5]"
      ]
    },
    {
      "cell_type": "code",
      "execution_count": null,
      "metadata": {
        "id": "ECv259sYfmxs"
      },
      "outputs": [],
      "source": [
        "size = (256, 256)\n",
        "Image.fromarray(np.uint8(255 - np.squeeze(real.numpy()) * 255)).resize(size)"
      ]
    },
    {
      "cell_type": "code",
      "execution_count": null,
      "metadata": {
        "id": "y4ryTe9wfmxs"
      },
      "outputs": [],
      "source": [
        "torch.manual_seed(42)\n",
        "\n",
        "sample_size = 10\n",
        "\n",
        "mu, log_var = autoencoder.vae_split(autoencoder.encoder(real))\n",
        "sigma = torch.exp(0.5 * log_var)\n",
        "z = torch.randn(sample_size, mu.shape[1])\n",
        "latent = z * sigma + mu\n",
        "\n",
        "label = torch.arange(10)"
      ]
    },
    {
      "cell_type": "code",
      "execution_count": null,
      "metadata": {
        "id": "6mZilNzsfmxs"
      },
      "outputs": [],
      "source": [
        "with torch.no_grad():\n",
        "    imgs = F.sigmoid(autoencoder.decoder(latent, label))\n",
        "    imgs = np.squeeze(imgs.cpu().numpy())"
      ]
    },
    {
      "cell_type": "code",
      "execution_count": null,
      "metadata": {
        "id": "az_wCexHfmxs"
      },
      "outputs": [],
      "source": [
        "plot_samples(imgs)"
      ]
    }
  ]
}