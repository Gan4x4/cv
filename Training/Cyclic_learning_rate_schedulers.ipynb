{
  "nbformat": 4,
  "nbformat_minor": 0,
  "metadata": {
    "colab": {
      "provenance": []
    },
    "kernelspec": {
      "name": "python3",
      "display_name": "Python 3"
    },
    "language_info": {
      "name": "python"
    },
    "widgets": {
      "application/vnd.jupyter.widget-state+json": {
        "01f8f14572994b54adbae495c3c96000": {
          "model_module": "@jupyter-widgets/controls",
          "model_name": "HBoxModel",
          "model_module_version": "1.5.0",
          "state": {
            "_dom_classes": [],
            "_model_module": "@jupyter-widgets/controls",
            "_model_module_version": "1.5.0",
            "_model_name": "HBoxModel",
            "_view_count": null,
            "_view_module": "@jupyter-widgets/controls",
            "_view_module_version": "1.5.0",
            "_view_name": "HBoxView",
            "box_style": "",
            "children": [
              "IPY_MODEL_b689092182ed4ffc94fe7ea5238bfb87",
              "IPY_MODEL_20a3818fb2884f37a9266130c93e5382",
              "IPY_MODEL_9d5c65966bc34ffbaab0b1ba30d81060"
            ],
            "layout": "IPY_MODEL_6db2d967e3cf46478fd310ae06000c1c"
          }
        },
        "b689092182ed4ffc94fe7ea5238bfb87": {
          "model_module": "@jupyter-widgets/controls",
          "model_name": "HTMLModel",
          "model_module_version": "1.5.0",
          "state": {
            "_dom_classes": [],
            "_model_module": "@jupyter-widgets/controls",
            "_model_module_version": "1.5.0",
            "_model_name": "HTMLModel",
            "_view_count": null,
            "_view_module": "@jupyter-widgets/controls",
            "_view_module_version": "1.5.0",
            "_view_name": "HTMLView",
            "description": "",
            "description_tooltip": null,
            "layout": "IPY_MODEL_c614f6d68c144ac7a7acb688ed068a6a",
            "placeholder": "​",
            "style": "IPY_MODEL_afaefdfb03c3480694320346ca2ddc5f",
            "value": "100%"
          }
        },
        "20a3818fb2884f37a9266130c93e5382": {
          "model_module": "@jupyter-widgets/controls",
          "model_name": "FloatProgressModel",
          "model_module_version": "1.5.0",
          "state": {
            "_dom_classes": [],
            "_model_module": "@jupyter-widgets/controls",
            "_model_module_version": "1.5.0",
            "_model_name": "FloatProgressModel",
            "_view_count": null,
            "_view_module": "@jupyter-widgets/controls",
            "_view_module_version": "1.5.0",
            "_view_name": "ProgressView",
            "bar_style": "success",
            "description": "",
            "description_tooltip": null,
            "layout": "IPY_MODEL_ae411b3ca46642d0863fe134e30e4934",
            "max": 10,
            "min": 0,
            "orientation": "horizontal",
            "style": "IPY_MODEL_1ffed12261204e97a03cc21f98683d57",
            "value": 10
          }
        },
        "9d5c65966bc34ffbaab0b1ba30d81060": {
          "model_module": "@jupyter-widgets/controls",
          "model_name": "HTMLModel",
          "model_module_version": "1.5.0",
          "state": {
            "_dom_classes": [],
            "_model_module": "@jupyter-widgets/controls",
            "_model_module_version": "1.5.0",
            "_model_name": "HTMLModel",
            "_view_count": null,
            "_view_module": "@jupyter-widgets/controls",
            "_view_module_version": "1.5.0",
            "_view_name": "HTMLView",
            "description": "",
            "description_tooltip": null,
            "layout": "IPY_MODEL_f0e84d6f5719413c83e0cbeed7f427f3",
            "placeholder": "​",
            "style": "IPY_MODEL_95ca71d43ee8435db1de5db0c56ef97f",
            "value": " 10/10 [04:45&lt;00:00, 27.50s/it]"
          }
        },
        "6db2d967e3cf46478fd310ae06000c1c": {
          "model_module": "@jupyter-widgets/base",
          "model_name": "LayoutModel",
          "model_module_version": "1.2.0",
          "state": {
            "_model_module": "@jupyter-widgets/base",
            "_model_module_version": "1.2.0",
            "_model_name": "LayoutModel",
            "_view_count": null,
            "_view_module": "@jupyter-widgets/base",
            "_view_module_version": "1.2.0",
            "_view_name": "LayoutView",
            "align_content": null,
            "align_items": null,
            "align_self": null,
            "border": null,
            "bottom": null,
            "display": null,
            "flex": null,
            "flex_flow": null,
            "grid_area": null,
            "grid_auto_columns": null,
            "grid_auto_flow": null,
            "grid_auto_rows": null,
            "grid_column": null,
            "grid_gap": null,
            "grid_row": null,
            "grid_template_areas": null,
            "grid_template_columns": null,
            "grid_template_rows": null,
            "height": null,
            "justify_content": null,
            "justify_items": null,
            "left": null,
            "margin": null,
            "max_height": null,
            "max_width": null,
            "min_height": null,
            "min_width": null,
            "object_fit": null,
            "object_position": null,
            "order": null,
            "overflow": null,
            "overflow_x": null,
            "overflow_y": null,
            "padding": null,
            "right": null,
            "top": null,
            "visibility": null,
            "width": null
          }
        },
        "c614f6d68c144ac7a7acb688ed068a6a": {
          "model_module": "@jupyter-widgets/base",
          "model_name": "LayoutModel",
          "model_module_version": "1.2.0",
          "state": {
            "_model_module": "@jupyter-widgets/base",
            "_model_module_version": "1.2.0",
            "_model_name": "LayoutModel",
            "_view_count": null,
            "_view_module": "@jupyter-widgets/base",
            "_view_module_version": "1.2.0",
            "_view_name": "LayoutView",
            "align_content": null,
            "align_items": null,
            "align_self": null,
            "border": null,
            "bottom": null,
            "display": null,
            "flex": null,
            "flex_flow": null,
            "grid_area": null,
            "grid_auto_columns": null,
            "grid_auto_flow": null,
            "grid_auto_rows": null,
            "grid_column": null,
            "grid_gap": null,
            "grid_row": null,
            "grid_template_areas": null,
            "grid_template_columns": null,
            "grid_template_rows": null,
            "height": null,
            "justify_content": null,
            "justify_items": null,
            "left": null,
            "margin": null,
            "max_height": null,
            "max_width": null,
            "min_height": null,
            "min_width": null,
            "object_fit": null,
            "object_position": null,
            "order": null,
            "overflow": null,
            "overflow_x": null,
            "overflow_y": null,
            "padding": null,
            "right": null,
            "top": null,
            "visibility": null,
            "width": null
          }
        },
        "afaefdfb03c3480694320346ca2ddc5f": {
          "model_module": "@jupyter-widgets/controls",
          "model_name": "DescriptionStyleModel",
          "model_module_version": "1.5.0",
          "state": {
            "_model_module": "@jupyter-widgets/controls",
            "_model_module_version": "1.5.0",
            "_model_name": "DescriptionStyleModel",
            "_view_count": null,
            "_view_module": "@jupyter-widgets/base",
            "_view_module_version": "1.2.0",
            "_view_name": "StyleView",
            "description_width": ""
          }
        },
        "ae411b3ca46642d0863fe134e30e4934": {
          "model_module": "@jupyter-widgets/base",
          "model_name": "LayoutModel",
          "model_module_version": "1.2.0",
          "state": {
            "_model_module": "@jupyter-widgets/base",
            "_model_module_version": "1.2.0",
            "_model_name": "LayoutModel",
            "_view_count": null,
            "_view_module": "@jupyter-widgets/base",
            "_view_module_version": "1.2.0",
            "_view_name": "LayoutView",
            "align_content": null,
            "align_items": null,
            "align_self": null,
            "border": null,
            "bottom": null,
            "display": null,
            "flex": null,
            "flex_flow": null,
            "grid_area": null,
            "grid_auto_columns": null,
            "grid_auto_flow": null,
            "grid_auto_rows": null,
            "grid_column": null,
            "grid_gap": null,
            "grid_row": null,
            "grid_template_areas": null,
            "grid_template_columns": null,
            "grid_template_rows": null,
            "height": null,
            "justify_content": null,
            "justify_items": null,
            "left": null,
            "margin": null,
            "max_height": null,
            "max_width": null,
            "min_height": null,
            "min_width": null,
            "object_fit": null,
            "object_position": null,
            "order": null,
            "overflow": null,
            "overflow_x": null,
            "overflow_y": null,
            "padding": null,
            "right": null,
            "top": null,
            "visibility": null,
            "width": null
          }
        },
        "1ffed12261204e97a03cc21f98683d57": {
          "model_module": "@jupyter-widgets/controls",
          "model_name": "ProgressStyleModel",
          "model_module_version": "1.5.0",
          "state": {
            "_model_module": "@jupyter-widgets/controls",
            "_model_module_version": "1.5.0",
            "_model_name": "ProgressStyleModel",
            "_view_count": null,
            "_view_module": "@jupyter-widgets/base",
            "_view_module_version": "1.2.0",
            "_view_name": "StyleView",
            "bar_color": null,
            "description_width": ""
          }
        },
        "f0e84d6f5719413c83e0cbeed7f427f3": {
          "model_module": "@jupyter-widgets/base",
          "model_name": "LayoutModel",
          "model_module_version": "1.2.0",
          "state": {
            "_model_module": "@jupyter-widgets/base",
            "_model_module_version": "1.2.0",
            "_model_name": "LayoutModel",
            "_view_count": null,
            "_view_module": "@jupyter-widgets/base",
            "_view_module_version": "1.2.0",
            "_view_name": "LayoutView",
            "align_content": null,
            "align_items": null,
            "align_self": null,
            "border": null,
            "bottom": null,
            "display": null,
            "flex": null,
            "flex_flow": null,
            "grid_area": null,
            "grid_auto_columns": null,
            "grid_auto_flow": null,
            "grid_auto_rows": null,
            "grid_column": null,
            "grid_gap": null,
            "grid_row": null,
            "grid_template_areas": null,
            "grid_template_columns": null,
            "grid_template_rows": null,
            "height": null,
            "justify_content": null,
            "justify_items": null,
            "left": null,
            "margin": null,
            "max_height": null,
            "max_width": null,
            "min_height": null,
            "min_width": null,
            "object_fit": null,
            "object_position": null,
            "order": null,
            "overflow": null,
            "overflow_x": null,
            "overflow_y": null,
            "padding": null,
            "right": null,
            "top": null,
            "visibility": null,
            "width": null
          }
        },
        "95ca71d43ee8435db1de5db0c56ef97f": {
          "model_module": "@jupyter-widgets/controls",
          "model_name": "DescriptionStyleModel",
          "model_module_version": "1.5.0",
          "state": {
            "_model_module": "@jupyter-widgets/controls",
            "_model_module_version": "1.5.0",
            "_model_name": "DescriptionStyleModel",
            "_view_count": null,
            "_view_module": "@jupyter-widgets/base",
            "_view_module_version": "1.2.0",
            "_view_name": "StyleView",
            "description_width": ""
          }
        },
        "056a05f51ae646cca81e1cded585468b": {
          "model_module": "@jupyter-widgets/controls",
          "model_name": "HBoxModel",
          "model_module_version": "1.5.0",
          "state": {
            "_dom_classes": [],
            "_model_module": "@jupyter-widgets/controls",
            "_model_module_version": "1.5.0",
            "_model_name": "HBoxModel",
            "_view_count": null,
            "_view_module": "@jupyter-widgets/controls",
            "_view_module_version": "1.5.0",
            "_view_name": "HBoxView",
            "box_style": "",
            "children": [
              "IPY_MODEL_501472e086604e54bb3a063cd97df4e0",
              "IPY_MODEL_f18052ec57ea44f8a3914b46d818588b",
              "IPY_MODEL_45ff6158b7d94c65877b363d4278d8e7"
            ],
            "layout": "IPY_MODEL_43a98476de564bf6b701096bf19faa12"
          }
        },
        "501472e086604e54bb3a063cd97df4e0": {
          "model_module": "@jupyter-widgets/controls",
          "model_name": "HTMLModel",
          "model_module_version": "1.5.0",
          "state": {
            "_dom_classes": [],
            "_model_module": "@jupyter-widgets/controls",
            "_model_module_version": "1.5.0",
            "_model_name": "HTMLModel",
            "_view_count": null,
            "_view_module": "@jupyter-widgets/controls",
            "_view_module_version": "1.5.0",
            "_view_name": "HTMLView",
            "description": "",
            "description_tooltip": null,
            "layout": "IPY_MODEL_8c6dfabb750b48558241a87c338a89dc",
            "placeholder": "​",
            "style": "IPY_MODEL_f57b113953974d97bb384eacaf8cc9ee",
            "value": "100%"
          }
        },
        "f18052ec57ea44f8a3914b46d818588b": {
          "model_module": "@jupyter-widgets/controls",
          "model_name": "FloatProgressModel",
          "model_module_version": "1.5.0",
          "state": {
            "_dom_classes": [],
            "_model_module": "@jupyter-widgets/controls",
            "_model_module_version": "1.5.0",
            "_model_name": "FloatProgressModel",
            "_view_count": null,
            "_view_module": "@jupyter-widgets/controls",
            "_view_module_version": "1.5.0",
            "_view_name": "ProgressView",
            "bar_style": "success",
            "description": "",
            "description_tooltip": null,
            "layout": "IPY_MODEL_b2b96957e2674e94a417f7549d4ce7ef",
            "max": 5,
            "min": 0,
            "orientation": "horizontal",
            "style": "IPY_MODEL_8b8225fe81d745f3af265b2d32ad91cb",
            "value": 5
          }
        },
        "45ff6158b7d94c65877b363d4278d8e7": {
          "model_module": "@jupyter-widgets/controls",
          "model_name": "HTMLModel",
          "model_module_version": "1.5.0",
          "state": {
            "_dom_classes": [],
            "_model_module": "@jupyter-widgets/controls",
            "_model_module_version": "1.5.0",
            "_model_name": "HTMLModel",
            "_view_count": null,
            "_view_module": "@jupyter-widgets/controls",
            "_view_module_version": "1.5.0",
            "_view_name": "HTMLView",
            "description": "",
            "description_tooltip": null,
            "layout": "IPY_MODEL_f48ee35f5e3440c786912a4d7efe231e",
            "placeholder": "​",
            "style": "IPY_MODEL_34d621028af24bae8df9fad7183ee412",
            "value": " 5/5 [01:58&lt;00:00, 23.62s/it]"
          }
        },
        "43a98476de564bf6b701096bf19faa12": {
          "model_module": "@jupyter-widgets/base",
          "model_name": "LayoutModel",
          "model_module_version": "1.2.0",
          "state": {
            "_model_module": "@jupyter-widgets/base",
            "_model_module_version": "1.2.0",
            "_model_name": "LayoutModel",
            "_view_count": null,
            "_view_module": "@jupyter-widgets/base",
            "_view_module_version": "1.2.0",
            "_view_name": "LayoutView",
            "align_content": null,
            "align_items": null,
            "align_self": null,
            "border": null,
            "bottom": null,
            "display": null,
            "flex": null,
            "flex_flow": null,
            "grid_area": null,
            "grid_auto_columns": null,
            "grid_auto_flow": null,
            "grid_auto_rows": null,
            "grid_column": null,
            "grid_gap": null,
            "grid_row": null,
            "grid_template_areas": null,
            "grid_template_columns": null,
            "grid_template_rows": null,
            "height": null,
            "justify_content": null,
            "justify_items": null,
            "left": null,
            "margin": null,
            "max_height": null,
            "max_width": null,
            "min_height": null,
            "min_width": null,
            "object_fit": null,
            "object_position": null,
            "order": null,
            "overflow": null,
            "overflow_x": null,
            "overflow_y": null,
            "padding": null,
            "right": null,
            "top": null,
            "visibility": null,
            "width": null
          }
        },
        "8c6dfabb750b48558241a87c338a89dc": {
          "model_module": "@jupyter-widgets/base",
          "model_name": "LayoutModel",
          "model_module_version": "1.2.0",
          "state": {
            "_model_module": "@jupyter-widgets/base",
            "_model_module_version": "1.2.0",
            "_model_name": "LayoutModel",
            "_view_count": null,
            "_view_module": "@jupyter-widgets/base",
            "_view_module_version": "1.2.0",
            "_view_name": "LayoutView",
            "align_content": null,
            "align_items": null,
            "align_self": null,
            "border": null,
            "bottom": null,
            "display": null,
            "flex": null,
            "flex_flow": null,
            "grid_area": null,
            "grid_auto_columns": null,
            "grid_auto_flow": null,
            "grid_auto_rows": null,
            "grid_column": null,
            "grid_gap": null,
            "grid_row": null,
            "grid_template_areas": null,
            "grid_template_columns": null,
            "grid_template_rows": null,
            "height": null,
            "justify_content": null,
            "justify_items": null,
            "left": null,
            "margin": null,
            "max_height": null,
            "max_width": null,
            "min_height": null,
            "min_width": null,
            "object_fit": null,
            "object_position": null,
            "order": null,
            "overflow": null,
            "overflow_x": null,
            "overflow_y": null,
            "padding": null,
            "right": null,
            "top": null,
            "visibility": null,
            "width": null
          }
        },
        "f57b113953974d97bb384eacaf8cc9ee": {
          "model_module": "@jupyter-widgets/controls",
          "model_name": "DescriptionStyleModel",
          "model_module_version": "1.5.0",
          "state": {
            "_model_module": "@jupyter-widgets/controls",
            "_model_module_version": "1.5.0",
            "_model_name": "DescriptionStyleModel",
            "_view_count": null,
            "_view_module": "@jupyter-widgets/base",
            "_view_module_version": "1.2.0",
            "_view_name": "StyleView",
            "description_width": ""
          }
        },
        "b2b96957e2674e94a417f7549d4ce7ef": {
          "model_module": "@jupyter-widgets/base",
          "model_name": "LayoutModel",
          "model_module_version": "1.2.0",
          "state": {
            "_model_module": "@jupyter-widgets/base",
            "_model_module_version": "1.2.0",
            "_model_name": "LayoutModel",
            "_view_count": null,
            "_view_module": "@jupyter-widgets/base",
            "_view_module_version": "1.2.0",
            "_view_name": "LayoutView",
            "align_content": null,
            "align_items": null,
            "align_self": null,
            "border": null,
            "bottom": null,
            "display": null,
            "flex": null,
            "flex_flow": null,
            "grid_area": null,
            "grid_auto_columns": null,
            "grid_auto_flow": null,
            "grid_auto_rows": null,
            "grid_column": null,
            "grid_gap": null,
            "grid_row": null,
            "grid_template_areas": null,
            "grid_template_columns": null,
            "grid_template_rows": null,
            "height": null,
            "justify_content": null,
            "justify_items": null,
            "left": null,
            "margin": null,
            "max_height": null,
            "max_width": null,
            "min_height": null,
            "min_width": null,
            "object_fit": null,
            "object_position": null,
            "order": null,
            "overflow": null,
            "overflow_x": null,
            "overflow_y": null,
            "padding": null,
            "right": null,
            "top": null,
            "visibility": null,
            "width": null
          }
        },
        "8b8225fe81d745f3af265b2d32ad91cb": {
          "model_module": "@jupyter-widgets/controls",
          "model_name": "ProgressStyleModel",
          "model_module_version": "1.5.0",
          "state": {
            "_model_module": "@jupyter-widgets/controls",
            "_model_module_version": "1.5.0",
            "_model_name": "ProgressStyleModel",
            "_view_count": null,
            "_view_module": "@jupyter-widgets/base",
            "_view_module_version": "1.2.0",
            "_view_name": "StyleView",
            "bar_color": null,
            "description_width": ""
          }
        },
        "f48ee35f5e3440c786912a4d7efe231e": {
          "model_module": "@jupyter-widgets/base",
          "model_name": "LayoutModel",
          "model_module_version": "1.2.0",
          "state": {
            "_model_module": "@jupyter-widgets/base",
            "_model_module_version": "1.2.0",
            "_model_name": "LayoutModel",
            "_view_count": null,
            "_view_module": "@jupyter-widgets/base",
            "_view_module_version": "1.2.0",
            "_view_name": "LayoutView",
            "align_content": null,
            "align_items": null,
            "align_self": null,
            "border": null,
            "bottom": null,
            "display": null,
            "flex": null,
            "flex_flow": null,
            "grid_area": null,
            "grid_auto_columns": null,
            "grid_auto_flow": null,
            "grid_auto_rows": null,
            "grid_column": null,
            "grid_gap": null,
            "grid_row": null,
            "grid_template_areas": null,
            "grid_template_columns": null,
            "grid_template_rows": null,
            "height": null,
            "justify_content": null,
            "justify_items": null,
            "left": null,
            "margin": null,
            "max_height": null,
            "max_width": null,
            "min_height": null,
            "min_width": null,
            "object_fit": null,
            "object_position": null,
            "order": null,
            "overflow": null,
            "overflow_x": null,
            "overflow_y": null,
            "padding": null,
            "right": null,
            "top": null,
            "visibility": null,
            "width": null
          }
        },
        "34d621028af24bae8df9fad7183ee412": {
          "model_module": "@jupyter-widgets/controls",
          "model_name": "DescriptionStyleModel",
          "model_module_version": "1.5.0",
          "state": {
            "_model_module": "@jupyter-widgets/controls",
            "_model_module_version": "1.5.0",
            "_model_name": "DescriptionStyleModel",
            "_view_count": null,
            "_view_module": "@jupyter-widgets/base",
            "_view_module_version": "1.2.0",
            "_view_name": "StyleView",
            "description_width": ""
          }
        },
        "1d00ba07517a41908185439a849668c4": {
          "model_module": "@jupyter-widgets/controls",
          "model_name": "HBoxModel",
          "model_module_version": "1.5.0",
          "state": {
            "_dom_classes": [],
            "_model_module": "@jupyter-widgets/controls",
            "_model_module_version": "1.5.0",
            "_model_name": "HBoxModel",
            "_view_count": null,
            "_view_module": "@jupyter-widgets/controls",
            "_view_module_version": "1.5.0",
            "_view_name": "HBoxView",
            "box_style": "",
            "children": [
              "IPY_MODEL_04c93d36da6547cb81e0f81de02d9d2c",
              "IPY_MODEL_27a65140ba1a4e9f8a65556456d0584c",
              "IPY_MODEL_051e57a43513448f9886aea9f2c21f74"
            ],
            "layout": "IPY_MODEL_002dcbfbd73f4a27844a6454cbd23673"
          }
        },
        "04c93d36da6547cb81e0f81de02d9d2c": {
          "model_module": "@jupyter-widgets/controls",
          "model_name": "HTMLModel",
          "model_module_version": "1.5.0",
          "state": {
            "_dom_classes": [],
            "_model_module": "@jupyter-widgets/controls",
            "_model_module_version": "1.5.0",
            "_model_name": "HTMLModel",
            "_view_count": null,
            "_view_module": "@jupyter-widgets/controls",
            "_view_module_version": "1.5.0",
            "_view_name": "HTMLView",
            "description": "",
            "description_tooltip": null,
            "layout": "IPY_MODEL_bb9ce89e277f4a139de90fef7ea0d0af",
            "placeholder": "​",
            "style": "IPY_MODEL_0156e5a038c346f7b8a7416a5ec92c6b",
            "value": "100%"
          }
        },
        "27a65140ba1a4e9f8a65556456d0584c": {
          "model_module": "@jupyter-widgets/controls",
          "model_name": "FloatProgressModel",
          "model_module_version": "1.5.0",
          "state": {
            "_dom_classes": [],
            "_model_module": "@jupyter-widgets/controls",
            "_model_module_version": "1.5.0",
            "_model_name": "FloatProgressModel",
            "_view_count": null,
            "_view_module": "@jupyter-widgets/controls",
            "_view_module_version": "1.5.0",
            "_view_name": "ProgressView",
            "bar_style": "success",
            "description": "",
            "description_tooltip": null,
            "layout": "IPY_MODEL_6cbe9240aba941128280c3a40e2e8e96",
            "max": 5,
            "min": 0,
            "orientation": "horizontal",
            "style": "IPY_MODEL_c031528bfd2a46c8b7cbd3014ad9e068",
            "value": 5
          }
        },
        "051e57a43513448f9886aea9f2c21f74": {
          "model_module": "@jupyter-widgets/controls",
          "model_name": "HTMLModel",
          "model_module_version": "1.5.0",
          "state": {
            "_dom_classes": [],
            "_model_module": "@jupyter-widgets/controls",
            "_model_module_version": "1.5.0",
            "_model_name": "HTMLModel",
            "_view_count": null,
            "_view_module": "@jupyter-widgets/controls",
            "_view_module_version": "1.5.0",
            "_view_name": "HTMLView",
            "description": "",
            "description_tooltip": null,
            "layout": "IPY_MODEL_fcf543d926a04ff6830d17baa7540bfd",
            "placeholder": "​",
            "style": "IPY_MODEL_c8fab19b8d6643588c99cdbccb7ae64a",
            "value": " 5/5 [01:54&lt;00:00, 22.83s/it]"
          }
        },
        "002dcbfbd73f4a27844a6454cbd23673": {
          "model_module": "@jupyter-widgets/base",
          "model_name": "LayoutModel",
          "model_module_version": "1.2.0",
          "state": {
            "_model_module": "@jupyter-widgets/base",
            "_model_module_version": "1.2.0",
            "_model_name": "LayoutModel",
            "_view_count": null,
            "_view_module": "@jupyter-widgets/base",
            "_view_module_version": "1.2.0",
            "_view_name": "LayoutView",
            "align_content": null,
            "align_items": null,
            "align_self": null,
            "border": null,
            "bottom": null,
            "display": null,
            "flex": null,
            "flex_flow": null,
            "grid_area": null,
            "grid_auto_columns": null,
            "grid_auto_flow": null,
            "grid_auto_rows": null,
            "grid_column": null,
            "grid_gap": null,
            "grid_row": null,
            "grid_template_areas": null,
            "grid_template_columns": null,
            "grid_template_rows": null,
            "height": null,
            "justify_content": null,
            "justify_items": null,
            "left": null,
            "margin": null,
            "max_height": null,
            "max_width": null,
            "min_height": null,
            "min_width": null,
            "object_fit": null,
            "object_position": null,
            "order": null,
            "overflow": null,
            "overflow_x": null,
            "overflow_y": null,
            "padding": null,
            "right": null,
            "top": null,
            "visibility": null,
            "width": null
          }
        },
        "bb9ce89e277f4a139de90fef7ea0d0af": {
          "model_module": "@jupyter-widgets/base",
          "model_name": "LayoutModel",
          "model_module_version": "1.2.0",
          "state": {
            "_model_module": "@jupyter-widgets/base",
            "_model_module_version": "1.2.0",
            "_model_name": "LayoutModel",
            "_view_count": null,
            "_view_module": "@jupyter-widgets/base",
            "_view_module_version": "1.2.0",
            "_view_name": "LayoutView",
            "align_content": null,
            "align_items": null,
            "align_self": null,
            "border": null,
            "bottom": null,
            "display": null,
            "flex": null,
            "flex_flow": null,
            "grid_area": null,
            "grid_auto_columns": null,
            "grid_auto_flow": null,
            "grid_auto_rows": null,
            "grid_column": null,
            "grid_gap": null,
            "grid_row": null,
            "grid_template_areas": null,
            "grid_template_columns": null,
            "grid_template_rows": null,
            "height": null,
            "justify_content": null,
            "justify_items": null,
            "left": null,
            "margin": null,
            "max_height": null,
            "max_width": null,
            "min_height": null,
            "min_width": null,
            "object_fit": null,
            "object_position": null,
            "order": null,
            "overflow": null,
            "overflow_x": null,
            "overflow_y": null,
            "padding": null,
            "right": null,
            "top": null,
            "visibility": null,
            "width": null
          }
        },
        "0156e5a038c346f7b8a7416a5ec92c6b": {
          "model_module": "@jupyter-widgets/controls",
          "model_name": "DescriptionStyleModel",
          "model_module_version": "1.5.0",
          "state": {
            "_model_module": "@jupyter-widgets/controls",
            "_model_module_version": "1.5.0",
            "_model_name": "DescriptionStyleModel",
            "_view_count": null,
            "_view_module": "@jupyter-widgets/base",
            "_view_module_version": "1.2.0",
            "_view_name": "StyleView",
            "description_width": ""
          }
        },
        "6cbe9240aba941128280c3a40e2e8e96": {
          "model_module": "@jupyter-widgets/base",
          "model_name": "LayoutModel",
          "model_module_version": "1.2.0",
          "state": {
            "_model_module": "@jupyter-widgets/base",
            "_model_module_version": "1.2.0",
            "_model_name": "LayoutModel",
            "_view_count": null,
            "_view_module": "@jupyter-widgets/base",
            "_view_module_version": "1.2.0",
            "_view_name": "LayoutView",
            "align_content": null,
            "align_items": null,
            "align_self": null,
            "border": null,
            "bottom": null,
            "display": null,
            "flex": null,
            "flex_flow": null,
            "grid_area": null,
            "grid_auto_columns": null,
            "grid_auto_flow": null,
            "grid_auto_rows": null,
            "grid_column": null,
            "grid_gap": null,
            "grid_row": null,
            "grid_template_areas": null,
            "grid_template_columns": null,
            "grid_template_rows": null,
            "height": null,
            "justify_content": null,
            "justify_items": null,
            "left": null,
            "margin": null,
            "max_height": null,
            "max_width": null,
            "min_height": null,
            "min_width": null,
            "object_fit": null,
            "object_position": null,
            "order": null,
            "overflow": null,
            "overflow_x": null,
            "overflow_y": null,
            "padding": null,
            "right": null,
            "top": null,
            "visibility": null,
            "width": null
          }
        },
        "c031528bfd2a46c8b7cbd3014ad9e068": {
          "model_module": "@jupyter-widgets/controls",
          "model_name": "ProgressStyleModel",
          "model_module_version": "1.5.0",
          "state": {
            "_model_module": "@jupyter-widgets/controls",
            "_model_module_version": "1.5.0",
            "_model_name": "ProgressStyleModel",
            "_view_count": null,
            "_view_module": "@jupyter-widgets/base",
            "_view_module_version": "1.2.0",
            "_view_name": "StyleView",
            "bar_color": null,
            "description_width": ""
          }
        },
        "fcf543d926a04ff6830d17baa7540bfd": {
          "model_module": "@jupyter-widgets/base",
          "model_name": "LayoutModel",
          "model_module_version": "1.2.0",
          "state": {
            "_model_module": "@jupyter-widgets/base",
            "_model_module_version": "1.2.0",
            "_model_name": "LayoutModel",
            "_view_count": null,
            "_view_module": "@jupyter-widgets/base",
            "_view_module_version": "1.2.0",
            "_view_name": "LayoutView",
            "align_content": null,
            "align_items": null,
            "align_self": null,
            "border": null,
            "bottom": null,
            "display": null,
            "flex": null,
            "flex_flow": null,
            "grid_area": null,
            "grid_auto_columns": null,
            "grid_auto_flow": null,
            "grid_auto_rows": null,
            "grid_column": null,
            "grid_gap": null,
            "grid_row": null,
            "grid_template_areas": null,
            "grid_template_columns": null,
            "grid_template_rows": null,
            "height": null,
            "justify_content": null,
            "justify_items": null,
            "left": null,
            "margin": null,
            "max_height": null,
            "max_width": null,
            "min_height": null,
            "min_width": null,
            "object_fit": null,
            "object_position": null,
            "order": null,
            "overflow": null,
            "overflow_x": null,
            "overflow_y": null,
            "padding": null,
            "right": null,
            "top": null,
            "visibility": null,
            "width": null
          }
        },
        "c8fab19b8d6643588c99cdbccb7ae64a": {
          "model_module": "@jupyter-widgets/controls",
          "model_name": "DescriptionStyleModel",
          "model_module_version": "1.5.0",
          "state": {
            "_model_module": "@jupyter-widgets/controls",
            "_model_module_version": "1.5.0",
            "_model_name": "DescriptionStyleModel",
            "_view_count": null,
            "_view_module": "@jupyter-widgets/base",
            "_view_module_version": "1.2.0",
            "_view_name": "StyleView",
            "description_width": ""
          }
        },
        "730df4d0bdd64fee821d019ab65d674e": {
          "model_module": "@jupyter-widgets/controls",
          "model_name": "HBoxModel",
          "model_module_version": "1.5.0",
          "state": {
            "_dom_classes": [],
            "_model_module": "@jupyter-widgets/controls",
            "_model_module_version": "1.5.0",
            "_model_name": "HBoxModel",
            "_view_count": null,
            "_view_module": "@jupyter-widgets/controls",
            "_view_module_version": "1.5.0",
            "_view_name": "HBoxView",
            "box_style": "",
            "children": [
              "IPY_MODEL_1fdc25e445444a96a230792f05c7b5bb",
              "IPY_MODEL_15a940ca21fa4dcf9f2e1dc3da70596d",
              "IPY_MODEL_f0d0e69420ae46f095a1d45c4f56b666"
            ],
            "layout": "IPY_MODEL_1a10613c92fe447998f9b536a794847f"
          }
        },
        "1fdc25e445444a96a230792f05c7b5bb": {
          "model_module": "@jupyter-widgets/controls",
          "model_name": "HTMLModel",
          "model_module_version": "1.5.0",
          "state": {
            "_dom_classes": [],
            "_model_module": "@jupyter-widgets/controls",
            "_model_module_version": "1.5.0",
            "_model_name": "HTMLModel",
            "_view_count": null,
            "_view_module": "@jupyter-widgets/controls",
            "_view_module_version": "1.5.0",
            "_view_name": "HTMLView",
            "description": "",
            "description_tooltip": null,
            "layout": "IPY_MODEL_77c3ebb4fb5240ecb33a0295373be65e",
            "placeholder": "​",
            "style": "IPY_MODEL_d29c0bfc16594834bb9f91d030ff7c6b",
            "value": "100%"
          }
        },
        "15a940ca21fa4dcf9f2e1dc3da70596d": {
          "model_module": "@jupyter-widgets/controls",
          "model_name": "FloatProgressModel",
          "model_module_version": "1.5.0",
          "state": {
            "_dom_classes": [],
            "_model_module": "@jupyter-widgets/controls",
            "_model_module_version": "1.5.0",
            "_model_name": "FloatProgressModel",
            "_view_count": null,
            "_view_module": "@jupyter-widgets/controls",
            "_view_module_version": "1.5.0",
            "_view_name": "ProgressView",
            "bar_style": "success",
            "description": "",
            "description_tooltip": null,
            "layout": "IPY_MODEL_6f30ec765cb5416fba415d1f55b3fc2f",
            "max": 5,
            "min": 0,
            "orientation": "horizontal",
            "style": "IPY_MODEL_d6e686112fef499fb7e5a88c0b876234",
            "value": 5
          }
        },
        "f0d0e69420ae46f095a1d45c4f56b666": {
          "model_module": "@jupyter-widgets/controls",
          "model_name": "HTMLModel",
          "model_module_version": "1.5.0",
          "state": {
            "_dom_classes": [],
            "_model_module": "@jupyter-widgets/controls",
            "_model_module_version": "1.5.0",
            "_model_name": "HTMLModel",
            "_view_count": null,
            "_view_module": "@jupyter-widgets/controls",
            "_view_module_version": "1.5.0",
            "_view_name": "HTMLView",
            "description": "",
            "description_tooltip": null,
            "layout": "IPY_MODEL_7b10d6c7d4464a358cb269afc33cebc5",
            "placeholder": "​",
            "style": "IPY_MODEL_a117d354f464467d947b730e36136f6f",
            "value": " 5/5 [02:06&lt;00:00, 25.33s/it]"
          }
        },
        "1a10613c92fe447998f9b536a794847f": {
          "model_module": "@jupyter-widgets/base",
          "model_name": "LayoutModel",
          "model_module_version": "1.2.0",
          "state": {
            "_model_module": "@jupyter-widgets/base",
            "_model_module_version": "1.2.0",
            "_model_name": "LayoutModel",
            "_view_count": null,
            "_view_module": "@jupyter-widgets/base",
            "_view_module_version": "1.2.0",
            "_view_name": "LayoutView",
            "align_content": null,
            "align_items": null,
            "align_self": null,
            "border": null,
            "bottom": null,
            "display": null,
            "flex": null,
            "flex_flow": null,
            "grid_area": null,
            "grid_auto_columns": null,
            "grid_auto_flow": null,
            "grid_auto_rows": null,
            "grid_column": null,
            "grid_gap": null,
            "grid_row": null,
            "grid_template_areas": null,
            "grid_template_columns": null,
            "grid_template_rows": null,
            "height": null,
            "justify_content": null,
            "justify_items": null,
            "left": null,
            "margin": null,
            "max_height": null,
            "max_width": null,
            "min_height": null,
            "min_width": null,
            "object_fit": null,
            "object_position": null,
            "order": null,
            "overflow": null,
            "overflow_x": null,
            "overflow_y": null,
            "padding": null,
            "right": null,
            "top": null,
            "visibility": null,
            "width": null
          }
        },
        "77c3ebb4fb5240ecb33a0295373be65e": {
          "model_module": "@jupyter-widgets/base",
          "model_name": "LayoutModel",
          "model_module_version": "1.2.0",
          "state": {
            "_model_module": "@jupyter-widgets/base",
            "_model_module_version": "1.2.0",
            "_model_name": "LayoutModel",
            "_view_count": null,
            "_view_module": "@jupyter-widgets/base",
            "_view_module_version": "1.2.0",
            "_view_name": "LayoutView",
            "align_content": null,
            "align_items": null,
            "align_self": null,
            "border": null,
            "bottom": null,
            "display": null,
            "flex": null,
            "flex_flow": null,
            "grid_area": null,
            "grid_auto_columns": null,
            "grid_auto_flow": null,
            "grid_auto_rows": null,
            "grid_column": null,
            "grid_gap": null,
            "grid_row": null,
            "grid_template_areas": null,
            "grid_template_columns": null,
            "grid_template_rows": null,
            "height": null,
            "justify_content": null,
            "justify_items": null,
            "left": null,
            "margin": null,
            "max_height": null,
            "max_width": null,
            "min_height": null,
            "min_width": null,
            "object_fit": null,
            "object_position": null,
            "order": null,
            "overflow": null,
            "overflow_x": null,
            "overflow_y": null,
            "padding": null,
            "right": null,
            "top": null,
            "visibility": null,
            "width": null
          }
        },
        "d29c0bfc16594834bb9f91d030ff7c6b": {
          "model_module": "@jupyter-widgets/controls",
          "model_name": "DescriptionStyleModel",
          "model_module_version": "1.5.0",
          "state": {
            "_model_module": "@jupyter-widgets/controls",
            "_model_module_version": "1.5.0",
            "_model_name": "DescriptionStyleModel",
            "_view_count": null,
            "_view_module": "@jupyter-widgets/base",
            "_view_module_version": "1.2.0",
            "_view_name": "StyleView",
            "description_width": ""
          }
        },
        "6f30ec765cb5416fba415d1f55b3fc2f": {
          "model_module": "@jupyter-widgets/base",
          "model_name": "LayoutModel",
          "model_module_version": "1.2.0",
          "state": {
            "_model_module": "@jupyter-widgets/base",
            "_model_module_version": "1.2.0",
            "_model_name": "LayoutModel",
            "_view_count": null,
            "_view_module": "@jupyter-widgets/base",
            "_view_module_version": "1.2.0",
            "_view_name": "LayoutView",
            "align_content": null,
            "align_items": null,
            "align_self": null,
            "border": null,
            "bottom": null,
            "display": null,
            "flex": null,
            "flex_flow": null,
            "grid_area": null,
            "grid_auto_columns": null,
            "grid_auto_flow": null,
            "grid_auto_rows": null,
            "grid_column": null,
            "grid_gap": null,
            "grid_row": null,
            "grid_template_areas": null,
            "grid_template_columns": null,
            "grid_template_rows": null,
            "height": null,
            "justify_content": null,
            "justify_items": null,
            "left": null,
            "margin": null,
            "max_height": null,
            "max_width": null,
            "min_height": null,
            "min_width": null,
            "object_fit": null,
            "object_position": null,
            "order": null,
            "overflow": null,
            "overflow_x": null,
            "overflow_y": null,
            "padding": null,
            "right": null,
            "top": null,
            "visibility": null,
            "width": null
          }
        },
        "d6e686112fef499fb7e5a88c0b876234": {
          "model_module": "@jupyter-widgets/controls",
          "model_name": "ProgressStyleModel",
          "model_module_version": "1.5.0",
          "state": {
            "_model_module": "@jupyter-widgets/controls",
            "_model_module_version": "1.5.0",
            "_model_name": "ProgressStyleModel",
            "_view_count": null,
            "_view_module": "@jupyter-widgets/base",
            "_view_module_version": "1.2.0",
            "_view_name": "StyleView",
            "bar_color": null,
            "description_width": ""
          }
        },
        "7b10d6c7d4464a358cb269afc33cebc5": {
          "model_module": "@jupyter-widgets/base",
          "model_name": "LayoutModel",
          "model_module_version": "1.2.0",
          "state": {
            "_model_module": "@jupyter-widgets/base",
            "_model_module_version": "1.2.0",
            "_model_name": "LayoutModel",
            "_view_count": null,
            "_view_module": "@jupyter-widgets/base",
            "_view_module_version": "1.2.0",
            "_view_name": "LayoutView",
            "align_content": null,
            "align_items": null,
            "align_self": null,
            "border": null,
            "bottom": null,
            "display": null,
            "flex": null,
            "flex_flow": null,
            "grid_area": null,
            "grid_auto_columns": null,
            "grid_auto_flow": null,
            "grid_auto_rows": null,
            "grid_column": null,
            "grid_gap": null,
            "grid_row": null,
            "grid_template_areas": null,
            "grid_template_columns": null,
            "grid_template_rows": null,
            "height": null,
            "justify_content": null,
            "justify_items": null,
            "left": null,
            "margin": null,
            "max_height": null,
            "max_width": null,
            "min_height": null,
            "min_width": null,
            "object_fit": null,
            "object_position": null,
            "order": null,
            "overflow": null,
            "overflow_x": null,
            "overflow_y": null,
            "padding": null,
            "right": null,
            "top": null,
            "visibility": null,
            "width": null
          }
        },
        "a117d354f464467d947b730e36136f6f": {
          "model_module": "@jupyter-widgets/controls",
          "model_name": "DescriptionStyleModel",
          "model_module_version": "1.5.0",
          "state": {
            "_model_module": "@jupyter-widgets/controls",
            "_model_module_version": "1.5.0",
            "_model_name": "DescriptionStyleModel",
            "_view_count": null,
            "_view_module": "@jupyter-widgets/base",
            "_view_module_version": "1.2.0",
            "_view_name": "StyleView",
            "description_width": ""
          }
        }
      }
    }
  },
  "cells": [
    {
      "cell_type": "markdown",
      "metadata": {
        "id": "TeE14ujpFMfO"
      },
      "source": [
        "# Циклическое изменение learning rate для ускорения сходимости"
      ]
    },
    {
      "cell_type": "markdown",
      "metadata": {
        "id": "1JkYyvoeFMfO"
      },
      "source": [
        "Недостатком адаптивных оптимизаторов является необходимость хранения в памяти квадратов градиентов. Для циклического learning rate это необязательно, его можно использовать с SGD, изменяя скорости в 3–4 раза. Аналогично с Adam — это позволит редким признакам быстрее обучаться (частые признаки будут немного “ломаться”, а затем восстанавливаться). Для таких целей важно подбирать learning rate вблизи оптимального. Идея этого представлена в [статье 🎓[arxiv]](https://arxiv.org/pdf/1506.01186.pdf).\n",
        "\n",
        "\n",
        "Циклическое изменение  learning rate для ускорения сходимости реализовано в PyTorch в `optim.lr_scheduler.CyclicLR`.\n",
        "\n",
        "Делать это можно по-разному (`mode` — параметр, передаваемый `CyclicLR`):\n",
        "\n",
        "1. Постоянно оставлять одни и те же границы `mode='triangular'`.\n",
        "\n",
        "\n"
      ]
    },
    {
      "cell_type": "markdown",
      "metadata": {
        "id": "f6KTAv_6FMfQ"
      },
      "source": [
        "<img src =\"https://ml.gan4x4.ru/msu/additions/L07/cyclical_learning_schedule_permanent_confines.png\" width=\"600\">\n"
      ]
    },
    {
      "cell_type": "markdown",
      "metadata": {
        "id": "aV6FUocyFMfQ"
      },
      "source": [
        "2. Уменьшать верхнюю границу во сколько-то раз: `mode='triangular2'` — уменьшение в 2 раза."
      ]
    },
    {
      "cell_type": "markdown",
      "metadata": {
        "id": "2-_Cko9zFMfQ"
      },
      "source": [
        "<img src =\"https://ml.gan4x4.ru/msu/additions/L07/cyclical_learning_schedule_reduce_confines.png\" width=\"600\">"
      ]
    },
    {
      "cell_type": "markdown",
      "metadata": {
        "id": "QMSZfwcaFMfQ"
      },
      "source": [
        "3. Уменьшать границу экспоненциально ($\\text{amplitude}_\\text{iterations\n",
        " } = \\text{amplitude}_0⋅\\gamma^\\text{iterations}$, где $0<\\gamma\\leq1$), `mode='exp_range'`."
      ]
    },
    {
      "cell_type": "markdown",
      "metadata": {
        "id": "GC-lOVx5FMfQ"
      },
      "source": [
        "<img src =\"https://ml.gan4x4.ru/msu/additions/L07/cyclical_learning_schedule_reduce_confines_smooth.png\" width=\"600\">"
      ]
    },
    {
      "cell_type": "markdown",
      "metadata": {
        "id": "b2eLFlyBFMfR"
      },
      "source": [
        "4. По собственной формуле с использованием `scale_fn`."
      ]
    },
    {
      "cell_type": "markdown",
      "metadata": {
        "id": "825JeMj1FMfR"
      },
      "source": [
        "## Подбираем границы learning rate\n",
        "\n"
      ]
    },
    {
      "cell_type": "code",
      "source": [
        "import random\n",
        "import torch\n",
        "import numpy as np\n",
        "\n",
        "\n",
        "def set_random_seed(seed):\n",
        "    torch.manual_seed(seed)\n",
        "    torch.cuda.manual_seed(seed)\n",
        "    np.random.seed(seed)\n",
        "    random.seed(seed)\n",
        "\n",
        "set_random_seed(42)"
      ],
      "metadata": {
        "id": "JySQgW9RH3W2"
      },
      "execution_count": null,
      "outputs": []
    },
    {
      "cell_type": "markdown",
      "metadata": {
        "id": "MGdzrwDJFMfR"
      },
      "source": [
        "Сделаем батч побольше, чтобы учить модель быстрее.\n",
        "\n"
      ]
    },
    {
      "cell_type": "code",
      "execution_count": null,
      "metadata": {
        "id": "tEEP-InGFMfR",
        "colab": {
          "base_uri": "https://localhost:8080/"
        },
        "outputId": "70afb745-cb84-4c81-b8aa-827b1badfa61"
      },
      "outputs": [
        {
          "output_type": "stream",
          "name": "stdout",
          "text": [
            "Already downloaded!\n"
          ]
        }
      ],
      "source": [
        "import torchvision\n",
        "\n",
        "from torch.utils.data import DataLoader\n",
        "from torchvision.datasets import MNIST\n",
        "from IPython.display import clear_output\n",
        "\n",
        "# transforms for data\n",
        "transform = torchvision.transforms.Compose([\n",
        "    torchvision.transforms.ToTensor(),\n",
        "    torchvision.transforms.Normalize((0.13), (0.3))\n",
        "])\n",
        "\n",
        "train_set = MNIST(root=\"./MNIST\", train=True, download=True, transform=transform)\n",
        "test_set = MNIST(root=\"./MNIST\", train=False, download=True, transform=transform)\n",
        "\n",
        "clear_output()\n",
        "print(\"Already downloaded!\")\n",
        "\n",
        "batch_size = 32 * 16\n",
        "train_loader = DataLoader(train_set, batch_size=batch_size, shuffle=True, num_workers=2)\n",
        "test_loader = DataLoader(test_set, batch_size=batch_size, shuffle=False, num_workers=2)"
      ]
    },
    {
      "cell_type": "markdown",
      "source": [
        "Модель:"
      ],
      "metadata": {
        "id": "HVStRaJ63BaY"
      }
    },
    {
      "cell_type": "code",
      "source": [
        "import torch\n",
        "import torch.nn as nn\n",
        "\n",
        "class SimpleMNIST_NN_Init_Batchnorm(nn.Module):\n",
        "    def __init__(self, n_layers):\n",
        "        super().__init__()\n",
        "        self.n_layers = n_layers\n",
        "        layers = [\n",
        "            nn.Linear(28 * 28, 100, bias=False),\n",
        "            nn.BatchNorm1d(100),\n",
        "            nn.Sigmoid(),\n",
        "        ]\n",
        "        for _ in range(0, n_layers - 1):\n",
        "            layers.append(nn.Linear(100, 100, bias=False))\n",
        "            layers.append(nn.BatchNorm1d(100))\n",
        "            layers.append(nn.Sigmoid())\n",
        "        layers.append(nn.Linear(100, 10))\n",
        "        self.layers = nn.Sequential(*layers)\n",
        "        self.init()\n",
        "\n",
        "    def forward(self, x):\n",
        "        x = x.view(-1, 28 * 28)\n",
        "        x = self.layers(x)\n",
        "        return x\n",
        "\n",
        "    def init(self):\n",
        "        sigmoid_gain = torch.nn.init.calculate_gain(\"sigmoid\")\n",
        "        for child in self.layers.children():\n",
        "            if isinstance(child, nn.Linear):\n",
        "                torch.nn.init.xavier_normal_(child.weight, gain=sigmoid_gain)\n",
        "                if child.bias is not None:\n",
        "                    torch.nn.init.zeros_(child.bias)"
      ],
      "metadata": {
        "id": "PxZ_7stT1WSQ"
      },
      "execution_count": null,
      "outputs": []
    },
    {
      "cell_type": "code",
      "execution_count": null,
      "metadata": {
        "id": "l9sN4X52FMfR"
      },
      "outputs": [],
      "source": [
        "device = torch.device(\"cuda\" if torch.cuda.is_available() else \"cpu\")\n",
        "\n",
        "model = SimpleMNIST_NN_Init_Batchnorm(n_layers=3).to(device)\n",
        "criterion = nn.CrossEntropyLoss().to(device)"
      ]
    },
    {
      "cell_type": "markdown",
      "metadata": {
        "id": "HdpPEpaOFMfR"
      },
      "source": [
        "Для определения оптимального learning rate будем обучать модель 2 эпохи (в статье 8 эпох, но MNIST — очень простой датасет) и смотреть на accuracy на тестовой выборке для различных значений."
      ]
    },
    {
      "cell_type": "code",
      "execution_count": null,
      "metadata": {
        "id": "pTjl7NdcFMfR"
      },
      "outputs": [],
      "source": [
        "def get_correct_count(pred, labels):\n",
        "    _, predicted = torch.max(pred.data, 1)\n",
        "    return (predicted.cpu() == labels.cpu()).sum().item()\n",
        "\n",
        "\n",
        "@torch.inference_mode()  # this annotation disable grad computation\n",
        "def get_accuracy(model, test_loader, device=\"cpu\"):\n",
        "    correct, total = 0, 0\n",
        "    for imgs, labels in test_loader:\n",
        "        pred = model(imgs.to(device))\n",
        "        total += labels.size(0)\n",
        "        correct += get_correct_count(pred, labels)\n",
        "    return correct / total"
      ]
    },
    {
      "cell_type": "code",
      "execution_count": null,
      "metadata": {
        "id": "wIzfJcGVFMfR",
        "colab": {
          "base_uri": "https://localhost:8080/",
          "height": 49,
          "referenced_widgets": [
            "01f8f14572994b54adbae495c3c96000",
            "b689092182ed4ffc94fe7ea5238bfb87",
            "20a3818fb2884f37a9266130c93e5382",
            "9d5c65966bc34ffbaab0b1ba30d81060",
            "6db2d967e3cf46478fd310ae06000c1c",
            "c614f6d68c144ac7a7acb688ed068a6a",
            "afaefdfb03c3480694320346ca2ddc5f",
            "ae411b3ca46642d0863fe134e30e4934",
            "1ffed12261204e97a03cc21f98683d57",
            "f0e84d6f5719413c83e0cbeed7f427f3",
            "95ca71d43ee8435db1de5db0c56ef97f"
          ]
        },
        "outputId": "c82dcff8-60e8-4081-8ee3-a35c4d24b717"
      },
      "outputs": [
        {
          "output_type": "display_data",
          "data": {
            "text/plain": [
              "  0%|          | 0/10 [00:00<?, ?it/s]"
            ],
            "application/vnd.jupyter.widget-view+json": {
              "version_major": 2,
              "version_minor": 0,
              "model_id": "01f8f14572994b54adbae495c3c96000"
            }
          },
          "metadata": {}
        }
      ],
      "source": [
        "import torch.optim as optim\n",
        "from tqdm.notebook import tqdm\n",
        "\n",
        "lr_find_epochs = 2\n",
        "lrs = [0.0002 + 0.0005 * i for i in range(10)]\n",
        "losses = []\n",
        "test_accuracy = []\n",
        "\n",
        "for lr in tqdm(lrs):\n",
        "    set_random_seed(42)\n",
        "    model = SimpleMNIST_NN_Init_Batchnorm(n_layers=3).to(device)\n",
        "    optimizer = optim.SGD(model.parameters(), lr=lr)\n",
        "\n",
        "    for iter in range(lr_find_epochs):\n",
        "        for batch in train_loader:\n",
        "            optimizer.zero_grad()\n",
        "            x_train, y_train = batch\n",
        "            x_train, y_train = x_train.to(device), y_train.to(device)\n",
        "            y_pred = model(x_train)\n",
        "            loss = criterion(y_pred, y_train)\n",
        "\n",
        "            loss.backward()\n",
        "            optimizer.step()\n",
        "            loss = loss.detach().cpu().numpy()\n",
        "\n",
        "    losses.append(loss)\n",
        "    acc = get_accuracy(model, test_loader, device=device)\n",
        "    test_accuracy.append(acc)"
      ]
    },
    {
      "cell_type": "code",
      "execution_count": null,
      "metadata": {
        "id": "WqKeOpI3FMfS",
        "colab": {
          "base_uri": "https://localhost:8080/",
          "height": 602
        },
        "outputId": "a6555569-b607-4489-99e1-9c7b786ad56d"
      },
      "outputs": [
        {
          "output_type": "display_data",
          "data": {
            "text/plain": [
              "<Figure size 1200x600 with 2 Axes>"
            ],
            "image/png": "[encoded data removed]"
          },
          "metadata": {}
        }
      ],
      "source": [
        "import matplotlib.pyplot as plt\n",
        "\n",
        "fig, (ax1, ax2) = plt.subplots(2, 1, figsize=(12, 6))\n",
        "fig.suptitle(\"LR range selection\", size=15)\n",
        "\n",
        "ax1.plot(lrs, losses)\n",
        "ax1.set(xlabel=\"Learning rate\", ylabel=\"Loss\")\n",
        "ax1.axvline(x=0.001, color=\"r\")\n",
        "ax1.axvline(x=0.004, color=\"r\")\n",
        "\n",
        "ax2.plot(lrs, test_accuracy)\n",
        "ax2.set(xlabel=\"Learning rate\", ylabel=\"Accuracy\")\n",
        "ax2.axvline(x=0.001, color=\"r\")\n",
        "ax2.axvline(x=0.004, color=\"r\")\n",
        "\n",
        "plt.show()"
      ]
    },
    {
      "cell_type": "markdown",
      "metadata": {
        "id": "PhBINFuGFMfS"
      },
      "source": [
        "Нас интересует диапазон learning rate, при котором качество начинает сильно расти. Возьмем минимальное значение learning rate $1\\cdot10^{-3}$ и максимальное  learning rate $4\\cdot10^{-3}$. Максимальное больше минимального в 4 раза (в [статье 🎓[arxiv]](https://arxiv.org/pdf/1506.01186.pdf) рекомендуют 3–4).\n"
      ]
    },
    {
      "cell_type": "code",
      "execution_count": null,
      "metadata": {
        "id": "LGRaxiqmFMfS"
      },
      "outputs": [],
      "source": [
        "base_lr = 1e-3\n",
        "max_lr = 4e-3"
      ]
    },
    {
      "cell_type": "markdown",
      "metadata": {
        "id": "dCq7l-IaFMfS"
      },
      "source": [
        "Этот `scheduler` надо применять после каждого батча. Поэтому перепишем `train_epoch_sh`:"
      ]
    },
    {
      "cell_type": "code",
      "execution_count": null,
      "metadata": {
        "id": "3q2euwCpFMfS"
      },
      "outputs": [],
      "source": [
        "def train_epoch_sh(model, optimizer, scheduler, criterion, train_loader):\n",
        "    loss_history = []\n",
        "    for batch in train_loader:\n",
        "        optimizer.zero_grad()\n",
        "        x_train, y_train = batch  # parse data\n",
        "        x_train, y_train = x_train.to(device), y_train.to(device)  # compute on gpu\n",
        "        y_pred = model(x_train)  # get predictions\n",
        "        loss = criterion(y_pred, y_train)  # compute loss\n",
        "        loss_history.append(loss.cpu().detach().numpy())  # write loss to log\n",
        "        loss.backward()\n",
        "        optimizer.step()\n",
        "        scheduler.step()\n",
        "    return loss_history"
      ]
    },
    {
      "cell_type": "markdown",
      "metadata": {
        "id": "p1j_oJSwFMew"
      },
      "source": [
        "Функция для валидации сети на валидационной выборке:"
      ]
    },
    {
      "cell_type": "code",
      "execution_count": null,
      "metadata": {
        "id": "jgpEfsWfFMew"
      },
      "outputs": [],
      "source": [
        "def validate(model, criterion, val_loader):\n",
        "    cumloss = 0\n",
        "    loss_history = []\n",
        "    with torch.no_grad():\n",
        "        for batch in val_loader:\n",
        "            x_train, y_train = batch  # parse data\n",
        "            x_train, y_train = x_train.to(device), y_train.to(device)  # compute on gpu\n",
        "            y_pred = model(x_train)  # get predictions\n",
        "            loss = criterion(y_pred, y_train)  # compute loss\n",
        "            loss_history.append(loss.cpu().detach().item())  # write loss to log\n",
        "            cumloss += loss\n",
        "    return cumloss / len(val_loader), loss_history  # mean loss and history"
      ]
    },
    {
      "cell_type": "markdown",
      "metadata": {
        "id": "GnUJbWRrFMfS"
      },
      "source": [
        "## Запускаем"
      ]
    },
    {
      "cell_type": "markdown",
      "source": [
        "Код для визуализации:"
      ],
      "metadata": {
        "id": "sTB1_0tP3SLn"
      }
    },
    {
      "cell_type": "code",
      "execution_count": null,
      "metadata": {
        "id": "bwzt1XBdFMev"
      },
      "outputs": [],
      "source": [
        "import matplotlib.pyplot as plt\n",
        "import matplotlib.colors as mcolors\n",
        "import numpy as np\n",
        "\n",
        "\n",
        "def exponential_smoothing(scalars, weight):\n",
        "    last = scalars[0]\n",
        "    smoothed = []\n",
        "    for point in scalars:\n",
        "        smoothed_val = last * weight + (1 - weight) * point\n",
        "        smoothed.append(smoothed_val)\n",
        "        last = smoothed_val\n",
        "\n",
        "    return smoothed\n",
        "\n",
        "class HistoryPlotter:\n",
        "    def __init__(self):\n",
        "        # dict for safe learning history\n",
        "        self._history_dict = {}\n",
        "\n",
        "    def add(self, history):\n",
        "        \"\"\"\n",
        "        Save learning history.\n",
        "        history: dict with keys: model_name, epoсhs, loss_on_train, loss_on_test\n",
        "        \"\"\"\n",
        "        self._history_dict[history[\"model_name\"]] = history\n",
        "        self.color_list = list(mcolors.TABLEAU_COLORS.keys())\n",
        "\n",
        "    def plot(self, models, show_smooth=True, smooth_val=0.90):\n",
        "        \"\"\"\n",
        "        Plot informatiom from self._history_dict.\n",
        "        models: list of model_name (len <= 5, or extend color_list)\n",
        "        \"\"\"\n",
        "        fig, ax = plt.subplots(3, 1, figsize=(10, 10))\n",
        "        for model_num, model_name in enumerate(models):\n",
        "            history = self._history_dict[model_name]\n",
        "            for idx, (key, title) in enumerate(\n",
        "                zip([\"loss_on_train\", \"loss_on_test\"], [\"train loss\", \"test loss\"])\n",
        "            ):\n",
        "                epoch_len = len(history[key]) // history[\"epoсhs\"]\n",
        "                loss_len = len(history[key])\n",
        "                ticks_positions = np.arange(history[\"epoсhs\"] + 1)\n",
        "\n",
        "                if show_smooth:\n",
        "                    x = np.arange(len(history[key])) / epoch_len\n",
        "                    # Plot train loss and test loss:\n",
        "                    # 1. plot smoothing vals\n",
        "                    ax[idx].plot(\n",
        "                        x,\n",
        "                        exponential_smoothing(history[key], smooth_val),\n",
        "                        label=model_name + \" smoothed\",\n",
        "                        color=self.color_list[2 * model_num + idx],\n",
        "                    )\n",
        "                    # 2. plot raw vals\n",
        "                    ax[idx].plot(\n",
        "                        x,\n",
        "                        history[key],\n",
        "                        label=model_name + \" raw\",\n",
        "                        alpha=0.2,\n",
        "                        color=self.color_list[2 * model_num + idx],\n",
        "                    )\n",
        "                    # 3. add descriptions if it is nesessary\n",
        "                    if not ax[idx].title.get_text():\n",
        "                        ax[idx].set_title(title)\n",
        "                        ax[idx].set_xlabel(\"epochs\")\n",
        "                        ax[idx].set_ylabel(\"loss\")\n",
        "                        ax[idx].set_xticks(ticks_positions)\n",
        "                        ax[idx].set_xticklabels(np.arange(history[\"epoсhs\"] + 1))\n",
        "                    ax[idx].legend()\n",
        "\n",
        "                # Plot mean train and test loss combined:\n",
        "                # 1. calculate mean and std\n",
        "                mean_loss_on_epoch = [\n",
        "                    np.mean(history[key][i : i + epoch_len])\n",
        "                    for i in range(0, loss_len, epoch_len)\n",
        "                ]\n",
        "                std_loss_on_epoch = [\n",
        "                    np.std(history[key][i : i + epoch_len])\n",
        "                    for i in range(0, loss_len, epoch_len)\n",
        "                ]\n",
        "                # 2. plot\n",
        "                ax[2].errorbar(\n",
        "                    np.arange(history[\"epoсhs\"]) + idx / 30.0,\n",
        "                    mean_loss_on_epoch,\n",
        "                    yerr=std_loss_on_epoch,\n",
        "                    capsize=5,\n",
        "                    fmt=\"X--\",\n",
        "                    label=model_name + \" \" + title,\n",
        "                )\n",
        "                # 3. add descriptions if it is necessary\n",
        "                if not ax[2].title.get_text():\n",
        "                    ax[2].set_title(\"\\nAverage loss per epoch\", {\"fontsize\": 12})\n",
        "                    ax[2].set_xticks(np.arange(history[\"epoсhs\"]))\n",
        "                    ax[2].set_xticklabels(np.arange(history[\"epoсhs\"]))\n",
        "                    ax[2].set_xlabel(\"epochs\")\n",
        "                    ax[2].set_ylabel(\"loss\")\n",
        "                ax[2].legend()\n",
        "        plt.subplots_adjust(hspace=0.4)\n",
        "        plt.show()"
      ]
    },
    {
      "cell_type": "code",
      "execution_count": null,
      "metadata": {
        "id": "T9q5IsH6FMew"
      },
      "outputs": [],
      "source": [
        "history_plotter = HistoryPlotter()"
      ]
    },
    {
      "cell_type": "markdown",
      "metadata": {
        "id": "K9Mhw76HFMfS"
      },
      "source": [
        "Вернем размер батча для корректного сравнения."
      ]
    },
    {
      "cell_type": "code",
      "execution_count": null,
      "metadata": {
        "id": "wQ5gyRoDFMfS"
      },
      "outputs": [],
      "source": [
        "batch_size = 32\n",
        "train_loader = DataLoader(train_set, batch_size=batch_size, shuffle=True, num_workers=2)\n",
        "test_loader = DataLoader(test_set, batch_size=batch_size, shuffle=False, num_workers=2)"
      ]
    },
    {
      "cell_type": "markdown",
      "metadata": {
        "id": "zLRUqQeAFMfS"
      },
      "source": [
        "Размер шага learning rate рекомендуют выбирать каждые 2–8 эпох. Мы возьмем 4."
      ]
    },
    {
      "cell_type": "code",
      "execution_count": null,
      "metadata": {
        "id": "AX5LNwmtFMfS",
        "colab": {
          "base_uri": "https://localhost:8080/"
        },
        "outputId": "c769d34f-88a8-48fb-a5b1-041d72879217"
      },
      "outputs": [
        {
          "output_type": "stream",
          "name": "stdout",
          "text": [
            "7500\n"
          ]
        }
      ],
      "source": [
        "step_size_up = 4 * len(train_loader)\n",
        "print(step_size_up)"
      ]
    },
    {
      "cell_type": "code",
      "execution_count": null,
      "metadata": {
        "id": "Y2G60YqDFMfS"
      },
      "outputs": [],
      "source": [
        "set_random_seed(42)\n",
        "model = SimpleMNIST_NN_Init_Batchnorm(n_layers=3).to(device)\n",
        "criterion = nn.CrossEntropyLoss().to(device)\n",
        "optimizer = optim.SGD(model.parameters(), lr=base_lr)\n",
        "\n",
        "scheduler = optim.lr_scheduler.CyclicLR(\n",
        "    optimizer,\n",
        "    base_lr=base_lr,\n",
        "    max_lr=max_lr,\n",
        "    mode=\"triangular\",\n",
        "    step_size_up=step_size_up,\n",
        ")  # first case"
      ]
    },
    {
      "cell_type": "markdown",
      "metadata": {
        "id": "k5K1lCA3FMfS"
      },
      "source": [
        "В коде ниже мы на каждой эпохе сохраняем лучшую модель."
      ]
    },
    {
      "cell_type": "code",
      "execution_count": null,
      "metadata": {
        "id": "k5n44hGMFMfS",
        "colab": {
          "base_uri": "https://localhost:8080/",
          "height": 49,
          "referenced_widgets": [
            "056a05f51ae646cca81e1cded585468b",
            "501472e086604e54bb3a063cd97df4e0",
            "f18052ec57ea44f8a3914b46d818588b",
            "45ff6158b7d94c65877b363d4278d8e7",
            "43a98476de564bf6b701096bf19faa12",
            "8c6dfabb750b48558241a87c338a89dc",
            "f57b113953974d97bb384eacaf8cc9ee",
            "b2b96957e2674e94a417f7549d4ce7ef",
            "8b8225fe81d745f3af265b2d32ad91cb",
            "f48ee35f5e3440c786912a4d7efe231e",
            "34d621028af24bae8df9fad7183ee412"
          ]
        },
        "outputId": "773870a3-0ad8-4600-ee0d-da0404fada23"
      },
      "outputs": [
        {
          "output_type": "display_data",
          "data": {
            "text/plain": [
              "  0%|          | 0/5 [00:00<?, ?it/s]"
            ],
            "application/vnd.jupyter.widget-view+json": {
              "version_major": 2,
              "version_minor": 0,
              "model_id": "056a05f51ae646cca81e1cded585468b"
            }
          },
          "metadata": {}
        }
      ],
      "source": [
        "import numpy as np\n",
        "from copy import deepcopy\n",
        "\n",
        "\n",
        "def train_model_cycle_sh(model, optimizer, scheduler, model_name=None, num_epochs=5):\n",
        "    criterion = nn.CrossEntropyLoss().to(device)\n",
        "\n",
        "    train_history = {}\n",
        "    train_history[\"model_name\"] = model_name\n",
        "    train_history[\"epoсhs\"] = num_epochs\n",
        "\n",
        "    train_history[\"loss_on_train\"] = []\n",
        "    train_history[\"loss_on_test\"] = []\n",
        "\n",
        "    best_loss = np.inf\n",
        "\n",
        "    for epoch in tqdm(range(num_epochs)):\n",
        "        model.train()\n",
        "        loss_on_train = train_epoch_sh(\n",
        "            model, optimizer, scheduler, criterion, train_loader\n",
        "        )\n",
        "        model.eval()\n",
        "        val_loss, loss_on_test = validate(model, criterion, test_loader)\n",
        "        train_history[\"loss_on_train\"].extend(loss_on_train)\n",
        "        train_history[\"loss_on_test\"].extend(loss_on_test)\n",
        "        if val_loss < best_loss:\n",
        "            best_loss = val_loss\n",
        "            best_model = deepcopy(model)\n",
        "\n",
        "    return best_model, train_history\n",
        "\n",
        "\n",
        "model_name = \"sgd_cycle_lr\"\n",
        "best_model, history = train_model_cycle_sh(\n",
        "    model, optimizer, scheduler, model_name=model_name, num_epochs=5\n",
        ")\n",
        "history_plotter.add(history)"
      ]
    },
    {
      "cell_type": "markdown",
      "source": [
        "Сравним с SGD и Adam:"
      ],
      "metadata": {
        "id": "7LRbLvVD5aJ-"
      }
    },
    {
      "cell_type": "code",
      "source": [
        "def train_epoch(model, optimizer, criterion, train_loader):\n",
        "    loss_history = []\n",
        "    for batch in train_loader:\n",
        "        optimizer.zero_grad()\n",
        "        x_train, y_train = batch  # parse data\n",
        "        x_train, y_train = x_train.to(device), y_train.to(device)  # compute on gpu\n",
        "        y_pred = model(x_train)  # get predictions\n",
        "        loss = criterion(y_pred, y_train)  # compute loss\n",
        "        loss_history.append(loss.cpu().detach().item())  # write loss to log\n",
        "        loss.backward()\n",
        "        optimizer.step()\n",
        "    return loss_history\n",
        "\n",
        "\n",
        "def train_model_sep(model, optimizer, model_name=None, num_epochs=5):\n",
        "    criterion = nn.CrossEntropyLoss().to(device)\n",
        "\n",
        "    train_history = {}\n",
        "    train_history[\"model_name\"] = model_name\n",
        "    train_history[\"epoсhs\"] = num_epochs\n",
        "    train_history[\"loss_on_train\"] = []\n",
        "    train_history[\"loss_on_test\"] = []\n",
        "\n",
        "    for epoch in tqdm(range(num_epochs)):\n",
        "        model.train()\n",
        "        loss_on_train = train_epoch(model, optimizer, criterion, train_loader)\n",
        "        model.eval()\n",
        "        _, loss_on_test = validate(model, criterion, test_loader)\n",
        "        train_history[\"loss_on_train\"].extend(loss_on_train)\n",
        "        train_history[\"loss_on_test\"].extend(loss_on_test)\n",
        "    return train_history"
      ],
      "metadata": {
        "id": "Kuw5X0DD5fSx"
      },
      "execution_count": null,
      "outputs": []
    },
    {
      "cell_type": "code",
      "source": [
        "set_random_seed(42)\n",
        "model = SimpleMNIST_NN_Init_Batchnorm(n_layers=3).to(device)\n",
        "optimizer = optim.SGD(model.parameters(), lr=1e-3)\n",
        "\n",
        "model_name = \"sgd\"\n",
        "history = train_model_sep(model, optimizer, model_name=model_name)\n",
        "history_plotter.add(history)"
      ],
      "metadata": {
        "colab": {
          "base_uri": "https://localhost:8080/",
          "height": 49,
          "referenced_widgets": [
            "1d00ba07517a41908185439a849668c4",
            "04c93d36da6547cb81e0f81de02d9d2c",
            "27a65140ba1a4e9f8a65556456d0584c",
            "051e57a43513448f9886aea9f2c21f74",
            "002dcbfbd73f4a27844a6454cbd23673",
            "bb9ce89e277f4a139de90fef7ea0d0af",
            "0156e5a038c346f7b8a7416a5ec92c6b",
            "6cbe9240aba941128280c3a40e2e8e96",
            "c031528bfd2a46c8b7cbd3014ad9e068",
            "fcf543d926a04ff6830d17baa7540bfd",
            "c8fab19b8d6643588c99cdbccb7ae64a"
          ]
        },
        "id": "ulDUt9eD5WsO",
        "outputId": "419a96a9-5b04-4ec1-bfdb-073ea3356a43"
      },
      "execution_count": null,
      "outputs": [
        {
          "output_type": "display_data",
          "data": {
            "text/plain": [
              "  0%|          | 0/5 [00:00<?, ?it/s]"
            ],
            "application/vnd.jupyter.widget-view+json": {
              "version_major": 2,
              "version_minor": 0,
              "model_id": "1d00ba07517a41908185439a849668c4"
            }
          },
          "metadata": {}
        }
      ]
    },
    {
      "cell_type": "code",
      "source": [
        "set_random_seed(42)\n",
        "model = SimpleMNIST_NN_Init_Batchnorm(n_layers=3).to(device)\n",
        "optimizer = optim.Adam(model.parameters(), lr=1e-2)\n",
        "\n",
        "model_name = \"adam\"\n",
        "history = train_model_sep(model, optimizer, model_name=\"adam\")\n",
        "history_plotter.add(history)"
      ],
      "metadata": {
        "colab": {
          "base_uri": "https://localhost:8080/",
          "height": 49,
          "referenced_widgets": [
            "730df4d0bdd64fee821d019ab65d674e",
            "1fdc25e445444a96a230792f05c7b5bb",
            "15a940ca21fa4dcf9f2e1dc3da70596d",
            "f0d0e69420ae46f095a1d45c4f56b666",
            "1a10613c92fe447998f9b536a794847f",
            "77c3ebb4fb5240ecb33a0295373be65e",
            "d29c0bfc16594834bb9f91d030ff7c6b",
            "6f30ec765cb5416fba415d1f55b3fc2f",
            "d6e686112fef499fb7e5a88c0b876234",
            "7b10d6c7d4464a358cb269afc33cebc5",
            "a117d354f464467d947b730e36136f6f"
          ]
        },
        "id": "bRjXlb6j5-tn",
        "outputId": "7eb485ff-751f-4987-b7a1-2e67571b29df"
      },
      "execution_count": null,
      "outputs": [
        {
          "output_type": "display_data",
          "data": {
            "text/plain": [
              "  0%|          | 0/5 [00:00<?, ?it/s]"
            ],
            "application/vnd.jupyter.widget-view+json": {
              "version_major": 2,
              "version_minor": 0,
              "model_id": "730df4d0bdd64fee821d019ab65d674e"
            }
          },
          "metadata": {}
        }
      ]
    },
    {
      "cell_type": "code",
      "execution_count": null,
      "metadata": {
        "id": "P8mMg_FYFMfT",
        "colab": {
          "base_uri": "https://localhost:8080/",
          "height": 872
        },
        "outputId": "5accb710-cdf8-4ed3-e65f-ae609d69135e"
      },
      "outputs": [
        {
          "output_type": "display_data",
          "data": {
            "text/plain": [
              "<Figure size 1000x1000 with 3 Axes>"
            ],
            "image/png": "[encoded data removed]"
          },
          "metadata": {}
        }
      ],
      "source": [
        "\n",
        "history_plotter.plot([\"sgd\", \"adam\", \"sgd_cycle_lr\"])"
      ]
    },
    {
      "cell_type": "markdown",
      "metadata": {
        "id": "LivP8snFFMfT"
      },
      "source": [
        "Получилось хуже, чем Adam, но лучше, чем SGD, и мы сэкономили память."
      ]
    }
  ]
}