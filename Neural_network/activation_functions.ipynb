{
  "nbformat": 4,
  "nbformat_minor": 0,
  "metadata": {
    "colab": {
      "provenance": [],
      "toc_visible": true
    },
    "kernelspec": {
      "name": "python3",
      "display_name": "Python 3"
    },
    "language_info": {
      "name": "python"
    }
  },
  "cells": [
    {
      "cell_type": "markdown",
      "metadata": {
        "id": "0U0vcrLqU8sO"
      },
      "source": [
        "#  Функции активации"
      ]
    },
    {
      "cell_type": "markdown",
      "metadata": {
        "id": "Xx23cP5xU8sO"
      },
      "source": [
        "Функции активации вводят нелинейность в нейронные сети, что позволяет аппроксимировать сложные функции. Название связано с биологической аналогией, где нейроны активируются при достижении порогового потенциала.\n",
        "\n",
        "\n",
        "Перцептроны, первые нейронные сети, использовали простую пороговую функцию активации:\n",
        "\n",
        "$$\\large f(x) =\n",
        "\\begin{cases}\n",
        "0, &\\text{$x<b$} \\\\\n",
        "1, &\\text{$x\\geq b$}\n",
        "\\end{cases}\n",
        "$$"
      ]
    },
    {
      "cell_type": "markdown",
      "metadata": {
        "id": "uLYa4HupU8sO"
      },
      "source": [
        "<center><img src =\"https://ml.gan4x4.ru/msu/dev-2.2/L05/out/threshold_function_plot.png\" width=\"400\"></center>"
      ]
    },
    {
      "cell_type": "markdown",
      "metadata": {
        "id": "nwwSae9iU8sO"
      },
      "source": [
        "Однако, из-за её неинформативной производной, она непригодна для оптимизации методом градиентного спуска:\n",
        "\n",
        "$$\\large f'(x) =\n",
        "\\begin{cases}\n",
        "0, &\\text{$x\\neq b$} \\\\\n",
        "?, &\\text{$x= b$}\n",
        "\\end{cases}\n",
        "$$"
      ]
    },
    {
      "cell_type": "markdown",
      "metadata": {
        "id": "qhXGiD8FU8sO"
      },
      "source": [
        "## Требования к функциям активации\n",
        "\n",
        "1. **Нелинейность:** Функции активации добавляют нелинейность, необходимую для аппроксимации сложных функций, чего нельзя достичь простой линейной моделью. Без нелинейностей нейронные сети действуют как линейные модели.\n",
        "\n",
        "2. **Дифференцируемость:** Функции активации должны быть дифференцируемыми, чтобы применять градиентные методы оптимизации."
      ]
    },
    {
      "cell_type": "markdown",
      "metadata": {
        "id": "FA9Un4utU8sO"
      },
      "source": [
        "##  Различные функции активации"
      ]
    },
    {
      "cell_type": "markdown",
      "metadata": {
        "id": "faJRs2BvU8sO"
      },
      "source": [
        "Рассмотрим наиболее популярные функции активации и обсудим их преимущества и недостатки."
      ]
    },
    {
      "cell_type": "markdown",
      "metadata": {
        "id": "Whzq6tWTU8sP"
      },
      "source": [
        "<center><img src =\"https://ml.gan4x4.ru/msu/dev-2.1/L05/popular_activation_functions.png\" width=\"700\"></center>\n",
        "\n",
        "<center><em>Source: <a href=\"https://arxiv.org/pdf/1911.05187.pdf\">AI in Pursuit of Happiness, Finding Only Sadness: Multi-Modal Facial Emotion Recognition Challenge</a></em></center>"
      ]
    },
    {
      "cell_type": "markdown",
      "metadata": {
        "id": "qClJATDlU8sP"
      },
      "source": [
        "##  Логистическая функция"
      ]
    },
    {
      "cell_type": "markdown",
      "metadata": {
        "id": "ACXIhfnFU8sP"
      },
      "source": [
        "Логистическая (сигмоидальная) функция — используется в задачах бинарной классификации, в основном после выхода последнего нейрона. Позволяет определить вероятность принадлежности к одному из двух классов (0 или 1)."
      ]
    },
    {
      "cell_type": "markdown",
      "metadata": {
        "id": "MYWQDLGUU8sP"
      },
      "source": [
        "$$\\large \\sigma(x)=\\frac{1}{1+e^{-x}}$$"
      ]
    },
    {
      "cell_type": "markdown",
      "metadata": {
        "id": "R9jcZMPdU8sP"
      },
      "source": [
        "<center><img src =\"https://ml.gan4x4.ru/msu/dev-2.2/L05/out/activation_function_sigmoid.png\" width=\"1000\"></center>"
      ]
    },
    {
      "cell_type": "markdown",
      "metadata": {
        "id": "uPwcAwaWU8sP"
      },
      "source": [
        "Примечательным свойством логистической функции является то, что ее производная выражается через саму функцию. Это значит, что, зная значение функции в точке, вычислить значение производной в этой точке очень легко:\n",
        "\n",
        "$$\\large \\frac{d}{dx}\\sigma(x) = \\frac{d}{dx}(1+e^{-x})^{-1} = \\frac{e^{-x}}{(1+e^{-x})^{2}} = \\frac{1}{1+e^{-x}} \\cdot \\frac{1+e^{-x}-1}{1+e^{-x}} = \\sigma(x)\\cdot(1-\\sigma(x))$$"
      ]
    },
    {
      "cell_type": "markdown",
      "metadata": {
        "id": "lWPqj-stU8sP"
      },
      "source": [
        "В отличие от пороговой функции активации, где у нейрона было всего два состояния: \"активирован\" или \"не активирован\", с логистической функцией для нейрона возможны значения \"активирован на $50\\%$\", \"активирован на $20\\%$\" и так далее. Если активированы несколько нейронов, можно найти нейрон с наибольшим значением активации."
      ]
    },
    {
      "cell_type": "markdown",
      "metadata": {
        "id": "ZDiVestsU8sP"
      },
      "source": [
        "Свойства логистической функции активации:\n",
        "1. **Диапазон значений:** От $0$ до $1$, что позволяет моделировать вероятности. Полезна в задачах бинарной и multi-label классификации.\n",
        "2. **Гладкость:** Дифференцируема, что упрощает обучение.\n",
        "3. **Насыщение:** Насыщается при больших/малых значениях, приводя к затуханию градиента (проблема затухающего градиента будет обсуждаться в следующих лекциях).\n",
        "\n",
        "Применяется в основном для задач бинарной классификации. Реже используется в скрытых слоях из-за проблемы затухания градиента."
      ]
    },
    {
      "cell_type": "markdown",
      "metadata": {
        "id": "Jwff6g8wU8sP"
      },
      "source": [
        "[[doc] 🛠️ Сигмоидальная функция активации в PyTorch](https://pytorch.org/docs/stable/generated/torch.nn.Sigmoid.html):\n",
        "```python\n",
        "torch.nn.Sigmoid()\n",
        "```"
      ]
    },
    {
      "cell_type": "code",
      "execution_count": null,
      "metadata": {
        "id": "8pfsxidnU8sP",
        "colab": {
          "base_uri": "https://localhost:8080/"
        },
        "outputId": "be2c3c6c-e59d-42c1-ebbe-d44280283cca"
      },
      "outputs": [
        {
          "output_type": "stream",
          "name": "stdout",
          "text": [
            "input_values: tensor([-4.1746,  3.2210, -2.6507, -6.7530,  2.0411])\n",
            "activation_sig: tensor([0.0151, 0.9616, 0.0659, 0.0012, 0.8850])\n"
          ]
        }
      ],
      "source": [
        "import torch\n",
        "from torch import nn\n",
        "\n",
        "activation = nn.Sigmoid()\n",
        "input_values = torch.randn(5) * 5\n",
        "activation_sig = activation(input_values)\n",
        "print(f\"input_values: {input_values}\\nactivation_sig: {activation_sig}\")"
      ]
    },
    {
      "cell_type": "markdown",
      "metadata": {
        "id": "NPejmA0uU8sP"
      },
      "source": [
        "##  Гиперболический тангенс"
      ]
    },
    {
      "cell_type": "markdown",
      "metadata": {
        "id": "EZ5gI0DQU8sP"
      },
      "source": [
        "Гиперболический тангенс схож с логистической функцией. Он определяется следующей формулой:"
      ]
    },
    {
      "cell_type": "markdown",
      "metadata": {
        "id": "_YpK7J6bU8sP"
      },
      "source": [
        "$$\\large \\tanh(x)=\\frac{e^x - e^{-x}}{e^x+e^{-x}}$$"
      ]
    },
    {
      "cell_type": "markdown",
      "metadata": {
        "id": "g_ikohcGU8sQ"
      },
      "source": [
        "Также гиперболический тангенс может быть выражен через логистическую функцию:\n",
        "\n",
        "$$\\large \\tanh(x) = 2\\cdot\\sigma(2x)-1$$"
      ]
    },
    {
      "cell_type": "markdown",
      "metadata": {
        "id": "u3mD-aLMU8sQ"
      },
      "source": [
        "<center><img src =\"https://ml.gan4x4.ru/msu/dev-2.2/L05/out/activation_function_tanh.png\" width=\"1000\"></center>"
      ]
    },
    {
      "cell_type": "markdown",
      "metadata": {
        "id": "s19Q9j9-U8sQ"
      },
      "source": [
        "Производная гиперболического тангенса также [выражается через саму функцию ✏️[blog]](https://socratic.org/questions/what-is-the-derivative-of-tanh-x):\n",
        "\n",
        "$$\\large \\frac{d}{dx}\\tanh(x)=1-\\tanh^2(x)$$\n"
      ]
    },
    {
      "cell_type": "markdown",
      "metadata": {
        "id": "8GFfLLcrU8sQ"
      },
      "source": [
        "Гиперболический тангенс обладает следующими свойствами:\n",
        "1. **Диапазон значений:** От $-1$ до $1$, симметричен относительно нуля.\n",
        "2. **Гладкость:** Дифференцируем, облегчает обучение.\n",
        "3. **Более высокая чувствительность:** Более чувствителен к изменениям входа, чем сигмоида.\n",
        "4. **Центрирование вокруг нуля:** Ускоряет сходимость обучения.\n",
        "5. **Насыщение:** Насыщается на краях, что приводит к затуханию градиента.\n",
        "\n",
        "Используется для внутренних представлений, симметричных вокруг нуля, и часто применяется в скрытых слоях."
      ]
    },
    {
      "cell_type": "markdown",
      "metadata": {
        "id": "tdG8Q3QDU8sQ"
      },
      "source": [
        "[[doc] 🛠️ Гиперболический тангенс в PyTorch](https://pytorch.org/docs/stable/generated/torch.nn.Tanh.html):\n",
        "```python\n",
        "torch.nn.Tanh()\n",
        "```"
      ]
    },
    {
      "cell_type": "code",
      "execution_count": null,
      "metadata": {
        "id": "2KRBNUJbU8sQ",
        "colab": {
          "base_uri": "https://localhost:8080/"
        },
        "outputId": "bd9cb383-f30e-459a-823c-5263c84f3c22"
      },
      "outputs": [
        {
          "output_type": "stream",
          "name": "stdout",
          "text": [
            "input_values: tensor([11.1529,  4.3029,  0.5081, -3.8456, -1.9058])\n",
            "activation_tanh: tensor([ 1.0000,  0.9996,  0.4685, -0.9991, -0.9567])\n"
          ]
        }
      ],
      "source": [
        "activation = nn.Tanh()\n",
        "input_values = torch.tensor([11.1529, 4.3029, 0.5081, -3.8456, -1.9058])\n",
        "activation_tanh = activation(input_values)\n",
        "print(f\"input_values: {input_values}\\nactivation_tanh: {activation_tanh}\")"
      ]
    },
    {
      "cell_type": "markdown",
      "metadata": {
        "id": "PZxoB4MYU8sQ"
      },
      "source": [
        "##  ReLU"
      ]
    },
    {
      "cell_type": "markdown",
      "metadata": {
        "id": "zcDUSUBGU8sQ"
      },
      "source": [
        "Часто на практике применяется функция активации ReLU. Значение данной функции равно нулю для всех отрицательных входных значений и равно входному значению, если оно неотрицательно."
      ]
    },
    {
      "cell_type": "markdown",
      "metadata": {
        "id": "M3iChynZU8sQ"
      },
      "source": [
        "$$\\large \\text{ReLU}(x)=\\max(0,x)$$"
      ]
    },
    {
      "cell_type": "markdown",
      "metadata": {
        "id": "fxFI1UTUU8sQ"
      },
      "source": [
        "<center><img src =\"https://ml.gan4x4.ru/msu/dev-2.2/L05/out/activation_function_relu.png\" width=\"1000\"></center>"
      ]
    },
    {
      "cell_type": "markdown",
      "metadata": {
        "id": "997dy9PgU8sQ"
      },
      "source": [
        "Производная ReLU:"
      ]
    },
    {
      "cell_type": "markdown",
      "metadata": {
        "id": "nzDIJ-SlU8sQ"
      },
      "source": [
        "$$\\frac{d}{dx}\\text{ReLU}(x) =\n",
        "\\begin{cases}\n",
        "\\displaystyle \\frac{d}{dx}0, &\\text{$x<0$} \\\\\n",
        "\\displaystyle \\frac{d}{dx}x, &\\text{$x\\geq0$}\n",
        "\\end{cases}=\n",
        "\\begin{cases}\n",
        "0, &\\text{$x<0$} \\\\\n",
        "1, &\\text{$x\\geq0$}\n",
        "\\end{cases}\n",
        "$$"
      ]
    },
    {
      "cell_type": "markdown",
      "metadata": {
        "id": "MJ7S4AFfU8sQ"
      },
      "source": [
        "Функция ReLU имеет следующие свойства:\n",
        "1. **Диапазон значений:** От 0 до $\\infty$, обнуляет отрицательные значения.\n",
        "2. **Отсутствие насыщения:** Не насыщается при положительных значениях, способствуя эффективному обучению.\n",
        "3. **Простота:** Легка в вычислении и реализации.\n",
        "4. **Проблема \"умерших\" нейронов:** Нулевой градиент для отрицательных входов останавливает обновление весов.\n",
        "\n",
        "ReLU широко используется в скрытых слоях глубоких нейронных сетей благодаря своей эффективности."
      ]
    },
    {
      "cell_type": "markdown",
      "metadata": {
        "id": "VvYkQC3mU8sQ"
      },
      "source": [
        "[[doc] 🛠️ ReLU в PyTorch](https://pytorch.org/docs/stable/generated/torch.nn.ReLU.html):\n",
        "```python\n",
        "torch.nn.ReLU()\n",
        "```"
      ]
    },
    {
      "cell_type": "code",
      "execution_count": null,
      "metadata": {
        "id": "S_i3pX-lU8sQ",
        "colab": {
          "base_uri": "https://localhost:8080/"
        },
        "outputId": "31bfc02e-27eb-4cc7-baee-b036eec85af6"
      },
      "outputs": [
        {
          "output_type": "stream",
          "name": "stdout",
          "text": [
            "input_values: tensor([ 0.1650, -0.1988,  0.6777,  0.0415,  0.1600])\n",
            "activation_relu: tensor([0.1650, 0.0000, 0.6777, 0.0415, 0.1600])\n"
          ]
        }
      ],
      "source": [
        "activation = nn.ReLU()\n",
        "input_values = torch.randn(5)\n",
        "activation_relu = activation(input_values)\n",
        "print(f\"input_values: {input_values}\\nactivation_relu: {activation_relu}\")"
      ]
    },
    {
      "cell_type": "markdown",
      "metadata": {
        "id": "AOY0N33MU8sR"
      },
      "source": [
        "## Leaky ReLU"
      ]
    },
    {
      "cell_type": "markdown",
      "metadata": {
        "id": "lLqYCd4kU8sR"
      },
      "source": [
        "Leaky ReLU — модификация ReLU, которая решает проблему \"умирания\" нейронов, вводя небольшую линейную зависимость в отрицательной области, которая регулируется параметром $\\alpha$."
      ]
    },
    {
      "cell_type": "markdown",
      "metadata": {
        "id": "j04izAXMU8sR"
      },
      "source": [
        "$$\\large \\text{LeakyReLU}(x, \\alpha)=\\max(\\alpha x,x), \\ \\ \\ \\alpha<1$$"
      ]
    },
    {
      "cell_type": "markdown",
      "metadata": {
        "id": "i_ljwsU3U8sR"
      },
      "source": [
        "<center><img src =\"https://ml.gan4x4.ru/msu/dev-2.2/L05/out/activation_function_leaky_relu.png\" width=\"1000\"></center>"
      ]
    },
    {
      "cell_type": "markdown",
      "metadata": {
        "id": "ddRAXfmcU8sR"
      },
      "source": [
        "Производная Leaky ReLU:\n",
        "\n",
        "$$\\large \\frac{d}{dx}\\text{LeakyReLU}(x)=\\frac{d}{dx}\\max(\\alpha x,x)=\\begin{cases}\n",
        "\\displaystyle \\frac{d}{dx}\\alpha x, &\\text{$x<0$} \\\\\n",
        "\\displaystyle \\frac{d}{dx}x, &\\text{$x\\geq0$}\n",
        "\\end{cases}=\n",
        "\\begin{cases}\n",
        "\\alpha, &\\text{$x<0$} \\\\\n",
        "1, &\\text{$x\\geq0$}\n",
        "\\end{cases}$$"
      ]
    },
    {
      "cell_type": "markdown",
      "metadata": {
        "id": "ljADPNlAU8sR"
      },
      "source": [
        "Свойства LeakyReLU:\n",
        "\n",
        "1. **Диапазон значений:** От $-\\infty$ до $+\\infty$.\n",
        "2. **Отсутствие насыщения:** Не насыщается, что предотвращает затухание градиента.\n",
        "3. **Простота:** Легко вычисляется и дифференцируется.\n",
        "4. **Преодоление проблемы \"умерших\" нейронов:** Ненулевой наклон для отрицательных значений устраняет эту проблему.\n",
        "5. **Дополнительный гиперпараметр:** Требуется настройка наклона для отрицательной части.\n",
        "\n",
        "Leaky ReLU используется в скрытых слоях для предотвращения проблемы \"умерших\" нейронов, особенно в глубоких нейронных сетях."
      ]
    },
    {
      "cell_type": "markdown",
      "metadata": {
        "id": "axKSxvCIU8sR"
      },
      "source": [
        "[[doc] 🛠️ Leaky ReLU в PyTorch](https://pytorch.org/docs/stable/generated/torch.nn.LeakyReLU.html):\n",
        "```python\n",
        "torch.nn.LeakyReLU()\n",
        "```"
      ]
    },
    {
      "cell_type": "code",
      "execution_count": null,
      "metadata": {
        "id": "p65BUyqvU8sR",
        "colab": {
          "base_uri": "https://localhost:8080/"
        },
        "outputId": "9b5007f2-b70a-4a12-b41d-f65311896217"
      },
      "outputs": [
        {
          "output_type": "stream",
          "name": "stdout",
          "text": [
            "input_values: tensor([-0.2762, -0.8034,  0.4943, -1.2415,  0.3380])\n",
            "activation_lrelu: tensor([-0.0028, -0.0080,  0.4943, -0.0124,  0.3380])\n"
          ]
        }
      ],
      "source": [
        "activation = nn.LeakyReLU(0.01)\n",
        "input_values = torch.randn(5)\n",
        "activation_lrelu = activation(input_values)\n",
        "print(f\"input_values: {input_values}\\nactivation_lrelu: {activation_lrelu}\")"
      ]
    },
    {
      "cell_type": "markdown",
      "metadata": {
        "id": "MYcPvXMfU8sR"
      },
      "source": [
        "##  GELU (Gaussian Error Linear Unit)"
      ]
    },
    {
      "cell_type": "markdown",
      "metadata": {
        "id": "HfzrAYuLU8sR"
      },
      "source": [
        "GELU — функция активации, которая сочетает в себе свойства ReLU и сигмоиды. Она применяет к входным данным кумулятивную функцию гауссова распределения.\n",
        "\n",
        "На практике GELU может быть приблизительно вычислена так:\n",
        "\n",
        "$$\\large \\text{GELU}(x)\\approx 0.5x(1+\\tanh[\\sqrt{2/\\pi}(x+0.044715x^3)])$$\n",
        "\n",
        "или\n",
        "\n",
        "$$\\large \\text{GELU}(x) \\approx x\\cdot \\sigma(1.702x)$$\n",
        "\n"
      ]
    },
    {
      "cell_type": "markdown",
      "metadata": {
        "id": "dHM7AhLTU8sR"
      },
      "source": [
        "<center><img src =\"https://ml.gan4x4.ru/msu/dev-2.2/L05/out/activation_function_gelu.png\" width=\"1000\"></center>"
      ]
    },
    {
      "cell_type": "markdown",
      "metadata": {
        "id": "tgUN6MTzU8sR"
      },
      "source": [
        "Свойства GELU:\n",
        "\n",
        "1. **Диапазон значений:** От $0$ до $+\\infty$.\n",
        "2. **Гладкость:** Является гладкой функцией, что облегчает обучение.\n",
        "3. **Простота:** Не требует дополнительной настройки гиперпараметров.\n",
        "\n",
        "GELU применяется в современных нейронных сетях, таких как трансформеры, и широко используется в архитектурах, требующих адаптивности и высокой производительности."
      ]
    },
    {
      "cell_type": "markdown",
      "metadata": {
        "id": "zbNgjVkCU8sR"
      },
      "source": [
        "[[doc] 🛠️ GELU в PyTorch](https://pytorch.org/docs/stable/generated/torch.nn.GELU.html):\n",
        "```python\n",
        "torch.nn.GELU()\n",
        "```"
      ]
    },
    {
      "cell_type": "code",
      "execution_count": null,
      "metadata": {
        "id": "hdN8TeE_U8sR",
        "colab": {
          "base_uri": "https://localhost:8080/"
        },
        "outputId": "d5304a81-39df-450e-e10e-c47c5924685c"
      },
      "outputs": [
        {
          "output_type": "stream",
          "name": "stdout",
          "text": [
            "input_values: tensor([ 2.5845, -2.3937,  2.7921,  5.3007,  7.7047])\n",
            "activation_gelu: tensor([ 2.5719, -0.0200,  2.7847,  5.3007,  7.7047])\n"
          ]
        }
      ],
      "source": [
        "activation = nn.GELU()\n",
        "input_values = torch.randn(5) * 5\n",
        "activation_gelu = activation(input_values)\n",
        "print(f\"input_values: {input_values}\\nactivation_gelu: {activation_gelu}\")"
      ]
    },
    {
      "cell_type": "markdown",
      "metadata": {
        "id": "wgaUZYXoU8sR"
      },
      "source": [
        "## Визуализация функций активации\n"
      ]
    },
    {
      "cell_type": "markdown",
      "metadata": {
        "id": "jozZ82GpU8sS"
      },
      "source": [
        "<center><img src =\"https://ml.gan4x4.ru/msu/dev-2.2/L05/out/animated_activation_functions.png\" width=\"900\"></center>"
      ]
    },
    {
      "cell_type": "markdown",
      "metadata": {
        "id": "YSKFN5xwU8sS"
      },
      "source": [
        "[[blog] ✏️ How Activation Functions Work in Deep Learning](https://www.kdnuggets.com/2022/06/activation-functions-work-deep-learning.html)"
      ]
    }
  ]
}