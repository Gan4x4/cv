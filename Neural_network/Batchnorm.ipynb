{
  "nbformat": 4,
  "nbformat_minor": 0,
  "metadata": {
    "colab": {
      "provenance": [],
      "toc_visible": true,
      "gpuType": "T4"
    },
    "kernelspec": {
      "name": "python3",
      "display_name": "Python 3"
    },
    "language_info": {
      "name": "python"
    },
    "accelerator": "GPU",
    "widgets": {
      "application/vnd.jupyter.widget-state+json": {
        "40e3fc6cbff74d95961c7eca728e8ef5": {
          "model_module": "@jupyter-widgets/controls",
          "model_name": "HBoxModel",
          "model_module_version": "1.5.0",
          "state": {
            "_dom_classes": [],
            "_model_module": "@jupyter-widgets/controls",
            "_model_module_version": "1.5.0",
            "_model_name": "HBoxModel",
            "_view_count": null,
            "_view_module": "@jupyter-widgets/controls",
            "_view_module_version": "1.5.0",
            "_view_name": "HBoxView",
            "box_style": "",
            "children": [
              "IPY_MODEL_91f2ffcaa6184eecae26b8def150936d",
              "IPY_MODEL_4d42bc893c2f4f0da6427f6bbbea68f0",
              "IPY_MODEL_b3c672b68fd34608913652996da0e12a"
            ],
            "layout": "IPY_MODEL_4d03216886fd4d92b69145fee5850b23"
          }
        },
        "91f2ffcaa6184eecae26b8def150936d": {
          "model_module": "@jupyter-widgets/controls",
          "model_name": "HTMLModel",
          "model_module_version": "1.5.0",
          "state": {
            "_dom_classes": [],
            "_model_module": "@jupyter-widgets/controls",
            "_model_module_version": "1.5.0",
            "_model_name": "HTMLModel",
            "_view_count": null,
            "_view_module": "@jupyter-widgets/controls",
            "_view_module_version": "1.5.0",
            "_view_name": "HTMLView",
            "description": "",
            "description_tooltip": null,
            "layout": "IPY_MODEL_7fc22382b2cd4c60a6107c3d12fa5218",
            "placeholder": "​",
            "style": "IPY_MODEL_8cec6cc04961483bb24a494115ee06bf",
            "value": "Epoch 4: 100%"
          }
        },
        "4d42bc893c2f4f0da6427f6bbbea68f0": {
          "model_module": "@jupyter-widgets/controls",
          "model_name": "FloatProgressModel",
          "model_module_version": "1.5.0",
          "state": {
            "_dom_classes": [],
            "_model_module": "@jupyter-widgets/controls",
            "_model_module_version": "1.5.0",
            "_model_name": "FloatProgressModel",
            "_view_count": null,
            "_view_module": "@jupyter-widgets/controls",
            "_view_module_version": "1.5.0",
            "_view_name": "ProgressView",
            "bar_style": "success",
            "description": "",
            "description_tooltip": null,
            "layout": "IPY_MODEL_658c29f900e842f4886e6908f24aca14",
            "max": 1500,
            "min": 0,
            "orientation": "horizontal",
            "style": "IPY_MODEL_1d260ba145a5486ca46d4dc434c1ddf6",
            "value": 1500
          }
        },
        "b3c672b68fd34608913652996da0e12a": {
          "model_module": "@jupyter-widgets/controls",
          "model_name": "HTMLModel",
          "model_module_version": "1.5.0",
          "state": {
            "_dom_classes": [],
            "_model_module": "@jupyter-widgets/controls",
            "_model_module_version": "1.5.0",
            "_model_name": "HTMLModel",
            "_view_count": null,
            "_view_module": "@jupyter-widgets/controls",
            "_view_module_version": "1.5.0",
            "_view_name": "HTMLView",
            "description": "",
            "description_tooltip": null,
            "layout": "IPY_MODEL_1196b7e84abe4cc3a5ec54d86e94ae38",
            "placeholder": "​",
            "style": "IPY_MODEL_e19bfee497ba4ca7af303866a4dacf29",
            "value": " 1500/1500 [00:23&lt;00:00, 64.66it/s, v_num=0, loss_on_train=0.895, loss_on_test=0.954]"
          }
        },
        "4d03216886fd4d92b69145fee5850b23": {
          "model_module": "@jupyter-widgets/base",
          "model_name": "LayoutModel",
          "model_module_version": "1.2.0",
          "state": {
            "_model_module": "@jupyter-widgets/base",
            "_model_module_version": "1.2.0",
            "_model_name": "LayoutModel",
            "_view_count": null,
            "_view_module": "@jupyter-widgets/base",
            "_view_module_version": "1.2.0",
            "_view_name": "LayoutView",
            "align_content": null,
            "align_items": null,
            "align_self": null,
            "border": null,
            "bottom": null,
            "display": "inline-flex",
            "flex": null,
            "flex_flow": "row wrap",
            "grid_area": null,
            "grid_auto_columns": null,
            "grid_auto_flow": null,
            "grid_auto_rows": null,
            "grid_column": null,
            "grid_gap": null,
            "grid_row": null,
            "grid_template_areas": null,
            "grid_template_columns": null,
            "grid_template_rows": null,
            "height": null,
            "justify_content": null,
            "justify_items": null,
            "left": null,
            "margin": null,
            "max_height": null,
            "max_width": null,
            "min_height": null,
            "min_width": null,
            "object_fit": null,
            "object_position": null,
            "order": null,
            "overflow": null,
            "overflow_x": null,
            "overflow_y": null,
            "padding": null,
            "right": null,
            "top": null,
            "visibility": null,
            "width": "100%"
          }
        },
        "7fc22382b2cd4c60a6107c3d12fa5218": {
          "model_module": "@jupyter-widgets/base",
          "model_name": "LayoutModel",
          "model_module_version": "1.2.0",
          "state": {
            "_model_module": "@jupyter-widgets/base",
            "_model_module_version": "1.2.0",
            "_model_name": "LayoutModel",
            "_view_count": null,
            "_view_module": "@jupyter-widgets/base",
            "_view_module_version": "1.2.0",
            "_view_name": "LayoutView",
            "align_content": null,
            "align_items": null,
            "align_self": null,
            "border": null,
            "bottom": null,
            "display": null,
            "flex": null,
            "flex_flow": null,
            "grid_area": null,
            "grid_auto_columns": null,
            "grid_auto_flow": null,
            "grid_auto_rows": null,
            "grid_column": null,
            "grid_gap": null,
            "grid_row": null,
            "grid_template_areas": null,
            "grid_template_columns": null,
            "grid_template_rows": null,
            "height": null,
            "justify_content": null,
            "justify_items": null,
            "left": null,
            "margin": null,
            "max_height": null,
            "max_width": null,
            "min_height": null,
            "min_width": null,
            "object_fit": null,
            "object_position": null,
            "order": null,
            "overflow": null,
            "overflow_x": null,
            "overflow_y": null,
            "padding": null,
            "right": null,
            "top": null,
            "visibility": null,
            "width": null
          }
        },
        "8cec6cc04961483bb24a494115ee06bf": {
          "model_module": "@jupyter-widgets/controls",
          "model_name": "DescriptionStyleModel",
          "model_module_version": "1.5.0",
          "state": {
            "_model_module": "@jupyter-widgets/controls",
            "_model_module_version": "1.5.0",
            "_model_name": "DescriptionStyleModel",
            "_view_count": null,
            "_view_module": "@jupyter-widgets/base",
            "_view_module_version": "1.2.0",
            "_view_name": "StyleView",
            "description_width": ""
          }
        },
        "658c29f900e842f4886e6908f24aca14": {
          "model_module": "@jupyter-widgets/base",
          "model_name": "LayoutModel",
          "model_module_version": "1.2.0",
          "state": {
            "_model_module": "@jupyter-widgets/base",
            "_model_module_version": "1.2.0",
            "_model_name": "LayoutModel",
            "_view_count": null,
            "_view_module": "@jupyter-widgets/base",
            "_view_module_version": "1.2.0",
            "_view_name": "LayoutView",
            "align_content": null,
            "align_items": null,
            "align_self": null,
            "border": null,
            "bottom": null,
            "display": null,
            "flex": "2",
            "flex_flow": null,
            "grid_area": null,
            "grid_auto_columns": null,
            "grid_auto_flow": null,
            "grid_auto_rows": null,
            "grid_column": null,
            "grid_gap": null,
            "grid_row": null,
            "grid_template_areas": null,
            "grid_template_columns": null,
            "grid_template_rows": null,
            "height": null,
            "justify_content": null,
            "justify_items": null,
            "left": null,
            "margin": null,
            "max_height": null,
            "max_width": null,
            "min_height": null,
            "min_width": null,
            "object_fit": null,
            "object_position": null,
            "order": null,
            "overflow": null,
            "overflow_x": null,
            "overflow_y": null,
            "padding": null,
            "right": null,
            "top": null,
            "visibility": null,
            "width": null
          }
        },
        "1d260ba145a5486ca46d4dc434c1ddf6": {
          "model_module": "@jupyter-widgets/controls",
          "model_name": "ProgressStyleModel",
          "model_module_version": "1.5.0",
          "state": {
            "_model_module": "@jupyter-widgets/controls",
            "_model_module_version": "1.5.0",
            "_model_name": "ProgressStyleModel",
            "_view_count": null,
            "_view_module": "@jupyter-widgets/base",
            "_view_module_version": "1.2.0",
            "_view_name": "StyleView",
            "bar_color": null,
            "description_width": ""
          }
        },
        "1196b7e84abe4cc3a5ec54d86e94ae38": {
          "model_module": "@jupyter-widgets/base",
          "model_name": "LayoutModel",
          "model_module_version": "1.2.0",
          "state": {
            "_model_module": "@jupyter-widgets/base",
            "_model_module_version": "1.2.0",
            "_model_name": "LayoutModel",
            "_view_count": null,
            "_view_module": "@jupyter-widgets/base",
            "_view_module_version": "1.2.0",
            "_view_name": "LayoutView",
            "align_content": null,
            "align_items": null,
            "align_self": null,
            "border": null,
            "bottom": null,
            "display": null,
            "flex": null,
            "flex_flow": null,
            "grid_area": null,
            "grid_auto_columns": null,
            "grid_auto_flow": null,
            "grid_auto_rows": null,
            "grid_column": null,
            "grid_gap": null,
            "grid_row": null,
            "grid_template_areas": null,
            "grid_template_columns": null,
            "grid_template_rows": null,
            "height": null,
            "justify_content": null,
            "justify_items": null,
            "left": null,
            "margin": null,
            "max_height": null,
            "max_width": null,
            "min_height": null,
            "min_width": null,
            "object_fit": null,
            "object_position": null,
            "order": null,
            "overflow": null,
            "overflow_x": null,
            "overflow_y": null,
            "padding": null,
            "right": null,
            "top": null,
            "visibility": null,
            "width": null
          }
        },
        "e19bfee497ba4ca7af303866a4dacf29": {
          "model_module": "@jupyter-widgets/controls",
          "model_name": "DescriptionStyleModel",
          "model_module_version": "1.5.0",
          "state": {
            "_model_module": "@jupyter-widgets/controls",
            "_model_module_version": "1.5.0",
            "_model_name": "DescriptionStyleModel",
            "_view_count": null,
            "_view_module": "@jupyter-widgets/base",
            "_view_module_version": "1.2.0",
            "_view_name": "StyleView",
            "description_width": ""
          }
        },
        "13b6066c553e4b3da9fd146a8df6b778": {
          "model_module": "@jupyter-widgets/controls",
          "model_name": "HBoxModel",
          "model_module_version": "1.5.0",
          "state": {
            "_dom_classes": [],
            "_model_module": "@jupyter-widgets/controls",
            "_model_module_version": "1.5.0",
            "_model_name": "HBoxModel",
            "_view_count": null,
            "_view_module": "@jupyter-widgets/controls",
            "_view_module_version": "1.5.0",
            "_view_name": "HBoxView",
            "box_style": "",
            "children": [
              "IPY_MODEL_f1fc692e77b341b69928ae31d061cc59",
              "IPY_MODEL_bec74ffee8fa47d4b21b0084ee4bd691",
              "IPY_MODEL_c8abe6a602cb4efebc6fe54d0aed0dab"
            ],
            "layout": "IPY_MODEL_b68d2c6909a14dc5aef022e16f8de121"
          }
        },
        "f1fc692e77b341b69928ae31d061cc59": {
          "model_module": "@jupyter-widgets/controls",
          "model_name": "HTMLModel",
          "model_module_version": "1.5.0",
          "state": {
            "_dom_classes": [],
            "_model_module": "@jupyter-widgets/controls",
            "_model_module_version": "1.5.0",
            "_model_name": "HTMLModel",
            "_view_count": null,
            "_view_module": "@jupyter-widgets/controls",
            "_view_module_version": "1.5.0",
            "_view_name": "HTMLView",
            "description": "",
            "description_tooltip": null,
            "layout": "IPY_MODEL_eca385600cac445daf42549fd83c39aa",
            "placeholder": "​",
            "style": "IPY_MODEL_4664eb49818f4f3aaad54b21f2e8958f",
            "value": "Validation DataLoader 0: 100%"
          }
        },
        "bec74ffee8fa47d4b21b0084ee4bd691": {
          "model_module": "@jupyter-widgets/controls",
          "model_name": "FloatProgressModel",
          "model_module_version": "1.5.0",
          "state": {
            "_dom_classes": [],
            "_model_module": "@jupyter-widgets/controls",
            "_model_module_version": "1.5.0",
            "_model_name": "FloatProgressModel",
            "_view_count": null,
            "_view_module": "@jupyter-widgets/controls",
            "_view_module_version": "1.5.0",
            "_view_name": "ProgressView",
            "bar_style": "",
            "description": "",
            "description_tooltip": null,
            "layout": "IPY_MODEL_2cce9fa41d95414387f7413fa10a9d00",
            "max": 375,
            "min": 0,
            "orientation": "horizontal",
            "style": "IPY_MODEL_99ae5c47c5e44a98b8ce3c7f94ae01b8",
            "value": 375
          }
        },
        "c8abe6a602cb4efebc6fe54d0aed0dab": {
          "model_module": "@jupyter-widgets/controls",
          "model_name": "HTMLModel",
          "model_module_version": "1.5.0",
          "state": {
            "_dom_classes": [],
            "_model_module": "@jupyter-widgets/controls",
            "_model_module_version": "1.5.0",
            "_model_name": "HTMLModel",
            "_view_count": null,
            "_view_module": "@jupyter-widgets/controls",
            "_view_module_version": "1.5.0",
            "_view_name": "HTMLView",
            "description": "",
            "description_tooltip": null,
            "layout": "IPY_MODEL_ba85c5f033564db0afb495f8433e6d74",
            "placeholder": "​",
            "style": "IPY_MODEL_b432aa0d636649c7b007af9936633e57",
            "value": " 375/375 [00:04&lt;00:00, 82.24it/s]"
          }
        },
        "b68d2c6909a14dc5aef022e16f8de121": {
          "model_module": "@jupyter-widgets/base",
          "model_name": "LayoutModel",
          "model_module_version": "1.2.0",
          "state": {
            "_model_module": "@jupyter-widgets/base",
            "_model_module_version": "1.2.0",
            "_model_name": "LayoutModel",
            "_view_count": null,
            "_view_module": "@jupyter-widgets/base",
            "_view_module_version": "1.2.0",
            "_view_name": "LayoutView",
            "align_content": null,
            "align_items": null,
            "align_self": null,
            "border": null,
            "bottom": null,
            "display": "inline-flex",
            "flex": null,
            "flex_flow": "row wrap",
            "grid_area": null,
            "grid_auto_columns": null,
            "grid_auto_flow": null,
            "grid_auto_rows": null,
            "grid_column": null,
            "grid_gap": null,
            "grid_row": null,
            "grid_template_areas": null,
            "grid_template_columns": null,
            "grid_template_rows": null,
            "height": null,
            "justify_content": null,
            "justify_items": null,
            "left": null,
            "margin": null,
            "max_height": null,
            "max_width": null,
            "min_height": null,
            "min_width": null,
            "object_fit": null,
            "object_position": null,
            "order": null,
            "overflow": null,
            "overflow_x": null,
            "overflow_y": null,
            "padding": null,
            "right": null,
            "top": null,
            "visibility": "hidden",
            "width": "100%"
          }
        },
        "eca385600cac445daf42549fd83c39aa": {
          "model_module": "@jupyter-widgets/base",
          "model_name": "LayoutModel",
          "model_module_version": "1.2.0",
          "state": {
            "_model_module": "@jupyter-widgets/base",
            "_model_module_version": "1.2.0",
            "_model_name": "LayoutModel",
            "_view_count": null,
            "_view_module": "@jupyter-widgets/base",
            "_view_module_version": "1.2.0",
            "_view_name": "LayoutView",
            "align_content": null,
            "align_items": null,
            "align_self": null,
            "border": null,
            "bottom": null,
            "display": null,
            "flex": null,
            "flex_flow": null,
            "grid_area": null,
            "grid_auto_columns": null,
            "grid_auto_flow": null,
            "grid_auto_rows": null,
            "grid_column": null,
            "grid_gap": null,
            "grid_row": null,
            "grid_template_areas": null,
            "grid_template_columns": null,
            "grid_template_rows": null,
            "height": null,
            "justify_content": null,
            "justify_items": null,
            "left": null,
            "margin": null,
            "max_height": null,
            "max_width": null,
            "min_height": null,
            "min_width": null,
            "object_fit": null,
            "object_position": null,
            "order": null,
            "overflow": null,
            "overflow_x": null,
            "overflow_y": null,
            "padding": null,
            "right": null,
            "top": null,
            "visibility": null,
            "width": null
          }
        },
        "4664eb49818f4f3aaad54b21f2e8958f": {
          "model_module": "@jupyter-widgets/controls",
          "model_name": "DescriptionStyleModel",
          "model_module_version": "1.5.0",
          "state": {
            "_model_module": "@jupyter-widgets/controls",
            "_model_module_version": "1.5.0",
            "_model_name": "DescriptionStyleModel",
            "_view_count": null,
            "_view_module": "@jupyter-widgets/base",
            "_view_module_version": "1.2.0",
            "_view_name": "StyleView",
            "description_width": ""
          }
        },
        "2cce9fa41d95414387f7413fa10a9d00": {
          "model_module": "@jupyter-widgets/base",
          "model_name": "LayoutModel",
          "model_module_version": "1.2.0",
          "state": {
            "_model_module": "@jupyter-widgets/base",
            "_model_module_version": "1.2.0",
            "_model_name": "LayoutModel",
            "_view_count": null,
            "_view_module": "@jupyter-widgets/base",
            "_view_module_version": "1.2.0",
            "_view_name": "LayoutView",
            "align_content": null,
            "align_items": null,
            "align_self": null,
            "border": null,
            "bottom": null,
            "display": null,
            "flex": "2",
            "flex_flow": null,
            "grid_area": null,
            "grid_auto_columns": null,
            "grid_auto_flow": null,
            "grid_auto_rows": null,
            "grid_column": null,
            "grid_gap": null,
            "grid_row": null,
            "grid_template_areas": null,
            "grid_template_columns": null,
            "grid_template_rows": null,
            "height": null,
            "justify_content": null,
            "justify_items": null,
            "left": null,
            "margin": null,
            "max_height": null,
            "max_width": null,
            "min_height": null,
            "min_width": null,
            "object_fit": null,
            "object_position": null,
            "order": null,
            "overflow": null,
            "overflow_x": null,
            "overflow_y": null,
            "padding": null,
            "right": null,
            "top": null,
            "visibility": null,
            "width": null
          }
        },
        "99ae5c47c5e44a98b8ce3c7f94ae01b8": {
          "model_module": "@jupyter-widgets/controls",
          "model_name": "ProgressStyleModel",
          "model_module_version": "1.5.0",
          "state": {
            "_model_module": "@jupyter-widgets/controls",
            "_model_module_version": "1.5.0",
            "_model_name": "ProgressStyleModel",
            "_view_count": null,
            "_view_module": "@jupyter-widgets/base",
            "_view_module_version": "1.2.0",
            "_view_name": "StyleView",
            "bar_color": null,
            "description_width": ""
          }
        },
        "ba85c5f033564db0afb495f8433e6d74": {
          "model_module": "@jupyter-widgets/base",
          "model_name": "LayoutModel",
          "model_module_version": "1.2.0",
          "state": {
            "_model_module": "@jupyter-widgets/base",
            "_model_module_version": "1.2.0",
            "_model_name": "LayoutModel",
            "_view_count": null,
            "_view_module": "@jupyter-widgets/base",
            "_view_module_version": "1.2.0",
            "_view_name": "LayoutView",
            "align_content": null,
            "align_items": null,
            "align_self": null,
            "border": null,
            "bottom": null,
            "display": null,
            "flex": null,
            "flex_flow": null,
            "grid_area": null,
            "grid_auto_columns": null,
            "grid_auto_flow": null,
            "grid_auto_rows": null,
            "grid_column": null,
            "grid_gap": null,
            "grid_row": null,
            "grid_template_areas": null,
            "grid_template_columns": null,
            "grid_template_rows": null,
            "height": null,
            "justify_content": null,
            "justify_items": null,
            "left": null,
            "margin": null,
            "max_height": null,
            "max_width": null,
            "min_height": null,
            "min_width": null,
            "object_fit": null,
            "object_position": null,
            "order": null,
            "overflow": null,
            "overflow_x": null,
            "overflow_y": null,
            "padding": null,
            "right": null,
            "top": null,
            "visibility": null,
            "width": null
          }
        },
        "b432aa0d636649c7b007af9936633e57": {
          "model_module": "@jupyter-widgets/controls",
          "model_name": "DescriptionStyleModel",
          "model_module_version": "1.5.0",
          "state": {
            "_model_module": "@jupyter-widgets/controls",
            "_model_module_version": "1.5.0",
            "_model_name": "DescriptionStyleModel",
            "_view_count": null,
            "_view_module": "@jupyter-widgets/base",
            "_view_module_version": "1.2.0",
            "_view_name": "StyleView",
            "description_width": ""
          }
        },
        "40b544ee42bc43ff871ce1958353e798": {
          "model_module": "@jupyter-widgets/controls",
          "model_name": "HBoxModel",
          "model_module_version": "1.5.0",
          "state": {
            "_dom_classes": [],
            "_model_module": "@jupyter-widgets/controls",
            "_model_module_version": "1.5.0",
            "_model_name": "HBoxModel",
            "_view_count": null,
            "_view_module": "@jupyter-widgets/controls",
            "_view_module_version": "1.5.0",
            "_view_name": "HBoxView",
            "box_style": "",
            "children": [
              "IPY_MODEL_8202f1bd89614a32a35831770c8338b3",
              "IPY_MODEL_1a0c512730f740089839d5172fe42517",
              "IPY_MODEL_d17a17741cf14e3eafa351d0ed53db05"
            ],
            "layout": "IPY_MODEL_6a7b26046981487b9eaecee286b3f488"
          }
        },
        "8202f1bd89614a32a35831770c8338b3": {
          "model_module": "@jupyter-widgets/controls",
          "model_name": "HTMLModel",
          "model_module_version": "1.5.0",
          "state": {
            "_dom_classes": [],
            "_model_module": "@jupyter-widgets/controls",
            "_model_module_version": "1.5.0",
            "_model_name": "HTMLModel",
            "_view_count": null,
            "_view_module": "@jupyter-widgets/controls",
            "_view_module_version": "1.5.0",
            "_view_name": "HTMLView",
            "description": "",
            "description_tooltip": null,
            "layout": "IPY_MODEL_69448f4461b44913acdf49ea9e4359b5",
            "placeholder": "​",
            "style": "IPY_MODEL_9f841d6ba6dc48988cfea94af4cbd118",
            "value": "Validation DataLoader 0: 100%"
          }
        },
        "1a0c512730f740089839d5172fe42517": {
          "model_module": "@jupyter-widgets/controls",
          "model_name": "FloatProgressModel",
          "model_module_version": "1.5.0",
          "state": {
            "_dom_classes": [],
            "_model_module": "@jupyter-widgets/controls",
            "_model_module_version": "1.5.0",
            "_model_name": "FloatProgressModel",
            "_view_count": null,
            "_view_module": "@jupyter-widgets/controls",
            "_view_module_version": "1.5.0",
            "_view_name": "ProgressView",
            "bar_style": "",
            "description": "",
            "description_tooltip": null,
            "layout": "IPY_MODEL_345108b39b3746ba9433ac44b32c6460",
            "max": 375,
            "min": 0,
            "orientation": "horizontal",
            "style": "IPY_MODEL_527969ac66894de38b70a8c6ec50c8de",
            "value": 375
          }
        },
        "d17a17741cf14e3eafa351d0ed53db05": {
          "model_module": "@jupyter-widgets/controls",
          "model_name": "HTMLModel",
          "model_module_version": "1.5.0",
          "state": {
            "_dom_classes": [],
            "_model_module": "@jupyter-widgets/controls",
            "_model_module_version": "1.5.0",
            "_model_name": "HTMLModel",
            "_view_count": null,
            "_view_module": "@jupyter-widgets/controls",
            "_view_module_version": "1.5.0",
            "_view_name": "HTMLView",
            "description": "",
            "description_tooltip": null,
            "layout": "IPY_MODEL_7c7a063978d64372806e7b1cad2a6301",
            "placeholder": "​",
            "style": "IPY_MODEL_c8ce8a3c78ea4d02983fabe42776f1d2",
            "value": " 375/375 [00:03&lt;00:00, 107.93it/s]"
          }
        },
        "6a7b26046981487b9eaecee286b3f488": {
          "model_module": "@jupyter-widgets/base",
          "model_name": "LayoutModel",
          "model_module_version": "1.2.0",
          "state": {
            "_model_module": "@jupyter-widgets/base",
            "_model_module_version": "1.2.0",
            "_model_name": "LayoutModel",
            "_view_count": null,
            "_view_module": "@jupyter-widgets/base",
            "_view_module_version": "1.2.0",
            "_view_name": "LayoutView",
            "align_content": null,
            "align_items": null,
            "align_self": null,
            "border": null,
            "bottom": null,
            "display": "inline-flex",
            "flex": null,
            "flex_flow": "row wrap",
            "grid_area": null,
            "grid_auto_columns": null,
            "grid_auto_flow": null,
            "grid_auto_rows": null,
            "grid_column": null,
            "grid_gap": null,
            "grid_row": null,
            "grid_template_areas": null,
            "grid_template_columns": null,
            "grid_template_rows": null,
            "height": null,
            "justify_content": null,
            "justify_items": null,
            "left": null,
            "margin": null,
            "max_height": null,
            "max_width": null,
            "min_height": null,
            "min_width": null,
            "object_fit": null,
            "object_position": null,
            "order": null,
            "overflow": null,
            "overflow_x": null,
            "overflow_y": null,
            "padding": null,
            "right": null,
            "top": null,
            "visibility": "hidden",
            "width": "100%"
          }
        },
        "69448f4461b44913acdf49ea9e4359b5": {
          "model_module": "@jupyter-widgets/base",
          "model_name": "LayoutModel",
          "model_module_version": "1.2.0",
          "state": {
            "_model_module": "@jupyter-widgets/base",
            "_model_module_version": "1.2.0",
            "_model_name": "LayoutModel",
            "_view_count": null,
            "_view_module": "@jupyter-widgets/base",
            "_view_module_version": "1.2.0",
            "_view_name": "LayoutView",
            "align_content": null,
            "align_items": null,
            "align_self": null,
            "border": null,
            "bottom": null,
            "display": null,
            "flex": null,
            "flex_flow": null,
            "grid_area": null,
            "grid_auto_columns": null,
            "grid_auto_flow": null,
            "grid_auto_rows": null,
            "grid_column": null,
            "grid_gap": null,
            "grid_row": null,
            "grid_template_areas": null,
            "grid_template_columns": null,
            "grid_template_rows": null,
            "height": null,
            "justify_content": null,
            "justify_items": null,
            "left": null,
            "margin": null,
            "max_height": null,
            "max_width": null,
            "min_height": null,
            "min_width": null,
            "object_fit": null,
            "object_position": null,
            "order": null,
            "overflow": null,
            "overflow_x": null,
            "overflow_y": null,
            "padding": null,
            "right": null,
            "top": null,
            "visibility": null,
            "width": null
          }
        },
        "9f841d6ba6dc48988cfea94af4cbd118": {
          "model_module": "@jupyter-widgets/controls",
          "model_name": "DescriptionStyleModel",
          "model_module_version": "1.5.0",
          "state": {
            "_model_module": "@jupyter-widgets/controls",
            "_model_module_version": "1.5.0",
            "_model_name": "DescriptionStyleModel",
            "_view_count": null,
            "_view_module": "@jupyter-widgets/base",
            "_view_module_version": "1.2.0",
            "_view_name": "StyleView",
            "description_width": ""
          }
        },
        "345108b39b3746ba9433ac44b32c6460": {
          "model_module": "@jupyter-widgets/base",
          "model_name": "LayoutModel",
          "model_module_version": "1.2.0",
          "state": {
            "_model_module": "@jupyter-widgets/base",
            "_model_module_version": "1.2.0",
            "_model_name": "LayoutModel",
            "_view_count": null,
            "_view_module": "@jupyter-widgets/base",
            "_view_module_version": "1.2.0",
            "_view_name": "LayoutView",
            "align_content": null,
            "align_items": null,
            "align_self": null,
            "border": null,
            "bottom": null,
            "display": null,
            "flex": "2",
            "flex_flow": null,
            "grid_area": null,
            "grid_auto_columns": null,
            "grid_auto_flow": null,
            "grid_auto_rows": null,
            "grid_column": null,
            "grid_gap": null,
            "grid_row": null,
            "grid_template_areas": null,
            "grid_template_columns": null,
            "grid_template_rows": null,
            "height": null,
            "justify_content": null,
            "justify_items": null,
            "left": null,
            "margin": null,
            "max_height": null,
            "max_width": null,
            "min_height": null,
            "min_width": null,
            "object_fit": null,
            "object_position": null,
            "order": null,
            "overflow": null,
            "overflow_x": null,
            "overflow_y": null,
            "padding": null,
            "right": null,
            "top": null,
            "visibility": null,
            "width": null
          }
        },
        "527969ac66894de38b70a8c6ec50c8de": {
          "model_module": "@jupyter-widgets/controls",
          "model_name": "ProgressStyleModel",
          "model_module_version": "1.5.0",
          "state": {
            "_model_module": "@jupyter-widgets/controls",
            "_model_module_version": "1.5.0",
            "_model_name": "ProgressStyleModel",
            "_view_count": null,
            "_view_module": "@jupyter-widgets/base",
            "_view_module_version": "1.2.0",
            "_view_name": "StyleView",
            "bar_color": null,
            "description_width": ""
          }
        },
        "7c7a063978d64372806e7b1cad2a6301": {
          "model_module": "@jupyter-widgets/base",
          "model_name": "LayoutModel",
          "model_module_version": "1.2.0",
          "state": {
            "_model_module": "@jupyter-widgets/base",
            "_model_module_version": "1.2.0",
            "_model_name": "LayoutModel",
            "_view_count": null,
            "_view_module": "@jupyter-widgets/base",
            "_view_module_version": "1.2.0",
            "_view_name": "LayoutView",
            "align_content": null,
            "align_items": null,
            "align_self": null,
            "border": null,
            "bottom": null,
            "display": null,
            "flex": null,
            "flex_flow": null,
            "grid_area": null,
            "grid_auto_columns": null,
            "grid_auto_flow": null,
            "grid_auto_rows": null,
            "grid_column": null,
            "grid_gap": null,
            "grid_row": null,
            "grid_template_areas": null,
            "grid_template_columns": null,
            "grid_template_rows": null,
            "height": null,
            "justify_content": null,
            "justify_items": null,
            "left": null,
            "margin": null,
            "max_height": null,
            "max_width": null,
            "min_height": null,
            "min_width": null,
            "object_fit": null,
            "object_position": null,
            "order": null,
            "overflow": null,
            "overflow_x": null,
            "overflow_y": null,
            "padding": null,
            "right": null,
            "top": null,
            "visibility": null,
            "width": null
          }
        },
        "c8ce8a3c78ea4d02983fabe42776f1d2": {
          "model_module": "@jupyter-widgets/controls",
          "model_name": "DescriptionStyleModel",
          "model_module_version": "1.5.0",
          "state": {
            "_model_module": "@jupyter-widgets/controls",
            "_model_module_version": "1.5.0",
            "_model_name": "DescriptionStyleModel",
            "_view_count": null,
            "_view_module": "@jupyter-widgets/base",
            "_view_module_version": "1.2.0",
            "_view_name": "StyleView",
            "description_width": ""
          }
        },
        "e19c672b640744e081f2226125b1ef6b": {
          "model_module": "@jupyter-widgets/controls",
          "model_name": "HBoxModel",
          "model_module_version": "1.5.0",
          "state": {
            "_dom_classes": [],
            "_model_module": "@jupyter-widgets/controls",
            "_model_module_version": "1.5.0",
            "_model_name": "HBoxModel",
            "_view_count": null,
            "_view_module": "@jupyter-widgets/controls",
            "_view_module_version": "1.5.0",
            "_view_name": "HBoxView",
            "box_style": "",
            "children": [
              "IPY_MODEL_07b4db1df9df4bd2aaf4fbf9a65fc394",
              "IPY_MODEL_eb1765bc82e248e786cd030deb185600",
              "IPY_MODEL_2937c4c0a61f4b44a19192b402b39e29"
            ],
            "layout": "IPY_MODEL_08328419d7e348c788e722fd52e62b73"
          }
        },
        "07b4db1df9df4bd2aaf4fbf9a65fc394": {
          "model_module": "@jupyter-widgets/controls",
          "model_name": "HTMLModel",
          "model_module_version": "1.5.0",
          "state": {
            "_dom_classes": [],
            "_model_module": "@jupyter-widgets/controls",
            "_model_module_version": "1.5.0",
            "_model_name": "HTMLModel",
            "_view_count": null,
            "_view_module": "@jupyter-widgets/controls",
            "_view_module_version": "1.5.0",
            "_view_name": "HTMLView",
            "description": "",
            "description_tooltip": null,
            "layout": "IPY_MODEL_482276f3e2cc4927aa6c5a749e2f2544",
            "placeholder": "​",
            "style": "IPY_MODEL_9b49301767b845b587de53ea0e2dadff",
            "value": "Validation DataLoader 0: 100%"
          }
        },
        "eb1765bc82e248e786cd030deb185600": {
          "model_module": "@jupyter-widgets/controls",
          "model_name": "FloatProgressModel",
          "model_module_version": "1.5.0",
          "state": {
            "_dom_classes": [],
            "_model_module": "@jupyter-widgets/controls",
            "_model_module_version": "1.5.0",
            "_model_name": "FloatProgressModel",
            "_view_count": null,
            "_view_module": "@jupyter-widgets/controls",
            "_view_module_version": "1.5.0",
            "_view_name": "ProgressView",
            "bar_style": "",
            "description": "",
            "description_tooltip": null,
            "layout": "IPY_MODEL_44cfa2d6b65f4b6d9fafe0fd5f64a352",
            "max": 375,
            "min": 0,
            "orientation": "horizontal",
            "style": "IPY_MODEL_6e7fc338ad3c4e18b090b9d42f45506d",
            "value": 375
          }
        },
        "2937c4c0a61f4b44a19192b402b39e29": {
          "model_module": "@jupyter-widgets/controls",
          "model_name": "HTMLModel",
          "model_module_version": "1.5.0",
          "state": {
            "_dom_classes": [],
            "_model_module": "@jupyter-widgets/controls",
            "_model_module_version": "1.5.0",
            "_model_name": "HTMLModel",
            "_view_count": null,
            "_view_module": "@jupyter-widgets/controls",
            "_view_module_version": "1.5.0",
            "_view_name": "HTMLView",
            "description": "",
            "description_tooltip": null,
            "layout": "IPY_MODEL_c5afb4075c244cd9837bff101a4a2006",
            "placeholder": "​",
            "style": "IPY_MODEL_31599648fcb24047b07f168519a846b7",
            "value": " 375/375 [00:03&lt;00:00, 114.94it/s]"
          }
        },
        "08328419d7e348c788e722fd52e62b73": {
          "model_module": "@jupyter-widgets/base",
          "model_name": "LayoutModel",
          "model_module_version": "1.2.0",
          "state": {
            "_model_module": "@jupyter-widgets/base",
            "_model_module_version": "1.2.0",
            "_model_name": "LayoutModel",
            "_view_count": null,
            "_view_module": "@jupyter-widgets/base",
            "_view_module_version": "1.2.0",
            "_view_name": "LayoutView",
            "align_content": null,
            "align_items": null,
            "align_self": null,
            "border": null,
            "bottom": null,
            "display": "inline-flex",
            "flex": null,
            "flex_flow": "row wrap",
            "grid_area": null,
            "grid_auto_columns": null,
            "grid_auto_flow": null,
            "grid_auto_rows": null,
            "grid_column": null,
            "grid_gap": null,
            "grid_row": null,
            "grid_template_areas": null,
            "grid_template_columns": null,
            "grid_template_rows": null,
            "height": null,
            "justify_content": null,
            "justify_items": null,
            "left": null,
            "margin": null,
            "max_height": null,
            "max_width": null,
            "min_height": null,
            "min_width": null,
            "object_fit": null,
            "object_position": null,
            "order": null,
            "overflow": null,
            "overflow_x": null,
            "overflow_y": null,
            "padding": null,
            "right": null,
            "top": null,
            "visibility": "hidden",
            "width": "100%"
          }
        },
        "482276f3e2cc4927aa6c5a749e2f2544": {
          "model_module": "@jupyter-widgets/base",
          "model_name": "LayoutModel",
          "model_module_version": "1.2.0",
          "state": {
            "_model_module": "@jupyter-widgets/base",
            "_model_module_version": "1.2.0",
            "_model_name": "LayoutModel",
            "_view_count": null,
            "_view_module": "@jupyter-widgets/base",
            "_view_module_version": "1.2.0",
            "_view_name": "LayoutView",
            "align_content": null,
            "align_items": null,
            "align_self": null,
            "border": null,
            "bottom": null,
            "display": null,
            "flex": null,
            "flex_flow": null,
            "grid_area": null,
            "grid_auto_columns": null,
            "grid_auto_flow": null,
            "grid_auto_rows": null,
            "grid_column": null,
            "grid_gap": null,
            "grid_row": null,
            "grid_template_areas": null,
            "grid_template_columns": null,
            "grid_template_rows": null,
            "height": null,
            "justify_content": null,
            "justify_items": null,
            "left": null,
            "margin": null,
            "max_height": null,
            "max_width": null,
            "min_height": null,
            "min_width": null,
            "object_fit": null,
            "object_position": null,
            "order": null,
            "overflow": null,
            "overflow_x": null,
            "overflow_y": null,
            "padding": null,
            "right": null,
            "top": null,
            "visibility": null,
            "width": null
          }
        },
        "9b49301767b845b587de53ea0e2dadff": {
          "model_module": "@jupyter-widgets/controls",
          "model_name": "DescriptionStyleModel",
          "model_module_version": "1.5.0",
          "state": {
            "_model_module": "@jupyter-widgets/controls",
            "_model_module_version": "1.5.0",
            "_model_name": "DescriptionStyleModel",
            "_view_count": null,
            "_view_module": "@jupyter-widgets/base",
            "_view_module_version": "1.2.0",
            "_view_name": "StyleView",
            "description_width": ""
          }
        },
        "44cfa2d6b65f4b6d9fafe0fd5f64a352": {
          "model_module": "@jupyter-widgets/base",
          "model_name": "LayoutModel",
          "model_module_version": "1.2.0",
          "state": {
            "_model_module": "@jupyter-widgets/base",
            "_model_module_version": "1.2.0",
            "_model_name": "LayoutModel",
            "_view_count": null,
            "_view_module": "@jupyter-widgets/base",
            "_view_module_version": "1.2.0",
            "_view_name": "LayoutView",
            "align_content": null,
            "align_items": null,
            "align_self": null,
            "border": null,
            "bottom": null,
            "display": null,
            "flex": "2",
            "flex_flow": null,
            "grid_area": null,
            "grid_auto_columns": null,
            "grid_auto_flow": null,
            "grid_auto_rows": null,
            "grid_column": null,
            "grid_gap": null,
            "grid_row": null,
            "grid_template_areas": null,
            "grid_template_columns": null,
            "grid_template_rows": null,
            "height": null,
            "justify_content": null,
            "justify_items": null,
            "left": null,
            "margin": null,
            "max_height": null,
            "max_width": null,
            "min_height": null,
            "min_width": null,
            "object_fit": null,
            "object_position": null,
            "order": null,
            "overflow": null,
            "overflow_x": null,
            "overflow_y": null,
            "padding": null,
            "right": null,
            "top": null,
            "visibility": null,
            "width": null
          }
        },
        "6e7fc338ad3c4e18b090b9d42f45506d": {
          "model_module": "@jupyter-widgets/controls",
          "model_name": "ProgressStyleModel",
          "model_module_version": "1.5.0",
          "state": {
            "_model_module": "@jupyter-widgets/controls",
            "_model_module_version": "1.5.0",
            "_model_name": "ProgressStyleModel",
            "_view_count": null,
            "_view_module": "@jupyter-widgets/base",
            "_view_module_version": "1.2.0",
            "_view_name": "StyleView",
            "bar_color": null,
            "description_width": ""
          }
        },
        "c5afb4075c244cd9837bff101a4a2006": {
          "model_module": "@jupyter-widgets/base",
          "model_name": "LayoutModel",
          "model_module_version": "1.2.0",
          "state": {
            "_model_module": "@jupyter-widgets/base",
            "_model_module_version": "1.2.0",
            "_model_name": "LayoutModel",
            "_view_count": null,
            "_view_module": "@jupyter-widgets/base",
            "_view_module_version": "1.2.0",
            "_view_name": "LayoutView",
            "align_content": null,
            "align_items": null,
            "align_self": null,
            "border": null,
            "bottom": null,
            "display": null,
            "flex": null,
            "flex_flow": null,
            "grid_area": null,
            "grid_auto_columns": null,
            "grid_auto_flow": null,
            "grid_auto_rows": null,
            "grid_column": null,
            "grid_gap": null,
            "grid_row": null,
            "grid_template_areas": null,
            "grid_template_columns": null,
            "grid_template_rows": null,
            "height": null,
            "justify_content": null,
            "justify_items": null,
            "left": null,
            "margin": null,
            "max_height": null,
            "max_width": null,
            "min_height": null,
            "min_width": null,
            "object_fit": null,
            "object_position": null,
            "order": null,
            "overflow": null,
            "overflow_x": null,
            "overflow_y": null,
            "padding": null,
            "right": null,
            "top": null,
            "visibility": null,
            "width": null
          }
        },
        "31599648fcb24047b07f168519a846b7": {
          "model_module": "@jupyter-widgets/controls",
          "model_name": "DescriptionStyleModel",
          "model_module_version": "1.5.0",
          "state": {
            "_model_module": "@jupyter-widgets/controls",
            "_model_module_version": "1.5.0",
            "_model_name": "DescriptionStyleModel",
            "_view_count": null,
            "_view_module": "@jupyter-widgets/base",
            "_view_module_version": "1.2.0",
            "_view_name": "StyleView",
            "description_width": ""
          }
        },
        "640845793eb14376a8903a764da33086": {
          "model_module": "@jupyter-widgets/controls",
          "model_name": "HBoxModel",
          "model_module_version": "1.5.0",
          "state": {
            "_dom_classes": [],
            "_model_module": "@jupyter-widgets/controls",
            "_model_module_version": "1.5.0",
            "_model_name": "HBoxModel",
            "_view_count": null,
            "_view_module": "@jupyter-widgets/controls",
            "_view_module_version": "1.5.0",
            "_view_name": "HBoxView",
            "box_style": "",
            "children": [
              "IPY_MODEL_35c1bb3e9d224f11a6f2319b4a8a3f33",
              "IPY_MODEL_c430b51474b34a6ebf59d0170435860a",
              "IPY_MODEL_87da14564d49413782a4d7e6efc6b062"
            ],
            "layout": "IPY_MODEL_e7a89597d2354a5dac63fc53e06e4c91"
          }
        },
        "35c1bb3e9d224f11a6f2319b4a8a3f33": {
          "model_module": "@jupyter-widgets/controls",
          "model_name": "HTMLModel",
          "model_module_version": "1.5.0",
          "state": {
            "_dom_classes": [],
            "_model_module": "@jupyter-widgets/controls",
            "_model_module_version": "1.5.0",
            "_model_name": "HTMLModel",
            "_view_count": null,
            "_view_module": "@jupyter-widgets/controls",
            "_view_module_version": "1.5.0",
            "_view_name": "HTMLView",
            "description": "",
            "description_tooltip": null,
            "layout": "IPY_MODEL_c2b6147070584c358530ee6e094fcbbb",
            "placeholder": "​",
            "style": "IPY_MODEL_67af3abe49b2499cb0a9161f85a959b7",
            "value": "Validation DataLoader 0: 100%"
          }
        },
        "c430b51474b34a6ebf59d0170435860a": {
          "model_module": "@jupyter-widgets/controls",
          "model_name": "FloatProgressModel",
          "model_module_version": "1.5.0",
          "state": {
            "_dom_classes": [],
            "_model_module": "@jupyter-widgets/controls",
            "_model_module_version": "1.5.0",
            "_model_name": "FloatProgressModel",
            "_view_count": null,
            "_view_module": "@jupyter-widgets/controls",
            "_view_module_version": "1.5.0",
            "_view_name": "ProgressView",
            "bar_style": "",
            "description": "",
            "description_tooltip": null,
            "layout": "IPY_MODEL_dc31eec7c84e4e12bc34e21e2c24e190",
            "max": 375,
            "min": 0,
            "orientation": "horizontal",
            "style": "IPY_MODEL_f3623e415e02466c9befad8288b91da4",
            "value": 375
          }
        },
        "87da14564d49413782a4d7e6efc6b062": {
          "model_module": "@jupyter-widgets/controls",
          "model_name": "HTMLModel",
          "model_module_version": "1.5.0",
          "state": {
            "_dom_classes": [],
            "_model_module": "@jupyter-widgets/controls",
            "_model_module_version": "1.5.0",
            "_model_name": "HTMLModel",
            "_view_count": null,
            "_view_module": "@jupyter-widgets/controls",
            "_view_module_version": "1.5.0",
            "_view_name": "HTMLView",
            "description": "",
            "description_tooltip": null,
            "layout": "IPY_MODEL_8f9d62907193496896c60c2a92ad5125",
            "placeholder": "​",
            "style": "IPY_MODEL_71644bf7fca94459b271ee5ead152db4",
            "value": " 375/375 [00:04&lt;00:00, 85.36it/s]"
          }
        },
        "e7a89597d2354a5dac63fc53e06e4c91": {
          "model_module": "@jupyter-widgets/base",
          "model_name": "LayoutModel",
          "model_module_version": "1.2.0",
          "state": {
            "_model_module": "@jupyter-widgets/base",
            "_model_module_version": "1.2.0",
            "_model_name": "LayoutModel",
            "_view_count": null,
            "_view_module": "@jupyter-widgets/base",
            "_view_module_version": "1.2.0",
            "_view_name": "LayoutView",
            "align_content": null,
            "align_items": null,
            "align_self": null,
            "border": null,
            "bottom": null,
            "display": "inline-flex",
            "flex": null,
            "flex_flow": "row wrap",
            "grid_area": null,
            "grid_auto_columns": null,
            "grid_auto_flow": null,
            "grid_auto_rows": null,
            "grid_column": null,
            "grid_gap": null,
            "grid_row": null,
            "grid_template_areas": null,
            "grid_template_columns": null,
            "grid_template_rows": null,
            "height": null,
            "justify_content": null,
            "justify_items": null,
            "left": null,
            "margin": null,
            "max_height": null,
            "max_width": null,
            "min_height": null,
            "min_width": null,
            "object_fit": null,
            "object_position": null,
            "order": null,
            "overflow": null,
            "overflow_x": null,
            "overflow_y": null,
            "padding": null,
            "right": null,
            "top": null,
            "visibility": "hidden",
            "width": "100%"
          }
        },
        "c2b6147070584c358530ee6e094fcbbb": {
          "model_module": "@jupyter-widgets/base",
          "model_name": "LayoutModel",
          "model_module_version": "1.2.0",
          "state": {
            "_model_module": "@jupyter-widgets/base",
            "_model_module_version": "1.2.0",
            "_model_name": "LayoutModel",
            "_view_count": null,
            "_view_module": "@jupyter-widgets/base",
            "_view_module_version": "1.2.0",
            "_view_name": "LayoutView",
            "align_content": null,
            "align_items": null,
            "align_self": null,
            "border": null,
            "bottom": null,
            "display": null,
            "flex": null,
            "flex_flow": null,
            "grid_area": null,
            "grid_auto_columns": null,
            "grid_auto_flow": null,
            "grid_auto_rows": null,
            "grid_column": null,
            "grid_gap": null,
            "grid_row": null,
            "grid_template_areas": null,
            "grid_template_columns": null,
            "grid_template_rows": null,
            "height": null,
            "justify_content": null,
            "justify_items": null,
            "left": null,
            "margin": null,
            "max_height": null,
            "max_width": null,
            "min_height": null,
            "min_width": null,
            "object_fit": null,
            "object_position": null,
            "order": null,
            "overflow": null,
            "overflow_x": null,
            "overflow_y": null,
            "padding": null,
            "right": null,
            "top": null,
            "visibility": null,
            "width": null
          }
        },
        "67af3abe49b2499cb0a9161f85a959b7": {
          "model_module": "@jupyter-widgets/controls",
          "model_name": "DescriptionStyleModel",
          "model_module_version": "1.5.0",
          "state": {
            "_model_module": "@jupyter-widgets/controls",
            "_model_module_version": "1.5.0",
            "_model_name": "DescriptionStyleModel",
            "_view_count": null,
            "_view_module": "@jupyter-widgets/base",
            "_view_module_version": "1.2.0",
            "_view_name": "StyleView",
            "description_width": ""
          }
        },
        "dc31eec7c84e4e12bc34e21e2c24e190": {
          "model_module": "@jupyter-widgets/base",
          "model_name": "LayoutModel",
          "model_module_version": "1.2.0",
          "state": {
            "_model_module": "@jupyter-widgets/base",
            "_model_module_version": "1.2.0",
            "_model_name": "LayoutModel",
            "_view_count": null,
            "_view_module": "@jupyter-widgets/base",
            "_view_module_version": "1.2.0",
            "_view_name": "LayoutView",
            "align_content": null,
            "align_items": null,
            "align_self": null,
            "border": null,
            "bottom": null,
            "display": null,
            "flex": "2",
            "flex_flow": null,
            "grid_area": null,
            "grid_auto_columns": null,
            "grid_auto_flow": null,
            "grid_auto_rows": null,
            "grid_column": null,
            "grid_gap": null,
            "grid_row": null,
            "grid_template_areas": null,
            "grid_template_columns": null,
            "grid_template_rows": null,
            "height": null,
            "justify_content": null,
            "justify_items": null,
            "left": null,
            "margin": null,
            "max_height": null,
            "max_width": null,
            "min_height": null,
            "min_width": null,
            "object_fit": null,
            "object_position": null,
            "order": null,
            "overflow": null,
            "overflow_x": null,
            "overflow_y": null,
            "padding": null,
            "right": null,
            "top": null,
            "visibility": null,
            "width": null
          }
        },
        "f3623e415e02466c9befad8288b91da4": {
          "model_module": "@jupyter-widgets/controls",
          "model_name": "ProgressStyleModel",
          "model_module_version": "1.5.0",
          "state": {
            "_model_module": "@jupyter-widgets/controls",
            "_model_module_version": "1.5.0",
            "_model_name": "ProgressStyleModel",
            "_view_count": null,
            "_view_module": "@jupyter-widgets/base",
            "_view_module_version": "1.2.0",
            "_view_name": "StyleView",
            "bar_color": null,
            "description_width": ""
          }
        },
        "8f9d62907193496896c60c2a92ad5125": {
          "model_module": "@jupyter-widgets/base",
          "model_name": "LayoutModel",
          "model_module_version": "1.2.0",
          "state": {
            "_model_module": "@jupyter-widgets/base",
            "_model_module_version": "1.2.0",
            "_model_name": "LayoutModel",
            "_view_count": null,
            "_view_module": "@jupyter-widgets/base",
            "_view_module_version": "1.2.0",
            "_view_name": "LayoutView",
            "align_content": null,
            "align_items": null,
            "align_self": null,
            "border": null,
            "bottom": null,
            "display": null,
            "flex": null,
            "flex_flow": null,
            "grid_area": null,
            "grid_auto_columns": null,
            "grid_auto_flow": null,
            "grid_auto_rows": null,
            "grid_column": null,
            "grid_gap": null,
            "grid_row": null,
            "grid_template_areas": null,
            "grid_template_columns": null,
            "grid_template_rows": null,
            "height": null,
            "justify_content": null,
            "justify_items": null,
            "left": null,
            "margin": null,
            "max_height": null,
            "max_width": null,
            "min_height": null,
            "min_width": null,
            "object_fit": null,
            "object_position": null,
            "order": null,
            "overflow": null,
            "overflow_x": null,
            "overflow_y": null,
            "padding": null,
            "right": null,
            "top": null,
            "visibility": null,
            "width": null
          }
        },
        "71644bf7fca94459b271ee5ead152db4": {
          "model_module": "@jupyter-widgets/controls",
          "model_name": "DescriptionStyleModel",
          "model_module_version": "1.5.0",
          "state": {
            "_model_module": "@jupyter-widgets/controls",
            "_model_module_version": "1.5.0",
            "_model_name": "DescriptionStyleModel",
            "_view_count": null,
            "_view_module": "@jupyter-widgets/base",
            "_view_module_version": "1.2.0",
            "_view_name": "StyleView",
            "description_width": ""
          }
        },
        "754c68d16a5940719f1e95eb43ade750": {
          "model_module": "@jupyter-widgets/controls",
          "model_name": "HBoxModel",
          "model_module_version": "1.5.0",
          "state": {
            "_dom_classes": [],
            "_model_module": "@jupyter-widgets/controls",
            "_model_module_version": "1.5.0",
            "_model_name": "HBoxModel",
            "_view_count": null,
            "_view_module": "@jupyter-widgets/controls",
            "_view_module_version": "1.5.0",
            "_view_name": "HBoxView",
            "box_style": "",
            "children": [
              "IPY_MODEL_02f4347acbf0422cbd47d5900735a5a2",
              "IPY_MODEL_2829f27a60ec4f3aa9703cc02ace06ed",
              "IPY_MODEL_33e919a2c33442a99360c9c97875efa7"
            ],
            "layout": "IPY_MODEL_8480a5b51c5a4c4dab8156c2db682d9d"
          }
        },
        "02f4347acbf0422cbd47d5900735a5a2": {
          "model_module": "@jupyter-widgets/controls",
          "model_name": "HTMLModel",
          "model_module_version": "1.5.0",
          "state": {
            "_dom_classes": [],
            "_model_module": "@jupyter-widgets/controls",
            "_model_module_version": "1.5.0",
            "_model_name": "HTMLModel",
            "_view_count": null,
            "_view_module": "@jupyter-widgets/controls",
            "_view_module_version": "1.5.0",
            "_view_name": "HTMLView",
            "description": "",
            "description_tooltip": null,
            "layout": "IPY_MODEL_2130db0b72c841d6a71a57104e8e6795",
            "placeholder": "​",
            "style": "IPY_MODEL_04e80cdb71d841198f8b75d133b2aec8",
            "value": "Validation DataLoader 0: 100%"
          }
        },
        "2829f27a60ec4f3aa9703cc02ace06ed": {
          "model_module": "@jupyter-widgets/controls",
          "model_name": "FloatProgressModel",
          "model_module_version": "1.5.0",
          "state": {
            "_dom_classes": [],
            "_model_module": "@jupyter-widgets/controls",
            "_model_module_version": "1.5.0",
            "_model_name": "FloatProgressModel",
            "_view_count": null,
            "_view_module": "@jupyter-widgets/controls",
            "_view_module_version": "1.5.0",
            "_view_name": "ProgressView",
            "bar_style": "",
            "description": "",
            "description_tooltip": null,
            "layout": "IPY_MODEL_af581f6624a541b8996a6058de66ecea",
            "max": 375,
            "min": 0,
            "orientation": "horizontal",
            "style": "IPY_MODEL_31fc1d7ed1ab48e7b95b34dcc4b7e444",
            "value": 375
          }
        },
        "33e919a2c33442a99360c9c97875efa7": {
          "model_module": "@jupyter-widgets/controls",
          "model_name": "HTMLModel",
          "model_module_version": "1.5.0",
          "state": {
            "_dom_classes": [],
            "_model_module": "@jupyter-widgets/controls",
            "_model_module_version": "1.5.0",
            "_model_name": "HTMLModel",
            "_view_count": null,
            "_view_module": "@jupyter-widgets/controls",
            "_view_module_version": "1.5.0",
            "_view_name": "HTMLView",
            "description": "",
            "description_tooltip": null,
            "layout": "IPY_MODEL_f1c81f23bcc441f7aac52f9d8409c4bc",
            "placeholder": "​",
            "style": "IPY_MODEL_b007daffb810470dad33878033893ab0",
            "value": " 375/375 [00:03&lt;00:00, 111.88it/s]"
          }
        },
        "8480a5b51c5a4c4dab8156c2db682d9d": {
          "model_module": "@jupyter-widgets/base",
          "model_name": "LayoutModel",
          "model_module_version": "1.2.0",
          "state": {
            "_model_module": "@jupyter-widgets/base",
            "_model_module_version": "1.2.0",
            "_model_name": "LayoutModel",
            "_view_count": null,
            "_view_module": "@jupyter-widgets/base",
            "_view_module_version": "1.2.0",
            "_view_name": "LayoutView",
            "align_content": null,
            "align_items": null,
            "align_self": null,
            "border": null,
            "bottom": null,
            "display": "inline-flex",
            "flex": null,
            "flex_flow": "row wrap",
            "grid_area": null,
            "grid_auto_columns": null,
            "grid_auto_flow": null,
            "grid_auto_rows": null,
            "grid_column": null,
            "grid_gap": null,
            "grid_row": null,
            "grid_template_areas": null,
            "grid_template_columns": null,
            "grid_template_rows": null,
            "height": null,
            "justify_content": null,
            "justify_items": null,
            "left": null,
            "margin": null,
            "max_height": null,
            "max_width": null,
            "min_height": null,
            "min_width": null,
            "object_fit": null,
            "object_position": null,
            "order": null,
            "overflow": null,
            "overflow_x": null,
            "overflow_y": null,
            "padding": null,
            "right": null,
            "top": null,
            "visibility": "hidden",
            "width": "100%"
          }
        },
        "2130db0b72c841d6a71a57104e8e6795": {
          "model_module": "@jupyter-widgets/base",
          "model_name": "LayoutModel",
          "model_module_version": "1.2.0",
          "state": {
            "_model_module": "@jupyter-widgets/base",
            "_model_module_version": "1.2.0",
            "_model_name": "LayoutModel",
            "_view_count": null,
            "_view_module": "@jupyter-widgets/base",
            "_view_module_version": "1.2.0",
            "_view_name": "LayoutView",
            "align_content": null,
            "align_items": null,
            "align_self": null,
            "border": null,
            "bottom": null,
            "display": null,
            "flex": null,
            "flex_flow": null,
            "grid_area": null,
            "grid_auto_columns": null,
            "grid_auto_flow": null,
            "grid_auto_rows": null,
            "grid_column": null,
            "grid_gap": null,
            "grid_row": null,
            "grid_template_areas": null,
            "grid_template_columns": null,
            "grid_template_rows": null,
            "height": null,
            "justify_content": null,
            "justify_items": null,
            "left": null,
            "margin": null,
            "max_height": null,
            "max_width": null,
            "min_height": null,
            "min_width": null,
            "object_fit": null,
            "object_position": null,
            "order": null,
            "overflow": null,
            "overflow_x": null,
            "overflow_y": null,
            "padding": null,
            "right": null,
            "top": null,
            "visibility": null,
            "width": null
          }
        },
        "04e80cdb71d841198f8b75d133b2aec8": {
          "model_module": "@jupyter-widgets/controls",
          "model_name": "DescriptionStyleModel",
          "model_module_version": "1.5.0",
          "state": {
            "_model_module": "@jupyter-widgets/controls",
            "_model_module_version": "1.5.0",
            "_model_name": "DescriptionStyleModel",
            "_view_count": null,
            "_view_module": "@jupyter-widgets/base",
            "_view_module_version": "1.2.0",
            "_view_name": "StyleView",
            "description_width": ""
          }
        },
        "af581f6624a541b8996a6058de66ecea": {
          "model_module": "@jupyter-widgets/base",
          "model_name": "LayoutModel",
          "model_module_version": "1.2.0",
          "state": {
            "_model_module": "@jupyter-widgets/base",
            "_model_module_version": "1.2.0",
            "_model_name": "LayoutModel",
            "_view_count": null,
            "_view_module": "@jupyter-widgets/base",
            "_view_module_version": "1.2.0",
            "_view_name": "LayoutView",
            "align_content": null,
            "align_items": null,
            "align_self": null,
            "border": null,
            "bottom": null,
            "display": null,
            "flex": "2",
            "flex_flow": null,
            "grid_area": null,
            "grid_auto_columns": null,
            "grid_auto_flow": null,
            "grid_auto_rows": null,
            "grid_column": null,
            "grid_gap": null,
            "grid_row": null,
            "grid_template_areas": null,
            "grid_template_columns": null,
            "grid_template_rows": null,
            "height": null,
            "justify_content": null,
            "justify_items": null,
            "left": null,
            "margin": null,
            "max_height": null,
            "max_width": null,
            "min_height": null,
            "min_width": null,
            "object_fit": null,
            "object_position": null,
            "order": null,
            "overflow": null,
            "overflow_x": null,
            "overflow_y": null,
            "padding": null,
            "right": null,
            "top": null,
            "visibility": null,
            "width": null
          }
        },
        "31fc1d7ed1ab48e7b95b34dcc4b7e444": {
          "model_module": "@jupyter-widgets/controls",
          "model_name": "ProgressStyleModel",
          "model_module_version": "1.5.0",
          "state": {
            "_model_module": "@jupyter-widgets/controls",
            "_model_module_version": "1.5.0",
            "_model_name": "ProgressStyleModel",
            "_view_count": null,
            "_view_module": "@jupyter-widgets/base",
            "_view_module_version": "1.2.0",
            "_view_name": "StyleView",
            "bar_color": null,
            "description_width": ""
          }
        },
        "f1c81f23bcc441f7aac52f9d8409c4bc": {
          "model_module": "@jupyter-widgets/base",
          "model_name": "LayoutModel",
          "model_module_version": "1.2.0",
          "state": {
            "_model_module": "@jupyter-widgets/base",
            "_model_module_version": "1.2.0",
            "_model_name": "LayoutModel",
            "_view_count": null,
            "_view_module": "@jupyter-widgets/base",
            "_view_module_version": "1.2.0",
            "_view_name": "LayoutView",
            "align_content": null,
            "align_items": null,
            "align_self": null,
            "border": null,
            "bottom": null,
            "display": null,
            "flex": null,
            "flex_flow": null,
            "grid_area": null,
            "grid_auto_columns": null,
            "grid_auto_flow": null,
            "grid_auto_rows": null,
            "grid_column": null,
            "grid_gap": null,
            "grid_row": null,
            "grid_template_areas": null,
            "grid_template_columns": null,
            "grid_template_rows": null,
            "height": null,
            "justify_content": null,
            "justify_items": null,
            "left": null,
            "margin": null,
            "max_height": null,
            "max_width": null,
            "min_height": null,
            "min_width": null,
            "object_fit": null,
            "object_position": null,
            "order": null,
            "overflow": null,
            "overflow_x": null,
            "overflow_y": null,
            "padding": null,
            "right": null,
            "top": null,
            "visibility": null,
            "width": null
          }
        },
        "b007daffb810470dad33878033893ab0": {
          "model_module": "@jupyter-widgets/controls",
          "model_name": "DescriptionStyleModel",
          "model_module_version": "1.5.0",
          "state": {
            "_model_module": "@jupyter-widgets/controls",
            "_model_module_version": "1.5.0",
            "_model_name": "DescriptionStyleModel",
            "_view_count": null,
            "_view_module": "@jupyter-widgets/base",
            "_view_module_version": "1.2.0",
            "_view_name": "StyleView",
            "description_width": ""
          }
        },
        "9578f62f868c4c63b4cd49b01988e56d": {
          "model_module": "@jupyter-widgets/controls",
          "model_name": "HBoxModel",
          "model_module_version": "1.5.0",
          "state": {
            "_dom_classes": [],
            "_model_module": "@jupyter-widgets/controls",
            "_model_module_version": "1.5.0",
            "_model_name": "HBoxModel",
            "_view_count": null,
            "_view_module": "@jupyter-widgets/controls",
            "_view_module_version": "1.5.0",
            "_view_name": "HBoxView",
            "box_style": "",
            "children": [
              "IPY_MODEL_a08632a033de41c4939dacaac49ed48c",
              "IPY_MODEL_759e2edaf5b7499a822953b2bc1138d5",
              "IPY_MODEL_51151ca6d751418d8406e052b0dbd07c"
            ],
            "layout": "IPY_MODEL_f498653fdf8a48b8af492750e359b970"
          }
        },
        "a08632a033de41c4939dacaac49ed48c": {
          "model_module": "@jupyter-widgets/controls",
          "model_name": "HTMLModel",
          "model_module_version": "1.5.0",
          "state": {
            "_dom_classes": [],
            "_model_module": "@jupyter-widgets/controls",
            "_model_module_version": "1.5.0",
            "_model_name": "HTMLModel",
            "_view_count": null,
            "_view_module": "@jupyter-widgets/controls",
            "_view_module_version": "1.5.0",
            "_view_name": "HTMLView",
            "description": "",
            "description_tooltip": null,
            "layout": "IPY_MODEL_908e73c0c9774dc58a6bb34f2b3225fa",
            "placeholder": "​",
            "style": "IPY_MODEL_80024106237f4197af6f1db1e20e43e9",
            "value": "Epoch 4: 100%"
          }
        },
        "759e2edaf5b7499a822953b2bc1138d5": {
          "model_module": "@jupyter-widgets/controls",
          "model_name": "FloatProgressModel",
          "model_module_version": "1.5.0",
          "state": {
            "_dom_classes": [],
            "_model_module": "@jupyter-widgets/controls",
            "_model_module_version": "1.5.0",
            "_model_name": "FloatProgressModel",
            "_view_count": null,
            "_view_module": "@jupyter-widgets/controls",
            "_view_module_version": "1.5.0",
            "_view_name": "ProgressView",
            "bar_style": "success",
            "description": "",
            "description_tooltip": null,
            "layout": "IPY_MODEL_c10d861ee877480d9b6b150f7967e7a2",
            "max": 1500,
            "min": 0,
            "orientation": "horizontal",
            "style": "IPY_MODEL_cb499e71005a4f7b95bb04d1b5f823b6",
            "value": 1500
          }
        },
        "51151ca6d751418d8406e052b0dbd07c": {
          "model_module": "@jupyter-widgets/controls",
          "model_name": "HTMLModel",
          "model_module_version": "1.5.0",
          "state": {
            "_dom_classes": [],
            "_model_module": "@jupyter-widgets/controls",
            "_model_module_version": "1.5.0",
            "_model_name": "HTMLModel",
            "_view_count": null,
            "_view_module": "@jupyter-widgets/controls",
            "_view_module_version": "1.5.0",
            "_view_name": "HTMLView",
            "description": "",
            "description_tooltip": null,
            "layout": "IPY_MODEL_9042471cee6246b1ae5810441d5c1163",
            "placeholder": "​",
            "style": "IPY_MODEL_bdebfbf5ae154d7db3cadc1bc19069d6",
            "value": " 1500/1500 [00:23&lt;00:00, 63.82it/s, v_num=0, loss_on_train=0.259, loss_on_test=0.264]"
          }
        },
        "f498653fdf8a48b8af492750e359b970": {
          "model_module": "@jupyter-widgets/base",
          "model_name": "LayoutModel",
          "model_module_version": "1.2.0",
          "state": {
            "_model_module": "@jupyter-widgets/base",
            "_model_module_version": "1.2.0",
            "_model_name": "LayoutModel",
            "_view_count": null,
            "_view_module": "@jupyter-widgets/base",
            "_view_module_version": "1.2.0",
            "_view_name": "LayoutView",
            "align_content": null,
            "align_items": null,
            "align_self": null,
            "border": null,
            "bottom": null,
            "display": "inline-flex",
            "flex": null,
            "flex_flow": "row wrap",
            "grid_area": null,
            "grid_auto_columns": null,
            "grid_auto_flow": null,
            "grid_auto_rows": null,
            "grid_column": null,
            "grid_gap": null,
            "grid_row": null,
            "grid_template_areas": null,
            "grid_template_columns": null,
            "grid_template_rows": null,
            "height": null,
            "justify_content": null,
            "justify_items": null,
            "left": null,
            "margin": null,
            "max_height": null,
            "max_width": null,
            "min_height": null,
            "min_width": null,
            "object_fit": null,
            "object_position": null,
            "order": null,
            "overflow": null,
            "overflow_x": null,
            "overflow_y": null,
            "padding": null,
            "right": null,
            "top": null,
            "visibility": null,
            "width": "100%"
          }
        },
        "908e73c0c9774dc58a6bb34f2b3225fa": {
          "model_module": "@jupyter-widgets/base",
          "model_name": "LayoutModel",
          "model_module_version": "1.2.0",
          "state": {
            "_model_module": "@jupyter-widgets/base",
            "_model_module_version": "1.2.0",
            "_model_name": "LayoutModel",
            "_view_count": null,
            "_view_module": "@jupyter-widgets/base",
            "_view_module_version": "1.2.0",
            "_view_name": "LayoutView",
            "align_content": null,
            "align_items": null,
            "align_self": null,
            "border": null,
            "bottom": null,
            "display": null,
            "flex": null,
            "flex_flow": null,
            "grid_area": null,
            "grid_auto_columns": null,
            "grid_auto_flow": null,
            "grid_auto_rows": null,
            "grid_column": null,
            "grid_gap": null,
            "grid_row": null,
            "grid_template_areas": null,
            "grid_template_columns": null,
            "grid_template_rows": null,
            "height": null,
            "justify_content": null,
            "justify_items": null,
            "left": null,
            "margin": null,
            "max_height": null,
            "max_width": null,
            "min_height": null,
            "min_width": null,
            "object_fit": null,
            "object_position": null,
            "order": null,
            "overflow": null,
            "overflow_x": null,
            "overflow_y": null,
            "padding": null,
            "right": null,
            "top": null,
            "visibility": null,
            "width": null
          }
        },
        "80024106237f4197af6f1db1e20e43e9": {
          "model_module": "@jupyter-widgets/controls",
          "model_name": "DescriptionStyleModel",
          "model_module_version": "1.5.0",
          "state": {
            "_model_module": "@jupyter-widgets/controls",
            "_model_module_version": "1.5.0",
            "_model_name": "DescriptionStyleModel",
            "_view_count": null,
            "_view_module": "@jupyter-widgets/base",
            "_view_module_version": "1.2.0",
            "_view_name": "StyleView",
            "description_width": ""
          }
        },
        "c10d861ee877480d9b6b150f7967e7a2": {
          "model_module": "@jupyter-widgets/base",
          "model_name": "LayoutModel",
          "model_module_version": "1.2.0",
          "state": {
            "_model_module": "@jupyter-widgets/base",
            "_model_module_version": "1.2.0",
            "_model_name": "LayoutModel",
            "_view_count": null,
            "_view_module": "@jupyter-widgets/base",
            "_view_module_version": "1.2.0",
            "_view_name": "LayoutView",
            "align_content": null,
            "align_items": null,
            "align_self": null,
            "border": null,
            "bottom": null,
            "display": null,
            "flex": "2",
            "flex_flow": null,
            "grid_area": null,
            "grid_auto_columns": null,
            "grid_auto_flow": null,
            "grid_auto_rows": null,
            "grid_column": null,
            "grid_gap": null,
            "grid_row": null,
            "grid_template_areas": null,
            "grid_template_columns": null,
            "grid_template_rows": null,
            "height": null,
            "justify_content": null,
            "justify_items": null,
            "left": null,
            "margin": null,
            "max_height": null,
            "max_width": null,
            "min_height": null,
            "min_width": null,
            "object_fit": null,
            "object_position": null,
            "order": null,
            "overflow": null,
            "overflow_x": null,
            "overflow_y": null,
            "padding": null,
            "right": null,
            "top": null,
            "visibility": null,
            "width": null
          }
        },
        "cb499e71005a4f7b95bb04d1b5f823b6": {
          "model_module": "@jupyter-widgets/controls",
          "model_name": "ProgressStyleModel",
          "model_module_version": "1.5.0",
          "state": {
            "_model_module": "@jupyter-widgets/controls",
            "_model_module_version": "1.5.0",
            "_model_name": "ProgressStyleModel",
            "_view_count": null,
            "_view_module": "@jupyter-widgets/base",
            "_view_module_version": "1.2.0",
            "_view_name": "StyleView",
            "bar_color": null,
            "description_width": ""
          }
        },
        "9042471cee6246b1ae5810441d5c1163": {
          "model_module": "@jupyter-widgets/base",
          "model_name": "LayoutModel",
          "model_module_version": "1.2.0",
          "state": {
            "_model_module": "@jupyter-widgets/base",
            "_model_module_version": "1.2.0",
            "_model_name": "LayoutModel",
            "_view_count": null,
            "_view_module": "@jupyter-widgets/base",
            "_view_module_version": "1.2.0",
            "_view_name": "LayoutView",
            "align_content": null,
            "align_items": null,
            "align_self": null,
            "border": null,
            "bottom": null,
            "display": null,
            "flex": null,
            "flex_flow": null,
            "grid_area": null,
            "grid_auto_columns": null,
            "grid_auto_flow": null,
            "grid_auto_rows": null,
            "grid_column": null,
            "grid_gap": null,
            "grid_row": null,
            "grid_template_areas": null,
            "grid_template_columns": null,
            "grid_template_rows": null,
            "height": null,
            "justify_content": null,
            "justify_items": null,
            "left": null,
            "margin": null,
            "max_height": null,
            "max_width": null,
            "min_height": null,
            "min_width": null,
            "object_fit": null,
            "object_position": null,
            "order": null,
            "overflow": null,
            "overflow_x": null,
            "overflow_y": null,
            "padding": null,
            "right": null,
            "top": null,
            "visibility": null,
            "width": null
          }
        },
        "bdebfbf5ae154d7db3cadc1bc19069d6": {
          "model_module": "@jupyter-widgets/controls",
          "model_name": "DescriptionStyleModel",
          "model_module_version": "1.5.0",
          "state": {
            "_model_module": "@jupyter-widgets/controls",
            "_model_module_version": "1.5.0",
            "_model_name": "DescriptionStyleModel",
            "_view_count": null,
            "_view_module": "@jupyter-widgets/base",
            "_view_module_version": "1.2.0",
            "_view_name": "StyleView",
            "description_width": ""
          }
        },
        "95d4cc041ebf482c8ab91ed37b6d0cb2": {
          "model_module": "@jupyter-widgets/controls",
          "model_name": "HBoxModel",
          "model_module_version": "1.5.0",
          "state": {
            "_dom_classes": [],
            "_model_module": "@jupyter-widgets/controls",
            "_model_module_version": "1.5.0",
            "_model_name": "HBoxModel",
            "_view_count": null,
            "_view_module": "@jupyter-widgets/controls",
            "_view_module_version": "1.5.0",
            "_view_name": "HBoxView",
            "box_style": "",
            "children": [
              "IPY_MODEL_b74dfca45bd5463fad5407ac1bf11959",
              "IPY_MODEL_a3330b2d2b8945a7aba90fc2830a9dd8",
              "IPY_MODEL_92229cf07dd24249a18994dd91dd444c"
            ],
            "layout": "IPY_MODEL_08d3fb151ffb40d482697d274c7ee5d5"
          }
        },
        "b74dfca45bd5463fad5407ac1bf11959": {
          "model_module": "@jupyter-widgets/controls",
          "model_name": "HTMLModel",
          "model_module_version": "1.5.0",
          "state": {
            "_dom_classes": [],
            "_model_module": "@jupyter-widgets/controls",
            "_model_module_version": "1.5.0",
            "_model_name": "HTMLModel",
            "_view_count": null,
            "_view_module": "@jupyter-widgets/controls",
            "_view_module_version": "1.5.0",
            "_view_name": "HTMLView",
            "description": "",
            "description_tooltip": null,
            "layout": "IPY_MODEL_0b7d0d82acaf4ff8a6e68baa16b20108",
            "placeholder": "​",
            "style": "IPY_MODEL_f39e34c0dd9347f18bbb3a0ca09715d8",
            "value": "Validation DataLoader 0: 100%"
          }
        },
        "a3330b2d2b8945a7aba90fc2830a9dd8": {
          "model_module": "@jupyter-widgets/controls",
          "model_name": "FloatProgressModel",
          "model_module_version": "1.5.0",
          "state": {
            "_dom_classes": [],
            "_model_module": "@jupyter-widgets/controls",
            "_model_module_version": "1.5.0",
            "_model_name": "FloatProgressModel",
            "_view_count": null,
            "_view_module": "@jupyter-widgets/controls",
            "_view_module_version": "1.5.0",
            "_view_name": "ProgressView",
            "bar_style": "",
            "description": "",
            "description_tooltip": null,
            "layout": "IPY_MODEL_9753d4ec70f44fe2a6dad3b9d3a84abe",
            "max": 375,
            "min": 0,
            "orientation": "horizontal",
            "style": "IPY_MODEL_bad0690e05cd421cac0aa2d24684f091",
            "value": 375
          }
        },
        "92229cf07dd24249a18994dd91dd444c": {
          "model_module": "@jupyter-widgets/controls",
          "model_name": "HTMLModel",
          "model_module_version": "1.5.0",
          "state": {
            "_dom_classes": [],
            "_model_module": "@jupyter-widgets/controls",
            "_model_module_version": "1.5.0",
            "_model_name": "HTMLModel",
            "_view_count": null,
            "_view_module": "@jupyter-widgets/controls",
            "_view_module_version": "1.5.0",
            "_view_name": "HTMLView",
            "description": "",
            "description_tooltip": null,
            "layout": "IPY_MODEL_e2f44605407b40139156c03e56e45481",
            "placeholder": "​",
            "style": "IPY_MODEL_8160d2041ef5471f93686260eb3ba176",
            "value": " 375/375 [00:03&lt;00:00, 110.42it/s]"
          }
        },
        "08d3fb151ffb40d482697d274c7ee5d5": {
          "model_module": "@jupyter-widgets/base",
          "model_name": "LayoutModel",
          "model_module_version": "1.2.0",
          "state": {
            "_model_module": "@jupyter-widgets/base",
            "_model_module_version": "1.2.0",
            "_model_name": "LayoutModel",
            "_view_count": null,
            "_view_module": "@jupyter-widgets/base",
            "_view_module_version": "1.2.0",
            "_view_name": "LayoutView",
            "align_content": null,
            "align_items": null,
            "align_self": null,
            "border": null,
            "bottom": null,
            "display": "inline-flex",
            "flex": null,
            "flex_flow": "row wrap",
            "grid_area": null,
            "grid_auto_columns": null,
            "grid_auto_flow": null,
            "grid_auto_rows": null,
            "grid_column": null,
            "grid_gap": null,
            "grid_row": null,
            "grid_template_areas": null,
            "grid_template_columns": null,
            "grid_template_rows": null,
            "height": null,
            "justify_content": null,
            "justify_items": null,
            "left": null,
            "margin": null,
            "max_height": null,
            "max_width": null,
            "min_height": null,
            "min_width": null,
            "object_fit": null,
            "object_position": null,
            "order": null,
            "overflow": null,
            "overflow_x": null,
            "overflow_y": null,
            "padding": null,
            "right": null,
            "top": null,
            "visibility": "hidden",
            "width": "100%"
          }
        },
        "0b7d0d82acaf4ff8a6e68baa16b20108": {
          "model_module": "@jupyter-widgets/base",
          "model_name": "LayoutModel",
          "model_module_version": "1.2.0",
          "state": {
            "_model_module": "@jupyter-widgets/base",
            "_model_module_version": "1.2.0",
            "_model_name": "LayoutModel",
            "_view_count": null,
            "_view_module": "@jupyter-widgets/base",
            "_view_module_version": "1.2.0",
            "_view_name": "LayoutView",
            "align_content": null,
            "align_items": null,
            "align_self": null,
            "border": null,
            "bottom": null,
            "display": null,
            "flex": null,
            "flex_flow": null,
            "grid_area": null,
            "grid_auto_columns": null,
            "grid_auto_flow": null,
            "grid_auto_rows": null,
            "grid_column": null,
            "grid_gap": null,
            "grid_row": null,
            "grid_template_areas": null,
            "grid_template_columns": null,
            "grid_template_rows": null,
            "height": null,
            "justify_content": null,
            "justify_items": null,
            "left": null,
            "margin": null,
            "max_height": null,
            "max_width": null,
            "min_height": null,
            "min_width": null,
            "object_fit": null,
            "object_position": null,
            "order": null,
            "overflow": null,
            "overflow_x": null,
            "overflow_y": null,
            "padding": null,
            "right": null,
            "top": null,
            "visibility": null,
            "width": null
          }
        },
        "f39e34c0dd9347f18bbb3a0ca09715d8": {
          "model_module": "@jupyter-widgets/controls",
          "model_name": "DescriptionStyleModel",
          "model_module_version": "1.5.0",
          "state": {
            "_model_module": "@jupyter-widgets/controls",
            "_model_module_version": "1.5.0",
            "_model_name": "DescriptionStyleModel",
            "_view_count": null,
            "_view_module": "@jupyter-widgets/base",
            "_view_module_version": "1.2.0",
            "_view_name": "StyleView",
            "description_width": ""
          }
        },
        "9753d4ec70f44fe2a6dad3b9d3a84abe": {
          "model_module": "@jupyter-widgets/base",
          "model_name": "LayoutModel",
          "model_module_version": "1.2.0",
          "state": {
            "_model_module": "@jupyter-widgets/base",
            "_model_module_version": "1.2.0",
            "_model_name": "LayoutModel",
            "_view_count": null,
            "_view_module": "@jupyter-widgets/base",
            "_view_module_version": "1.2.0",
            "_view_name": "LayoutView",
            "align_content": null,
            "align_items": null,
            "align_self": null,
            "border": null,
            "bottom": null,
            "display": null,
            "flex": "2",
            "flex_flow": null,
            "grid_area": null,
            "grid_auto_columns": null,
            "grid_auto_flow": null,
            "grid_auto_rows": null,
            "grid_column": null,
            "grid_gap": null,
            "grid_row": null,
            "grid_template_areas": null,
            "grid_template_columns": null,
            "grid_template_rows": null,
            "height": null,
            "justify_content": null,
            "justify_items": null,
            "left": null,
            "margin": null,
            "max_height": null,
            "max_width": null,
            "min_height": null,
            "min_width": null,
            "object_fit": null,
            "object_position": null,
            "order": null,
            "overflow": null,
            "overflow_x": null,
            "overflow_y": null,
            "padding": null,
            "right": null,
            "top": null,
            "visibility": null,
            "width": null
          }
        },
        "bad0690e05cd421cac0aa2d24684f091": {
          "model_module": "@jupyter-widgets/controls",
          "model_name": "ProgressStyleModel",
          "model_module_version": "1.5.0",
          "state": {
            "_model_module": "@jupyter-widgets/controls",
            "_model_module_version": "1.5.0",
            "_model_name": "ProgressStyleModel",
            "_view_count": null,
            "_view_module": "@jupyter-widgets/base",
            "_view_module_version": "1.2.0",
            "_view_name": "StyleView",
            "bar_color": null,
            "description_width": ""
          }
        },
        "e2f44605407b40139156c03e56e45481": {
          "model_module": "@jupyter-widgets/base",
          "model_name": "LayoutModel",
          "model_module_version": "1.2.0",
          "state": {
            "_model_module": "@jupyter-widgets/base",
            "_model_module_version": "1.2.0",
            "_model_name": "LayoutModel",
            "_view_count": null,
            "_view_module": "@jupyter-widgets/base",
            "_view_module_version": "1.2.0",
            "_view_name": "LayoutView",
            "align_content": null,
            "align_items": null,
            "align_self": null,
            "border": null,
            "bottom": null,
            "display": null,
            "flex": null,
            "flex_flow": null,
            "grid_area": null,
            "grid_auto_columns": null,
            "grid_auto_flow": null,
            "grid_auto_rows": null,
            "grid_column": null,
            "grid_gap": null,
            "grid_row": null,
            "grid_template_areas": null,
            "grid_template_columns": null,
            "grid_template_rows": null,
            "height": null,
            "justify_content": null,
            "justify_items": null,
            "left": null,
            "margin": null,
            "max_height": null,
            "max_width": null,
            "min_height": null,
            "min_width": null,
            "object_fit": null,
            "object_position": null,
            "order": null,
            "overflow": null,
            "overflow_x": null,
            "overflow_y": null,
            "padding": null,
            "right": null,
            "top": null,
            "visibility": null,
            "width": null
          }
        },
        "8160d2041ef5471f93686260eb3ba176": {
          "model_module": "@jupyter-widgets/controls",
          "model_name": "DescriptionStyleModel",
          "model_module_version": "1.5.0",
          "state": {
            "_model_module": "@jupyter-widgets/controls",
            "_model_module_version": "1.5.0",
            "_model_name": "DescriptionStyleModel",
            "_view_count": null,
            "_view_module": "@jupyter-widgets/base",
            "_view_module_version": "1.2.0",
            "_view_name": "StyleView",
            "description_width": ""
          }
        },
        "af7b94d722cf473ca6167636dc153e27": {
          "model_module": "@jupyter-widgets/controls",
          "model_name": "HBoxModel",
          "model_module_version": "1.5.0",
          "state": {
            "_dom_classes": [],
            "_model_module": "@jupyter-widgets/controls",
            "_model_module_version": "1.5.0",
            "_model_name": "HBoxModel",
            "_view_count": null,
            "_view_module": "@jupyter-widgets/controls",
            "_view_module_version": "1.5.0",
            "_view_name": "HBoxView",
            "box_style": "",
            "children": [
              "IPY_MODEL_296e225de41841e88a57f50991e30a8f",
              "IPY_MODEL_309966231055442699690dcf326607e8",
              "IPY_MODEL_fd3de18d0af141e4b3e5356004ca68bd"
            ],
            "layout": "IPY_MODEL_9329ce8186d64fc2ae22a1ee52cf3259"
          }
        },
        "296e225de41841e88a57f50991e30a8f": {
          "model_module": "@jupyter-widgets/controls",
          "model_name": "HTMLModel",
          "model_module_version": "1.5.0",
          "state": {
            "_dom_classes": [],
            "_model_module": "@jupyter-widgets/controls",
            "_model_module_version": "1.5.0",
            "_model_name": "HTMLModel",
            "_view_count": null,
            "_view_module": "@jupyter-widgets/controls",
            "_view_module_version": "1.5.0",
            "_view_name": "HTMLView",
            "description": "",
            "description_tooltip": null,
            "layout": "IPY_MODEL_208bdaec5aed4eb1b490fe7dd4ec7a9d",
            "placeholder": "​",
            "style": "IPY_MODEL_658a21ebd58042048e823470fef28a30",
            "value": "Validation DataLoader 0: 100%"
          }
        },
        "309966231055442699690dcf326607e8": {
          "model_module": "@jupyter-widgets/controls",
          "model_name": "FloatProgressModel",
          "model_module_version": "1.5.0",
          "state": {
            "_dom_classes": [],
            "_model_module": "@jupyter-widgets/controls",
            "_model_module_version": "1.5.0",
            "_model_name": "FloatProgressModel",
            "_view_count": null,
            "_view_module": "@jupyter-widgets/controls",
            "_view_module_version": "1.5.0",
            "_view_name": "ProgressView",
            "bar_style": "",
            "description": "",
            "description_tooltip": null,
            "layout": "IPY_MODEL_524add943f394dc79a6e8325fe65b0db",
            "max": 375,
            "min": 0,
            "orientation": "horizontal",
            "style": "IPY_MODEL_fa8e2dc2573947328020a78c153b77bb",
            "value": 375
          }
        },
        "fd3de18d0af141e4b3e5356004ca68bd": {
          "model_module": "@jupyter-widgets/controls",
          "model_name": "HTMLModel",
          "model_module_version": "1.5.0",
          "state": {
            "_dom_classes": [],
            "_model_module": "@jupyter-widgets/controls",
            "_model_module_version": "1.5.0",
            "_model_name": "HTMLModel",
            "_view_count": null,
            "_view_module": "@jupyter-widgets/controls",
            "_view_module_version": "1.5.0",
            "_view_name": "HTMLView",
            "description": "",
            "description_tooltip": null,
            "layout": "IPY_MODEL_71beeaf248c64094a708a250ff613542",
            "placeholder": "​",
            "style": "IPY_MODEL_1e6b8e6e827d4a4fb9a27db7a511f21c",
            "value": " 375/375 [00:05&lt;00:00, 73.47it/s]"
          }
        },
        "9329ce8186d64fc2ae22a1ee52cf3259": {
          "model_module": "@jupyter-widgets/base",
          "model_name": "LayoutModel",
          "model_module_version": "1.2.0",
          "state": {
            "_model_module": "@jupyter-widgets/base",
            "_model_module_version": "1.2.0",
            "_model_name": "LayoutModel",
            "_view_count": null,
            "_view_module": "@jupyter-widgets/base",
            "_view_module_version": "1.2.0",
            "_view_name": "LayoutView",
            "align_content": null,
            "align_items": null,
            "align_self": null,
            "border": null,
            "bottom": null,
            "display": "inline-flex",
            "flex": null,
            "flex_flow": "row wrap",
            "grid_area": null,
            "grid_auto_columns": null,
            "grid_auto_flow": null,
            "grid_auto_rows": null,
            "grid_column": null,
            "grid_gap": null,
            "grid_row": null,
            "grid_template_areas": null,
            "grid_template_columns": null,
            "grid_template_rows": null,
            "height": null,
            "justify_content": null,
            "justify_items": null,
            "left": null,
            "margin": null,
            "max_height": null,
            "max_width": null,
            "min_height": null,
            "min_width": null,
            "object_fit": null,
            "object_position": null,
            "order": null,
            "overflow": null,
            "overflow_x": null,
            "overflow_y": null,
            "padding": null,
            "right": null,
            "top": null,
            "visibility": "hidden",
            "width": "100%"
          }
        },
        "208bdaec5aed4eb1b490fe7dd4ec7a9d": {
          "model_module": "@jupyter-widgets/base",
          "model_name": "LayoutModel",
          "model_module_version": "1.2.0",
          "state": {
            "_model_module": "@jupyter-widgets/base",
            "_model_module_version": "1.2.0",
            "_model_name": "LayoutModel",
            "_view_count": null,
            "_view_module": "@jupyter-widgets/base",
            "_view_module_version": "1.2.0",
            "_view_name": "LayoutView",
            "align_content": null,
            "align_items": null,
            "align_self": null,
            "border": null,
            "bottom": null,
            "display": null,
            "flex": null,
            "flex_flow": null,
            "grid_area": null,
            "grid_auto_columns": null,
            "grid_auto_flow": null,
            "grid_auto_rows": null,
            "grid_column": null,
            "grid_gap": null,
            "grid_row": null,
            "grid_template_areas": null,
            "grid_template_columns": null,
            "grid_template_rows": null,
            "height": null,
            "justify_content": null,
            "justify_items": null,
            "left": null,
            "margin": null,
            "max_height": null,
            "max_width": null,
            "min_height": null,
            "min_width": null,
            "object_fit": null,
            "object_position": null,
            "order": null,
            "overflow": null,
            "overflow_x": null,
            "overflow_y": null,
            "padding": null,
            "right": null,
            "top": null,
            "visibility": null,
            "width": null
          }
        },
        "658a21ebd58042048e823470fef28a30": {
          "model_module": "@jupyter-widgets/controls",
          "model_name": "DescriptionStyleModel",
          "model_module_version": "1.5.0",
          "state": {
            "_model_module": "@jupyter-widgets/controls",
            "_model_module_version": "1.5.0",
            "_model_name": "DescriptionStyleModel",
            "_view_count": null,
            "_view_module": "@jupyter-widgets/base",
            "_view_module_version": "1.2.0",
            "_view_name": "StyleView",
            "description_width": ""
          }
        },
        "524add943f394dc79a6e8325fe65b0db": {
          "model_module": "@jupyter-widgets/base",
          "model_name": "LayoutModel",
          "model_module_version": "1.2.0",
          "state": {
            "_model_module": "@jupyter-widgets/base",
            "_model_module_version": "1.2.0",
            "_model_name": "LayoutModel",
            "_view_count": null,
            "_view_module": "@jupyter-widgets/base",
            "_view_module_version": "1.2.0",
            "_view_name": "LayoutView",
            "align_content": null,
            "align_items": null,
            "align_self": null,
            "border": null,
            "bottom": null,
            "display": null,
            "flex": "2",
            "flex_flow": null,
            "grid_area": null,
            "grid_auto_columns": null,
            "grid_auto_flow": null,
            "grid_auto_rows": null,
            "grid_column": null,
            "grid_gap": null,
            "grid_row": null,
            "grid_template_areas": null,
            "grid_template_columns": null,
            "grid_template_rows": null,
            "height": null,
            "justify_content": null,
            "justify_items": null,
            "left": null,
            "margin": null,
            "max_height": null,
            "max_width": null,
            "min_height": null,
            "min_width": null,
            "object_fit": null,
            "object_position": null,
            "order": null,
            "overflow": null,
            "overflow_x": null,
            "overflow_y": null,
            "padding": null,
            "right": null,
            "top": null,
            "visibility": null,
            "width": null
          }
        },
        "fa8e2dc2573947328020a78c153b77bb": {
          "model_module": "@jupyter-widgets/controls",
          "model_name": "ProgressStyleModel",
          "model_module_version": "1.5.0",
          "state": {
            "_model_module": "@jupyter-widgets/controls",
            "_model_module_version": "1.5.0",
            "_model_name": "ProgressStyleModel",
            "_view_count": null,
            "_view_module": "@jupyter-widgets/base",
            "_view_module_version": "1.2.0",
            "_view_name": "StyleView",
            "bar_color": null,
            "description_width": ""
          }
        },
        "71beeaf248c64094a708a250ff613542": {
          "model_module": "@jupyter-widgets/base",
          "model_name": "LayoutModel",
          "model_module_version": "1.2.0",
          "state": {
            "_model_module": "@jupyter-widgets/base",
            "_model_module_version": "1.2.0",
            "_model_name": "LayoutModel",
            "_view_count": null,
            "_view_module": "@jupyter-widgets/base",
            "_view_module_version": "1.2.0",
            "_view_name": "LayoutView",
            "align_content": null,
            "align_items": null,
            "align_self": null,
            "border": null,
            "bottom": null,
            "display": null,
            "flex": null,
            "flex_flow": null,
            "grid_area": null,
            "grid_auto_columns": null,
            "grid_auto_flow": null,
            "grid_auto_rows": null,
            "grid_column": null,
            "grid_gap": null,
            "grid_row": null,
            "grid_template_areas": null,
            "grid_template_columns": null,
            "grid_template_rows": null,
            "height": null,
            "justify_content": null,
            "justify_items": null,
            "left": null,
            "margin": null,
            "max_height": null,
            "max_width": null,
            "min_height": null,
            "min_width": null,
            "object_fit": null,
            "object_position": null,
            "order": null,
            "overflow": null,
            "overflow_x": null,
            "overflow_y": null,
            "padding": null,
            "right": null,
            "top": null,
            "visibility": null,
            "width": null
          }
        },
        "1e6b8e6e827d4a4fb9a27db7a511f21c": {
          "model_module": "@jupyter-widgets/controls",
          "model_name": "DescriptionStyleModel",
          "model_module_version": "1.5.0",
          "state": {
            "_model_module": "@jupyter-widgets/controls",
            "_model_module_version": "1.5.0",
            "_model_name": "DescriptionStyleModel",
            "_view_count": null,
            "_view_module": "@jupyter-widgets/base",
            "_view_module_version": "1.2.0",
            "_view_name": "StyleView",
            "description_width": ""
          }
        },
        "14b4224fa5ed446492af127238eef91b": {
          "model_module": "@jupyter-widgets/controls",
          "model_name": "HBoxModel",
          "model_module_version": "1.5.0",
          "state": {
            "_dom_classes": [],
            "_model_module": "@jupyter-widgets/controls",
            "_model_module_version": "1.5.0",
            "_model_name": "HBoxModel",
            "_view_count": null,
            "_view_module": "@jupyter-widgets/controls",
            "_view_module_version": "1.5.0",
            "_view_name": "HBoxView",
            "box_style": "",
            "children": [
              "IPY_MODEL_13d585523b4548b1959f31e67faf3fbb",
              "IPY_MODEL_1338e79a41d5423bb1ec6caf3b624c2a",
              "IPY_MODEL_ca0f2c83c2d244d7b4e2e91faf73bae2"
            ],
            "layout": "IPY_MODEL_c3bd440ccfd64152ba647148de36fc32"
          }
        },
        "13d585523b4548b1959f31e67faf3fbb": {
          "model_module": "@jupyter-widgets/controls",
          "model_name": "HTMLModel",
          "model_module_version": "1.5.0",
          "state": {
            "_dom_classes": [],
            "_model_module": "@jupyter-widgets/controls",
            "_model_module_version": "1.5.0",
            "_model_name": "HTMLModel",
            "_view_count": null,
            "_view_module": "@jupyter-widgets/controls",
            "_view_module_version": "1.5.0",
            "_view_name": "HTMLView",
            "description": "",
            "description_tooltip": null,
            "layout": "IPY_MODEL_1ac70fe169c347a9b18419e85391cc74",
            "placeholder": "​",
            "style": "IPY_MODEL_37241916d21645b485c9ee86ab23aa63",
            "value": "Validation DataLoader 0: 100%"
          }
        },
        "1338e79a41d5423bb1ec6caf3b624c2a": {
          "model_module": "@jupyter-widgets/controls",
          "model_name": "FloatProgressModel",
          "model_module_version": "1.5.0",
          "state": {
            "_dom_classes": [],
            "_model_module": "@jupyter-widgets/controls",
            "_model_module_version": "1.5.0",
            "_model_name": "FloatProgressModel",
            "_view_count": null,
            "_view_module": "@jupyter-widgets/controls",
            "_view_module_version": "1.5.0",
            "_view_name": "ProgressView",
            "bar_style": "",
            "description": "",
            "description_tooltip": null,
            "layout": "IPY_MODEL_8d997a68a0cf4bd58d5182558e03159b",
            "max": 375,
            "min": 0,
            "orientation": "horizontal",
            "style": "IPY_MODEL_5e464369c5aa4e078ef6b1ff6800e910",
            "value": 375
          }
        },
        "ca0f2c83c2d244d7b4e2e91faf73bae2": {
          "model_module": "@jupyter-widgets/controls",
          "model_name": "HTMLModel",
          "model_module_version": "1.5.0",
          "state": {
            "_dom_classes": [],
            "_model_module": "@jupyter-widgets/controls",
            "_model_module_version": "1.5.0",
            "_model_name": "HTMLModel",
            "_view_count": null,
            "_view_module": "@jupyter-widgets/controls",
            "_view_module_version": "1.5.0",
            "_view_name": "HTMLView",
            "description": "",
            "description_tooltip": null,
            "layout": "IPY_MODEL_e9879c15b67b423fb9151175c1a81d7d",
            "placeholder": "​",
            "style": "IPY_MODEL_00fea950b436438a9c5d4acbfbcfc12e",
            "value": " 375/375 [00:03&lt;00:00, 115.68it/s]"
          }
        },
        "c3bd440ccfd64152ba647148de36fc32": {
          "model_module": "@jupyter-widgets/base",
          "model_name": "LayoutModel",
          "model_module_version": "1.2.0",
          "state": {
            "_model_module": "@jupyter-widgets/base",
            "_model_module_version": "1.2.0",
            "_model_name": "LayoutModel",
            "_view_count": null,
            "_view_module": "@jupyter-widgets/base",
            "_view_module_version": "1.2.0",
            "_view_name": "LayoutView",
            "align_content": null,
            "align_items": null,
            "align_self": null,
            "border": null,
            "bottom": null,
            "display": "inline-flex",
            "flex": null,
            "flex_flow": "row wrap",
            "grid_area": null,
            "grid_auto_columns": null,
            "grid_auto_flow": null,
            "grid_auto_rows": null,
            "grid_column": null,
            "grid_gap": null,
            "grid_row": null,
            "grid_template_areas": null,
            "grid_template_columns": null,
            "grid_template_rows": null,
            "height": null,
            "justify_content": null,
            "justify_items": null,
            "left": null,
            "margin": null,
            "max_height": null,
            "max_width": null,
            "min_height": null,
            "min_width": null,
            "object_fit": null,
            "object_position": null,
            "order": null,
            "overflow": null,
            "overflow_x": null,
            "overflow_y": null,
            "padding": null,
            "right": null,
            "top": null,
            "visibility": "hidden",
            "width": "100%"
          }
        },
        "1ac70fe169c347a9b18419e85391cc74": {
          "model_module": "@jupyter-widgets/base",
          "model_name": "LayoutModel",
          "model_module_version": "1.2.0",
          "state": {
            "_model_module": "@jupyter-widgets/base",
            "_model_module_version": "1.2.0",
            "_model_name": "LayoutModel",
            "_view_count": null,
            "_view_module": "@jupyter-widgets/base",
            "_view_module_version": "1.2.0",
            "_view_name": "LayoutView",
            "align_content": null,
            "align_items": null,
            "align_self": null,
            "border": null,
            "bottom": null,
            "display": null,
            "flex": null,
            "flex_flow": null,
            "grid_area": null,
            "grid_auto_columns": null,
            "grid_auto_flow": null,
            "grid_auto_rows": null,
            "grid_column": null,
            "grid_gap": null,
            "grid_row": null,
            "grid_template_areas": null,
            "grid_template_columns": null,
            "grid_template_rows": null,
            "height": null,
            "justify_content": null,
            "justify_items": null,
            "left": null,
            "margin": null,
            "max_height": null,
            "max_width": null,
            "min_height": null,
            "min_width": null,
            "object_fit": null,
            "object_position": null,
            "order": null,
            "overflow": null,
            "overflow_x": null,
            "overflow_y": null,
            "padding": null,
            "right": null,
            "top": null,
            "visibility": null,
            "width": null
          }
        },
        "37241916d21645b485c9ee86ab23aa63": {
          "model_module": "@jupyter-widgets/controls",
          "model_name": "DescriptionStyleModel",
          "model_module_version": "1.5.0",
          "state": {
            "_model_module": "@jupyter-widgets/controls",
            "_model_module_version": "1.5.0",
            "_model_name": "DescriptionStyleModel",
            "_view_count": null,
            "_view_module": "@jupyter-widgets/base",
            "_view_module_version": "1.2.0",
            "_view_name": "StyleView",
            "description_width": ""
          }
        },
        "8d997a68a0cf4bd58d5182558e03159b": {
          "model_module": "@jupyter-widgets/base",
          "model_name": "LayoutModel",
          "model_module_version": "1.2.0",
          "state": {
            "_model_module": "@jupyter-widgets/base",
            "_model_module_version": "1.2.0",
            "_model_name": "LayoutModel",
            "_view_count": null,
            "_view_module": "@jupyter-widgets/base",
            "_view_module_version": "1.2.0",
            "_view_name": "LayoutView",
            "align_content": null,
            "align_items": null,
            "align_self": null,
            "border": null,
            "bottom": null,
            "display": null,
            "flex": "2",
            "flex_flow": null,
            "grid_area": null,
            "grid_auto_columns": null,
            "grid_auto_flow": null,
            "grid_auto_rows": null,
            "grid_column": null,
            "grid_gap": null,
            "grid_row": null,
            "grid_template_areas": null,
            "grid_template_columns": null,
            "grid_template_rows": null,
            "height": null,
            "justify_content": null,
            "justify_items": null,
            "left": null,
            "margin": null,
            "max_height": null,
            "max_width": null,
            "min_height": null,
            "min_width": null,
            "object_fit": null,
            "object_position": null,
            "order": null,
            "overflow": null,
            "overflow_x": null,
            "overflow_y": null,
            "padding": null,
            "right": null,
            "top": null,
            "visibility": null,
            "width": null
          }
        },
        "5e464369c5aa4e078ef6b1ff6800e910": {
          "model_module": "@jupyter-widgets/controls",
          "model_name": "ProgressStyleModel",
          "model_module_version": "1.5.0",
          "state": {
            "_model_module": "@jupyter-widgets/controls",
            "_model_module_version": "1.5.0",
            "_model_name": "ProgressStyleModel",
            "_view_count": null,
            "_view_module": "@jupyter-widgets/base",
            "_view_module_version": "1.2.0",
            "_view_name": "StyleView",
            "bar_color": null,
            "description_width": ""
          }
        },
        "e9879c15b67b423fb9151175c1a81d7d": {
          "model_module": "@jupyter-widgets/base",
          "model_name": "LayoutModel",
          "model_module_version": "1.2.0",
          "state": {
            "_model_module": "@jupyter-widgets/base",
            "_model_module_version": "1.2.0",
            "_model_name": "LayoutModel",
            "_view_count": null,
            "_view_module": "@jupyter-widgets/base",
            "_view_module_version": "1.2.0",
            "_view_name": "LayoutView",
            "align_content": null,
            "align_items": null,
            "align_self": null,
            "border": null,
            "bottom": null,
            "display": null,
            "flex": null,
            "flex_flow": null,
            "grid_area": null,
            "grid_auto_columns": null,
            "grid_auto_flow": null,
            "grid_auto_rows": null,
            "grid_column": null,
            "grid_gap": null,
            "grid_row": null,
            "grid_template_areas": null,
            "grid_template_columns": null,
            "grid_template_rows": null,
            "height": null,
            "justify_content": null,
            "justify_items": null,
            "left": null,
            "margin": null,
            "max_height": null,
            "max_width": null,
            "min_height": null,
            "min_width": null,
            "object_fit": null,
            "object_position": null,
            "order": null,
            "overflow": null,
            "overflow_x": null,
            "overflow_y": null,
            "padding": null,
            "right": null,
            "top": null,
            "visibility": null,
            "width": null
          }
        },
        "00fea950b436438a9c5d4acbfbcfc12e": {
          "model_module": "@jupyter-widgets/controls",
          "model_name": "DescriptionStyleModel",
          "model_module_version": "1.5.0",
          "state": {
            "_model_module": "@jupyter-widgets/controls",
            "_model_module_version": "1.5.0",
            "_model_name": "DescriptionStyleModel",
            "_view_count": null,
            "_view_module": "@jupyter-widgets/base",
            "_view_module_version": "1.2.0",
            "_view_name": "StyleView",
            "description_width": ""
          }
        },
        "9057cbc677bb456b935495cf4e2622e9": {
          "model_module": "@jupyter-widgets/controls",
          "model_name": "HBoxModel",
          "model_module_version": "1.5.0",
          "state": {
            "_dom_classes": [],
            "_model_module": "@jupyter-widgets/controls",
            "_model_module_version": "1.5.0",
            "_model_name": "HBoxModel",
            "_view_count": null,
            "_view_module": "@jupyter-widgets/controls",
            "_view_module_version": "1.5.0",
            "_view_name": "HBoxView",
            "box_style": "",
            "children": [
              "IPY_MODEL_47ad9137e3e6404895ecd2efd819dcff",
              "IPY_MODEL_5a9dfa25555a41a79c128f03d564e00e",
              "IPY_MODEL_597c8c87b98842db8d2ec8cc024eff78"
            ],
            "layout": "IPY_MODEL_49103fdc43b641f8bd663ff6633898b6"
          }
        },
        "47ad9137e3e6404895ecd2efd819dcff": {
          "model_module": "@jupyter-widgets/controls",
          "model_name": "HTMLModel",
          "model_module_version": "1.5.0",
          "state": {
            "_dom_classes": [],
            "_model_module": "@jupyter-widgets/controls",
            "_model_module_version": "1.5.0",
            "_model_name": "HTMLModel",
            "_view_count": null,
            "_view_module": "@jupyter-widgets/controls",
            "_view_module_version": "1.5.0",
            "_view_name": "HTMLView",
            "description": "",
            "description_tooltip": null,
            "layout": "IPY_MODEL_95b2692211744143bc683145d31b3b5d",
            "placeholder": "​",
            "style": "IPY_MODEL_7025983d68fe469695f62163f50e7229",
            "value": "Validation DataLoader 0: 100%"
          }
        },
        "5a9dfa25555a41a79c128f03d564e00e": {
          "model_module": "@jupyter-widgets/controls",
          "model_name": "FloatProgressModel",
          "model_module_version": "1.5.0",
          "state": {
            "_dom_classes": [],
            "_model_module": "@jupyter-widgets/controls",
            "_model_module_version": "1.5.0",
            "_model_name": "FloatProgressModel",
            "_view_count": null,
            "_view_module": "@jupyter-widgets/controls",
            "_view_module_version": "1.5.0",
            "_view_name": "ProgressView",
            "bar_style": "",
            "description": "",
            "description_tooltip": null,
            "layout": "IPY_MODEL_ac52f7c24e2f4c1fbad15c3534bfa94f",
            "max": 375,
            "min": 0,
            "orientation": "horizontal",
            "style": "IPY_MODEL_e0610110df1d422490e7148223ecd53f",
            "value": 375
          }
        },
        "597c8c87b98842db8d2ec8cc024eff78": {
          "model_module": "@jupyter-widgets/controls",
          "model_name": "HTMLModel",
          "model_module_version": "1.5.0",
          "state": {
            "_dom_classes": [],
            "_model_module": "@jupyter-widgets/controls",
            "_model_module_version": "1.5.0",
            "_model_name": "HTMLModel",
            "_view_count": null,
            "_view_module": "@jupyter-widgets/controls",
            "_view_module_version": "1.5.0",
            "_view_name": "HTMLView",
            "description": "",
            "description_tooltip": null,
            "layout": "IPY_MODEL_ad81cbbfbc574c8581e465f3fbf613c3",
            "placeholder": "​",
            "style": "IPY_MODEL_a69167da128f4150b0ae41681824fd65",
            "value": " 375/375 [00:03&lt;00:00, 114.81it/s]"
          }
        },
        "49103fdc43b641f8bd663ff6633898b6": {
          "model_module": "@jupyter-widgets/base",
          "model_name": "LayoutModel",
          "model_module_version": "1.2.0",
          "state": {
            "_model_module": "@jupyter-widgets/base",
            "_model_module_version": "1.2.0",
            "_model_name": "LayoutModel",
            "_view_count": null,
            "_view_module": "@jupyter-widgets/base",
            "_view_module_version": "1.2.0",
            "_view_name": "LayoutView",
            "align_content": null,
            "align_items": null,
            "align_self": null,
            "border": null,
            "bottom": null,
            "display": "inline-flex",
            "flex": null,
            "flex_flow": "row wrap",
            "grid_area": null,
            "grid_auto_columns": null,
            "grid_auto_flow": null,
            "grid_auto_rows": null,
            "grid_column": null,
            "grid_gap": null,
            "grid_row": null,
            "grid_template_areas": null,
            "grid_template_columns": null,
            "grid_template_rows": null,
            "height": null,
            "justify_content": null,
            "justify_items": null,
            "left": null,
            "margin": null,
            "max_height": null,
            "max_width": null,
            "min_height": null,
            "min_width": null,
            "object_fit": null,
            "object_position": null,
            "order": null,
            "overflow": null,
            "overflow_x": null,
            "overflow_y": null,
            "padding": null,
            "right": null,
            "top": null,
            "visibility": "hidden",
            "width": "100%"
          }
        },
        "95b2692211744143bc683145d31b3b5d": {
          "model_module": "@jupyter-widgets/base",
          "model_name": "LayoutModel",
          "model_module_version": "1.2.0",
          "state": {
            "_model_module": "@jupyter-widgets/base",
            "_model_module_version": "1.2.0",
            "_model_name": "LayoutModel",
            "_view_count": null,
            "_view_module": "@jupyter-widgets/base",
            "_view_module_version": "1.2.0",
            "_view_name": "LayoutView",
            "align_content": null,
            "align_items": null,
            "align_self": null,
            "border": null,
            "bottom": null,
            "display": null,
            "flex": null,
            "flex_flow": null,
            "grid_area": null,
            "grid_auto_columns": null,
            "grid_auto_flow": null,
            "grid_auto_rows": null,
            "grid_column": null,
            "grid_gap": null,
            "grid_row": null,
            "grid_template_areas": null,
            "grid_template_columns": null,
            "grid_template_rows": null,
            "height": null,
            "justify_content": null,
            "justify_items": null,
            "left": null,
            "margin": null,
            "max_height": null,
            "max_width": null,
            "min_height": null,
            "min_width": null,
            "object_fit": null,
            "object_position": null,
            "order": null,
            "overflow": null,
            "overflow_x": null,
            "overflow_y": null,
            "padding": null,
            "right": null,
            "top": null,
            "visibility": null,
            "width": null
          }
        },
        "7025983d68fe469695f62163f50e7229": {
          "model_module": "@jupyter-widgets/controls",
          "model_name": "DescriptionStyleModel",
          "model_module_version": "1.5.0",
          "state": {
            "_model_module": "@jupyter-widgets/controls",
            "_model_module_version": "1.5.0",
            "_model_name": "DescriptionStyleModel",
            "_view_count": null,
            "_view_module": "@jupyter-widgets/base",
            "_view_module_version": "1.2.0",
            "_view_name": "StyleView",
            "description_width": ""
          }
        },
        "ac52f7c24e2f4c1fbad15c3534bfa94f": {
          "model_module": "@jupyter-widgets/base",
          "model_name": "LayoutModel",
          "model_module_version": "1.2.0",
          "state": {
            "_model_module": "@jupyter-widgets/base",
            "_model_module_version": "1.2.0",
            "_model_name": "LayoutModel",
            "_view_count": null,
            "_view_module": "@jupyter-widgets/base",
            "_view_module_version": "1.2.0",
            "_view_name": "LayoutView",
            "align_content": null,
            "align_items": null,
            "align_self": null,
            "border": null,
            "bottom": null,
            "display": null,
            "flex": "2",
            "flex_flow": null,
            "grid_area": null,
            "grid_auto_columns": null,
            "grid_auto_flow": null,
            "grid_auto_rows": null,
            "grid_column": null,
            "grid_gap": null,
            "grid_row": null,
            "grid_template_areas": null,
            "grid_template_columns": null,
            "grid_template_rows": null,
            "height": null,
            "justify_content": null,
            "justify_items": null,
            "left": null,
            "margin": null,
            "max_height": null,
            "max_width": null,
            "min_height": null,
            "min_width": null,
            "object_fit": null,
            "object_position": null,
            "order": null,
            "overflow": null,
            "overflow_x": null,
            "overflow_y": null,
            "padding": null,
            "right": null,
            "top": null,
            "visibility": null,
            "width": null
          }
        },
        "e0610110df1d422490e7148223ecd53f": {
          "model_module": "@jupyter-widgets/controls",
          "model_name": "ProgressStyleModel",
          "model_module_version": "1.5.0",
          "state": {
            "_model_module": "@jupyter-widgets/controls",
            "_model_module_version": "1.5.0",
            "_model_name": "ProgressStyleModel",
            "_view_count": null,
            "_view_module": "@jupyter-widgets/base",
            "_view_module_version": "1.2.0",
            "_view_name": "StyleView",
            "bar_color": null,
            "description_width": ""
          }
        },
        "ad81cbbfbc574c8581e465f3fbf613c3": {
          "model_module": "@jupyter-widgets/base",
          "model_name": "LayoutModel",
          "model_module_version": "1.2.0",
          "state": {
            "_model_module": "@jupyter-widgets/base",
            "_model_module_version": "1.2.0",
            "_model_name": "LayoutModel",
            "_view_count": null,
            "_view_module": "@jupyter-widgets/base",
            "_view_module_version": "1.2.0",
            "_view_name": "LayoutView",
            "align_content": null,
            "align_items": null,
            "align_self": null,
            "border": null,
            "bottom": null,
            "display": null,
            "flex": null,
            "flex_flow": null,
            "grid_area": null,
            "grid_auto_columns": null,
            "grid_auto_flow": null,
            "grid_auto_rows": null,
            "grid_column": null,
            "grid_gap": null,
            "grid_row": null,
            "grid_template_areas": null,
            "grid_template_columns": null,
            "grid_template_rows": null,
            "height": null,
            "justify_content": null,
            "justify_items": null,
            "left": null,
            "margin": null,
            "max_height": null,
            "max_width": null,
            "min_height": null,
            "min_width": null,
            "object_fit": null,
            "object_position": null,
            "order": null,
            "overflow": null,
            "overflow_x": null,
            "overflow_y": null,
            "padding": null,
            "right": null,
            "top": null,
            "visibility": null,
            "width": null
          }
        },
        "a69167da128f4150b0ae41681824fd65": {
          "model_module": "@jupyter-widgets/controls",
          "model_name": "DescriptionStyleModel",
          "model_module_version": "1.5.0",
          "state": {
            "_model_module": "@jupyter-widgets/controls",
            "_model_module_version": "1.5.0",
            "_model_name": "DescriptionStyleModel",
            "_view_count": null,
            "_view_module": "@jupyter-widgets/base",
            "_view_module_version": "1.2.0",
            "_view_name": "StyleView",
            "description_width": ""
          }
        },
        "d368b064cda74afba09f14b8d20ace3e": {
          "model_module": "@jupyter-widgets/controls",
          "model_name": "HBoxModel",
          "model_module_version": "1.5.0",
          "state": {
            "_dom_classes": [],
            "_model_module": "@jupyter-widgets/controls",
            "_model_module_version": "1.5.0",
            "_model_name": "HBoxModel",
            "_view_count": null,
            "_view_module": "@jupyter-widgets/controls",
            "_view_module_version": "1.5.0",
            "_view_name": "HBoxView",
            "box_style": "",
            "children": [
              "IPY_MODEL_fd3888fd18244e088a72c59eb5bcee3d",
              "IPY_MODEL_fbbdbc03d64a457295068e7321ea7172",
              "IPY_MODEL_8707c364a6304754affc345091daa380"
            ],
            "layout": "IPY_MODEL_97523350bc19404f8a33c5a6b32ab6cd"
          }
        },
        "fd3888fd18244e088a72c59eb5bcee3d": {
          "model_module": "@jupyter-widgets/controls",
          "model_name": "HTMLModel",
          "model_module_version": "1.5.0",
          "state": {
            "_dom_classes": [],
            "_model_module": "@jupyter-widgets/controls",
            "_model_module_version": "1.5.0",
            "_model_name": "HTMLModel",
            "_view_count": null,
            "_view_module": "@jupyter-widgets/controls",
            "_view_module_version": "1.5.0",
            "_view_name": "HTMLView",
            "description": "",
            "description_tooltip": null,
            "layout": "IPY_MODEL_ffbed3cacee84fcd8ef8f3f4a6e1d39b",
            "placeholder": "​",
            "style": "IPY_MODEL_58813e8612084472a53507cc7c48208b",
            "value": "Validation DataLoader 0: 100%"
          }
        },
        "fbbdbc03d64a457295068e7321ea7172": {
          "model_module": "@jupyter-widgets/controls",
          "model_name": "FloatProgressModel",
          "model_module_version": "1.5.0",
          "state": {
            "_dom_classes": [],
            "_model_module": "@jupyter-widgets/controls",
            "_model_module_version": "1.5.0",
            "_model_name": "FloatProgressModel",
            "_view_count": null,
            "_view_module": "@jupyter-widgets/controls",
            "_view_module_version": "1.5.0",
            "_view_name": "ProgressView",
            "bar_style": "",
            "description": "",
            "description_tooltip": null,
            "layout": "IPY_MODEL_cd237668f3b14dfd8c612698580d6bb2",
            "max": 375,
            "min": 0,
            "orientation": "horizontal",
            "style": "IPY_MODEL_8ee3e1fdd22d43149f024e6e20983c2e",
            "value": 375
          }
        },
        "8707c364a6304754affc345091daa380": {
          "model_module": "@jupyter-widgets/controls",
          "model_name": "HTMLModel",
          "model_module_version": "1.5.0",
          "state": {
            "_dom_classes": [],
            "_model_module": "@jupyter-widgets/controls",
            "_model_module_version": "1.5.0",
            "_model_name": "HTMLModel",
            "_view_count": null,
            "_view_module": "@jupyter-widgets/controls",
            "_view_module_version": "1.5.0",
            "_view_name": "HTMLView",
            "description": "",
            "description_tooltip": null,
            "layout": "IPY_MODEL_d97f8b0e75f64fc79adfdc26cfa9db88",
            "placeholder": "​",
            "style": "IPY_MODEL_cef5d81e4df34e7c9c83701c52c2ba2e",
            "value": " 375/375 [00:05&lt;00:00, 71.98it/s]"
          }
        },
        "97523350bc19404f8a33c5a6b32ab6cd": {
          "model_module": "@jupyter-widgets/base",
          "model_name": "LayoutModel",
          "model_module_version": "1.2.0",
          "state": {
            "_model_module": "@jupyter-widgets/base",
            "_model_module_version": "1.2.0",
            "_model_name": "LayoutModel",
            "_view_count": null,
            "_view_module": "@jupyter-widgets/base",
            "_view_module_version": "1.2.0",
            "_view_name": "LayoutView",
            "align_content": null,
            "align_items": null,
            "align_self": null,
            "border": null,
            "bottom": null,
            "display": "inline-flex",
            "flex": null,
            "flex_flow": "row wrap",
            "grid_area": null,
            "grid_auto_columns": null,
            "grid_auto_flow": null,
            "grid_auto_rows": null,
            "grid_column": null,
            "grid_gap": null,
            "grid_row": null,
            "grid_template_areas": null,
            "grid_template_columns": null,
            "grid_template_rows": null,
            "height": null,
            "justify_content": null,
            "justify_items": null,
            "left": null,
            "margin": null,
            "max_height": null,
            "max_width": null,
            "min_height": null,
            "min_width": null,
            "object_fit": null,
            "object_position": null,
            "order": null,
            "overflow": null,
            "overflow_x": null,
            "overflow_y": null,
            "padding": null,
            "right": null,
            "top": null,
            "visibility": "hidden",
            "width": "100%"
          }
        },
        "ffbed3cacee84fcd8ef8f3f4a6e1d39b": {
          "model_module": "@jupyter-widgets/base",
          "model_name": "LayoutModel",
          "model_module_version": "1.2.0",
          "state": {
            "_model_module": "@jupyter-widgets/base",
            "_model_module_version": "1.2.0",
            "_model_name": "LayoutModel",
            "_view_count": null,
            "_view_module": "@jupyter-widgets/base",
            "_view_module_version": "1.2.0",
            "_view_name": "LayoutView",
            "align_content": null,
            "align_items": null,
            "align_self": null,
            "border": null,
            "bottom": null,
            "display": null,
            "flex": null,
            "flex_flow": null,
            "grid_area": null,
            "grid_auto_columns": null,
            "grid_auto_flow": null,
            "grid_auto_rows": null,
            "grid_column": null,
            "grid_gap": null,
            "grid_row": null,
            "grid_template_areas": null,
            "grid_template_columns": null,
            "grid_template_rows": null,
            "height": null,
            "justify_content": null,
            "justify_items": null,
            "left": null,
            "margin": null,
            "max_height": null,
            "max_width": null,
            "min_height": null,
            "min_width": null,
            "object_fit": null,
            "object_position": null,
            "order": null,
            "overflow": null,
            "overflow_x": null,
            "overflow_y": null,
            "padding": null,
            "right": null,
            "top": null,
            "visibility": null,
            "width": null
          }
        },
        "58813e8612084472a53507cc7c48208b": {
          "model_module": "@jupyter-widgets/controls",
          "model_name": "DescriptionStyleModel",
          "model_module_version": "1.5.0",
          "state": {
            "_model_module": "@jupyter-widgets/controls",
            "_model_module_version": "1.5.0",
            "_model_name": "DescriptionStyleModel",
            "_view_count": null,
            "_view_module": "@jupyter-widgets/base",
            "_view_module_version": "1.2.0",
            "_view_name": "StyleView",
            "description_width": ""
          }
        },
        "cd237668f3b14dfd8c612698580d6bb2": {
          "model_module": "@jupyter-widgets/base",
          "model_name": "LayoutModel",
          "model_module_version": "1.2.0",
          "state": {
            "_model_module": "@jupyter-widgets/base",
            "_model_module_version": "1.2.0",
            "_model_name": "LayoutModel",
            "_view_count": null,
            "_view_module": "@jupyter-widgets/base",
            "_view_module_version": "1.2.0",
            "_view_name": "LayoutView",
            "align_content": null,
            "align_items": null,
            "align_self": null,
            "border": null,
            "bottom": null,
            "display": null,
            "flex": "2",
            "flex_flow": null,
            "grid_area": null,
            "grid_auto_columns": null,
            "grid_auto_flow": null,
            "grid_auto_rows": null,
            "grid_column": null,
            "grid_gap": null,
            "grid_row": null,
            "grid_template_areas": null,
            "grid_template_columns": null,
            "grid_template_rows": null,
            "height": null,
            "justify_content": null,
            "justify_items": null,
            "left": null,
            "margin": null,
            "max_height": null,
            "max_width": null,
            "min_height": null,
            "min_width": null,
            "object_fit": null,
            "object_position": null,
            "order": null,
            "overflow": null,
            "overflow_x": null,
            "overflow_y": null,
            "padding": null,
            "right": null,
            "top": null,
            "visibility": null,
            "width": null
          }
        },
        "8ee3e1fdd22d43149f024e6e20983c2e": {
          "model_module": "@jupyter-widgets/controls",
          "model_name": "ProgressStyleModel",
          "model_module_version": "1.5.0",
          "state": {
            "_model_module": "@jupyter-widgets/controls",
            "_model_module_version": "1.5.0",
            "_model_name": "ProgressStyleModel",
            "_view_count": null,
            "_view_module": "@jupyter-widgets/base",
            "_view_module_version": "1.2.0",
            "_view_name": "StyleView",
            "bar_color": null,
            "description_width": ""
          }
        },
        "d97f8b0e75f64fc79adfdc26cfa9db88": {
          "model_module": "@jupyter-widgets/base",
          "model_name": "LayoutModel",
          "model_module_version": "1.2.0",
          "state": {
            "_model_module": "@jupyter-widgets/base",
            "_model_module_version": "1.2.0",
            "_model_name": "LayoutModel",
            "_view_count": null,
            "_view_module": "@jupyter-widgets/base",
            "_view_module_version": "1.2.0",
            "_view_name": "LayoutView",
            "align_content": null,
            "align_items": null,
            "align_self": null,
            "border": null,
            "bottom": null,
            "display": null,
            "flex": null,
            "flex_flow": null,
            "grid_area": null,
            "grid_auto_columns": null,
            "grid_auto_flow": null,
            "grid_auto_rows": null,
            "grid_column": null,
            "grid_gap": null,
            "grid_row": null,
            "grid_template_areas": null,
            "grid_template_columns": null,
            "grid_template_rows": null,
            "height": null,
            "justify_content": null,
            "justify_items": null,
            "left": null,
            "margin": null,
            "max_height": null,
            "max_width": null,
            "min_height": null,
            "min_width": null,
            "object_fit": null,
            "object_position": null,
            "order": null,
            "overflow": null,
            "overflow_x": null,
            "overflow_y": null,
            "padding": null,
            "right": null,
            "top": null,
            "visibility": null,
            "width": null
          }
        },
        "cef5d81e4df34e7c9c83701c52c2ba2e": {
          "model_module": "@jupyter-widgets/controls",
          "model_name": "DescriptionStyleModel",
          "model_module_version": "1.5.0",
          "state": {
            "_model_module": "@jupyter-widgets/controls",
            "_model_module_version": "1.5.0",
            "_model_name": "DescriptionStyleModel",
            "_view_count": null,
            "_view_module": "@jupyter-widgets/base",
            "_view_module_version": "1.2.0",
            "_view_name": "StyleView",
            "description_width": ""
          }
        }
      }
    }
  },
  "cells": [
    {
      "cell_type": "markdown",
      "source": [
        "# Вспомогательный код"
      ],
      "metadata": {
        "id": "GJUDdNB18nIW"
      }
    },
    {
      "cell_type": "code",
      "execution_count": null,
      "metadata": {
        "id": "SBffbGmdYsjm"
      },
      "outputs": [],
      "source": [
        "def exponential_smoothing(scalars, weight):\n",
        "    last = scalars[0]\n",
        "    smoothed = []\n",
        "    for point in scalars:\n",
        "        smoothed_val = last * weight + (1 - weight) * point\n",
        "        smoothed.append(smoothed_val)\n",
        "        last = smoothed_val\n",
        "\n",
        "    return smoothed"
      ]
    },
    {
      "cell_type": "code",
      "execution_count": null,
      "metadata": {
        "id": "En8yMoS7Ysjn"
      },
      "outputs": [],
      "source": [
        "import numpy as np\n",
        "import matplotlib.pyplot as plt\n",
        "import matplotlib.colors as mcolors\n",
        "\n",
        "\n",
        "class HistoryPlotter:\n",
        "    def __init__(self):\n",
        "        # dict for safe learning history\n",
        "        self._history_dict = {}\n",
        "\n",
        "    def add(self, history):\n",
        "        \"\"\"\n",
        "        Save learning history.\n",
        "        history: dict with keys: model_name, epoсhs, loss_on_train, loss_on_test\n",
        "        \"\"\"\n",
        "        self._history_dict[history[\"model_name\"]] = history\n",
        "        self.color_list = list(mcolors.TABLEAU_COLORS.keys())\n",
        "\n",
        "    def plot(self, models, show_smooth=True, smooth_val=0.90):\n",
        "        \"\"\"\n",
        "        Plot informatiom from self._history_dict.\n",
        "        models: list of model_name (len <= 5, or extend color_list)\n",
        "        \"\"\"\n",
        "        fig, ax = plt.subplots(3, 1, figsize=(10, 10))\n",
        "        for model_num, model_name in enumerate(models):\n",
        "            history = self._history_dict[model_name]\n",
        "            for idx, (key, title) in enumerate(\n",
        "                zip([\"loss_on_train\", \"loss_on_test\"], [\"train loss\", \"test loss\"])\n",
        "            ):\n",
        "                epoch_len = len(history[key]) // history[\"epoсhs\"]\n",
        "                loss_len = len(history[key])\n",
        "                ticks_positions = np.arange(history[\"epoсhs\"] + 1)\n",
        "\n",
        "                if show_smooth:\n",
        "                    x = np.arange(len(history[key])) / epoch_len\n",
        "                    # Plot train loss and test loss:\n",
        "                    # 1. plot smoothing vals\n",
        "                    ax[idx].plot(\n",
        "                        x,\n",
        "                        exponential_smoothing(history[key], smooth_val),\n",
        "                        label=model_name + \" smoothed\",\n",
        "                        color=self.color_list[2 * model_num + idx],\n",
        "                    )\n",
        "                    # 2. plot raw vals\n",
        "                    ax[idx].plot(\n",
        "                        x,\n",
        "                        history[key],\n",
        "                        label=model_name + \" raw\",\n",
        "                        alpha=0.2,\n",
        "                        color=self.color_list[2 * model_num + idx],\n",
        "                    )\n",
        "                    # 3. add descriptions if it is nesessary\n",
        "                    if not ax[idx].title.get_text():\n",
        "                        ax[idx].set_title(title)\n",
        "                        ax[idx].set_xlabel(\"epochs\")\n",
        "                        ax[idx].set_ylabel(\"loss\")\n",
        "                        ax[idx].set_xticks(ticks_positions)\n",
        "                        ax[idx].set_xticklabels(np.arange(history[\"epoсhs\"] + 1))\n",
        "                    ax[idx].legend()\n",
        "\n",
        "                # Plot mean train and test loss combined:\n",
        "                # 1. calculate mean and std\n",
        "                mean_loss_on_epoch = [\n",
        "                    np.mean(history[key][i : i + epoch_len])\n",
        "                    for i in range(0, loss_len, epoch_len)\n",
        "                ]\n",
        "                std_loss_on_epoch = [\n",
        "                    np.std(history[key][i : i + epoch_len])\n",
        "                    for i in range(0, loss_len, epoch_len)\n",
        "                ]\n",
        "                # 2. plot\n",
        "                ax[2].errorbar(\n",
        "                    np.arange(history[\"epoсhs\"]) + idx / 30.0,\n",
        "                    mean_loss_on_epoch,\n",
        "                    yerr=std_loss_on_epoch,\n",
        "                    capsize=5,\n",
        "                    fmt=\"X--\",\n",
        "                    label=model_name + \" \" + title,\n",
        "                )\n",
        "                # 3. add descriptions if it is necessary\n",
        "                if not ax[2].title.get_text():\n",
        "                    ax[2].set_title(\"\\nAverage loss per epoch\", {\"fontsize\": 12})\n",
        "                    ax[2].set_xticks(np.arange(history[\"epoсhs\"]))\n",
        "                    ax[2].set_xticklabels(np.arange(history[\"epoсhs\"]))\n",
        "                    ax[2].set_xlabel(\"epochs\")\n",
        "                    ax[2].set_ylabel(\"loss\")\n",
        "                ax[2].legend()\n",
        "        plt.subplots_adjust(hspace=0.4)\n",
        "        plt.show()"
      ]
    },
    {
      "cell_type": "code",
      "source": [
        "history_plotter = HistoryPlotter()"
      ],
      "metadata": {
        "id": "Smk10VuY-ZXO"
      },
      "execution_count": null,
      "outputs": []
    },
    {
      "cell_type": "code",
      "execution_count": null,
      "metadata": {
        "id": "Er8el8R9Ysjn",
        "colab": {
          "base_uri": "https://localhost:8080/"
        },
        "outputId": "6a4cfc35-6b3d-4210-daf0-304bd161210e"
      },
      "outputs": [
        {
          "output_type": "stream",
          "name": "stdout",
          "text": [
            "Already downloaded!\n"
          ]
        }
      ],
      "source": [
        "import torch\n",
        "import torchvision\n",
        "import torchvision.transforms as transforms\n",
        "from IPython.display import clear_output\n",
        "from torch.utils.data import DataLoader, random_split\n",
        "from torchvision.datasets import MNIST\n",
        "\n",
        "# transforms for data\n",
        "transform = transforms.Compose(\n",
        "    [transforms.ToTensor(), transforms.Normalize((0.13), (0.3))]\n",
        ")\n",
        "\n",
        "data_set = MNIST(root=\"./MNIST\", train=True, download=True, transform=transform)\n",
        "train_set, val_set = random_split(\n",
        "    data_set, [0.8, 0.2], generator=torch.Generator().manual_seed(42)\n",
        ")\n",
        "test_set = MNIST(root=\"./MNIST\", train=False, download=True, transform=transform)\n",
        "\n",
        "batch_size = 32\n",
        "train_loader = DataLoader(train_set, batch_size=batch_size, shuffle=True, num_workers=2)\n",
        "val_loader = DataLoader(val_set, batch_size=batch_size, shuffle=False, num_workers=2)\n",
        "test_loader = DataLoader(test_set, batch_size=batch_size, shuffle=False, num_workers=2)\n",
        "\n",
        "clear_output()\n",
        "print(\"Already downloaded!\")"
      ]
    },
    {
      "cell_type": "code",
      "execution_count": null,
      "metadata": {
        "id": "7_QwRtcgYsjo"
      },
      "outputs": [],
      "source": [
        "!pip install -q lightning tbparse\n",
        "clear_output()"
      ]
    },
    {
      "cell_type": "code",
      "execution_count": null,
      "metadata": {
        "id": "n9EnI_7gYsjo"
      },
      "outputs": [],
      "source": [
        "import torch\n",
        "from torch import nn\n",
        "import lightning as L\n",
        "\n",
        "\n",
        "class Pipeline(L.LightningModule):\n",
        "    def __init__(\n",
        "        self,\n",
        "        model,\n",
        "        exp_name=\"baseline\",\n",
        "        criterion=nn.CrossEntropyLoss(),\n",
        "        optimizer_class=torch.optim.SGD,\n",
        "        optimizer_kwargs={\"lr\": 0.001},\n",
        "    ) -> None:\n",
        "        super().__init__()\n",
        "        self.model = model\n",
        "        self.criterion = criterion\n",
        "        self.optimizer_class = optimizer_class\n",
        "        self.optimizer_kwargs = optimizer_kwargs\n",
        "\n",
        "        # Additionally, we will save training logs “manually”\n",
        "        # for visualization within the lecture. Please limit yourself\n",
        "        # to the native training logging tools from PytorchLightning\n",
        "        # when training your own models.\n",
        "        self.history = {\"loss_on_train\": [], \"loss_on_test\": [], \"model_name\": exp_name}\n",
        "\n",
        "    def configure_optimizers(self):\n",
        "        optimizer = self.optimizer_class(\n",
        "            self.model.parameters(), **self.optimizer_kwargs\n",
        "        )\n",
        "        return optimizer\n",
        "\n",
        "    def training_step(self, batch, batch_idx):\n",
        "        x, y = batch\n",
        "        out = self.model(x)\n",
        "        loss = self.criterion(out, y)\n",
        "        self.log(\"loss_on_train\", loss, prog_bar=True)\n",
        "\n",
        "        # aux logging for lecture visualization\n",
        "        self.history[\"loss_on_train\"].append(loss.cpu().detach().item())\n",
        "        return loss\n",
        "\n",
        "    def validation_step(self, batch, batch_idx):\n",
        "        x, y = batch\n",
        "        out = self.model(x)\n",
        "        loss = self.criterion(out, y)\n",
        "        self.log(\"loss_on_test\", loss, prog_bar=True)\n",
        "\n",
        "        # aux logging for lecture visualization\n",
        "        self.history[\"loss_on_test\"].append(loss.cpu().detach().item())"
      ]
    },
    {
      "cell_type": "markdown",
      "metadata": {
        "id": "rm2n78PhYsju"
      },
      "source": [
        "# Слои нормализации"
      ]
    },
    {
      "cell_type": "markdown",
      "metadata": {
        "id": "nuAVV3efYsju"
      },
      "source": [
        "## Internal covariate shift"
      ]
    },
    {
      "cell_type": "markdown",
      "source": [
        "\n",
        "**Ковариантный сдвиг** — явление, когда признаки тренировочной и тестовой выборок **распределены по-разному**. Из-за этого мы можем получать плохие предсказания на тестовой выборке, когда модель просто не знает, что признаки могут находиться в другом распределении. [Подробнее 🎓[article]](https://www.researchgate.net/publication/339021786_Covariate_Shift_A_Review_and_Analysis_on_Classifiers)"
      ],
      "metadata": {
        "id": "FKOqhRSUQ2pt"
      }
    },
    {
      "cell_type": "markdown",
      "source": [
        "<center><img src =\"https://ml.gan4x4.ru/msu/dev-2.2/L04/out/covariate_shift.png\" width=\"500\"></center>\n",
        "\n"
      ],
      "metadata": {
        "id": "HCfq9iSpQk15"
      }
    },
    {
      "cell_type": "markdown",
      "metadata": {
        "id": "hvtMsLFuYsju"
      },
      "source": [
        "\n",
        "\n",
        "В [статье про Batch Normalization 🎓[arxiv]](https://arxiv.org/pdf/1502.03167.pdf) авторы предположили, что похожее явление имеет место внутри нейросети, назвав его **internal covariate shift**.\n",
        "\n",
        "**Internal covariate shift** — это изменение распределения выхода слоя активации из-за изменения обучаемых параметров во время обучения.\n",
        "\n"
      ]
    },
    {
      "cell_type": "markdown",
      "metadata": {
        "id": "FvmWspFiYsju"
      },
      "source": [
        "<img src =\"https://ml.gan4x4.ru/msu/dev-2.2/L07/out/internal_covariate_shift_example.png\" width=\"1000\">"
      ]
    },
    {
      "cell_type": "markdown",
      "metadata": {
        "id": "98HoFIMXYsju"
      },
      "source": [
        "Пусть у нас $k$-ый нейрон $i$-го слоя переводит выход $i$−1 слоя с распределениями <font color='#F9B041'>$f^{(j)}_{i-1}(x)$</font> в новое пространство с распределением <font color='#5D5DA6'>$f^{(k)}_{i}(x)$</font>.\n",
        "\n",
        "При обучении:\n",
        "- нейросеть делает предсказание,\n",
        "- считается значение функции потерь,\n",
        "- делается обратное распространение ошибки,\n",
        "- обновляются веса.\n",
        "\n",
        "\n",
        "После обновления весов $k$-ый нейрон $i$-го слоя будет переводить выходы $i$−1 слоя <font color='#F9B041'>$f^{(j)}_{i-1}(x)$</font> в пространство с другим распределением <font color='#5D5DA6'>$f^{*(k)}_{i}(x)$</font>.\n",
        "\n",
        "При этом $i$+1 слой учился работать со старым распределением  <font color='#5D5DA6'>$f^{(k)}_{i}(x)$</font>, и будет хуже обрабатывать <font color='#5D5DA6'>$f^{*(k)}_{i}(x)$</font>."
      ]
    },
    {
      "cell_type": "markdown",
      "metadata": {
        "id": "UgVlucYSYsju"
      },
      "source": [
        "### Плохой вариант борьбы с этим"
      ]
    },
    {
      "cell_type": "markdown",
      "metadata": {
        "id": "Gi_B2yoTYsju"
      },
      "source": [
        "Давайте на каждом слое нормировать **каждый признак** (выход каждого нейрона), используя среднее и дисперсию по батчу:\n",
        "\n",
        "$$ \\hat{x}_{i} = \\frac{x_{i} - \\mu_{B}}{\\sigma_{B} + \\epsilon}$$\n",
        "\n",
        "\n"
      ]
    },
    {
      "cell_type": "markdown",
      "metadata": {
        "id": "CYVSCc94Ysju"
      },
      "source": [
        "Проблема в том, что таким образом мы можем попасть в область линейной составляющей нашей функции. Например, в случае сигмоиды:"
      ]
    },
    {
      "cell_type": "markdown",
      "metadata": {
        "id": "NqGrefjvYsju"
      },
      "source": [
        "<center><img src =\"https://ml.gan4x4.ru/msu/dev-2.2/L07/out/domain_of_linear_of_sigmoid_function.png\" width=\"500\"></center>"
      ]
    },
    {
      "cell_type": "markdown",
      "metadata": {
        "id": "K06EFsH-Ysju"
      },
      "source": [
        "Получаем набор линейных слоев фактически без функций активации, следовательно, все вырождается в однослойную сеть. Не то, что нам надо."
      ]
    },
    {
      "cell_type": "markdown",
      "metadata": {
        "id": "VFGvPcKhYsju"
      },
      "source": [
        "## Batch Normalization"
      ]
    },
    {
      "cell_type": "markdown",
      "metadata": {
        "id": "JQYgll9RYsju"
      },
      "source": [
        "Нам надо дать нейронной сети **возможность перемещать распределение выходов** слоя из области $0$ и самой **подбирать дисперсию**. Для этой цели используется **батч-нормализация** (*batch normalization*), которая вводит в нейронную сеть дополнительную операцию между соседними скрытыми слоями. Она состоит из **нормализации** входящих (в слой батч-нормализации) значений, полученных от скрытого слоя, **масштабирования** и **сдвига** с применением двух новых параметров и передачи полученных значений на вход следующему скрытому слою."
      ]
    },
    {
      "cell_type": "markdown",
      "metadata": {
        "id": "WLYBWxZBYsju"
      },
      "source": [
        " <center><img src =\"https://ml.gan4x4.ru/msu/dev-2.2/L07/out/batchnormalization.png\" width=\"400\"> </center>"
      ]
    },
    {
      "cell_type": "markdown",
      "metadata": {
        "id": "PJ-lMfFmYsju"
      },
      "source": [
        "Параметры, используемые в батч-нормализации ($\\gamma$ — отвечающий за **сжатие** и $\\beta$ — отвечающий за **сдвиг**), являются **обучаемыми параметрами** (наподобие весов и смещений скрытых слоев).\n",
        "\n",
        "Помимо обучаемых параметров $\\gamma$ и $\\beta$ в слое батч-нормализации существуют также необучаемые параметры: **скользящее среднее матожидания** (_Mean Moving Average_) и **скользящее среднее дисперсий** (_Variance Moving Average_), служащие для сохранения состояния слоя батч-нормализации."
      ]
    },
    {
      "cell_type": "markdown",
      "metadata": {
        "id": "Wck5XbE4Ysju"
      },
      "source": [
        "<img src =\"https://ml.gan4x4.ru/msu/dev-2.2/L07/out/batchnorm_layer_parameters.png\" width=\"900\">"
      ]
    },
    {
      "cell_type": "markdown",
      "metadata": {
        "id": "A1VeHKbDYsjv"
      },
      "source": [
        "Параметры $\\gamma$, $\\beta$, а также оба скользящих средних вычисляются для каждого слоя батч-нормализации отдельно и являются векторами с **длиной, равной количеству входящих признаков.**\n",
        "\n",
        "В процессе обучения мы подаем в нейронную сеть **по одному мини-батчу за раз**. Процедуру обработки значений одного признака $x^{(k)}$ (фиолетовая колонка на изображении ниже), который для краткости мы будем обозначать $x$,  из одного мини-батча $ B = \\{x_{1},\\ldots, x_{m}\\} $ можно представить следующим образом:\n",
        "\n"
      ]
    },
    {
      "cell_type": "markdown",
      "metadata": {
        "id": "VojoUVtMYsjv"
      },
      "source": [
        "<img src =\"https://ml.gan4x4.ru/msu/dev-2.2/L07/out/batch_normalization_compute_moving_average.png\" width=\"1000\">"
      ]
    },
    {
      "cell_type": "markdown",
      "metadata": {
        "id": "zK3H0pbhYsjv"
      },
      "source": [
        "Шаг **масштабирования** Gamma ($γ$) и шаг **сдвига** Beta ($β$) являются главным новшеством батч-нормализации, поскольку, в отличие от предыдущего рассмотренного примера, нормированные значения больше не обязаны иметь среднее, равное $0$, и единичную дисперсию. Батч-нормализация позволяет сдвигать среднее нормированных значений и масштабировать дисперсию. Фактически теперь **нейросеть даже может отменить нормализацию входных данных, если считает ее ненужной.**\n",
        "\n",
        "Для наглядности проиллюстрируем размерности промежуточных переменных на следующем изображении:"
      ]
    },
    {
      "cell_type": "markdown",
      "metadata": {
        "id": "MbKhmiihYsjv"
      },
      "source": [
        "<img src =\"https://ml.gan4x4.ru/msu/dev-2.2/L07/out/batch_normalization_compute_moving_average_scheme.png\" width=\"1000\">"
      ]
    },
    {
      "cell_type": "markdown",
      "metadata": {
        "id": "Lq7C3PPrYsjv"
      },
      "source": [
        "После прямого прохода параметры $\\gamma$ и $\\beta$ **обновляются через обратное распространение ошибки** так же, как и веса скрытых слоев."
      ]
    },
    {
      "cell_type": "markdown",
      "metadata": {
        "id": "aG9DQ9AWYsjv"
      },
      "source": [
        "### Скользящее среднее"
      ]
    },
    {
      "cell_type": "markdown",
      "metadata": {
        "id": "cmEYfM_AYsjv"
      },
      "source": [
        "Выше мы обсуждали то, что в процессе обучения слой **батч-нормализации** рассчитывает значение **среднего и дисперсии** каждого признака в соответствующем **мини-батче**. Предположим, нам нужно сделать предсказание на **одном объекте**. Во время предсказания батч у нас уже отсутствует. Откуда брать среднее и дисперсию?\n",
        "\n",
        "Во время предсказания используется **скользящее среднее**, которое было **рассчитано и сохранено в процессе обучения**.\n",
        "\n",
        "$$\\large \\mu_{mov_{B}} = (1-\\alpha)\\mu_{mov_{B-1}}+\\alpha\\mu_{B} $$\n",
        "\n",
        "$$\\large \\sigma_{mov_{B}} = (1-\\alpha)\\sigma_{mov_{B-1}}+\\alpha\\sigma_{B} $$\n",
        "\n",
        "Обычно используется параметр $\\alpha = 0.1$"
      ]
    },
    {
      "cell_type": "markdown",
      "metadata": {
        "id": "aQuMkLOvYsjv"
      },
      "source": [
        "Для перевода модели из режима обучения в режим тестирования и обратно в PyTorch используются `model.train()` и `model.eval()`.\n",
        "\n",
        "$$\n",
        "\\begin{array}{c|c}\n",
        "\\large{\\text{model.train()}}&\\ \\large{\\text{model.eval()}}\\\\  \\hline\n",
        "\\large{\\text{Батч-нормализация использует статистику по батчу}}&\\large{\\text{Батч-нормализация использует скользящие средние}}\\\\\n",
        "\\large{\\text{Cкользящие средние копятся}}\n",
        "\\end{array}\n",
        "$$\n",
        "\n"
      ]
    },
    {
      "cell_type": "markdown",
      "metadata": {
        "id": "RiZrbgLCYsjv"
      },
      "source": [
        "Почему используется именно **скользящее среднее**, а **не статистика всей обучающей выборки**?\n",
        "\n",
        "При таком подходе нам бы пришлось хранить **средние всех признаков** для **всех батчей**, пропущенных через нейросеть в ходе обучения. Это невыгодно по памяти. Вместо этого **скользящее среднее** выступает в качестве приближенной оценки **среднего и дисперсии** обучающего набора. В этом случае эффективность использования ресурсов увеличивается: нам нужно **хранить в памяти только одно число** — значение скользящего среднего, полученное на последнем шаге."
      ]
    },
    {
      "cell_type": "markdown",
      "metadata": {
        "id": "aLWR7f3KYsjv"
      },
      "source": [
        "Проиллюстрировать преимущество использования скользящего среднего можно на следующем примере:\n",
        "\n",
        "Предположим, что у нас есть массив объектов, обладающих некоторым признаком $x$ (обучающая выборка), и некоторый черный ящик, извлекающий по $k$ объектов из этого массива (Dataloader). Наша задача — дать оценку ожидаемому среднему этих $k$ объектов. В данном примере для простоты будем извлекать $k$ объектов из некоего распределения случайным образом."
      ]
    },
    {
      "cell_type": "code",
      "execution_count": null,
      "metadata": {
        "id": "YlzWRKgjYsjv",
        "colab": {
          "base_uri": "https://localhost:8080/",
          "height": 430
        },
        "outputId": "0d50a30b-3f45-4e34-9e45-c751f84e6c52"
      },
      "outputs": [
        {
          "output_type": "display_data",
          "data": {
            "text/plain": [
              "<Figure size 640x480 with 1 Axes>"
            ],
            "image/png": "[encoded data removed]"
          },
          "metadata": {}
        }
      ],
      "source": [
        "import numpy as np\n",
        "import seaborn as sns\n",
        "import matplotlib.pyplot as plt\n",
        "\n",
        "k = 500  # sample size\n",
        "n = 2\n",
        "p = 0.5\n",
        "\n",
        "sample = np.random.negative_binomial(n, p, k)\n",
        "sns.histplot(data=sample, discrete=True)\n",
        "plt.show()"
      ]
    },
    {
      "cell_type": "markdown",
      "metadata": {
        "id": "vKVdp9otYsjv"
      },
      "source": [
        "Оценить ожидаемое среднее теоретически, не зная, как распределен признак $x$ наших объектов, трудно. Мы можем собрать **большое количество средних** и произвести оценку с их помощью, но для этого нам потребуется хранить в памяти все эти значения, что приведет к неэффективному расходу ресурсов. Более эффективным решением будет воспользоваться **скользящим средним**. Давайте сравним эти два метода:"
      ]
    },
    {
      "cell_type": "code",
      "execution_count": null,
      "metadata": {
        "id": "b0hMgfMuYsjv"
      },
      "outputs": [],
      "source": [
        "ema = 0\n",
        "alpha = 0.01\n",
        "means = np.array([])\n",
        "\n",
        "for i in range(10000):\n",
        "    sample = np.random.negative_binomial(n, p, 50)\n",
        "    ema = (1 - alpha) * ema + alpha * sample.mean()\n",
        "    means = np.append(means, sample.mean())"
      ]
    },
    {
      "cell_type": "markdown",
      "metadata": {
        "id": "BCIQrJk2Ysjv"
      },
      "source": [
        "Посчитаем количество памяти, затрачиваемое на хранение списка средних значений признака $x$ по выборкам из $k$ объектов, и **количество памяти**, затрачиваемое на хранение **скользящего среднего**:"
      ]
    },
    {
      "cell_type": "code",
      "execution_count": null,
      "metadata": {
        "id": "17N847huYsjv",
        "colab": {
          "base_uri": "https://localhost:8080/"
        },
        "outputId": "31582749-71fa-44e3-8848-cea2d88f715b"
      },
      "outputs": [
        {
          "output_type": "stream",
          "name": "stdout",
          "text": [
            "32 bytes\n"
          ]
        }
      ],
      "source": [
        "import sys\n",
        "\n",
        "print(f\"{sys.getsizeof(ema)} bytes\")"
      ]
    },
    {
      "cell_type": "markdown",
      "metadata": {
        "id": "Vw-hAd9WYsjv"
      },
      "source": [
        "Количество памяти для хранения **списка средних**:"
      ]
    },
    {
      "cell_type": "code",
      "execution_count": null,
      "metadata": {
        "id": "Uk7RpWlXYsjv",
        "colab": {
          "base_uri": "https://localhost:8080/"
        },
        "outputId": "28009a64-2846-4912-a350-08faa1762fad"
      },
      "outputs": [
        {
          "output_type": "stream",
          "name": "stdout",
          "text": [
            "80112 bytes\n"
          ]
        }
      ],
      "source": [
        "print(f\"{sys.getsizeof(means)} bytes\")"
      ]
    },
    {
      "cell_type": "markdown",
      "metadata": {
        "id": "EX52yOc4Ysjv"
      },
      "source": [
        "Видно, что на хранение массива средних значений расходуется на порядки больше памяти, чем на хранение одного скользящего среднего. Теперь давайте воспользуемся тем, что мы сэмплировали случайные выборки из известного распределения, и можем теоретически рассчитать их среднее. В нашем примере мы извлекали выборки из негативного биномиального распределения с параметрами $n=2$ и $p=0.5$, для которого среднее рассчитывается по формуле: $$\\text{mean}=\\dfrac{np}{1-p}=2.$$\n",
        "\n",
        "Мы знаем, что при достаточно большом количестве сэмплированных выборок среднее распределения выборочных средних будет стремиться к среднему генеральной совокупности. Сравним результаты, полученные с использованием сохраненных выборочных средних и скользящего среднего с теоретическим расчетом:"
      ]
    },
    {
      "cell_type": "markdown",
      "metadata": {
        "id": "2FkFO_aVYsjv"
      },
      "source": [
        "Среднее признака $x$ по $k$ объектам, оцененное с помощью **скользящего среднего**:"
      ]
    },
    {
      "cell_type": "code",
      "execution_count": null,
      "metadata": {
        "id": "ijaZVj_yYsjv",
        "colab": {
          "base_uri": "https://localhost:8080/"
        },
        "outputId": "5d0a8a12-9dbf-4c71-ca12-d3a55f74311a"
      },
      "outputs": [
        {
          "output_type": "stream",
          "name": "stdout",
          "text": [
            "1.98820216\n"
          ]
        }
      ],
      "source": [
        "print(f\"{ema:.8f}\")"
      ]
    },
    {
      "cell_type": "markdown",
      "metadata": {
        "id": "oFro2ejXYsjv"
      },
      "source": [
        "Среднее признака $x$ по $k$ объектам, **оцененное по всем сэмплированным выборкам**:"
      ]
    },
    {
      "cell_type": "code",
      "execution_count": null,
      "metadata": {
        "id": "Lov-P_UDYsjv",
        "colab": {
          "base_uri": "https://localhost:8080/"
        },
        "outputId": "2a43299d-8a1e-4fe4-fef2-0aef1b752712"
      },
      "outputs": [
        {
          "output_type": "stream",
          "name": "stdout",
          "text": [
            "1.99826400\n"
          ]
        }
      ],
      "source": [
        "print(f\"{means.mean():.8f}\")"
      ]
    },
    {
      "cell_type": "markdown",
      "metadata": {
        "id": "o0ZVijt7Ysjw"
      },
      "source": [
        "Видно, что мы получили довольно точную оценку, использовав скользящее среднее."
      ]
    },
    {
      "cell_type": "markdown",
      "metadata": {
        "id": "aP8KuLpuYsjw"
      },
      "source": [
        "### Защита от нулей в знаменателе"
      ]
    },
    {
      "cell_type": "markdown",
      "metadata": {
        "id": "zCGxZdZDYsjw"
      },
      "source": [
        "Чтобы у нас не мог возникнуть $0$ в знаменателе, добавляем маленькое число — $\\epsilon$. Например, $\\epsilon = 10^{-5}$.\n",
        "\n",
        "\n",
        "$$\\large \\hat{x}_{i} = \\frac{x_{i} - \\mu_{B}}{\\sigma_{B} + \\epsilon}$$\n",
        "\n",
        "$$\\large \\text{BN}_{\\gamma, \\beta}(x_{i}) = \\gamma \\hat{x}_{i} + \\beta $$"
      ]
    },
    {
      "cell_type": "markdown",
      "metadata": {
        "id": "Eyz08FCBYsjw"
      },
      "source": [
        "### Пример работы"
      ]
    },
    {
      "cell_type": "markdown",
      "metadata": {
        "id": "F2MKbl3dYsjw"
      },
      "source": [
        "<center><img src =\"https://ml.gan4x4.ru/msu/dev-2.2/L07/out/batchnorm_efficiency.png\" width=\"550\">\n",
        "\n",
        "<em>Обучение нейронной сети с BN позвляет увеличить lr в 30 раз, сохранив стабильность обучения</em>\n",
        "\n",
        "<em>Source: <a href=\"https://arxiv.org/pdf/1502.03167.pdf\">Batch Normalization: Accelerating Deep Network Training by Reducing Internal Covariate Shift</a></em></center>\n",
        "\n"
      ]
    },
    {
      "cell_type": "markdown",
      "metadata": {
        "id": "w7wX1gwkYsjw"
      },
      "source": [
        "Этот метод действительно работает.\n",
        "Видим, что нейросети с батч-нормализацией:\n",
        "\n",
        "1. **Сходятся быстрее**, чем нейросети без неё.\n",
        "2. Могут работать с **более высоким начальным значением learning rate**, причем это позволяет достигать лучших результатов.\n",
        "3. Работают даже с функцией активации в виде **сигмоиды**. Без **BatchNorm** такая сеть не обучилась бы вовсе."
      ]
    },
    {
      "cell_type": "markdown",
      "metadata": {
        "id": "ZxslgtHdYsjw"
      },
      "source": [
        "### Градиент"
      ]
    },
    {
      "cell_type": "markdown",
      "metadata": {
        "id": "7MrNB4_tYsjw"
      },
      "source": [
        "Вычисление **градиента BatchNorm** — интересное упражнение на понимание того, как работает **backpropagation**. В лекции мы это опускаем, можете ознакомиться самостоятельно:\n",
        "\n",
        "[[blog] ✏️ Deriving the Gradient for the Backward Pass of Batch Normalization](https://kevinzakka.github.io/2016/09/14/batch_normalization/)\n",
        "\n"
      ]
    },
    {
      "cell_type": "markdown",
      "metadata": {
        "id": "IcpaLD9nYsjw"
      },
      "source": [
        "### Batch Normalization как регуляризация"
      ]
    },
    {
      "cell_type": "markdown",
      "metadata": {
        "id": "j9-YunkPYsjw"
      },
      "source": [
        "Почему для нейросети с батч-нормализацией можно использовать более высокие learning rate?\n",
        "\n",
        "Оказывается, **батч-нормализация** делает **неявную регуляризацию на веса**.\n",
        "\n"
      ]
    },
    {
      "cell_type": "markdown",
      "metadata": {
        "id": "SXVa1DHSYsjw"
      },
      "source": [
        "Вспомним формулы:\n",
        "\n",
        "$$ \\hat{x}_{i} = \\frac{x_{i} - \\mu_{B}}{\\sigma_{B} + \\epsilon}$$\n",
        "\n",
        "$$ \\text{BN}_{\\gamma, \\beta}(x_{i}) = \\gamma \\hat{x}_{i} + \\beta $$"
      ]
    },
    {
      "cell_type": "markdown",
      "metadata": {
        "id": "XbaSGNL_Ysjw"
      },
      "source": [
        "Так как мы шкалируем, то домножение весов $W$ на константу $a$ не меняет выходные значения слоя:\n",
        "\n",
        "$$BN((aW)u) = BN(Wu)$$"
      ]
    },
    {
      "cell_type": "markdown",
      "metadata": {
        "id": "PxLSsTYpYsjw"
      },
      "source": [
        "Градиент слоя по входу не меняется:\n",
        "\n",
        "$$\\dfrac {\\partial BN((aW)u)} {\\partial u} = \\dfrac {\\partial BN(Wu)} {\\partial u}$$"
      ]
    },
    {
      "cell_type": "markdown",
      "metadata": {
        "id": "sePja_gUYsjw"
      },
      "source": [
        "А **градиент по весам уменьшается** в $a$ раз:\n",
        "\n",
        "$$\\dfrac {\\partial BN((aW)u)} {\\partial aW} = \\dfrac 1 a \\dfrac {\\partial BN(Wu)} {\\partial W} $$"
      ]
    },
    {
      "cell_type": "markdown",
      "metadata": {
        "id": "7GGcg8NvYsjw"
      },
      "source": [
        "Таким образом, нейросеть автоматически не дает большим весам расти."
      ]
    },
    {
      "cell_type": "markdown",
      "metadata": {
        "id": "saqrkz2GYsjw"
      },
      "source": [
        "### Сглаживающий эффект Batch Normalization"
      ]
    },
    {
      "cell_type": "markdown",
      "metadata": {
        "id": "psFQ5LZOYsjw"
      },
      "source": [
        "**Batch Normalization** была разработана на идее необходимости коррекции **Internal covariate shift**. В 2019 году вышла [статья 🎓[arxiv]](https://arxiv.org/pdf/1805.11604.pdf), которая показала, что влияние коррекции **Internal covariate shift** на качество обучения не так велико, как считали авторы **Batch Normalization**.\n",
        "\n",
        "Другим интересным эффектом Batch Normalization оказалось **сглаживание ландшафта** функции потерь. Batch Normalization улучшает гладкость пространства решений и облегчает поиск в нем минимума. Именно благодаря сглаживанию ландшафта Batch Normalization справляется с затуханием и взрывом градиента.\n"
      ]
    },
    {
      "cell_type": "markdown",
      "metadata": {
        "id": "F5rL0vMbYsjx"
      },
      "source": [
        "<center><img src =\"https://ml.gan4x4.ru/msu/dev-2.2/L07/out/batchnorm_helps_find_minimum_of_function.jpg\" width=\"900\"></center>"
      ]
    },
    {
      "cell_type": "markdown",
      "metadata": {
        "id": "UcW9mNpyYsjx"
      },
      "source": [
        "### Советы по использованию Batch Normalization"
      ]
    },
    {
      "cell_type": "markdown",
      "metadata": {
        "id": "z0eAQXXJYsjx"
      },
      "source": [
        "Стоит помнить, что с батч-нормализацией:\n",
        "\n",
        "* Чем **меньше размер батча в обучении**, тем **хуже** будет работать BatchNormalization."
      ]
    },
    {
      "cell_type": "markdown",
      "metadata": {
        "id": "xsOVQU4aYsjx"
      },
      "source": [
        "<center><img src =\"https://ml.gan4x4.ru/msu/dev-2.2/L07/out/batchnorm_batch_size.png\" width=\"500\"></center>\n",
        "\n",
        "<center><em>Source: <a href=\"https://arxiv.org/pdf/1803.08494.pdf\">Group Normalization</a></em></center>\n",
        "\n",
        "\n",
        "\n"
      ]
    },
    {
      "cell_type": "markdown",
      "metadata": {
        "id": "xmK8sGtgYsjx"
      },
      "source": [
        "* В слое, после которого поставили Batch Normalization, можно **убрать bias** (параметр $\\beta$ в BatchNormalization берет эту роль на себя).\n",
        "\n",
        "* Другое расписание **learning rate: большее значение** в начале обучения и быстрое уменьшение в процессе обучения.\n",
        "\n",
        "* Важно перемешивать объекты (составлять новые батчи) между эпохами. Единицей обучения параметров $\\beta$ и $\\gamma$ являются батчи. Если их не перемешивать, то из 6400 объектов в тренировочном датасете получим лишь 100 объектов (при условии, что в батче 64 объекта) для обучения $\\beta$ и $\\gamma$. Данное требование учитывается автоматически при использовании стохастического градиентного спуска в качестве алгоритма оптимизации параметров сети."
      ]
    },
    {
      "cell_type": "markdown",
      "metadata": {
        "id": "UmIsqjC1Ysjx"
      },
      "source": [
        "### Используем Batch Normalization в PyTorch"
      ]
    },
    {
      "cell_type": "markdown",
      "metadata": {
        "id": "pHiMU_TUYsjx"
      },
      "source": [
        "Так как наша модель из-за **Batch Normalization** ведет себя по-разному во время **обучения** и во время **тестирования**, мы должны прямо ей сообщать, обучается она сейчас или нет. Делается это при помощи функций `model.train` и `model.eval`"
      ]
    },
    {
      "cell_type": "markdown",
      "metadata": {
        "id": "O-tnriLzYsjx"
      },
      "source": [
        "```python\n",
        "# pseudocode for training a model in pure pytorch\n",
        "def train(model, optimizer, criterion, train_loader, val_loader):\n",
        "    for epoch in range(epochs):\n",
        "        model.train()\n",
        "        for train_batch in train_loader:\n",
        "            do_train_step(model, train_batch, optimizer, criterion)\n",
        "        \n",
        "        model.eval()\n",
        "        for val_batch in val_loader:\n",
        "            do_test_step(model, val_batch, optimizer, criterion)\n",
        "        \n",
        "```"
      ]
    },
    {
      "cell_type": "markdown",
      "metadata": {
        "id": "_ywmETQ2Ysjx"
      },
      "source": [
        "При использовании для обучения PyTorch Lightning **гарантируется**, что связанный с обучением `training_step()` будет выполнен для модели в состоянии `model.train()` и что связанный с запуском модели на тестовой выборке `validation_step()` будет выполнен для модели в состоянии `model.eval()`. **Это позволяет нам упростить код и не допустить ошибку**."
      ]
    },
    {
      "cell_type": "code",
      "execution_count": null,
      "metadata": {
        "id": "QysV5FlSYsjx"
      },
      "outputs": [],
      "source": [
        "class SimpleMNIST_NN_Batchnorm(nn.Module):\n",
        "    def __init__(self, n_layers):\n",
        "        super().__init__()\n",
        "        self.n_layers = n_layers\n",
        "        layers = [\n",
        "            nn.Linear(28 * 28, 100, bias=False),\n",
        "            nn.BatchNorm1d(100),\n",
        "            nn.Sigmoid(),\n",
        "        ]\n",
        "        for _ in range(0, n_layers - 1):\n",
        "            layers.append(nn.Linear(100, 100, bias=False))\n",
        "            layers.append(nn.BatchNorm1d(100))\n",
        "            layers.append(nn.Sigmoid())\n",
        "        layers.append(nn.Linear(100, 10))\n",
        "        self.layers = nn.Sequential(*layers)\n",
        "\n",
        "    def forward(self, x):\n",
        "        x = x.view(-1, 28 * 28)\n",
        "        x = self.layers(x)\n",
        "        return x"
      ]
    },
    {
      "cell_type": "code",
      "execution_count": null,
      "metadata": {
        "id": "lu9XVu83Ysjx"
      },
      "outputs": [],
      "source": [
        "model_name = \"batchnorm2\"\n",
        "model = SimpleMNIST_NN_Batchnorm(n_layers=3)"
      ]
    },
    {
      "cell_type": "code",
      "execution_count": null,
      "metadata": {
        "id": "v6R4NpEPYsjx",
        "colab": {
          "base_uri": "https://localhost:8080/",
          "height": 639,
          "referenced_widgets": [
            "40e3fc6cbff74d95961c7eca728e8ef5",
            "91f2ffcaa6184eecae26b8def150936d",
            "4d42bc893c2f4f0da6427f6bbbea68f0",
            "b3c672b68fd34608913652996da0e12a",
            "4d03216886fd4d92b69145fee5850b23",
            "7fc22382b2cd4c60a6107c3d12fa5218",
            "8cec6cc04961483bb24a494115ee06bf",
            "658c29f900e842f4886e6908f24aca14",
            "1d260ba145a5486ca46d4dc434c1ddf6",
            "1196b7e84abe4cc3a5ec54d86e94ae38",
            "e19bfee497ba4ca7af303866a4dacf29",
            "13b6066c553e4b3da9fd146a8df6b778",
            "f1fc692e77b341b69928ae31d061cc59",
            "bec74ffee8fa47d4b21b0084ee4bd691",
            "c8abe6a602cb4efebc6fe54d0aed0dab",
            "b68d2c6909a14dc5aef022e16f8de121",
            "eca385600cac445daf42549fd83c39aa",
            "4664eb49818f4f3aaad54b21f2e8958f",
            "2cce9fa41d95414387f7413fa10a9d00",
            "99ae5c47c5e44a98b8ce3c7f94ae01b8",
            "ba85c5f033564db0afb495f8433e6d74",
            "b432aa0d636649c7b007af9936633e57",
            "40b544ee42bc43ff871ce1958353e798",
            "8202f1bd89614a32a35831770c8338b3",
            "1a0c512730f740089839d5172fe42517",
            "d17a17741cf14e3eafa351d0ed53db05",
            "6a7b26046981487b9eaecee286b3f488",
            "69448f4461b44913acdf49ea9e4359b5",
            "9f841d6ba6dc48988cfea94af4cbd118",
            "345108b39b3746ba9433ac44b32c6460",
            "527969ac66894de38b70a8c6ec50c8de",
            "7c7a063978d64372806e7b1cad2a6301",
            "c8ce8a3c78ea4d02983fabe42776f1d2",
            "e19c672b640744e081f2226125b1ef6b",
            "07b4db1df9df4bd2aaf4fbf9a65fc394",
            "eb1765bc82e248e786cd030deb185600",
            "2937c4c0a61f4b44a19192b402b39e29",
            "08328419d7e348c788e722fd52e62b73",
            "482276f3e2cc4927aa6c5a749e2f2544",
            "9b49301767b845b587de53ea0e2dadff",
            "44cfa2d6b65f4b6d9fafe0fd5f64a352",
            "6e7fc338ad3c4e18b090b9d42f45506d",
            "c5afb4075c244cd9837bff101a4a2006",
            "31599648fcb24047b07f168519a846b7",
            "640845793eb14376a8903a764da33086",
            "35c1bb3e9d224f11a6f2319b4a8a3f33",
            "c430b51474b34a6ebf59d0170435860a",
            "87da14564d49413782a4d7e6efc6b062",
            "e7a89597d2354a5dac63fc53e06e4c91",
            "c2b6147070584c358530ee6e094fcbbb",
            "67af3abe49b2499cb0a9161f85a959b7",
            "dc31eec7c84e4e12bc34e21e2c24e190",
            "f3623e415e02466c9befad8288b91da4",
            "8f9d62907193496896c60c2a92ad5125",
            "71644bf7fca94459b271ee5ead152db4",
            "754c68d16a5940719f1e95eb43ade750",
            "02f4347acbf0422cbd47d5900735a5a2",
            "2829f27a60ec4f3aa9703cc02ace06ed",
            "33e919a2c33442a99360c9c97875efa7",
            "8480a5b51c5a4c4dab8156c2db682d9d",
            "2130db0b72c841d6a71a57104e8e6795",
            "04e80cdb71d841198f8b75d133b2aec8",
            "af581f6624a541b8996a6058de66ecea",
            "31fc1d7ed1ab48e7b95b34dcc4b7e444",
            "f1c81f23bcc441f7aac52f9d8409c4bc",
            "b007daffb810470dad33878033893ab0"
          ]
        },
        "outputId": "f5ffc41c-f898-40e2-f32a-468509d791ba"
      },
      "outputs": [
        {
          "output_type": "stream",
          "name": "stderr",
          "text": [
            "INFO: GPU available: True (cuda), used: True\n",
            "INFO:lightning.pytorch.utilities.rank_zero:GPU available: True (cuda), used: True\n",
            "INFO: TPU available: False, using: 0 TPU cores\n",
            "INFO:lightning.pytorch.utilities.rank_zero:TPU available: False, using: 0 TPU cores\n",
            "INFO: HPU available: False, using: 0 HPUs\n",
            "INFO:lightning.pytorch.utilities.rank_zero:HPU available: False, using: 0 HPUs\n",
            "INFO: LOCAL_RANK: 0 - CUDA_VISIBLE_DEVICES: [0]\n",
            "INFO:lightning.pytorch.accelerators.cuda:LOCAL_RANK: 0 - CUDA_VISIBLE_DEVICES: [0]\n",
            "INFO: \n",
            "  | Name      | Type                     | Params | Mode \n",
            "---------------------------------------------------------------\n",
            "0 | model     | SimpleMNIST_NN_Batchnorm | 100 K  | train\n",
            "1 | criterion | CrossEntropyLoss         | 0      | train\n",
            "---------------------------------------------------------------\n",
            "100 K     Trainable params\n",
            "0         Non-trainable params\n",
            "100 K     Total params\n",
            "0.400     Total estimated model params size (MB)\n",
            "13        Modules in train mode\n",
            "0         Modules in eval mode\n",
            "INFO:lightning.pytorch.callbacks.model_summary:\n",
            "  | Name      | Type                     | Params | Mode \n",
            "---------------------------------------------------------------\n",
            "0 | model     | SimpleMNIST_NN_Batchnorm | 100 K  | train\n",
            "1 | criterion | CrossEntropyLoss         | 0      | train\n",
            "---------------------------------------------------------------\n",
            "100 K     Trainable params\n",
            "0         Non-trainable params\n",
            "100 K     Total params\n",
            "0.400     Total estimated model params size (MB)\n",
            "13        Modules in train mode\n",
            "0         Modules in eval mode\n"
          ]
        },
        {
          "output_type": "display_data",
          "data": {
            "text/plain": [
              "Training: |          | 0/? [00:00<?, ?it/s]"
            ],
            "application/vnd.jupyter.widget-view+json": {
              "version_major": 2,
              "version_minor": 0,
              "model_id": "40e3fc6cbff74d95961c7eca728e8ef5"
            }
          },
          "metadata": {}
        },
        {
          "output_type": "display_data",
          "data": {
            "text/plain": [
              "Validation: |          | 0/? [00:00<?, ?it/s]"
            ],
            "application/vnd.jupyter.widget-view+json": {
              "version_major": 2,
              "version_minor": 0,
              "model_id": "13b6066c553e4b3da9fd146a8df6b778"
            }
          },
          "metadata": {}
        },
        {
          "output_type": "display_data",
          "data": {
            "text/plain": [
              "Validation: |          | 0/? [00:00<?, ?it/s]"
            ],
            "application/vnd.jupyter.widget-view+json": {
              "version_major": 2,
              "version_minor": 0,
              "model_id": "40b544ee42bc43ff871ce1958353e798"
            }
          },
          "metadata": {}
        },
        {
          "output_type": "display_data",
          "data": {
            "text/plain": [
              "Validation: |          | 0/? [00:00<?, ?it/s]"
            ],
            "application/vnd.jupyter.widget-view+json": {
              "version_major": 2,
              "version_minor": 0,
              "model_id": "e19c672b640744e081f2226125b1ef6b"
            }
          },
          "metadata": {}
        },
        {
          "output_type": "display_data",
          "data": {
            "text/plain": [
              "Validation: |          | 0/? [00:00<?, ?it/s]"
            ],
            "application/vnd.jupyter.widget-view+json": {
              "version_major": 2,
              "version_minor": 0,
              "model_id": "640845793eb14376a8903a764da33086"
            }
          },
          "metadata": {}
        },
        {
          "output_type": "display_data",
          "data": {
            "text/plain": [
              "Validation: |          | 0/? [00:00<?, ?it/s]"
            ],
            "application/vnd.jupyter.widget-view+json": {
              "version_major": 2,
              "version_minor": 0,
              "model_id": "754c68d16a5940719f1e95eb43ade750"
            }
          },
          "metadata": {}
        },
        {
          "output_type": "stream",
          "name": "stderr",
          "text": [
            "INFO: `Trainer.fit` stopped: `max_epochs=5` reached.\n",
            "INFO:lightning.pytorch.utilities.rank_zero:`Trainer.fit` stopped: `max_epochs=5` reached.\n"
          ]
        }
      ],
      "source": [
        "from lightning.pytorch.loggers import TensorBoardLogger\n",
        "from warnings import simplefilter\n",
        "\n",
        "simplefilter(\"ignore\", category=RuntimeWarning)\n",
        "\n",
        "\n",
        "trainer = L.Trainer(\n",
        "    max_epochs=5,\n",
        "    logger=TensorBoardLogger(save_dir=f\"logs/{model_name}\"),\n",
        "    num_sanity_val_steps=0,\n",
        ")\n",
        "\n",
        "pipeline = Pipeline(model=model, exp_name=model_name)\n",
        "\n",
        "trainer.fit(model=pipeline, train_dataloaders=train_loader, val_dataloaders=val_loader)\n",
        "\n",
        "history = pipeline.history\n",
        "history[\"epoсhs\"] = trainer.max_epochs\n",
        "history_plotter.add(history)"
      ]
    },
    {
      "cell_type": "code",
      "execution_count": null,
      "metadata": {
        "id": "RV2s_YubYsjx",
        "colab": {
          "base_uri": "https://localhost:8080/",
          "height": 872
        },
        "outputId": "97ba5db4-7310-4112-e892-cc43f6831a79"
      },
      "outputs": [
        {
          "output_type": "display_data",
          "data": {
            "text/plain": [
              "<Figure size 1000x1000 with 3 Axes>"
            ],
            "image/png": "[encoded data removed]"
          },
          "metadata": {}
        }
      ],
      "source": [
        "history_plotter.add(history)\n",
        "history_plotter.plot([model_name])"
      ]
    },
    {
      "cell_type": "markdown",
      "metadata": {
        "id": "PpUurN0uYsjx"
      },
      "source": [
        "Попробуем, согласно советам, увеличить learning rate:"
      ]
    },
    {
      "cell_type": "code",
      "execution_count": null,
      "metadata": {
        "id": "SyCsBXCOYsjx",
        "colab": {
          "base_uri": "https://localhost:8080/",
          "height": 639,
          "referenced_widgets": [
            "9578f62f868c4c63b4cd49b01988e56d",
            "a08632a033de41c4939dacaac49ed48c",
            "759e2edaf5b7499a822953b2bc1138d5",
            "51151ca6d751418d8406e052b0dbd07c",
            "f498653fdf8a48b8af492750e359b970",
            "908e73c0c9774dc58a6bb34f2b3225fa",
            "80024106237f4197af6f1db1e20e43e9",
            "c10d861ee877480d9b6b150f7967e7a2",
            "cb499e71005a4f7b95bb04d1b5f823b6",
            "9042471cee6246b1ae5810441d5c1163",
            "bdebfbf5ae154d7db3cadc1bc19069d6",
            "95d4cc041ebf482c8ab91ed37b6d0cb2",
            "b74dfca45bd5463fad5407ac1bf11959",
            "a3330b2d2b8945a7aba90fc2830a9dd8",
            "92229cf07dd24249a18994dd91dd444c",
            "08d3fb151ffb40d482697d274c7ee5d5",
            "0b7d0d82acaf4ff8a6e68baa16b20108",
            "f39e34c0dd9347f18bbb3a0ca09715d8",
            "9753d4ec70f44fe2a6dad3b9d3a84abe",
            "bad0690e05cd421cac0aa2d24684f091",
            "e2f44605407b40139156c03e56e45481",
            "8160d2041ef5471f93686260eb3ba176",
            "af7b94d722cf473ca6167636dc153e27",
            "296e225de41841e88a57f50991e30a8f",
            "309966231055442699690dcf326607e8",
            "fd3de18d0af141e4b3e5356004ca68bd",
            "9329ce8186d64fc2ae22a1ee52cf3259",
            "208bdaec5aed4eb1b490fe7dd4ec7a9d",
            "658a21ebd58042048e823470fef28a30",
            "524add943f394dc79a6e8325fe65b0db",
            "fa8e2dc2573947328020a78c153b77bb",
            "71beeaf248c64094a708a250ff613542",
            "1e6b8e6e827d4a4fb9a27db7a511f21c",
            "14b4224fa5ed446492af127238eef91b",
            "13d585523b4548b1959f31e67faf3fbb",
            "1338e79a41d5423bb1ec6caf3b624c2a",
            "ca0f2c83c2d244d7b4e2e91faf73bae2",
            "c3bd440ccfd64152ba647148de36fc32",
            "1ac70fe169c347a9b18419e85391cc74",
            "37241916d21645b485c9ee86ab23aa63",
            "8d997a68a0cf4bd58d5182558e03159b",
            "5e464369c5aa4e078ef6b1ff6800e910",
            "e9879c15b67b423fb9151175c1a81d7d",
            "00fea950b436438a9c5d4acbfbcfc12e",
            "9057cbc677bb456b935495cf4e2622e9",
            "47ad9137e3e6404895ecd2efd819dcff",
            "5a9dfa25555a41a79c128f03d564e00e",
            "597c8c87b98842db8d2ec8cc024eff78",
            "49103fdc43b641f8bd663ff6633898b6",
            "95b2692211744143bc683145d31b3b5d",
            "7025983d68fe469695f62163f50e7229",
            "ac52f7c24e2f4c1fbad15c3534bfa94f",
            "e0610110df1d422490e7148223ecd53f",
            "ad81cbbfbc574c8581e465f3fbf613c3",
            "a69167da128f4150b0ae41681824fd65",
            "d368b064cda74afba09f14b8d20ace3e",
            "fd3888fd18244e088a72c59eb5bcee3d",
            "fbbdbc03d64a457295068e7321ea7172",
            "8707c364a6304754affc345091daa380",
            "97523350bc19404f8a33c5a6b32ab6cd",
            "ffbed3cacee84fcd8ef8f3f4a6e1d39b",
            "58813e8612084472a53507cc7c48208b",
            "cd237668f3b14dfd8c612698580d6bb2",
            "8ee3e1fdd22d43149f024e6e20983c2e",
            "d97f8b0e75f64fc79adfdc26cfa9db88",
            "cef5d81e4df34e7c9c83701c52c2ba2e"
          ]
        },
        "outputId": "0ae7b2bd-a8de-4db2-c987-bb752492c771"
      },
      "outputs": [
        {
          "output_type": "stream",
          "name": "stderr",
          "text": [
            "INFO: GPU available: True (cuda), used: True\n",
            "INFO:lightning.pytorch.utilities.rank_zero:GPU available: True (cuda), used: True\n",
            "INFO: TPU available: False, using: 0 TPU cores\n",
            "INFO:lightning.pytorch.utilities.rank_zero:TPU available: False, using: 0 TPU cores\n",
            "INFO: HPU available: False, using: 0 HPUs\n",
            "INFO:lightning.pytorch.utilities.rank_zero:HPU available: False, using: 0 HPUs\n",
            "INFO: LOCAL_RANK: 0 - CUDA_VISIBLE_DEVICES: [0]\n",
            "INFO:lightning.pytorch.accelerators.cuda:LOCAL_RANK: 0 - CUDA_VISIBLE_DEVICES: [0]\n",
            "INFO: \n",
            "  | Name      | Type                     | Params | Mode \n",
            "---------------------------------------------------------------\n",
            "0 | model     | SimpleMNIST_NN_Batchnorm | 100 K  | train\n",
            "1 | criterion | CrossEntropyLoss         | 0      | train\n",
            "---------------------------------------------------------------\n",
            "100 K     Trainable params\n",
            "0         Non-trainable params\n",
            "100 K     Total params\n",
            "0.400     Total estimated model params size (MB)\n",
            "13        Modules in train mode\n",
            "0         Modules in eval mode\n",
            "INFO:lightning.pytorch.callbacks.model_summary:\n",
            "  | Name      | Type                     | Params | Mode \n",
            "---------------------------------------------------------------\n",
            "0 | model     | SimpleMNIST_NN_Batchnorm | 100 K  | train\n",
            "1 | criterion | CrossEntropyLoss         | 0      | train\n",
            "---------------------------------------------------------------\n",
            "100 K     Trainable params\n",
            "0         Non-trainable params\n",
            "100 K     Total params\n",
            "0.400     Total estimated model params size (MB)\n",
            "13        Modules in train mode\n",
            "0         Modules in eval mode\n"
          ]
        },
        {
          "output_type": "display_data",
          "data": {
            "text/plain": [
              "Training: |          | 0/? [00:00<?, ?it/s]"
            ],
            "application/vnd.jupyter.widget-view+json": {
              "version_major": 2,
              "version_minor": 0,
              "model_id": "9578f62f868c4c63b4cd49b01988e56d"
            }
          },
          "metadata": {}
        },
        {
          "output_type": "display_data",
          "data": {
            "text/plain": [
              "Validation: |          | 0/? [00:00<?, ?it/s]"
            ],
            "application/vnd.jupyter.widget-view+json": {
              "version_major": 2,
              "version_minor": 0,
              "model_id": "95d4cc041ebf482c8ab91ed37b6d0cb2"
            }
          },
          "metadata": {}
        },
        {
          "output_type": "display_data",
          "data": {
            "text/plain": [
              "Validation: |          | 0/? [00:00<?, ?it/s]"
            ],
            "application/vnd.jupyter.widget-view+json": {
              "version_major": 2,
              "version_minor": 0,
              "model_id": "af7b94d722cf473ca6167636dc153e27"
            }
          },
          "metadata": {}
        },
        {
          "output_type": "display_data",
          "data": {
            "text/plain": [
              "Validation: |          | 0/? [00:00<?, ?it/s]"
            ],
            "application/vnd.jupyter.widget-view+json": {
              "version_major": 2,
              "version_minor": 0,
              "model_id": "14b4224fa5ed446492af127238eef91b"
            }
          },
          "metadata": {}
        },
        {
          "output_type": "display_data",
          "data": {
            "text/plain": [
              "Validation: |          | 0/? [00:00<?, ?it/s]"
            ],
            "application/vnd.jupyter.widget-view+json": {
              "version_major": 2,
              "version_minor": 0,
              "model_id": "9057cbc677bb456b935495cf4e2622e9"
            }
          },
          "metadata": {}
        },
        {
          "output_type": "display_data",
          "data": {
            "text/plain": [
              "Validation: |          | 0/? [00:00<?, ?it/s]"
            ],
            "application/vnd.jupyter.widget-view+json": {
              "version_major": 2,
              "version_minor": 0,
              "model_id": "d368b064cda74afba09f14b8d20ace3e"
            }
          },
          "metadata": {}
        },
        {
          "output_type": "stream",
          "name": "stderr",
          "text": [
            "INFO: `Trainer.fit` stopped: `max_epochs=5` reached.\n",
            "INFO:lightning.pytorch.utilities.rank_zero:`Trainer.fit` stopped: `max_epochs=5` reached.\n"
          ]
        }
      ],
      "source": [
        "model_name = \"batchnorm_increased_lr\"\n",
        "model = SimpleMNIST_NN_Batchnorm(n_layers=3)\n",
        "\n",
        "trainer = L.Trainer(\n",
        "    max_epochs=5,\n",
        "    logger=TensorBoardLogger(save_dir=f\"logs/{model_name}\"),\n",
        "    num_sanity_val_steps=0,\n",
        ")\n",
        "\n",
        "pipeline = Pipeline(model=model, exp_name=model_name, optimizer_kwargs={\"lr\": 1e-2})\n",
        "\n",
        "trainer.fit(model=pipeline, train_dataloaders=train_loader, val_dataloaders=val_loader)\n",
        "\n",
        "history = pipeline.history\n",
        "history[\"epoсhs\"] = trainer.max_epochs\n",
        "history_plotter.add(history)"
      ]
    },
    {
      "cell_type": "code",
      "execution_count": null,
      "metadata": {
        "id": "dkpbvy_yYsjx",
        "colab": {
          "base_uri": "https://localhost:8080/",
          "height": 872
        },
        "outputId": "33b53b5c-5713-4ca4-86a1-bd7f50096e2f"
      },
      "outputs": [
        {
          "output_type": "display_data",
          "data": {
            "text/plain": [
              "<Figure size 1000x1000 with 3 Axes>"
            ],
            "image/png": "[encoded data removed]"
          },
          "metadata": {}
        }
      ],
      "source": [
        "history_plotter.plot([\"batchnorm2\", model_name])"
      ]
    },
    {
      "cell_type": "markdown",
      "metadata": {
        "id": "vod0GE9pYsjx"
      },
      "source": [
        "### Ставить Batch Normalization до или после активации?\n",
        "\n"
      ]
    },
    {
      "cell_type": "markdown",
      "metadata": {
        "id": "GDIfG6lfYsjx"
      },
      "source": [
        "#### До"
      ]
    },
    {
      "cell_type": "markdown",
      "metadata": {
        "id": "0nG1wfJrYsjx"
      },
      "source": [
        "<center><img src =\"https://ml.gan4x4.ru/msu/dev-2.2/L07/out/batchnormalization_before_activation.png\" width=\"350\"></center>"
      ]
    },
    {
      "cell_type": "markdown",
      "metadata": {
        "id": "7wli0eisYsjx"
      },
      "source": [
        "* **Рекомендуется авторами статьи, где предложили Batch Normalization**.\n",
        "* Для **сигмоиды** BN, поставленная после активации, **не решает проблем** сигмоиды.\n",
        "* Во многих сверточных архитектурах, например, [**ResNet** 🎓[arxiv]](https://arxiv.org/pdf/1512.03385.pdf) и [**MobileNetV2** 🎓[arxiv]](https://arxiv.org/pdf/1801.04381.pdf) (изучите на следующих лекциях), Batch Normalization ставится именно так."
      ]
    },
    {
      "cell_type": "markdown",
      "metadata": {
        "id": "Sz-eHJzdYsjx"
      },
      "source": [
        "#### После"
      ]
    },
    {
      "cell_type": "markdown",
      "metadata": {
        "id": "Cd6ZraBRYsjx"
      },
      "source": [
        "<center><img src =\"https://ml.gan4x4.ru/msu/dev-2.2/L07/out/batchnormalization_after_activation.png\" width=\"350\"></center>"
      ]
    },
    {
      "cell_type": "markdown",
      "metadata": {
        "id": "RC_xg-X7Ysjx"
      },
      "source": [
        "* **Аргументация авторов статьи не до конца обоснована**.\n",
        "* Обычно **сигмоиду не используют** в современных нейронных сетях.\n",
        "* Для популярной **ReLU BN**, поставленная до активации, может приводить в определённых случаях к “умирающей **ReLU**”, когда большая часть ее входов меньше $0$, и поэтому через них градиент не проходит."
      ]
    },
    {
      "cell_type": "markdown",
      "metadata": {
        "id": "y0_idfpcYsjy"
      },
      "source": [
        "**BN — before or after ReLU?**\n",
        "\n",
        "<center><img src =\"https://ml.gan4x4.ru/msu/dev-2.1/L07/batchnormalization_before_or_after_relu.png\" width=\"500\">\n",
        "\n",
        "<em>Source: <a href=\"https://github.com/ducha-aiki/caffenet-benchmark/blob/master/batchnorm.md\">BN experiments</a></em></center>"
      ]
    },
    {
      "cell_type": "markdown",
      "metadata": {
        "id": "KxbgmY04Ysjy"
      },
      "source": [
        "**Вывод:** В общем случае стоит располагать слой BN перед активацией, но с этим можно экспериментировать."
      ]
    }
  ]
}