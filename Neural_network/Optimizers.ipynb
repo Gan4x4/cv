{
  "nbformat": 4,
  "nbformat_minor": 0,
  "metadata": {
    "colab": {
      "provenance": [],
      "toc_visible": true,
      "gpuType": "T4"
    },
    "kernelspec": {
      "name": "python3",
      "display_name": "Python 3"
    },
    "language_info": {
      "name": "python"
    },
    "accelerator": "GPU",
    "widgets": {
      "application/vnd.jupyter.widget-state+json": {
        "d01b505cf757441b8479cae75e1d205a": {
          "model_module": "@jupyter-widgets/controls",
          "model_name": "HBoxModel",
          "model_module_version": "1.5.0",
          "state": {
            "_dom_classes": [],
            "_model_module": "@jupyter-widgets/controls",
            "_model_module_version": "1.5.0",
            "_model_name": "HBoxModel",
            "_view_count": null,
            "_view_module": "@jupyter-widgets/controls",
            "_view_module_version": "1.5.0",
            "_view_name": "HBoxView",
            "box_style": "",
            "children": [
              "IPY_MODEL_fa6adc8e01c343cfa18b0b38577ac58d",
              "IPY_MODEL_2b7249926db54e5f9189261304921fb4",
              "IPY_MODEL_1a54902c85f445389a3f9b0f22313a03"
            ],
            "layout": "IPY_MODEL_186e9fa0a97c4e7d9cc99e70b7751212"
          }
        },
        "fa6adc8e01c343cfa18b0b38577ac58d": {
          "model_module": "@jupyter-widgets/controls",
          "model_name": "HTMLModel",
          "model_module_version": "1.5.0",
          "state": {
            "_dom_classes": [],
            "_model_module": "@jupyter-widgets/controls",
            "_model_module_version": "1.5.0",
            "_model_name": "HTMLModel",
            "_view_count": null,
            "_view_module": "@jupyter-widgets/controls",
            "_view_module_version": "1.5.0",
            "_view_name": "HTMLView",
            "description": "",
            "description_tooltip": null,
            "layout": "IPY_MODEL_07c3f8ad412844aeab811fd607a3bfdc",
            "placeholder": "​",
            "style": "IPY_MODEL_8cc1e8a1843c4c3288cc1db3431dee85",
            "value": "Epoch 4: 100%"
          }
        },
        "2b7249926db54e5f9189261304921fb4": {
          "model_module": "@jupyter-widgets/controls",
          "model_name": "FloatProgressModel",
          "model_module_version": "1.5.0",
          "state": {
            "_dom_classes": [],
            "_model_module": "@jupyter-widgets/controls",
            "_model_module_version": "1.5.0",
            "_model_name": "FloatProgressModel",
            "_view_count": null,
            "_view_module": "@jupyter-widgets/controls",
            "_view_module_version": "1.5.0",
            "_view_name": "ProgressView",
            "bar_style": "success",
            "description": "",
            "description_tooltip": null,
            "layout": "IPY_MODEL_ba7ae6df8da443c6a702c4161018b49e",
            "max": 1500,
            "min": 0,
            "orientation": "horizontal",
            "style": "IPY_MODEL_6b01ee39c6d4420db179349dbf39c843",
            "value": 1500
          }
        },
        "1a54902c85f445389a3f9b0f22313a03": {
          "model_module": "@jupyter-widgets/controls",
          "model_name": "HTMLModel",
          "model_module_version": "1.5.0",
          "state": {
            "_dom_classes": [],
            "_model_module": "@jupyter-widgets/controls",
            "_model_module_version": "1.5.0",
            "_model_name": "HTMLModel",
            "_view_count": null,
            "_view_module": "@jupyter-widgets/controls",
            "_view_module_version": "1.5.0",
            "_view_name": "HTMLView",
            "description": "",
            "description_tooltip": null,
            "layout": "IPY_MODEL_ec5fe09d53f64b92b904fe718ad346a9",
            "placeholder": "​",
            "style": "IPY_MODEL_2863468c87d047909a02719dbab47626",
            "value": " 1500/1500 [00:23&lt;00:00, 63.11it/s, v_num=0, loss_on_train=0.473, loss_on_test=0.263]"
          }
        },
        "186e9fa0a97c4e7d9cc99e70b7751212": {
          "model_module": "@jupyter-widgets/base",
          "model_name": "LayoutModel",
          "model_module_version": "1.2.0",
          "state": {
            "_model_module": "@jupyter-widgets/base",
            "_model_module_version": "1.2.0",
            "_model_name": "LayoutModel",
            "_view_count": null,
            "_view_module": "@jupyter-widgets/base",
            "_view_module_version": "1.2.0",
            "_view_name": "LayoutView",
            "align_content": null,
            "align_items": null,
            "align_self": null,
            "border": null,
            "bottom": null,
            "display": "inline-flex",
            "flex": null,
            "flex_flow": "row wrap",
            "grid_area": null,
            "grid_auto_columns": null,
            "grid_auto_flow": null,
            "grid_auto_rows": null,
            "grid_column": null,
            "grid_gap": null,
            "grid_row": null,
            "grid_template_areas": null,
            "grid_template_columns": null,
            "grid_template_rows": null,
            "height": null,
            "justify_content": null,
            "justify_items": null,
            "left": null,
            "margin": null,
            "max_height": null,
            "max_width": null,
            "min_height": null,
            "min_width": null,
            "object_fit": null,
            "object_position": null,
            "order": null,
            "overflow": null,
            "overflow_x": null,
            "overflow_y": null,
            "padding": null,
            "right": null,
            "top": null,
            "visibility": null,
            "width": "100%"
          }
        },
        "07c3f8ad412844aeab811fd607a3bfdc": {
          "model_module": "@jupyter-widgets/base",
          "model_name": "LayoutModel",
          "model_module_version": "1.2.0",
          "state": {
            "_model_module": "@jupyter-widgets/base",
            "_model_module_version": "1.2.0",
            "_model_name": "LayoutModel",
            "_view_count": null,
            "_view_module": "@jupyter-widgets/base",
            "_view_module_version": "1.2.0",
            "_view_name": "LayoutView",
            "align_content": null,
            "align_items": null,
            "align_self": null,
            "border": null,
            "bottom": null,
            "display": null,
            "flex": null,
            "flex_flow": null,
            "grid_area": null,
            "grid_auto_columns": null,
            "grid_auto_flow": null,
            "grid_auto_rows": null,
            "grid_column": null,
            "grid_gap": null,
            "grid_row": null,
            "grid_template_areas": null,
            "grid_template_columns": null,
            "grid_template_rows": null,
            "height": null,
            "justify_content": null,
            "justify_items": null,
            "left": null,
            "margin": null,
            "max_height": null,
            "max_width": null,
            "min_height": null,
            "min_width": null,
            "object_fit": null,
            "object_position": null,
            "order": null,
            "overflow": null,
            "overflow_x": null,
            "overflow_y": null,
            "padding": null,
            "right": null,
            "top": null,
            "visibility": null,
            "width": null
          }
        },
        "8cc1e8a1843c4c3288cc1db3431dee85": {
          "model_module": "@jupyter-widgets/controls",
          "model_name": "DescriptionStyleModel",
          "model_module_version": "1.5.0",
          "state": {
            "_model_module": "@jupyter-widgets/controls",
            "_model_module_version": "1.5.0",
            "_model_name": "DescriptionStyleModel",
            "_view_count": null,
            "_view_module": "@jupyter-widgets/base",
            "_view_module_version": "1.2.0",
            "_view_name": "StyleView",
            "description_width": ""
          }
        },
        "ba7ae6df8da443c6a702c4161018b49e": {
          "model_module": "@jupyter-widgets/base",
          "model_name": "LayoutModel",
          "model_module_version": "1.2.0",
          "state": {
            "_model_module": "@jupyter-widgets/base",
            "_model_module_version": "1.2.0",
            "_model_name": "LayoutModel",
            "_view_count": null,
            "_view_module": "@jupyter-widgets/base",
            "_view_module_version": "1.2.0",
            "_view_name": "LayoutView",
            "align_content": null,
            "align_items": null,
            "align_self": null,
            "border": null,
            "bottom": null,
            "display": null,
            "flex": "2",
            "flex_flow": null,
            "grid_area": null,
            "grid_auto_columns": null,
            "grid_auto_flow": null,
            "grid_auto_rows": null,
            "grid_column": null,
            "grid_gap": null,
            "grid_row": null,
            "grid_template_areas": null,
            "grid_template_columns": null,
            "grid_template_rows": null,
            "height": null,
            "justify_content": null,
            "justify_items": null,
            "left": null,
            "margin": null,
            "max_height": null,
            "max_width": null,
            "min_height": null,
            "min_width": null,
            "object_fit": null,
            "object_position": null,
            "order": null,
            "overflow": null,
            "overflow_x": null,
            "overflow_y": null,
            "padding": null,
            "right": null,
            "top": null,
            "visibility": null,
            "width": null
          }
        },
        "6b01ee39c6d4420db179349dbf39c843": {
          "model_module": "@jupyter-widgets/controls",
          "model_name": "ProgressStyleModel",
          "model_module_version": "1.5.0",
          "state": {
            "_model_module": "@jupyter-widgets/controls",
            "_model_module_version": "1.5.0",
            "_model_name": "ProgressStyleModel",
            "_view_count": null,
            "_view_module": "@jupyter-widgets/base",
            "_view_module_version": "1.2.0",
            "_view_name": "StyleView",
            "bar_color": null,
            "description_width": ""
          }
        },
        "ec5fe09d53f64b92b904fe718ad346a9": {
          "model_module": "@jupyter-widgets/base",
          "model_name": "LayoutModel",
          "model_module_version": "1.2.0",
          "state": {
            "_model_module": "@jupyter-widgets/base",
            "_model_module_version": "1.2.0",
            "_model_name": "LayoutModel",
            "_view_count": null,
            "_view_module": "@jupyter-widgets/base",
            "_view_module_version": "1.2.0",
            "_view_name": "LayoutView",
            "align_content": null,
            "align_items": null,
            "align_self": null,
            "border": null,
            "bottom": null,
            "display": null,
            "flex": null,
            "flex_flow": null,
            "grid_area": null,
            "grid_auto_columns": null,
            "grid_auto_flow": null,
            "grid_auto_rows": null,
            "grid_column": null,
            "grid_gap": null,
            "grid_row": null,
            "grid_template_areas": null,
            "grid_template_columns": null,
            "grid_template_rows": null,
            "height": null,
            "justify_content": null,
            "justify_items": null,
            "left": null,
            "margin": null,
            "max_height": null,
            "max_width": null,
            "min_height": null,
            "min_width": null,
            "object_fit": null,
            "object_position": null,
            "order": null,
            "overflow": null,
            "overflow_x": null,
            "overflow_y": null,
            "padding": null,
            "right": null,
            "top": null,
            "visibility": null,
            "width": null
          }
        },
        "2863468c87d047909a02719dbab47626": {
          "model_module": "@jupyter-widgets/controls",
          "model_name": "DescriptionStyleModel",
          "model_module_version": "1.5.0",
          "state": {
            "_model_module": "@jupyter-widgets/controls",
            "_model_module_version": "1.5.0",
            "_model_name": "DescriptionStyleModel",
            "_view_count": null,
            "_view_module": "@jupyter-widgets/base",
            "_view_module_version": "1.2.0",
            "_view_name": "StyleView",
            "description_width": ""
          }
        },
        "a5b9328ac4084cfe9878fcbc8511b776": {
          "model_module": "@jupyter-widgets/controls",
          "model_name": "HBoxModel",
          "model_module_version": "1.5.0",
          "state": {
            "_dom_classes": [],
            "_model_module": "@jupyter-widgets/controls",
            "_model_module_version": "1.5.0",
            "_model_name": "HBoxModel",
            "_view_count": null,
            "_view_module": "@jupyter-widgets/controls",
            "_view_module_version": "1.5.0",
            "_view_name": "HBoxView",
            "box_style": "",
            "children": [
              "IPY_MODEL_2da2f4f915d34ab980b25476e0ed9fac",
              "IPY_MODEL_0bc880c6447e484ab1f5da68b586dbf1",
              "IPY_MODEL_5a972ac69ab348ffaae19687368ac625"
            ],
            "layout": "IPY_MODEL_812038eb039f4a9c83cbaaf332bc737e"
          }
        },
        "2da2f4f915d34ab980b25476e0ed9fac": {
          "model_module": "@jupyter-widgets/controls",
          "model_name": "HTMLModel",
          "model_module_version": "1.5.0",
          "state": {
            "_dom_classes": [],
            "_model_module": "@jupyter-widgets/controls",
            "_model_module_version": "1.5.0",
            "_model_name": "HTMLModel",
            "_view_count": null,
            "_view_module": "@jupyter-widgets/controls",
            "_view_module_version": "1.5.0",
            "_view_name": "HTMLView",
            "description": "",
            "description_tooltip": null,
            "layout": "IPY_MODEL_63426ae3e4e64ba7a5857321844c05d5",
            "placeholder": "​",
            "style": "IPY_MODEL_3ada04ba37ed4deaa81658d5754691cd",
            "value": "Validation DataLoader 0: 100%"
          }
        },
        "0bc880c6447e484ab1f5da68b586dbf1": {
          "model_module": "@jupyter-widgets/controls",
          "model_name": "FloatProgressModel",
          "model_module_version": "1.5.0",
          "state": {
            "_dom_classes": [],
            "_model_module": "@jupyter-widgets/controls",
            "_model_module_version": "1.5.0",
            "_model_name": "FloatProgressModel",
            "_view_count": null,
            "_view_module": "@jupyter-widgets/controls",
            "_view_module_version": "1.5.0",
            "_view_name": "ProgressView",
            "bar_style": "",
            "description": "",
            "description_tooltip": null,
            "layout": "IPY_MODEL_78baf0dca9b54853b1312e76b0959f28",
            "max": 375,
            "min": 0,
            "orientation": "horizontal",
            "style": "IPY_MODEL_f8f61ba0c8d54518a997ad4e7598b700",
            "value": 375
          }
        },
        "5a972ac69ab348ffaae19687368ac625": {
          "model_module": "@jupyter-widgets/controls",
          "model_name": "HTMLModel",
          "model_module_version": "1.5.0",
          "state": {
            "_dom_classes": [],
            "_model_module": "@jupyter-widgets/controls",
            "_model_module_version": "1.5.0",
            "_model_name": "HTMLModel",
            "_view_count": null,
            "_view_module": "@jupyter-widgets/controls",
            "_view_module_version": "1.5.0",
            "_view_name": "HTMLView",
            "description": "",
            "description_tooltip": null,
            "layout": "IPY_MODEL_c66da04bc1e146909a0489c7c7b26883",
            "placeholder": "​",
            "style": "IPY_MODEL_7b4cbd54138e46a0a55b19bf7484cf62",
            "value": " 375/375 [00:03&lt;00:00, 114.84it/s]"
          }
        },
        "812038eb039f4a9c83cbaaf332bc737e": {
          "model_module": "@jupyter-widgets/base",
          "model_name": "LayoutModel",
          "model_module_version": "1.2.0",
          "state": {
            "_model_module": "@jupyter-widgets/base",
            "_model_module_version": "1.2.0",
            "_model_name": "LayoutModel",
            "_view_count": null,
            "_view_module": "@jupyter-widgets/base",
            "_view_module_version": "1.2.0",
            "_view_name": "LayoutView",
            "align_content": null,
            "align_items": null,
            "align_self": null,
            "border": null,
            "bottom": null,
            "display": "inline-flex",
            "flex": null,
            "flex_flow": "row wrap",
            "grid_area": null,
            "grid_auto_columns": null,
            "grid_auto_flow": null,
            "grid_auto_rows": null,
            "grid_column": null,
            "grid_gap": null,
            "grid_row": null,
            "grid_template_areas": null,
            "grid_template_columns": null,
            "grid_template_rows": null,
            "height": null,
            "justify_content": null,
            "justify_items": null,
            "left": null,
            "margin": null,
            "max_height": null,
            "max_width": null,
            "min_height": null,
            "min_width": null,
            "object_fit": null,
            "object_position": null,
            "order": null,
            "overflow": null,
            "overflow_x": null,
            "overflow_y": null,
            "padding": null,
            "right": null,
            "top": null,
            "visibility": "hidden",
            "width": "100%"
          }
        },
        "63426ae3e4e64ba7a5857321844c05d5": {
          "model_module": "@jupyter-widgets/base",
          "model_name": "LayoutModel",
          "model_module_version": "1.2.0",
          "state": {
            "_model_module": "@jupyter-widgets/base",
            "_model_module_version": "1.2.0",
            "_model_name": "LayoutModel",
            "_view_count": null,
            "_view_module": "@jupyter-widgets/base",
            "_view_module_version": "1.2.0",
            "_view_name": "LayoutView",
            "align_content": null,
            "align_items": null,
            "align_self": null,
            "border": null,
            "bottom": null,
            "display": null,
            "flex": null,
            "flex_flow": null,
            "grid_area": null,
            "grid_auto_columns": null,
            "grid_auto_flow": null,
            "grid_auto_rows": null,
            "grid_column": null,
            "grid_gap": null,
            "grid_row": null,
            "grid_template_areas": null,
            "grid_template_columns": null,
            "grid_template_rows": null,
            "height": null,
            "justify_content": null,
            "justify_items": null,
            "left": null,
            "margin": null,
            "max_height": null,
            "max_width": null,
            "min_height": null,
            "min_width": null,
            "object_fit": null,
            "object_position": null,
            "order": null,
            "overflow": null,
            "overflow_x": null,
            "overflow_y": null,
            "padding": null,
            "right": null,
            "top": null,
            "visibility": null,
            "width": null
          }
        },
        "3ada04ba37ed4deaa81658d5754691cd": {
          "model_module": "@jupyter-widgets/controls",
          "model_name": "DescriptionStyleModel",
          "model_module_version": "1.5.0",
          "state": {
            "_model_module": "@jupyter-widgets/controls",
            "_model_module_version": "1.5.0",
            "_model_name": "DescriptionStyleModel",
            "_view_count": null,
            "_view_module": "@jupyter-widgets/base",
            "_view_module_version": "1.2.0",
            "_view_name": "StyleView",
            "description_width": ""
          }
        },
        "78baf0dca9b54853b1312e76b0959f28": {
          "model_module": "@jupyter-widgets/base",
          "model_name": "LayoutModel",
          "model_module_version": "1.2.0",
          "state": {
            "_model_module": "@jupyter-widgets/base",
            "_model_module_version": "1.2.0",
            "_model_name": "LayoutModel",
            "_view_count": null,
            "_view_module": "@jupyter-widgets/base",
            "_view_module_version": "1.2.0",
            "_view_name": "LayoutView",
            "align_content": null,
            "align_items": null,
            "align_self": null,
            "border": null,
            "bottom": null,
            "display": null,
            "flex": "2",
            "flex_flow": null,
            "grid_area": null,
            "grid_auto_columns": null,
            "grid_auto_flow": null,
            "grid_auto_rows": null,
            "grid_column": null,
            "grid_gap": null,
            "grid_row": null,
            "grid_template_areas": null,
            "grid_template_columns": null,
            "grid_template_rows": null,
            "height": null,
            "justify_content": null,
            "justify_items": null,
            "left": null,
            "margin": null,
            "max_height": null,
            "max_width": null,
            "min_height": null,
            "min_width": null,
            "object_fit": null,
            "object_position": null,
            "order": null,
            "overflow": null,
            "overflow_x": null,
            "overflow_y": null,
            "padding": null,
            "right": null,
            "top": null,
            "visibility": null,
            "width": null
          }
        },
        "f8f61ba0c8d54518a997ad4e7598b700": {
          "model_module": "@jupyter-widgets/controls",
          "model_name": "ProgressStyleModel",
          "model_module_version": "1.5.0",
          "state": {
            "_model_module": "@jupyter-widgets/controls",
            "_model_module_version": "1.5.0",
            "_model_name": "ProgressStyleModel",
            "_view_count": null,
            "_view_module": "@jupyter-widgets/base",
            "_view_module_version": "1.2.0",
            "_view_name": "StyleView",
            "bar_color": null,
            "description_width": ""
          }
        },
        "c66da04bc1e146909a0489c7c7b26883": {
          "model_module": "@jupyter-widgets/base",
          "model_name": "LayoutModel",
          "model_module_version": "1.2.0",
          "state": {
            "_model_module": "@jupyter-widgets/base",
            "_model_module_version": "1.2.0",
            "_model_name": "LayoutModel",
            "_view_count": null,
            "_view_module": "@jupyter-widgets/base",
            "_view_module_version": "1.2.0",
            "_view_name": "LayoutView",
            "align_content": null,
            "align_items": null,
            "align_self": null,
            "border": null,
            "bottom": null,
            "display": null,
            "flex": null,
            "flex_flow": null,
            "grid_area": null,
            "grid_auto_columns": null,
            "grid_auto_flow": null,
            "grid_auto_rows": null,
            "grid_column": null,
            "grid_gap": null,
            "grid_row": null,
            "grid_template_areas": null,
            "grid_template_columns": null,
            "grid_template_rows": null,
            "height": null,
            "justify_content": null,
            "justify_items": null,
            "left": null,
            "margin": null,
            "max_height": null,
            "max_width": null,
            "min_height": null,
            "min_width": null,
            "object_fit": null,
            "object_position": null,
            "order": null,
            "overflow": null,
            "overflow_x": null,
            "overflow_y": null,
            "padding": null,
            "right": null,
            "top": null,
            "visibility": null,
            "width": null
          }
        },
        "7b4cbd54138e46a0a55b19bf7484cf62": {
          "model_module": "@jupyter-widgets/controls",
          "model_name": "DescriptionStyleModel",
          "model_module_version": "1.5.0",
          "state": {
            "_model_module": "@jupyter-widgets/controls",
            "_model_module_version": "1.5.0",
            "_model_name": "DescriptionStyleModel",
            "_view_count": null,
            "_view_module": "@jupyter-widgets/base",
            "_view_module_version": "1.2.0",
            "_view_name": "StyleView",
            "description_width": ""
          }
        },
        "d1a593f854ab4c88b4e1673d78db34c7": {
          "model_module": "@jupyter-widgets/controls",
          "model_name": "HBoxModel",
          "model_module_version": "1.5.0",
          "state": {
            "_dom_classes": [],
            "_model_module": "@jupyter-widgets/controls",
            "_model_module_version": "1.5.0",
            "_model_name": "HBoxModel",
            "_view_count": null,
            "_view_module": "@jupyter-widgets/controls",
            "_view_module_version": "1.5.0",
            "_view_name": "HBoxView",
            "box_style": "",
            "children": [
              "IPY_MODEL_611441a42d9a4e1ba47f7afae022e816",
              "IPY_MODEL_d0f367f9e8f546d6ac918fac32b6db7c",
              "IPY_MODEL_2a8d68af475a4feaad50063ceb0e31aa"
            ],
            "layout": "IPY_MODEL_ae0f467d22de4c6085d991b18c5fd3f8"
          }
        },
        "611441a42d9a4e1ba47f7afae022e816": {
          "model_module": "@jupyter-widgets/controls",
          "model_name": "HTMLModel",
          "model_module_version": "1.5.0",
          "state": {
            "_dom_classes": [],
            "_model_module": "@jupyter-widgets/controls",
            "_model_module_version": "1.5.0",
            "_model_name": "HTMLModel",
            "_view_count": null,
            "_view_module": "@jupyter-widgets/controls",
            "_view_module_version": "1.5.0",
            "_view_name": "HTMLView",
            "description": "",
            "description_tooltip": null,
            "layout": "IPY_MODEL_707afbf05e644e29b862186903f19460",
            "placeholder": "​",
            "style": "IPY_MODEL_9b1f6353ba0f4c9d9db6efa5728f9d40",
            "value": "Validation DataLoader 0: 100%"
          }
        },
        "d0f367f9e8f546d6ac918fac32b6db7c": {
          "model_module": "@jupyter-widgets/controls",
          "model_name": "FloatProgressModel",
          "model_module_version": "1.5.0",
          "state": {
            "_dom_classes": [],
            "_model_module": "@jupyter-widgets/controls",
            "_model_module_version": "1.5.0",
            "_model_name": "FloatProgressModel",
            "_view_count": null,
            "_view_module": "@jupyter-widgets/controls",
            "_view_module_version": "1.5.0",
            "_view_name": "ProgressView",
            "bar_style": "",
            "description": "",
            "description_tooltip": null,
            "layout": "IPY_MODEL_86550b26ee504bcd83e7ec9ac7fb5536",
            "max": 375,
            "min": 0,
            "orientation": "horizontal",
            "style": "IPY_MODEL_9dec0715de8344d78dcde6f3a300d133",
            "value": 375
          }
        },
        "2a8d68af475a4feaad50063ceb0e31aa": {
          "model_module": "@jupyter-widgets/controls",
          "model_name": "HTMLModel",
          "model_module_version": "1.5.0",
          "state": {
            "_dom_classes": [],
            "_model_module": "@jupyter-widgets/controls",
            "_model_module_version": "1.5.0",
            "_model_name": "HTMLModel",
            "_view_count": null,
            "_view_module": "@jupyter-widgets/controls",
            "_view_module_version": "1.5.0",
            "_view_name": "HTMLView",
            "description": "",
            "description_tooltip": null,
            "layout": "IPY_MODEL_beb7290e55794369896d81c86d3379c2",
            "placeholder": "​",
            "style": "IPY_MODEL_0a028f384b91438090f49ab272fd18e3",
            "value": " 375/375 [00:05&lt;00:00, 74.85it/s]"
          }
        },
        "ae0f467d22de4c6085d991b18c5fd3f8": {
          "model_module": "@jupyter-widgets/base",
          "model_name": "LayoutModel",
          "model_module_version": "1.2.0",
          "state": {
            "_model_module": "@jupyter-widgets/base",
            "_model_module_version": "1.2.0",
            "_model_name": "LayoutModel",
            "_view_count": null,
            "_view_module": "@jupyter-widgets/base",
            "_view_module_version": "1.2.0",
            "_view_name": "LayoutView",
            "align_content": null,
            "align_items": null,
            "align_self": null,
            "border": null,
            "bottom": null,
            "display": "inline-flex",
            "flex": null,
            "flex_flow": "row wrap",
            "grid_area": null,
            "grid_auto_columns": null,
            "grid_auto_flow": null,
            "grid_auto_rows": null,
            "grid_column": null,
            "grid_gap": null,
            "grid_row": null,
            "grid_template_areas": null,
            "grid_template_columns": null,
            "grid_template_rows": null,
            "height": null,
            "justify_content": null,
            "justify_items": null,
            "left": null,
            "margin": null,
            "max_height": null,
            "max_width": null,
            "min_height": null,
            "min_width": null,
            "object_fit": null,
            "object_position": null,
            "order": null,
            "overflow": null,
            "overflow_x": null,
            "overflow_y": null,
            "padding": null,
            "right": null,
            "top": null,
            "visibility": "hidden",
            "width": "100%"
          }
        },
        "707afbf05e644e29b862186903f19460": {
          "model_module": "@jupyter-widgets/base",
          "model_name": "LayoutModel",
          "model_module_version": "1.2.0",
          "state": {
            "_model_module": "@jupyter-widgets/base",
            "_model_module_version": "1.2.0",
            "_model_name": "LayoutModel",
            "_view_count": null,
            "_view_module": "@jupyter-widgets/base",
            "_view_module_version": "1.2.0",
            "_view_name": "LayoutView",
            "align_content": null,
            "align_items": null,
            "align_self": null,
            "border": null,
            "bottom": null,
            "display": null,
            "flex": null,
            "flex_flow": null,
            "grid_area": null,
            "grid_auto_columns": null,
            "grid_auto_flow": null,
            "grid_auto_rows": null,
            "grid_column": null,
            "grid_gap": null,
            "grid_row": null,
            "grid_template_areas": null,
            "grid_template_columns": null,
            "grid_template_rows": null,
            "height": null,
            "justify_content": null,
            "justify_items": null,
            "left": null,
            "margin": null,
            "max_height": null,
            "max_width": null,
            "min_height": null,
            "min_width": null,
            "object_fit": null,
            "object_position": null,
            "order": null,
            "overflow": null,
            "overflow_x": null,
            "overflow_y": null,
            "padding": null,
            "right": null,
            "top": null,
            "visibility": null,
            "width": null
          }
        },
        "9b1f6353ba0f4c9d9db6efa5728f9d40": {
          "model_module": "@jupyter-widgets/controls",
          "model_name": "DescriptionStyleModel",
          "model_module_version": "1.5.0",
          "state": {
            "_model_module": "@jupyter-widgets/controls",
            "_model_module_version": "1.5.0",
            "_model_name": "DescriptionStyleModel",
            "_view_count": null,
            "_view_module": "@jupyter-widgets/base",
            "_view_module_version": "1.2.0",
            "_view_name": "StyleView",
            "description_width": ""
          }
        },
        "86550b26ee504bcd83e7ec9ac7fb5536": {
          "model_module": "@jupyter-widgets/base",
          "model_name": "LayoutModel",
          "model_module_version": "1.2.0",
          "state": {
            "_model_module": "@jupyter-widgets/base",
            "_model_module_version": "1.2.0",
            "_model_name": "LayoutModel",
            "_view_count": null,
            "_view_module": "@jupyter-widgets/base",
            "_view_module_version": "1.2.0",
            "_view_name": "LayoutView",
            "align_content": null,
            "align_items": null,
            "align_self": null,
            "border": null,
            "bottom": null,
            "display": null,
            "flex": "2",
            "flex_flow": null,
            "grid_area": null,
            "grid_auto_columns": null,
            "grid_auto_flow": null,
            "grid_auto_rows": null,
            "grid_column": null,
            "grid_gap": null,
            "grid_row": null,
            "grid_template_areas": null,
            "grid_template_columns": null,
            "grid_template_rows": null,
            "height": null,
            "justify_content": null,
            "justify_items": null,
            "left": null,
            "margin": null,
            "max_height": null,
            "max_width": null,
            "min_height": null,
            "min_width": null,
            "object_fit": null,
            "object_position": null,
            "order": null,
            "overflow": null,
            "overflow_x": null,
            "overflow_y": null,
            "padding": null,
            "right": null,
            "top": null,
            "visibility": null,
            "width": null
          }
        },
        "9dec0715de8344d78dcde6f3a300d133": {
          "model_module": "@jupyter-widgets/controls",
          "model_name": "ProgressStyleModel",
          "model_module_version": "1.5.0",
          "state": {
            "_model_module": "@jupyter-widgets/controls",
            "_model_module_version": "1.5.0",
            "_model_name": "ProgressStyleModel",
            "_view_count": null,
            "_view_module": "@jupyter-widgets/base",
            "_view_module_version": "1.2.0",
            "_view_name": "StyleView",
            "bar_color": null,
            "description_width": ""
          }
        },
        "beb7290e55794369896d81c86d3379c2": {
          "model_module": "@jupyter-widgets/base",
          "model_name": "LayoutModel",
          "model_module_version": "1.2.0",
          "state": {
            "_model_module": "@jupyter-widgets/base",
            "_model_module_version": "1.2.0",
            "_model_name": "LayoutModel",
            "_view_count": null,
            "_view_module": "@jupyter-widgets/base",
            "_view_module_version": "1.2.0",
            "_view_name": "LayoutView",
            "align_content": null,
            "align_items": null,
            "align_self": null,
            "border": null,
            "bottom": null,
            "display": null,
            "flex": null,
            "flex_flow": null,
            "grid_area": null,
            "grid_auto_columns": null,
            "grid_auto_flow": null,
            "grid_auto_rows": null,
            "grid_column": null,
            "grid_gap": null,
            "grid_row": null,
            "grid_template_areas": null,
            "grid_template_columns": null,
            "grid_template_rows": null,
            "height": null,
            "justify_content": null,
            "justify_items": null,
            "left": null,
            "margin": null,
            "max_height": null,
            "max_width": null,
            "min_height": null,
            "min_width": null,
            "object_fit": null,
            "object_position": null,
            "order": null,
            "overflow": null,
            "overflow_x": null,
            "overflow_y": null,
            "padding": null,
            "right": null,
            "top": null,
            "visibility": null,
            "width": null
          }
        },
        "0a028f384b91438090f49ab272fd18e3": {
          "model_module": "@jupyter-widgets/controls",
          "model_name": "DescriptionStyleModel",
          "model_module_version": "1.5.0",
          "state": {
            "_model_module": "@jupyter-widgets/controls",
            "_model_module_version": "1.5.0",
            "_model_name": "DescriptionStyleModel",
            "_view_count": null,
            "_view_module": "@jupyter-widgets/base",
            "_view_module_version": "1.2.0",
            "_view_name": "StyleView",
            "description_width": ""
          }
        },
        "1b0b1d35e1d448edafcf60c01da3b635": {
          "model_module": "@jupyter-widgets/controls",
          "model_name": "HBoxModel",
          "model_module_version": "1.5.0",
          "state": {
            "_dom_classes": [],
            "_model_module": "@jupyter-widgets/controls",
            "_model_module_version": "1.5.0",
            "_model_name": "HBoxModel",
            "_view_count": null,
            "_view_module": "@jupyter-widgets/controls",
            "_view_module_version": "1.5.0",
            "_view_name": "HBoxView",
            "box_style": "",
            "children": [
              "IPY_MODEL_ad05d83bfc4f42e2b99f2481ee4fcc96",
              "IPY_MODEL_401d8ce5177f4f1d9f819a9213fdb727",
              "IPY_MODEL_96f883d6f7b8489eb31213ceaad38532"
            ],
            "layout": "IPY_MODEL_0b6ab69bd90b40618d7a3f246b1c29be"
          }
        },
        "ad05d83bfc4f42e2b99f2481ee4fcc96": {
          "model_module": "@jupyter-widgets/controls",
          "model_name": "HTMLModel",
          "model_module_version": "1.5.0",
          "state": {
            "_dom_classes": [],
            "_model_module": "@jupyter-widgets/controls",
            "_model_module_version": "1.5.0",
            "_model_name": "HTMLModel",
            "_view_count": null,
            "_view_module": "@jupyter-widgets/controls",
            "_view_module_version": "1.5.0",
            "_view_name": "HTMLView",
            "description": "",
            "description_tooltip": null,
            "layout": "IPY_MODEL_3a863a668f5543f6bdf9b68f1733dfcc",
            "placeholder": "​",
            "style": "IPY_MODEL_b75543fc3074477abc77f5e15e3d3f02",
            "value": "Validation DataLoader 0: 100%"
          }
        },
        "401d8ce5177f4f1d9f819a9213fdb727": {
          "model_module": "@jupyter-widgets/controls",
          "model_name": "FloatProgressModel",
          "model_module_version": "1.5.0",
          "state": {
            "_dom_classes": [],
            "_model_module": "@jupyter-widgets/controls",
            "_model_module_version": "1.5.0",
            "_model_name": "FloatProgressModel",
            "_view_count": null,
            "_view_module": "@jupyter-widgets/controls",
            "_view_module_version": "1.5.0",
            "_view_name": "ProgressView",
            "bar_style": "",
            "description": "",
            "description_tooltip": null,
            "layout": "IPY_MODEL_17f8da6d15964e87a18b0377b0c8d93a",
            "max": 375,
            "min": 0,
            "orientation": "horizontal",
            "style": "IPY_MODEL_e7d26da5f0e84af7a98c8b066a1a1d5f",
            "value": 375
          }
        },
        "96f883d6f7b8489eb31213ceaad38532": {
          "model_module": "@jupyter-widgets/controls",
          "model_name": "HTMLModel",
          "model_module_version": "1.5.0",
          "state": {
            "_dom_classes": [],
            "_model_module": "@jupyter-widgets/controls",
            "_model_module_version": "1.5.0",
            "_model_name": "HTMLModel",
            "_view_count": null,
            "_view_module": "@jupyter-widgets/controls",
            "_view_module_version": "1.5.0",
            "_view_name": "HTMLView",
            "description": "",
            "description_tooltip": null,
            "layout": "IPY_MODEL_d6671abaa8b54199be40bad93d5eada9",
            "placeholder": "​",
            "style": "IPY_MODEL_0c3cdbbba43c48b6b4249b7336906473",
            "value": " 375/375 [00:03&lt;00:00, 115.90it/s]"
          }
        },
        "0b6ab69bd90b40618d7a3f246b1c29be": {
          "model_module": "@jupyter-widgets/base",
          "model_name": "LayoutModel",
          "model_module_version": "1.2.0",
          "state": {
            "_model_module": "@jupyter-widgets/base",
            "_model_module_version": "1.2.0",
            "_model_name": "LayoutModel",
            "_view_count": null,
            "_view_module": "@jupyter-widgets/base",
            "_view_module_version": "1.2.0",
            "_view_name": "LayoutView",
            "align_content": null,
            "align_items": null,
            "align_self": null,
            "border": null,
            "bottom": null,
            "display": "inline-flex",
            "flex": null,
            "flex_flow": "row wrap",
            "grid_area": null,
            "grid_auto_columns": null,
            "grid_auto_flow": null,
            "grid_auto_rows": null,
            "grid_column": null,
            "grid_gap": null,
            "grid_row": null,
            "grid_template_areas": null,
            "grid_template_columns": null,
            "grid_template_rows": null,
            "height": null,
            "justify_content": null,
            "justify_items": null,
            "left": null,
            "margin": null,
            "max_height": null,
            "max_width": null,
            "min_height": null,
            "min_width": null,
            "object_fit": null,
            "object_position": null,
            "order": null,
            "overflow": null,
            "overflow_x": null,
            "overflow_y": null,
            "padding": null,
            "right": null,
            "top": null,
            "visibility": "hidden",
            "width": "100%"
          }
        },
        "3a863a668f5543f6bdf9b68f1733dfcc": {
          "model_module": "@jupyter-widgets/base",
          "model_name": "LayoutModel",
          "model_module_version": "1.2.0",
          "state": {
            "_model_module": "@jupyter-widgets/base",
            "_model_module_version": "1.2.0",
            "_model_name": "LayoutModel",
            "_view_count": null,
            "_view_module": "@jupyter-widgets/base",
            "_view_module_version": "1.2.0",
            "_view_name": "LayoutView",
            "align_content": null,
            "align_items": null,
            "align_self": null,
            "border": null,
            "bottom": null,
            "display": null,
            "flex": null,
            "flex_flow": null,
            "grid_area": null,
            "grid_auto_columns": null,
            "grid_auto_flow": null,
            "grid_auto_rows": null,
            "grid_column": null,
            "grid_gap": null,
            "grid_row": null,
            "grid_template_areas": null,
            "grid_template_columns": null,
            "grid_template_rows": null,
            "height": null,
            "justify_content": null,
            "justify_items": null,
            "left": null,
            "margin": null,
            "max_height": null,
            "max_width": null,
            "min_height": null,
            "min_width": null,
            "object_fit": null,
            "object_position": null,
            "order": null,
            "overflow": null,
            "overflow_x": null,
            "overflow_y": null,
            "padding": null,
            "right": null,
            "top": null,
            "visibility": null,
            "width": null
          }
        },
        "b75543fc3074477abc77f5e15e3d3f02": {
          "model_module": "@jupyter-widgets/controls",
          "model_name": "DescriptionStyleModel",
          "model_module_version": "1.5.0",
          "state": {
            "_model_module": "@jupyter-widgets/controls",
            "_model_module_version": "1.5.0",
            "_model_name": "DescriptionStyleModel",
            "_view_count": null,
            "_view_module": "@jupyter-widgets/base",
            "_view_module_version": "1.2.0",
            "_view_name": "StyleView",
            "description_width": ""
          }
        },
        "17f8da6d15964e87a18b0377b0c8d93a": {
          "model_module": "@jupyter-widgets/base",
          "model_name": "LayoutModel",
          "model_module_version": "1.2.0",
          "state": {
            "_model_module": "@jupyter-widgets/base",
            "_model_module_version": "1.2.0",
            "_model_name": "LayoutModel",
            "_view_count": null,
            "_view_module": "@jupyter-widgets/base",
            "_view_module_version": "1.2.0",
            "_view_name": "LayoutView",
            "align_content": null,
            "align_items": null,
            "align_self": null,
            "border": null,
            "bottom": null,
            "display": null,
            "flex": "2",
            "flex_flow": null,
            "grid_area": null,
            "grid_auto_columns": null,
            "grid_auto_flow": null,
            "grid_auto_rows": null,
            "grid_column": null,
            "grid_gap": null,
            "grid_row": null,
            "grid_template_areas": null,
            "grid_template_columns": null,
            "grid_template_rows": null,
            "height": null,
            "justify_content": null,
            "justify_items": null,
            "left": null,
            "margin": null,
            "max_height": null,
            "max_width": null,
            "min_height": null,
            "min_width": null,
            "object_fit": null,
            "object_position": null,
            "order": null,
            "overflow": null,
            "overflow_x": null,
            "overflow_y": null,
            "padding": null,
            "right": null,
            "top": null,
            "visibility": null,
            "width": null
          }
        },
        "e7d26da5f0e84af7a98c8b066a1a1d5f": {
          "model_module": "@jupyter-widgets/controls",
          "model_name": "ProgressStyleModel",
          "model_module_version": "1.5.0",
          "state": {
            "_model_module": "@jupyter-widgets/controls",
            "_model_module_version": "1.5.0",
            "_model_name": "ProgressStyleModel",
            "_view_count": null,
            "_view_module": "@jupyter-widgets/base",
            "_view_module_version": "1.2.0",
            "_view_name": "StyleView",
            "bar_color": null,
            "description_width": ""
          }
        },
        "d6671abaa8b54199be40bad93d5eada9": {
          "model_module": "@jupyter-widgets/base",
          "model_name": "LayoutModel",
          "model_module_version": "1.2.0",
          "state": {
            "_model_module": "@jupyter-widgets/base",
            "_model_module_version": "1.2.0",
            "_model_name": "LayoutModel",
            "_view_count": null,
            "_view_module": "@jupyter-widgets/base",
            "_view_module_version": "1.2.0",
            "_view_name": "LayoutView",
            "align_content": null,
            "align_items": null,
            "align_self": null,
            "border": null,
            "bottom": null,
            "display": null,
            "flex": null,
            "flex_flow": null,
            "grid_area": null,
            "grid_auto_columns": null,
            "grid_auto_flow": null,
            "grid_auto_rows": null,
            "grid_column": null,
            "grid_gap": null,
            "grid_row": null,
            "grid_template_areas": null,
            "grid_template_columns": null,
            "grid_template_rows": null,
            "height": null,
            "justify_content": null,
            "justify_items": null,
            "left": null,
            "margin": null,
            "max_height": null,
            "max_width": null,
            "min_height": null,
            "min_width": null,
            "object_fit": null,
            "object_position": null,
            "order": null,
            "overflow": null,
            "overflow_x": null,
            "overflow_y": null,
            "padding": null,
            "right": null,
            "top": null,
            "visibility": null,
            "width": null
          }
        },
        "0c3cdbbba43c48b6b4249b7336906473": {
          "model_module": "@jupyter-widgets/controls",
          "model_name": "DescriptionStyleModel",
          "model_module_version": "1.5.0",
          "state": {
            "_model_module": "@jupyter-widgets/controls",
            "_model_module_version": "1.5.0",
            "_model_name": "DescriptionStyleModel",
            "_view_count": null,
            "_view_module": "@jupyter-widgets/base",
            "_view_module_version": "1.2.0",
            "_view_name": "StyleView",
            "description_width": ""
          }
        },
        "76bf2958e7ce47b083762cf6420b6505": {
          "model_module": "@jupyter-widgets/controls",
          "model_name": "HBoxModel",
          "model_module_version": "1.5.0",
          "state": {
            "_dom_classes": [],
            "_model_module": "@jupyter-widgets/controls",
            "_model_module_version": "1.5.0",
            "_model_name": "HBoxModel",
            "_view_count": null,
            "_view_module": "@jupyter-widgets/controls",
            "_view_module_version": "1.5.0",
            "_view_name": "HBoxView",
            "box_style": "",
            "children": [
              "IPY_MODEL_b0ffd3733801489b87ba17665f0b45eb",
              "IPY_MODEL_17dcb01eafa547479056cbb945fba5eb",
              "IPY_MODEL_1664b3d975c04599925bc1cd307ee0cf"
            ],
            "layout": "IPY_MODEL_eb64f3a810144aaaaff23b1c45d5e4bc"
          }
        },
        "b0ffd3733801489b87ba17665f0b45eb": {
          "model_module": "@jupyter-widgets/controls",
          "model_name": "HTMLModel",
          "model_module_version": "1.5.0",
          "state": {
            "_dom_classes": [],
            "_model_module": "@jupyter-widgets/controls",
            "_model_module_version": "1.5.0",
            "_model_name": "HTMLModel",
            "_view_count": null,
            "_view_module": "@jupyter-widgets/controls",
            "_view_module_version": "1.5.0",
            "_view_name": "HTMLView",
            "description": "",
            "description_tooltip": null,
            "layout": "IPY_MODEL_de18e08c523c412cb64e41f0177d2499",
            "placeholder": "​",
            "style": "IPY_MODEL_144d7f94faef4a9d8b6688aed4a36ce7",
            "value": "Validation DataLoader 0: 100%"
          }
        },
        "17dcb01eafa547479056cbb945fba5eb": {
          "model_module": "@jupyter-widgets/controls",
          "model_name": "FloatProgressModel",
          "model_module_version": "1.5.0",
          "state": {
            "_dom_classes": [],
            "_model_module": "@jupyter-widgets/controls",
            "_model_module_version": "1.5.0",
            "_model_name": "FloatProgressModel",
            "_view_count": null,
            "_view_module": "@jupyter-widgets/controls",
            "_view_module_version": "1.5.0",
            "_view_name": "ProgressView",
            "bar_style": "",
            "description": "",
            "description_tooltip": null,
            "layout": "IPY_MODEL_13c2857d3eb449e5bebdfe07d31c8fa8",
            "max": 375,
            "min": 0,
            "orientation": "horizontal",
            "style": "IPY_MODEL_6156bb3f09444ec6ad33b6c0b4622671",
            "value": 375
          }
        },
        "1664b3d975c04599925bc1cd307ee0cf": {
          "model_module": "@jupyter-widgets/controls",
          "model_name": "HTMLModel",
          "model_module_version": "1.5.0",
          "state": {
            "_dom_classes": [],
            "_model_module": "@jupyter-widgets/controls",
            "_model_module_version": "1.5.0",
            "_model_name": "HTMLModel",
            "_view_count": null,
            "_view_module": "@jupyter-widgets/controls",
            "_view_module_version": "1.5.0",
            "_view_name": "HTMLView",
            "description": "",
            "description_tooltip": null,
            "layout": "IPY_MODEL_a413ea2257e44fe59acc780ddc68839d",
            "placeholder": "​",
            "style": "IPY_MODEL_c9e95a0b01284d5bb46748aeba476d73",
            "value": " 375/375 [00:03&lt;00:00, 97.01it/s]"
          }
        },
        "eb64f3a810144aaaaff23b1c45d5e4bc": {
          "model_module": "@jupyter-widgets/base",
          "model_name": "LayoutModel",
          "model_module_version": "1.2.0",
          "state": {
            "_model_module": "@jupyter-widgets/base",
            "_model_module_version": "1.2.0",
            "_model_name": "LayoutModel",
            "_view_count": null,
            "_view_module": "@jupyter-widgets/base",
            "_view_module_version": "1.2.0",
            "_view_name": "LayoutView",
            "align_content": null,
            "align_items": null,
            "align_self": null,
            "border": null,
            "bottom": null,
            "display": "inline-flex",
            "flex": null,
            "flex_flow": "row wrap",
            "grid_area": null,
            "grid_auto_columns": null,
            "grid_auto_flow": null,
            "grid_auto_rows": null,
            "grid_column": null,
            "grid_gap": null,
            "grid_row": null,
            "grid_template_areas": null,
            "grid_template_columns": null,
            "grid_template_rows": null,
            "height": null,
            "justify_content": null,
            "justify_items": null,
            "left": null,
            "margin": null,
            "max_height": null,
            "max_width": null,
            "min_height": null,
            "min_width": null,
            "object_fit": null,
            "object_position": null,
            "order": null,
            "overflow": null,
            "overflow_x": null,
            "overflow_y": null,
            "padding": null,
            "right": null,
            "top": null,
            "visibility": "hidden",
            "width": "100%"
          }
        },
        "de18e08c523c412cb64e41f0177d2499": {
          "model_module": "@jupyter-widgets/base",
          "model_name": "LayoutModel",
          "model_module_version": "1.2.0",
          "state": {
            "_model_module": "@jupyter-widgets/base",
            "_model_module_version": "1.2.0",
            "_model_name": "LayoutModel",
            "_view_count": null,
            "_view_module": "@jupyter-widgets/base",
            "_view_module_version": "1.2.0",
            "_view_name": "LayoutView",
            "align_content": null,
            "align_items": null,
            "align_self": null,
            "border": null,
            "bottom": null,
            "display": null,
            "flex": null,
            "flex_flow": null,
            "grid_area": null,
            "grid_auto_columns": null,
            "grid_auto_flow": null,
            "grid_auto_rows": null,
            "grid_column": null,
            "grid_gap": null,
            "grid_row": null,
            "grid_template_areas": null,
            "grid_template_columns": null,
            "grid_template_rows": null,
            "height": null,
            "justify_content": null,
            "justify_items": null,
            "left": null,
            "margin": null,
            "max_height": null,
            "max_width": null,
            "min_height": null,
            "min_width": null,
            "object_fit": null,
            "object_position": null,
            "order": null,
            "overflow": null,
            "overflow_x": null,
            "overflow_y": null,
            "padding": null,
            "right": null,
            "top": null,
            "visibility": null,
            "width": null
          }
        },
        "144d7f94faef4a9d8b6688aed4a36ce7": {
          "model_module": "@jupyter-widgets/controls",
          "model_name": "DescriptionStyleModel",
          "model_module_version": "1.5.0",
          "state": {
            "_model_module": "@jupyter-widgets/controls",
            "_model_module_version": "1.5.0",
            "_model_name": "DescriptionStyleModel",
            "_view_count": null,
            "_view_module": "@jupyter-widgets/base",
            "_view_module_version": "1.2.0",
            "_view_name": "StyleView",
            "description_width": ""
          }
        },
        "13c2857d3eb449e5bebdfe07d31c8fa8": {
          "model_module": "@jupyter-widgets/base",
          "model_name": "LayoutModel",
          "model_module_version": "1.2.0",
          "state": {
            "_model_module": "@jupyter-widgets/base",
            "_model_module_version": "1.2.0",
            "_model_name": "LayoutModel",
            "_view_count": null,
            "_view_module": "@jupyter-widgets/base",
            "_view_module_version": "1.2.0",
            "_view_name": "LayoutView",
            "align_content": null,
            "align_items": null,
            "align_self": null,
            "border": null,
            "bottom": null,
            "display": null,
            "flex": "2",
            "flex_flow": null,
            "grid_area": null,
            "grid_auto_columns": null,
            "grid_auto_flow": null,
            "grid_auto_rows": null,
            "grid_column": null,
            "grid_gap": null,
            "grid_row": null,
            "grid_template_areas": null,
            "grid_template_columns": null,
            "grid_template_rows": null,
            "height": null,
            "justify_content": null,
            "justify_items": null,
            "left": null,
            "margin": null,
            "max_height": null,
            "max_width": null,
            "min_height": null,
            "min_width": null,
            "object_fit": null,
            "object_position": null,
            "order": null,
            "overflow": null,
            "overflow_x": null,
            "overflow_y": null,
            "padding": null,
            "right": null,
            "top": null,
            "visibility": null,
            "width": null
          }
        },
        "6156bb3f09444ec6ad33b6c0b4622671": {
          "model_module": "@jupyter-widgets/controls",
          "model_name": "ProgressStyleModel",
          "model_module_version": "1.5.0",
          "state": {
            "_model_module": "@jupyter-widgets/controls",
            "_model_module_version": "1.5.0",
            "_model_name": "ProgressStyleModel",
            "_view_count": null,
            "_view_module": "@jupyter-widgets/base",
            "_view_module_version": "1.2.0",
            "_view_name": "StyleView",
            "bar_color": null,
            "description_width": ""
          }
        },
        "a413ea2257e44fe59acc780ddc68839d": {
          "model_module": "@jupyter-widgets/base",
          "model_name": "LayoutModel",
          "model_module_version": "1.2.0",
          "state": {
            "_model_module": "@jupyter-widgets/base",
            "_model_module_version": "1.2.0",
            "_model_name": "LayoutModel",
            "_view_count": null,
            "_view_module": "@jupyter-widgets/base",
            "_view_module_version": "1.2.0",
            "_view_name": "LayoutView",
            "align_content": null,
            "align_items": null,
            "align_self": null,
            "border": null,
            "bottom": null,
            "display": null,
            "flex": null,
            "flex_flow": null,
            "grid_area": null,
            "grid_auto_columns": null,
            "grid_auto_flow": null,
            "grid_auto_rows": null,
            "grid_column": null,
            "grid_gap": null,
            "grid_row": null,
            "grid_template_areas": null,
            "grid_template_columns": null,
            "grid_template_rows": null,
            "height": null,
            "justify_content": null,
            "justify_items": null,
            "left": null,
            "margin": null,
            "max_height": null,
            "max_width": null,
            "min_height": null,
            "min_width": null,
            "object_fit": null,
            "object_position": null,
            "order": null,
            "overflow": null,
            "overflow_x": null,
            "overflow_y": null,
            "padding": null,
            "right": null,
            "top": null,
            "visibility": null,
            "width": null
          }
        },
        "c9e95a0b01284d5bb46748aeba476d73": {
          "model_module": "@jupyter-widgets/controls",
          "model_name": "DescriptionStyleModel",
          "model_module_version": "1.5.0",
          "state": {
            "_model_module": "@jupyter-widgets/controls",
            "_model_module_version": "1.5.0",
            "_model_name": "DescriptionStyleModel",
            "_view_count": null,
            "_view_module": "@jupyter-widgets/base",
            "_view_module_version": "1.2.0",
            "_view_name": "StyleView",
            "description_width": ""
          }
        },
        "62697a5e058742d4ba8d8f9da8cb740a": {
          "model_module": "@jupyter-widgets/controls",
          "model_name": "HBoxModel",
          "model_module_version": "1.5.0",
          "state": {
            "_dom_classes": [],
            "_model_module": "@jupyter-widgets/controls",
            "_model_module_version": "1.5.0",
            "_model_name": "HBoxModel",
            "_view_count": null,
            "_view_module": "@jupyter-widgets/controls",
            "_view_module_version": "1.5.0",
            "_view_name": "HBoxView",
            "box_style": "",
            "children": [
              "IPY_MODEL_485c535edbed43df9f5823b5604b2b89",
              "IPY_MODEL_e417a16ef8df4e8da9d4b37152e32410",
              "IPY_MODEL_b918e8b2ea744c82b042e54307458b50"
            ],
            "layout": "IPY_MODEL_7a8d26fb01a2409db19bac88580950d3"
          }
        },
        "485c535edbed43df9f5823b5604b2b89": {
          "model_module": "@jupyter-widgets/controls",
          "model_name": "HTMLModel",
          "model_module_version": "1.5.0",
          "state": {
            "_dom_classes": [],
            "_model_module": "@jupyter-widgets/controls",
            "_model_module_version": "1.5.0",
            "_model_name": "HTMLModel",
            "_view_count": null,
            "_view_module": "@jupyter-widgets/controls",
            "_view_module_version": "1.5.0",
            "_view_name": "HTMLView",
            "description": "",
            "description_tooltip": null,
            "layout": "IPY_MODEL_70eb5b78fe2c45b59469e22bb42cdf09",
            "placeholder": "​",
            "style": "IPY_MODEL_89da6f02f0ad4131b39640b87b8a9334",
            "value": "Validation DataLoader 0: 100%"
          }
        },
        "e417a16ef8df4e8da9d4b37152e32410": {
          "model_module": "@jupyter-widgets/controls",
          "model_name": "FloatProgressModel",
          "model_module_version": "1.5.0",
          "state": {
            "_dom_classes": [],
            "_model_module": "@jupyter-widgets/controls",
            "_model_module_version": "1.5.0",
            "_model_name": "FloatProgressModel",
            "_view_count": null,
            "_view_module": "@jupyter-widgets/controls",
            "_view_module_version": "1.5.0",
            "_view_name": "ProgressView",
            "bar_style": "",
            "description": "",
            "description_tooltip": null,
            "layout": "IPY_MODEL_f789bb8e1e3648e5a6136062c81f0683",
            "max": 375,
            "min": 0,
            "orientation": "horizontal",
            "style": "IPY_MODEL_02daf8ed0c064dbdb690ff5235dddcf1",
            "value": 375
          }
        },
        "b918e8b2ea744c82b042e54307458b50": {
          "model_module": "@jupyter-widgets/controls",
          "model_name": "HTMLModel",
          "model_module_version": "1.5.0",
          "state": {
            "_dom_classes": [],
            "_model_module": "@jupyter-widgets/controls",
            "_model_module_version": "1.5.0",
            "_model_name": "HTMLModel",
            "_view_count": null,
            "_view_module": "@jupyter-widgets/controls",
            "_view_module_version": "1.5.0",
            "_view_name": "HTMLView",
            "description": "",
            "description_tooltip": null,
            "layout": "IPY_MODEL_58ce319f9e0645de91d8cbb4fbd6b2fc",
            "placeholder": "​",
            "style": "IPY_MODEL_2448e9974e5d41168d817ac9ebd4a449",
            "value": " 375/375 [00:03&lt;00:00, 103.08it/s]"
          }
        },
        "7a8d26fb01a2409db19bac88580950d3": {
          "model_module": "@jupyter-widgets/base",
          "model_name": "LayoutModel",
          "model_module_version": "1.2.0",
          "state": {
            "_model_module": "@jupyter-widgets/base",
            "_model_module_version": "1.2.0",
            "_model_name": "LayoutModel",
            "_view_count": null,
            "_view_module": "@jupyter-widgets/base",
            "_view_module_version": "1.2.0",
            "_view_name": "LayoutView",
            "align_content": null,
            "align_items": null,
            "align_self": null,
            "border": null,
            "bottom": null,
            "display": "inline-flex",
            "flex": null,
            "flex_flow": "row wrap",
            "grid_area": null,
            "grid_auto_columns": null,
            "grid_auto_flow": null,
            "grid_auto_rows": null,
            "grid_column": null,
            "grid_gap": null,
            "grid_row": null,
            "grid_template_areas": null,
            "grid_template_columns": null,
            "grid_template_rows": null,
            "height": null,
            "justify_content": null,
            "justify_items": null,
            "left": null,
            "margin": null,
            "max_height": null,
            "max_width": null,
            "min_height": null,
            "min_width": null,
            "object_fit": null,
            "object_position": null,
            "order": null,
            "overflow": null,
            "overflow_x": null,
            "overflow_y": null,
            "padding": null,
            "right": null,
            "top": null,
            "visibility": "hidden",
            "width": "100%"
          }
        },
        "70eb5b78fe2c45b59469e22bb42cdf09": {
          "model_module": "@jupyter-widgets/base",
          "model_name": "LayoutModel",
          "model_module_version": "1.2.0",
          "state": {
            "_model_module": "@jupyter-widgets/base",
            "_model_module_version": "1.2.0",
            "_model_name": "LayoutModel",
            "_view_count": null,
            "_view_module": "@jupyter-widgets/base",
            "_view_module_version": "1.2.0",
            "_view_name": "LayoutView",
            "align_content": null,
            "align_items": null,
            "align_self": null,
            "border": null,
            "bottom": null,
            "display": null,
            "flex": null,
            "flex_flow": null,
            "grid_area": null,
            "grid_auto_columns": null,
            "grid_auto_flow": null,
            "grid_auto_rows": null,
            "grid_column": null,
            "grid_gap": null,
            "grid_row": null,
            "grid_template_areas": null,
            "grid_template_columns": null,
            "grid_template_rows": null,
            "height": null,
            "justify_content": null,
            "justify_items": null,
            "left": null,
            "margin": null,
            "max_height": null,
            "max_width": null,
            "min_height": null,
            "min_width": null,
            "object_fit": null,
            "object_position": null,
            "order": null,
            "overflow": null,
            "overflow_x": null,
            "overflow_y": null,
            "padding": null,
            "right": null,
            "top": null,
            "visibility": null,
            "width": null
          }
        },
        "89da6f02f0ad4131b39640b87b8a9334": {
          "model_module": "@jupyter-widgets/controls",
          "model_name": "DescriptionStyleModel",
          "model_module_version": "1.5.0",
          "state": {
            "_model_module": "@jupyter-widgets/controls",
            "_model_module_version": "1.5.0",
            "_model_name": "DescriptionStyleModel",
            "_view_count": null,
            "_view_module": "@jupyter-widgets/base",
            "_view_module_version": "1.2.0",
            "_view_name": "StyleView",
            "description_width": ""
          }
        },
        "f789bb8e1e3648e5a6136062c81f0683": {
          "model_module": "@jupyter-widgets/base",
          "model_name": "LayoutModel",
          "model_module_version": "1.2.0",
          "state": {
            "_model_module": "@jupyter-widgets/base",
            "_model_module_version": "1.2.0",
            "_model_name": "LayoutModel",
            "_view_count": null,
            "_view_module": "@jupyter-widgets/base",
            "_view_module_version": "1.2.0",
            "_view_name": "LayoutView",
            "align_content": null,
            "align_items": null,
            "align_self": null,
            "border": null,
            "bottom": null,
            "display": null,
            "flex": "2",
            "flex_flow": null,
            "grid_area": null,
            "grid_auto_columns": null,
            "grid_auto_flow": null,
            "grid_auto_rows": null,
            "grid_column": null,
            "grid_gap": null,
            "grid_row": null,
            "grid_template_areas": null,
            "grid_template_columns": null,
            "grid_template_rows": null,
            "height": null,
            "justify_content": null,
            "justify_items": null,
            "left": null,
            "margin": null,
            "max_height": null,
            "max_width": null,
            "min_height": null,
            "min_width": null,
            "object_fit": null,
            "object_position": null,
            "order": null,
            "overflow": null,
            "overflow_x": null,
            "overflow_y": null,
            "padding": null,
            "right": null,
            "top": null,
            "visibility": null,
            "width": null
          }
        },
        "02daf8ed0c064dbdb690ff5235dddcf1": {
          "model_module": "@jupyter-widgets/controls",
          "model_name": "ProgressStyleModel",
          "model_module_version": "1.5.0",
          "state": {
            "_model_module": "@jupyter-widgets/controls",
            "_model_module_version": "1.5.0",
            "_model_name": "ProgressStyleModel",
            "_view_count": null,
            "_view_module": "@jupyter-widgets/base",
            "_view_module_version": "1.2.0",
            "_view_name": "StyleView",
            "bar_color": null,
            "description_width": ""
          }
        },
        "58ce319f9e0645de91d8cbb4fbd6b2fc": {
          "model_module": "@jupyter-widgets/base",
          "model_name": "LayoutModel",
          "model_module_version": "1.2.0",
          "state": {
            "_model_module": "@jupyter-widgets/base",
            "_model_module_version": "1.2.0",
            "_model_name": "LayoutModel",
            "_view_count": null,
            "_view_module": "@jupyter-widgets/base",
            "_view_module_version": "1.2.0",
            "_view_name": "LayoutView",
            "align_content": null,
            "align_items": null,
            "align_self": null,
            "border": null,
            "bottom": null,
            "display": null,
            "flex": null,
            "flex_flow": null,
            "grid_area": null,
            "grid_auto_columns": null,
            "grid_auto_flow": null,
            "grid_auto_rows": null,
            "grid_column": null,
            "grid_gap": null,
            "grid_row": null,
            "grid_template_areas": null,
            "grid_template_columns": null,
            "grid_template_rows": null,
            "height": null,
            "justify_content": null,
            "justify_items": null,
            "left": null,
            "margin": null,
            "max_height": null,
            "max_width": null,
            "min_height": null,
            "min_width": null,
            "object_fit": null,
            "object_position": null,
            "order": null,
            "overflow": null,
            "overflow_x": null,
            "overflow_y": null,
            "padding": null,
            "right": null,
            "top": null,
            "visibility": null,
            "width": null
          }
        },
        "2448e9974e5d41168d817ac9ebd4a449": {
          "model_module": "@jupyter-widgets/controls",
          "model_name": "DescriptionStyleModel",
          "model_module_version": "1.5.0",
          "state": {
            "_model_module": "@jupyter-widgets/controls",
            "_model_module_version": "1.5.0",
            "_model_name": "DescriptionStyleModel",
            "_view_count": null,
            "_view_module": "@jupyter-widgets/base",
            "_view_module_version": "1.2.0",
            "_view_name": "StyleView",
            "description_width": ""
          }
        }
      }
    }
  },
  "cells": [
    {
      "cell_type": "markdown",
      "source": [
        "# Вспомогательный код"
      ],
      "metadata": {
        "id": "GJUDdNB18nIW"
      }
    },
    {
      "cell_type": "code",
      "execution_count": null,
      "metadata": {
        "id": "SBffbGmdYsjm"
      },
      "outputs": [],
      "source": [
        "def exponential_smoothing(scalars, weight):\n",
        "    last = scalars[0]\n",
        "    smoothed = []\n",
        "    for point in scalars:\n",
        "        smoothed_val = last * weight + (1 - weight) * point\n",
        "        smoothed.append(smoothed_val)\n",
        "        last = smoothed_val\n",
        "\n",
        "    return smoothed"
      ]
    },
    {
      "cell_type": "code",
      "execution_count": null,
      "metadata": {
        "id": "En8yMoS7Ysjn"
      },
      "outputs": [],
      "source": [
        "import numpy as np\n",
        "import matplotlib.pyplot as plt\n",
        "import matplotlib.colors as mcolors\n",
        "\n",
        "\n",
        "class HistoryPlotter:\n",
        "    def __init__(self):\n",
        "        # dict for safe learning history\n",
        "        self._history_dict = {}\n",
        "\n",
        "    def add(self, history):\n",
        "        \"\"\"\n",
        "        Save learning history.\n",
        "        history: dict with keys: model_name, epoсhs, loss_on_train, loss_on_test\n",
        "        \"\"\"\n",
        "        self._history_dict[history[\"model_name\"]] = history\n",
        "        self.color_list = list(mcolors.TABLEAU_COLORS.keys())\n",
        "\n",
        "    def plot(self, models, show_smooth=True, smooth_val=0.90):\n",
        "        \"\"\"\n",
        "        Plot informatiom from self._history_dict.\n",
        "        models: list of model_name (len <= 5, or extend color_list)\n",
        "        \"\"\"\n",
        "        fig, ax = plt.subplots(3, 1, figsize=(10, 10))\n",
        "        for model_num, model_name in enumerate(models):\n",
        "            history = self._history_dict[model_name]\n",
        "            for idx, (key, title) in enumerate(\n",
        "                zip([\"loss_on_train\", \"loss_on_test\"], [\"train loss\", \"test loss\"])\n",
        "            ):\n",
        "                epoch_len = len(history[key]) // history[\"epoсhs\"]\n",
        "                loss_len = len(history[key])\n",
        "                ticks_positions = np.arange(history[\"epoсhs\"] + 1)\n",
        "\n",
        "                if show_smooth:\n",
        "                    x = np.arange(len(history[key])) / epoch_len\n",
        "                    # Plot train loss and test loss:\n",
        "                    # 1. plot smoothing vals\n",
        "                    ax[idx].plot(\n",
        "                        x,\n",
        "                        exponential_smoothing(history[key], smooth_val),\n",
        "                        label=model_name + \" smoothed\",\n",
        "                        color=self.color_list[2 * model_num + idx],\n",
        "                    )\n",
        "                    # 2. plot raw vals\n",
        "                    ax[idx].plot(\n",
        "                        x,\n",
        "                        history[key],\n",
        "                        label=model_name + \" raw\",\n",
        "                        alpha=0.2,\n",
        "                        color=self.color_list[2 * model_num + idx],\n",
        "                    )\n",
        "                    # 3. add descriptions if it is nesessary\n",
        "                    if not ax[idx].title.get_text():\n",
        "                        ax[idx].set_title(title)\n",
        "                        ax[idx].set_xlabel(\"epochs\")\n",
        "                        ax[idx].set_ylabel(\"loss\")\n",
        "                        ax[idx].set_xticks(ticks_positions)\n",
        "                        ax[idx].set_xticklabels(np.arange(history[\"epoсhs\"] + 1))\n",
        "                    ax[idx].legend()\n",
        "\n",
        "                # Plot mean train and test loss combined:\n",
        "                # 1. calculate mean and std\n",
        "                mean_loss_on_epoch = [\n",
        "                    np.mean(history[key][i : i + epoch_len])\n",
        "                    for i in range(0, loss_len, epoch_len)\n",
        "                ]\n",
        "                std_loss_on_epoch = [\n",
        "                    np.std(history[key][i : i + epoch_len])\n",
        "                    for i in range(0, loss_len, epoch_len)\n",
        "                ]\n",
        "                # 2. plot\n",
        "                ax[2].errorbar(\n",
        "                    np.arange(history[\"epoсhs\"]) + idx / 30.0,\n",
        "                    mean_loss_on_epoch,\n",
        "                    yerr=std_loss_on_epoch,\n",
        "                    capsize=5,\n",
        "                    fmt=\"X--\",\n",
        "                    label=model_name + \" \" + title,\n",
        "                )\n",
        "                # 3. add descriptions if it is necessary\n",
        "                if not ax[2].title.get_text():\n",
        "                    ax[2].set_title(\"\\nAverage loss per epoch\", {\"fontsize\": 12})\n",
        "                    ax[2].set_xticks(np.arange(history[\"epoсhs\"]))\n",
        "                    ax[2].set_xticklabels(np.arange(history[\"epoсhs\"]))\n",
        "                    ax[2].set_xlabel(\"epochs\")\n",
        "                    ax[2].set_ylabel(\"loss\")\n",
        "                ax[2].legend()\n",
        "        plt.subplots_adjust(hspace=0.4)\n",
        "        plt.show()"
      ]
    },
    {
      "cell_type": "code",
      "source": [
        "history_plotter = HistoryPlotter()"
      ],
      "metadata": {
        "id": "Smk10VuY-ZXO"
      },
      "execution_count": null,
      "outputs": []
    },
    {
      "cell_type": "code",
      "execution_count": null,
      "metadata": {
        "id": "Er8el8R9Ysjn",
        "colab": {
          "base_uri": "https://localhost:8080/"
        },
        "outputId": "98de2696-c8a4-4406-c92b-ad3965993cf0"
      },
      "outputs": [
        {
          "output_type": "stream",
          "name": "stdout",
          "text": [
            "Already downloaded!\n"
          ]
        }
      ],
      "source": [
        "import torch\n",
        "import torchvision\n",
        "import torchvision.transforms as transforms\n",
        "from IPython.display import clear_output\n",
        "from torch.utils.data import DataLoader, random_split\n",
        "from torchvision.datasets import MNIST\n",
        "\n",
        "# transforms for data\n",
        "transform = transforms.Compose(\n",
        "    [transforms.ToTensor(), transforms.Normalize((0.13), (0.3))]\n",
        ")\n",
        "\n",
        "data_set = MNIST(root=\"./MNIST\", train=True, download=True, transform=transform)\n",
        "train_set, val_set = random_split(\n",
        "    data_set, [0.8, 0.2], generator=torch.Generator().manual_seed(42)\n",
        ")\n",
        "test_set = MNIST(root=\"./MNIST\", train=False, download=True, transform=transform)\n",
        "\n",
        "batch_size = 32\n",
        "train_loader = DataLoader(train_set, batch_size=batch_size, shuffle=True, num_workers=2)\n",
        "val_loader = DataLoader(val_set, batch_size=batch_size, shuffle=False, num_workers=2)\n",
        "test_loader = DataLoader(test_set, batch_size=batch_size, shuffle=False, num_workers=2)\n",
        "\n",
        "clear_output()\n",
        "print(\"Already downloaded!\")"
      ]
    },
    {
      "cell_type": "code",
      "execution_count": null,
      "metadata": {
        "id": "XpOCPrOvYsjo"
      },
      "outputs": [],
      "source": [
        "import torch.nn as nn\n",
        "\n",
        "class SimpleMNIST_NN_Batchnorm(nn.Module):\n",
        "    def __init__(self, n_layers):\n",
        "        super().__init__()\n",
        "        self.n_layers = n_layers\n",
        "        layers = [\n",
        "            nn.Linear(28 * 28, 100, bias=False),\n",
        "            nn.BatchNorm1d(100),\n",
        "            nn.Sigmoid(),\n",
        "        ]\n",
        "        for _ in range(0, n_layers - 1):\n",
        "            layers.append(nn.Linear(100, 100, bias=False))\n",
        "            layers.append(nn.BatchNorm1d(100))\n",
        "            layers.append(nn.Sigmoid())\n",
        "        layers.append(nn.Linear(100, 10))\n",
        "        self.layers = nn.Sequential(*layers)\n",
        "\n",
        "    def forward(self, x):\n",
        "        x = x.view(-1, 28 * 28)\n",
        "        x = self.layers(x)\n",
        "        return x"
      ]
    },
    {
      "cell_type": "code",
      "execution_count": null,
      "metadata": {
        "id": "7_QwRtcgYsjo"
      },
      "outputs": [],
      "source": [
        "!pip install -q lightning tbparse\n",
        "clear_output()"
      ]
    },
    {
      "cell_type": "code",
      "execution_count": null,
      "metadata": {
        "id": "n9EnI_7gYsjo"
      },
      "outputs": [],
      "source": [
        "import torch\n",
        "import lightning as L\n",
        "\n",
        "\n",
        "class Pipeline(L.LightningModule):\n",
        "    def __init__(\n",
        "        self,\n",
        "        model,\n",
        "        exp_name=\"baseline\",\n",
        "        criterion=nn.CrossEntropyLoss(),\n",
        "        optimizer_class=torch.optim.SGD,\n",
        "        optimizer_kwargs={\"lr\": 0.001},\n",
        "    ) -> None:\n",
        "        super().__init__()\n",
        "        self.model = model\n",
        "        self.criterion = criterion\n",
        "        self.optimizer_class = optimizer_class\n",
        "        self.optimizer_kwargs = optimizer_kwargs\n",
        "\n",
        "        # Additionally, we will save training logs “manually”\n",
        "        # for visualization within the lecture. Please limit yourself\n",
        "        # to the native training logging tools from PytorchLightning\n",
        "        # when training your own models.\n",
        "        self.history = {\"loss_on_train\": [], \"loss_on_test\": [], \"model_name\": exp_name}\n",
        "\n",
        "    def configure_optimizers(self):\n",
        "        optimizer = self.optimizer_class(\n",
        "            self.model.parameters(), **self.optimizer_kwargs\n",
        "        )\n",
        "        return optimizer\n",
        "\n",
        "    def training_step(self, batch, batch_idx):\n",
        "        x, y = batch\n",
        "        out = self.model(x)\n",
        "        loss = self.criterion(out, y)\n",
        "        self.log(\"loss_on_train\", loss, prog_bar=True)\n",
        "\n",
        "        # aux logging for lecture visualization\n",
        "        self.history[\"loss_on_train\"].append(loss.cpu().detach().item())\n",
        "        return loss\n",
        "\n",
        "    def validation_step(self, batch, batch_idx):\n",
        "        x, y = batch\n",
        "        out = self.model(x)\n",
        "        loss = self.criterion(out, y)\n",
        "        self.log(\"loss_on_test\", loss, prog_bar=True)\n",
        "\n",
        "        # aux logging for lecture visualization\n",
        "        self.history[\"loss_on_test\"].append(loss.cpu().detach().item())"
      ]
    },
    {
      "cell_type": "code",
      "source": [
        "from lightning.pytorch.loggers import TensorBoardLogger\n",
        "\n",
        "model_name = \"batchnorm_increased_lr\"\n",
        "model = SimpleMNIST_NN_Batchnorm(n_layers=3)\n",
        "\n",
        "trainer = L.Trainer(\n",
        "    max_epochs=5,\n",
        "    logger=TensorBoardLogger(save_dir=f\"logs/{model_name}\"),\n",
        "    num_sanity_val_steps=0,\n",
        ")\n",
        "\n",
        "pipeline = Pipeline(model=model, exp_name=model_name, optimizer_kwargs={\"lr\": 1e-2})\n",
        "\n",
        "trainer.fit(model=pipeline, train_dataloaders=train_loader, val_dataloaders=val_loader)\n",
        "\n",
        "history = pipeline.history\n",
        "history[\"epoсhs\"] = trainer.max_epochs\n",
        "history_plotter.add(history)"
      ],
      "metadata": {
        "colab": {
          "base_uri": "https://localhost:8080/",
          "height": 639,
          "referenced_widgets": [
            "d01b505cf757441b8479cae75e1d205a",
            "fa6adc8e01c343cfa18b0b38577ac58d",
            "2b7249926db54e5f9189261304921fb4",
            "1a54902c85f445389a3f9b0f22313a03",
            "186e9fa0a97c4e7d9cc99e70b7751212",
            "07c3f8ad412844aeab811fd607a3bfdc",
            "8cc1e8a1843c4c3288cc1db3431dee85",
            "ba7ae6df8da443c6a702c4161018b49e",
            "6b01ee39c6d4420db179349dbf39c843",
            "ec5fe09d53f64b92b904fe718ad346a9",
            "2863468c87d047909a02719dbab47626",
            "a5b9328ac4084cfe9878fcbc8511b776",
            "2da2f4f915d34ab980b25476e0ed9fac",
            "0bc880c6447e484ab1f5da68b586dbf1",
            "5a972ac69ab348ffaae19687368ac625",
            "812038eb039f4a9c83cbaaf332bc737e",
            "63426ae3e4e64ba7a5857321844c05d5",
            "3ada04ba37ed4deaa81658d5754691cd",
            "78baf0dca9b54853b1312e76b0959f28",
            "f8f61ba0c8d54518a997ad4e7598b700",
            "c66da04bc1e146909a0489c7c7b26883",
            "7b4cbd54138e46a0a55b19bf7484cf62",
            "d1a593f854ab4c88b4e1673d78db34c7",
            "611441a42d9a4e1ba47f7afae022e816",
            "d0f367f9e8f546d6ac918fac32b6db7c",
            "2a8d68af475a4feaad50063ceb0e31aa",
            "ae0f467d22de4c6085d991b18c5fd3f8",
            "707afbf05e644e29b862186903f19460",
            "9b1f6353ba0f4c9d9db6efa5728f9d40",
            "86550b26ee504bcd83e7ec9ac7fb5536",
            "9dec0715de8344d78dcde6f3a300d133",
            "beb7290e55794369896d81c86d3379c2",
            "0a028f384b91438090f49ab272fd18e3",
            "1b0b1d35e1d448edafcf60c01da3b635",
            "ad05d83bfc4f42e2b99f2481ee4fcc96",
            "401d8ce5177f4f1d9f819a9213fdb727",
            "96f883d6f7b8489eb31213ceaad38532",
            "0b6ab69bd90b40618d7a3f246b1c29be",
            "3a863a668f5543f6bdf9b68f1733dfcc",
            "b75543fc3074477abc77f5e15e3d3f02",
            "17f8da6d15964e87a18b0377b0c8d93a",
            "e7d26da5f0e84af7a98c8b066a1a1d5f",
            "d6671abaa8b54199be40bad93d5eada9",
            "0c3cdbbba43c48b6b4249b7336906473",
            "76bf2958e7ce47b083762cf6420b6505",
            "b0ffd3733801489b87ba17665f0b45eb",
            "17dcb01eafa547479056cbb945fba5eb",
            "1664b3d975c04599925bc1cd307ee0cf",
            "eb64f3a810144aaaaff23b1c45d5e4bc",
            "de18e08c523c412cb64e41f0177d2499",
            "144d7f94faef4a9d8b6688aed4a36ce7",
            "13c2857d3eb449e5bebdfe07d31c8fa8",
            "6156bb3f09444ec6ad33b6c0b4622671",
            "a413ea2257e44fe59acc780ddc68839d",
            "c9e95a0b01284d5bb46748aeba476d73",
            "62697a5e058742d4ba8d8f9da8cb740a",
            "485c535edbed43df9f5823b5604b2b89",
            "e417a16ef8df4e8da9d4b37152e32410",
            "b918e8b2ea744c82b042e54307458b50",
            "7a8d26fb01a2409db19bac88580950d3",
            "70eb5b78fe2c45b59469e22bb42cdf09",
            "89da6f02f0ad4131b39640b87b8a9334",
            "f789bb8e1e3648e5a6136062c81f0683",
            "02daf8ed0c064dbdb690ff5235dddcf1",
            "58ce319f9e0645de91d8cbb4fbd6b2fc",
            "2448e9974e5d41168d817ac9ebd4a449"
          ]
        },
        "id": "Zwfee-4NrQSC",
        "outputId": "f74897ae-a252-4d11-f12a-c24bf4a53068"
      },
      "execution_count": null,
      "outputs": [
        {
          "output_type": "stream",
          "name": "stderr",
          "text": [
            "INFO: GPU available: True (cuda), used: True\n",
            "INFO:lightning.pytorch.utilities.rank_zero:GPU available: True (cuda), used: True\n",
            "INFO: TPU available: False, using: 0 TPU cores\n",
            "INFO:lightning.pytorch.utilities.rank_zero:TPU available: False, using: 0 TPU cores\n",
            "INFO: HPU available: False, using: 0 HPUs\n",
            "INFO:lightning.pytorch.utilities.rank_zero:HPU available: False, using: 0 HPUs\n",
            "INFO: LOCAL_RANK: 0 - CUDA_VISIBLE_DEVICES: [0]\n",
            "INFO:lightning.pytorch.accelerators.cuda:LOCAL_RANK: 0 - CUDA_VISIBLE_DEVICES: [0]\n",
            "INFO: \n",
            "  | Name      | Type                     | Params | Mode \n",
            "---------------------------------------------------------------\n",
            "0 | model     | SimpleMNIST_NN_Batchnorm | 100 K  | train\n",
            "1 | criterion | CrossEntropyLoss         | 0      | train\n",
            "---------------------------------------------------------------\n",
            "100 K     Trainable params\n",
            "0         Non-trainable params\n",
            "100 K     Total params\n",
            "0.400     Total estimated model params size (MB)\n",
            "13        Modules in train mode\n",
            "0         Modules in eval mode\n",
            "INFO:lightning.pytorch.callbacks.model_summary:\n",
            "  | Name      | Type                     | Params | Mode \n",
            "---------------------------------------------------------------\n",
            "0 | model     | SimpleMNIST_NN_Batchnorm | 100 K  | train\n",
            "1 | criterion | CrossEntropyLoss         | 0      | train\n",
            "---------------------------------------------------------------\n",
            "100 K     Trainable params\n",
            "0         Non-trainable params\n",
            "100 K     Total params\n",
            "0.400     Total estimated model params size (MB)\n",
            "13        Modules in train mode\n",
            "0         Modules in eval mode\n"
          ]
        },
        {
          "output_type": "display_data",
          "data": {
            "text/plain": [
              "Training: |          | 0/? [00:00<?, ?it/s]"
            ],
            "application/vnd.jupyter.widget-view+json": {
              "version_major": 2,
              "version_minor": 0,
              "model_id": "d01b505cf757441b8479cae75e1d205a"
            }
          },
          "metadata": {}
        },
        {
          "output_type": "display_data",
          "data": {
            "text/plain": [
              "Validation: |          | 0/? [00:00<?, ?it/s]"
            ],
            "application/vnd.jupyter.widget-view+json": {
              "version_major": 2,
              "version_minor": 0,
              "model_id": "a5b9328ac4084cfe9878fcbc8511b776"
            }
          },
          "metadata": {}
        },
        {
          "output_type": "display_data",
          "data": {
            "text/plain": [
              "Validation: |          | 0/? [00:00<?, ?it/s]"
            ],
            "application/vnd.jupyter.widget-view+json": {
              "version_major": 2,
              "version_minor": 0,
              "model_id": "d1a593f854ab4c88b4e1673d78db34c7"
            }
          },
          "metadata": {}
        },
        {
          "output_type": "display_data",
          "data": {
            "text/plain": [
              "Validation: |          | 0/? [00:00<?, ?it/s]"
            ],
            "application/vnd.jupyter.widget-view+json": {
              "version_major": 2,
              "version_minor": 0,
              "model_id": "1b0b1d35e1d448edafcf60c01da3b635"
            }
          },
          "metadata": {}
        },
        {
          "output_type": "display_data",
          "data": {
            "text/plain": [
              "Validation: |          | 0/? [00:00<?, ?it/s]"
            ],
            "application/vnd.jupyter.widget-view+json": {
              "version_major": 2,
              "version_minor": 0,
              "model_id": "76bf2958e7ce47b083762cf6420b6505"
            }
          },
          "metadata": {}
        },
        {
          "output_type": "display_data",
          "data": {
            "text/plain": [
              "Validation: |          | 0/? [00:00<?, ?it/s]"
            ],
            "application/vnd.jupyter.widget-view+json": {
              "version_major": 2,
              "version_minor": 0,
              "model_id": "62697a5e058742d4ba8d8f9da8cb740a"
            }
          },
          "metadata": {}
        },
        {
          "output_type": "stream",
          "name": "stderr",
          "text": [
            "INFO: `Trainer.fit` stopped: `max_epochs=5` reached.\n",
            "INFO:lightning.pytorch.utilities.rank_zero:`Trainer.fit` stopped: `max_epochs=5` reached.\n"
          ]
        }
      ]
    },
    {
      "cell_type": "markdown",
      "source": [],
      "metadata": {
        "id": "ftKZDe9FKnZ5"
      }
    },
    {
      "cell_type": "markdown",
      "metadata": {
        "id": "Ez6OSSEzf3bH"
      },
      "source": [
        "# Оптимизация параметров нейросетей"
      ]
    },
    {
      "cell_type": "markdown",
      "metadata": {
        "id": "uDwpj4jaf3bH"
      },
      "source": [
        "В процессе обучения мы пытаемся подобрать параметры модели, при которых она будет работать лучше всего. Это **оптимизационная задача** (задача подбора оптимальных параметров). Мы уже ознакомились с одним алгоритмом оптимизации параметров — **градиентным спуском**.\n",
        "\n",
        "Существует множество **алгоритмов оптимизации**, которые можно применять для поиска минимума функционала ошибки ([неполный список 🎓[article]](https://paperswithcode.com/methods/category/stochastic-optimization)). Эти алгоритмы реализованы в модуле `torch.optim` [🛠️[doc]](https://pytorch.org/docs/stable/optim.html).\n",
        "\n",
        "Важно отметить, что **выбор оптимизатора не влияет на расчет градиента**. Градиент в PyTorch вычисляется автоматически на основе графа вычислений.\n"
      ]
    },
    {
      "cell_type": "markdown",
      "metadata": {
        "id": "IR6cHLcqf3bH"
      },
      "source": [
        "## Обзор популярных оптимизаторов"
      ]
    },
    {
      "cell_type": "markdown",
      "metadata": {
        "id": "6e9KRexef3bH"
      },
      "source": [
        "### SGD (stochastic gradient descent)"
      ]
    },
    {
      "cell_type": "markdown",
      "metadata": {
        "id": "NqdAwP-mf3bH"
      },
      "source": [
        "При градиентном спуске мы:\n",
        "- делаем **прямой проход**, вычисляем функционал ошибки $\\large L(x, y, w_t)$;\n",
        "- делаем **обратный проход**, вычисляем градиент $\\large \\nabla_wL(x, y, w_t)$;\n",
        "- делаем **шаг оптимизации**: изменяем параметры модели по формуле:\n",
        "\n",
        "$$\\large w_{t+1} = w_t - \\text{lr} \\cdot \\nabla_wL(x, y, w_t),$$\n",
        "\n",
        "домножая антиградиент на постоянный коэффициент $\\text{lr}$ (гиперпараметр обучения — learning rate)."
      ]
    },
    {
      "cell_type": "markdown",
      "metadata": {
        "id": "EwgGt1Iuf3bH"
      },
      "source": [
        "<img src =\"https://ml.gan4x4.ru/msu/dev-2.2/L07/out/stochastic_gradient_descent.gif\" width=\"950\">"
      ]
    },
    {
      "cell_type": "markdown",
      "metadata": {
        "id": "nFYO8K3Sf3bH"
      },
      "source": [
        "У данного алгоритма есть проблема: он может застревать в **локальных минимумах** или даже **седловых точках**.\n",
        "\n",
        "**Cедловые точки** — точки, в которых все производные равны $0$, но они не являются экстремумами. В них градиент равен $0$, веса не обновляются — оптимизация останавливается.\n",
        "\n",
        "Пример таких точек:\n",
        "\n",
        "- точка $(0, 0)$ у функции $y = x^3$, не имеющей минимума или максимума вовсе;\n",
        "- точка $(0, 0, 0)$ у функции $z = x^2 - y^2$."
      ]
    },
    {
      "cell_type": "markdown",
      "metadata": {
        "id": "8zZBBfAtf3bH"
      },
      "source": [
        "<center><img src =\"https://ml.gan4x4.ru/msu/dev-2.2/L07/out/getting_stuck_in_local_minimum_example.png\" width=\"350\"> <img src =\"https://ml.gan4x4.ru/msu/dep-2.2/L07/saddle_point_example.png\" width=\"400\"></center>\n",
        "\n",
        "<center><em>Source: <a href=\"https://ru.wikipedia.org/wiki/%D0%A1%D0%B5%D0%B4%D0%BB%D0%BE%D0%B2%D0%B0%D1%8F_%D1%82%D0%BE%D1%87%D0%BA%D0%B0\">Седловая точка</a></em></center>"
      ]
    },
    {
      "cell_type": "markdown",
      "metadata": {
        "id": "CshZedHaf3bH"
      },
      "source": [
        "Частично эту проблему решает **стохастический градиентный спуск** (stochastic gradient descent, **SGD**). В нем для градиентного спуска используются не все данные, а некоторая подвыборка (mini-batch) или даже один элемент.\n"
      ]
    },
    {
      "cell_type": "markdown",
      "metadata": {
        "id": "J6Vt2htQf3bH"
      },
      "source": [
        "**SGD** обладает важной особенностью: на каждом объекте или подвыборке (mini-batch) ландшафт функции потерь выглядит по-разному. Некоторые минимумы функции потерь и седловые точки могут быть характерны лишь для части объектов.\n",
        "\n",
        "Ниже **упрощенно** показаны ландшафты функции потерь на полном датасете и на отдельных батчах. При оптимизации на полном датасете модель могла бы **остановиться в левом локальном минимуме**, но стохастическая природа спуска позволяет избежать этого за счет того, что **для некоторых батчей этот минимум отсутствует**.\n",
        "\n",
        "В результате модель сможет остановиться только в каком-то относительно широком и глубоком минимуме, характерном для большинства батчей обучающих данных. С большой вероятностью этот минимум будет присутствовать и на реальных данных, то есть модель сможет адекватно работать с ними."
      ]
    },
    {
      "cell_type": "markdown",
      "metadata": {
        "id": "JTmyK2Xnf3bH"
      },
      "source": [
        "<center><img src =\"https://ml.gan4x4.ru/msu/dev-2.2/L07/out/sgd_loss_batch_landscape.png\" width=\"700\"></center>"
      ]
    },
    {
      "cell_type": "markdown",
      "metadata": {
        "id": "fnqagVUCf3bH"
      },
      "source": [
        "**SGD** до сих пор является достаточно популярным методом обучения нейросетей, потому что он простой, не требует подбора дополнительных гиперпараметров, кроме **скорости обучения** `lr`, и сам по себе обычно дает неплохие результаты.\n",
        "\n",
        "Если же модель учится слишком долго и/или важна каждая сотая в качестве, то нужно либо использовать его в совокупности с другими техниками (их рассмотрим далее), либо использовать другие способы."
      ]
    },
    {
      "cell_type": "markdown",
      "metadata": {
        "id": "-Yy_eunOf3bH"
      },
      "source": [
        "Фрагмент кода для понимания работы SGD:\n",
        "\n",
        "```python\n",
        "class SGD:\n",
        "  def __init__(self, parameters, lr):\n",
        "    self.parameters = parameters\n",
        "    self.lr = lr\n",
        "\n",
        "  def step(self):\n",
        "    d_parameters = self.parameters.grad\n",
        "    self.parameters -= self.lr*d_parameters\n",
        "```"
      ]
    },
    {
      "cell_type": "markdown",
      "metadata": {
        "id": "Ug0P6yIVf3bI"
      },
      "source": [
        "Алгоритм SGD реализован в `torch.optim.SGD` [🛠️[doc]](https://pytorch.org/docs/stable/generated/torch.optim.SGD.html):"
      ]
    },
    {
      "cell_type": "code",
      "execution_count": null,
      "metadata": {
        "id": "bMX0AKEQf3bI"
      },
      "outputs": [],
      "source": [
        "import torch.optim as optim\n",
        "\n",
        "parameters = torch.randn(10, requires_grad=True)\n",
        "optimizer = optim.SGD(model.parameters(), lr=0.001)"
      ]
    },
    {
      "cell_type": "markdown",
      "metadata": {
        "id": "udWmsdW4f3bI"
      },
      "source": [
        "**Минусы SGD**:\n",
        "\n",
        " 1. Если функция ошибки в одном направлении меняется быстро, а в другом — медленно, то это приводит к резким изменениям направления градиентов и замедляет процесс обучения.\n"
      ]
    },
    {
      "cell_type": "markdown",
      "metadata": {
        "id": "NQEvOQlcf3bI"
      },
      "source": [
        "<center><img src =\"https://ml.gan4x4.ru/msu/dev-2.2/L07/out/stohastic_gradient_descent_no_momentum.gif\" width=\"500\"></center>\n"
      ]
    },
    {
      "cell_type": "markdown",
      "metadata": {
        "id": "kwYlzYmLf3bI"
      },
      "source": [
        "2. Может застревать в локальных минимумах или седловых точках.\n",
        "3. Мы оцениваем градиент по малым частям выборки, которые могут плохо отображать градиент по всей выборке и являться шумными. В результате часть шагов градиентного спуска делается впустую или во вред.\n",
        "4. Мы применяем один и тот же `learning rate` ко всем параметрам, что не всегда разумно. Параметр, отвечающий редкому классу, будет обучаться медленнее остальных.\n"
      ]
    },
    {
      "cell_type": "markdown",
      "metadata": {
        "id": "nV8892mWf3bI"
      },
      "source": [
        "**SGD** является основой всех описанных ниже алгоритмов."
      ]
    },
    {
      "cell_type": "markdown",
      "metadata": {
        "id": "XYb0y0hKf3bI"
      },
      "source": [
        "### Momentum"
      ]
    },
    {
      "cell_type": "markdown",
      "metadata": {
        "id": "K9jjWYuJf3bI"
      },
      "source": [
        "Чтобы избежать проблем 1–3, можно добавить движению по ландшафту функции ошибок инерцию (**momentum**). По аналогии с реальной жизнью: если мяч катится с горки, то он благодаря инерции может проскочить пологое место или даже небольшую яму."
      ]
    },
    {
      "cell_type": "markdown",
      "metadata": {
        "id": "i3cfaOduf3bI"
      },
      "source": [
        "Корректируем направление движения шарика с учетом текущего градиента:\n",
        "\n",
        "$$\\large v_{t} = m \\cdot v_{t-1} + \\nabla_wL(x, y, w_{t}),$$\n",
        "\n",
        "где $m \\in [0, 1)$ — momentum (гиперпараметр).\n",
        "\n",
        "Вычисляем, куда он покатится:\n",
        "\n",
        "$$\\large w_{t+1} = w_t - \\text{lr} \\cdot v_{t}$$"
      ]
    },
    {
      "cell_type": "markdown",
      "metadata": {
        "id": "Fh3tFEE4f3bI"
      },
      "source": [
        "<center><img src =\"https://ml.gan4x4.ru/msu/dev-2.2/L07/out/advantages_wtih_momentum.png\" width=\"480\"></center>"
      ]
    },
    {
      "cell_type": "markdown",
      "metadata": {
        "id": "9Ei1uVznf3bJ"
      },
      "source": [
        "[[video] 📺 Градиентный спуск, как обучаются нейронные сети](https://youtu.be/IHZwWFHWa-w)"
      ]
    },
    {
      "cell_type": "markdown",
      "metadata": {
        "id": "uwxyS_26f3bJ"
      },
      "source": [
        "Теперь мы быстрее достигаем локального минимума и можем выкатываться из совсем неглубоких. Градиент стал менее подвержен шуму, меньше осциллирует."
      ]
    },
    {
      "cell_type": "markdown",
      "metadata": {
        "id": "pWiEW1s8f3bJ"
      },
      "source": [
        "<img src =\"https://ml.gan4x4.ru/msu/dev-2.2/L07/out/stohastic_gradient_descent_no_momentum.gif\" width=\"500\"> <img src =\"https://ml.gan4x4.ru/msu/dev-2.2/L07/out/stohastic_gradient_descent_with_momentum.gif\" width=\"500\">"
      ]
    },
    {
      "cell_type": "markdown",
      "metadata": {
        "id": "3Ru4Py4Vf3bJ"
      },
      "source": [
        "Фрагмент кода для понимания работы Momentum:\n",
        "\n",
        "```python\n",
        "class SGD_with_momentum:\n",
        "  def __init__(self, parameters, momentum, lr):\n",
        "    self.parameters = parameters\n",
        "    self.momentum = momentum\n",
        "    self.lr = lr\n",
        "    self.velocity = torch.zeros_like(parameters)\n",
        "\n",
        "  def step(self):\n",
        "    d_parameters = self.parameters.grad\n",
        "    self.velocity =  self.momentum*self.velocity + d_parameters\n",
        "    self.weights -= self.lr*self.velocity\n",
        "```\n"
      ]
    },
    {
      "cell_type": "markdown",
      "metadata": {
        "id": "3Tcm5nR9f3bJ"
      },
      "source": [
        "**Momentum удваивает количество хранимых параметров.**"
      ]
    },
    {
      "cell_type": "markdown",
      "metadata": {
        "id": "uAb901eof3bJ"
      },
      "source": [
        "Алгоритм Momentum реализован в `torch.optim.SGD` [🛠️[doc]](https://pytorch.org/docs/stable/generated/torch.optim.SGD.html):"
      ]
    },
    {
      "cell_type": "code",
      "execution_count": null,
      "metadata": {
        "id": "7JbOvAjWf3bJ"
      },
      "outputs": [],
      "source": [
        "parameters = torch.randn(10, requires_grad=True)\n",
        "optimizer = optim.SGD(model.parameters(), momentum=0.9, lr=0.001)"
      ]
    },
    {
      "cell_type": "markdown",
      "metadata": {
        "id": "OTlTMfRff3bJ"
      },
      "source": [
        "У этого подхода есть одна опасность — мы можем выкатиться за пределы минимума, к которому стремимся, а потом какое-то время к нему возвращаться."
      ]
    },
    {
      "cell_type": "markdown",
      "metadata": {
        "id": "AeZtqtKaf3bJ"
      },
      "source": [
        "<center><img src =\"https://ml.gan4x4.ru/msu/dep-2.2/L07/problem_of_big_momentum_value.gif\" width=\"700\">\n",
        "\n",
        "<em>Source: <a href=\"https://distill.pub/2017/momentum/\">Why Momentum Really Works</a></em></center>"
      ]
    },
    {
      "cell_type": "markdown",
      "metadata": {
        "id": "9FsAEYOhf3bJ"
      },
      "source": [
        "[[demo] 🎮 Why Momentum Really Works](https://distill.pub/2017/momentum/)"
      ]
    },
    {
      "cell_type": "markdown",
      "metadata": {
        "id": "GLLdysiJf3bJ"
      },
      "source": [
        "Чтобы с этим бороться, предложен другой способ подсчета инерции."
      ]
    },
    {
      "cell_type": "markdown",
      "metadata": {
        "id": "p7OY7PcYf3bJ"
      },
      "source": [
        "### NAG (Nesterov momentum)"
      ]
    },
    {
      "cell_type": "markdown",
      "metadata": {
        "id": "cQK6PLLuf3bJ"
      },
      "source": [
        "Будем сначала смещаться в сторону, куда привел бы нас накопленный градиент, там считать новый градиент и смещаться по нему.\n",
        "В результате перескоки через минимум будут менее значительными и алгоритм будет быстрее сходиться:\n",
        "\n",
        "$$\\large v_{t} = m \\cdot v_{t-1} +  \\nabla_w L(w_t - \\text{lr} \\cdot m \\cdot  v_{t-1} )$$\n",
        "\n",
        "$$\\large w_{t+1} = w_{t} - \\text{lr} \\cdot v_{t} $$"
      ]
    },
    {
      "cell_type": "markdown",
      "metadata": {
        "id": "mTetMJuWf3bJ"
      },
      "source": [
        "<center><img src =\"https://ml.gan4x4.ru/msu/dev-2.2/L07/out/nesterov_momentum.png\" width=\"800\"></center>"
      ]
    },
    {
      "cell_type": "markdown",
      "metadata": {
        "id": "jCOfuROTf3bJ"
      },
      "source": [
        "Кажется, что для реализации такого алгоритма необходимо пересчитывать прямой и обратный проход с новыми параметрами для вычисления градиента. На практике эту формулу можно [переписать 🎓[article]](http://www.cs.toronto.edu/~hinton/absps/momentum.pdf) так, чтобы не пересчитывать градиент.\n",
        "\n",
        "С псевдокодом, описывающим последовательность действий NAG, можно познакомиться в [PyTorch 🛠️[doc]](https://pytorch.org/docs/stable/generated/torch.optim.SGD.html)."
      ]
    },
    {
      "cell_type": "markdown",
      "metadata": {
        "id": "QuQbEa7Nf3bJ"
      },
      "source": [
        "**Так же, как momentum, Nesterov momentum удваивает количество хранимых параметров.**"
      ]
    },
    {
      "cell_type": "markdown",
      "metadata": {
        "id": "16chQWlbf3bJ"
      },
      "source": [
        "Алгоритм Nesterov momentum реализован в `torch.optim.SGD` [🛠️[doc]](https://pytorch.org/docs/stable/generated/torch.optim.SGD.html):"
      ]
    },
    {
      "cell_type": "code",
      "execution_count": null,
      "metadata": {
        "id": "qT5DF5bhf3bK"
      },
      "outputs": [],
      "source": [
        "parameters = torch.randn(10, requires_grad=True)\n",
        "optimizer = optim.SGD(model.parameters(), momentum=0.9, nesterov=True, lr=0.001)"
      ]
    },
    {
      "cell_type": "markdown",
      "metadata": {
        "id": "fFNIUB6Uf3bK"
      },
      "source": [
        "### Adaptive Learning Rate"
      ]
    },
    {
      "cell_type": "markdown",
      "metadata": {
        "id": "vwe6sjyJf3bK"
      },
      "source": [
        "Описанные алгоритмы не борются с 4-ой проблемой SGD: \"мы применяем **один и тот же learning rate ко всем параметрам**, что не всегда разумно. Параметр, отвечающий редкому классу, будет обучаться медленнее остальных\".\n",
        "\n",
        "**Пример:** мы решаем задачу классификации картинок из Интернета, и у нас есть параметры, ответственные за признаки, которые характеризуют кошек породы сфинкс. Кошки породы сфинкс встречаются в нашем датасете редко, и эти параметры реже получают информацию для обновления. Поэтому наша модель может хуже классифицировать кошек этой породы.\n",
        "\n",
        "Для решения этой проблемы мы можем завести для каждого параметра **индивидуальный learning rate**, зависящий от того, как часто и как сильно изменяется этот параметр в процессе обучения."
      ]
    },
    {
      "cell_type": "markdown",
      "metadata": {
        "id": "ab4nyl1of3bK"
      },
      "source": [
        "### Adagrad"
      ]
    },
    {
      "cell_type": "markdown",
      "metadata": {
        "id": "aSX8pC4nf3bK"
      },
      "source": [
        "Будем хранить для каждого параметра **сумму квадратов его градиентов** (запоминаем, как часто и как сильно он изменялся).\n",
        "\n",
        "И будем вычитать из значений параметров градиент с коэффициентом, обратно пропорциональным корню из этой суммы $G_t$."
      ]
    },
    {
      "cell_type": "markdown",
      "metadata": {
        "id": "9lWUq8Z8f3bK"
      },
      "source": [
        "$$\\large G_ t = \\sum_{i=1}^t \\nabla_w L(x,y,w_i)\\odot\\nabla_w L(x,y,w_i), $$\n",
        "\n",
        "$$\\large w_{t+1} = w_{t} -  \\frac{\\text{lr}}{\\sqrt{G_t} + e} \\odot \\nabla_w L(x,y,w_{t}), $$\n",
        "\n",
        "где $e$ — малая константа, чтобы не допускать деления на ноль, $\\odot$ — поэлементное умножение."
      ]
    },
    {
      "cell_type": "markdown",
      "metadata": {
        "id": "Jog1g5vSf3bK"
      },
      "source": [
        "В результате, если градиент у нашего веса часто большой, коэффициент будет уменьшаться.\n",
        "\n",
        "Проблема заключается в том, что при такой формуле learning rate неминуемо в конце концов затухает (так как сумма квадратов не убывает).\n"
      ]
    },
    {
      "cell_type": "markdown",
      "metadata": {
        "id": "ASKKqjk7f3bK"
      },
      "source": [
        "Фрагмент кода для понимания работы Adagrad:\n",
        "\n",
        "```python\n",
        "class AdaGrad:\n",
        "  def __init__(self, parameters, lr=0.01):\n",
        "     self.parameters = parameters\n",
        "     self.lr = lr\n",
        "     self.grad_squared = torch.zeros_like(parameters)\n",
        "\n",
        "  def step(self):\n",
        "    d_parameters = self.parameters.grad\n",
        "    self.grad_squared += d_parameters*d_parameters\n",
        "    self.parameters -= self.lr*d_parameters / (torch.sqrt(self.grad_squared) + 1e-7)\n",
        "```\n",
        "\n"
      ]
    },
    {
      "cell_type": "markdown",
      "metadata": {
        "id": "HUiZ9P4Nf3bK"
      },
      "source": [
        "**Adagrad удваивает количество хранимых параметров.**"
      ]
    },
    {
      "cell_type": "markdown",
      "metadata": {
        "id": "oN7eapgzf3bK"
      },
      "source": [
        "Алгоритм Adagrad реализован в `torch.optim.Adagrad` [🛠️[doc]](https://pytorch.org/docs/stable/generated/torch.optim.Adagrad.html):"
      ]
    },
    {
      "cell_type": "code",
      "execution_count": null,
      "metadata": {
        "id": "m6Yln6cRf3bL"
      },
      "outputs": [],
      "source": [
        "parameters = torch.randn(10, requires_grad=True)\n",
        "optimizer = optim.Adagrad(model.parameters(), lr=0.01)"
      ]
    },
    {
      "cell_type": "markdown",
      "metadata": {
        "id": "3gc0URGLf3bL"
      },
      "source": [
        "### RMSprop"
      ]
    },
    {
      "cell_type": "markdown",
      "metadata": {
        "id": "CXnPD0Mof3bL"
      },
      "source": [
        "Добавим \"забывание\" предыдущих квадратов градиентов. Теперь мы считаем не сумму квадратов, а [экспоненциальное скользящее среднее 📚[wiki]](https://ru.wikipedia.org/wiki/%D0%A1%D0%BA%D0%BE%D0%BB%D1%8C%D0%B7%D1%8F%D1%89%D0%B0%D1%8F_%D1%81%D1%80%D0%B5%D0%B4%D0%BD%D1%8F%D1%8F) с коэффициентом $\\alpha$.\n",
        "\n",
        "\n",
        "$$\\large G_t = \\alpha \\cdot G_{t-1} + (1-\\alpha) \\cdot \\nabla_w L(x,y,w_t) \\odot \\nabla_w L(x,y,w_t)$$\n",
        "\n",
        "$$\\large w_{t+1} = w_{t} - \\frac{\\text{lr}}{\\sqrt{G_t }+ e} \\odot \\nabla_w L(x,y,w_t)$$"
      ]
    },
    {
      "cell_type": "markdown",
      "metadata": {
        "id": "WooFVTnpf3bL"
      },
      "source": [
        "Фрагмент кода для понимания работы RMSprop (Root Mean Square Propagation):\n",
        "\n",
        "```python\n",
        "class RMSprop():\n",
        "  def __init__(self, parameters, lr=0.01, alpha=0.99):\n",
        "    self.parameters = parameters\n",
        "    self.lr = lr\n",
        "    self.alpha = alpha\n",
        "    self.grad_squared = torch.zeros_like(parameters)\n",
        "\n",
        "  def step(self):\n",
        "    d_parameters = self.parameters.grad\n",
        "    self.grad_squared = self.alpha*self.grad_squared + \\\n",
        "        (1 - self.alpha)*d_parameters*d_parameters\n",
        "\n",
        "    self.parameters -= self.lr*d_parameters / (torch.sqrt(self.grad_squared) + 1e-7)\n",
        "```\n",
        "\n"
      ]
    },
    {
      "cell_type": "markdown",
      "metadata": {
        "id": "-ggRc48nf3bL"
      },
      "source": [
        "**Так же, как Adagrad, RMSprop удваивает количество хранимых параметров.**"
      ]
    },
    {
      "cell_type": "markdown",
      "metadata": {
        "id": "2VxHYrmIf3bL"
      },
      "source": [
        "Алгоритм RMSprop реализован в `torch.optim.RMSprop` [🛠️[doc]](https://pytorch.org/docs/stable/generated/torch.optim.RMSprop.html):"
      ]
    },
    {
      "cell_type": "code",
      "execution_count": null,
      "metadata": {
        "id": "mGe8Cbbjf3bL"
      },
      "outputs": [],
      "source": [
        "parameters = torch.randn(10, requires_grad=True)\n",
        "optimizer = optim.RMSprop(model.parameters(), lr=0.01, alpha=0.99)"
      ]
    },
    {
      "cell_type": "markdown",
      "metadata": {
        "id": "2yZp9Bqdf3bL"
      },
      "source": [
        "### Adam"
      ]
    },
    {
      "cell_type": "markdown",
      "metadata": {
        "id": "G1qGk_0vf3bL"
      },
      "source": [
        "Одним из самых популярных адаптивных оптимизаторов является Adam, объединяющий идеи Momentum и Adaptive learning rate:\n",
        "\n",
        "$$\\large v_t = \\beta_1 \\cdot v_{t-1} + (1-\\beta_1) \\cdot \\nabla_w L(x,y,w_t),$$\n",
        "\n",
        "$$\\large G_t = \\beta_2 \\cdot G_{t-1} + (1-\\beta_2) \\cdot \\nabla_w L(x,y,w_t) \\odot \\nabla_w L(x,y,w_t),$$\n",
        "\n",
        "$$\\large w_{t+1} = w_t - \\frac{\\text{lr}}{\\sqrt{G_t} + e} \\odot v_t,$$\n",
        "\n",
        "где $\\beta_1$ — аналог $m$ из Momentum, а $\\beta_2$ — аналог $\\alpha$ из RMSprop."
      ]
    },
    {
      "cell_type": "markdown",
      "metadata": {
        "id": "caOfo5Lsf3bL"
      },
      "source": [
        "Фрагмент кода для понимания работы Adam:\n",
        "\n",
        "```python\n",
        "class Adam:\n",
        "  def __init__(self, parameters, lr=0.01, betas=(0.9, 0.999)):\n",
        "    self.parameters = parameters\n",
        "    self.lr = lr\n",
        "    self.betas = betas\n",
        "    self.velocity = torch.zeros_like(parameters)\n",
        "    self.grad_squared = torch.zeros_like(parameters)\n",
        "    self.beta_1 = betas[0] # momentum\n",
        "    self.beta_2 = betas[1] # alpha\n",
        "\n",
        "  def step(self):\n",
        "    d_parameters = self.parameters.grad\n",
        "    # Momentum\n",
        "    self.velocity = self.beta_1*self.velocity + (1 - self.beta_1)*d_parameters\n",
        "    # Adaptive learning rate\n",
        "    self.grad_squared = self.beta_2*self.grad_squared + \\\n",
        "        (1 - self.beta_2)*d_parameters*d_parameters\n",
        "    self.parameters -= self.lr*self.velocity / (torch.sqrt(self.grad_squared) + 1e-7)\n",
        "```\n",
        "\n"
      ]
    },
    {
      "cell_type": "markdown",
      "metadata": {
        "id": "PENT9FA9f3bL"
      },
      "source": [
        "**Adam утраивает количество хранимых параметров.**"
      ]
    },
    {
      "cell_type": "markdown",
      "metadata": {
        "id": "PEZpibEkf3bL"
      },
      "source": [
        "Чтобы в начале у нас получались очень большие шаги, будем дополнительно модицифировать инерцию и сумму квадратов:\n",
        "\n",
        "$$\\large v_t = \\frac{v_t}{1-\\beta_1^t}, \\qquad G_t = \\frac{G_t}{1-\\beta_2^t} $$"
      ]
    },
    {
      "cell_type": "markdown",
      "metadata": {
        "id": "UaKEHhwLf3bM"
      },
      "source": [
        "Алгоритм Adam реализован в `torch.optim.Adam` [🛠️[doc]](https://pytorch.org/docs/stable/generated/torch.optim.Adam.html):"
      ]
    },
    {
      "cell_type": "code",
      "execution_count": null,
      "metadata": {
        "id": "r3ib7E2_f3bM"
      },
      "outputs": [],
      "source": [
        "parameters = torch.randn(10, requires_grad=True)\n",
        "optimizer = optim.Adam([parameters], betas=(0.9, 0.999))"
      ]
    },
    {
      "cell_type": "markdown",
      "metadata": {
        "id": "t1YjK7mQf3bM"
      },
      "source": [
        "Пример применения:"
      ]
    },
    {
      "cell_type": "code",
      "execution_count": null,
      "metadata": {
        "colab": {
          "base_uri": "https://localhost:8080/",
          "height": 639,
          "referenced_widgets": [
            "d478b8b2c78944a0a58bb74f34312f76",
            "b92b27c9d048453080be096e1af2e26e",
            "b4090aa4b4a54b42bdeecb895c767d9d",
            "76660a282722427ea2b62a9772eeec01",
            "f1670b4b9ede4288979a48a5995026f8",
            "97551649c5fe4d9a92baf699b975ea6d",
            "410bfe0a46944faa99e6fe286997d128",
            "6da62525eee347f0bfb46c4819b4ea88",
            "eab6eac48c5d469db63767beb3ab1e6a",
            "283317809e3f46dc889a1963576e67a9",
            "719556270e3640a09c2e2fd2fe4251f6",
            "fa9f7a5120ae4cf79f8c4b0a3fc44f06",
            "3d8e5e7616ce4c4aade84853573754d0",
            "4391dfae2b7240d0bdc8d4fd57cae4ce",
            "4f7c4d1d4277403d92ba292644529649",
            "851027b8cd26434f8d4f5b211fd90776",
            "aa6b128a236e4dff94181aea0e404a24",
            "26cc682ea2ad42358b99d52d3edd0241",
            "8e00166b87384835ae22708a3c7f02af",
            "2e82443b78ca4d208ce38123357bb4f4",
            "201091a5a1f447cb98c0c68b426fe6bf",
            "38f5825742df4cbaaa5dfddc20f864f8",
            "177e553a9d984785a00a9d77a13fddec",
            "f32ea9b0d57f422d807689a6c08cc820",
            "2a8759792622452f83ddea585f00b055",
            "343957232a6b4de7a95a3ffbaf9a7cf3",
            "bebaac6f090a43fea1bb7791b1211fbf",
            "9e396cd60618467094acd77ca8beb7f7",
            "c7d30c1f37ac4e99915d3e83c48926c1",
            "4c5ddfcdfdb44c59937f621cbab488a1",
            "fb6be7d6e50c4e70adbbb32f5f9690b5",
            "5f2d95347a3b48e9b87d9e7378816a23",
            "0bf1694ffc5d406b870fef17622d1cef",
            "27265f6cefdb476eb78f9eee9b4c8141",
            "48ece64336f94be2afdb31ad073a823f",
            "6e9f8a246a3e435abbcbe142757e7f31",
            "c92b4852af004c9abf061bd2c19e6cd6",
            "a9c013343fad43d5bcabab5220b16e3e",
            "7cd8ca8c69444cdcaa0f2525e59a9105",
            "2b58f733e8fb446a91653f5ad7441de9",
            "dd350df6800e4c878180a1bf9e524eeb",
            "614373b534be438398f7f8f001d39988",
            "67fc0fc0df694844a4d12003502c470a",
            "82f87da8ce33417fad353b00ddcf77cf",
            "28d8d296cf8d4e318591c9b9244e08a2",
            "2ce776f1966e420ba0cc175869fc8cf9",
            "9b2181277b5a409ebc96f6db96af3d12",
            "94d3031c3d0e41c3a418864db6f9932b",
            "6a1502e8673c4519b283fd8ef981d941",
            "af60080f566f4b62a2a69aa3c337acdd",
            "43a8dc3fa7eb4823b96da22cf8e9ae4c",
            "a4b52c8365714b9ead8859994045926a",
            "c7b06012c66b47438145c423ff7c43e9",
            "a8b8b15ab2df43c3b968d3ab403d9791",
            "b071f2a0110449cd9c052929538e1673",
            "d7be14f02f394e20b76975f99470986e",
            "489bb1eda5f94f10a7070431fc8fe4e6",
            "a56479238b384d379ee3c1258ef140b1",
            "2d34fc2aeec044098781f04daa267299",
            "6bdb6114de95464780701609c030c4e5",
            "c331e085717646d09a45312fd29023e0",
            "11eb7b6498454205830a00ae2a318641",
            "acff09d35c6143f2b901dd5029cdc1cc",
            "f0f6157980634adc94d635a3734c32c8",
            "87cf09c8ba3941b399dee01b25b3b7bc",
            "ddf3359366d749e4a4fe729fb0deb0be"
          ]
        },
        "id": "kFcGBGtkf3bM",
        "outputId": "ec60a35d-92f9-4ec2-bde5-dd652cd46222"
      },
      "outputs": [
        {
          "output_type": "stream",
          "name": "stderr",
          "text": [
            "INFO: GPU available: True (cuda), used: True\n",
            "INFO:lightning.pytorch.utilities.rank_zero:GPU available: True (cuda), used: True\n",
            "INFO: TPU available: False, using: 0 TPU cores\n",
            "INFO:lightning.pytorch.utilities.rank_zero:TPU available: False, using: 0 TPU cores\n",
            "INFO: HPU available: False, using: 0 HPUs\n",
            "INFO:lightning.pytorch.utilities.rank_zero:HPU available: False, using: 0 HPUs\n",
            "INFO: LOCAL_RANK: 0 - CUDA_VISIBLE_DEVICES: [0]\n",
            "INFO:lightning.pytorch.accelerators.cuda:LOCAL_RANK: 0 - CUDA_VISIBLE_DEVICES: [0]\n",
            "INFO: \n",
            "  | Name      | Type                     | Params | Mode \n",
            "---------------------------------------------------------------\n",
            "0 | model     | SimpleMNIST_NN_Batchnorm | 100 K  | train\n",
            "1 | criterion | CrossEntropyLoss         | 0      | train\n",
            "---------------------------------------------------------------\n",
            "100 K     Trainable params\n",
            "0         Non-trainable params\n",
            "100 K     Total params\n",
            "0.400     Total estimated model params size (MB)\n",
            "13        Modules in train mode\n",
            "0         Modules in eval mode\n",
            "INFO:lightning.pytorch.callbacks.model_summary:\n",
            "  | Name      | Type                     | Params | Mode \n",
            "---------------------------------------------------------------\n",
            "0 | model     | SimpleMNIST_NN_Batchnorm | 100 K  | train\n",
            "1 | criterion | CrossEntropyLoss         | 0      | train\n",
            "---------------------------------------------------------------\n",
            "100 K     Trainable params\n",
            "0         Non-trainable params\n",
            "100 K     Total params\n",
            "0.400     Total estimated model params size (MB)\n",
            "13        Modules in train mode\n",
            "0         Modules in eval mode\n"
          ]
        },
        {
          "output_type": "display_data",
          "data": {
            "text/plain": [
              "Training: |          | 0/? [00:00<?, ?it/s]"
            ],
            "application/vnd.jupyter.widget-view+json": {
              "version_major": 2,
              "version_minor": 0,
              "model_id": "d478b8b2c78944a0a58bb74f34312f76"
            }
          },
          "metadata": {}
        },
        {
          "output_type": "display_data",
          "data": {
            "text/plain": [
              "Validation: |          | 0/? [00:00<?, ?it/s]"
            ],
            "application/vnd.jupyter.widget-view+json": {
              "version_major": 2,
              "version_minor": 0,
              "model_id": "fa9f7a5120ae4cf79f8c4b0a3fc44f06"
            }
          },
          "metadata": {}
        },
        {
          "output_type": "display_data",
          "data": {
            "text/plain": [
              "Validation: |          | 0/? [00:00<?, ?it/s]"
            ],
            "application/vnd.jupyter.widget-view+json": {
              "version_major": 2,
              "version_minor": 0,
              "model_id": "177e553a9d984785a00a9d77a13fddec"
            }
          },
          "metadata": {}
        },
        {
          "output_type": "display_data",
          "data": {
            "text/plain": [
              "Validation: |          | 0/? [00:00<?, ?it/s]"
            ],
            "application/vnd.jupyter.widget-view+json": {
              "version_major": 2,
              "version_minor": 0,
              "model_id": "27265f6cefdb476eb78f9eee9b4c8141"
            }
          },
          "metadata": {}
        },
        {
          "output_type": "display_data",
          "data": {
            "text/plain": [
              "Validation: |          | 0/? [00:00<?, ?it/s]"
            ],
            "application/vnd.jupyter.widget-view+json": {
              "version_major": 2,
              "version_minor": 0,
              "model_id": "28d8d296cf8d4e318591c9b9244e08a2"
            }
          },
          "metadata": {}
        },
        {
          "output_type": "display_data",
          "data": {
            "text/plain": [
              "Validation: |          | 0/? [00:00<?, ?it/s]"
            ],
            "application/vnd.jupyter.widget-view+json": {
              "version_major": 2,
              "version_minor": 0,
              "model_id": "d7be14f02f394e20b76975f99470986e"
            }
          },
          "metadata": {}
        },
        {
          "output_type": "stream",
          "name": "stderr",
          "text": [
            "INFO: `Trainer.fit` stopped: `max_epochs=5` reached.\n",
            "INFO:lightning.pytorch.utilities.rank_zero:`Trainer.fit` stopped: `max_epochs=5` reached.\n"
          ]
        }
      ],
      "source": [
        "model_name = \"adam\"\n",
        "model = SimpleMNIST_NN_Batchnorm(n_layers=3)\n",
        "\n",
        "trainer = L.Trainer(\n",
        "    max_epochs=5,\n",
        "    logger=TensorBoardLogger(save_dir=f\"logs/{model_name}\"),\n",
        "    num_sanity_val_steps=0,\n",
        ")\n",
        "\n",
        "pipeline = Pipeline(\n",
        "    model=model,\n",
        "    exp_name=model_name,\n",
        "    optimizer_class=torch.optim.Adam,\n",
        "    optimizer_kwargs={\"lr\": 1e-2},\n",
        ")\n",
        "\n",
        "trainer.fit(model=pipeline, train_dataloaders=train_loader, val_dataloaders=val_loader)\n",
        "\n",
        "history = pipeline.history\n",
        "history[\"epoсhs\"] = trainer.max_epochs\n",
        "history_plotter.add(history)"
      ]
    },
    {
      "cell_type": "code",
      "execution_count": null,
      "metadata": {
        "colab": {
          "base_uri": "https://localhost:8080/",
          "height": 872
        },
        "id": "4Yk_sav9f3bM",
        "outputId": "ad4cfe8f-d549-47a5-fa8e-07e5b429b277"
      },
      "outputs": [
        {
          "output_type": "display_data",
          "data": {
            "text/plain": [
              "<Figure size 1000x1000 with 3 Axes>"
            ],
            "image/png": "[encoded data removed]"
          },
          "metadata": {}
        }
      ],
      "source": [
        "history_plotter.plot([\"batchnorm2\", \"batchnorm_increased_lr\", model_name])"
      ]
    },
    {
      "cell_type": "markdown",
      "metadata": {
        "id": "TzHT9-5uf3bM"
      },
      "source": [
        "#### L2 vs Weight decay"
      ]
    },
    {
      "cell_type": "markdown",
      "metadata": {
        "id": "cDCpJIEFf3bM"
      },
      "source": [
        "Для использования L2 c оптимизатором необходимо указать значение `weight_decay`,  где `weight_decay` — коэффициент перед L2."
      ]
    },
    {
      "cell_type": "code",
      "execution_count": null,
      "metadata": {
        "id": "1p1gw8Spf3bN"
      },
      "outputs": [],
      "source": [
        "parameters = torch.randn(10, requires_grad=True)\n",
        "optimizer = optim.Adam([parameters], weight_decay=0.001)"
      ]
    },
    {
      "cell_type": "markdown",
      "metadata": {
        "id": "du0-Bxwvf3bN"
      },
      "source": [
        "Вообще говоря, **Weight decay** и **L2** — это немного разные вещи.\n",
        "\n",
        "**L2** добавляет член регуляризации к Loss функции:\n",
        "\n",
        "$$\\text{Loss}_{L2} = \\text{Loss} + \\frac{λ}{2n}w^2$$\n",
        "\n",
        "**Weight decay** уменьшает веса:\n",
        "\n",
        "$$w_{wd} = w - \\frac{λ}{n}w$$\n",
        "\n",
        "где $λ$ — константа, а $n$ — количество элементов в батче.\n"
      ]
    },
    {
      "cell_type": "markdown",
      "metadata": {
        "id": "T7t27KDvf3bN"
      },
      "source": [
        "Для **SGD** оптимизатора **Weight decay** и **L2** **эквивалентны**, но не для всех оптимизаторов это так.\n",
        "\n",
        "Например, это не так для **Adam**. **L2**-регуляризация прибавляется к Loss функции и изменяет **значение градиента**, квадраты которого будут храниться. **Weight decay** изменяет только веса. Подробно об этом можно почитать в:\n",
        "\n",
        "[[arxiv] 🎓 Decoupled Weight Decay Regularization (Loshchilov, Hutter, 2019)](https://arxiv.org/pdf/1711.05101.pdf)\n",
        "\n",
        "**Обратите внимание**, что `weight_decay` в `torch.optim.Adam` — это **коэффициент перед L2**. **Weight decay** для **Adam** реализовано в\n",
        "`torch.optim.AdamW`, поэтому рекомендуется использовать [AdamW](https://pytorch.org/docs/stable/generated/torch.optim.AdamW.html).\n",
        "\n"
      ]
    },
    {
      "cell_type": "code",
      "source": [
        "parameters = torch.randn(10, requires_grad=True)\n",
        "optimizer = optim.AdamW([parameters], weight_decay=0.001)"
      ],
      "metadata": {
        "id": "QSkM7Pu7U7tW"
      },
      "execution_count": null,
      "outputs": []
    },
    {
      "cell_type": "markdown",
      "metadata": {
        "id": "RYEVqLwff3bN"
      },
      "source": [
        "### Другие оптимизаторы (Lion)"
      ]
    },
    {
      "cell_type": "markdown",
      "metadata": {
        "id": "7ZjcmYcAf3bN"
      },
      "source": [
        "Не Adam-ом единым живут нейронные сети. Есть альтернативные методы оптимизации, например, проект [Google Brain ✏️[blog]](https://research.google/teams/brain/) в 2023 году опубликовал [статью 🎓[arxiv]](https://arxiv.org/pdf/2302.06675.pdf), в которой описывает найденный в процессе [AutoML 🎓[arxiv]](https://arxiv.org/pdf/2101.08809.pdf) (автоматического подбора архитектур и алгоритмов) оптимизатор, названный **Lion**  (Evo**L**ved S**i**gn M**o**me**n**tum) 🦁."
      ]
    },
    {
      "cell_type": "markdown",
      "metadata": {
        "id": "qXkmuh4yf3bN"
      },
      "source": [
        "Интересно, что AutoML алгоритм пришел к интуитивно понятной эвристике: градиенты — вещь не очень надежная. Они могут взрываться и затухать. Может, тогда мы зафиксируем размер шага, а градиенты будем использовать только для определения направления?\n",
        "\n",
        "Для определения направления используют функцию $\\text{sign}$ (знак):\n",
        "\n",
        "\\begin{align}\n",
        "\\text{sign}(x) = \\left\\{\n",
        "\\begin{array}{cl}\n",
        "1 & x > 0 \\\\\n",
        "0 & x = 0\\\\\n",
        "-1 & x < 0.\n",
        "\\end{array}\n",
        "\\right.\n",
        "\\end{align}\n"
      ]
    },
    {
      "cell_type": "markdown",
      "metadata": {
        "id": "SV-wHKf4f3bN"
      },
      "source": [
        "К этому добавляется уже изученный нами momentum, чтобы знак “прыгал” реже. Интересно, что AutoML подобрал алгоритм, в котором используются две константы для momentum. $\\beta_1$ — для определения текущего знака градиента, $\\beta_2$ — для хранения значения $v_t$. Значения по умолчанию $\\beta_1 = 0.9$, $\\beta_2 = 0.99$. Это значит, что текущее значение градиента сильнее влияет на значение для выбора направления текущего шага $c_{t}$, чем на хранимое значение момента $v_t$.\n"
      ]
    },
    {
      "cell_type": "markdown",
      "metadata": {
        "id": "R6WkS2oYf3bN"
      },
      "source": [
        "Значение для вычисления направления текущего шага:\n",
        "\n",
        "$$c_{t} = \\beta_1 \\cdot v_{t-1} + (1-\\beta_1) \\nabla_wL(x, y, w_{t})$$\n",
        "\n",
        "Шаг оптимизатора. $λ$ — константа weight decay:\n",
        "\n",
        "$$w_{t+1} = w_t - \\text{lr} \\cdot (\\text{sign}(c_t) +λ w_t)$$\n",
        "\n",
        "Обновление хранимого значения момента:\n",
        "\n",
        "$$v_t = \\beta_2 \\cdot v_{t-1} + (1-\\beta_2) \\nabla_wL(x, y, w_{t})$$"
      ]
    },
    {
      "cell_type": "markdown",
      "metadata": {
        "id": "tWvQKjzYf3bN"
      },
      "source": [
        "Фрагмент кода для понимания работы **Lion**:\n",
        "\n",
        "```python\n",
        "class Lion:\n",
        "  def __init__(self, parameters, lr=0.0001, betas=(0.9, 0.99), weight_decay=0.01):\n",
        "    self.parameters = parameters\n",
        "    self.lr = lr\n",
        "    self.betas = betas\n",
        "    self.velocity = torch.zeros_like(parameters)\n",
        "    self.beta_1 = betas[0] # momentum 1\n",
        "    self.beta_2 = betas[1] # momentum 2\n",
        "    self.weight_decay = weight_decay\n",
        "\n",
        "  def step(self):\n",
        "    d_parameters = self.parameters.grad\n",
        "    # current momentum\n",
        "    current = self.beta_1*self.velocity + (1 - self.beta_1)*d_parameters\n",
        "    # step\n",
        "    self.parameters -= self.lr*(torch.sign(carent)+self.weight_decay*self.parameters)\n",
        "    # history momentum\n",
        "    self.velocity = self.beta_2*self.velocity + (1 - self.beta_2)*d_parameters\n",
        "```"
      ]
    },
    {
      "cell_type": "markdown",
      "metadata": {
        "id": "6W2kSuGdf3bN"
      },
      "source": [
        "**Lion удваивает количество хранимых параметров.**\n",
        "\n",
        "Обратите внимание, что значение `lr` по умолчанию у **Lion** выбрано меньше, чем у **Adam**. Это связано с тем, что только `lr` и регуляризация определяют размер шага. Авторы статьи советуют брать для **Lion** в 10 раз меньший `lr`, чем для **Adam**."
      ]
    },
    {
      "cell_type": "markdown",
      "metadata": {
        "id": "QHSPP_bif3bN"
      },
      "source": [
        "У **Lion** есть преимущества по сравнению с **Adam** и **AdamW**: в нем нет необходимости хранить квадраты градиентов. Он позволяет **снизить количество хранимых параметров** в 1.5–2 раза по сравнению с **AdamW**, а также сокращает количество операций, что позволяет [ускорить расчеты на 2–15% 🎓[arxiv]](https://arxiv.org/pdf/2302.06675.pdf) (в Colab это незаметно из-за специфики, связанной с виртуальными машинами).\n",
        "\n",
        "Кроме того, **Lion** [позволяет добиться лучших результатов 🐾[git]](https://github.com/google/automl/tree/master/lion), чем AdamW, при обучении больших сложных моделей, таких как Visual Transformer-ы и диффузионные модели."
      ]
    },
    {
      "cell_type": "markdown",
      "metadata": {
        "id": "u0cZsEYnf3bN"
      },
      "source": [
        "Но до сложных моделей мы пока не добрались, попробуем простую. Воспользуемся реализацией [Lion-Pytorch 🐾[git]](https://github.com/lucidrains/lion-pytorch):"
      ]
    },
    {
      "cell_type": "code",
      "execution_count": null,
      "metadata": {
        "id": "xy3pp3Fvf3bN"
      },
      "outputs": [],
      "source": [
        "!pip install -q lion-pytorch"
      ]
    },
    {
      "cell_type": "code",
      "execution_count": null,
      "metadata": {
        "colab": {
          "base_uri": "https://localhost:8080/",
          "height": 639,
          "referenced_widgets": [
            "2605271c33494246a1cd1d05bb6ff730",
            "a9a0700c90d8404bb42113ab5b7b50bf",
            "1d757743c33b4d4ca8540baedbe58d7c",
            "52d2ff0d407e46ceb91d30ecec82b2f1",
            "65a258d4c1bb43248ee68fd3ca848cf2",
            "88db55e487094cdab2ad6fef1616d53d",
            "e1d03c5488fa4da292caf558eca03017",
            "cdefe1782515408a8d5d1c796fdd7e2b",
            "cc171a4b405645e9bd7124ce1929870c",
            "a6a974cb5b2643c381c2e07b9d9dcc75",
            "0fa5ebc3a5f944dc9bad0442764cd540",
            "71eff30752fd49139f93df0b31686249",
            "f261ae727358407c9431efbb230b867a",
            "a2e702e4f3924ea69706364f7dc0f97d",
            "b9cbf9819da84dcf9852bf28ae93ee28",
            "9a73f7887a444697b0d6cdb70a74ea73",
            "13309782b4654932981157a49b75b34c",
            "db2efd812c9448f99cbe0ef8c56be99e",
            "168e4c3753b445ea83e1b1994c3fd1b6",
            "5c7829277d804954afa521693329585d",
            "f42ede81b15f4878ac3076fcde76d93e",
            "c1f9edca372545f3bf3c990591baeef8",
            "12381ed5bb364c94894cce73c6c9adf0",
            "f7d2037e87ad4e32b86c5666d87011e0",
            "0afb370348ea472482bb76c6fec8370e",
            "ee5ee3921c3044f397236a17a0b9a916",
            "b8e3ec69799849c4847651b0971fc7d0",
            "fd26588bed964f7b8f5bae1901e525fb",
            "169f047ef2ed45f1ae756020848ba206",
            "b9de2c38a00d4159ac035cbe4d4beb25",
            "0d8caa18eef24b7fbb9b3edbea398c04",
            "5dc9ae788ba24c6bbf57abba0043312b",
            "e0ba638260054dabaf57bc6662ced0e1",
            "b5e1db47a9bc4b02997e187a1cfae9c3",
            "cadc8f260e5440739714a6c5f96a6afc",
            "ae755c8dbbd64436b3630b08cccfbccb",
            "2c1c4dec700b4a7c86a2e38758f9741e",
            "57e936367cbd44d1b938c8ab7645d0f3",
            "ad29fffc69214cf6ac2727bb69d60ef3",
            "b250f7a1b14f4840b356600ecd8999a4",
            "c4dae595ef494298b53470d80afae97b",
            "19672de285e24586ae2d4cf253107ef1",
            "bbd8fb79bd0d4e9287c9c52497efb395",
            "65f73e29b7eb444db198988ed9c7b7dd",
            "44fe4b299b7a48968168003c172e94f9",
            "90527ec2d7df451297dd3cc4d2c083f2",
            "db78fa6032cd4b2e8c9f549d1bc574ed",
            "ef1dbf99a22445fe94b845ceaec980d6",
            "f2fda6709b5c4a5ba3da1294f67d6444",
            "b7310febc84b498d88ea89342b63d6b1",
            "6ee9b1d1bfd24fd58e0da34134a0e9fd",
            "ffc0ca976e8945cb9b1ee578666a9c17",
            "092e16b72a4d42dd9c96b7ab39d67c6e",
            "2f3a0608fa05473c8b2828059f2e2829",
            "5b665d856c494ded963be3913e898bd8",
            "2cbf974579ce43bcb613394a578de548",
            "30c5f7e60f8f49cb8a185e9e6dc162bd",
            "3d6586f570834c92a57a5d83329f6fa7",
            "0b542889d5144f0caaa7da55d390cf91",
            "16e5a64e436148b6b903fbb696b77f15",
            "ef0e31dd382447af95871081502c8f0b",
            "c9cf016716dc44fb8857ca974f4bb5fa",
            "127d98c90ac340fd85524b44cae93d21",
            "b745f1fecc7e40d29199575d353acdea",
            "d5a49f6824804d08b86be40d6c4f7806",
            "5b15d9e4ba7744f49f46f40133bddd8f"
          ]
        },
        "id": "jeeXyteif3bN",
        "outputId": "9c0dc4dc-1dd4-4597-8898-07b167328332"
      },
      "outputs": [
        {
          "output_type": "stream",
          "name": "stderr",
          "text": [
            "INFO: GPU available: True (cuda), used: True\n",
            "INFO:lightning.pytorch.utilities.rank_zero:GPU available: True (cuda), used: True\n",
            "INFO: TPU available: False, using: 0 TPU cores\n",
            "INFO:lightning.pytorch.utilities.rank_zero:TPU available: False, using: 0 TPU cores\n",
            "INFO: HPU available: False, using: 0 HPUs\n",
            "INFO:lightning.pytorch.utilities.rank_zero:HPU available: False, using: 0 HPUs\n",
            "INFO: LOCAL_RANK: 0 - CUDA_VISIBLE_DEVICES: [0]\n",
            "INFO:lightning.pytorch.accelerators.cuda:LOCAL_RANK: 0 - CUDA_VISIBLE_DEVICES: [0]\n",
            "INFO: \n",
            "  | Name      | Type                     | Params | Mode \n",
            "---------------------------------------------------------------\n",
            "0 | model     | SimpleMNIST_NN_Batchnorm | 100 K  | train\n",
            "1 | criterion | CrossEntropyLoss         | 0      | train\n",
            "---------------------------------------------------------------\n",
            "100 K     Trainable params\n",
            "0         Non-trainable params\n",
            "100 K     Total params\n",
            "0.400     Total estimated model params size (MB)\n",
            "13        Modules in train mode\n",
            "0         Modules in eval mode\n",
            "INFO:lightning.pytorch.callbacks.model_summary:\n",
            "  | Name      | Type                     | Params | Mode \n",
            "---------------------------------------------------------------\n",
            "0 | model     | SimpleMNIST_NN_Batchnorm | 100 K  | train\n",
            "1 | criterion | CrossEntropyLoss         | 0      | train\n",
            "---------------------------------------------------------------\n",
            "100 K     Trainable params\n",
            "0         Non-trainable params\n",
            "100 K     Total params\n",
            "0.400     Total estimated model params size (MB)\n",
            "13        Modules in train mode\n",
            "0         Modules in eval mode\n"
          ]
        },
        {
          "output_type": "display_data",
          "data": {
            "text/plain": [
              "Training: |          | 0/? [00:00<?, ?it/s]"
            ],
            "application/vnd.jupyter.widget-view+json": {
              "version_major": 2,
              "version_minor": 0,
              "model_id": "2605271c33494246a1cd1d05bb6ff730"
            }
          },
          "metadata": {}
        },
        {
          "output_type": "display_data",
          "data": {
            "text/plain": [
              "Validation: |          | 0/? [00:00<?, ?it/s]"
            ],
            "application/vnd.jupyter.widget-view+json": {
              "version_major": 2,
              "version_minor": 0,
              "model_id": "71eff30752fd49139f93df0b31686249"
            }
          },
          "metadata": {}
        },
        {
          "output_type": "display_data",
          "data": {
            "text/plain": [
              "Validation: |          | 0/? [00:00<?, ?it/s]"
            ],
            "application/vnd.jupyter.widget-view+json": {
              "version_major": 2,
              "version_minor": 0,
              "model_id": "12381ed5bb364c94894cce73c6c9adf0"
            }
          },
          "metadata": {}
        },
        {
          "output_type": "display_data",
          "data": {
            "text/plain": [
              "Validation: |          | 0/? [00:00<?, ?it/s]"
            ],
            "application/vnd.jupyter.widget-view+json": {
              "version_major": 2,
              "version_minor": 0,
              "model_id": "b5e1db47a9bc4b02997e187a1cfae9c3"
            }
          },
          "metadata": {}
        },
        {
          "output_type": "display_data",
          "data": {
            "text/plain": [
              "Validation: |          | 0/? [00:00<?, ?it/s]"
            ],
            "application/vnd.jupyter.widget-view+json": {
              "version_major": 2,
              "version_minor": 0,
              "model_id": "44fe4b299b7a48968168003c172e94f9"
            }
          },
          "metadata": {}
        },
        {
          "output_type": "display_data",
          "data": {
            "text/plain": [
              "Validation: |          | 0/? [00:00<?, ?it/s]"
            ],
            "application/vnd.jupyter.widget-view+json": {
              "version_major": 2,
              "version_minor": 0,
              "model_id": "2cbf974579ce43bcb613394a578de548"
            }
          },
          "metadata": {}
        },
        {
          "output_type": "stream",
          "name": "stderr",
          "text": [
            "INFO: `Trainer.fit` stopped: `max_epochs=5` reached.\n",
            "INFO:lightning.pytorch.utilities.rank_zero:`Trainer.fit` stopped: `max_epochs=5` reached.\n"
          ]
        }
      ],
      "source": [
        "from lion_pytorch import Lion\n",
        "\n",
        "model_name = \"lion\"\n",
        "model = SimpleMNIST_NN_Batchnorm(n_layers=3)\n",
        "\n",
        "trainer = L.Trainer(\n",
        "    max_epochs=5,\n",
        "    logger=TensorBoardLogger(save_dir=f\"logs/{model_name}\"),\n",
        "    num_sanity_val_steps=0,\n",
        ")\n",
        "\n",
        "pipeline = Pipeline(\n",
        "    model=model,\n",
        "    exp_name=model_name,\n",
        "    optimizer_class=Lion,\n",
        "    optimizer_kwargs={\"lr\": 1e-4, \"weight_decay\": 1e-3},\n",
        ")\n",
        "\n",
        "trainer.fit(model=pipeline, train_dataloaders=train_loader, val_dataloaders=val_loader)\n",
        "\n",
        "history = pipeline.history\n",
        "history[\"epoсhs\"] = trainer.max_epochs\n",
        "history_plotter.add(history)"
      ]
    },
    {
      "cell_type": "code",
      "execution_count": null,
      "metadata": {
        "colab": {
          "base_uri": "https://localhost:8080/",
          "height": 872
        },
        "id": "mzMzwcf_f3bN",
        "outputId": "3ebf2879-a0b3-4fc0-9088-d59fedd9e9b3"
      },
      "outputs": [
        {
          "output_type": "display_data",
          "data": {
            "text/plain": [
              "<Figure size 1000x1000 with 3 Axes>"
            ],
            "image/png": "[encoded data removed]"
          },
          "metadata": {}
        }
      ],
      "source": [
        "history_plotter.plot([\"adam\", model_name])"
      ]
    },
    {
      "cell_type": "markdown",
      "metadata": {
        "id": "4uB5JkrHf3bN"
      },
      "source": [
        "Результат получился почти как у **Adam**, число хранимых параметров меньше. Для лучшего качества с Lion рекомендуется использовать `lr_scheduler`, чтобы постепенно понижать скорость обучения.\n",
        "\n"
      ]
    },
    {
      "cell_type": "markdown",
      "metadata": {
        "id": "dGVraTBlf3bO"
      },
      "source": [
        "## Использование оптимизаторов"
      ]
    },
    {
      "cell_type": "markdown",
      "source": [
        "* **Адаптивные оптимизаторы хороши вначале обучения**. На поздних стадиях обучения адаптивные оптимизаторы могут слишком рано \"застрять\" в локальном минимуме, что приведёт к снижению обобщающей способности модели.\n",
        "\n",
        "* **Поэтому на заключительных этапах обучения полезно перейти на SGD**, который благодаря своей простоте и способности к обобщению помогает избежать локальных минимумов и улучшить итоговую производительность модели."
      ],
      "metadata": {
        "id": "_1d6WRSiVrtD"
      }
    }
  ]
}