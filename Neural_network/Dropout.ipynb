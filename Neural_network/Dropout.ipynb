{
  "nbformat": 4,
  "nbformat_minor": 0,
  "metadata": {
    "colab": {
      "provenance": [],
      "toc_visible": true,
      "gpuType": "T4"
    },
    "kernelspec": {
      "name": "python3",
      "display_name": "Python 3"
    },
    "language_info": {
      "name": "python"
    },
    "accelerator": "GPU",
    "widgets": {
      "application/vnd.jupyter.widget-state+json": {
        "198b404d0c9e47c49810e572aeae5ab5": {
          "model_module": "@jupyter-widgets/controls",
          "model_name": "HBoxModel",
          "model_module_version": "1.5.0",
          "state": {
            "_dom_classes": [],
            "_model_module": "@jupyter-widgets/controls",
            "_model_module_version": "1.5.0",
            "_model_name": "HBoxModel",
            "_view_count": null,
            "_view_module": "@jupyter-widgets/controls",
            "_view_module_version": "1.5.0",
            "_view_name": "HBoxView",
            "box_style": "",
            "children": [
              "IPY_MODEL_582d3b147a6042f8b919ab0925e673c7",
              "IPY_MODEL_33bb0e8197fb4c59897c12de19056b60",
              "IPY_MODEL_7bc215f1c2d04054bac62742f1d44820"
            ],
            "layout": "IPY_MODEL_6f73d1f3c79b43b7b2fe408111110434"
          }
        },
        "582d3b147a6042f8b919ab0925e673c7": {
          "model_module": "@jupyter-widgets/controls",
          "model_name": "HTMLModel",
          "model_module_version": "1.5.0",
          "state": {
            "_dom_classes": [],
            "_model_module": "@jupyter-widgets/controls",
            "_model_module_version": "1.5.0",
            "_model_name": "HTMLModel",
            "_view_count": null,
            "_view_module": "@jupyter-widgets/controls",
            "_view_module_version": "1.5.0",
            "_view_name": "HTMLView",
            "description": "",
            "description_tooltip": null,
            "layout": "IPY_MODEL_1d75d7d4eef6433d8423f9e9a55ec96a",
            "placeholder": "​",
            "style": "IPY_MODEL_d0c18b3021c7471f82866297043d6bff",
            "value": "Epoch 4: 100%"
          }
        },
        "33bb0e8197fb4c59897c12de19056b60": {
          "model_module": "@jupyter-widgets/controls",
          "model_name": "FloatProgressModel",
          "model_module_version": "1.5.0",
          "state": {
            "_dom_classes": [],
            "_model_module": "@jupyter-widgets/controls",
            "_model_module_version": "1.5.0",
            "_model_name": "FloatProgressModel",
            "_view_count": null,
            "_view_module": "@jupyter-widgets/controls",
            "_view_module_version": "1.5.0",
            "_view_name": "ProgressView",
            "bar_style": "success",
            "description": "",
            "description_tooltip": null,
            "layout": "IPY_MODEL_be32b7b7df04481ab1632f7bf80968f6",
            "max": 1500,
            "min": 0,
            "orientation": "horizontal",
            "style": "IPY_MODEL_4c99f69fd5f14473b5317a4fd48b9451",
            "value": 1500
          }
        },
        "7bc215f1c2d04054bac62742f1d44820": {
          "model_module": "@jupyter-widgets/controls",
          "model_name": "HTMLModel",
          "model_module_version": "1.5.0",
          "state": {
            "_dom_classes": [],
            "_model_module": "@jupyter-widgets/controls",
            "_model_module_version": "1.5.0",
            "_model_name": "HTMLModel",
            "_view_count": null,
            "_view_module": "@jupyter-widgets/controls",
            "_view_module_version": "1.5.0",
            "_view_name": "HTMLView",
            "description": "",
            "description_tooltip": null,
            "layout": "IPY_MODEL_79079d7602c24f32bbdfd21d6d3755af",
            "placeholder": "​",
            "style": "IPY_MODEL_6762fb275b234bcd951baea950176943",
            "value": " 1500/1500 [00:22&lt;00:00, 66.13it/s, v_num=0, loss_on_train=2.290, loss_on_test=2.280]"
          }
        },
        "6f73d1f3c79b43b7b2fe408111110434": {
          "model_module": "@jupyter-widgets/base",
          "model_name": "LayoutModel",
          "model_module_version": "1.2.0",
          "state": {
            "_model_module": "@jupyter-widgets/base",
            "_model_module_version": "1.2.0",
            "_model_name": "LayoutModel",
            "_view_count": null,
            "_view_module": "@jupyter-widgets/base",
            "_view_module_version": "1.2.0",
            "_view_name": "LayoutView",
            "align_content": null,
            "align_items": null,
            "align_self": null,
            "border": null,
            "bottom": null,
            "display": "inline-flex",
            "flex": null,
            "flex_flow": "row wrap",
            "grid_area": null,
            "grid_auto_columns": null,
            "grid_auto_flow": null,
            "grid_auto_rows": null,
            "grid_column": null,
            "grid_gap": null,
            "grid_row": null,
            "grid_template_areas": null,
            "grid_template_columns": null,
            "grid_template_rows": null,
            "height": null,
            "justify_content": null,
            "justify_items": null,
            "left": null,
            "margin": null,
            "max_height": null,
            "max_width": null,
            "min_height": null,
            "min_width": null,
            "object_fit": null,
            "object_position": null,
            "order": null,
            "overflow": null,
            "overflow_x": null,
            "overflow_y": null,
            "padding": null,
            "right": null,
            "top": null,
            "visibility": null,
            "width": "100%"
          }
        },
        "1d75d7d4eef6433d8423f9e9a55ec96a": {
          "model_module": "@jupyter-widgets/base",
          "model_name": "LayoutModel",
          "model_module_version": "1.2.0",
          "state": {
            "_model_module": "@jupyter-widgets/base",
            "_model_module_version": "1.2.0",
            "_model_name": "LayoutModel",
            "_view_count": null,
            "_view_module": "@jupyter-widgets/base",
            "_view_module_version": "1.2.0",
            "_view_name": "LayoutView",
            "align_content": null,
            "align_items": null,
            "align_self": null,
            "border": null,
            "bottom": null,
            "display": null,
            "flex": null,
            "flex_flow": null,
            "grid_area": null,
            "grid_auto_columns": null,
            "grid_auto_flow": null,
            "grid_auto_rows": null,
            "grid_column": null,
            "grid_gap": null,
            "grid_row": null,
            "grid_template_areas": null,
            "grid_template_columns": null,
            "grid_template_rows": null,
            "height": null,
            "justify_content": null,
            "justify_items": null,
            "left": null,
            "margin": null,
            "max_height": null,
            "max_width": null,
            "min_height": null,
            "min_width": null,
            "object_fit": null,
            "object_position": null,
            "order": null,
            "overflow": null,
            "overflow_x": null,
            "overflow_y": null,
            "padding": null,
            "right": null,
            "top": null,
            "visibility": null,
            "width": null
          }
        },
        "d0c18b3021c7471f82866297043d6bff": {
          "model_module": "@jupyter-widgets/controls",
          "model_name": "DescriptionStyleModel",
          "model_module_version": "1.5.0",
          "state": {
            "_model_module": "@jupyter-widgets/controls",
            "_model_module_version": "1.5.0",
            "_model_name": "DescriptionStyleModel",
            "_view_count": null,
            "_view_module": "@jupyter-widgets/base",
            "_view_module_version": "1.2.0",
            "_view_name": "StyleView",
            "description_width": ""
          }
        },
        "be32b7b7df04481ab1632f7bf80968f6": {
          "model_module": "@jupyter-widgets/base",
          "model_name": "LayoutModel",
          "model_module_version": "1.2.0",
          "state": {
            "_model_module": "@jupyter-widgets/base",
            "_model_module_version": "1.2.0",
            "_model_name": "LayoutModel",
            "_view_count": null,
            "_view_module": "@jupyter-widgets/base",
            "_view_module_version": "1.2.0",
            "_view_name": "LayoutView",
            "align_content": null,
            "align_items": null,
            "align_self": null,
            "border": null,
            "bottom": null,
            "display": null,
            "flex": "2",
            "flex_flow": null,
            "grid_area": null,
            "grid_auto_columns": null,
            "grid_auto_flow": null,
            "grid_auto_rows": null,
            "grid_column": null,
            "grid_gap": null,
            "grid_row": null,
            "grid_template_areas": null,
            "grid_template_columns": null,
            "grid_template_rows": null,
            "height": null,
            "justify_content": null,
            "justify_items": null,
            "left": null,
            "margin": null,
            "max_height": null,
            "max_width": null,
            "min_height": null,
            "min_width": null,
            "object_fit": null,
            "object_position": null,
            "order": null,
            "overflow": null,
            "overflow_x": null,
            "overflow_y": null,
            "padding": null,
            "right": null,
            "top": null,
            "visibility": null,
            "width": null
          }
        },
        "4c99f69fd5f14473b5317a4fd48b9451": {
          "model_module": "@jupyter-widgets/controls",
          "model_name": "ProgressStyleModel",
          "model_module_version": "1.5.0",
          "state": {
            "_model_module": "@jupyter-widgets/controls",
            "_model_module_version": "1.5.0",
            "_model_name": "ProgressStyleModel",
            "_view_count": null,
            "_view_module": "@jupyter-widgets/base",
            "_view_module_version": "1.2.0",
            "_view_name": "StyleView",
            "bar_color": null,
            "description_width": ""
          }
        },
        "79079d7602c24f32bbdfd21d6d3755af": {
          "model_module": "@jupyter-widgets/base",
          "model_name": "LayoutModel",
          "model_module_version": "1.2.0",
          "state": {
            "_model_module": "@jupyter-widgets/base",
            "_model_module_version": "1.2.0",
            "_model_name": "LayoutModel",
            "_view_count": null,
            "_view_module": "@jupyter-widgets/base",
            "_view_module_version": "1.2.0",
            "_view_name": "LayoutView",
            "align_content": null,
            "align_items": null,
            "align_self": null,
            "border": null,
            "bottom": null,
            "display": null,
            "flex": null,
            "flex_flow": null,
            "grid_area": null,
            "grid_auto_columns": null,
            "grid_auto_flow": null,
            "grid_auto_rows": null,
            "grid_column": null,
            "grid_gap": null,
            "grid_row": null,
            "grid_template_areas": null,
            "grid_template_columns": null,
            "grid_template_rows": null,
            "height": null,
            "justify_content": null,
            "justify_items": null,
            "left": null,
            "margin": null,
            "max_height": null,
            "max_width": null,
            "min_height": null,
            "min_width": null,
            "object_fit": null,
            "object_position": null,
            "order": null,
            "overflow": null,
            "overflow_x": null,
            "overflow_y": null,
            "padding": null,
            "right": null,
            "top": null,
            "visibility": null,
            "width": null
          }
        },
        "6762fb275b234bcd951baea950176943": {
          "model_module": "@jupyter-widgets/controls",
          "model_name": "DescriptionStyleModel",
          "model_module_version": "1.5.0",
          "state": {
            "_model_module": "@jupyter-widgets/controls",
            "_model_module_version": "1.5.0",
            "_model_name": "DescriptionStyleModel",
            "_view_count": null,
            "_view_module": "@jupyter-widgets/base",
            "_view_module_version": "1.2.0",
            "_view_name": "StyleView",
            "description_width": ""
          }
        },
        "fbebb068c6df4523882e0a96d4357e20": {
          "model_module": "@jupyter-widgets/controls",
          "model_name": "HBoxModel",
          "model_module_version": "1.5.0",
          "state": {
            "_dom_classes": [],
            "_model_module": "@jupyter-widgets/controls",
            "_model_module_version": "1.5.0",
            "_model_name": "HBoxModel",
            "_view_count": null,
            "_view_module": "@jupyter-widgets/controls",
            "_view_module_version": "1.5.0",
            "_view_name": "HBoxView",
            "box_style": "",
            "children": [
              "IPY_MODEL_054b8f5f8dd8446799610650dcf99dd1",
              "IPY_MODEL_b9b627b0881f4aebacc7e3dc9593d27a",
              "IPY_MODEL_7e41a4d49009451fbb219769ab89c71c"
            ],
            "layout": "IPY_MODEL_4d93a52d41224543bdd765bdda427d9d"
          }
        },
        "054b8f5f8dd8446799610650dcf99dd1": {
          "model_module": "@jupyter-widgets/controls",
          "model_name": "HTMLModel",
          "model_module_version": "1.5.0",
          "state": {
            "_dom_classes": [],
            "_model_module": "@jupyter-widgets/controls",
            "_model_module_version": "1.5.0",
            "_model_name": "HTMLModel",
            "_view_count": null,
            "_view_module": "@jupyter-widgets/controls",
            "_view_module_version": "1.5.0",
            "_view_name": "HTMLView",
            "description": "",
            "description_tooltip": null,
            "layout": "IPY_MODEL_de8b91324cbf44c0859a6b2bc39a99b5",
            "placeholder": "​",
            "style": "IPY_MODEL_270d8c79d4824dd49df186074342a703",
            "value": "Validation DataLoader 0: 100%"
          }
        },
        "b9b627b0881f4aebacc7e3dc9593d27a": {
          "model_module": "@jupyter-widgets/controls",
          "model_name": "FloatProgressModel",
          "model_module_version": "1.5.0",
          "state": {
            "_dom_classes": [],
            "_model_module": "@jupyter-widgets/controls",
            "_model_module_version": "1.5.0",
            "_model_name": "FloatProgressModel",
            "_view_count": null,
            "_view_module": "@jupyter-widgets/controls",
            "_view_module_version": "1.5.0",
            "_view_name": "ProgressView",
            "bar_style": "",
            "description": "",
            "description_tooltip": null,
            "layout": "IPY_MODEL_e6444b630f6a42379e92cdadb1842e62",
            "max": 375,
            "min": 0,
            "orientation": "horizontal",
            "style": "IPY_MODEL_369cfea5539949778ee3eaf9230f5628",
            "value": 375
          }
        },
        "7e41a4d49009451fbb219769ab89c71c": {
          "model_module": "@jupyter-widgets/controls",
          "model_name": "HTMLModel",
          "model_module_version": "1.5.0",
          "state": {
            "_dom_classes": [],
            "_model_module": "@jupyter-widgets/controls",
            "_model_module_version": "1.5.0",
            "_model_name": "HTMLModel",
            "_view_count": null,
            "_view_module": "@jupyter-widgets/controls",
            "_view_module_version": "1.5.0",
            "_view_name": "HTMLView",
            "description": "",
            "description_tooltip": null,
            "layout": "IPY_MODEL_b5b444428291438c96e7a904a199106f",
            "placeholder": "​",
            "style": "IPY_MODEL_08cec1b1fc7d454388fb30d2711cc0f3",
            "value": " 375/375 [00:03&lt;00:00, 119.79it/s]"
          }
        },
        "4d93a52d41224543bdd765bdda427d9d": {
          "model_module": "@jupyter-widgets/base",
          "model_name": "LayoutModel",
          "model_module_version": "1.2.0",
          "state": {
            "_model_module": "@jupyter-widgets/base",
            "_model_module_version": "1.2.0",
            "_model_name": "LayoutModel",
            "_view_count": null,
            "_view_module": "@jupyter-widgets/base",
            "_view_module_version": "1.2.0",
            "_view_name": "LayoutView",
            "align_content": null,
            "align_items": null,
            "align_self": null,
            "border": null,
            "bottom": null,
            "display": "inline-flex",
            "flex": null,
            "flex_flow": "row wrap",
            "grid_area": null,
            "grid_auto_columns": null,
            "grid_auto_flow": null,
            "grid_auto_rows": null,
            "grid_column": null,
            "grid_gap": null,
            "grid_row": null,
            "grid_template_areas": null,
            "grid_template_columns": null,
            "grid_template_rows": null,
            "height": null,
            "justify_content": null,
            "justify_items": null,
            "left": null,
            "margin": null,
            "max_height": null,
            "max_width": null,
            "min_height": null,
            "min_width": null,
            "object_fit": null,
            "object_position": null,
            "order": null,
            "overflow": null,
            "overflow_x": null,
            "overflow_y": null,
            "padding": null,
            "right": null,
            "top": null,
            "visibility": "hidden",
            "width": "100%"
          }
        },
        "de8b91324cbf44c0859a6b2bc39a99b5": {
          "model_module": "@jupyter-widgets/base",
          "model_name": "LayoutModel",
          "model_module_version": "1.2.0",
          "state": {
            "_model_module": "@jupyter-widgets/base",
            "_model_module_version": "1.2.0",
            "_model_name": "LayoutModel",
            "_view_count": null,
            "_view_module": "@jupyter-widgets/base",
            "_view_module_version": "1.2.0",
            "_view_name": "LayoutView",
            "align_content": null,
            "align_items": null,
            "align_self": null,
            "border": null,
            "bottom": null,
            "display": null,
            "flex": null,
            "flex_flow": null,
            "grid_area": null,
            "grid_auto_columns": null,
            "grid_auto_flow": null,
            "grid_auto_rows": null,
            "grid_column": null,
            "grid_gap": null,
            "grid_row": null,
            "grid_template_areas": null,
            "grid_template_columns": null,
            "grid_template_rows": null,
            "height": null,
            "justify_content": null,
            "justify_items": null,
            "left": null,
            "margin": null,
            "max_height": null,
            "max_width": null,
            "min_height": null,
            "min_width": null,
            "object_fit": null,
            "object_position": null,
            "order": null,
            "overflow": null,
            "overflow_x": null,
            "overflow_y": null,
            "padding": null,
            "right": null,
            "top": null,
            "visibility": null,
            "width": null
          }
        },
        "270d8c79d4824dd49df186074342a703": {
          "model_module": "@jupyter-widgets/controls",
          "model_name": "DescriptionStyleModel",
          "model_module_version": "1.5.0",
          "state": {
            "_model_module": "@jupyter-widgets/controls",
            "_model_module_version": "1.5.0",
            "_model_name": "DescriptionStyleModel",
            "_view_count": null,
            "_view_module": "@jupyter-widgets/base",
            "_view_module_version": "1.2.0",
            "_view_name": "StyleView",
            "description_width": ""
          }
        },
        "e6444b630f6a42379e92cdadb1842e62": {
          "model_module": "@jupyter-widgets/base",
          "model_name": "LayoutModel",
          "model_module_version": "1.2.0",
          "state": {
            "_model_module": "@jupyter-widgets/base",
            "_model_module_version": "1.2.0",
            "_model_name": "LayoutModel",
            "_view_count": null,
            "_view_module": "@jupyter-widgets/base",
            "_view_module_version": "1.2.0",
            "_view_name": "LayoutView",
            "align_content": null,
            "align_items": null,
            "align_self": null,
            "border": null,
            "bottom": null,
            "display": null,
            "flex": "2",
            "flex_flow": null,
            "grid_area": null,
            "grid_auto_columns": null,
            "grid_auto_flow": null,
            "grid_auto_rows": null,
            "grid_column": null,
            "grid_gap": null,
            "grid_row": null,
            "grid_template_areas": null,
            "grid_template_columns": null,
            "grid_template_rows": null,
            "height": null,
            "justify_content": null,
            "justify_items": null,
            "left": null,
            "margin": null,
            "max_height": null,
            "max_width": null,
            "min_height": null,
            "min_width": null,
            "object_fit": null,
            "object_position": null,
            "order": null,
            "overflow": null,
            "overflow_x": null,
            "overflow_y": null,
            "padding": null,
            "right": null,
            "top": null,
            "visibility": null,
            "width": null
          }
        },
        "369cfea5539949778ee3eaf9230f5628": {
          "model_module": "@jupyter-widgets/controls",
          "model_name": "ProgressStyleModel",
          "model_module_version": "1.5.0",
          "state": {
            "_model_module": "@jupyter-widgets/controls",
            "_model_module_version": "1.5.0",
            "_model_name": "ProgressStyleModel",
            "_view_count": null,
            "_view_module": "@jupyter-widgets/base",
            "_view_module_version": "1.2.0",
            "_view_name": "StyleView",
            "bar_color": null,
            "description_width": ""
          }
        },
        "b5b444428291438c96e7a904a199106f": {
          "model_module": "@jupyter-widgets/base",
          "model_name": "LayoutModel",
          "model_module_version": "1.2.0",
          "state": {
            "_model_module": "@jupyter-widgets/base",
            "_model_module_version": "1.2.0",
            "_model_name": "LayoutModel",
            "_view_count": null,
            "_view_module": "@jupyter-widgets/base",
            "_view_module_version": "1.2.0",
            "_view_name": "LayoutView",
            "align_content": null,
            "align_items": null,
            "align_self": null,
            "border": null,
            "bottom": null,
            "display": null,
            "flex": null,
            "flex_flow": null,
            "grid_area": null,
            "grid_auto_columns": null,
            "grid_auto_flow": null,
            "grid_auto_rows": null,
            "grid_column": null,
            "grid_gap": null,
            "grid_row": null,
            "grid_template_areas": null,
            "grid_template_columns": null,
            "grid_template_rows": null,
            "height": null,
            "justify_content": null,
            "justify_items": null,
            "left": null,
            "margin": null,
            "max_height": null,
            "max_width": null,
            "min_height": null,
            "min_width": null,
            "object_fit": null,
            "object_position": null,
            "order": null,
            "overflow": null,
            "overflow_x": null,
            "overflow_y": null,
            "padding": null,
            "right": null,
            "top": null,
            "visibility": null,
            "width": null
          }
        },
        "08cec1b1fc7d454388fb30d2711cc0f3": {
          "model_module": "@jupyter-widgets/controls",
          "model_name": "DescriptionStyleModel",
          "model_module_version": "1.5.0",
          "state": {
            "_model_module": "@jupyter-widgets/controls",
            "_model_module_version": "1.5.0",
            "_model_name": "DescriptionStyleModel",
            "_view_count": null,
            "_view_module": "@jupyter-widgets/base",
            "_view_module_version": "1.2.0",
            "_view_name": "StyleView",
            "description_width": ""
          }
        },
        "236558396531436585030e14f38747b9": {
          "model_module": "@jupyter-widgets/controls",
          "model_name": "HBoxModel",
          "model_module_version": "1.5.0",
          "state": {
            "_dom_classes": [],
            "_model_module": "@jupyter-widgets/controls",
            "_model_module_version": "1.5.0",
            "_model_name": "HBoxModel",
            "_view_count": null,
            "_view_module": "@jupyter-widgets/controls",
            "_view_module_version": "1.5.0",
            "_view_name": "HBoxView",
            "box_style": "",
            "children": [
              "IPY_MODEL_a5f835c761f14b7da6cafda10f4b78d3",
              "IPY_MODEL_802f967cc1044e6aa7f9b256e65142b3",
              "IPY_MODEL_70e1009bcc114109acef0364391a2918"
            ],
            "layout": "IPY_MODEL_488495d002df45ec9d5030a2d621f537"
          }
        },
        "a5f835c761f14b7da6cafda10f4b78d3": {
          "model_module": "@jupyter-widgets/controls",
          "model_name": "HTMLModel",
          "model_module_version": "1.5.0",
          "state": {
            "_dom_classes": [],
            "_model_module": "@jupyter-widgets/controls",
            "_model_module_version": "1.5.0",
            "_model_name": "HTMLModel",
            "_view_count": null,
            "_view_module": "@jupyter-widgets/controls",
            "_view_module_version": "1.5.0",
            "_view_name": "HTMLView",
            "description": "",
            "description_tooltip": null,
            "layout": "IPY_MODEL_317ceae08ace44f69cd2c7751cee765a",
            "placeholder": "​",
            "style": "IPY_MODEL_ed287d087f0f44e8947eb1a8ffd84909",
            "value": "Validation DataLoader 0: 100%"
          }
        },
        "802f967cc1044e6aa7f9b256e65142b3": {
          "model_module": "@jupyter-widgets/controls",
          "model_name": "FloatProgressModel",
          "model_module_version": "1.5.0",
          "state": {
            "_dom_classes": [],
            "_model_module": "@jupyter-widgets/controls",
            "_model_module_version": "1.5.0",
            "_model_name": "FloatProgressModel",
            "_view_count": null,
            "_view_module": "@jupyter-widgets/controls",
            "_view_module_version": "1.5.0",
            "_view_name": "ProgressView",
            "bar_style": "",
            "description": "",
            "description_tooltip": null,
            "layout": "IPY_MODEL_e17bb27751a44245846084be5f7e94dc",
            "max": 375,
            "min": 0,
            "orientation": "horizontal",
            "style": "IPY_MODEL_c1fc0ebc8ad84bbb8c43a8cba85b8702",
            "value": 375
          }
        },
        "70e1009bcc114109acef0364391a2918": {
          "model_module": "@jupyter-widgets/controls",
          "model_name": "HTMLModel",
          "model_module_version": "1.5.0",
          "state": {
            "_dom_classes": [],
            "_model_module": "@jupyter-widgets/controls",
            "_model_module_version": "1.5.0",
            "_model_name": "HTMLModel",
            "_view_count": null,
            "_view_module": "@jupyter-widgets/controls",
            "_view_module_version": "1.5.0",
            "_view_name": "HTMLView",
            "description": "",
            "description_tooltip": null,
            "layout": "IPY_MODEL_b96f47e77301488a9388d4c6dc4ebfbf",
            "placeholder": "​",
            "style": "IPY_MODEL_9395ce9f1a21474a81a5efe806e4d7ae",
            "value": " 375/375 [00:05&lt;00:00, 74.81it/s]"
          }
        },
        "488495d002df45ec9d5030a2d621f537": {
          "model_module": "@jupyter-widgets/base",
          "model_name": "LayoutModel",
          "model_module_version": "1.2.0",
          "state": {
            "_model_module": "@jupyter-widgets/base",
            "_model_module_version": "1.2.0",
            "_model_name": "LayoutModel",
            "_view_count": null,
            "_view_module": "@jupyter-widgets/base",
            "_view_module_version": "1.2.0",
            "_view_name": "LayoutView",
            "align_content": null,
            "align_items": null,
            "align_self": null,
            "border": null,
            "bottom": null,
            "display": "inline-flex",
            "flex": null,
            "flex_flow": "row wrap",
            "grid_area": null,
            "grid_auto_columns": null,
            "grid_auto_flow": null,
            "grid_auto_rows": null,
            "grid_column": null,
            "grid_gap": null,
            "grid_row": null,
            "grid_template_areas": null,
            "grid_template_columns": null,
            "grid_template_rows": null,
            "height": null,
            "justify_content": null,
            "justify_items": null,
            "left": null,
            "margin": null,
            "max_height": null,
            "max_width": null,
            "min_height": null,
            "min_width": null,
            "object_fit": null,
            "object_position": null,
            "order": null,
            "overflow": null,
            "overflow_x": null,
            "overflow_y": null,
            "padding": null,
            "right": null,
            "top": null,
            "visibility": "hidden",
            "width": "100%"
          }
        },
        "317ceae08ace44f69cd2c7751cee765a": {
          "model_module": "@jupyter-widgets/base",
          "model_name": "LayoutModel",
          "model_module_version": "1.2.0",
          "state": {
            "_model_module": "@jupyter-widgets/base",
            "_model_module_version": "1.2.0",
            "_model_name": "LayoutModel",
            "_view_count": null,
            "_view_module": "@jupyter-widgets/base",
            "_view_module_version": "1.2.0",
            "_view_name": "LayoutView",
            "align_content": null,
            "align_items": null,
            "align_self": null,
            "border": null,
            "bottom": null,
            "display": null,
            "flex": null,
            "flex_flow": null,
            "grid_area": null,
            "grid_auto_columns": null,
            "grid_auto_flow": null,
            "grid_auto_rows": null,
            "grid_column": null,
            "grid_gap": null,
            "grid_row": null,
            "grid_template_areas": null,
            "grid_template_columns": null,
            "grid_template_rows": null,
            "height": null,
            "justify_content": null,
            "justify_items": null,
            "left": null,
            "margin": null,
            "max_height": null,
            "max_width": null,
            "min_height": null,
            "min_width": null,
            "object_fit": null,
            "object_position": null,
            "order": null,
            "overflow": null,
            "overflow_x": null,
            "overflow_y": null,
            "padding": null,
            "right": null,
            "top": null,
            "visibility": null,
            "width": null
          }
        },
        "ed287d087f0f44e8947eb1a8ffd84909": {
          "model_module": "@jupyter-widgets/controls",
          "model_name": "DescriptionStyleModel",
          "model_module_version": "1.5.0",
          "state": {
            "_model_module": "@jupyter-widgets/controls",
            "_model_module_version": "1.5.0",
            "_model_name": "DescriptionStyleModel",
            "_view_count": null,
            "_view_module": "@jupyter-widgets/base",
            "_view_module_version": "1.2.0",
            "_view_name": "StyleView",
            "description_width": ""
          }
        },
        "e17bb27751a44245846084be5f7e94dc": {
          "model_module": "@jupyter-widgets/base",
          "model_name": "LayoutModel",
          "model_module_version": "1.2.0",
          "state": {
            "_model_module": "@jupyter-widgets/base",
            "_model_module_version": "1.2.0",
            "_model_name": "LayoutModel",
            "_view_count": null,
            "_view_module": "@jupyter-widgets/base",
            "_view_module_version": "1.2.0",
            "_view_name": "LayoutView",
            "align_content": null,
            "align_items": null,
            "align_self": null,
            "border": null,
            "bottom": null,
            "display": null,
            "flex": "2",
            "flex_flow": null,
            "grid_area": null,
            "grid_auto_columns": null,
            "grid_auto_flow": null,
            "grid_auto_rows": null,
            "grid_column": null,
            "grid_gap": null,
            "grid_row": null,
            "grid_template_areas": null,
            "grid_template_columns": null,
            "grid_template_rows": null,
            "height": null,
            "justify_content": null,
            "justify_items": null,
            "left": null,
            "margin": null,
            "max_height": null,
            "max_width": null,
            "min_height": null,
            "min_width": null,
            "object_fit": null,
            "object_position": null,
            "order": null,
            "overflow": null,
            "overflow_x": null,
            "overflow_y": null,
            "padding": null,
            "right": null,
            "top": null,
            "visibility": null,
            "width": null
          }
        },
        "c1fc0ebc8ad84bbb8c43a8cba85b8702": {
          "model_module": "@jupyter-widgets/controls",
          "model_name": "ProgressStyleModel",
          "model_module_version": "1.5.0",
          "state": {
            "_model_module": "@jupyter-widgets/controls",
            "_model_module_version": "1.5.0",
            "_model_name": "ProgressStyleModel",
            "_view_count": null,
            "_view_module": "@jupyter-widgets/base",
            "_view_module_version": "1.2.0",
            "_view_name": "StyleView",
            "bar_color": null,
            "description_width": ""
          }
        },
        "b96f47e77301488a9388d4c6dc4ebfbf": {
          "model_module": "@jupyter-widgets/base",
          "model_name": "LayoutModel",
          "model_module_version": "1.2.0",
          "state": {
            "_model_module": "@jupyter-widgets/base",
            "_model_module_version": "1.2.0",
            "_model_name": "LayoutModel",
            "_view_count": null,
            "_view_module": "@jupyter-widgets/base",
            "_view_module_version": "1.2.0",
            "_view_name": "LayoutView",
            "align_content": null,
            "align_items": null,
            "align_self": null,
            "border": null,
            "bottom": null,
            "display": null,
            "flex": null,
            "flex_flow": null,
            "grid_area": null,
            "grid_auto_columns": null,
            "grid_auto_flow": null,
            "grid_auto_rows": null,
            "grid_column": null,
            "grid_gap": null,
            "grid_row": null,
            "grid_template_areas": null,
            "grid_template_columns": null,
            "grid_template_rows": null,
            "height": null,
            "justify_content": null,
            "justify_items": null,
            "left": null,
            "margin": null,
            "max_height": null,
            "max_width": null,
            "min_height": null,
            "min_width": null,
            "object_fit": null,
            "object_position": null,
            "order": null,
            "overflow": null,
            "overflow_x": null,
            "overflow_y": null,
            "padding": null,
            "right": null,
            "top": null,
            "visibility": null,
            "width": null
          }
        },
        "9395ce9f1a21474a81a5efe806e4d7ae": {
          "model_module": "@jupyter-widgets/controls",
          "model_name": "DescriptionStyleModel",
          "model_module_version": "1.5.0",
          "state": {
            "_model_module": "@jupyter-widgets/controls",
            "_model_module_version": "1.5.0",
            "_model_name": "DescriptionStyleModel",
            "_view_count": null,
            "_view_module": "@jupyter-widgets/base",
            "_view_module_version": "1.2.0",
            "_view_name": "StyleView",
            "description_width": ""
          }
        },
        "3896f70c697a423b902547209206a3d7": {
          "model_module": "@jupyter-widgets/controls",
          "model_name": "HBoxModel",
          "model_module_version": "1.5.0",
          "state": {
            "_dom_classes": [],
            "_model_module": "@jupyter-widgets/controls",
            "_model_module_version": "1.5.0",
            "_model_name": "HBoxModel",
            "_view_count": null,
            "_view_module": "@jupyter-widgets/controls",
            "_view_module_version": "1.5.0",
            "_view_name": "HBoxView",
            "box_style": "",
            "children": [
              "IPY_MODEL_d45abd8aa7f947699ff4ebdfc5eb9808",
              "IPY_MODEL_fa5444f6f4064d7db571a6913593dc00",
              "IPY_MODEL_509f08e02580471d818c3fc963d01346"
            ],
            "layout": "IPY_MODEL_6390fa6f3ffa4e5eb67fc415a169eb66"
          }
        },
        "d45abd8aa7f947699ff4ebdfc5eb9808": {
          "model_module": "@jupyter-widgets/controls",
          "model_name": "HTMLModel",
          "model_module_version": "1.5.0",
          "state": {
            "_dom_classes": [],
            "_model_module": "@jupyter-widgets/controls",
            "_model_module_version": "1.5.0",
            "_model_name": "HTMLModel",
            "_view_count": null,
            "_view_module": "@jupyter-widgets/controls",
            "_view_module_version": "1.5.0",
            "_view_name": "HTMLView",
            "description": "",
            "description_tooltip": null,
            "layout": "IPY_MODEL_290521641bdd43e3be695d3e40eae74f",
            "placeholder": "​",
            "style": "IPY_MODEL_2811dca2c09c493e9fd68c1313ec0707",
            "value": "Validation DataLoader 0: 100%"
          }
        },
        "fa5444f6f4064d7db571a6913593dc00": {
          "model_module": "@jupyter-widgets/controls",
          "model_name": "FloatProgressModel",
          "model_module_version": "1.5.0",
          "state": {
            "_dom_classes": [],
            "_model_module": "@jupyter-widgets/controls",
            "_model_module_version": "1.5.0",
            "_model_name": "FloatProgressModel",
            "_view_count": null,
            "_view_module": "@jupyter-widgets/controls",
            "_view_module_version": "1.5.0",
            "_view_name": "ProgressView",
            "bar_style": "",
            "description": "",
            "description_tooltip": null,
            "layout": "IPY_MODEL_c1b09d26a0bf4ea28ef9a233b9e9ea5b",
            "max": 375,
            "min": 0,
            "orientation": "horizontal",
            "style": "IPY_MODEL_99c37d7d497a4b7eb26afb6ce41c076c",
            "value": 375
          }
        },
        "509f08e02580471d818c3fc963d01346": {
          "model_module": "@jupyter-widgets/controls",
          "model_name": "HTMLModel",
          "model_module_version": "1.5.0",
          "state": {
            "_dom_classes": [],
            "_model_module": "@jupyter-widgets/controls",
            "_model_module_version": "1.5.0",
            "_model_name": "HTMLModel",
            "_view_count": null,
            "_view_module": "@jupyter-widgets/controls",
            "_view_module_version": "1.5.0",
            "_view_name": "HTMLView",
            "description": "",
            "description_tooltip": null,
            "layout": "IPY_MODEL_238c956d4f044d30b9617cf7d74a71db",
            "placeholder": "​",
            "style": "IPY_MODEL_8762386670434738a104e2e0b5746c10",
            "value": " 375/375 [00:03&lt;00:00, 114.33it/s]"
          }
        },
        "6390fa6f3ffa4e5eb67fc415a169eb66": {
          "model_module": "@jupyter-widgets/base",
          "model_name": "LayoutModel",
          "model_module_version": "1.2.0",
          "state": {
            "_model_module": "@jupyter-widgets/base",
            "_model_module_version": "1.2.0",
            "_model_name": "LayoutModel",
            "_view_count": null,
            "_view_module": "@jupyter-widgets/base",
            "_view_module_version": "1.2.0",
            "_view_name": "LayoutView",
            "align_content": null,
            "align_items": null,
            "align_self": null,
            "border": null,
            "bottom": null,
            "display": "inline-flex",
            "flex": null,
            "flex_flow": "row wrap",
            "grid_area": null,
            "grid_auto_columns": null,
            "grid_auto_flow": null,
            "grid_auto_rows": null,
            "grid_column": null,
            "grid_gap": null,
            "grid_row": null,
            "grid_template_areas": null,
            "grid_template_columns": null,
            "grid_template_rows": null,
            "height": null,
            "justify_content": null,
            "justify_items": null,
            "left": null,
            "margin": null,
            "max_height": null,
            "max_width": null,
            "min_height": null,
            "min_width": null,
            "object_fit": null,
            "object_position": null,
            "order": null,
            "overflow": null,
            "overflow_x": null,
            "overflow_y": null,
            "padding": null,
            "right": null,
            "top": null,
            "visibility": "hidden",
            "width": "100%"
          }
        },
        "290521641bdd43e3be695d3e40eae74f": {
          "model_module": "@jupyter-widgets/base",
          "model_name": "LayoutModel",
          "model_module_version": "1.2.0",
          "state": {
            "_model_module": "@jupyter-widgets/base",
            "_model_module_version": "1.2.0",
            "_model_name": "LayoutModel",
            "_view_count": null,
            "_view_module": "@jupyter-widgets/base",
            "_view_module_version": "1.2.0",
            "_view_name": "LayoutView",
            "align_content": null,
            "align_items": null,
            "align_self": null,
            "border": null,
            "bottom": null,
            "display": null,
            "flex": null,
            "flex_flow": null,
            "grid_area": null,
            "grid_auto_columns": null,
            "grid_auto_flow": null,
            "grid_auto_rows": null,
            "grid_column": null,
            "grid_gap": null,
            "grid_row": null,
            "grid_template_areas": null,
            "grid_template_columns": null,
            "grid_template_rows": null,
            "height": null,
            "justify_content": null,
            "justify_items": null,
            "left": null,
            "margin": null,
            "max_height": null,
            "max_width": null,
            "min_height": null,
            "min_width": null,
            "object_fit": null,
            "object_position": null,
            "order": null,
            "overflow": null,
            "overflow_x": null,
            "overflow_y": null,
            "padding": null,
            "right": null,
            "top": null,
            "visibility": null,
            "width": null
          }
        },
        "2811dca2c09c493e9fd68c1313ec0707": {
          "model_module": "@jupyter-widgets/controls",
          "model_name": "DescriptionStyleModel",
          "model_module_version": "1.5.0",
          "state": {
            "_model_module": "@jupyter-widgets/controls",
            "_model_module_version": "1.5.0",
            "_model_name": "DescriptionStyleModel",
            "_view_count": null,
            "_view_module": "@jupyter-widgets/base",
            "_view_module_version": "1.2.0",
            "_view_name": "StyleView",
            "description_width": ""
          }
        },
        "c1b09d26a0bf4ea28ef9a233b9e9ea5b": {
          "model_module": "@jupyter-widgets/base",
          "model_name": "LayoutModel",
          "model_module_version": "1.2.0",
          "state": {
            "_model_module": "@jupyter-widgets/base",
            "_model_module_version": "1.2.0",
            "_model_name": "LayoutModel",
            "_view_count": null,
            "_view_module": "@jupyter-widgets/base",
            "_view_module_version": "1.2.0",
            "_view_name": "LayoutView",
            "align_content": null,
            "align_items": null,
            "align_self": null,
            "border": null,
            "bottom": null,
            "display": null,
            "flex": "2",
            "flex_flow": null,
            "grid_area": null,
            "grid_auto_columns": null,
            "grid_auto_flow": null,
            "grid_auto_rows": null,
            "grid_column": null,
            "grid_gap": null,
            "grid_row": null,
            "grid_template_areas": null,
            "grid_template_columns": null,
            "grid_template_rows": null,
            "height": null,
            "justify_content": null,
            "justify_items": null,
            "left": null,
            "margin": null,
            "max_height": null,
            "max_width": null,
            "min_height": null,
            "min_width": null,
            "object_fit": null,
            "object_position": null,
            "order": null,
            "overflow": null,
            "overflow_x": null,
            "overflow_y": null,
            "padding": null,
            "right": null,
            "top": null,
            "visibility": null,
            "width": null
          }
        },
        "99c37d7d497a4b7eb26afb6ce41c076c": {
          "model_module": "@jupyter-widgets/controls",
          "model_name": "ProgressStyleModel",
          "model_module_version": "1.5.0",
          "state": {
            "_model_module": "@jupyter-widgets/controls",
            "_model_module_version": "1.5.0",
            "_model_name": "ProgressStyleModel",
            "_view_count": null,
            "_view_module": "@jupyter-widgets/base",
            "_view_module_version": "1.2.0",
            "_view_name": "StyleView",
            "bar_color": null,
            "description_width": ""
          }
        },
        "238c956d4f044d30b9617cf7d74a71db": {
          "model_module": "@jupyter-widgets/base",
          "model_name": "LayoutModel",
          "model_module_version": "1.2.0",
          "state": {
            "_model_module": "@jupyter-widgets/base",
            "_model_module_version": "1.2.0",
            "_model_name": "LayoutModel",
            "_view_count": null,
            "_view_module": "@jupyter-widgets/base",
            "_view_module_version": "1.2.0",
            "_view_name": "LayoutView",
            "align_content": null,
            "align_items": null,
            "align_self": null,
            "border": null,
            "bottom": null,
            "display": null,
            "flex": null,
            "flex_flow": null,
            "grid_area": null,
            "grid_auto_columns": null,
            "grid_auto_flow": null,
            "grid_auto_rows": null,
            "grid_column": null,
            "grid_gap": null,
            "grid_row": null,
            "grid_template_areas": null,
            "grid_template_columns": null,
            "grid_template_rows": null,
            "height": null,
            "justify_content": null,
            "justify_items": null,
            "left": null,
            "margin": null,
            "max_height": null,
            "max_width": null,
            "min_height": null,
            "min_width": null,
            "object_fit": null,
            "object_position": null,
            "order": null,
            "overflow": null,
            "overflow_x": null,
            "overflow_y": null,
            "padding": null,
            "right": null,
            "top": null,
            "visibility": null,
            "width": null
          }
        },
        "8762386670434738a104e2e0b5746c10": {
          "model_module": "@jupyter-widgets/controls",
          "model_name": "DescriptionStyleModel",
          "model_module_version": "1.5.0",
          "state": {
            "_model_module": "@jupyter-widgets/controls",
            "_model_module_version": "1.5.0",
            "_model_name": "DescriptionStyleModel",
            "_view_count": null,
            "_view_module": "@jupyter-widgets/base",
            "_view_module_version": "1.2.0",
            "_view_name": "StyleView",
            "description_width": ""
          }
        },
        "3dd65d60f2464d2db0b43d1cbd45b4e1": {
          "model_module": "@jupyter-widgets/controls",
          "model_name": "HBoxModel",
          "model_module_version": "1.5.0",
          "state": {
            "_dom_classes": [],
            "_model_module": "@jupyter-widgets/controls",
            "_model_module_version": "1.5.0",
            "_model_name": "HBoxModel",
            "_view_count": null,
            "_view_module": "@jupyter-widgets/controls",
            "_view_module_version": "1.5.0",
            "_view_name": "HBoxView",
            "box_style": "",
            "children": [
              "IPY_MODEL_a9f64db5ac8240019d64b717b50fa481",
              "IPY_MODEL_6b406cc7f09b405d995db7368d960d1e",
              "IPY_MODEL_03e83ee31fb545c28ff1ca2fdef61f83"
            ],
            "layout": "IPY_MODEL_67d23ad2202f40c4b4e3aadac6d22032"
          }
        },
        "a9f64db5ac8240019d64b717b50fa481": {
          "model_module": "@jupyter-widgets/controls",
          "model_name": "HTMLModel",
          "model_module_version": "1.5.0",
          "state": {
            "_dom_classes": [],
            "_model_module": "@jupyter-widgets/controls",
            "_model_module_version": "1.5.0",
            "_model_name": "HTMLModel",
            "_view_count": null,
            "_view_module": "@jupyter-widgets/controls",
            "_view_module_version": "1.5.0",
            "_view_name": "HTMLView",
            "description": "",
            "description_tooltip": null,
            "layout": "IPY_MODEL_e3fba2452faf4b76ba3282a67a455c32",
            "placeholder": "​",
            "style": "IPY_MODEL_1d659f5dd895417c8fd0148fbeb15bc1",
            "value": "Validation DataLoader 0: 100%"
          }
        },
        "6b406cc7f09b405d995db7368d960d1e": {
          "model_module": "@jupyter-widgets/controls",
          "model_name": "FloatProgressModel",
          "model_module_version": "1.5.0",
          "state": {
            "_dom_classes": [],
            "_model_module": "@jupyter-widgets/controls",
            "_model_module_version": "1.5.0",
            "_model_name": "FloatProgressModel",
            "_view_count": null,
            "_view_module": "@jupyter-widgets/controls",
            "_view_module_version": "1.5.0",
            "_view_name": "ProgressView",
            "bar_style": "",
            "description": "",
            "description_tooltip": null,
            "layout": "IPY_MODEL_33b98b1cbc7643d5abbbdd81e866a1bf",
            "max": 375,
            "min": 0,
            "orientation": "horizontal",
            "style": "IPY_MODEL_81e90a7790cb4c32a4aae704c8b11cc9",
            "value": 375
          }
        },
        "03e83ee31fb545c28ff1ca2fdef61f83": {
          "model_module": "@jupyter-widgets/controls",
          "model_name": "HTMLModel",
          "model_module_version": "1.5.0",
          "state": {
            "_dom_classes": [],
            "_model_module": "@jupyter-widgets/controls",
            "_model_module_version": "1.5.0",
            "_model_name": "HTMLModel",
            "_view_count": null,
            "_view_module": "@jupyter-widgets/controls",
            "_view_module_version": "1.5.0",
            "_view_name": "HTMLView",
            "description": "",
            "description_tooltip": null,
            "layout": "IPY_MODEL_e119c4902e1046919b0c9ed51e08bf39",
            "placeholder": "​",
            "style": "IPY_MODEL_054ea739a1a74689a704c73ee8a7b201",
            "value": " 375/375 [00:03&lt;00:00, 121.32it/s]"
          }
        },
        "67d23ad2202f40c4b4e3aadac6d22032": {
          "model_module": "@jupyter-widgets/base",
          "model_name": "LayoutModel",
          "model_module_version": "1.2.0",
          "state": {
            "_model_module": "@jupyter-widgets/base",
            "_model_module_version": "1.2.0",
            "_model_name": "LayoutModel",
            "_view_count": null,
            "_view_module": "@jupyter-widgets/base",
            "_view_module_version": "1.2.0",
            "_view_name": "LayoutView",
            "align_content": null,
            "align_items": null,
            "align_self": null,
            "border": null,
            "bottom": null,
            "display": "inline-flex",
            "flex": null,
            "flex_flow": "row wrap",
            "grid_area": null,
            "grid_auto_columns": null,
            "grid_auto_flow": null,
            "grid_auto_rows": null,
            "grid_column": null,
            "grid_gap": null,
            "grid_row": null,
            "grid_template_areas": null,
            "grid_template_columns": null,
            "grid_template_rows": null,
            "height": null,
            "justify_content": null,
            "justify_items": null,
            "left": null,
            "margin": null,
            "max_height": null,
            "max_width": null,
            "min_height": null,
            "min_width": null,
            "object_fit": null,
            "object_position": null,
            "order": null,
            "overflow": null,
            "overflow_x": null,
            "overflow_y": null,
            "padding": null,
            "right": null,
            "top": null,
            "visibility": "hidden",
            "width": "100%"
          }
        },
        "e3fba2452faf4b76ba3282a67a455c32": {
          "model_module": "@jupyter-widgets/base",
          "model_name": "LayoutModel",
          "model_module_version": "1.2.0",
          "state": {
            "_model_module": "@jupyter-widgets/base",
            "_model_module_version": "1.2.0",
            "_model_name": "LayoutModel",
            "_view_count": null,
            "_view_module": "@jupyter-widgets/base",
            "_view_module_version": "1.2.0",
            "_view_name": "LayoutView",
            "align_content": null,
            "align_items": null,
            "align_self": null,
            "border": null,
            "bottom": null,
            "display": null,
            "flex": null,
            "flex_flow": null,
            "grid_area": null,
            "grid_auto_columns": null,
            "grid_auto_flow": null,
            "grid_auto_rows": null,
            "grid_column": null,
            "grid_gap": null,
            "grid_row": null,
            "grid_template_areas": null,
            "grid_template_columns": null,
            "grid_template_rows": null,
            "height": null,
            "justify_content": null,
            "justify_items": null,
            "left": null,
            "margin": null,
            "max_height": null,
            "max_width": null,
            "min_height": null,
            "min_width": null,
            "object_fit": null,
            "object_position": null,
            "order": null,
            "overflow": null,
            "overflow_x": null,
            "overflow_y": null,
            "padding": null,
            "right": null,
            "top": null,
            "visibility": null,
            "width": null
          }
        },
        "1d659f5dd895417c8fd0148fbeb15bc1": {
          "model_module": "@jupyter-widgets/controls",
          "model_name": "DescriptionStyleModel",
          "model_module_version": "1.5.0",
          "state": {
            "_model_module": "@jupyter-widgets/controls",
            "_model_module_version": "1.5.0",
            "_model_name": "DescriptionStyleModel",
            "_view_count": null,
            "_view_module": "@jupyter-widgets/base",
            "_view_module_version": "1.2.0",
            "_view_name": "StyleView",
            "description_width": ""
          }
        },
        "33b98b1cbc7643d5abbbdd81e866a1bf": {
          "model_module": "@jupyter-widgets/base",
          "model_name": "LayoutModel",
          "model_module_version": "1.2.0",
          "state": {
            "_model_module": "@jupyter-widgets/base",
            "_model_module_version": "1.2.0",
            "_model_name": "LayoutModel",
            "_view_count": null,
            "_view_module": "@jupyter-widgets/base",
            "_view_module_version": "1.2.0",
            "_view_name": "LayoutView",
            "align_content": null,
            "align_items": null,
            "align_self": null,
            "border": null,
            "bottom": null,
            "display": null,
            "flex": "2",
            "flex_flow": null,
            "grid_area": null,
            "grid_auto_columns": null,
            "grid_auto_flow": null,
            "grid_auto_rows": null,
            "grid_column": null,
            "grid_gap": null,
            "grid_row": null,
            "grid_template_areas": null,
            "grid_template_columns": null,
            "grid_template_rows": null,
            "height": null,
            "justify_content": null,
            "justify_items": null,
            "left": null,
            "margin": null,
            "max_height": null,
            "max_width": null,
            "min_height": null,
            "min_width": null,
            "object_fit": null,
            "object_position": null,
            "order": null,
            "overflow": null,
            "overflow_x": null,
            "overflow_y": null,
            "padding": null,
            "right": null,
            "top": null,
            "visibility": null,
            "width": null
          }
        },
        "81e90a7790cb4c32a4aae704c8b11cc9": {
          "model_module": "@jupyter-widgets/controls",
          "model_name": "ProgressStyleModel",
          "model_module_version": "1.5.0",
          "state": {
            "_model_module": "@jupyter-widgets/controls",
            "_model_module_version": "1.5.0",
            "_model_name": "ProgressStyleModel",
            "_view_count": null,
            "_view_module": "@jupyter-widgets/base",
            "_view_module_version": "1.2.0",
            "_view_name": "StyleView",
            "bar_color": null,
            "description_width": ""
          }
        },
        "e119c4902e1046919b0c9ed51e08bf39": {
          "model_module": "@jupyter-widgets/base",
          "model_name": "LayoutModel",
          "model_module_version": "1.2.0",
          "state": {
            "_model_module": "@jupyter-widgets/base",
            "_model_module_version": "1.2.0",
            "_model_name": "LayoutModel",
            "_view_count": null,
            "_view_module": "@jupyter-widgets/base",
            "_view_module_version": "1.2.0",
            "_view_name": "LayoutView",
            "align_content": null,
            "align_items": null,
            "align_self": null,
            "border": null,
            "bottom": null,
            "display": null,
            "flex": null,
            "flex_flow": null,
            "grid_area": null,
            "grid_auto_columns": null,
            "grid_auto_flow": null,
            "grid_auto_rows": null,
            "grid_column": null,
            "grid_gap": null,
            "grid_row": null,
            "grid_template_areas": null,
            "grid_template_columns": null,
            "grid_template_rows": null,
            "height": null,
            "justify_content": null,
            "justify_items": null,
            "left": null,
            "margin": null,
            "max_height": null,
            "max_width": null,
            "min_height": null,
            "min_width": null,
            "object_fit": null,
            "object_position": null,
            "order": null,
            "overflow": null,
            "overflow_x": null,
            "overflow_y": null,
            "padding": null,
            "right": null,
            "top": null,
            "visibility": null,
            "width": null
          }
        },
        "054ea739a1a74689a704c73ee8a7b201": {
          "model_module": "@jupyter-widgets/controls",
          "model_name": "DescriptionStyleModel",
          "model_module_version": "1.5.0",
          "state": {
            "_model_module": "@jupyter-widgets/controls",
            "_model_module_version": "1.5.0",
            "_model_name": "DescriptionStyleModel",
            "_view_count": null,
            "_view_module": "@jupyter-widgets/base",
            "_view_module_version": "1.2.0",
            "_view_name": "StyleView",
            "description_width": ""
          }
        },
        "4b169a5abb294c7b9a0863868b62cb80": {
          "model_module": "@jupyter-widgets/controls",
          "model_name": "HBoxModel",
          "model_module_version": "1.5.0",
          "state": {
            "_dom_classes": [],
            "_model_module": "@jupyter-widgets/controls",
            "_model_module_version": "1.5.0",
            "_model_name": "HBoxModel",
            "_view_count": null,
            "_view_module": "@jupyter-widgets/controls",
            "_view_module_version": "1.5.0",
            "_view_name": "HBoxView",
            "box_style": "",
            "children": [
              "IPY_MODEL_d98ba61815f34aef9f725c7c70c5960d",
              "IPY_MODEL_751e71b0efe64a6abdd5b793bd87f9e5",
              "IPY_MODEL_18aa9a7d3b0248638a5734564511d857"
            ],
            "layout": "IPY_MODEL_bfd722816e3c4547b5ea9ec8e2042460"
          }
        },
        "d98ba61815f34aef9f725c7c70c5960d": {
          "model_module": "@jupyter-widgets/controls",
          "model_name": "HTMLModel",
          "model_module_version": "1.5.0",
          "state": {
            "_dom_classes": [],
            "_model_module": "@jupyter-widgets/controls",
            "_model_module_version": "1.5.0",
            "_model_name": "HTMLModel",
            "_view_count": null,
            "_view_module": "@jupyter-widgets/controls",
            "_view_module_version": "1.5.0",
            "_view_name": "HTMLView",
            "description": "",
            "description_tooltip": null,
            "layout": "IPY_MODEL_66f95b6d1309470ab207d3b491be0abe",
            "placeholder": "​",
            "style": "IPY_MODEL_ac62cdaf87734052a2152acae8f8abb0",
            "value": "Validation DataLoader 0: 100%"
          }
        },
        "751e71b0efe64a6abdd5b793bd87f9e5": {
          "model_module": "@jupyter-widgets/controls",
          "model_name": "FloatProgressModel",
          "model_module_version": "1.5.0",
          "state": {
            "_dom_classes": [],
            "_model_module": "@jupyter-widgets/controls",
            "_model_module_version": "1.5.0",
            "_model_name": "FloatProgressModel",
            "_view_count": null,
            "_view_module": "@jupyter-widgets/controls",
            "_view_module_version": "1.5.0",
            "_view_name": "ProgressView",
            "bar_style": "",
            "description": "",
            "description_tooltip": null,
            "layout": "IPY_MODEL_da9f8594d40947ce9401c44f01f5f773",
            "max": 375,
            "min": 0,
            "orientation": "horizontal",
            "style": "IPY_MODEL_c8d41dea782548baaf633227e51bb019",
            "value": 375
          }
        },
        "18aa9a7d3b0248638a5734564511d857": {
          "model_module": "@jupyter-widgets/controls",
          "model_name": "HTMLModel",
          "model_module_version": "1.5.0",
          "state": {
            "_dom_classes": [],
            "_model_module": "@jupyter-widgets/controls",
            "_model_module_version": "1.5.0",
            "_model_name": "HTMLModel",
            "_view_count": null,
            "_view_module": "@jupyter-widgets/controls",
            "_view_module_version": "1.5.0",
            "_view_name": "HTMLView",
            "description": "",
            "description_tooltip": null,
            "layout": "IPY_MODEL_9b71713b184a494ca640434f98ac0c7f",
            "placeholder": "​",
            "style": "IPY_MODEL_ad89e54690da4fc0b33ff51adc60f920",
            "value": " 375/375 [00:04&lt;00:00, 90.01it/s]"
          }
        },
        "bfd722816e3c4547b5ea9ec8e2042460": {
          "model_module": "@jupyter-widgets/base",
          "model_name": "LayoutModel",
          "model_module_version": "1.2.0",
          "state": {
            "_model_module": "@jupyter-widgets/base",
            "_model_module_version": "1.2.0",
            "_model_name": "LayoutModel",
            "_view_count": null,
            "_view_module": "@jupyter-widgets/base",
            "_view_module_version": "1.2.0",
            "_view_name": "LayoutView",
            "align_content": null,
            "align_items": null,
            "align_self": null,
            "border": null,
            "bottom": null,
            "display": "inline-flex",
            "flex": null,
            "flex_flow": "row wrap",
            "grid_area": null,
            "grid_auto_columns": null,
            "grid_auto_flow": null,
            "grid_auto_rows": null,
            "grid_column": null,
            "grid_gap": null,
            "grid_row": null,
            "grid_template_areas": null,
            "grid_template_columns": null,
            "grid_template_rows": null,
            "height": null,
            "justify_content": null,
            "justify_items": null,
            "left": null,
            "margin": null,
            "max_height": null,
            "max_width": null,
            "min_height": null,
            "min_width": null,
            "object_fit": null,
            "object_position": null,
            "order": null,
            "overflow": null,
            "overflow_x": null,
            "overflow_y": null,
            "padding": null,
            "right": null,
            "top": null,
            "visibility": "hidden",
            "width": "100%"
          }
        },
        "66f95b6d1309470ab207d3b491be0abe": {
          "model_module": "@jupyter-widgets/base",
          "model_name": "LayoutModel",
          "model_module_version": "1.2.0",
          "state": {
            "_model_module": "@jupyter-widgets/base",
            "_model_module_version": "1.2.0",
            "_model_name": "LayoutModel",
            "_view_count": null,
            "_view_module": "@jupyter-widgets/base",
            "_view_module_version": "1.2.0",
            "_view_name": "LayoutView",
            "align_content": null,
            "align_items": null,
            "align_self": null,
            "border": null,
            "bottom": null,
            "display": null,
            "flex": null,
            "flex_flow": null,
            "grid_area": null,
            "grid_auto_columns": null,
            "grid_auto_flow": null,
            "grid_auto_rows": null,
            "grid_column": null,
            "grid_gap": null,
            "grid_row": null,
            "grid_template_areas": null,
            "grid_template_columns": null,
            "grid_template_rows": null,
            "height": null,
            "justify_content": null,
            "justify_items": null,
            "left": null,
            "margin": null,
            "max_height": null,
            "max_width": null,
            "min_height": null,
            "min_width": null,
            "object_fit": null,
            "object_position": null,
            "order": null,
            "overflow": null,
            "overflow_x": null,
            "overflow_y": null,
            "padding": null,
            "right": null,
            "top": null,
            "visibility": null,
            "width": null
          }
        },
        "ac62cdaf87734052a2152acae8f8abb0": {
          "model_module": "@jupyter-widgets/controls",
          "model_name": "DescriptionStyleModel",
          "model_module_version": "1.5.0",
          "state": {
            "_model_module": "@jupyter-widgets/controls",
            "_model_module_version": "1.5.0",
            "_model_name": "DescriptionStyleModel",
            "_view_count": null,
            "_view_module": "@jupyter-widgets/base",
            "_view_module_version": "1.2.0",
            "_view_name": "StyleView",
            "description_width": ""
          }
        },
        "da9f8594d40947ce9401c44f01f5f773": {
          "model_module": "@jupyter-widgets/base",
          "model_name": "LayoutModel",
          "model_module_version": "1.2.0",
          "state": {
            "_model_module": "@jupyter-widgets/base",
            "_model_module_version": "1.2.0",
            "_model_name": "LayoutModel",
            "_view_count": null,
            "_view_module": "@jupyter-widgets/base",
            "_view_module_version": "1.2.0",
            "_view_name": "LayoutView",
            "align_content": null,
            "align_items": null,
            "align_self": null,
            "border": null,
            "bottom": null,
            "display": null,
            "flex": "2",
            "flex_flow": null,
            "grid_area": null,
            "grid_auto_columns": null,
            "grid_auto_flow": null,
            "grid_auto_rows": null,
            "grid_column": null,
            "grid_gap": null,
            "grid_row": null,
            "grid_template_areas": null,
            "grid_template_columns": null,
            "grid_template_rows": null,
            "height": null,
            "justify_content": null,
            "justify_items": null,
            "left": null,
            "margin": null,
            "max_height": null,
            "max_width": null,
            "min_height": null,
            "min_width": null,
            "object_fit": null,
            "object_position": null,
            "order": null,
            "overflow": null,
            "overflow_x": null,
            "overflow_y": null,
            "padding": null,
            "right": null,
            "top": null,
            "visibility": null,
            "width": null
          }
        },
        "c8d41dea782548baaf633227e51bb019": {
          "model_module": "@jupyter-widgets/controls",
          "model_name": "ProgressStyleModel",
          "model_module_version": "1.5.0",
          "state": {
            "_model_module": "@jupyter-widgets/controls",
            "_model_module_version": "1.5.0",
            "_model_name": "ProgressStyleModel",
            "_view_count": null,
            "_view_module": "@jupyter-widgets/base",
            "_view_module_version": "1.2.0",
            "_view_name": "StyleView",
            "bar_color": null,
            "description_width": ""
          }
        },
        "9b71713b184a494ca640434f98ac0c7f": {
          "model_module": "@jupyter-widgets/base",
          "model_name": "LayoutModel",
          "model_module_version": "1.2.0",
          "state": {
            "_model_module": "@jupyter-widgets/base",
            "_model_module_version": "1.2.0",
            "_model_name": "LayoutModel",
            "_view_count": null,
            "_view_module": "@jupyter-widgets/base",
            "_view_module_version": "1.2.0",
            "_view_name": "LayoutView",
            "align_content": null,
            "align_items": null,
            "align_self": null,
            "border": null,
            "bottom": null,
            "display": null,
            "flex": null,
            "flex_flow": null,
            "grid_area": null,
            "grid_auto_columns": null,
            "grid_auto_flow": null,
            "grid_auto_rows": null,
            "grid_column": null,
            "grid_gap": null,
            "grid_row": null,
            "grid_template_areas": null,
            "grid_template_columns": null,
            "grid_template_rows": null,
            "height": null,
            "justify_content": null,
            "justify_items": null,
            "left": null,
            "margin": null,
            "max_height": null,
            "max_width": null,
            "min_height": null,
            "min_width": null,
            "object_fit": null,
            "object_position": null,
            "order": null,
            "overflow": null,
            "overflow_x": null,
            "overflow_y": null,
            "padding": null,
            "right": null,
            "top": null,
            "visibility": null,
            "width": null
          }
        },
        "ad89e54690da4fc0b33ff51adc60f920": {
          "model_module": "@jupyter-widgets/controls",
          "model_name": "DescriptionStyleModel",
          "model_module_version": "1.5.0",
          "state": {
            "_model_module": "@jupyter-widgets/controls",
            "_model_module_version": "1.5.0",
            "_model_name": "DescriptionStyleModel",
            "_view_count": null,
            "_view_module": "@jupyter-widgets/base",
            "_view_module_version": "1.2.0",
            "_view_name": "StyleView",
            "description_width": ""
          }
        },
        "43562bc15bef459485436a6a9706573c": {
          "model_module": "@jupyter-widgets/controls",
          "model_name": "HBoxModel",
          "model_module_version": "1.5.0",
          "state": {
            "_dom_classes": [],
            "_model_module": "@jupyter-widgets/controls",
            "_model_module_version": "1.5.0",
            "_model_name": "HBoxModel",
            "_view_count": null,
            "_view_module": "@jupyter-widgets/controls",
            "_view_module_version": "1.5.0",
            "_view_name": "HBoxView",
            "box_style": "",
            "children": [
              "IPY_MODEL_e9249445cfa0417da9e7be30b28e3c18",
              "IPY_MODEL_750be81c7f1146de88139c21ea5b21c4",
              "IPY_MODEL_ae8c82d72f1e47dba9b1fc3454a2fce6"
            ],
            "layout": "IPY_MODEL_8ddc7712849e40d1bdb474ec38465bb1"
          }
        },
        "e9249445cfa0417da9e7be30b28e3c18": {
          "model_module": "@jupyter-widgets/controls",
          "model_name": "HTMLModel",
          "model_module_version": "1.5.0",
          "state": {
            "_dom_classes": [],
            "_model_module": "@jupyter-widgets/controls",
            "_model_module_version": "1.5.0",
            "_model_name": "HTMLModel",
            "_view_count": null,
            "_view_module": "@jupyter-widgets/controls",
            "_view_module_version": "1.5.0",
            "_view_name": "HTMLView",
            "description": "",
            "description_tooltip": null,
            "layout": "IPY_MODEL_f1c23dfc49084421825ba277a4f4924a",
            "placeholder": "​",
            "style": "IPY_MODEL_54f7dcac7e604633b2225096c075f0a2",
            "value": "Epoch 4: 100%"
          }
        },
        "750be81c7f1146de88139c21ea5b21c4": {
          "model_module": "@jupyter-widgets/controls",
          "model_name": "FloatProgressModel",
          "model_module_version": "1.5.0",
          "state": {
            "_dom_classes": [],
            "_model_module": "@jupyter-widgets/controls",
            "_model_module_version": "1.5.0",
            "_model_name": "FloatProgressModel",
            "_view_count": null,
            "_view_module": "@jupyter-widgets/controls",
            "_view_module_version": "1.5.0",
            "_view_name": "ProgressView",
            "bar_style": "success",
            "description": "",
            "description_tooltip": null,
            "layout": "IPY_MODEL_96feb15f5787472cb0209167d4721688",
            "max": 1500,
            "min": 0,
            "orientation": "horizontal",
            "style": "IPY_MODEL_34baea9ee0e647279b98426c940c60b6",
            "value": 1500
          }
        },
        "ae8c82d72f1e47dba9b1fc3454a2fce6": {
          "model_module": "@jupyter-widgets/controls",
          "model_name": "HTMLModel",
          "model_module_version": "1.5.0",
          "state": {
            "_dom_classes": [],
            "_model_module": "@jupyter-widgets/controls",
            "_model_module_version": "1.5.0",
            "_model_name": "HTMLModel",
            "_view_count": null,
            "_view_module": "@jupyter-widgets/controls",
            "_view_module_version": "1.5.0",
            "_view_name": "HTMLView",
            "description": "",
            "description_tooltip": null,
            "layout": "IPY_MODEL_4668e69f378c40249811cce16d4dec62",
            "placeholder": "​",
            "style": "IPY_MODEL_f99ae5bd8f724fdf884b0034ad448d57",
            "value": " 1500/1500 [00:20&lt;00:00, 72.79it/s, v_num=0, loss_on_train=2.260, loss_on_test=2.260]"
          }
        },
        "8ddc7712849e40d1bdb474ec38465bb1": {
          "model_module": "@jupyter-widgets/base",
          "model_name": "LayoutModel",
          "model_module_version": "1.2.0",
          "state": {
            "_model_module": "@jupyter-widgets/base",
            "_model_module_version": "1.2.0",
            "_model_name": "LayoutModel",
            "_view_count": null,
            "_view_module": "@jupyter-widgets/base",
            "_view_module_version": "1.2.0",
            "_view_name": "LayoutView",
            "align_content": null,
            "align_items": null,
            "align_self": null,
            "border": null,
            "bottom": null,
            "display": "inline-flex",
            "flex": null,
            "flex_flow": "row wrap",
            "grid_area": null,
            "grid_auto_columns": null,
            "grid_auto_flow": null,
            "grid_auto_rows": null,
            "grid_column": null,
            "grid_gap": null,
            "grid_row": null,
            "grid_template_areas": null,
            "grid_template_columns": null,
            "grid_template_rows": null,
            "height": null,
            "justify_content": null,
            "justify_items": null,
            "left": null,
            "margin": null,
            "max_height": null,
            "max_width": null,
            "min_height": null,
            "min_width": null,
            "object_fit": null,
            "object_position": null,
            "order": null,
            "overflow": null,
            "overflow_x": null,
            "overflow_y": null,
            "padding": null,
            "right": null,
            "top": null,
            "visibility": null,
            "width": "100%"
          }
        },
        "f1c23dfc49084421825ba277a4f4924a": {
          "model_module": "@jupyter-widgets/base",
          "model_name": "LayoutModel",
          "model_module_version": "1.2.0",
          "state": {
            "_model_module": "@jupyter-widgets/base",
            "_model_module_version": "1.2.0",
            "_model_name": "LayoutModel",
            "_view_count": null,
            "_view_module": "@jupyter-widgets/base",
            "_view_module_version": "1.2.0",
            "_view_name": "LayoutView",
            "align_content": null,
            "align_items": null,
            "align_self": null,
            "border": null,
            "bottom": null,
            "display": null,
            "flex": null,
            "flex_flow": null,
            "grid_area": null,
            "grid_auto_columns": null,
            "grid_auto_flow": null,
            "grid_auto_rows": null,
            "grid_column": null,
            "grid_gap": null,
            "grid_row": null,
            "grid_template_areas": null,
            "grid_template_columns": null,
            "grid_template_rows": null,
            "height": null,
            "justify_content": null,
            "justify_items": null,
            "left": null,
            "margin": null,
            "max_height": null,
            "max_width": null,
            "min_height": null,
            "min_width": null,
            "object_fit": null,
            "object_position": null,
            "order": null,
            "overflow": null,
            "overflow_x": null,
            "overflow_y": null,
            "padding": null,
            "right": null,
            "top": null,
            "visibility": null,
            "width": null
          }
        },
        "54f7dcac7e604633b2225096c075f0a2": {
          "model_module": "@jupyter-widgets/controls",
          "model_name": "DescriptionStyleModel",
          "model_module_version": "1.5.0",
          "state": {
            "_model_module": "@jupyter-widgets/controls",
            "_model_module_version": "1.5.0",
            "_model_name": "DescriptionStyleModel",
            "_view_count": null,
            "_view_module": "@jupyter-widgets/base",
            "_view_module_version": "1.2.0",
            "_view_name": "StyleView",
            "description_width": ""
          }
        },
        "96feb15f5787472cb0209167d4721688": {
          "model_module": "@jupyter-widgets/base",
          "model_name": "LayoutModel",
          "model_module_version": "1.2.0",
          "state": {
            "_model_module": "@jupyter-widgets/base",
            "_model_module_version": "1.2.0",
            "_model_name": "LayoutModel",
            "_view_count": null,
            "_view_module": "@jupyter-widgets/base",
            "_view_module_version": "1.2.0",
            "_view_name": "LayoutView",
            "align_content": null,
            "align_items": null,
            "align_self": null,
            "border": null,
            "bottom": null,
            "display": null,
            "flex": "2",
            "flex_flow": null,
            "grid_area": null,
            "grid_auto_columns": null,
            "grid_auto_flow": null,
            "grid_auto_rows": null,
            "grid_column": null,
            "grid_gap": null,
            "grid_row": null,
            "grid_template_areas": null,
            "grid_template_columns": null,
            "grid_template_rows": null,
            "height": null,
            "justify_content": null,
            "justify_items": null,
            "left": null,
            "margin": null,
            "max_height": null,
            "max_width": null,
            "min_height": null,
            "min_width": null,
            "object_fit": null,
            "object_position": null,
            "order": null,
            "overflow": null,
            "overflow_x": null,
            "overflow_y": null,
            "padding": null,
            "right": null,
            "top": null,
            "visibility": null,
            "width": null
          }
        },
        "34baea9ee0e647279b98426c940c60b6": {
          "model_module": "@jupyter-widgets/controls",
          "model_name": "ProgressStyleModel",
          "model_module_version": "1.5.0",
          "state": {
            "_model_module": "@jupyter-widgets/controls",
            "_model_module_version": "1.5.0",
            "_model_name": "ProgressStyleModel",
            "_view_count": null,
            "_view_module": "@jupyter-widgets/base",
            "_view_module_version": "1.2.0",
            "_view_name": "StyleView",
            "bar_color": null,
            "description_width": ""
          }
        },
        "4668e69f378c40249811cce16d4dec62": {
          "model_module": "@jupyter-widgets/base",
          "model_name": "LayoutModel",
          "model_module_version": "1.2.0",
          "state": {
            "_model_module": "@jupyter-widgets/base",
            "_model_module_version": "1.2.0",
            "_model_name": "LayoutModel",
            "_view_count": null,
            "_view_module": "@jupyter-widgets/base",
            "_view_module_version": "1.2.0",
            "_view_name": "LayoutView",
            "align_content": null,
            "align_items": null,
            "align_self": null,
            "border": null,
            "bottom": null,
            "display": null,
            "flex": null,
            "flex_flow": null,
            "grid_area": null,
            "grid_auto_columns": null,
            "grid_auto_flow": null,
            "grid_auto_rows": null,
            "grid_column": null,
            "grid_gap": null,
            "grid_row": null,
            "grid_template_areas": null,
            "grid_template_columns": null,
            "grid_template_rows": null,
            "height": null,
            "justify_content": null,
            "justify_items": null,
            "left": null,
            "margin": null,
            "max_height": null,
            "max_width": null,
            "min_height": null,
            "min_width": null,
            "object_fit": null,
            "object_position": null,
            "order": null,
            "overflow": null,
            "overflow_x": null,
            "overflow_y": null,
            "padding": null,
            "right": null,
            "top": null,
            "visibility": null,
            "width": null
          }
        },
        "f99ae5bd8f724fdf884b0034ad448d57": {
          "model_module": "@jupyter-widgets/controls",
          "model_name": "DescriptionStyleModel",
          "model_module_version": "1.5.0",
          "state": {
            "_model_module": "@jupyter-widgets/controls",
            "_model_module_version": "1.5.0",
            "_model_name": "DescriptionStyleModel",
            "_view_count": null,
            "_view_module": "@jupyter-widgets/base",
            "_view_module_version": "1.2.0",
            "_view_name": "StyleView",
            "description_width": ""
          }
        },
        "f5d3a6b6a2a748b9bbec99fde7d91ab3": {
          "model_module": "@jupyter-widgets/controls",
          "model_name": "HBoxModel",
          "model_module_version": "1.5.0",
          "state": {
            "_dom_classes": [],
            "_model_module": "@jupyter-widgets/controls",
            "_model_module_version": "1.5.0",
            "_model_name": "HBoxModel",
            "_view_count": null,
            "_view_module": "@jupyter-widgets/controls",
            "_view_module_version": "1.5.0",
            "_view_name": "HBoxView",
            "box_style": "",
            "children": [
              "IPY_MODEL_187ebf75fa284ec7a5a5d2ed255b8911",
              "IPY_MODEL_4f667262df804abda8d9621009e87c0a",
              "IPY_MODEL_75cdc06584664d358604dbe289f35361"
            ],
            "layout": "IPY_MODEL_02fbf4c64cb845f687618f63db212a54"
          }
        },
        "187ebf75fa284ec7a5a5d2ed255b8911": {
          "model_module": "@jupyter-widgets/controls",
          "model_name": "HTMLModel",
          "model_module_version": "1.5.0",
          "state": {
            "_dom_classes": [],
            "_model_module": "@jupyter-widgets/controls",
            "_model_module_version": "1.5.0",
            "_model_name": "HTMLModel",
            "_view_count": null,
            "_view_module": "@jupyter-widgets/controls",
            "_view_module_version": "1.5.0",
            "_view_name": "HTMLView",
            "description": "",
            "description_tooltip": null,
            "layout": "IPY_MODEL_4a5914827d624e19aa954b6982eecdb9",
            "placeholder": "​",
            "style": "IPY_MODEL_74a1d6dc651c447aaf81a2bc4cc0d065",
            "value": "Validation DataLoader 0: 100%"
          }
        },
        "4f667262df804abda8d9621009e87c0a": {
          "model_module": "@jupyter-widgets/controls",
          "model_name": "FloatProgressModel",
          "model_module_version": "1.5.0",
          "state": {
            "_dom_classes": [],
            "_model_module": "@jupyter-widgets/controls",
            "_model_module_version": "1.5.0",
            "_model_name": "FloatProgressModel",
            "_view_count": null,
            "_view_module": "@jupyter-widgets/controls",
            "_view_module_version": "1.5.0",
            "_view_name": "ProgressView",
            "bar_style": "",
            "description": "",
            "description_tooltip": null,
            "layout": "IPY_MODEL_16b0703d0be4425ea28d2be9ae704ed3",
            "max": 375,
            "min": 0,
            "orientation": "horizontal",
            "style": "IPY_MODEL_7545a0deb14d48e19b062e91f35f6aec",
            "value": 375
          }
        },
        "75cdc06584664d358604dbe289f35361": {
          "model_module": "@jupyter-widgets/controls",
          "model_name": "HTMLModel",
          "model_module_version": "1.5.0",
          "state": {
            "_dom_classes": [],
            "_model_module": "@jupyter-widgets/controls",
            "_model_module_version": "1.5.0",
            "_model_name": "HTMLModel",
            "_view_count": null,
            "_view_module": "@jupyter-widgets/controls",
            "_view_module_version": "1.5.0",
            "_view_name": "HTMLView",
            "description": "",
            "description_tooltip": null,
            "layout": "IPY_MODEL_3f65665fc9c64a119b3aeadc9a09d343",
            "placeholder": "​",
            "style": "IPY_MODEL_57910832d5844f3c8a615e8a5e2aa8aa",
            "value": " 375/375 [00:04&lt;00:00, 80.06it/s]"
          }
        },
        "02fbf4c64cb845f687618f63db212a54": {
          "model_module": "@jupyter-widgets/base",
          "model_name": "LayoutModel",
          "model_module_version": "1.2.0",
          "state": {
            "_model_module": "@jupyter-widgets/base",
            "_model_module_version": "1.2.0",
            "_model_name": "LayoutModel",
            "_view_count": null,
            "_view_module": "@jupyter-widgets/base",
            "_view_module_version": "1.2.0",
            "_view_name": "LayoutView",
            "align_content": null,
            "align_items": null,
            "align_self": null,
            "border": null,
            "bottom": null,
            "display": "inline-flex",
            "flex": null,
            "flex_flow": "row wrap",
            "grid_area": null,
            "grid_auto_columns": null,
            "grid_auto_flow": null,
            "grid_auto_rows": null,
            "grid_column": null,
            "grid_gap": null,
            "grid_row": null,
            "grid_template_areas": null,
            "grid_template_columns": null,
            "grid_template_rows": null,
            "height": null,
            "justify_content": null,
            "justify_items": null,
            "left": null,
            "margin": null,
            "max_height": null,
            "max_width": null,
            "min_height": null,
            "min_width": null,
            "object_fit": null,
            "object_position": null,
            "order": null,
            "overflow": null,
            "overflow_x": null,
            "overflow_y": null,
            "padding": null,
            "right": null,
            "top": null,
            "visibility": "hidden",
            "width": "100%"
          }
        },
        "4a5914827d624e19aa954b6982eecdb9": {
          "model_module": "@jupyter-widgets/base",
          "model_name": "LayoutModel",
          "model_module_version": "1.2.0",
          "state": {
            "_model_module": "@jupyter-widgets/base",
            "_model_module_version": "1.2.0",
            "_model_name": "LayoutModel",
            "_view_count": null,
            "_view_module": "@jupyter-widgets/base",
            "_view_module_version": "1.2.0",
            "_view_name": "LayoutView",
            "align_content": null,
            "align_items": null,
            "align_self": null,
            "border": null,
            "bottom": null,
            "display": null,
            "flex": null,
            "flex_flow": null,
            "grid_area": null,
            "grid_auto_columns": null,
            "grid_auto_flow": null,
            "grid_auto_rows": null,
            "grid_column": null,
            "grid_gap": null,
            "grid_row": null,
            "grid_template_areas": null,
            "grid_template_columns": null,
            "grid_template_rows": null,
            "height": null,
            "justify_content": null,
            "justify_items": null,
            "left": null,
            "margin": null,
            "max_height": null,
            "max_width": null,
            "min_height": null,
            "min_width": null,
            "object_fit": null,
            "object_position": null,
            "order": null,
            "overflow": null,
            "overflow_x": null,
            "overflow_y": null,
            "padding": null,
            "right": null,
            "top": null,
            "visibility": null,
            "width": null
          }
        },
        "74a1d6dc651c447aaf81a2bc4cc0d065": {
          "model_module": "@jupyter-widgets/controls",
          "model_name": "DescriptionStyleModel",
          "model_module_version": "1.5.0",
          "state": {
            "_model_module": "@jupyter-widgets/controls",
            "_model_module_version": "1.5.0",
            "_model_name": "DescriptionStyleModel",
            "_view_count": null,
            "_view_module": "@jupyter-widgets/base",
            "_view_module_version": "1.2.0",
            "_view_name": "StyleView",
            "description_width": ""
          }
        },
        "16b0703d0be4425ea28d2be9ae704ed3": {
          "model_module": "@jupyter-widgets/base",
          "model_name": "LayoutModel",
          "model_module_version": "1.2.0",
          "state": {
            "_model_module": "@jupyter-widgets/base",
            "_model_module_version": "1.2.0",
            "_model_name": "LayoutModel",
            "_view_count": null,
            "_view_module": "@jupyter-widgets/base",
            "_view_module_version": "1.2.0",
            "_view_name": "LayoutView",
            "align_content": null,
            "align_items": null,
            "align_self": null,
            "border": null,
            "bottom": null,
            "display": null,
            "flex": "2",
            "flex_flow": null,
            "grid_area": null,
            "grid_auto_columns": null,
            "grid_auto_flow": null,
            "grid_auto_rows": null,
            "grid_column": null,
            "grid_gap": null,
            "grid_row": null,
            "grid_template_areas": null,
            "grid_template_columns": null,
            "grid_template_rows": null,
            "height": null,
            "justify_content": null,
            "justify_items": null,
            "left": null,
            "margin": null,
            "max_height": null,
            "max_width": null,
            "min_height": null,
            "min_width": null,
            "object_fit": null,
            "object_position": null,
            "order": null,
            "overflow": null,
            "overflow_x": null,
            "overflow_y": null,
            "padding": null,
            "right": null,
            "top": null,
            "visibility": null,
            "width": null
          }
        },
        "7545a0deb14d48e19b062e91f35f6aec": {
          "model_module": "@jupyter-widgets/controls",
          "model_name": "ProgressStyleModel",
          "model_module_version": "1.5.0",
          "state": {
            "_model_module": "@jupyter-widgets/controls",
            "_model_module_version": "1.5.0",
            "_model_name": "ProgressStyleModel",
            "_view_count": null,
            "_view_module": "@jupyter-widgets/base",
            "_view_module_version": "1.2.0",
            "_view_name": "StyleView",
            "bar_color": null,
            "description_width": ""
          }
        },
        "3f65665fc9c64a119b3aeadc9a09d343": {
          "model_module": "@jupyter-widgets/base",
          "model_name": "LayoutModel",
          "model_module_version": "1.2.0",
          "state": {
            "_model_module": "@jupyter-widgets/base",
            "_model_module_version": "1.2.0",
            "_model_name": "LayoutModel",
            "_view_count": null,
            "_view_module": "@jupyter-widgets/base",
            "_view_module_version": "1.2.0",
            "_view_name": "LayoutView",
            "align_content": null,
            "align_items": null,
            "align_self": null,
            "border": null,
            "bottom": null,
            "display": null,
            "flex": null,
            "flex_flow": null,
            "grid_area": null,
            "grid_auto_columns": null,
            "grid_auto_flow": null,
            "grid_auto_rows": null,
            "grid_column": null,
            "grid_gap": null,
            "grid_row": null,
            "grid_template_areas": null,
            "grid_template_columns": null,
            "grid_template_rows": null,
            "height": null,
            "justify_content": null,
            "justify_items": null,
            "left": null,
            "margin": null,
            "max_height": null,
            "max_width": null,
            "min_height": null,
            "min_width": null,
            "object_fit": null,
            "object_position": null,
            "order": null,
            "overflow": null,
            "overflow_x": null,
            "overflow_y": null,
            "padding": null,
            "right": null,
            "top": null,
            "visibility": null,
            "width": null
          }
        },
        "57910832d5844f3c8a615e8a5e2aa8aa": {
          "model_module": "@jupyter-widgets/controls",
          "model_name": "DescriptionStyleModel",
          "model_module_version": "1.5.0",
          "state": {
            "_model_module": "@jupyter-widgets/controls",
            "_model_module_version": "1.5.0",
            "_model_name": "DescriptionStyleModel",
            "_view_count": null,
            "_view_module": "@jupyter-widgets/base",
            "_view_module_version": "1.2.0",
            "_view_name": "StyleView",
            "description_width": ""
          }
        },
        "2761c6d7edac4bb8b3c0e8b82557096f": {
          "model_module": "@jupyter-widgets/controls",
          "model_name": "HBoxModel",
          "model_module_version": "1.5.0",
          "state": {
            "_dom_classes": [],
            "_model_module": "@jupyter-widgets/controls",
            "_model_module_version": "1.5.0",
            "_model_name": "HBoxModel",
            "_view_count": null,
            "_view_module": "@jupyter-widgets/controls",
            "_view_module_version": "1.5.0",
            "_view_name": "HBoxView",
            "box_style": "",
            "children": [
              "IPY_MODEL_5b48f2b7bca048d2a637d7798145938e",
              "IPY_MODEL_dfcfc13973814772a350701a9614bb94",
              "IPY_MODEL_0077f0b03ef445c5afac2e84e9cdb507"
            ],
            "layout": "IPY_MODEL_92efa9db2f184fc596b8d2dcc9943435"
          }
        },
        "5b48f2b7bca048d2a637d7798145938e": {
          "model_module": "@jupyter-widgets/controls",
          "model_name": "HTMLModel",
          "model_module_version": "1.5.0",
          "state": {
            "_dom_classes": [],
            "_model_module": "@jupyter-widgets/controls",
            "_model_module_version": "1.5.0",
            "_model_name": "HTMLModel",
            "_view_count": null,
            "_view_module": "@jupyter-widgets/controls",
            "_view_module_version": "1.5.0",
            "_view_name": "HTMLView",
            "description": "",
            "description_tooltip": null,
            "layout": "IPY_MODEL_e4e53179957c4036adcb6bb091410caa",
            "placeholder": "​",
            "style": "IPY_MODEL_e267b1bbe7684fc3be70ac5f22c2e10c",
            "value": "Validation DataLoader 0: 100%"
          }
        },
        "dfcfc13973814772a350701a9614bb94": {
          "model_module": "@jupyter-widgets/controls",
          "model_name": "FloatProgressModel",
          "model_module_version": "1.5.0",
          "state": {
            "_dom_classes": [],
            "_model_module": "@jupyter-widgets/controls",
            "_model_module_version": "1.5.0",
            "_model_name": "FloatProgressModel",
            "_view_count": null,
            "_view_module": "@jupyter-widgets/controls",
            "_view_module_version": "1.5.0",
            "_view_name": "ProgressView",
            "bar_style": "",
            "description": "",
            "description_tooltip": null,
            "layout": "IPY_MODEL_8a321e49b21b4795af897ddf8f68d131",
            "max": 375,
            "min": 0,
            "orientation": "horizontal",
            "style": "IPY_MODEL_2db63334eee34d18997c7f4185fd367c",
            "value": 375
          }
        },
        "0077f0b03ef445c5afac2e84e9cdb507": {
          "model_module": "@jupyter-widgets/controls",
          "model_name": "HTMLModel",
          "model_module_version": "1.5.0",
          "state": {
            "_dom_classes": [],
            "_model_module": "@jupyter-widgets/controls",
            "_model_module_version": "1.5.0",
            "_model_name": "HTMLModel",
            "_view_count": null,
            "_view_module": "@jupyter-widgets/controls",
            "_view_module_version": "1.5.0",
            "_view_name": "HTMLView",
            "description": "",
            "description_tooltip": null,
            "layout": "IPY_MODEL_38a8e5b577e14d46978937399ceef7d4",
            "placeholder": "​",
            "style": "IPY_MODEL_dbd266d9560b4386904c859094913d5a",
            "value": " 375/375 [00:03&lt;00:00, 120.29it/s]"
          }
        },
        "92efa9db2f184fc596b8d2dcc9943435": {
          "model_module": "@jupyter-widgets/base",
          "model_name": "LayoutModel",
          "model_module_version": "1.2.0",
          "state": {
            "_model_module": "@jupyter-widgets/base",
            "_model_module_version": "1.2.0",
            "_model_name": "LayoutModel",
            "_view_count": null,
            "_view_module": "@jupyter-widgets/base",
            "_view_module_version": "1.2.0",
            "_view_name": "LayoutView",
            "align_content": null,
            "align_items": null,
            "align_self": null,
            "border": null,
            "bottom": null,
            "display": "inline-flex",
            "flex": null,
            "flex_flow": "row wrap",
            "grid_area": null,
            "grid_auto_columns": null,
            "grid_auto_flow": null,
            "grid_auto_rows": null,
            "grid_column": null,
            "grid_gap": null,
            "grid_row": null,
            "grid_template_areas": null,
            "grid_template_columns": null,
            "grid_template_rows": null,
            "height": null,
            "justify_content": null,
            "justify_items": null,
            "left": null,
            "margin": null,
            "max_height": null,
            "max_width": null,
            "min_height": null,
            "min_width": null,
            "object_fit": null,
            "object_position": null,
            "order": null,
            "overflow": null,
            "overflow_x": null,
            "overflow_y": null,
            "padding": null,
            "right": null,
            "top": null,
            "visibility": "hidden",
            "width": "100%"
          }
        },
        "e4e53179957c4036adcb6bb091410caa": {
          "model_module": "@jupyter-widgets/base",
          "model_name": "LayoutModel",
          "model_module_version": "1.2.0",
          "state": {
            "_model_module": "@jupyter-widgets/base",
            "_model_module_version": "1.2.0",
            "_model_name": "LayoutModel",
            "_view_count": null,
            "_view_module": "@jupyter-widgets/base",
            "_view_module_version": "1.2.0",
            "_view_name": "LayoutView",
            "align_content": null,
            "align_items": null,
            "align_self": null,
            "border": null,
            "bottom": null,
            "display": null,
            "flex": null,
            "flex_flow": null,
            "grid_area": null,
            "grid_auto_columns": null,
            "grid_auto_flow": null,
            "grid_auto_rows": null,
            "grid_column": null,
            "grid_gap": null,
            "grid_row": null,
            "grid_template_areas": null,
            "grid_template_columns": null,
            "grid_template_rows": null,
            "height": null,
            "justify_content": null,
            "justify_items": null,
            "left": null,
            "margin": null,
            "max_height": null,
            "max_width": null,
            "min_height": null,
            "min_width": null,
            "object_fit": null,
            "object_position": null,
            "order": null,
            "overflow": null,
            "overflow_x": null,
            "overflow_y": null,
            "padding": null,
            "right": null,
            "top": null,
            "visibility": null,
            "width": null
          }
        },
        "e267b1bbe7684fc3be70ac5f22c2e10c": {
          "model_module": "@jupyter-widgets/controls",
          "model_name": "DescriptionStyleModel",
          "model_module_version": "1.5.0",
          "state": {
            "_model_module": "@jupyter-widgets/controls",
            "_model_module_version": "1.5.0",
            "_model_name": "DescriptionStyleModel",
            "_view_count": null,
            "_view_module": "@jupyter-widgets/base",
            "_view_module_version": "1.2.0",
            "_view_name": "StyleView",
            "description_width": ""
          }
        },
        "8a321e49b21b4795af897ddf8f68d131": {
          "model_module": "@jupyter-widgets/base",
          "model_name": "LayoutModel",
          "model_module_version": "1.2.0",
          "state": {
            "_model_module": "@jupyter-widgets/base",
            "_model_module_version": "1.2.0",
            "_model_name": "LayoutModel",
            "_view_count": null,
            "_view_module": "@jupyter-widgets/base",
            "_view_module_version": "1.2.0",
            "_view_name": "LayoutView",
            "align_content": null,
            "align_items": null,
            "align_self": null,
            "border": null,
            "bottom": null,
            "display": null,
            "flex": "2",
            "flex_flow": null,
            "grid_area": null,
            "grid_auto_columns": null,
            "grid_auto_flow": null,
            "grid_auto_rows": null,
            "grid_column": null,
            "grid_gap": null,
            "grid_row": null,
            "grid_template_areas": null,
            "grid_template_columns": null,
            "grid_template_rows": null,
            "height": null,
            "justify_content": null,
            "justify_items": null,
            "left": null,
            "margin": null,
            "max_height": null,
            "max_width": null,
            "min_height": null,
            "min_width": null,
            "object_fit": null,
            "object_position": null,
            "order": null,
            "overflow": null,
            "overflow_x": null,
            "overflow_y": null,
            "padding": null,
            "right": null,
            "top": null,
            "visibility": null,
            "width": null
          }
        },
        "2db63334eee34d18997c7f4185fd367c": {
          "model_module": "@jupyter-widgets/controls",
          "model_name": "ProgressStyleModel",
          "model_module_version": "1.5.0",
          "state": {
            "_model_module": "@jupyter-widgets/controls",
            "_model_module_version": "1.5.0",
            "_model_name": "ProgressStyleModel",
            "_view_count": null,
            "_view_module": "@jupyter-widgets/base",
            "_view_module_version": "1.2.0",
            "_view_name": "StyleView",
            "bar_color": null,
            "description_width": ""
          }
        },
        "38a8e5b577e14d46978937399ceef7d4": {
          "model_module": "@jupyter-widgets/base",
          "model_name": "LayoutModel",
          "model_module_version": "1.2.0",
          "state": {
            "_model_module": "@jupyter-widgets/base",
            "_model_module_version": "1.2.0",
            "_model_name": "LayoutModel",
            "_view_count": null,
            "_view_module": "@jupyter-widgets/base",
            "_view_module_version": "1.2.0",
            "_view_name": "LayoutView",
            "align_content": null,
            "align_items": null,
            "align_self": null,
            "border": null,
            "bottom": null,
            "display": null,
            "flex": null,
            "flex_flow": null,
            "grid_area": null,
            "grid_auto_columns": null,
            "grid_auto_flow": null,
            "grid_auto_rows": null,
            "grid_column": null,
            "grid_gap": null,
            "grid_row": null,
            "grid_template_areas": null,
            "grid_template_columns": null,
            "grid_template_rows": null,
            "height": null,
            "justify_content": null,
            "justify_items": null,
            "left": null,
            "margin": null,
            "max_height": null,
            "max_width": null,
            "min_height": null,
            "min_width": null,
            "object_fit": null,
            "object_position": null,
            "order": null,
            "overflow": null,
            "overflow_x": null,
            "overflow_y": null,
            "padding": null,
            "right": null,
            "top": null,
            "visibility": null,
            "width": null
          }
        },
        "dbd266d9560b4386904c859094913d5a": {
          "model_module": "@jupyter-widgets/controls",
          "model_name": "DescriptionStyleModel",
          "model_module_version": "1.5.0",
          "state": {
            "_model_module": "@jupyter-widgets/controls",
            "_model_module_version": "1.5.0",
            "_model_name": "DescriptionStyleModel",
            "_view_count": null,
            "_view_module": "@jupyter-widgets/base",
            "_view_module_version": "1.2.0",
            "_view_name": "StyleView",
            "description_width": ""
          }
        },
        "f3d38d36f50d4b6d8c48cfff88a9a534": {
          "model_module": "@jupyter-widgets/controls",
          "model_name": "HBoxModel",
          "model_module_version": "1.5.0",
          "state": {
            "_dom_classes": [],
            "_model_module": "@jupyter-widgets/controls",
            "_model_module_version": "1.5.0",
            "_model_name": "HBoxModel",
            "_view_count": null,
            "_view_module": "@jupyter-widgets/controls",
            "_view_module_version": "1.5.0",
            "_view_name": "HBoxView",
            "box_style": "",
            "children": [
              "IPY_MODEL_564fb648ceb74a06833e90354ff0212e",
              "IPY_MODEL_c97eefacd5f44edb91f999bd392c04f4",
              "IPY_MODEL_bda5b20d3b1a4e2997d5c95da790499c"
            ],
            "layout": "IPY_MODEL_7673e9a3e8564266a603cab2c7c84667"
          }
        },
        "564fb648ceb74a06833e90354ff0212e": {
          "model_module": "@jupyter-widgets/controls",
          "model_name": "HTMLModel",
          "model_module_version": "1.5.0",
          "state": {
            "_dom_classes": [],
            "_model_module": "@jupyter-widgets/controls",
            "_model_module_version": "1.5.0",
            "_model_name": "HTMLModel",
            "_view_count": null,
            "_view_module": "@jupyter-widgets/controls",
            "_view_module_version": "1.5.0",
            "_view_name": "HTMLView",
            "description": "",
            "description_tooltip": null,
            "layout": "IPY_MODEL_bdebb042f7b94624b77811f43f349ed9",
            "placeholder": "​",
            "style": "IPY_MODEL_ecb8d917ffa745919088c6de2044cae2",
            "value": "Validation DataLoader 0: 100%"
          }
        },
        "c97eefacd5f44edb91f999bd392c04f4": {
          "model_module": "@jupyter-widgets/controls",
          "model_name": "FloatProgressModel",
          "model_module_version": "1.5.0",
          "state": {
            "_dom_classes": [],
            "_model_module": "@jupyter-widgets/controls",
            "_model_module_version": "1.5.0",
            "_model_name": "FloatProgressModel",
            "_view_count": null,
            "_view_module": "@jupyter-widgets/controls",
            "_view_module_version": "1.5.0",
            "_view_name": "ProgressView",
            "bar_style": "",
            "description": "",
            "description_tooltip": null,
            "layout": "IPY_MODEL_2f9b110582ae4f4292d727368529a191",
            "max": 375,
            "min": 0,
            "orientation": "horizontal",
            "style": "IPY_MODEL_78c25a9b9cb34a669964099215f51551",
            "value": 375
          }
        },
        "bda5b20d3b1a4e2997d5c95da790499c": {
          "model_module": "@jupyter-widgets/controls",
          "model_name": "HTMLModel",
          "model_module_version": "1.5.0",
          "state": {
            "_dom_classes": [],
            "_model_module": "@jupyter-widgets/controls",
            "_model_module_version": "1.5.0",
            "_model_name": "HTMLModel",
            "_view_count": null,
            "_view_module": "@jupyter-widgets/controls",
            "_view_module_version": "1.5.0",
            "_view_name": "HTMLView",
            "description": "",
            "description_tooltip": null,
            "layout": "IPY_MODEL_9ee3acd3f02145dc8694a49724e74855",
            "placeholder": "​",
            "style": "IPY_MODEL_30f8707690fd405c8eda25cbd8db252b",
            "value": " 375/375 [00:04&lt;00:00, 83.84it/s]"
          }
        },
        "7673e9a3e8564266a603cab2c7c84667": {
          "model_module": "@jupyter-widgets/base",
          "model_name": "LayoutModel",
          "model_module_version": "1.2.0",
          "state": {
            "_model_module": "@jupyter-widgets/base",
            "_model_module_version": "1.2.0",
            "_model_name": "LayoutModel",
            "_view_count": null,
            "_view_module": "@jupyter-widgets/base",
            "_view_module_version": "1.2.0",
            "_view_name": "LayoutView",
            "align_content": null,
            "align_items": null,
            "align_self": null,
            "border": null,
            "bottom": null,
            "display": "inline-flex",
            "flex": null,
            "flex_flow": "row wrap",
            "grid_area": null,
            "grid_auto_columns": null,
            "grid_auto_flow": null,
            "grid_auto_rows": null,
            "grid_column": null,
            "grid_gap": null,
            "grid_row": null,
            "grid_template_areas": null,
            "grid_template_columns": null,
            "grid_template_rows": null,
            "height": null,
            "justify_content": null,
            "justify_items": null,
            "left": null,
            "margin": null,
            "max_height": null,
            "max_width": null,
            "min_height": null,
            "min_width": null,
            "object_fit": null,
            "object_position": null,
            "order": null,
            "overflow": null,
            "overflow_x": null,
            "overflow_y": null,
            "padding": null,
            "right": null,
            "top": null,
            "visibility": "hidden",
            "width": "100%"
          }
        },
        "bdebb042f7b94624b77811f43f349ed9": {
          "model_module": "@jupyter-widgets/base",
          "model_name": "LayoutModel",
          "model_module_version": "1.2.0",
          "state": {
            "_model_module": "@jupyter-widgets/base",
            "_model_module_version": "1.2.0",
            "_model_name": "LayoutModel",
            "_view_count": null,
            "_view_module": "@jupyter-widgets/base",
            "_view_module_version": "1.2.0",
            "_view_name": "LayoutView",
            "align_content": null,
            "align_items": null,
            "align_self": null,
            "border": null,
            "bottom": null,
            "display": null,
            "flex": null,
            "flex_flow": null,
            "grid_area": null,
            "grid_auto_columns": null,
            "grid_auto_flow": null,
            "grid_auto_rows": null,
            "grid_column": null,
            "grid_gap": null,
            "grid_row": null,
            "grid_template_areas": null,
            "grid_template_columns": null,
            "grid_template_rows": null,
            "height": null,
            "justify_content": null,
            "justify_items": null,
            "left": null,
            "margin": null,
            "max_height": null,
            "max_width": null,
            "min_height": null,
            "min_width": null,
            "object_fit": null,
            "object_position": null,
            "order": null,
            "overflow": null,
            "overflow_x": null,
            "overflow_y": null,
            "padding": null,
            "right": null,
            "top": null,
            "visibility": null,
            "width": null
          }
        },
        "ecb8d917ffa745919088c6de2044cae2": {
          "model_module": "@jupyter-widgets/controls",
          "model_name": "DescriptionStyleModel",
          "model_module_version": "1.5.0",
          "state": {
            "_model_module": "@jupyter-widgets/controls",
            "_model_module_version": "1.5.0",
            "_model_name": "DescriptionStyleModel",
            "_view_count": null,
            "_view_module": "@jupyter-widgets/base",
            "_view_module_version": "1.2.0",
            "_view_name": "StyleView",
            "description_width": ""
          }
        },
        "2f9b110582ae4f4292d727368529a191": {
          "model_module": "@jupyter-widgets/base",
          "model_name": "LayoutModel",
          "model_module_version": "1.2.0",
          "state": {
            "_model_module": "@jupyter-widgets/base",
            "_model_module_version": "1.2.0",
            "_model_name": "LayoutModel",
            "_view_count": null,
            "_view_module": "@jupyter-widgets/base",
            "_view_module_version": "1.2.0",
            "_view_name": "LayoutView",
            "align_content": null,
            "align_items": null,
            "align_self": null,
            "border": null,
            "bottom": null,
            "display": null,
            "flex": "2",
            "flex_flow": null,
            "grid_area": null,
            "grid_auto_columns": null,
            "grid_auto_flow": null,
            "grid_auto_rows": null,
            "grid_column": null,
            "grid_gap": null,
            "grid_row": null,
            "grid_template_areas": null,
            "grid_template_columns": null,
            "grid_template_rows": null,
            "height": null,
            "justify_content": null,
            "justify_items": null,
            "left": null,
            "margin": null,
            "max_height": null,
            "max_width": null,
            "min_height": null,
            "min_width": null,
            "object_fit": null,
            "object_position": null,
            "order": null,
            "overflow": null,
            "overflow_x": null,
            "overflow_y": null,
            "padding": null,
            "right": null,
            "top": null,
            "visibility": null,
            "width": null
          }
        },
        "78c25a9b9cb34a669964099215f51551": {
          "model_module": "@jupyter-widgets/controls",
          "model_name": "ProgressStyleModel",
          "model_module_version": "1.5.0",
          "state": {
            "_model_module": "@jupyter-widgets/controls",
            "_model_module_version": "1.5.0",
            "_model_name": "ProgressStyleModel",
            "_view_count": null,
            "_view_module": "@jupyter-widgets/base",
            "_view_module_version": "1.2.0",
            "_view_name": "StyleView",
            "bar_color": null,
            "description_width": ""
          }
        },
        "9ee3acd3f02145dc8694a49724e74855": {
          "model_module": "@jupyter-widgets/base",
          "model_name": "LayoutModel",
          "model_module_version": "1.2.0",
          "state": {
            "_model_module": "@jupyter-widgets/base",
            "_model_module_version": "1.2.0",
            "_model_name": "LayoutModel",
            "_view_count": null,
            "_view_module": "@jupyter-widgets/base",
            "_view_module_version": "1.2.0",
            "_view_name": "LayoutView",
            "align_content": null,
            "align_items": null,
            "align_self": null,
            "border": null,
            "bottom": null,
            "display": null,
            "flex": null,
            "flex_flow": null,
            "grid_area": null,
            "grid_auto_columns": null,
            "grid_auto_flow": null,
            "grid_auto_rows": null,
            "grid_column": null,
            "grid_gap": null,
            "grid_row": null,
            "grid_template_areas": null,
            "grid_template_columns": null,
            "grid_template_rows": null,
            "height": null,
            "justify_content": null,
            "justify_items": null,
            "left": null,
            "margin": null,
            "max_height": null,
            "max_width": null,
            "min_height": null,
            "min_width": null,
            "object_fit": null,
            "object_position": null,
            "order": null,
            "overflow": null,
            "overflow_x": null,
            "overflow_y": null,
            "padding": null,
            "right": null,
            "top": null,
            "visibility": null,
            "width": null
          }
        },
        "30f8707690fd405c8eda25cbd8db252b": {
          "model_module": "@jupyter-widgets/controls",
          "model_name": "DescriptionStyleModel",
          "model_module_version": "1.5.0",
          "state": {
            "_model_module": "@jupyter-widgets/controls",
            "_model_module_version": "1.5.0",
            "_model_name": "DescriptionStyleModel",
            "_view_count": null,
            "_view_module": "@jupyter-widgets/base",
            "_view_module_version": "1.2.0",
            "_view_name": "StyleView",
            "description_width": ""
          }
        },
        "a2d2615fa7d04be89244408e145b2a78": {
          "model_module": "@jupyter-widgets/controls",
          "model_name": "HBoxModel",
          "model_module_version": "1.5.0",
          "state": {
            "_dom_classes": [],
            "_model_module": "@jupyter-widgets/controls",
            "_model_module_version": "1.5.0",
            "_model_name": "HBoxModel",
            "_view_count": null,
            "_view_module": "@jupyter-widgets/controls",
            "_view_module_version": "1.5.0",
            "_view_name": "HBoxView",
            "box_style": "",
            "children": [
              "IPY_MODEL_6158108c15924e90a789b0131b67446b",
              "IPY_MODEL_10286e96ac03484ab6ee1d1a4a86cd82",
              "IPY_MODEL_4b49c9d3b6e647b8b800f569d54ccde6"
            ],
            "layout": "IPY_MODEL_e086f3754dce4a7c9e4e5d1265333e8d"
          }
        },
        "6158108c15924e90a789b0131b67446b": {
          "model_module": "@jupyter-widgets/controls",
          "model_name": "HTMLModel",
          "model_module_version": "1.5.0",
          "state": {
            "_dom_classes": [],
            "_model_module": "@jupyter-widgets/controls",
            "_model_module_version": "1.5.0",
            "_model_name": "HTMLModel",
            "_view_count": null,
            "_view_module": "@jupyter-widgets/controls",
            "_view_module_version": "1.5.0",
            "_view_name": "HTMLView",
            "description": "",
            "description_tooltip": null,
            "layout": "IPY_MODEL_40223b87dc214818a4ca07afdfa153d6",
            "placeholder": "​",
            "style": "IPY_MODEL_523ba3262b194cea903631909f9239fa",
            "value": "Validation DataLoader 0: 100%"
          }
        },
        "10286e96ac03484ab6ee1d1a4a86cd82": {
          "model_module": "@jupyter-widgets/controls",
          "model_name": "FloatProgressModel",
          "model_module_version": "1.5.0",
          "state": {
            "_dom_classes": [],
            "_model_module": "@jupyter-widgets/controls",
            "_model_module_version": "1.5.0",
            "_model_name": "FloatProgressModel",
            "_view_count": null,
            "_view_module": "@jupyter-widgets/controls",
            "_view_module_version": "1.5.0",
            "_view_name": "ProgressView",
            "bar_style": "",
            "description": "",
            "description_tooltip": null,
            "layout": "IPY_MODEL_0dcf877915364d38b3fb58e05b570a29",
            "max": 375,
            "min": 0,
            "orientation": "horizontal",
            "style": "IPY_MODEL_76e867cde8fe4681bd6814fbf15863ce",
            "value": 375
          }
        },
        "4b49c9d3b6e647b8b800f569d54ccde6": {
          "model_module": "@jupyter-widgets/controls",
          "model_name": "HTMLModel",
          "model_module_version": "1.5.0",
          "state": {
            "_dom_classes": [],
            "_model_module": "@jupyter-widgets/controls",
            "_model_module_version": "1.5.0",
            "_model_name": "HTMLModel",
            "_view_count": null,
            "_view_module": "@jupyter-widgets/controls",
            "_view_module_version": "1.5.0",
            "_view_name": "HTMLView",
            "description": "",
            "description_tooltip": null,
            "layout": "IPY_MODEL_2d7901e2142e4c53b6cd879574da42c5",
            "placeholder": "​",
            "style": "IPY_MODEL_91931440d6f1497a83cd7b4810a3920e",
            "value": " 375/375 [00:03&lt;00:00, 103.60it/s]"
          }
        },
        "e086f3754dce4a7c9e4e5d1265333e8d": {
          "model_module": "@jupyter-widgets/base",
          "model_name": "LayoutModel",
          "model_module_version": "1.2.0",
          "state": {
            "_model_module": "@jupyter-widgets/base",
            "_model_module_version": "1.2.0",
            "_model_name": "LayoutModel",
            "_view_count": null,
            "_view_module": "@jupyter-widgets/base",
            "_view_module_version": "1.2.0",
            "_view_name": "LayoutView",
            "align_content": null,
            "align_items": null,
            "align_self": null,
            "border": null,
            "bottom": null,
            "display": "inline-flex",
            "flex": null,
            "flex_flow": "row wrap",
            "grid_area": null,
            "grid_auto_columns": null,
            "grid_auto_flow": null,
            "grid_auto_rows": null,
            "grid_column": null,
            "grid_gap": null,
            "grid_row": null,
            "grid_template_areas": null,
            "grid_template_columns": null,
            "grid_template_rows": null,
            "height": null,
            "justify_content": null,
            "justify_items": null,
            "left": null,
            "margin": null,
            "max_height": null,
            "max_width": null,
            "min_height": null,
            "min_width": null,
            "object_fit": null,
            "object_position": null,
            "order": null,
            "overflow": null,
            "overflow_x": null,
            "overflow_y": null,
            "padding": null,
            "right": null,
            "top": null,
            "visibility": "hidden",
            "width": "100%"
          }
        },
        "40223b87dc214818a4ca07afdfa153d6": {
          "model_module": "@jupyter-widgets/base",
          "model_name": "LayoutModel",
          "model_module_version": "1.2.0",
          "state": {
            "_model_module": "@jupyter-widgets/base",
            "_model_module_version": "1.2.0",
            "_model_name": "LayoutModel",
            "_view_count": null,
            "_view_module": "@jupyter-widgets/base",
            "_view_module_version": "1.2.0",
            "_view_name": "LayoutView",
            "align_content": null,
            "align_items": null,
            "align_self": null,
            "border": null,
            "bottom": null,
            "display": null,
            "flex": null,
            "flex_flow": null,
            "grid_area": null,
            "grid_auto_columns": null,
            "grid_auto_flow": null,
            "grid_auto_rows": null,
            "grid_column": null,
            "grid_gap": null,
            "grid_row": null,
            "grid_template_areas": null,
            "grid_template_columns": null,
            "grid_template_rows": null,
            "height": null,
            "justify_content": null,
            "justify_items": null,
            "left": null,
            "margin": null,
            "max_height": null,
            "max_width": null,
            "min_height": null,
            "min_width": null,
            "object_fit": null,
            "object_position": null,
            "order": null,
            "overflow": null,
            "overflow_x": null,
            "overflow_y": null,
            "padding": null,
            "right": null,
            "top": null,
            "visibility": null,
            "width": null
          }
        },
        "523ba3262b194cea903631909f9239fa": {
          "model_module": "@jupyter-widgets/controls",
          "model_name": "DescriptionStyleModel",
          "model_module_version": "1.5.0",
          "state": {
            "_model_module": "@jupyter-widgets/controls",
            "_model_module_version": "1.5.0",
            "_model_name": "DescriptionStyleModel",
            "_view_count": null,
            "_view_module": "@jupyter-widgets/base",
            "_view_module_version": "1.2.0",
            "_view_name": "StyleView",
            "description_width": ""
          }
        },
        "0dcf877915364d38b3fb58e05b570a29": {
          "model_module": "@jupyter-widgets/base",
          "model_name": "LayoutModel",
          "model_module_version": "1.2.0",
          "state": {
            "_model_module": "@jupyter-widgets/base",
            "_model_module_version": "1.2.0",
            "_model_name": "LayoutModel",
            "_view_count": null,
            "_view_module": "@jupyter-widgets/base",
            "_view_module_version": "1.2.0",
            "_view_name": "LayoutView",
            "align_content": null,
            "align_items": null,
            "align_self": null,
            "border": null,
            "bottom": null,
            "display": null,
            "flex": "2",
            "flex_flow": null,
            "grid_area": null,
            "grid_auto_columns": null,
            "grid_auto_flow": null,
            "grid_auto_rows": null,
            "grid_column": null,
            "grid_gap": null,
            "grid_row": null,
            "grid_template_areas": null,
            "grid_template_columns": null,
            "grid_template_rows": null,
            "height": null,
            "justify_content": null,
            "justify_items": null,
            "left": null,
            "margin": null,
            "max_height": null,
            "max_width": null,
            "min_height": null,
            "min_width": null,
            "object_fit": null,
            "object_position": null,
            "order": null,
            "overflow": null,
            "overflow_x": null,
            "overflow_y": null,
            "padding": null,
            "right": null,
            "top": null,
            "visibility": null,
            "width": null
          }
        },
        "76e867cde8fe4681bd6814fbf15863ce": {
          "model_module": "@jupyter-widgets/controls",
          "model_name": "ProgressStyleModel",
          "model_module_version": "1.5.0",
          "state": {
            "_model_module": "@jupyter-widgets/controls",
            "_model_module_version": "1.5.0",
            "_model_name": "ProgressStyleModel",
            "_view_count": null,
            "_view_module": "@jupyter-widgets/base",
            "_view_module_version": "1.2.0",
            "_view_name": "StyleView",
            "bar_color": null,
            "description_width": ""
          }
        },
        "2d7901e2142e4c53b6cd879574da42c5": {
          "model_module": "@jupyter-widgets/base",
          "model_name": "LayoutModel",
          "model_module_version": "1.2.0",
          "state": {
            "_model_module": "@jupyter-widgets/base",
            "_model_module_version": "1.2.0",
            "_model_name": "LayoutModel",
            "_view_count": null,
            "_view_module": "@jupyter-widgets/base",
            "_view_module_version": "1.2.0",
            "_view_name": "LayoutView",
            "align_content": null,
            "align_items": null,
            "align_self": null,
            "border": null,
            "bottom": null,
            "display": null,
            "flex": null,
            "flex_flow": null,
            "grid_area": null,
            "grid_auto_columns": null,
            "grid_auto_flow": null,
            "grid_auto_rows": null,
            "grid_column": null,
            "grid_gap": null,
            "grid_row": null,
            "grid_template_areas": null,
            "grid_template_columns": null,
            "grid_template_rows": null,
            "height": null,
            "justify_content": null,
            "justify_items": null,
            "left": null,
            "margin": null,
            "max_height": null,
            "max_width": null,
            "min_height": null,
            "min_width": null,
            "object_fit": null,
            "object_position": null,
            "order": null,
            "overflow": null,
            "overflow_x": null,
            "overflow_y": null,
            "padding": null,
            "right": null,
            "top": null,
            "visibility": null,
            "width": null
          }
        },
        "91931440d6f1497a83cd7b4810a3920e": {
          "model_module": "@jupyter-widgets/controls",
          "model_name": "DescriptionStyleModel",
          "model_module_version": "1.5.0",
          "state": {
            "_model_module": "@jupyter-widgets/controls",
            "_model_module_version": "1.5.0",
            "_model_name": "DescriptionStyleModel",
            "_view_count": null,
            "_view_module": "@jupyter-widgets/base",
            "_view_module_version": "1.2.0",
            "_view_name": "StyleView",
            "description_width": ""
          }
        },
        "f18c2d6da62749d6996db9c35df5c52a": {
          "model_module": "@jupyter-widgets/controls",
          "model_name": "HBoxModel",
          "model_module_version": "1.5.0",
          "state": {
            "_dom_classes": [],
            "_model_module": "@jupyter-widgets/controls",
            "_model_module_version": "1.5.0",
            "_model_name": "HBoxModel",
            "_view_count": null,
            "_view_module": "@jupyter-widgets/controls",
            "_view_module_version": "1.5.0",
            "_view_name": "HBoxView",
            "box_style": "",
            "children": [
              "IPY_MODEL_5bfdce228ae54eb3bb576bcd70d3ce5b",
              "IPY_MODEL_1827e94220a0424fa2dc62d08e743e32",
              "IPY_MODEL_9f0aa2ab72e442dab52f219b334bf81b"
            ],
            "layout": "IPY_MODEL_72c610b93d9d482c953a28dcfb216970"
          }
        },
        "5bfdce228ae54eb3bb576bcd70d3ce5b": {
          "model_module": "@jupyter-widgets/controls",
          "model_name": "HTMLModel",
          "model_module_version": "1.5.0",
          "state": {
            "_dom_classes": [],
            "_model_module": "@jupyter-widgets/controls",
            "_model_module_version": "1.5.0",
            "_model_name": "HTMLModel",
            "_view_count": null,
            "_view_module": "@jupyter-widgets/controls",
            "_view_module_version": "1.5.0",
            "_view_name": "HTMLView",
            "description": "",
            "description_tooltip": null,
            "layout": "IPY_MODEL_998aef4dd33647aba618ac44aa283cae",
            "placeholder": "​",
            "style": "IPY_MODEL_a93b83e5e6a646c8ac94ce072bf42799",
            "value": "Validation DataLoader 0: 100%"
          }
        },
        "1827e94220a0424fa2dc62d08e743e32": {
          "model_module": "@jupyter-widgets/controls",
          "model_name": "FloatProgressModel",
          "model_module_version": "1.5.0",
          "state": {
            "_dom_classes": [],
            "_model_module": "@jupyter-widgets/controls",
            "_model_module_version": "1.5.0",
            "_model_name": "FloatProgressModel",
            "_view_count": null,
            "_view_module": "@jupyter-widgets/controls",
            "_view_module_version": "1.5.0",
            "_view_name": "ProgressView",
            "bar_style": "",
            "description": "",
            "description_tooltip": null,
            "layout": "IPY_MODEL_df23d63b19ef40698471fcba2e3443e2",
            "max": 375,
            "min": 0,
            "orientation": "horizontal",
            "style": "IPY_MODEL_4dbfadfd427d40cf8849ce1d53a1309e",
            "value": 375
          }
        },
        "9f0aa2ab72e442dab52f219b334bf81b": {
          "model_module": "@jupyter-widgets/controls",
          "model_name": "HTMLModel",
          "model_module_version": "1.5.0",
          "state": {
            "_dom_classes": [],
            "_model_module": "@jupyter-widgets/controls",
            "_model_module_version": "1.5.0",
            "_model_name": "HTMLModel",
            "_view_count": null,
            "_view_module": "@jupyter-widgets/controls",
            "_view_module_version": "1.5.0",
            "_view_name": "HTMLView",
            "description": "",
            "description_tooltip": null,
            "layout": "IPY_MODEL_3297d70e1f194513a4a5d71b2b2952e9",
            "placeholder": "​",
            "style": "IPY_MODEL_8e5828a7ddb5454db9f0c22ad24c4122",
            "value": " 375/375 [00:03&lt;00:00, 120.60it/s]"
          }
        },
        "72c610b93d9d482c953a28dcfb216970": {
          "model_module": "@jupyter-widgets/base",
          "model_name": "LayoutModel",
          "model_module_version": "1.2.0",
          "state": {
            "_model_module": "@jupyter-widgets/base",
            "_model_module_version": "1.2.0",
            "_model_name": "LayoutModel",
            "_view_count": null,
            "_view_module": "@jupyter-widgets/base",
            "_view_module_version": "1.2.0",
            "_view_name": "LayoutView",
            "align_content": null,
            "align_items": null,
            "align_self": null,
            "border": null,
            "bottom": null,
            "display": "inline-flex",
            "flex": null,
            "flex_flow": "row wrap",
            "grid_area": null,
            "grid_auto_columns": null,
            "grid_auto_flow": null,
            "grid_auto_rows": null,
            "grid_column": null,
            "grid_gap": null,
            "grid_row": null,
            "grid_template_areas": null,
            "grid_template_columns": null,
            "grid_template_rows": null,
            "height": null,
            "justify_content": null,
            "justify_items": null,
            "left": null,
            "margin": null,
            "max_height": null,
            "max_width": null,
            "min_height": null,
            "min_width": null,
            "object_fit": null,
            "object_position": null,
            "order": null,
            "overflow": null,
            "overflow_x": null,
            "overflow_y": null,
            "padding": null,
            "right": null,
            "top": null,
            "visibility": "hidden",
            "width": "100%"
          }
        },
        "998aef4dd33647aba618ac44aa283cae": {
          "model_module": "@jupyter-widgets/base",
          "model_name": "LayoutModel",
          "model_module_version": "1.2.0",
          "state": {
            "_model_module": "@jupyter-widgets/base",
            "_model_module_version": "1.2.0",
            "_model_name": "LayoutModel",
            "_view_count": null,
            "_view_module": "@jupyter-widgets/base",
            "_view_module_version": "1.2.0",
            "_view_name": "LayoutView",
            "align_content": null,
            "align_items": null,
            "align_self": null,
            "border": null,
            "bottom": null,
            "display": null,
            "flex": null,
            "flex_flow": null,
            "grid_area": null,
            "grid_auto_columns": null,
            "grid_auto_flow": null,
            "grid_auto_rows": null,
            "grid_column": null,
            "grid_gap": null,
            "grid_row": null,
            "grid_template_areas": null,
            "grid_template_columns": null,
            "grid_template_rows": null,
            "height": null,
            "justify_content": null,
            "justify_items": null,
            "left": null,
            "margin": null,
            "max_height": null,
            "max_width": null,
            "min_height": null,
            "min_width": null,
            "object_fit": null,
            "object_position": null,
            "order": null,
            "overflow": null,
            "overflow_x": null,
            "overflow_y": null,
            "padding": null,
            "right": null,
            "top": null,
            "visibility": null,
            "width": null
          }
        },
        "a93b83e5e6a646c8ac94ce072bf42799": {
          "model_module": "@jupyter-widgets/controls",
          "model_name": "DescriptionStyleModel",
          "model_module_version": "1.5.0",
          "state": {
            "_model_module": "@jupyter-widgets/controls",
            "_model_module_version": "1.5.0",
            "_model_name": "DescriptionStyleModel",
            "_view_count": null,
            "_view_module": "@jupyter-widgets/base",
            "_view_module_version": "1.2.0",
            "_view_name": "StyleView",
            "description_width": ""
          }
        },
        "df23d63b19ef40698471fcba2e3443e2": {
          "model_module": "@jupyter-widgets/base",
          "model_name": "LayoutModel",
          "model_module_version": "1.2.0",
          "state": {
            "_model_module": "@jupyter-widgets/base",
            "_model_module_version": "1.2.0",
            "_model_name": "LayoutModel",
            "_view_count": null,
            "_view_module": "@jupyter-widgets/base",
            "_view_module_version": "1.2.0",
            "_view_name": "LayoutView",
            "align_content": null,
            "align_items": null,
            "align_self": null,
            "border": null,
            "bottom": null,
            "display": null,
            "flex": "2",
            "flex_flow": null,
            "grid_area": null,
            "grid_auto_columns": null,
            "grid_auto_flow": null,
            "grid_auto_rows": null,
            "grid_column": null,
            "grid_gap": null,
            "grid_row": null,
            "grid_template_areas": null,
            "grid_template_columns": null,
            "grid_template_rows": null,
            "height": null,
            "justify_content": null,
            "justify_items": null,
            "left": null,
            "margin": null,
            "max_height": null,
            "max_width": null,
            "min_height": null,
            "min_width": null,
            "object_fit": null,
            "object_position": null,
            "order": null,
            "overflow": null,
            "overflow_x": null,
            "overflow_y": null,
            "padding": null,
            "right": null,
            "top": null,
            "visibility": null,
            "width": null
          }
        },
        "4dbfadfd427d40cf8849ce1d53a1309e": {
          "model_module": "@jupyter-widgets/controls",
          "model_name": "ProgressStyleModel",
          "model_module_version": "1.5.0",
          "state": {
            "_model_module": "@jupyter-widgets/controls",
            "_model_module_version": "1.5.0",
            "_model_name": "ProgressStyleModel",
            "_view_count": null,
            "_view_module": "@jupyter-widgets/base",
            "_view_module_version": "1.2.0",
            "_view_name": "StyleView",
            "bar_color": null,
            "description_width": ""
          }
        },
        "3297d70e1f194513a4a5d71b2b2952e9": {
          "model_module": "@jupyter-widgets/base",
          "model_name": "LayoutModel",
          "model_module_version": "1.2.0",
          "state": {
            "_model_module": "@jupyter-widgets/base",
            "_model_module_version": "1.2.0",
            "_model_name": "LayoutModel",
            "_view_count": null,
            "_view_module": "@jupyter-widgets/base",
            "_view_module_version": "1.2.0",
            "_view_name": "LayoutView",
            "align_content": null,
            "align_items": null,
            "align_self": null,
            "border": null,
            "bottom": null,
            "display": null,
            "flex": null,
            "flex_flow": null,
            "grid_area": null,
            "grid_auto_columns": null,
            "grid_auto_flow": null,
            "grid_auto_rows": null,
            "grid_column": null,
            "grid_gap": null,
            "grid_row": null,
            "grid_template_areas": null,
            "grid_template_columns": null,
            "grid_template_rows": null,
            "height": null,
            "justify_content": null,
            "justify_items": null,
            "left": null,
            "margin": null,
            "max_height": null,
            "max_width": null,
            "min_height": null,
            "min_width": null,
            "object_fit": null,
            "object_position": null,
            "order": null,
            "overflow": null,
            "overflow_x": null,
            "overflow_y": null,
            "padding": null,
            "right": null,
            "top": null,
            "visibility": null,
            "width": null
          }
        },
        "8e5828a7ddb5454db9f0c22ad24c4122": {
          "model_module": "@jupyter-widgets/controls",
          "model_name": "DescriptionStyleModel",
          "model_module_version": "1.5.0",
          "state": {
            "_model_module": "@jupyter-widgets/controls",
            "_model_module_version": "1.5.0",
            "_model_name": "DescriptionStyleModel",
            "_view_count": null,
            "_view_module": "@jupyter-widgets/base",
            "_view_module_version": "1.2.0",
            "_view_name": "StyleView",
            "description_width": ""
          }
        }
      }
    }
  },
  "cells": [
    {
      "cell_type": "markdown",
      "source": [
        "# Вспомогательный код"
      ],
      "metadata": {
        "id": "GJUDdNB18nIW"
      }
    },
    {
      "cell_type": "code",
      "execution_count": null,
      "metadata": {
        "id": "SBffbGmdYsjm"
      },
      "outputs": [],
      "source": [
        "def exponential_smoothing(scalars, weight):\n",
        "    last = scalars[0]\n",
        "    smoothed = []\n",
        "    for point in scalars:\n",
        "        smoothed_val = last * weight + (1 - weight) * point\n",
        "        smoothed.append(smoothed_val)\n",
        "        last = smoothed_val\n",
        "\n",
        "    return smoothed"
      ]
    },
    {
      "cell_type": "code",
      "execution_count": null,
      "metadata": {
        "id": "En8yMoS7Ysjn"
      },
      "outputs": [],
      "source": [
        "import numpy as np\n",
        "import matplotlib.pyplot as plt\n",
        "import matplotlib.colors as mcolors\n",
        "\n",
        "\n",
        "class HistoryPlotter:\n",
        "    def __init__(self):\n",
        "        # dict for safe learning history\n",
        "        self._history_dict = {}\n",
        "\n",
        "    def add(self, history):\n",
        "        \"\"\"\n",
        "        Save learning history.\n",
        "        history: dict with keys: model_name, epoсhs, loss_on_train, loss_on_test\n",
        "        \"\"\"\n",
        "        self._history_dict[history[\"model_name\"]] = history\n",
        "        self.color_list = list(mcolors.TABLEAU_COLORS.keys())\n",
        "\n",
        "    def plot(self, models, show_smooth=True, smooth_val=0.90):\n",
        "        \"\"\"\n",
        "        Plot informatiom from self._history_dict.\n",
        "        models: list of model_name (len <= 5, or extend color_list)\n",
        "        \"\"\"\n",
        "        fig, ax = plt.subplots(3, 1, figsize=(10, 10))\n",
        "        for model_num, model_name in enumerate(models):\n",
        "            history = self._history_dict[model_name]\n",
        "            for idx, (key, title) in enumerate(\n",
        "                zip([\"loss_on_train\", \"loss_on_test\"], [\"train loss\", \"test loss\"])\n",
        "            ):\n",
        "                epoch_len = len(history[key]) // history[\"epoсhs\"]\n",
        "                loss_len = len(history[key])\n",
        "                ticks_positions = np.arange(history[\"epoсhs\"] + 1)\n",
        "\n",
        "                if show_smooth:\n",
        "                    x = np.arange(len(history[key])) / epoch_len\n",
        "                    # Plot train loss and test loss:\n",
        "                    # 1. plot smoothing vals\n",
        "                    ax[idx].plot(\n",
        "                        x,\n",
        "                        exponential_smoothing(history[key], smooth_val),\n",
        "                        label=model_name + \" smoothed\",\n",
        "                        color=self.color_list[2 * model_num + idx],\n",
        "                    )\n",
        "                    # 2. plot raw vals\n",
        "                    ax[idx].plot(\n",
        "                        x,\n",
        "                        history[key],\n",
        "                        label=model_name + \" raw\",\n",
        "                        alpha=0.2,\n",
        "                        color=self.color_list[2 * model_num + idx],\n",
        "                    )\n",
        "                    # 3. add descriptions if it is nesessary\n",
        "                    if not ax[idx].title.get_text():\n",
        "                        ax[idx].set_title(title)\n",
        "                        ax[idx].set_xlabel(\"epochs\")\n",
        "                        ax[idx].set_ylabel(\"loss\")\n",
        "                        ax[idx].set_xticks(ticks_positions)\n",
        "                        ax[idx].set_xticklabels(np.arange(history[\"epoсhs\"] + 1))\n",
        "                    ax[idx].legend()\n",
        "\n",
        "                # Plot mean train and test loss combined:\n",
        "                # 1. calculate mean and std\n",
        "                mean_loss_on_epoch = [\n",
        "                    np.mean(history[key][i : i + epoch_len])\n",
        "                    for i in range(0, loss_len, epoch_len)\n",
        "                ]\n",
        "                std_loss_on_epoch = [\n",
        "                    np.std(history[key][i : i + epoch_len])\n",
        "                    for i in range(0, loss_len, epoch_len)\n",
        "                ]\n",
        "                # 2. plot\n",
        "                ax[2].errorbar(\n",
        "                    np.arange(history[\"epoсhs\"]) + idx / 30.0,\n",
        "                    mean_loss_on_epoch,\n",
        "                    yerr=std_loss_on_epoch,\n",
        "                    capsize=5,\n",
        "                    fmt=\"X--\",\n",
        "                    label=model_name + \" \" + title,\n",
        "                )\n",
        "                # 3. add descriptions if it is necessary\n",
        "                if not ax[2].title.get_text():\n",
        "                    ax[2].set_title(\"\\nAverage loss per epoch\", {\"fontsize\": 12})\n",
        "                    ax[2].set_xticks(np.arange(history[\"epoсhs\"]))\n",
        "                    ax[2].set_xticklabels(np.arange(history[\"epoсhs\"]))\n",
        "                    ax[2].set_xlabel(\"epochs\")\n",
        "                    ax[2].set_ylabel(\"loss\")\n",
        "                ax[2].legend()\n",
        "        plt.subplots_adjust(hspace=0.4)\n",
        "        plt.show()"
      ]
    },
    {
      "cell_type": "code",
      "source": [
        "history_plotter = HistoryPlotter()"
      ],
      "metadata": {
        "id": "Smk10VuY-ZXO"
      },
      "execution_count": null,
      "outputs": []
    },
    {
      "cell_type": "code",
      "execution_count": null,
      "metadata": {
        "id": "Er8el8R9Ysjn",
        "colab": {
          "base_uri": "https://localhost:8080/"
        },
        "outputId": "2b1cd54f-3339-4bfc-b8ac-46187770c918"
      },
      "outputs": [
        {
          "output_type": "stream",
          "name": "stdout",
          "text": [
            "Already downloaded!\n"
          ]
        }
      ],
      "source": [
        "import torch\n",
        "import torchvision\n",
        "import torchvision.transforms as transforms\n",
        "from IPython.display import clear_output\n",
        "from torch.utils.data import DataLoader, random_split\n",
        "from torchvision.datasets import MNIST\n",
        "\n",
        "# transforms for data\n",
        "transform = transforms.Compose(\n",
        "    [transforms.ToTensor(), transforms.Normalize((0.13), (0.3))]\n",
        ")\n",
        "\n",
        "data_set = MNIST(root=\"./MNIST\", train=True, download=True, transform=transform)\n",
        "train_set, val_set = random_split(\n",
        "    data_set, [0.8, 0.2], generator=torch.Generator().manual_seed(42)\n",
        ")\n",
        "test_set = MNIST(root=\"./MNIST\", train=False, download=True, transform=transform)\n",
        "\n",
        "batch_size = 32\n",
        "train_loader = DataLoader(train_set, batch_size=batch_size, shuffle=True, num_workers=2)\n",
        "val_loader = DataLoader(val_set, batch_size=batch_size, shuffle=False, num_workers=2)\n",
        "test_loader = DataLoader(test_set, batch_size=batch_size, shuffle=False, num_workers=2)\n",
        "\n",
        "clear_output()\n",
        "print(\"Already downloaded!\")"
      ]
    },
    {
      "cell_type": "code",
      "execution_count": null,
      "metadata": {
        "id": "7_QwRtcgYsjo"
      },
      "outputs": [],
      "source": [
        "!pip install -q lightning tbparse\n",
        "clear_output()"
      ]
    },
    {
      "cell_type": "code",
      "execution_count": null,
      "metadata": {
        "id": "n9EnI_7gYsjo"
      },
      "outputs": [],
      "source": [
        "import torch\n",
        "from torch import nn\n",
        "import lightning as L\n",
        "\n",
        "\n",
        "class Pipeline(L.LightningModule):\n",
        "    def __init__(\n",
        "        self,\n",
        "        model,\n",
        "        exp_name=\"baseline\",\n",
        "        criterion=nn.CrossEntropyLoss(),\n",
        "        optimizer_class=torch.optim.SGD,\n",
        "        optimizer_kwargs={\"lr\": 0.001},\n",
        "    ) -> None:\n",
        "        super().__init__()\n",
        "        self.model = model\n",
        "        self.criterion = criterion\n",
        "        self.optimizer_class = optimizer_class\n",
        "        self.optimizer_kwargs = optimizer_kwargs\n",
        "\n",
        "        # Additionally, we will save training logs “manually”\n",
        "        # for visualization within the lecture. Please limit yourself\n",
        "        # to the native training logging tools from PytorchLightning\n",
        "        # when training your own models.\n",
        "        self.history = {\"loss_on_train\": [], \"loss_on_test\": [], \"model_name\": exp_name}\n",
        "\n",
        "    def configure_optimizers(self):\n",
        "        optimizer = self.optimizer_class(\n",
        "            self.model.parameters(), **self.optimizer_kwargs\n",
        "        )\n",
        "        return optimizer\n",
        "\n",
        "    def training_step(self, batch, batch_idx):\n",
        "        x, y = batch\n",
        "        out = self.model(x)\n",
        "        loss = self.criterion(out, y)\n",
        "        self.log(\"loss_on_train\", loss, prog_bar=True)\n",
        "\n",
        "        # aux logging for lecture visualization\n",
        "        self.history[\"loss_on_train\"].append(loss.cpu().detach().item())\n",
        "        return loss\n",
        "\n",
        "    def validation_step(self, batch, batch_idx):\n",
        "        x, y = batch\n",
        "        out = self.model(x)\n",
        "        loss = self.criterion(out, y)\n",
        "        self.log(\"loss_on_test\", loss, prog_bar=True)\n",
        "\n",
        "        # aux logging for lecture visualization\n",
        "        self.history[\"loss_on_test\"].append(loss.cpu().detach().item())"
      ]
    },
    {
      "cell_type": "code",
      "execution_count": null,
      "metadata": {
        "id": "hC4-duYi7aGs"
      },
      "outputs": [],
      "source": [
        "activation_type = \"sigmoid\"\n",
        "init_gain = torch.nn.init.calculate_gain(activation_type)\n",
        "\n",
        "\n",
        "def init_weights(m):\n",
        "    if isinstance(m, (nn.Linear,)):\n",
        "        torch.nn.init.xavier_normal_(m.weight, gain=init_gain)\n",
        "        if m.bias is not None:\n",
        "            torch.nn.init.zeros_(m.bias)"
      ]
    },
    {
      "cell_type": "code",
      "source": [
        "import torch.nn as nn\n",
        "\n",
        "\n",
        "class SimpleMNIST_NN(nn.Module):\n",
        "    def __init__(self, n_layers, activation=nn.Sigmoid):\n",
        "        super().__init__()\n",
        "        self.n_layers = n_layers  # Num of layers\n",
        "        self.activation = activation()\n",
        "        layers = [nn.Linear(28 * 28, 100), self.activation]  # input layer\n",
        "        for _ in range(n_layers - 1):  # append num of layers\n",
        "            layers.append(nn.Linear(100, 100))\n",
        "            layers.append(self.activation)\n",
        "        layers.append(nn.Linear(100, 10))  # 10 classes\n",
        "        self.layers = nn.Sequential(*layers)\n",
        "\n",
        "    def forward(self, x):\n",
        "        x = x.view(-1, 28 * 28)  # reshape to [-1, 784]\n",
        "        x = self.layers(x)\n",
        "        return x"
      ],
      "metadata": {
        "id": "t7dFuw1ToHtD"
      },
      "execution_count": null,
      "outputs": []
    },
    {
      "cell_type": "code",
      "execution_count": null,
      "metadata": {
        "id": "nU5Udxbm7aGt",
        "colab": {
          "base_uri": "https://localhost:8080/",
          "height": 410
        },
        "outputId": "bc6eb580-9551-4906-e4b0-7110ce384f8e"
      },
      "outputs": [
        {
          "output_type": "display_data",
          "data": {
            "text/plain": [
              "<Figure size 1200x400 with 1 Axes>"
            ],
            "image/png": "[encoded data removed]"
          },
          "metadata": {}
        }
      ],
      "source": [
        "model_name = \"n3_layers_sigmoid_havier\"\n",
        "model = SimpleMNIST_NN(n_layers=3)\n",
        "model.apply(init_weights)\n",
        "\n",
        "# plotting weights values of first(input layer)\n",
        "plt.figure(figsize=(12, 4))\n",
        "plt.hist(\n",
        "    list(model.layers.children())[0].weight.cpu().detach().numpy().reshape(-1), bins=100\n",
        ")\n",
        "plt.title(\"weights histogram\")\n",
        "plt.xlabel(\"values\")\n",
        "plt.ylabel(\"counts\")\n",
        "plt.show()"
      ]
    },
    {
      "cell_type": "code",
      "execution_count": null,
      "metadata": {
        "id": "fSt0sBxd7aGt",
        "colab": {
          "base_uri": "https://localhost:8080/",
          "height": 639,
          "referenced_widgets": [
            "198b404d0c9e47c49810e572aeae5ab5",
            "582d3b147a6042f8b919ab0925e673c7",
            "33bb0e8197fb4c59897c12de19056b60",
            "7bc215f1c2d04054bac62742f1d44820",
            "6f73d1f3c79b43b7b2fe408111110434",
            "1d75d7d4eef6433d8423f9e9a55ec96a",
            "d0c18b3021c7471f82866297043d6bff",
            "be32b7b7df04481ab1632f7bf80968f6",
            "4c99f69fd5f14473b5317a4fd48b9451",
            "79079d7602c24f32bbdfd21d6d3755af",
            "6762fb275b234bcd951baea950176943",
            "fbebb068c6df4523882e0a96d4357e20",
            "054b8f5f8dd8446799610650dcf99dd1",
            "b9b627b0881f4aebacc7e3dc9593d27a",
            "7e41a4d49009451fbb219769ab89c71c",
            "4d93a52d41224543bdd765bdda427d9d",
            "de8b91324cbf44c0859a6b2bc39a99b5",
            "270d8c79d4824dd49df186074342a703",
            "e6444b630f6a42379e92cdadb1842e62",
            "369cfea5539949778ee3eaf9230f5628",
            "b5b444428291438c96e7a904a199106f",
            "08cec1b1fc7d454388fb30d2711cc0f3",
            "236558396531436585030e14f38747b9",
            "a5f835c761f14b7da6cafda10f4b78d3",
            "802f967cc1044e6aa7f9b256e65142b3",
            "70e1009bcc114109acef0364391a2918",
            "488495d002df45ec9d5030a2d621f537",
            "317ceae08ace44f69cd2c7751cee765a",
            "ed287d087f0f44e8947eb1a8ffd84909",
            "e17bb27751a44245846084be5f7e94dc",
            "c1fc0ebc8ad84bbb8c43a8cba85b8702",
            "b96f47e77301488a9388d4c6dc4ebfbf",
            "9395ce9f1a21474a81a5efe806e4d7ae",
            "3896f70c697a423b902547209206a3d7",
            "d45abd8aa7f947699ff4ebdfc5eb9808",
            "fa5444f6f4064d7db571a6913593dc00",
            "509f08e02580471d818c3fc963d01346",
            "6390fa6f3ffa4e5eb67fc415a169eb66",
            "290521641bdd43e3be695d3e40eae74f",
            "2811dca2c09c493e9fd68c1313ec0707",
            "c1b09d26a0bf4ea28ef9a233b9e9ea5b",
            "99c37d7d497a4b7eb26afb6ce41c076c",
            "238c956d4f044d30b9617cf7d74a71db",
            "8762386670434738a104e2e0b5746c10",
            "3dd65d60f2464d2db0b43d1cbd45b4e1",
            "a9f64db5ac8240019d64b717b50fa481",
            "6b406cc7f09b405d995db7368d960d1e",
            "03e83ee31fb545c28ff1ca2fdef61f83",
            "67d23ad2202f40c4b4e3aadac6d22032",
            "e3fba2452faf4b76ba3282a67a455c32",
            "1d659f5dd895417c8fd0148fbeb15bc1",
            "33b98b1cbc7643d5abbbdd81e866a1bf",
            "81e90a7790cb4c32a4aae704c8b11cc9",
            "e119c4902e1046919b0c9ed51e08bf39",
            "054ea739a1a74689a704c73ee8a7b201",
            "4b169a5abb294c7b9a0863868b62cb80",
            "d98ba61815f34aef9f725c7c70c5960d",
            "751e71b0efe64a6abdd5b793bd87f9e5",
            "18aa9a7d3b0248638a5734564511d857",
            "bfd722816e3c4547b5ea9ec8e2042460",
            "66f95b6d1309470ab207d3b491be0abe",
            "ac62cdaf87734052a2152acae8f8abb0",
            "da9f8594d40947ce9401c44f01f5f773",
            "c8d41dea782548baaf633227e51bb019",
            "9b71713b184a494ca640434f98ac0c7f",
            "ad89e54690da4fc0b33ff51adc60f920"
          ]
        },
        "outputId": "e7f045c1-7af2-4543-a159-7b0e5cebe857"
      },
      "outputs": [
        {
          "output_type": "stream",
          "name": "stderr",
          "text": [
            "INFO: GPU available: True (cuda), used: True\n",
            "INFO:lightning.pytorch.utilities.rank_zero:GPU available: True (cuda), used: True\n",
            "INFO: TPU available: False, using: 0 TPU cores\n",
            "INFO:lightning.pytorch.utilities.rank_zero:TPU available: False, using: 0 TPU cores\n",
            "INFO: HPU available: False, using: 0 HPUs\n",
            "INFO:lightning.pytorch.utilities.rank_zero:HPU available: False, using: 0 HPUs\n",
            "INFO: LOCAL_RANK: 0 - CUDA_VISIBLE_DEVICES: [0]\n",
            "INFO:lightning.pytorch.accelerators.cuda:LOCAL_RANK: 0 - CUDA_VISIBLE_DEVICES: [0]\n",
            "INFO: \n",
            "  | Name      | Type             | Params | Mode \n",
            "-------------------------------------------------------\n",
            "0 | model     | SimpleMNIST_NN   | 99.7 K | train\n",
            "1 | criterion | CrossEntropyLoss | 0      | train\n",
            "-------------------------------------------------------\n",
            "99.7 K    Trainable params\n",
            "0         Non-trainable params\n",
            "99.7 K    Total params\n",
            "0.399     Total estimated model params size (MB)\n",
            "8         Modules in train mode\n",
            "0         Modules in eval mode\n",
            "INFO:lightning.pytorch.callbacks.model_summary:\n",
            "  | Name      | Type             | Params | Mode \n",
            "-------------------------------------------------------\n",
            "0 | model     | SimpleMNIST_NN   | 99.7 K | train\n",
            "1 | criterion | CrossEntropyLoss | 0      | train\n",
            "-------------------------------------------------------\n",
            "99.7 K    Trainable params\n",
            "0         Non-trainable params\n",
            "99.7 K    Total params\n",
            "0.399     Total estimated model params size (MB)\n",
            "8         Modules in train mode\n",
            "0         Modules in eval mode\n"
          ]
        },
        {
          "output_type": "display_data",
          "data": {
            "text/plain": [
              "Training: |          | 0/? [00:00<?, ?it/s]"
            ],
            "application/vnd.jupyter.widget-view+json": {
              "version_major": 2,
              "version_minor": 0,
              "model_id": "198b404d0c9e47c49810e572aeae5ab5"
            }
          },
          "metadata": {}
        },
        {
          "output_type": "display_data",
          "data": {
            "text/plain": [
              "Validation: |          | 0/? [00:00<?, ?it/s]"
            ],
            "application/vnd.jupyter.widget-view+json": {
              "version_major": 2,
              "version_minor": 0,
              "model_id": "fbebb068c6df4523882e0a96d4357e20"
            }
          },
          "metadata": {}
        },
        {
          "output_type": "display_data",
          "data": {
            "text/plain": [
              "Validation: |          | 0/? [00:00<?, ?it/s]"
            ],
            "application/vnd.jupyter.widget-view+json": {
              "version_major": 2,
              "version_minor": 0,
              "model_id": "236558396531436585030e14f38747b9"
            }
          },
          "metadata": {}
        },
        {
          "output_type": "display_data",
          "data": {
            "text/plain": [
              "Validation: |          | 0/? [00:00<?, ?it/s]"
            ],
            "application/vnd.jupyter.widget-view+json": {
              "version_major": 2,
              "version_minor": 0,
              "model_id": "3896f70c697a423b902547209206a3d7"
            }
          },
          "metadata": {}
        },
        {
          "output_type": "display_data",
          "data": {
            "text/plain": [
              "Validation: |          | 0/? [00:00<?, ?it/s]"
            ],
            "application/vnd.jupyter.widget-view+json": {
              "version_major": 2,
              "version_minor": 0,
              "model_id": "3dd65d60f2464d2db0b43d1cbd45b4e1"
            }
          },
          "metadata": {}
        },
        {
          "output_type": "display_data",
          "data": {
            "text/plain": [
              "Validation: |          | 0/? [00:00<?, ?it/s]"
            ],
            "application/vnd.jupyter.widget-view+json": {
              "version_major": 2,
              "version_minor": 0,
              "model_id": "4b169a5abb294c7b9a0863868b62cb80"
            }
          },
          "metadata": {}
        },
        {
          "output_type": "stream",
          "name": "stderr",
          "text": [
            "INFO: `Trainer.fit` stopped: `max_epochs=5` reached.\n",
            "INFO:lightning.pytorch.utilities.rank_zero:`Trainer.fit` stopped: `max_epochs=5` reached.\n"
          ]
        }
      ],
      "source": [
        "from warnings import simplefilter\n",
        "from lightning.pytorch.loggers import TensorBoardLogger\n",
        "\n",
        "simplefilter(\"ignore\", category=RuntimeWarning)\n",
        "\n",
        "\n",
        "trainer = L.Trainer(\n",
        "    max_epochs=5,\n",
        "    logger=TensorBoardLogger(save_dir=f\"logs/{model_name}\"),\n",
        "    num_sanity_val_steps=0,\n",
        ")\n",
        "\n",
        "pipeline = Pipeline(model=model, exp_name=model_name)\n",
        "\n",
        "trainer.fit(model=pipeline, train_dataloaders=train_loader, val_dataloaders=val_loader)\n",
        "\n",
        "history = pipeline.history\n",
        "history[\"epoсhs\"] = trainer.max_epochs\n",
        "history_plotter.add(history)"
      ]
    },
    {
      "cell_type": "markdown",
      "metadata": {
        "id": "ut45GHDsYsjz"
      },
      "source": [
        "# Регуляризация"
      ]
    },
    {
      "cell_type": "markdown",
      "metadata": {
        "id": "_ywHrWxaYsjz"
      },
      "source": [
        "Еще один способ улучшения сходимости нейросетей и борьбы с переобучением — введение регуляризации. Ее можно вводить несколькими способами."
      ]
    },
    {
      "cell_type": "markdown",
      "metadata": {
        "id": "XRwCdIY0Ysjz"
      },
      "source": [
        "## L1, L2 регуляризации"
      ]
    },
    {
      "cell_type": "markdown",
      "metadata": {
        "id": "bk1EcLsBYsjz"
      },
      "source": [
        "Мы уже разбирали самый простой способ — добавление штрафа к весам в функцию потерь. На сходимость нейросети это, правда, влияет слабо."
      ]
    },
    {
      "cell_type": "markdown",
      "metadata": {
        "id": "MWeJegnPYsjz"
      },
      "source": [
        "$$ \\text{Loss_reg} = \\text{loss} + \\lambda \\cdot \\text{reg}$$\n",
        "\n",
        "$$ \\text{reg}_{L1} = \\lambda \\sum |w_i| $$\n",
        "\n",
        "$$ \\text{reg}_{L2} = \\lambda \\sum w_i^2 $$"
      ]
    },
    {
      "cell_type": "markdown",
      "metadata": {
        "id": "9jN0KqEWYsjz"
      },
      "source": [
        "<center><img src =\"https://ml.gan4x4.ru/msu/dep-2.1/L07/loss_landscape_with_regularization.gif\" width=\"800\"></center>\n",
        "\n",
        "<center><em>Source: <a href=\"https://people.eecs.berkeley.edu/~jrs/189/\">Introduction to Machine Learning\n",
        "</a></em></center>\n"
      ]
    },
    {
      "cell_type": "markdown",
      "metadata": {
        "id": "3QlFlBC6Ysjz"
      },
      "source": [
        "Иногда уже его хватает, чтобы решить все проблемы. Напомним, что **L2** Loss приводит к большому числу маленьких ненулевых весов в сети. А **L1** Loss — к маленькому числу ненулевых весов (разреженной нейросети)."
      ]
    },
    {
      "cell_type": "markdown",
      "metadata": {
        "id": "6SesY5y4Ysjz"
      },
      "source": [
        "В PyTorch L2-регуляризация (или её аналоги) часто \"встроена\" в оптимизаторы и связана с параметром `weight_decay`. Подробнее различия между `weight_decay` и L2 мы обсудим в блоке про оптимизаторы.\n",
        "\n",
        "\n",
        "```python\n",
        "sgd = torch.optim.SGD(model.parameters(), lr=0.001, weight_decay=0.001)\n",
        "```\n",
        "\n"
      ]
    },
    {
      "cell_type": "markdown",
      "metadata": {
        "id": "HqPH2okiYsjz"
      },
      "source": [
        "## Dropout"
      ]
    },
    {
      "cell_type": "markdown",
      "metadata": {
        "id": "EM8CgjgnYsjz"
      },
      "source": [
        "Одним из распространенных именно в нейросетях методом регуляризации является **Dropout**."
      ]
    },
    {
      "cell_type": "markdown",
      "metadata": {
        "id": "TErlxW1WYsjz"
      },
      "source": [
        "<center><img src =\"https://ml.gan4x4.ru/msu/dev-2.2/L07/out/dropout.png\" width=\"700\"></center>"
      ]
    },
    {
      "cell_type": "markdown",
      "metadata": {
        "id": "tfJ4FGQtYsjz"
      },
      "source": [
        "Состоит этот метод в следующем:\n",
        "\n",
        "1. Во время обучения мы с вероятностью $p$ **зануляем выход нейронов** слоя (например, $p = 0.5$).\n",
        "2. Зануленные нейроны не участвуют в данном `forward`, и поэтому градиент к ним при `backward` не идет.\n",
        "3. Сила регуляризации определяется вероятностью $p$: чем она больше, тем сильнее регуляризация."
      ]
    },
    {
      "cell_type": "markdown",
      "metadata": {
        "id": "NhrxfwAlYsjz"
      },
      "source": [
        "### Мотивация Dropout"
      ]
    },
    {
      "cell_type": "markdown",
      "metadata": {
        "id": "l2Irwhj2Ysjz"
      },
      "source": [
        "#### Борьба с коадаптацией"
      ]
    },
    {
      "cell_type": "markdown",
      "metadata": {
        "id": "XtruuyxqYsjz"
      },
      "source": [
        "Одной из  проблем при работе с глубокими сетями является **совместная адаптация нейронов**. Если все весовые коэффициенты обучаются вместе, некоторые соединения будут иметь больше возможностей прогнозирования, чем другие.\n",
        "\n",
        "**Часть нейронов** делает основную работу — **предсказывает**, а остальные могут вообще не вносить никакого вклада в итоговое предсказание. Или же другая картина: один нейрон делает **неверное предсказание**, другие его **исправляют**, и в итоге первый нейрон свои ошибки не исправляет.\n",
        "\n",
        "Можно попробовать понять, как это работает, через аналогию — конвейер по сборке машины: основную часть работы может исполнять небольшое количество работников. Другие работники могут лениться и передавать деталь, которая к ним поступила, без изменений или откручивать только что добавленные части. Если мы исключим “эффективных работников”, результат станет удручающим.\n",
        "\n",
        "Это явление называется **коадаптацией**. Его нельзя было предотвратить с помощью традиционной регуляризации, такой как **L1** или **L2**. А вот **Dropout** с этим хорошо борется."
      ]
    },
    {
      "cell_type": "markdown",
      "metadata": {
        "id": "q-2B85u9Ysj0"
      },
      "source": [
        "Отключая хорошо обученные нейроны, мы заставляем плохо обученные нейроны учиться. Отключая нейроны, которые исправляют ошибки других нейронов, мы заставляем ошибающиеся нейроны исправлять ошибки."
      ]
    },
    {
      "cell_type": "markdown",
      "metadata": {
        "id": "ICyB-XqAYsj0"
      },
      "source": [
        "**Dropout** гарантирует, что выучиваемые индивидуальными нейронами функции хорошо работают со **случайно выбранными подмножествами функций**, выученных другими нейронами, улучшая **обобщающую способность** нейронов."
      ]
    },
    {
      "cell_type": "markdown",
      "metadata": {
        "id": "P_pDM_QGYsj0"
      },
      "source": [
        "На следующем рисунке, извлеченном из [статьи про Dropout 🎓[article]](https://jmlr.org/papers/v15/srivastava14a.html), мы находим сравнение признаков, изученных в наборе данных **MNIST** нейросетью с **одним скрытым слоем** в автоэнкодере, имеющем $256$ признаков после ReLU **без Dropout** (слева), и признаков, изученных той же структурой с использованием **Dropout** в ее скрытом слое с $p = 0.5$ (справа).\n",
        "\n",
        "Первый показывает неструктурированные, беспорядочные паттерны, которые невозможно интерпретировать. Второй явно демонстрирует целенаправленное распределение весов, которое обнаруживает штрихи, края и пятна самостоятельно, нарушая их взаимозависимость с другими нейронами для выполнения этой работы."
      ]
    },
    {
      "cell_type": "markdown",
      "metadata": {
        "id": "T99e45n4Ysj0"
      },
      "source": [
        "<center><img src =\"https://ml.gan4x4.ru/msu/dev-2.1/L07/compare_weights_with_dropout_and_without_dropout.png\" width=\"600\"></center>\n",
        "\n",
        "<center><em>Source: <a href=\"https://jmlr.org/papers/volume15/srivastava14a/srivastava14a.pdf\">Dropout: A Simple Way to Prevent Neural Networks from\n",
        "Overfitting</a></em></center>"
      ]
    },
    {
      "cell_type": "markdown",
      "metadata": {
        "id": "4-qw6LzuYsj0"
      },
      "source": [
        "#### Dropout как регуляризация"
      ]
    },
    {
      "cell_type": "markdown",
      "metadata": {
        "id": "Nrja5r-IYsj0"
      },
      "source": [
        "Фактически **Dropout** штрафует слишком сложные, неустойчивые решения. Добавляя в нейросеть **Dropout**, мы сообщаем ей, что решение, которое мы ожидаем, должно быть устойчиво к шуму."
      ]
    },
    {
      "cell_type": "markdown",
      "metadata": {
        "id": "9BA6H2KXYsj0"
      },
      "source": [
        "#### Dropout как ансамбль"
      ]
    },
    {
      "cell_type": "markdown",
      "metadata": {
        "id": "_fnOWGBUYsj0"
      },
      "source": [
        "Можно рассматривать **Dropout** как **ансамбль нейросетей** со схожими параметрами, которые мы учим одновременно, вместо того, чтобы учить каждую в отдельности, а затем результат их предсказания усредняем, [выключая Dropout в режиме eval ✏️[blog]](https://habr.com/ru/companies/wunderfund/articles/330814/).\n",
        "\n",
        "Таким образом, возникает аналогия со случайным лесом: каждая из наших нейросетей легко выучивает выборку и переобучается — имеет низкий bias, но высокий variance. При этом, за счет временного отключения активаций, каждая нейросеть видит не все объекты, а только часть. Усредняя все эти предсказания, мы уменьшаем variance.\n",
        "\n"
      ]
    },
    {
      "cell_type": "markdown",
      "metadata": {
        "id": "VZknOesBYsj0"
      },
      "source": [
        "#### Dropout помогает бороться с переобучением"
      ]
    },
    {
      "cell_type": "markdown",
      "metadata": {
        "id": "AdUdVt7sYsj0"
      },
      "source": [
        "Dropout, в силу указанного выше, может хорошо помогать бороться с переобучением.\n",
        "\n"
      ]
    },
    {
      "cell_type": "markdown",
      "metadata": {
        "id": "-g_CJkQcYsj0"
      },
      "source": [
        "<center><img src =\"https://ml.gan4x4.ru/msu/dev-2.1/L07/dropout_solve_overfitting_problem_in_mlp_networks.png\" width=\"500\">\n",
        "\n",
        "<em>Source: <a href=\"https://xuwd11.github.io/Dropout_Tutorial_in_PyTorch/\">Tutorial: Dropout as Regularization and Bayesian Approximation</a></em></center>"
      ]
    },
    {
      "cell_type": "markdown",
      "metadata": {
        "id": "YtO1iwPjYsj0"
      },
      "source": [
        "#### Простая реализация Dropout"
      ]
    },
    {
      "cell_type": "markdown",
      "metadata": {
        "id": "Sh16NYEFYsj0"
      },
      "source": [
        "Напишем \"наивную\" реализацию модуля Dropout.\n",
        "\n",
        "**Замечание:** этот блок кода дан для объяснения работы Dropout. При построении нейронной сети используйте `nn.Dropout` [🛠️[doc]](https://pytorch.org/docs/stable/generated/torch.nn.Dropout.html) или `nn.Dropout2d` [🛠️[doc]](https://pytorch.org/docs/stable/generated/torch.nn.Dropout2d.html).\n",
        "\n",
        "```python\n",
        "class BadDropout(nn.Module):\n",
        "    def __init__(self, p: float=0.5):\n",
        "        super().__init__()\n",
        "        if p < 0 or p > 1:\n",
        "            raise ValueError(\n",
        "                f\"Dropout probability has to be between 0 and 1, but got {p}\"\n",
        "            )\n",
        "        self.p = p\n",
        "\n",
        "    def forward(self, x):\n",
        "        if self.training:\n",
        "            keep = torch.rand(x.size()) > self.p\n",
        "            if x.is_cuda:\n",
        "                keep = keep.to(device)\n",
        "            return x * keep\n",
        "        # in test time, expectation is calculated\n",
        "        return x * (1 - self.p)\n",
        "```\n",
        "\n"
      ]
    },
    {
      "cell_type": "markdown",
      "metadata": {
        "id": "4YSZ9Jc6Ysj0"
      },
      "source": [
        "Приведенная реализация неоптимальна, так как в режиме инференса (когда `training = False`) функция `forward` совершает дополнительное умножение. Одним из приоритетов при создании модели является скорость работы в режиме инференса. Поэтому по возможности все \"лишние\" операции выполняют только в режиме обучения. В данном случае можно целиком убрать коэффициент нормировки из режима инференса, перенеся его в режим обучения в знаменатель.\n",
        "\n",
        "Дополнительным плюсом такого подхода является то, что при удалении модуля из архитектуры сети функция прогнозирования не изменится.\n",
        "\n",
        "\n",
        "```python\n",
        "class Dropout(nn.Module):\n",
        "    def __init__(self, p: float=0.2):\n",
        "        super().__init__()\n",
        "        if p < 0 or p > 1:\n",
        "            raise ValueError(\n",
        "                f\"Dropout probability has to be between 0 and 1, but got {p}\"\n",
        "            )\n",
        "        self.p = p\n",
        "\n",
        "    def forward(self, x):\n",
        "        if self.training:\n",
        "            keep = torch.rand(x.size()) > self.p\n",
        "            if x.is_cuda:\n",
        "                keep = keep.to(x)\n",
        "            return x * keep / (1 - self.p)\n",
        "        return x  # in test time, expectation is calculated intrinsically - we just not divide weights\n",
        "```\n",
        "\n"
      ]
    },
    {
      "cell_type": "markdown",
      "metadata": {
        "id": "jcYiSCHIYsj0"
      },
      "source": [
        "Попробуем применить Dropout в нашей нейросети:"
      ]
    },
    {
      "cell_type": "code",
      "execution_count": null,
      "metadata": {
        "id": "hbz6FvqEYsj0"
      },
      "outputs": [],
      "source": [
        "class SimpleMNIST_NN_Dropout(nn.Module):\n",
        "    def __init__(self, n_layers, activation=nn.Sigmoid, init_form=\"normal\"):\n",
        "        super().__init__()\n",
        "        self.n_layers = n_layers\n",
        "        self.activation = activation()\n",
        "        layers = [nn.Linear(28 * 28, 100), self.activation]\n",
        "        for _ in range(0, n_layers - 1):\n",
        "            layers.append(nn.Linear(100, 100))\n",
        "            layers.append(nn.Dropout(p=0.2))  # add Dropout\n",
        "            layers.append(self.activation)\n",
        "        layers.append(nn.Linear(100, 10))\n",
        "        self.layers = nn.Sequential(*layers)\n",
        "\n",
        "    def forward(self, x):\n",
        "        x = x.view(-1, 28 * 28)\n",
        "        x = self.layers(x)\n",
        "        return x"
      ]
    },
    {
      "cell_type": "markdown",
      "metadata": {
        "id": "rttU_PGzYsj0"
      },
      "source": [
        "Так как наша модель из-за Dropout ведет себя по-разному во время обучения и во время тестирования, мы должны прямо ей сообщать, обучается она сейчас или нет.\n",
        "\n",
        "$$\n",
        "\\begin{array}{c|c}\n",
        "\\large{\\text{model.train()}}&\\ \\large{\\text{model.eval()}}\\\\  \\hline\n",
        "\\large{\\text{Активируются Dropout слои}}&\\large{\\text{Слои Dropout отключены}}\\\\\n",
        "\\large{\\text{Выход части нейронов обнуляется, выходы нормируются}}&\\large{\\text{Все нейроны работают}}\n",
        "\\end{array}\n",
        "$$\n",
        "\n"
      ]
    },
    {
      "cell_type": "markdown",
      "metadata": {
        "id": "CSdjMfB1Ysj0"
      },
      "source": [
        "Обучим модель с **Dropout**:"
      ]
    },
    {
      "cell_type": "code",
      "execution_count": null,
      "metadata": {
        "id": "lT4Hpu8ZYsj0",
        "colab": {
          "base_uri": "https://localhost:8080/",
          "height": 639,
          "referenced_widgets": [
            "43562bc15bef459485436a6a9706573c",
            "e9249445cfa0417da9e7be30b28e3c18",
            "750be81c7f1146de88139c21ea5b21c4",
            "ae8c82d72f1e47dba9b1fc3454a2fce6",
            "8ddc7712849e40d1bdb474ec38465bb1",
            "f1c23dfc49084421825ba277a4f4924a",
            "54f7dcac7e604633b2225096c075f0a2",
            "96feb15f5787472cb0209167d4721688",
            "34baea9ee0e647279b98426c940c60b6",
            "4668e69f378c40249811cce16d4dec62",
            "f99ae5bd8f724fdf884b0034ad448d57",
            "f5d3a6b6a2a748b9bbec99fde7d91ab3",
            "187ebf75fa284ec7a5a5d2ed255b8911",
            "4f667262df804abda8d9621009e87c0a",
            "75cdc06584664d358604dbe289f35361",
            "02fbf4c64cb845f687618f63db212a54",
            "4a5914827d624e19aa954b6982eecdb9",
            "74a1d6dc651c447aaf81a2bc4cc0d065",
            "16b0703d0be4425ea28d2be9ae704ed3",
            "7545a0deb14d48e19b062e91f35f6aec",
            "3f65665fc9c64a119b3aeadc9a09d343",
            "57910832d5844f3c8a615e8a5e2aa8aa",
            "2761c6d7edac4bb8b3c0e8b82557096f",
            "5b48f2b7bca048d2a637d7798145938e",
            "dfcfc13973814772a350701a9614bb94",
            "0077f0b03ef445c5afac2e84e9cdb507",
            "92efa9db2f184fc596b8d2dcc9943435",
            "e4e53179957c4036adcb6bb091410caa",
            "e267b1bbe7684fc3be70ac5f22c2e10c",
            "8a321e49b21b4795af897ddf8f68d131",
            "2db63334eee34d18997c7f4185fd367c",
            "38a8e5b577e14d46978937399ceef7d4",
            "dbd266d9560b4386904c859094913d5a",
            "f3d38d36f50d4b6d8c48cfff88a9a534",
            "564fb648ceb74a06833e90354ff0212e",
            "c97eefacd5f44edb91f999bd392c04f4",
            "bda5b20d3b1a4e2997d5c95da790499c",
            "7673e9a3e8564266a603cab2c7c84667",
            "bdebb042f7b94624b77811f43f349ed9",
            "ecb8d917ffa745919088c6de2044cae2",
            "2f9b110582ae4f4292d727368529a191",
            "78c25a9b9cb34a669964099215f51551",
            "9ee3acd3f02145dc8694a49724e74855",
            "30f8707690fd405c8eda25cbd8db252b",
            "a2d2615fa7d04be89244408e145b2a78",
            "6158108c15924e90a789b0131b67446b",
            "10286e96ac03484ab6ee1d1a4a86cd82",
            "4b49c9d3b6e647b8b800f569d54ccde6",
            "e086f3754dce4a7c9e4e5d1265333e8d",
            "40223b87dc214818a4ca07afdfa153d6",
            "523ba3262b194cea903631909f9239fa",
            "0dcf877915364d38b3fb58e05b570a29",
            "76e867cde8fe4681bd6814fbf15863ce",
            "2d7901e2142e4c53b6cd879574da42c5",
            "91931440d6f1497a83cd7b4810a3920e",
            "f18c2d6da62749d6996db9c35df5c52a",
            "5bfdce228ae54eb3bb576bcd70d3ce5b",
            "1827e94220a0424fa2dc62d08e743e32",
            "9f0aa2ab72e442dab52f219b334bf81b",
            "72c610b93d9d482c953a28dcfb216970",
            "998aef4dd33647aba618ac44aa283cae",
            "a93b83e5e6a646c8ac94ce072bf42799",
            "df23d63b19ef40698471fcba2e3443e2",
            "4dbfadfd427d40cf8849ce1d53a1309e",
            "3297d70e1f194513a4a5d71b2b2952e9",
            "8e5828a7ddb5454db9f0c22ad24c4122"
          ]
        },
        "outputId": "e78cb495-c242-4edc-b12b-fe25a401d981"
      },
      "outputs": [
        {
          "output_type": "stream",
          "name": "stderr",
          "text": [
            "INFO: GPU available: True (cuda), used: True\n",
            "INFO:lightning.pytorch.utilities.rank_zero:GPU available: True (cuda), used: True\n",
            "INFO: TPU available: False, using: 0 TPU cores\n",
            "INFO:lightning.pytorch.utilities.rank_zero:TPU available: False, using: 0 TPU cores\n",
            "INFO: HPU available: False, using: 0 HPUs\n",
            "INFO:lightning.pytorch.utilities.rank_zero:HPU available: False, using: 0 HPUs\n",
            "INFO: LOCAL_RANK: 0 - CUDA_VISIBLE_DEVICES: [0]\n",
            "INFO:lightning.pytorch.accelerators.cuda:LOCAL_RANK: 0 - CUDA_VISIBLE_DEVICES: [0]\n",
            "INFO: \n",
            "  | Name      | Type                   | Params | Mode \n",
            "-------------------------------------------------------------\n",
            "0 | model     | SimpleMNIST_NN_Dropout | 99.7 K | train\n",
            "1 | criterion | CrossEntropyLoss       | 0      | train\n",
            "-------------------------------------------------------------\n",
            "99.7 K    Trainable params\n",
            "0         Non-trainable params\n",
            "99.7 K    Total params\n",
            "0.399     Total estimated model params size (MB)\n",
            "10        Modules in train mode\n",
            "0         Modules in eval mode\n",
            "INFO:lightning.pytorch.callbacks.model_summary:\n",
            "  | Name      | Type                   | Params | Mode \n",
            "-------------------------------------------------------------\n",
            "0 | model     | SimpleMNIST_NN_Dropout | 99.7 K | train\n",
            "1 | criterion | CrossEntropyLoss       | 0      | train\n",
            "-------------------------------------------------------------\n",
            "99.7 K    Trainable params\n",
            "0         Non-trainable params\n",
            "99.7 K    Total params\n",
            "0.399     Total estimated model params size (MB)\n",
            "10        Modules in train mode\n",
            "0         Modules in eval mode\n"
          ]
        },
        {
          "output_type": "display_data",
          "data": {
            "text/plain": [
              "Training: |          | 0/? [00:00<?, ?it/s]"
            ],
            "application/vnd.jupyter.widget-view+json": {
              "version_major": 2,
              "version_minor": 0,
              "model_id": "43562bc15bef459485436a6a9706573c"
            }
          },
          "metadata": {}
        },
        {
          "output_type": "display_data",
          "data": {
            "text/plain": [
              "Validation: |          | 0/? [00:00<?, ?it/s]"
            ],
            "application/vnd.jupyter.widget-view+json": {
              "version_major": 2,
              "version_minor": 0,
              "model_id": "f5d3a6b6a2a748b9bbec99fde7d91ab3"
            }
          },
          "metadata": {}
        },
        {
          "output_type": "display_data",
          "data": {
            "text/plain": [
              "Validation: |          | 0/? [00:00<?, ?it/s]"
            ],
            "application/vnd.jupyter.widget-view+json": {
              "version_major": 2,
              "version_minor": 0,
              "model_id": "2761c6d7edac4bb8b3c0e8b82557096f"
            }
          },
          "metadata": {}
        },
        {
          "output_type": "display_data",
          "data": {
            "text/plain": [
              "Validation: |          | 0/? [00:00<?, ?it/s]"
            ],
            "application/vnd.jupyter.widget-view+json": {
              "version_major": 2,
              "version_minor": 0,
              "model_id": "f3d38d36f50d4b6d8c48cfff88a9a534"
            }
          },
          "metadata": {}
        },
        {
          "output_type": "display_data",
          "data": {
            "text/plain": [
              "Validation: |          | 0/? [00:00<?, ?it/s]"
            ],
            "application/vnd.jupyter.widget-view+json": {
              "version_major": 2,
              "version_minor": 0,
              "model_id": "a2d2615fa7d04be89244408e145b2a78"
            }
          },
          "metadata": {}
        },
        {
          "output_type": "display_data",
          "data": {
            "text/plain": [
              "Validation: |          | 0/? [00:00<?, ?it/s]"
            ],
            "application/vnd.jupyter.widget-view+json": {
              "version_major": 2,
              "version_minor": 0,
              "model_id": "f18c2d6da62749d6996db9c35df5c52a"
            }
          },
          "metadata": {}
        },
        {
          "output_type": "stream",
          "name": "stderr",
          "text": [
            "INFO: `Trainer.fit` stopped: `max_epochs=5` reached.\n",
            "INFO:lightning.pytorch.utilities.rank_zero:`Trainer.fit` stopped: `max_epochs=5` reached.\n"
          ]
        }
      ],
      "source": [
        "model_name = \"nn3_dropout\"\n",
        "model = SimpleMNIST_NN_Dropout(n_layers=3)\n",
        "\n",
        "trainer = L.Trainer(\n",
        "    max_epochs=5,\n",
        "    logger=TensorBoardLogger(save_dir=f\"logs/{model_name}\"),\n",
        "    num_sanity_val_steps=0,\n",
        ")\n",
        "\n",
        "pipeline = Pipeline(model=model, exp_name=model_name, optimizer_kwargs={\"lr\": 1e-2})\n",
        "\n",
        "trainer.fit(model=pipeline, train_dataloaders=train_loader, val_dataloaders=val_loader)\n",
        "\n",
        "history = pipeline.history\n",
        "history[\"epoсhs\"] = trainer.max_epochs\n",
        "history_plotter.add(history)"
      ]
    },
    {
      "cell_type": "code",
      "execution_count": null,
      "metadata": {
        "id": "rD4cdDjPYsj1",
        "colab": {
          "base_uri": "https://localhost:8080/",
          "height": 872
        },
        "outputId": "d7fa66a2-4a68-4aaf-c4d6-b0dfe189ab18"
      },
      "outputs": [
        {
          "output_type": "display_data",
          "data": {
            "text/plain": [
              "<Figure size 1000x1000 with 3 Axes>"
            ],
            "image/png": "[encoded data removed]"
          },
          "metadata": {}
        }
      ],
      "source": [
        "history_plotter.plot([\"n3_layers_sigmoid_havier\", model_name])"
      ]
    },
    {
      "cell_type": "markdown",
      "metadata": {
        "id": "cP0_Y-0kYsj1"
      },
      "source": [
        "В данном случае выигрыш небольшой. Если учить нейросеть больше эпох, эффект будет заметнее."
      ]
    },
    {
      "cell_type": "markdown",
      "metadata": {
        "id": "tT0Moq_RYsj1"
      },
      "source": [
        "#### Пример борьбы с переобучением при помощи Dropout\n"
      ]
    },
    {
      "cell_type": "markdown",
      "metadata": {
        "id": "vUqUazReYsj1"
      },
      "source": [
        "Чтобы увидеть эффект и при этом не учить нейросеть 100+ эпох, сделаем искусственный пример.\n",
        "\n",
        "Просто **добавим к линейной зависимости шум** и попробуем выучить ее нейронной сетью.\n",
        "\n",
        "[[colab] 🥨 Batch Normalization and Dropout](https://colab.research.google.com/github/Niranjankumar-c/DeepLearning-PadhAI/blob/master/DeepLearning_Materials/7_BatchNormalization/BatchNorm_Dropout.ipynb)"
      ]
    },
    {
      "cell_type": "code",
      "execution_count": null,
      "metadata": {
        "id": "nqjT0Bk8Ysj1",
        "colab": {
          "base_uri": "https://localhost:8080/"
        },
        "outputId": "2be884a2-4dbd-4b7a-dcae-dbd857890222"
      },
      "outputs": [
        {
          "output_type": "stream",
          "name": "stdout",
          "text": [
            "x_train shape: torch.Size([50, 1])\n",
            "x_test shape: torch.Size([50, 1])\n"
          ]
        }
      ],
      "source": [
        "N = 50  # number of data points\n",
        "noise = 0.3\n",
        "\n",
        "# generate the train data\n",
        "x_train = torch.unsqueeze(torch.linspace(-1, 1, N), 1)\n",
        "y_train = x_train + noise * torch.normal(torch.zeros(N, 1), torch.ones(N, 1))\n",
        "\n",
        "# generate the test data\n",
        "x_test = torch.unsqueeze(torch.linspace(-1, 1, N), 1)\n",
        "y_test = x_test + noise * torch.normal(torch.zeros(N, 1), torch.ones(N, 1))\n",
        "\n",
        "print(f\"x_train shape: {x_train.shape}\\nx_test shape: {x_test.shape}\")"
      ]
    },
    {
      "cell_type": "code",
      "execution_count": null,
      "metadata": {
        "id": "Lq8gLId1Ysj1",
        "colab": {
          "base_uri": "https://localhost:8080/",
          "height": 430
        },
        "outputId": "0d956b4c-32ff-416f-e6dc-7b3b12d0ebe6"
      },
      "outputs": [
        {
          "output_type": "display_data",
          "data": {
            "text/plain": [
              "<Figure size 640x480 with 1 Axes>"
            ],
            "image/png": "[encoded data removed]"
          },
          "metadata": {}
        }
      ],
      "source": [
        "plt.scatter(\n",
        "    x_train.data.numpy(), y_train.data.numpy(), c=\"purple\", alpha=0.5, label=\"train\"\n",
        ")\n",
        "plt.scatter(\n",
        "    x_test.data.numpy(), y_test.data.numpy(), c=\"yellow\", alpha=0.5, label=\"test\"\n",
        ")\n",
        "\n",
        "x_real = np.arange(-1, 1, 0.01)\n",
        "y_real = x_real\n",
        "plt.plot(x_real, y_real, c=\"green\", label=\"true\")\n",
        "plt.legend()\n",
        "plt.show()"
      ]
    },
    {
      "cell_type": "markdown",
      "metadata": {
        "id": "3ri6M9JeYsj1"
      },
      "source": [
        "Модель **без Dropout**:"
      ]
    },
    {
      "cell_type": "code",
      "execution_count": null,
      "metadata": {
        "id": "kfcNjCeVYsj1"
      },
      "outputs": [],
      "source": [
        "N_h = 100  # num of neurons\n",
        "model = torch.nn.Sequential(\n",
        "    torch.nn.Linear(1, N_h),\n",
        "    torch.nn.ReLU(),\n",
        "    torch.nn.Linear(N_h, N_h),\n",
        "    torch.nn.ReLU(),\n",
        "    torch.nn.Linear(N_h, 1),\n",
        ")\n",
        "optimizer = torch.optim.Adam(model.parameters(), lr=0.01)"
      ]
    },
    {
      "cell_type": "markdown",
      "metadata": {
        "id": "PU68y-fMYsj1"
      },
      "source": [
        "Модель **с Dropout**:"
      ]
    },
    {
      "cell_type": "code",
      "execution_count": null,
      "metadata": {
        "id": "Jbp25FV6Ysj1"
      },
      "outputs": [],
      "source": [
        "N_h = 100  # num of neurons\n",
        "\n",
        "model_dropout = nn.Sequential(\n",
        "    nn.Linear(1, N_h),\n",
        "    nn.Dropout(0.5),  # 50 % probability\n",
        "    nn.ReLU(),\n",
        "    torch.nn.Linear(N_h, N_h),\n",
        "    nn.Dropout(0.2),  # 20% probability\n",
        "    nn.ReLU(),\n",
        "    torch.nn.Linear(N_h, 1),\n",
        ")\n",
        "optimizer_dropout = torch.optim.Adam(model_dropout.parameters(), lr=0.01)"
      ]
    },
    {
      "cell_type": "code",
      "execution_count": null,
      "metadata": {
        "id": "Whqi1PP_Ysj1",
        "colab": {
          "base_uri": "https://localhost:8080/",
          "height": 1000
        },
        "outputId": "60db59da-9690-454d-aaed-b2a36846a8a8"
      },
      "outputs": [
        {
          "output_type": "display_data",
          "data": {
            "text/plain": [
              "<Figure size 640x480 with 1 Axes>"
            ],
            "image/png": "[encoded data removed]"
          },
          "metadata": {}
        },
        {
          "output_type": "display_data",
          "data": {
            "text/plain": [
              "<Figure size 640x480 with 1 Axes>"
            ],
            "image/png": "[encoded data removed]"
          },
          "metadata": {}
        },
        {
          "output_type": "display_data",
          "data": {
            "text/plain": [
              "<Figure size 640x480 with 1 Axes>"
            ],
            "image/png": "[encoded data removed]"
          },
          "metadata": {}
        },
        {
          "output_type": "display_data",
          "data": {
            "text/plain": [
              "<Figure size 640x480 with 1 Axes>"
            ],
            "image/png": "[encoded data removed]"
          },
          "metadata": {}
        },
        {
          "output_type": "display_data",
          "data": {
            "text/plain": [
              "<Figure size 640x480 with 1 Axes>"
            ],
            "image/png": "[encoded data removed]"
          },
          "metadata": {}
        }
      ],
      "source": [
        "num_epochs = 1500\n",
        "criterion = torch.nn.MSELoss()\n",
        "\n",
        "for epoch in range(num_epochs):\n",
        "    # train without dropout\n",
        "    y_pred = model(x_train)  # look at the entire data in a single shot\n",
        "    loss = criterion(y_pred, y_train)\n",
        "    optimizer.zero_grad()\n",
        "    loss.backward()\n",
        "    optimizer.step()\n",
        "\n",
        "    # train with dropout\n",
        "    y_pred_dropout = model_dropout(x_train)\n",
        "    loss_dropout = criterion(y_pred_dropout, y_train)\n",
        "    optimizer_dropout.zero_grad()\n",
        "    loss_dropout.backward()\n",
        "    optimizer_dropout.step()\n",
        "\n",
        "    if epoch % 300 == 0:\n",
        "        model.eval()  # not train mode\n",
        "        model_dropout.eval()  #  not train mode\n",
        "\n",
        "        # get predictions\n",
        "        y_test_pred = model(x_test)\n",
        "        test_loss = criterion(y_test_pred, y_test)\n",
        "\n",
        "        y_test_pred_dropout = model_dropout(x_test)\n",
        "        test_loss_dropout = criterion(y_test_pred_dropout, y_test)\n",
        "        # plotting data and predictions\n",
        "        plt.scatter(\n",
        "            x_train.data.numpy(),\n",
        "            y_train.data.numpy(),\n",
        "            c=\"purple\",\n",
        "            alpha=0.5,\n",
        "            label=\"train\",\n",
        "        )\n",
        "        plt.scatter(\n",
        "            x_test.data.numpy(),\n",
        "            y_test.data.numpy(),\n",
        "            c=\"yellow\",\n",
        "            alpha=0.5,\n",
        "            label=\"test\",\n",
        "        )\n",
        "        plt.plot(\n",
        "            x_test.data.numpy(), y_test_pred.data.numpy(), \"r-\", lw=3, label=\"normal\"\n",
        "        )\n",
        "        plt.plot(\n",
        "            x_test.data.numpy(),\n",
        "            y_test_pred_dropout.data.numpy(),\n",
        "            \"b--\",\n",
        "            lw=3,\n",
        "            label=\"dropout\",\n",
        "        )\n",
        "\n",
        "        plt.title(\n",
        "            \"Epoch %d, Loss = %0.4f, Loss with dropout = %0.4f\"\n",
        "            % (epoch, test_loss, test_loss_dropout)\n",
        "        )\n",
        "\n",
        "        plt.legend()\n",
        "\n",
        "        model.train()  # train mode\n",
        "        model_dropout.train()  # train mode\n",
        "\n",
        "        plt.pause(0.05)"
      ]
    },
    {
      "cell_type": "markdown",
      "metadata": {
        "id": "vu11zAC8Ysj1"
      },
      "source": [
        "Видим, что **нейросеть без Dropout сильно переобучилась**."
      ]
    },
    {
      "cell_type": "markdown",
      "metadata": {
        "id": "-LwcDx7cYsj1"
      },
      "source": [
        "#### Доверительный интервал от Dropout"
      ]
    },
    {
      "cell_type": "markdown",
      "metadata": {
        "id": "ATwa_q7VYsj1"
      },
      "source": [
        "Dropout можно рассматривать как **ансамбль моделей**.\n",
        "\n",
        "Если мы возьмем один и тот же объект и пропустим его через модель с **активным Dropout 1000 раз**, это будет эквивалентно тому, чтобы пропустить этот объект через **1000 моделей с различными конфигурациями**. Таким образом мы получим распределение предсказаний, на основе которого можно вычислять [**доверительные интервалы** 📚[wiki]](https://ru.wikipedia.org/wiki/%D0%94%D0%BE%D0%B2%D0%B5%D1%80%D0%B8%D1%82%D0%B5%D0%BB%D1%8C%D0%BD%D1%8B%D0%B9_%D0%B8%D0%BD%D1%82%D0%B5%D1%80%D0%B2%D0%B0%D0%BB) и ловить аномалии (объекты с большой дисперсией предсказываемых значений, которые плохо распознаются сетью)."
      ]
    },
    {
      "cell_type": "markdown",
      "metadata": {
        "id": "HIOafxiWYsj1"
      },
      "source": [
        "<center><img src =\"https://ml.gan4x4.ru/msu/dev-2.1/L07/confidence_interval_dropout.png\" width=\"600\"></center>\n",
        "\n",
        "<center><em>Source: <a href=\"https://atcold.github.io/NYU-DLSP20/en/week14/14-3/\">Overfitting and regularization</a></em></center>\n",
        "\n"
      ]
    },
    {
      "cell_type": "markdown",
      "metadata": {
        "id": "sKXTzdIIYsj1"
      },
      "source": [
        "## DropConnect"
      ]
    },
    {
      "cell_type": "markdown",
      "metadata": {
        "id": "3mYf6rRCYsj1"
      },
      "source": [
        "Если занулять не нейроны (активации), а случайные веса с вероятностью $p$, получится DropConnect."
      ]
    },
    {
      "cell_type": "markdown",
      "metadata": {
        "id": "QVNw7mTCYsj1"
      },
      "source": [
        "<center><img src =\"https://ml.gan4x4.ru/msu/dev-2.2/L07/out/dropconnect.png\" width=\"650\"></center>"
      ]
    },
    {
      "cell_type": "markdown",
      "metadata": {
        "id": "t-W_slonYsj1"
      },
      "source": [
        "DropConnect похож на Dropout, поскольку он вводит динамическую разреженность в модель, но отличается тем, что разреженность зависит от весов *W*, а не от выходных векторов слоя. Другими словами, полностью связанный слой с DropConnect становится разреженно связанным слоем, в котором соединения выбираются случайным образом на этапе обучения."
      ]
    },
    {
      "cell_type": "markdown",
      "metadata": {
        "id": "SaCm7nXdYsj2"
      },
      "source": [
        "В принципе, вариантов зануления чего-то в нейронной сети можно предложить великое множество, в разных ситуациях будут работать разные способы ([в этом списке 🎓[article]](https://paperswithcode.com/methods/category/regularization) много Drop...)."
      ]
    },
    {
      "cell_type": "markdown",
      "metadata": {
        "id": "NY393G2qYsj2"
      },
      "source": [
        "## DropBlock"
      ]
    },
    {
      "cell_type": "markdown",
      "metadata": {
        "id": "pQibGlgaYsj2"
      },
      "source": [
        "Например, можно убирать для каждого батча из нейросети случайные блоки из слоев. И это будет работать!"
      ]
    },
    {
      "cell_type": "markdown",
      "metadata": {
        "id": "XpmKoq5sYsj2"
      },
      "source": [
        "<center><img src =\"https://ml.gan4x4.ru/msu/dev-2.2/L07/out/dropblock.png\" width=\"750\"></center>"
      ]
    },
    {
      "cell_type": "markdown",
      "metadata": {
        "id": "W7aSPu51Ysj2"
      },
      "source": [
        "[[arxiv] 🎓 Deep Networks with Stochastic Depth (Huang et al., 2016)](https://arxiv.org/pdf/1603.09382.pdf)"
      ]
    },
    {
      "cell_type": "markdown",
      "metadata": {
        "id": "GhR8jwLfYsj2"
      },
      "source": [
        "## Batch Normalization до или после Dropout\n",
        "\n"
      ]
    },
    {
      "cell_type": "markdown",
      "metadata": {
        "id": "RTsnizz9Ysj2"
      },
      "source": [
        "### После"
      ]
    },
    {
      "cell_type": "markdown",
      "metadata": {
        "id": "xX8DcA7vYsj2"
      },
      "source": [
        "<center><img src =\"https://ml.gan4x4.ru/msu/dev-2.2/L07/out/batchnormalization_after_dropout.png\" width=\"400\"></center>"
      ]
    },
    {
      "cell_type": "markdown",
      "metadata": {
        "id": "9whsOssNYsj2"
      },
      "source": [
        "* **Плохо**: В режиме обучения **Dropout** будет отключать (занулять) выходы слоя активации, из-за этого накопленные в режиме обучения **значения скользящего среднего матожидания и дисперсии** для вычисления **Batch Normalization** в режиме тестирования будут иметь **сдвиг** (не компенсируемый приведением слоя Dropout в режим `train()`), который приведет к нестабильной работе нейросети.\n",
        "\n",
        "\n",
        "Подробно:\n",
        "* [[arxiv] 🎓 Understanding the Disharmony between Dropout and Batch Normalization by\n",
        "Variance Shift (Li et al., 2018)](https://arxiv.org/pdf/1801.05134.pdf)\n",
        "* [[git] 🐾 Understanding the Disharmony between Dropout and Batch Normalization](https://github.com/adelizer/kaggle-sandbox/blob/master/drafts/dropout_bn.ipynb)"
      ]
    },
    {
      "cell_type": "markdown",
      "metadata": {
        "id": "CYpIWmcRYsj2"
      },
      "source": [
        "### До"
      ]
    },
    {
      "cell_type": "markdown",
      "metadata": {
        "id": "c7LtFGesYsj2"
      },
      "source": [
        "<center><img src =\"https://ml.gan4x4.ru/msu/dev-2.2/L07/out/batchnormalization_before_dropout.png\" width=\"400\"></center>"
      ]
    },
    {
      "cell_type": "markdown",
      "metadata": {
        "id": "5Xf_4jS-Ysj2"
      },
      "source": [
        "* **Лучше**: Меньше влияние сдвига от **Dropout** на **BatchNorm**. Но если на предыдущих слоях есть **Dropout**, то значения все равно могут быть смещены."
      ]
    },
    {
      "cell_type": "markdown",
      "metadata": {
        "id": "Tciz6SV-Ysj2"
      },
      "source": [
        "### Ставить только что-то одно"
      ]
    },
    {
      "cell_type": "markdown",
      "metadata": {
        "id": "lCeJza_zYsj2"
      },
      "source": [
        "* **Dropout** может отрицательно влиять на качество нейросети с **BatchNorm** за счет разного поведения на train и test. Лучше не ставить **Dropout** раньше **BatchNorm**."
      ]
    }
  ]
}