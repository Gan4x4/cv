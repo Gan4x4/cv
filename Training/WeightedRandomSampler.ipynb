{
  "nbformat": 4,
  "nbformat_minor": 0,
  "metadata": {
    "colab": {
      "provenance": []
    },
    "kernelspec": {
      "name": "python3",
      "display_name": "Python 3"
    },
    "language_info": {
      "name": "python"
    }
  },
  "cells": [
    {
      "cell_type": "markdown",
      "metadata": {
        "id": "LVHjwahSXsC8"
      },
      "source": [
        "# Баланс классов\n",
        "\n",
        "Прежде всего надо убедиться что датасет сбалансирован:"
      ]
    },
    {
      "cell_type": "markdown",
      "metadata": {
        "id": "BmPVFlYEXsDP"
      },
      "source": [
        "Посмотрим на распределение элементов разных класов по батчам."
      ]
    },
    {
      "cell_type": "code",
      "execution_count": null,
      "metadata": {
        "colab": {
          "base_uri": "https://localhost:8080/",
          "height": 430
        },
        "id": "gHyGbL9gXsC-",
        "outputId": "7f96ee88-aa05-4edf-948a-194a2922fede"
      },
      "outputs": [
        {
          "output_type": "display_data",
          "data": {
            "text/plain": [
              "<Figure size 640x480 with 1 Axes>"
            ],
            "image/png": "[encoded data removed]"
          },
          "metadata": {}
        }
      ],
      "source": [
        "import torch\n",
        "import matplotlib.pyplot as plt\n",
        "from sklearn.datasets import load_wine\n",
        "\n",
        "\n",
        "def show_class_balance(y,classes):\n",
        "  _, counts = torch.unique(torch.tensor(y),return_counts = True)\n",
        "  plt.bar(classes,counts)\n",
        "  plt.ylabel('n_samples')\n",
        "  plt.ylim([0, 75])\n",
        "  plt.show()\n",
        "\n",
        "wine = load_wine()\n",
        "classes = wine.target_names\n",
        "\n",
        "show_class_balance(wine.target,classes)"
      ]
    },
    {
      "cell_type": "markdown",
      "metadata": {
        "id": "-iuQWt4-XsDB"
      },
      "source": [
        "Разница в 10-20% будет незначительна, поэтому для наглядности мы искусственно разбалансируем наш датасет при помощи метода [make_imbalance](https://imbalanced-learn.org/stable/references/generated/imblearn.datasets.make_imbalance.html)"
      ]
    },
    {
      "cell_type": "code",
      "execution_count": null,
      "metadata": {
        "colab": {
          "base_uri": "https://localhost:8080/",
          "height": 430
        },
        "id": "ObxdvsdyXsDB",
        "outputId": "d7cf2c0b-5b9a-49bc-ca86-67ed227c5eb3"
      },
      "outputs": [
        {
          "output_type": "display_data",
          "data": {
            "text/plain": [
              "<Figure size 640x480 with 1 Axes>"
            ],
            "image/png": "[encoded data removed]"
          },
          "metadata": {}
        }
      ],
      "source": [
        "from imblearn.datasets import make_imbalance\n",
        "\n",
        "X,y = make_imbalance(wine.data,wine.target,sampling_strategy={0: 10, 1: 70, 2: 40},random_state=42)\n",
        "show_class_balance(y,classes)"
      ]
    },
    {
      "cell_type": "markdown",
      "metadata": {
        "id": "5BuBto-HXsDL"
      },
      "source": [
        "### Балансирование представленности объектов в батчах\n",
        "\n",
        "В случае нейросетей можно балансировать встречаемость каждого класса не на уровне датасета, а на уровне батча. Например, собираем каждый батч таким образом, чтобы в нем было поровну всех классов.\n",
        "\n",
        " Это может улучшать сходимость даже в случае небольшого дисбаланса или его отсутствия, т.к. мы будем избегать шагов обучения нейросети, в которых она просто не увидела какого-то класса в силу случайных причин.\n",
        "\n",
        "\n",
        "\n",
        "\n",
        "<img src=\"https://ml.gan4x4.ru/msu/dev-1.9/L11/out/batch_balancing.png\" >\n"
      ]
    },
    {
      "cell_type": "markdown",
      "metadata": {
        "id": "gE7EhmQyXsDM"
      },
      "source": [
        "В Pytorch эту функциональность можно получить используя класс [WeightedRandomSampler](https://pytorch.org/docs/stable/data.html#torch.utils.data.WeightedRandomSampler) . Для его инициализации требуется рассчитать вес каждого класса. Сумма весов не обязана быть равна единице."
      ]
    },
    {
      "cell_type": "code",
      "execution_count": null,
      "metadata": {
        "colab": {
          "base_uri": "https://localhost:8080/"
        },
        "id": "obQp0iL8XsDN",
        "outputId": "de3c6919-72a6-4b47-eb30-8acb1bb0efd9"
      },
      "outputs": [
        {
          "output_type": "stream",
          "name": "stdout",
          "text": [
            "Classes:  ['class_0' 'class_1' 'class_2']\n",
            "Weights:  tensor([7.0000, 1.0000, 1.7500])\n"
          ]
        }
      ],
      "source": [
        "import torch\n",
        "# https://pytorch.org/docs/stable/generated/torch.unique.html\n",
        "_, counts = torch.unique(torch.tensor(y),return_counts = True)\n",
        "weights = counts.max() / counts\n",
        "print('Classes: ', classes)\n",
        "print('Weights: ', weights)"
      ]
    },
    {
      "cell_type": "markdown",
      "metadata": {
        "id": "3kND5ayBXsDN"
      },
      "source": [
        "Теперь создаем объект [WeightedRandomSampler](https://pytorch.org/docs/stable/data.html#torch.utils.data.WeightedRandomSampler) в конструктор подаем два аргумента:\n",
        "\n",
        "- список весов для **каждого** элемента в датасете\n",
        "- количество элементов (можно использовать не весь датасет)"
      ]
    },
    {
      "cell_type": "code",
      "execution_count": null,
      "metadata": {
        "id": "MO2j2NVCXsDP"
      },
      "outputs": [],
      "source": [
        "from torch.utils.data import DataLoader,  TensorDataset, WeightedRandomSampler\n",
        "\n",
        "tensor_x = torch.Tensor(X) # transform to torch tensor\n",
        "tensor_y = torch.Tensor(y)\n",
        "dataset = TensorDataset(tensor_x,tensor_y)\n",
        "\n",
        "batch_size = 8\n",
        "\n",
        "weight_for_sample = [] # Every sample must have a weight\n",
        "for l in y:\n",
        "  weight_for_sample.append(weights[l].item())\n",
        "\n",
        "sampler = WeightedRandomSampler(torch.tensor(weight_for_sample),len(dataset))\n",
        "loader = DataLoader(dataset, batch_size=32, drop_last=True, sampler=sampler)"
      ]
    },
    {
      "cell_type": "code",
      "execution_count": null,
      "metadata": {
        "colab": {
          "base_uri": "https://localhost:8080/",
          "height": 482
        },
        "id": "LXiCD1qYXsDQ",
        "outputId": "4b49d907-7924-417f-bdf0-382d95392a54"
      },
      "outputs": [
        {
          "output_type": "stream",
          "name": "stdout",
          "text": [
            "Labels: [1, 1, 2, 1, 0, 0, 0, 0, 2, 0, 0, 0, 1, 1, 0, 2, 1, 1, 1, 0, 0, 1, 0, 2, 2, 1, 0, 2, 0, 2, 2, 2] Classes in batch: [13, 10, 9]\n",
            "Labels: [2, 2, 1, 2, 0, 2, 2, 2, 1, 0, 1, 2, 2, 2, 2, 1, 2, 1, 2, 0, 2, 0, 1, 2, 1, 1, 1, 0, 0, 0, 0, 0] Classes in batch: [9, 9, 14]\n",
            "Labels: [2, 0, 0, 2, 1, 2, 0, 0, 2, 1, 2, 2, 2, 0, 2, 0, 2, 1, 1, 0, 1, 2, 0, 1, 1, 2, 0, 1, 0, 0, 0, 1] Classes in batch: [12, 9, 11]\n"
          ]
        },
        {
          "output_type": "display_data",
          "data": {
            "text/plain": [
              "<Figure size 640x480 with 1 Axes>"
            ],
            "image/png": "[encoded data removed]"
          },
          "metadata": {}
        }
      ],
      "source": [
        "batch_labels = []\n",
        "for data, labels in loader:\n",
        "  print(\"Labels:\",labels.int().tolist(), \"Classes in batch:\",torch.unique(labels,return_counts = True)[1].tolist())\n",
        "  batch_labels.append(labels.tolist())\n",
        "\n",
        "show_class_balance(batch_labels,classes)"
      ]
    },
    {
      "cell_type": "markdown",
      "metadata": {
        "id": "3rsXceN8XsDQ"
      },
      "source": [
        "Результаты будут отличаться от запуска к запуску. Но видно что в батчах объекты каждого класса встречаются почти равномерно."
      ]
    }
  ]
}